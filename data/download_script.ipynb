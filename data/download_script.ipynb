{
 "cells": [
  {
   "cell_type": "markdown",
   "id": "d1a66631-539c-4741-9a5a-879a40528874",
   "metadata": {},
   "source": [
    "<div style=\"hwidth: 100%; background-color: #ddd; overflow:hidden; \">\n",
    "    <div style=\"display: flex; justify-content: center; align-items: center; border-bottom: 10px solid #80c4e7; padding: 3px;\">\n",
    "        <h2 style=\"position: relative; top: 3px; left: 8px;\">S2 Project: DNA Classification - (part0: Retrieve Data)</h2>\n",
    "        <img style=\"position: absolute; height: 68px; top: -2px;; right: 18px\" src=\"./Content/Notebook-images/dna1.png\"/>\n",
    "    </div>\n",
    "    <div style=\"padding: 13px 8px;\">\n",
    "        <h4>Source: <a href=\"https://planttfdb.gao-lab.org\" target=\"_blank\">https://planttfdb.gao-lab.org/</a></h4>\n",
    "    </div>    \n",
    "</div>"
   ]
  },
  {
   "cell_type": "markdown",
   "id": "89d1d08f-31e3-4ab6-a84c-3867a4d3c753",
   "metadata": {},
   "source": [
    "* **Initial setup**"
   ]
  },
  {
   "cell_type": "code",
   "execution_count": 2,
   "id": "841173f7-218c-47d8-8a92-270cb661a59a",
   "metadata": {},
   "outputs": [],
   "source": [
    "import re\n",
    "import os\n",
    "import requests\n",
    "import random\n",
    "import pandas as pd\n",
    "import json"
   ]
  },
  {
   "cell_type": "code",
   "execution_count": 3,
   "id": "665dc395-5849-4341-b6ba-033782412b0a",
   "metadata": {},
   "outputs": [],
   "source": [
    "DOWNLOAD_LINK  = \"https://planttfdb.gao-lab.org/download_seq.php?fam=\"\n",
    "STORAGE_FOLDER = \"./data\"\n",
    "DATA_INDEX     = \"\"\"AP2 (4461) ARF (4578) ARR-B (2354) B3 (10609) BBR-BPC (1256) BES1 (1549) C2H2 (17740) C3H (9693) CAMTA (1343) CO-like (2125) \n",
    "CPP (1612) DBB (1651) Dof (5655) E2F/DP (1781) EIL (1234) ERF (21129) FAR1 (7527) G2-like (9874) GATA (5335) GRAS (9304) GRF (1876) GeBP (1564) \n",
    "HB-PHD (477) HB-other (2277) HD-ZIP (8602) HRT-like (249) HSF (4574) LBD (7216) LFY (253) LSD (957) M-type_MADS (7541) MIKC_MADS (6918) MYB (22032) \n",
    "MYB_related (15369) NAC (19997) NF-X1 (403) NF-YA (2461) NF-YB (3099) NF-YC (2446) NZZ/SPL (109) Nin-like (2766) RAV (690) S1Fa-like (359) SAP (164) \n",
    "SBP (4168) SRS (1327) STAT (214) TALE (4433) TCP (4187) Trihelix (6256) VOZ (635) WOX (2358) WRKY (14549) Whirly (530) YABBY (1719) ZF-HD (2589) bHLH \n",
    "(28698) bZIP (15498)\"\"\""
   ]
  },
  {
   "cell_type": "code",
   "execution_count": 4,
   "id": "68de2a40-be64-4c18-a8fa-8351a638d0ce",
   "metadata": {},
   "outputs": [],
   "source": [
    "CLEANED_INDEX = re.sub(r'\\s*\\(\\d+\\)', '', DATA_INDEX)\n",
    "ID_LIST       = CLEANED_INDEX.split()\n",
    "NUMBER_LIST  = list(map(int, re.findall(r'\\((\\d+)\\)', DATA_INDEX)))"
   ]
  },
  {
   "cell_type": "markdown",
   "id": "88d24631-449b-4867-8902-d71f7fcb8dd5",
   "metadata": {},
   "source": [
    "* **Let's retrieve all dataset**"
   ]
  },
  {
   "cell_type": "code",
   "execution_count": 5,
   "id": "748871a4-9762-4822-84de-3031f2bc6fd1",
   "metadata": {},
   "outputs": [],
   "source": [
    "os.makedirs(STORAGE_FOLDER, exist_ok=True)\n",
    "def download_and_save_content(id):\n",
    "    url = f\"{DOWNLOAD_LINK}{id}\"\n",
    "    filename = f\"{id.replace('/', '__')}.fas\"    \n",
    "    file_path = os.path.join(STORAGE_FOLDER, filename)\n",
    "    if os.path.exists(file_path):\n",
    "        print(f\"== File {filename} already exists\")\n",
    "        return\n",
    "    \n",
    "    response = requests.get(url, stream=True)\n",
    "    if response.status_code == 200:\n",
    "        with open(file_path, 'wb') as file:\n",
    "            for chunk in response.iter_content(chunk_size=8192):\n",
    "                file.write(chunk)\n",
    "        print(f\">> Successfully downloaded {filename}\")\n",
    "    else:\n",
    "        print(f\"!! Failed to download {id}, HTTP Status Code: {response.status_code}\")"
   ]
  },
  {
   "cell_type": "code",
   "execution_count": 22,
   "id": "a5c5913c-3065-4e75-906e-974b8abb74fd",
   "metadata": {},
   "outputs": [
    {
     "name": "stdout",
     "output_type": "stream",
     "text": [
      "== File AP2.fas already exists\n",
      "== File ARF.fas already exists\n",
      "== File ARR-B.fas already exists\n",
      "== File B3.fas already exists\n",
      "== File BBR-BPC.fas already exists\n",
      "== File BES1.fas already exists\n",
      "== File C2H2.fas already exists\n",
      "== File C3H.fas already exists\n",
      "== File CAMTA.fas already exists\n",
      "== File CO-like.fas already exists\n",
      "== File CPP.fas already exists\n",
      "== File DBB.fas already exists\n",
      "== File Dof.fas already exists\n",
      "== File E2F__DP.fas already exists\n",
      "== File EIL.fas already exists\n",
      "== File ERF.fas already exists\n",
      "== File FAR1.fas already exists\n",
      "== File G2-like.fas already exists\n",
      "== File GATA.fas already exists\n",
      "== File GRAS.fas already exists\n",
      "== File GRF.fas already exists\n",
      "== File GeBP.fas already exists\n",
      "== File HB-PHD.fas already exists\n",
      "== File HB-other.fas already exists\n",
      "== File HD-ZIP.fas already exists\n",
      "== File HRT-like.fas already exists\n",
      "== File HSF.fas already exists\n",
      "== File LBD.fas already exists\n",
      "== File LFY.fas already exists\n",
      "== File LSD.fas already exists\n",
      "== File M-type_MADS.fas already exists\n",
      "== File MIKC_MADS.fas already exists\n",
      "== File MYB.fas already exists\n",
      "== File MYB_related.fas already exists\n",
      "== File NAC.fas already exists\n",
      "== File NF-X1.fas already exists\n",
      "== File NF-YA.fas already exists\n",
      "== File NF-YB.fas already exists\n",
      "== File NF-YC.fas already exists\n",
      "== File NZZ__SPL.fas already exists\n",
      "== File Nin-like.fas already exists\n",
      "== File RAV.fas already exists\n",
      "== File S1Fa-like.fas already exists\n",
      "== File SAP.fas already exists\n",
      "== File SBP.fas already exists\n",
      "== File SRS.fas already exists\n",
      "== File STAT.fas already exists\n",
      "== File TALE.fas already exists\n",
      "== File TCP.fas already exists\n",
      "== File Trihelix.fas already exists\n",
      "== File VOZ.fas already exists\n",
      "== File WOX.fas already exists\n",
      "== File WRKY.fas already exists\n",
      "== File Whirly.fas already exists\n",
      "== File YABBY.fas already exists\n",
      "== File ZF-HD.fas already exists\n",
      "== File bHLH.fas already exists\n",
      "== File bZIP.fas already exists\n"
     ]
    }
   ],
   "source": [
    "# Loop through the ID_LIST and download each one\n",
    "for id in ID_LIST:\n",
    "    download_and_save_content(id)"
   ]
  },
  {
   "cell_type": "code",
   "execution_count": 6,
   "id": "fe98bbbf-b342-4895-a73c-41fd03d44fd9",
   "metadata": {},
   "outputs": [],
   "source": [
    "data_dict = {}\n",
    "for i, key in enumerate(ID_LIST):\n",
    "    filename = f\"{key.replace('/', '__')}.fas\"    \n",
    "    data_dict[key] = {'file_code': key.replace('/', '__'), 'filename': os.path.join(\"\", filename), 'count': NUMBER_LIST[i]}"
   ]
  },
  {
   "cell_type": "code",
   "execution_count": 8,
   "id": "b153d8db-9b43-47fa-9e1c-bf7979feafff",
   "metadata": {},
   "outputs": [],
   "source": [
    "file_path = \"./gene_info.json\"\n",
    "with open(file_path, 'w') as json_file:\n",
    "    json.dump(data_dict, json_file, indent=4) "
   ]
  }
 ],
 "metadata": {
  "kernelspec": {
   "display_name": "Python 3 (ipykernel)",
   "language": "python",
   "name": "python3"
  },
  "language_info": {
   "codemirror_mode": {
    "name": "ipython",
    "version": 3
   },
   "file_extension": ".py",
   "mimetype": "text/x-python",
   "name": "python",
   "nbconvert_exporter": "python",
   "pygments_lexer": "ipython3",
   "version": "3.11.7"
  }
 },
 "nbformat": 4,
 "nbformat_minor": 5
}
