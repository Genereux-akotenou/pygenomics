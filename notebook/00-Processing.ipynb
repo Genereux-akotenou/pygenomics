{
 "cells": [
  {
   "cell_type": "markdown",
   "id": "d1a66631-539c-4741-9a5a-879a40528874",
   "metadata": {},
   "source": [
    "<div style=\"hwidth: 100%; background-color: #ddd; overflow:hidden; \">\n",
    "    <div style=\"display: flex; justify-content: center; align-items: center; border-bottom: 10px solid #80c4e7; padding: 3px;\">\n",
    "        <h2 style=\"position: relative; top: 3px; left: 8px;\">S2 Project: DNA Classification - (part0: Retrieve Data)</h2>\n",
    "        <img style=\"position: absolute; height: 68px; top: -2px;; right: 18px\" src=\"./Content/Notebook-images/dna1.png\"/>\n",
    "    </div>  \n",
    "</div>"
   ]
  },
  {
   "cell_type": "markdown",
   "id": "89d1d08f-31e3-4ab6-a84c-3867a4d3c753",
   "metadata": {},
   "source": [
    "* **Initial setup**"
   ]
  },
  {
   "cell_type": "code",
   "execution_count": 1,
   "id": "841173f7-218c-47d8-8a92-270cb661a59a",
   "metadata": {},
   "outputs": [],
   "source": [
    "import re, os, sys, json, random, requests\n",
    "from  tqdm import tqdm\n",
    "import pandas as pd\n",
    "from sklearn.utils import resample\n",
    "\n",
    "current_directory = os.getcwd()\n",
    "root_directory = os.path.abspath(os.path.join(current_directory, os.pardir))\n",
    "utils_directory = os.path.join(root_directory, 'processing')\n",
    "sys.path.append(utils_directory)\n",
    "\n",
    "# Import Utils\n",
    "import fasta"
   ]
  },
  {
   "cell_type": "markdown",
   "id": "2e309094-c598-4e30-9326-92f0e0e66c65",
   "metadata": {},
   "source": [
    "* **Read fasta**<br>\n",
    "\n",
    "We will read our fasta file and remove unkown character and save this in unique dataset<br>\n",
    "We will then create k-mer dataset  for k-values={2, 3, 4, 5}"
   ]
  },
  {
   "cell_type": "code",
   "execution_count": 9,
   "id": "7aa883d5-5dbb-4de3-a254-804a595cc151",
   "metadata": {},
   "outputs": [],
   "source": [
    "gene_info_path = \"../data/gene_info.json\"\n",
    "fasta_dir      = \"../data/raw_data/\"\n",
    "storage_dir    = \"../data/one_vs_other/\"\n",
    "\n",
    "with open(gene_info_path, 'r') as json_file:\n",
    "    gene_info = json.load(json_file)"
   ]
  },
  {
   "cell_type": "markdown",
   "id": "5419b164-26c2-4a81-a671-e2bae3b9d485",
   "metadata": {},
   "source": [
    "**Note**: Create the one-vs-other datasets and save the dataset for one gene to a CSV file"
   ]
  },
  {
   "cell_type": "code",
   "execution_count": 5,
   "id": "ddbe5617-786f-4b07-9c5e-32cca3c600d5",
   "metadata": {},
   "outputs": [],
   "source": [
    "def create_one_vs_other_dataset(gene_info, fasta_dir, storage_dir):\n",
    "    for gene, info in gene_info.items():\n",
    "        print('Processing : ', gene)\n",
    "        # Read the current gene's fasta file\n",
    "        file_path = os.path.join(fasta_dir, info['filename'])\n",
    "        gene_df = fasta.read(file_path, family=1)\n",
    "\n",
    "        # Read and combine all other genes' fasta files, sampling proportionally\n",
    "        other_dfs = []\n",
    "        total_other_count = sum(other_info['count'] for other_gene, other_info in gene_info.items() if other_gene != gene)\n",
    "        for other_gene, other_info in tqdm(gene_info.items()):\n",
    "            if other_gene != gene:\n",
    "                other_file_path = os.path.join(fasta_dir, other_info['filename'])\n",
    "                other_df = fasta.read(other_file_path, family=0)\n",
    "                \n",
    "                # Calculate the proportion of samples to take from this other gene\n",
    "                proportion = other_info['count'] / total_other_count\n",
    "                num_samples = max(1, int(proportion * info['count']))\n",
    "                #print('proportion: ', proportion)\n",
    "                #print('num_samples: ', num_samples)\n",
    "                \n",
    "                # Resample the other gene dataframe\n",
    "                other_df_resampled = resample(other_df, \n",
    "                                              replace=False, \n",
    "                                              n_samples=num_samples, \n",
    "                                              random_state=42)\n",
    "                other_dfs.append(other_df_resampled)\n",
    "\n",
    "        # Combine current gene and sampled other genes into one dataframe\n",
    "        other_df_combined = pd.concat(other_dfs, ignore_index=True)\n",
    "        combined_df = pd.concat([gene_df, other_df_combined], ignore_index=True)\n",
    "\n",
    "        # Store the dataframe in the dictionary\n",
    "        gene_filename = f\"{gene.replace('/', '__')}.csv\"  \n",
    "        combined_df.to_csv(storage_dir+gene_filename, index=False)"
   ]
  },
  {
   "cell_type": "code",
   "execution_count": 6,
   "id": "b1c013c9-ba9c-4e05-ad08-2ef838eb124a",
   "metadata": {},
   "outputs": [
    {
     "name": "stdout",
     "output_type": "stream",
     "text": [
      "Processing :  AP2\n"
     ]
    },
    {
     "name": "stderr",
     "output_type": "stream",
     "text": [
      "100%|█████████████████████████████████████████| 58/58 [00:04<00:00, 11.87it/s]\n"
     ]
    },
    {
     "name": "stdout",
     "output_type": "stream",
     "text": [
      "Processing :  ARF\n"
     ]
    },
    {
     "name": "stderr",
     "output_type": "stream",
     "text": [
      "100%|█████████████████████████████████████████| 58/58 [00:04<00:00, 11.63it/s]\n"
     ]
    },
    {
     "name": "stdout",
     "output_type": "stream",
     "text": [
      "Processing :  ARR-B\n"
     ]
    },
    {
     "name": "stderr",
     "output_type": "stream",
     "text": [
      "100%|█████████████████████████████████████████| 58/58 [00:05<00:00, 11.30it/s]\n"
     ]
    },
    {
     "name": "stdout",
     "output_type": "stream",
     "text": [
      "Processing :  B3\n"
     ]
    },
    {
     "name": "stderr",
     "output_type": "stream",
     "text": [
      "100%|█████████████████████████████████████████| 58/58 [00:04<00:00, 11.90it/s]\n"
     ]
    },
    {
     "name": "stdout",
     "output_type": "stream",
     "text": [
      "Processing :  BBR-BPC\n"
     ]
    },
    {
     "name": "stderr",
     "output_type": "stream",
     "text": [
      "100%|█████████████████████████████████████████| 58/58 [00:05<00:00, 11.27it/s]\n"
     ]
    },
    {
     "name": "stdout",
     "output_type": "stream",
     "text": [
      "Processing :  BES1\n"
     ]
    },
    {
     "name": "stderr",
     "output_type": "stream",
     "text": [
      "100%|█████████████████████████████████████████| 58/58 [00:04<00:00, 11.68it/s]\n"
     ]
    },
    {
     "name": "stdout",
     "output_type": "stream",
     "text": [
      "Processing :  C2H2\n"
     ]
    },
    {
     "name": "stderr",
     "output_type": "stream",
     "text": [
      "100%|█████████████████████████████████████████| 58/58 [00:04<00:00, 12.20it/s]\n"
     ]
    },
    {
     "name": "stdout",
     "output_type": "stream",
     "text": [
      "Processing :  C3H\n"
     ]
    },
    {
     "name": "stderr",
     "output_type": "stream",
     "text": [
      "100%|█████████████████████████████████████████| 58/58 [00:04<00:00, 11.98it/s]\n"
     ]
    },
    {
     "name": "stdout",
     "output_type": "stream",
     "text": [
      "Processing :  CAMTA\n"
     ]
    },
    {
     "name": "stderr",
     "output_type": "stream",
     "text": [
      "100%|█████████████████████████████████████████| 58/58 [00:04<00:00, 11.74it/s]\n"
     ]
    },
    {
     "name": "stdout",
     "output_type": "stream",
     "text": [
      "Processing :  CO-like\n"
     ]
    },
    {
     "name": "stderr",
     "output_type": "stream",
     "text": [
      "100%|█████████████████████████████████████████| 58/58 [00:04<00:00, 11.68it/s]\n"
     ]
    },
    {
     "name": "stdout",
     "output_type": "stream",
     "text": [
      "Processing :  CPP\n"
     ]
    },
    {
     "name": "stderr",
     "output_type": "stream",
     "text": [
      "100%|█████████████████████████████████████████| 58/58 [00:04<00:00, 11.63it/s]\n"
     ]
    },
    {
     "name": "stdout",
     "output_type": "stream",
     "text": [
      "Processing :  DBB\n"
     ]
    },
    {
     "name": "stderr",
     "output_type": "stream",
     "text": [
      "100%|█████████████████████████████████████████| 58/58 [00:04<00:00, 11.76it/s]\n"
     ]
    },
    {
     "name": "stdout",
     "output_type": "stream",
     "text": [
      "Processing :  Dof\n"
     ]
    },
    {
     "name": "stderr",
     "output_type": "stream",
     "text": [
      "100%|█████████████████████████████████████████| 58/58 [00:04<00:00, 11.74it/s]\n"
     ]
    },
    {
     "name": "stdout",
     "output_type": "stream",
     "text": [
      "Processing :  E2F/DP\n"
     ]
    },
    {
     "name": "stderr",
     "output_type": "stream",
     "text": [
      "100%|█████████████████████████████████████████| 58/58 [00:04<00:00, 11.70it/s]\n"
     ]
    },
    {
     "name": "stdout",
     "output_type": "stream",
     "text": [
      "Processing :  EIL\n"
     ]
    },
    {
     "name": "stderr",
     "output_type": "stream",
     "text": [
      "100%|█████████████████████████████████████████| 58/58 [00:04<00:00, 11.73it/s]\n"
     ]
    },
    {
     "name": "stdout",
     "output_type": "stream",
     "text": [
      "Processing :  ERF\n"
     ]
    },
    {
     "name": "stderr",
     "output_type": "stream",
     "text": [
      "100%|█████████████████████████████████████████| 58/58 [00:04<00:00, 12.13it/s]\n"
     ]
    },
    {
     "name": "stdout",
     "output_type": "stream",
     "text": [
      "Processing :  FAR1\n"
     ]
    },
    {
     "name": "stderr",
     "output_type": "stream",
     "text": [
      "100%|█████████████████████████████████████████| 58/58 [00:04<00:00, 11.92it/s]\n"
     ]
    },
    {
     "name": "stdout",
     "output_type": "stream",
     "text": [
      "Processing :  G2-like\n"
     ]
    },
    {
     "name": "stderr",
     "output_type": "stream",
     "text": [
      "100%|█████████████████████████████████████████| 58/58 [00:04<00:00, 11.96it/s]\n"
     ]
    },
    {
     "name": "stdout",
     "output_type": "stream",
     "text": [
      "Processing :  GATA\n"
     ]
    },
    {
     "name": "stderr",
     "output_type": "stream",
     "text": [
      "100%|█████████████████████████████████████████| 58/58 [00:04<00:00, 11.74it/s]\n"
     ]
    },
    {
     "name": "stdout",
     "output_type": "stream",
     "text": [
      "Processing :  GRAS\n"
     ]
    },
    {
     "name": "stderr",
     "output_type": "stream",
     "text": [
      "100%|█████████████████████████████████████████| 58/58 [00:04<00:00, 12.02it/s]\n"
     ]
    },
    {
     "name": "stdout",
     "output_type": "stream",
     "text": [
      "Processing :  GRF\n"
     ]
    },
    {
     "name": "stderr",
     "output_type": "stream",
     "text": [
      "100%|█████████████████████████████████████████| 58/58 [00:05<00:00, 11.59it/s]\n"
     ]
    },
    {
     "name": "stdout",
     "output_type": "stream",
     "text": [
      "Processing :  GeBP\n"
     ]
    },
    {
     "name": "stderr",
     "output_type": "stream",
     "text": [
      "100%|█████████████████████████████████████████| 58/58 [00:04<00:00, 11.74it/s]\n"
     ]
    },
    {
     "name": "stdout",
     "output_type": "stream",
     "text": [
      "Processing :  HB-PHD\n"
     ]
    },
    {
     "name": "stderr",
     "output_type": "stream",
     "text": [
      "100%|█████████████████████████████████████████| 58/58 [00:05<00:00, 11.55it/s]\n"
     ]
    },
    {
     "name": "stdout",
     "output_type": "stream",
     "text": [
      "Processing :  HB-other\n"
     ]
    },
    {
     "name": "stderr",
     "output_type": "stream",
     "text": [
      "100%|█████████████████████████████████████████| 58/58 [00:05<00:00, 11.57it/s]\n"
     ]
    },
    {
     "name": "stdout",
     "output_type": "stream",
     "text": [
      "Processing :  HD-ZIP\n"
     ]
    },
    {
     "name": "stderr",
     "output_type": "stream",
     "text": [
      "100%|█████████████████████████████████████████| 58/58 [00:04<00:00, 11.99it/s]\n"
     ]
    },
    {
     "name": "stdout",
     "output_type": "stream",
     "text": [
      "Processing :  HRT-like\n"
     ]
    },
    {
     "name": "stderr",
     "output_type": "stream",
     "text": [
      "100%|█████████████████████████████████████████| 58/58 [00:05<00:00, 11.51it/s]\n"
     ]
    },
    {
     "name": "stdout",
     "output_type": "stream",
     "text": [
      "Processing :  HSF\n"
     ]
    },
    {
     "name": "stderr",
     "output_type": "stream",
     "text": [
      "100%|█████████████████████████████████████████| 58/58 [00:04<00:00, 11.84it/s]\n"
     ]
    },
    {
     "name": "stdout",
     "output_type": "stream",
     "text": [
      "Processing :  LBD\n"
     ]
    },
    {
     "name": "stderr",
     "output_type": "stream",
     "text": [
      "100%|█████████████████████████████████████████| 58/58 [00:04<00:00, 11.77it/s]\n"
     ]
    },
    {
     "name": "stdout",
     "output_type": "stream",
     "text": [
      "Processing :  LFY\n"
     ]
    },
    {
     "name": "stderr",
     "output_type": "stream",
     "text": [
      "100%|█████████████████████████████████████████| 58/58 [00:04<00:00, 11.61it/s]\n"
     ]
    },
    {
     "name": "stdout",
     "output_type": "stream",
     "text": [
      "Processing :  LSD\n"
     ]
    },
    {
     "name": "stderr",
     "output_type": "stream",
     "text": [
      "100%|█████████████████████████████████████████| 58/58 [00:04<00:00, 11.75it/s]\n"
     ]
    },
    {
     "name": "stdout",
     "output_type": "stream",
     "text": [
      "Processing :  M-type_MADS\n"
     ]
    },
    {
     "name": "stderr",
     "output_type": "stream",
     "text": [
      "100%|█████████████████████████████████████████| 58/58 [00:04<00:00, 11.81it/s]\n"
     ]
    },
    {
     "name": "stdout",
     "output_type": "stream",
     "text": [
      "Processing :  MIKC_MADS\n"
     ]
    },
    {
     "name": "stderr",
     "output_type": "stream",
     "text": [
      "100%|█████████████████████████████████████████| 58/58 [00:05<00:00, 11.16it/s]\n"
     ]
    },
    {
     "name": "stdout",
     "output_type": "stream",
     "text": [
      "Processing :  MYB\n"
     ]
    },
    {
     "name": "stderr",
     "output_type": "stream",
     "text": [
      "100%|█████████████████████████████████████████| 58/58 [00:04<00:00, 12.30it/s]\n"
     ]
    },
    {
     "name": "stdout",
     "output_type": "stream",
     "text": [
      "Processing :  MYB_related\n"
     ]
    },
    {
     "name": "stderr",
     "output_type": "stream",
     "text": [
      "100%|█████████████████████████████████████████| 58/58 [00:04<00:00, 12.01it/s]\n"
     ]
    },
    {
     "name": "stdout",
     "output_type": "stream",
     "text": [
      "Processing :  NAC\n"
     ]
    },
    {
     "name": "stderr",
     "output_type": "stream",
     "text": [
      "100%|█████████████████████████████████████████| 58/58 [00:04<00:00, 12.07it/s]\n"
     ]
    },
    {
     "name": "stdout",
     "output_type": "stream",
     "text": [
      "Processing :  NF-X1\n"
     ]
    },
    {
     "name": "stderr",
     "output_type": "stream",
     "text": [
      "100%|█████████████████████████████████████████| 58/58 [00:05<00:00, 11.53it/s]\n"
     ]
    },
    {
     "name": "stdout",
     "output_type": "stream",
     "text": [
      "Processing :  NF-YA\n"
     ]
    },
    {
     "name": "stderr",
     "output_type": "stream",
     "text": [
      "100%|█████████████████████████████████████████| 58/58 [00:04<00:00, 11.77it/s]\n"
     ]
    },
    {
     "name": "stdout",
     "output_type": "stream",
     "text": [
      "Processing :  NF-YB\n"
     ]
    },
    {
     "name": "stderr",
     "output_type": "stream",
     "text": [
      "100%|█████████████████████████████████████████| 58/58 [00:04<00:00, 11.68it/s]\n"
     ]
    },
    {
     "name": "stdout",
     "output_type": "stream",
     "text": [
      "Processing :  NF-YC\n"
     ]
    },
    {
     "name": "stderr",
     "output_type": "stream",
     "text": [
      "100%|█████████████████████████████████████████| 58/58 [00:04<00:00, 11.82it/s]\n"
     ]
    },
    {
     "name": "stdout",
     "output_type": "stream",
     "text": [
      "Processing :  NZZ/SPL\n"
     ]
    },
    {
     "name": "stderr",
     "output_type": "stream",
     "text": [
      "100%|█████████████████████████████████████████| 58/58 [00:04<00:00, 11.72it/s]\n"
     ]
    },
    {
     "name": "stdout",
     "output_type": "stream",
     "text": [
      "Processing :  Nin-like\n"
     ]
    },
    {
     "name": "stderr",
     "output_type": "stream",
     "text": [
      "100%|█████████████████████████████████████████| 58/58 [00:04<00:00, 11.88it/s]\n"
     ]
    },
    {
     "name": "stdout",
     "output_type": "stream",
     "text": [
      "Processing :  RAV\n"
     ]
    },
    {
     "name": "stderr",
     "output_type": "stream",
     "text": [
      "100%|█████████████████████████████████████████| 58/58 [00:04<00:00, 11.63it/s]\n"
     ]
    },
    {
     "name": "stdout",
     "output_type": "stream",
     "text": [
      "Processing :  S1Fa-like\n"
     ]
    },
    {
     "name": "stderr",
     "output_type": "stream",
     "text": [
      "100%|█████████████████████████████████████████| 58/58 [00:04<00:00, 11.76it/s]\n"
     ]
    },
    {
     "name": "stdout",
     "output_type": "stream",
     "text": [
      "Processing :  SAP\n"
     ]
    },
    {
     "name": "stderr",
     "output_type": "stream",
     "text": [
      "100%|█████████████████████████████████████████| 58/58 [00:04<00:00, 11.78it/s]\n"
     ]
    },
    {
     "name": "stdout",
     "output_type": "stream",
     "text": [
      "Processing :  SBP\n"
     ]
    },
    {
     "name": "stderr",
     "output_type": "stream",
     "text": [
      "100%|█████████████████████████████████████████| 58/58 [00:04<00:00, 11.83it/s]\n"
     ]
    },
    {
     "name": "stdout",
     "output_type": "stream",
     "text": [
      "Processing :  SRS\n"
     ]
    },
    {
     "name": "stderr",
     "output_type": "stream",
     "text": [
      "100%|█████████████████████████████████████████| 58/58 [00:04<00:00, 11.68it/s]\n"
     ]
    },
    {
     "name": "stdout",
     "output_type": "stream",
     "text": [
      "Processing :  STAT\n"
     ]
    },
    {
     "name": "stderr",
     "output_type": "stream",
     "text": [
      "100%|█████████████████████████████████████████| 58/58 [00:04<00:00, 11.66it/s]\n"
     ]
    },
    {
     "name": "stdout",
     "output_type": "stream",
     "text": [
      "Processing :  TALE\n"
     ]
    },
    {
     "name": "stderr",
     "output_type": "stream",
     "text": [
      "100%|█████████████████████████████████████████| 58/58 [00:04<00:00, 11.68it/s]\n"
     ]
    },
    {
     "name": "stdout",
     "output_type": "stream",
     "text": [
      "Processing :  TCP\n"
     ]
    },
    {
     "name": "stderr",
     "output_type": "stream",
     "text": [
      "100%|█████████████████████████████████████████| 58/58 [00:04<00:00, 11.79it/s]\n"
     ]
    },
    {
     "name": "stdout",
     "output_type": "stream",
     "text": [
      "Processing :  Trihelix\n"
     ]
    },
    {
     "name": "stderr",
     "output_type": "stream",
     "text": [
      "100%|█████████████████████████████████████████| 58/58 [00:05<00:00, 11.57it/s]\n"
     ]
    },
    {
     "name": "stdout",
     "output_type": "stream",
     "text": [
      "Processing :  VOZ\n"
     ]
    },
    {
     "name": "stderr",
     "output_type": "stream",
     "text": [
      "100%|█████████████████████████████████████████| 58/58 [00:04<00:00, 11.62it/s]\n"
     ]
    },
    {
     "name": "stdout",
     "output_type": "stream",
     "text": [
      "Processing :  WOX\n"
     ]
    },
    {
     "name": "stderr",
     "output_type": "stream",
     "text": [
      "100%|█████████████████████████████████████████| 58/58 [00:05<00:00, 11.47it/s]\n"
     ]
    },
    {
     "name": "stdout",
     "output_type": "stream",
     "text": [
      "Processing :  WRKY\n"
     ]
    },
    {
     "name": "stderr",
     "output_type": "stream",
     "text": [
      "100%|█████████████████████████████████████████| 58/58 [00:04<00:00, 12.11it/s]\n"
     ]
    },
    {
     "name": "stdout",
     "output_type": "stream",
     "text": [
      "Processing :  Whirly\n"
     ]
    },
    {
     "name": "stderr",
     "output_type": "stream",
     "text": [
      "100%|█████████████████████████████████████████| 58/58 [00:05<00:00, 11.38it/s]\n"
     ]
    },
    {
     "name": "stdout",
     "output_type": "stream",
     "text": [
      "Processing :  YABBY\n"
     ]
    },
    {
     "name": "stderr",
     "output_type": "stream",
     "text": [
      "100%|█████████████████████████████████████████| 58/58 [00:04<00:00, 11.71it/s]\n"
     ]
    },
    {
     "name": "stdout",
     "output_type": "stream",
     "text": [
      "Processing :  ZF-HD\n"
     ]
    },
    {
     "name": "stderr",
     "output_type": "stream",
     "text": [
      "100%|█████████████████████████████████████████| 58/58 [00:05<00:00, 11.56it/s]\n"
     ]
    },
    {
     "name": "stdout",
     "output_type": "stream",
     "text": [
      "Processing :  bHLH\n"
     ]
    },
    {
     "name": "stderr",
     "output_type": "stream",
     "text": [
      "100%|█████████████████████████████████████████| 58/58 [00:04<00:00, 12.53it/s]\n"
     ]
    },
    {
     "name": "stdout",
     "output_type": "stream",
     "text": [
      "Processing :  bZIP\n"
     ]
    },
    {
     "name": "stderr",
     "output_type": "stream",
     "text": [
      "100%|█████████████████████████████████████████| 58/58 [00:04<00:00, 11.86it/s]\n"
     ]
    }
   ],
   "source": [
    "create_one_vs_other_dataset(gene_info, fasta_dir, storage_dir)"
   ]
  },
  {
   "cell_type": "markdown",
   "id": "f163c08f-3b2d-4b03-9905-8904b880c85b",
   "metadata": {},
   "source": [
    "* **Check**<br>\n",
    "\n",
    "We check if we have good processign file checking 20 preteiene and extra X character\n"
   ]
  },
  {
   "cell_type": "code",
   "execution_count": 17,
   "id": "c854da43-522a-462b-87f9-5a24b3d1bddc",
   "metadata": {},
   "outputs": [
    {
     "name": "stdout",
     "output_type": "stream",
     "text": [
      "\n",
      ">>> Class Distribution:  AP2\n",
      "       Count  Percentage\n",
      "class                   \n",
      "1       4461       50.16\n",
      "0       4433       49.84\n",
      "\n",
      "Total Samples: 8894\n",
      "Imbalance Ratio: 1.0063162643807806\n",
      "\n",
      ">>> Class Distribution:  ARF\n",
      "       Count  Percentage\n",
      "class                   \n",
      "1       4578       50.16\n",
      "0       4549       49.84\n",
      "\n",
      "Total Samples: 9127\n",
      "Imbalance Ratio: 1.0063750274785668\n",
      "\n",
      ">>> Class Distribution:  ARR-B\n",
      "       Count  Percentage\n",
      "class                   \n",
      "1       2354       50.33\n",
      "0       2323       49.67\n",
      "\n",
      "Total Samples: 4677\n",
      "Imbalance Ratio: 1.0133448127421438\n",
      "\n",
      ">>> Class Distribution:  B3\n",
      "       Count  Percentage\n",
      "class                   \n",
      "1      10609       50.08\n",
      "0      10576       49.92\n",
      "\n",
      "Total Samples: 21185\n",
      "Imbalance Ratio: 1.0031202723146748\n",
      "\n",
      ">>> Class Distribution:  BBR-BPC\n",
      "       Count  Percentage\n",
      "class                   \n",
      "1       1256        50.5\n",
      "0       1231        49.5\n",
      "\n",
      "Total Samples: 2487\n",
      "Imbalance Ratio: 1.0203086921202276\n",
      "\n",
      ">>> Class Distribution:  BES1\n",
      "       Count  Percentage\n",
      "class                   \n",
      "1       1549       50.39\n",
      "0       1525       49.61\n",
      "\n",
      "Total Samples: 3074\n",
      "Imbalance Ratio: 1.0157377049180327\n",
      "\n",
      ">>> Class Distribution:  C2H2\n",
      "       Count  Percentage\n",
      "class                   \n",
      "1      17740       50.04\n",
      "0      17710       49.96\n",
      "\n",
      "Total Samples: 35450\n",
      "Imbalance Ratio: 1.0016939582156974\n",
      "\n",
      ">>> Class Distribution:  C3H\n",
      "       Count  Percentage\n",
      "class                   \n",
      "1       9693       50.07\n",
      "0       9664       49.93\n",
      "\n",
      "Total Samples: 19357\n",
      "Imbalance Ratio: 1.0030008278145695\n",
      "\n",
      ">>> Class Distribution:  CAMTA\n",
      "       Count  Percentage\n",
      "class                   \n",
      "1       1343       50.51\n",
      "0       1316       49.49\n",
      "\n",
      "Total Samples: 2659\n",
      "Imbalance Ratio: 1.0205167173252279\n",
      "\n",
      ">>> Class Distribution:  CO-like\n",
      "       Count  Percentage\n",
      "class                   \n",
      "1       2125       50.33\n",
      "0       2097       49.67\n",
      "\n",
      "Total Samples: 4222\n",
      "Imbalance Ratio: 1.0133524082021936\n",
      "\n",
      ">>> Class Distribution:  CPP\n",
      "       Count  Percentage\n",
      "class                   \n",
      "1       1612       50.41\n",
      "0       1586       49.59\n",
      "\n",
      "Total Samples: 3198\n",
      "Imbalance Ratio: 1.0163934426229508\n",
      "\n",
      ">>> Class Distribution:  DBB\n",
      "       Count  Percentage\n",
      "class                   \n",
      "1       1651        50.4\n",
      "0       1625        49.6\n",
      "\n",
      "Total Samples: 3276\n",
      "Imbalance Ratio: 1.016\n",
      "\n",
      ">>> Class Distribution:  Dof\n",
      "       Count  Percentage\n",
      "class                   \n",
      "1       5655       50.13\n",
      "0       5626       49.87\n",
      "\n",
      "Total Samples: 11281\n",
      "Imbalance Ratio: 1.0051546391752577\n",
      "\n",
      ">>> Class Distribution:  E2F/DP\n",
      "       Count  Percentage\n",
      "class                   \n",
      "1       1781       50.35\n",
      "0       1756       49.65\n",
      "\n",
      "Total Samples: 3537\n",
      "Imbalance Ratio: 1.0142369020501139\n",
      "\n",
      ">>> Class Distribution:  EIL\n",
      "       Count  Percentage\n",
      "class                   \n",
      "1       1234       50.47\n",
      "0       1211       49.53\n",
      "\n",
      "Total Samples: 2445\n",
      "Imbalance Ratio: 1.018992568125516\n",
      "\n",
      ">>> Class Distribution:  ERF\n",
      "       Count  Percentage\n",
      "class                   \n",
      "1      21129       50.04\n",
      "0      21099       49.96\n",
      "\n",
      "Total Samples: 42228\n",
      "Imbalance Ratio: 1.0014218683349922\n",
      "\n",
      ">>> Class Distribution:  FAR1\n",
      "       Count  Percentage\n",
      "class                   \n",
      "1       7527       50.09\n",
      "0       7499       49.91\n",
      "\n",
      "Total Samples: 15026\n",
      "Imbalance Ratio: 1.0037338311774904\n",
      "\n",
      ">>> Class Distribution:  G2-like\n",
      "       Count  Percentage\n",
      "class                   \n",
      "1       9874       50.09\n",
      "0       9840       49.91\n",
      "\n",
      "Total Samples: 19714\n",
      "Imbalance Ratio: 1.0034552845528455\n",
      "\n",
      ">>> Class Distribution:  GATA\n",
      "       Count  Percentage\n",
      "class                   \n",
      "1       5335       50.15\n",
      "0       5304       49.85\n",
      "\n",
      "Total Samples: 10639\n",
      "Imbalance Ratio: 1.0058446455505279\n",
      "\n",
      ">>> Class Distribution:  GRAS\n",
      "       Count  Percentage\n",
      "class                   \n",
      "1       9304       50.08\n",
      "0       9275       49.92\n",
      "\n",
      "Total Samples: 18579\n",
      "Imbalance Ratio: 1.0031266846361186\n",
      "\n",
      ">>> Class Distribution:  GRF\n",
      "       Count  Percentage\n",
      "class                   \n",
      "1       1876       50.35\n",
      "0       1850       49.65\n",
      "\n",
      "Total Samples: 3726\n",
      "Imbalance Ratio: 1.0140540540540541\n",
      "\n",
      ">>> Class Distribution:  GeBP\n",
      "       Count  Percentage\n",
      "class                   \n",
      "1       1564        50.4\n",
      "0       1539        49.6\n",
      "\n",
      "Total Samples: 3103\n",
      "Imbalance Ratio: 1.0162443144899285\n",
      "\n",
      ">>> Class Distribution:  HB-PHD\n",
      "       Count  Percentage\n",
      "class                   \n",
      "1        477       51.18\n",
      "0        455       48.82\n",
      "\n",
      "Total Samples: 932\n",
      "Imbalance Ratio: 1.0483516483516484\n",
      "\n",
      ">>> Class Distribution:  HB-other\n",
      "       Count  Percentage\n",
      "class                   \n",
      "1       2277       50.38\n",
      "0       2243       49.62\n",
      "\n",
      "Total Samples: 4520\n",
      "Imbalance Ratio: 1.0151582701738742\n",
      "\n",
      ">>> Class Distribution:  HD-ZIP\n",
      "       Count  Percentage\n",
      "class                   \n",
      "1       8602       50.08\n",
      "0       8574       49.92\n",
      "\n",
      "Total Samples: 17176\n",
      "Imbalance Ratio: 1.0032656869605785\n",
      "\n",
      ">>> Class Distribution:  HRT-like\n",
      "       Count  Percentage\n",
      "class                   \n",
      "1        249       51.34\n",
      "0        236       48.66\n",
      "\n",
      "Total Samples: 485\n",
      "Imbalance Ratio: 1.055084745762712\n",
      "\n",
      ">>> Class Distribution:  HSF\n",
      "       Count  Percentage\n",
      "class                   \n",
      "1       4574       50.16\n",
      "0       4545       49.84\n",
      "\n",
      "Total Samples: 9119\n",
      "Imbalance Ratio: 1.0063806380638063\n",
      "\n",
      ">>> Class Distribution:  LBD\n",
      "       Count  Percentage\n",
      "class                   \n",
      "1       7216        50.1\n",
      "0       7188        49.9\n",
      "\n",
      "Total Samples: 14404\n",
      "Imbalance Ratio: 1.0038953811908737\n",
      "\n",
      ">>> Class Distribution:  LFY\n",
      "       Count  Percentage\n",
      "class                   \n",
      "1        253       51.53\n",
      "0        238       48.47\n",
      "\n",
      "Total Samples: 491\n",
      "Imbalance Ratio: 1.0630252100840336\n",
      "\n",
      ">>> Class Distribution:  LSD\n",
      "       Count  Percentage\n",
      "class                   \n",
      "1        957       50.66\n",
      "0        932       49.34\n",
      "\n",
      "Total Samples: 1889\n",
      "Imbalance Ratio: 1.0268240343347639\n",
      "\n",
      ">>> Class Distribution:  M-type_MADS\n",
      "       Count  Percentage\n",
      "class                   \n",
      "1       7541        50.1\n",
      "0       7510        49.9\n",
      "\n",
      "Total Samples: 15051\n",
      "Imbalance Ratio: 1.004127829560586\n",
      "\n",
      ">>> Class Distribution:  MIKC_MADS\n",
      "       Count  Percentage\n",
      "class                   \n",
      "1       6918        50.1\n",
      "0       6891        49.9\n",
      "\n",
      "Total Samples: 13809\n",
      "Imbalance Ratio: 1.0039181541140618\n",
      "\n",
      ">>> Class Distribution:  MYB\n",
      "       Count  Percentage\n",
      "class                   \n",
      "1      22032       50.03\n",
      "0      22002       49.97\n",
      "\n",
      "Total Samples: 44034\n",
      "Imbalance Ratio: 1.001363512407963\n",
      "\n",
      ">>> Class Distribution:  MYB_related\n",
      "       Count  Percentage\n",
      "class                   \n",
      "1      15369       50.05\n",
      "0      15340       49.95\n",
      "\n",
      "Total Samples: 30709\n",
      "Imbalance Ratio: 1.001890482398957\n",
      "\n",
      ">>> Class Distribution:  NAC\n",
      "       Count  Percentage\n",
      "class                   \n",
      "1      19997       50.04\n",
      "0      19968       49.96\n",
      "\n",
      "Total Samples: 39965\n",
      "Imbalance Ratio: 1.0014523237179487\n",
      "\n",
      ">>> Class Distribution:  NF-X1\n",
      "       Count  Percentage\n",
      "class                   \n",
      "1        403       51.14\n",
      "0        385       48.86\n",
      "\n",
      "Total Samples: 788\n",
      "Imbalance Ratio: 1.0467532467532468\n",
      "\n",
      ">>> Class Distribution:  NF-YA\n",
      "       Count  Percentage\n",
      "class                   \n",
      "1       2461       50.29\n",
      "0       2433       49.71\n",
      "\n",
      "Total Samples: 4894\n",
      "Imbalance Ratio: 1.011508425811755\n",
      "\n",
      ">>> Class Distribution:  NF-YB\n",
      "       Count  Percentage\n",
      "class                   \n",
      "1       3099       50.19\n",
      "0       3075       49.81\n",
      "\n",
      "Total Samples: 6174\n",
      "Imbalance Ratio: 1.0078048780487805\n",
      "\n",
      ">>> Class Distribution:  NF-YC\n",
      "       Count  Percentage\n",
      "class                   \n",
      "1       2446       50.27\n",
      "0       2420       49.73\n",
      "\n",
      "Total Samples: 4866\n",
      "Imbalance Ratio: 1.0107438016528925\n",
      "\n",
      ">>> Class Distribution:  NZZ/SPL\n",
      "       Count  Percentage\n",
      "class                   \n",
      "0        112       50.68\n",
      "1        109       49.32\n",
      "\n",
      "Total Samples: 221\n",
      "Imbalance Ratio: 1.0275229357798166\n",
      "\n",
      ">>> Class Distribution:  Nin-like\n",
      "       Count  Percentage\n",
      "class                   \n",
      "1       2766       50.27\n",
      "0       2736       49.73\n",
      "\n",
      "Total Samples: 5502\n",
      "Imbalance Ratio: 1.0109649122807018\n",
      "\n",
      ">>> Class Distribution:  RAV\n",
      "       Count  Percentage\n",
      "class                   \n",
      "1        690       50.81\n",
      "0        668       49.19\n",
      "\n",
      "Total Samples: 1358\n",
      "Imbalance Ratio: 1.032934131736527\n",
      "\n",
      ">>> Class Distribution:  S1Fa-like\n",
      "       Count  Percentage\n",
      "class                   \n",
      "1        359       51.36\n",
      "0        340       48.64\n",
      "\n",
      "Total Samples: 699\n",
      "Imbalance Ratio: 1.0558823529411765\n",
      "\n",
      ">>> Class Distribution:  SAP\n",
      "       Count  Percentage\n",
      "class                   \n",
      "1        164       50.77\n",
      "0        159       49.23\n",
      "\n",
      "Total Samples: 323\n",
      "Imbalance Ratio: 1.0314465408805031\n",
      "\n",
      ">>> Class Distribution:  SBP\n",
      "       Count  Percentage\n",
      "class                   \n",
      "1       4168       50.15\n",
      "0       4143       49.85\n",
      "\n",
      "Total Samples: 8311\n",
      "Imbalance Ratio: 1.0060342746801834\n",
      "\n",
      ">>> Class Distribution:  SRS\n",
      "       Count  Percentage\n",
      "class                   \n",
      "1       1327       50.48\n",
      "0       1302       49.52\n",
      "\n",
      "Total Samples: 2629\n",
      "Imbalance Ratio: 1.0192012288786483\n",
      "\n",
      ">>> Class Distribution:  STAT\n",
      "       Count  Percentage\n",
      "class                   \n",
      "1        214        51.2\n",
      "0        204        48.8\n",
      "\n",
      "Total Samples: 418\n",
      "Imbalance Ratio: 1.0490196078431373\n",
      "\n",
      ">>> Class Distribution:  TALE\n",
      "       Count  Percentage\n",
      "class                   \n",
      "1       4433       50.16\n",
      "0       4404       49.84\n",
      "\n",
      "Total Samples: 8837\n",
      "Imbalance Ratio: 1.0065849227974568\n",
      "\n",
      ">>> Class Distribution:  TCP\n",
      "       Count  Percentage\n",
      "class                   \n",
      "1       4187       50.17\n",
      "0       4158       49.83\n",
      "\n",
      "Total Samples: 8345\n",
      "Imbalance Ratio: 1.006974506974507\n",
      "\n",
      ">>> Class Distribution:  Trihelix\n",
      "       Count  Percentage\n",
      "class                   \n",
      "1       6256        50.1\n",
      "0       6231        49.9\n",
      "\n",
      "Total Samples: 12487\n",
      "Imbalance Ratio: 1.0040121970791205\n",
      "\n",
      ">>> Class Distribution:  VOZ\n",
      "       Count  Percentage\n",
      "class                   \n",
      "1        635       50.84\n",
      "0        614       49.16\n",
      "\n",
      "Total Samples: 1249\n",
      "Imbalance Ratio: 1.0342019543973942\n",
      "\n",
      ">>> Class Distribution:  WOX\n",
      "       Count  Percentage\n",
      "class                   \n",
      "1       2358       50.36\n",
      "0       2324       49.64\n",
      "\n",
      "Total Samples: 4682\n",
      "Imbalance Ratio: 1.0146299483648882\n",
      "\n",
      ">>> Class Distribution:  WRKY\n",
      "       Count  Percentage\n",
      "class                   \n",
      "1      14549       50.04\n",
      "0      14524       49.96\n",
      "\n",
      "Total Samples: 29073\n",
      "Imbalance Ratio: 1.001721288901129\n",
      "\n",
      ">>> Class Distribution:  Whirly\n",
      "       Count  Percentage\n",
      "class                   \n",
      "1        530       50.86\n",
      "0        512       49.14\n",
      "\n",
      "Total Samples: 1042\n",
      "Imbalance Ratio: 1.03515625\n",
      "\n",
      ">>> Class Distribution:  YABBY\n",
      "       Count  Percentage\n",
      "class                   \n",
      "1       1719       50.44\n",
      "0       1689       49.56\n",
      "\n",
      "Total Samples: 3408\n",
      "Imbalance Ratio: 1.0177619893428065\n",
      "\n",
      ">>> Class Distribution:  ZF-HD\n",
      "       Count  Percentage\n",
      "class                   \n",
      "1       2589       50.24\n",
      "0       2564       49.76\n",
      "\n",
      "Total Samples: 5153\n",
      "Imbalance Ratio: 1.0097503900156006\n",
      "\n",
      ">>> Class Distribution:  bHLH\n",
      "       Count  Percentage\n",
      "class                   \n",
      "1      28698       50.03\n",
      "0      28669       49.97\n",
      "\n",
      "Total Samples: 57367\n",
      "Imbalance Ratio: 1.001011545571872\n",
      "\n",
      ">>> Class Distribution:  bZIP\n",
      "       Count  Percentage\n",
      "class                   \n",
      "1      15498       50.05\n",
      "0      15466       49.95\n",
      "\n",
      "Total Samples: 30964\n",
      "Imbalance Ratio: 1.0020690547006337\n"
     ]
    }
   ],
   "source": [
    "for gene, info in gene_info.items():\n",
    "    file_path = os.path.join(storage_dir, info['filename'])\n",
    "    dataset = pd.read_csv(storage_dir+info['file_code']+\".csv\")\n",
    "\n",
    "    # Proteins\n",
    "    pattern = r'^[ACDEFGHIKLMNPQRSTVWYX]+$'\n",
    "    assert dataset['sequence'].str.match(pattern).all(), \"Error: Invalid characters found in sequence column\"\n",
    "\n",
    "    # Banlanced\n",
    "    class_counts = dataset['class'].value_counts()\n",
    "    total_samples = len(dataset)\n",
    "    class_counts_df = pd.DataFrame(class_counts)\n",
    "    class_counts_df.columns = ['Count']\n",
    "    class_counts_df['Percentage'] = (class_counts_df['Count'] / total_samples * 100).round(2)\n",
    "    print(\"\\n>>> Class Distribution: \", gene)\n",
    "    print(class_counts_df)\n",
    "    print(\"\\nTotal Samples:\", total_samples)\n",
    "    imbalance_ratio = class_counts_df['Count'].max() / class_counts_df['Count'].min()\n",
    "    imbalance_threshold = 1.5\n",
    "    print(\"Imbalance Ratio:\", imbalance_ratio)\n",
    "    if imbalance_ratio >= imbalance_threshold:\n",
    "        print(\"#### IMBALANCED DATA : \", gene)"
   ]
  },
  {
   "cell_type": "code",
   "execution_count": null,
   "id": "c1bc32cc-d247-421f-ad4f-4ee23dba94d1",
   "metadata": {},
   "outputs": [],
   "source": []
  }
 ],
 "metadata": {
  "kernelspec": {
   "display_name": "PyGenomics",
   "language": "python",
   "name": "pygenomics"
  },
  "language_info": {
   "codemirror_mode": {
    "name": "ipython",
    "version": 3
   },
   "file_extension": ".py",
   "mimetype": "text/x-python",
   "name": "python",
   "nbconvert_exporter": "python",
   "pygments_lexer": "ipython3",
   "version": "3.11.7"
  }
 },
 "nbformat": 4,
 "nbformat_minor": 5
}
