{
 "cells": [
  {
   "cell_type": "markdown",
   "id": "02041b92",
   "metadata": {
    "editable": true,
    "slideshow": {
     "slide_type": ""
    },
    "tags": []
   },
   "source": [
    "<div style=\"hwidth: 100%; background-color: #ddd; overflow:hidden; \">\n",
    "    <div style=\"display: flex; justify-content: center; align-items: center; border-bottom: 10px solid #80c4e7; padding: 3px;\">\n",
    "        <h2 style=\"position: relative; top: 3px; left: 8px;\">S2 Project: DNA Classification - (part2: Approach 2)</h2>\n",
    "        <!--<img style=\"position: absolute; height: 68px; top: -2px;; right: 18px\" src=\"./Content/Notebook-images/dna1.png\"/>-->\n",
    "    </div>\n",
    "    <div style=\"padding: 3px 8px;\">\n",
    "        \n",
    "1. <strong>Description</strong>:\n",
    "   - In this approach, we represent DNA sequences using k-mer frequencies. Each sequence is encoded as a vector where each element represents the frequency of a specific k-mer in the sequence. This vector representation is then used as input to a neural network architecture for classification.\n",
    "\n",
    "2. <strong>Pros</strong>:\n",
    "   - Utilizes frequency analysis: By representing sequences based on the frequency of k-mers, the model can capture important patterns and motifs in the DNA sequences.\n",
    "   - Flexible architecture: Neural networks provide a flexible framework for learning complex relationships between features, allowing the model to adapt to different types of data.\n",
    "\n",
    "3. <strong>Cons</strong>:\n",
    "   - Curse of dimensionality: Depending on the value of k and the size of the alphabet (e.g., DNA bases A, C, G, T), the feature space can become very large, leading to increased computational complexity and potential overfitting.\n",
    "   - Loss of sequence information: By focusing solely on k-mer frequencies, the model may overlook important sequential dependencies and structural information present in the DNA sequences.\n",
    "    </div>    \n",
    "</div>"
   ]
  },
  {
   "cell_type": "markdown",
   "id": "5ac85a96",
   "metadata": {},
   "source": [
    "### 1 - Importing utils\n",
    "The following code cells will import necessary libraries."
   ]
  },
  {
   "cell_type": "code",
   "execution_count": 1,
   "id": "597248ff",
   "metadata": {},
   "outputs": [],
   "source": [
    "import os, random, string, itertools, warnings, sys, json\n",
    "warnings.filterwarnings(\"ignore\")\n",
    "import numpy as np\n",
    "import pandas as pd\n",
    "import seaborn as sns\n",
    "import tensorflow as tf\n",
    "import matplotlib.pyplot as plt\n",
    "from tqdm import tqdm\n",
    "from IPython.display import display, HTML\n",
    "from sklearn.metrics import (\n",
    "    confusion_matrix, \n",
    "    classification_report, \n",
    "    accuracy_score, \n",
    "    f1_score, \n",
    "    recall_score, \n",
    "    precision_score\n",
    ")\n",
    "\n",
    "from tensorflow.keras.models import load_model\n",
    "from sklearn.model_selection import train_test_split\n",
    "from keras.preprocessing.sequence import pad_sequences\n",
    "from sklearn.feature_extraction import DictVectorizer\n",
    "from keras.models import Sequential\n",
    "from keras.layers import Dense, Input\n",
    "from keras.layers import LSTM, SimpleRNN\n",
    "from keras.layers import Flatten, Embedding, BatchNormalization, Dropout, MaxPooling1D, GlobalAveragePooling1D\n",
    "from keras.preprocessing import sequence\n",
    "from keras.utils import Sequence\n",
    "from keras.layers import Conv1D\n",
    "\n",
    "# OS\n",
    "current_directory = os.getcwd()\n",
    "root_directory = os.path.abspath(os.path.join(current_directory, os.pardir))\n",
    "utils_directory = os.path.join(root_directory, 'processing')\n",
    "sys.path.append(utils_directory)\n",
    "\n",
    "# Import Utils\n",
    "import fasta\n",
    "from representation import DNA\n",
    "from visualization import VISU, VISUReport"
   ]
  },
  {
   "cell_type": "code",
   "execution_count": 2,
   "id": "7070f322",
   "metadata": {},
   "outputs": [
    {
     "name": "stdout",
     "output_type": "stream",
     "text": [
      "Num GPUs Available:  0\n"
     ]
    }
   ],
   "source": [
    "print(\"Num GPUs Available: \", len(tf.config.experimental.list_physical_devices('GPU')))"
   ]
  },
  {
   "cell_type": "markdown",
   "id": "11c4c872-ed2b-4348-adae-9502dfa8c87e",
   "metadata": {},
   "source": [
    "### 2 - Pretrained model Utils"
   ]
  },
  {
   "cell_type": "code",
   "execution_count": 3,
   "id": "eb128c5e-5dfb-4cc2-aba0-4269327a8b9b",
   "metadata": {},
   "outputs": [],
   "source": [
    "# Paths\n",
    "gene_info_path = \"../data/gene_info.json\"\n",
    "dataset_path = \"../data/one_vs_other/\"\n",
    "pretrained_model_path = \"../notebook/Output/Model\"\n",
    "gene_bank_folder = \"../data/raw_data\"\n",
    "\n",
    "# Load gene info\n",
    "with open(gene_info_path, 'r') as json_file:\n",
    "    gene_info = json.load(json_file)\n",
    "\n",
    "# Utils\n",
    "def load_models(k):\n",
    "    \"\"\"Load multiple models from given paths.\"\"\"\n",
    "    models_dict = []\n",
    "    for gene, info in gene_info.items():\n",
    "        model_path = f\"{pretrained_model_path}/{info['file_code']}/FEEDFORWARD_k{k}.keras\"\n",
    "        meta_path  = f\"{pretrained_model_path}/{info['file_code']}/meta.json\"\n",
    "        model = load_model(model_path)\n",
    "        with open(meta_path, 'r') as json_file:\n",
    "            meta = json.load(json_file)\n",
    "        feature = meta[gene.replace('/', '__')][f\"FEEDFORWARD_k{k}\"][\"features_mask\"].values()\n",
    "        models_dict.append((model, feature))\n",
    "    return models_dict"
   ]
  },
  {
   "cell_type": "markdown",
   "id": "1e3bb653-10f1-49f8-a393-e009a8657db6",
   "metadata": {},
   "source": [
    "### 3 - Load data"
   ]
  },
  {
   "cell_type": "code",
   "execution_count": 4,
   "id": "d2f694b9-8184-4346-8d4b-7e55726a2995",
   "metadata": {},
   "outputs": [],
   "source": [
    "GENE_FAMILY = gene_info.keys()\n",
    "gene_families_index = {gene_family: index for index, gene_family in enumerate(GENE_FAMILY)}"
   ]
  },
  {
   "cell_type": "code",
   "execution_count": 5,
   "id": "762e3758-e1b1-4be5-a08d-7fa6af4951ca",
   "metadata": {},
   "outputs": [],
   "source": [
    "def build_combined_df():\n",
    "    combined_train_df = pd.DataFrame()\n",
    "    combined_test_df  = pd.DataFrame()\n",
    "    for gene_family, info in gene_info.items():\n",
    "        file_path = \"../data/raw_data/\"+info[\"filename\"]\n",
    "        df = fasta.read(file_path, gene_families_index[gene_family])\n",
    "        \n",
    "        # Split the data to take 80%\n",
    "        train_df, test_df = train_test_split(df, test_size=0.5, random_state=42)\n",
    "        \n",
    "        # Combine the DataFrame\n",
    "        combined_train_df = pd.concat([combined_train_df, train_df], ignore_index=True)\n",
    "        combined_test_df = pd.concat([combined_test_df, test_df], ignore_index=True)\n",
    "    \n",
    "    return combined_train_df, combined_test_df\n",
    "\n",
    "\n",
    "# Build the combined DataFrame\n",
    "train_df, test_df = build_combined_df()"
   ]
  },
  {
   "cell_type": "code",
   "execution_count": 6,
   "id": "1227af9b-a97a-4770-8aec-c9fdacd4eea8",
   "metadata": {},
   "outputs": [
    {
     "data": {
      "text/plain": [
       "160169"
      ]
     },
     "execution_count": 6,
     "metadata": {},
     "output_type": "execute_result"
    }
   ],
   "source": [
    "len(train_df)"
   ]
  },
  {
   "cell_type": "markdown",
   "id": "c97035cc-e34e-43c8-8a6f-c002ee14d205",
   "metadata": {},
   "source": [
    "# 3 - Pipeline"
   ]
  },
  {
   "cell_type": "markdown",
   "id": "6d557920-7bb3-4dec-8f9b-b9fefa294ee5",
   "metadata": {},
   "source": [
    "* **Data Mask fit**"
   ]
  },
  {
   "cell_type": "code",
   "execution_count": 7,
   "id": "5f1aece1-d2de-4d97-a167-0f46b685625b",
   "metadata": {},
   "outputs": [],
   "source": [
    "class DataFrameProcessor:\n",
    "    def __init__(self, dataframe: pd.DataFrame):\n",
    "        self.dataframe = dataframe.sort_index(axis=1)\n",
    "    \n",
    "    def fit_mask(self, feature_array):\n",
    "        df_copy = self.dataframe.copy()\n",
    "        existing_columns = df_copy.columns.intersection(feature_array)\n",
    "        df_copy = df_copy[existing_columns]\n",
    "        new_df = pd.DataFrame(0, index=df_copy.index, columns=feature_array)\n",
    "        for col in existing_columns:\n",
    "            new_df[col] = df_copy[col]\n",
    "        return new_df\n",
    "\n",
    "    def get(self):\n",
    "        return self.dataframe"
   ]
  },
  {
   "cell_type": "markdown",
   "id": "e49ae087-125c-4cd8-a468-a06d3c04c4cf",
   "metadata": {},
   "source": [
    "* **Data Generator**"
   ]
  },
  {
   "cell_type": "code",
   "execution_count": 8,
   "id": "7ef24c4a-0137-4b81-9753-cb72ffd7df25",
   "metadata": {},
   "outputs": [],
   "source": [
    "class DataGenerator(Sequence):\n",
    "    def __init__(self, df, models_dict, gene_info, batch_size=32, k=2):\n",
    "        self.df = df\n",
    "        self.models_dict = models_dict\n",
    "        self.gene_info = gene_info\n",
    "        self.batch_size = batch_size\n",
    "        self.k = k\n",
    "        self.on_epoch_end()\n",
    "\n",
    "    def on_epoch_end(self):\n",
    "        self.indexes = np.arange(len(self.df))\n",
    "        np.random.shuffle(self.indexes)\n",
    "\n",
    "    def __len__(self):\n",
    "        return int(np.floor(len(self.df) / self.batch_size))\n",
    "\n",
    "    def __getitem__(self, index):\n",
    "        indexes = self.indexes[index * self.batch_size:(index + 1) * self.batch_size]\n",
    "        batch_df = self.df.iloc[indexes]\n",
    "        X, y = self.__data_generation(batch_df)\n",
    "        return X, y\n",
    "\n",
    "    def __data_generation(self, batch_df):\n",
    "        kmer_features, y_kmer, _ = DNA.build_kmer_representation_v2(train_data, k=self.k)\n",
    "        X_kmer = DataFrameProcessor(kmer_features)\n",
    "        \n",
    "        predictions = []\n",
    "        for model, feature in tqdm(self.models_dict):\n",
    "            X_test = X_kmer.fit_mask(feature)\n",
    "            pred = model.predict(X_test, verbose=0)\n",
    "            predictions.append(pred)\n",
    "        predictions = np.array(predictions)\n",
    "        shape = predictions.shape\n",
    "        X_batch = predictions.reshape(shape[0], shape[1]).T\n",
    "        y_batch = np.array(y_kmer)\n",
    "        #print(X_batch.shape)\n",
    "        #print(y_batch.shape)\n",
    "        #print(X_batch)\n",
    "        #print(y_batch)\n",
    "        \n",
    "        return X_batch, y_batch"
   ]
  },
  {
   "cell_type": "markdown",
   "id": "c9fb739c",
   "metadata": {},
   "source": [
    "* **Model Utils**"
   ]
  },
  {
   "cell_type": "code",
   "execution_count": 9,
   "id": "3b365fbd",
   "metadata": {},
   "outputs": [],
   "source": [
    "domaine = \"ACDEFGHIKLMNPQRSTVWYX\"\n",
    "def model_checkpoint(model_name):\n",
    "    return tf.keras.callbacks.ModelCheckpoint(\n",
    "        filepath=\"Output/MetaClassifier2/\"+model_name+\".keras\", \n",
    "        monitor='val_loss', \n",
    "        verbose=0, \n",
    "        save_best_only=True, \n",
    "        save_weights_only=False\n",
    "    )\n",
    "def early_stopping(patience=10):\n",
    "    return tf.keras.callbacks.EarlyStopping(\n",
    "        monitor=\"val_accuracy\",\n",
    "        patience=patience,\n",
    "        verbose=0,\n",
    "    )"
   ]
  },
  {
   "cell_type": "markdown",
   "id": "f517f3ad",
   "metadata": {},
   "source": [
    "### 4 - Training and Testing"
   ]
  },
  {
   "cell_type": "markdown",
   "id": "9e169c39-c80e-4521-b470-bd8eac687f0e",
   "metadata": {},
   "source": [
    "<h4 style=\"background-color: #80c4e6; display: flex;\">\n",
    "    <ul><li>k=2</li></ul>\n",
    "</h4>"
   ]
  },
  {
   "cell_type": "code",
   "execution_count": 10,
   "id": "c1a1d6e4-b4ac-445a-853d-ff5de375111f",
   "metadata": {},
   "outputs": [],
   "source": [
    "k = 2\n",
    "models_dict = load_models(k)"
   ]
  },
  {
   "cell_type": "code",
   "execution_count": 11,
   "id": "0aa24776-d461-4471-9b5f-4120d8e531d4",
   "metadata": {},
   "outputs": [],
   "source": [
    "train_data, validation_data = train_test_split(train_df, train_size=0.8, stratify=train_df['class'])\n",
    "\n",
    "batch_size=4048\n",
    "training_generator   = DataGenerator(train_data, models_dict, gene_info, batch_size=batch_size, k=k)\n",
    "validation_generator = DataGenerator(validation_data, models_dict, gene_info, batch_size=batch_size, k=k)\n",
    "test_generator       = DataGenerator(test_df, models_dict, gene_info, batch_size=batch_size, k=k)"
   ]
  },
  {
   "cell_type": "markdown",
   "id": "61dfa2af-1658-445c-aaa0-d7618ca510ec",
   "metadata": {},
   "source": [
    "* <span style=\"color: blue; font-weight: bold;\">FEED-FORWARD META CLASSIFIER</span>"
   ]
  },
  {
   "cell_type": "code",
   "execution_count": null,
   "id": "5aac59e8-c31e-4ae2-8299-8a6fb216c395",
   "metadata": {},
   "outputs": [
    {
     "data": {
      "text/html": [
       "<pre style=\"white-space:pre;overflow-x:auto;line-height:normal;font-family:Menlo,'DejaVu Sans Mono',consolas,'Courier New',monospace\"><span style=\"font-weight: bold\">Model: \"META_STAGE2_k2\"</span>\n",
       "</pre>\n"
      ],
      "text/plain": [
       "\u001b[1mModel: \"META_STAGE2_k2\"\u001b[0m\n"
      ]
     },
     "metadata": {},
     "output_type": "display_data"
    },
    {
     "data": {
      "text/html": [
       "<pre style=\"white-space:pre;overflow-x:auto;line-height:normal;font-family:Menlo,'DejaVu Sans Mono',consolas,'Courier New',monospace\">┏━━━━━━━━━━━━━━━━━━━━━━━━━━━━━━━━━┳━━━━━━━━━━━━━━━━━━━━━━━━┳━━━━━━━━━━━━━━━┓\n",
       "┃<span style=\"font-weight: bold\"> Layer (type)                    </span>┃<span style=\"font-weight: bold\"> Output Shape           </span>┃<span style=\"font-weight: bold\">       Param # </span>┃\n",
       "┡━━━━━━━━━━━━━━━━━━━━━━━━━━━━━━━━━╇━━━━━━━━━━━━━━━━━━━━━━━━╇━━━━━━━━━━━━━━━┩\n",
       "│ dense (<span style=\"color: #0087ff; text-decoration-color: #0087ff\">Dense</span>)                   │ (<span style=\"color: #00d7ff; text-decoration-color: #00d7ff\">None</span>, <span style=\"color: #00af00; text-decoration-color: #00af00\">128</span>)            │         <span style=\"color: #00af00; text-decoration-color: #00af00\">7,552</span> │\n",
       "├─────────────────────────────────┼────────────────────────┼───────────────┤\n",
       "│ dropout (<span style=\"color: #0087ff; text-decoration-color: #0087ff\">Dropout</span>)               │ (<span style=\"color: #00d7ff; text-decoration-color: #00d7ff\">None</span>, <span style=\"color: #00af00; text-decoration-color: #00af00\">128</span>)            │             <span style=\"color: #00af00; text-decoration-color: #00af00\">0</span> │\n",
       "├─────────────────────────────────┼────────────────────────┼───────────────┤\n",
       "│ dense_1 (<span style=\"color: #0087ff; text-decoration-color: #0087ff\">Dense</span>)                 │ (<span style=\"color: #00d7ff; text-decoration-color: #00d7ff\">None</span>, <span style=\"color: #00af00; text-decoration-color: #00af00\">58</span>)             │         <span style=\"color: #00af00; text-decoration-color: #00af00\">7,482</span> │\n",
       "└─────────────────────────────────┴────────────────────────┴───────────────┘\n",
       "</pre>\n"
      ],
      "text/plain": [
       "┏━━━━━━━━━━━━━━━━━━━━━━━━━━━━━━━━━┳━━━━━━━━━━━━━━━━━━━━━━━━┳━━━━━━━━━━━━━━━┓\n",
       "┃\u001b[1m \u001b[0m\u001b[1mLayer (type)                   \u001b[0m\u001b[1m \u001b[0m┃\u001b[1m \u001b[0m\u001b[1mOutput Shape          \u001b[0m\u001b[1m \u001b[0m┃\u001b[1m \u001b[0m\u001b[1m      Param #\u001b[0m\u001b[1m \u001b[0m┃\n",
       "┡━━━━━━━━━━━━━━━━━━━━━━━━━━━━━━━━━╇━━━━━━━━━━━━━━━━━━━━━━━━╇━━━━━━━━━━━━━━━┩\n",
       "│ dense (\u001b[38;5;33mDense\u001b[0m)                   │ (\u001b[38;5;45mNone\u001b[0m, \u001b[38;5;34m128\u001b[0m)            │         \u001b[38;5;34m7,552\u001b[0m │\n",
       "├─────────────────────────────────┼────────────────────────┼───────────────┤\n",
       "│ dropout (\u001b[38;5;33mDropout\u001b[0m)               │ (\u001b[38;5;45mNone\u001b[0m, \u001b[38;5;34m128\u001b[0m)            │             \u001b[38;5;34m0\u001b[0m │\n",
       "├─────────────────────────────────┼────────────────────────┼───────────────┤\n",
       "│ dense_1 (\u001b[38;5;33mDense\u001b[0m)                 │ (\u001b[38;5;45mNone\u001b[0m, \u001b[38;5;34m58\u001b[0m)             │         \u001b[38;5;34m7,482\u001b[0m │\n",
       "└─────────────────────────────────┴────────────────────────┴───────────────┘\n"
      ]
     },
     "metadata": {},
     "output_type": "display_data"
    },
    {
     "data": {
      "text/html": [
       "<pre style=\"white-space:pre;overflow-x:auto;line-height:normal;font-family:Menlo,'DejaVu Sans Mono',consolas,'Courier New',monospace\"><span style=\"font-weight: bold\"> Total params: </span><span style=\"color: #00af00; text-decoration-color: #00af00\">15,034</span> (58.73 KB)\n",
       "</pre>\n"
      ],
      "text/plain": [
       "\u001b[1m Total params: \u001b[0m\u001b[38;5;34m15,034\u001b[0m (58.73 KB)\n"
      ]
     },
     "metadata": {},
     "output_type": "display_data"
    },
    {
     "data": {
      "text/html": [
       "<pre style=\"white-space:pre;overflow-x:auto;line-height:normal;font-family:Menlo,'DejaVu Sans Mono',consolas,'Courier New',monospace\"><span style=\"font-weight: bold\"> Trainable params: </span><span style=\"color: #00af00; text-decoration-color: #00af00\">15,034</span> (58.73 KB)\n",
       "</pre>\n"
      ],
      "text/plain": [
       "\u001b[1m Trainable params: \u001b[0m\u001b[38;5;34m15,034\u001b[0m (58.73 KB)\n"
      ]
     },
     "metadata": {},
     "output_type": "display_data"
    },
    {
     "data": {
      "text/html": [
       "<pre style=\"white-space:pre;overflow-x:auto;line-height:normal;font-family:Menlo,'DejaVu Sans Mono',consolas,'Courier New',monospace\"><span style=\"font-weight: bold\"> Non-trainable params: </span><span style=\"color: #00af00; text-decoration-color: #00af00\">0</span> (0.00 B)\n",
       "</pre>\n"
      ],
      "text/plain": [
       "\u001b[1m Non-trainable params: \u001b[0m\u001b[38;5;34m0\u001b[0m (0.00 B)\n"
      ]
     },
     "metadata": {},
     "output_type": "display_data"
    },
    {
     "name": "stderr",
     "output_type": "stream",
     "text": [
      "100%|█████████████████████████████████████████████████████████████████████████████████████████████████████████████| 58/58 [02:31<00:00,  2.61s/it]\n",
      "100%|█████████████████████████████████████████████████████████████████████████████████████████████████████████████| 58/58 [02:32<00:00,  2.63s/it]"
     ]
    },
    {
     "name": "stdout",
     "output_type": "stream",
     "text": [
      "Epoch 1/50\n"
     ]
    },
    {
     "name": "stderr",
     "output_type": "stream",
     "text": [
      "\n",
      "100%|█████████████████████████████████████████████████████████████████████████████████████████████████████████████| 58/58 [02:28<00:00,  2.56s/it]\n",
      "2024-06-24 07:18:57.125544: I tensorflow/core/kernels/data/shuffle_dataset_op.cc:450] ShuffleDatasetV3:1742: Filling up shuffle buffer (this may take a while): 1 of 8\n",
      " 24%|██████████████████████████▎                                                                                  | 14/58 [00:39<02:00,  2.74s/it]"
     ]
    }
   ],
   "source": [
    "name=\"META_STAGE2_k2\"\n",
    "def build_stage2_classifier():\n",
    "    meta_model = Sequential(name=name)\n",
    "    meta_model.add(Dense(128, input_dim=len(models_dict), activation='relu'))\n",
    "    meta_model.add(Dropout(0.1))\n",
    "    #meta_model.add(Dense(64, activation='relu'))\n",
    "    meta_model.add(Dense(len(gene_info), activation='softmax'))\n",
    "    meta_model.compile(optimizer='adam', loss='sparse_categorical_crossentropy', metrics=['accuracy'])\n",
    "    meta_model.summary()\n",
    "    return meta_model\n",
    "\n",
    "# Build\n",
    "meta_model = build_stage2_classifier()\n",
    "stop_callback = early_stopping(patience=10)\n",
    "save_callback = model_checkpoint(name)\n",
    "\n",
    "# Train\n",
    "history = meta_model.fit(training_generator, validation_data=validation_generator, epochs=50, callbacks=[stop_callback, save_callback])\n",
    "\n",
    "# Evaluate\n",
    "# Evaluate and score\n",
    "test_scores = model.evaluate(test_generator, verbose=0)\n",
    "train_score = history.history.get('accuracy')[-1]\n",
    "print(\"\\n[Train Accuracy: {:.2f}% - Test Accuracy: {:.2f}%]\".format(train_score*100, test_scores[1]*100))"
   ]
  },
  {
   "cell_type": "code",
   "execution_count": null,
   "id": "50f4235a-75ba-483b-a063-c9deb498ca6f",
   "metadata": {},
   "outputs": [],
   "source": [
    "VISU.plot_curve(history, ['loss', 'val_loss', 'accuracy', 'val_accuracy'])"
   ]
  }
 ],
 "metadata": {
  "kernelspec": {
   "display_name": "PyGenomics",
   "language": "python",
   "name": "pygenomics"
  },
  "language_info": {
   "codemirror_mode": {
    "name": "ipython",
    "version": 3
   },
   "file_extension": ".py",
   "mimetype": "text/x-python",
   "name": "python",
   "nbconvert_exporter": "python",
   "pygments_lexer": "ipython3",
   "version": "3.11.7"
  }
 },
 "nbformat": 4,
 "nbformat_minor": 5
}
