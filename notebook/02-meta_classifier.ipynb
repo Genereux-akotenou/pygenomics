{
 "cells": [
  {
   "cell_type": "markdown",
   "id": "02041b92",
   "metadata": {
    "editable": true,
    "slideshow": {
     "slide_type": ""
    },
    "tags": []
   },
   "source": [
    "<div style=\"hwidth: 100%; background-color: #ddd; overflow:hidden; \">\n",
    "    <div style=\"display: flex; justify-content: center; align-items: center; border-bottom: 10px solid #80c4e7; padding: 3px;\">\n",
    "        <h2 style=\"position: relative; top: 3px; left: 8px;\">S2 Project: DNA Classification - (part2: Approach 2)</h2>\n",
    "        <!--<img style=\"position: absolute; height: 68px; top: -2px;; right: 18px\" src=\"./Content/Notebook-images/dna1.png\"/>-->\n",
    "    </div>\n",
    "    <div style=\"padding: 3px 8px;\">\n",
    "        \n",
    "1. <strong>Description</strong>:\n",
    "   - In this approach, we represent DNA sequences using k-mer frequencies. Each sequence is encoded as a vector where each element represents the frequency of a specific k-mer in the sequence. This vector representation is then used as input to a neural network architecture for classification.\n",
    "\n",
    "2. <strong>Pros</strong>:\n",
    "   - Utilizes frequency analysis: By representing sequences based on the frequency of k-mers, the model can capture important patterns and motifs in the DNA sequences.\n",
    "   - Flexible architecture: Neural networks provide a flexible framework for learning complex relationships between features, allowing the model to adapt to different types of data.\n",
    "\n",
    "3. <strong>Cons</strong>:\n",
    "   - Curse of dimensionality: Depending on the value of k and the size of the alphabet (e.g., DNA bases A, C, G, T), the feature space can become very large, leading to increased computational complexity and potential overfitting.\n",
    "   - Loss of sequence information: By focusing solely on k-mer frequencies, the model may overlook important sequential dependencies and structural information present in the DNA sequences.\n",
    "    </div>    \n",
    "</div>"
   ]
  },
  {
   "cell_type": "markdown",
   "id": "5ac85a96",
   "metadata": {},
   "source": [
    "### 1 - Importing utils\n",
    "The following code cells will import necessary libraries."
   ]
  },
  {
   "cell_type": "code",
   "execution_count": 1,
   "id": "597248ff",
   "metadata": {},
   "outputs": [
    {
     "name": "stderr",
     "output_type": "stream",
     "text": [
      "[MacBook-Pro-de-Genereux.local:27042] shmem: mmap: an error occurred while determining whether or not /var/folders/w8/b_cflrn97k9c15rcrn5t8mmr0000gn/T//ompi.MacBook-Pro-de-Genereux.501/jf.0/3973316608/sm_segment.MacBook-Pro-de-Genereux.501.ecd40000.0 could be created.\n"
     ]
    }
   ],
   "source": [
    "import os, random, string, itertools, warnings, sys, json\n",
    "warnings.filterwarnings(\"ignore\")\n",
    "import numpy as np\n",
    "import pandas as pd\n",
    "import seaborn as sns\n",
    "import tensorflow as tf\n",
    "import matplotlib.pyplot as plt\n",
    "from tqdm import tqdm\n",
    "from IPython.display import display, HTML\n",
    "from sklearn.metrics import (\n",
    "    confusion_matrix, \n",
    "    classification_report, \n",
    "    accuracy_score, \n",
    "    f1_score, \n",
    "    recall_score, \n",
    "    precision_score\n",
    ")\n",
    "\n",
    "from tensorflow.keras.models import load_model\n",
    "from sklearn.model_selection import train_test_split\n",
    "from keras.preprocessing.sequence import pad_sequences\n",
    "from sklearn.feature_extraction import DictVectorizer\n",
    "from keras.models import Sequential\n",
    "from keras.layers import Dense, Input\n",
    "from keras.layers import LSTM, SimpleRNN\n",
    "from keras.layers import Flatten, Embedding, BatchNormalization, Dropout, MaxPooling1D, GlobalAveragePooling1D\n",
    "from keras.preprocessing import sequence\n",
    "from keras.utils import Sequence\n",
    "from keras.layers import Conv1D\n",
    "\n",
    "# OS\n",
    "current_directory = os.getcwd()\n",
    "root_directory = os.path.abspath(os.path.join(current_directory, os.pardir))\n",
    "utils_directory = os.path.join(root_directory, 'processing')\n",
    "sys.path.append(utils_directory)\n",
    "\n",
    "# Import Utils\n",
    "import fasta\n",
    "from representation import DNA\n",
    "from visualization import VISU, VISUReport"
   ]
  },
  {
   "cell_type": "code",
   "execution_count": 2,
   "id": "7070f322",
   "metadata": {},
   "outputs": [
    {
     "name": "stdout",
     "output_type": "stream",
     "text": [
      "Num GPUs Available:  0\n"
     ]
    }
   ],
   "source": [
    "print(\"Num GPUs Available: \", len(tf.config.experimental.list_physical_devices('GPU')))"
   ]
  },
  {
   "cell_type": "markdown",
   "id": "11c4c872-ed2b-4348-adae-9502dfa8c87e",
   "metadata": {},
   "source": [
    "### 2 - Pretrained model Utils"
   ]
  },
  {
   "cell_type": "code",
   "execution_count": 3,
   "id": "eb128c5e-5dfb-4cc2-aba0-4269327a8b9b",
   "metadata": {},
   "outputs": [],
   "source": [
    "# Paths\n",
    "gene_info_path = \"../data/gene_info.json\"\n",
    "dataset_path = \"../data/one_vs_other/\"\n",
    "pretrained_model_path = \"../notebook/Output/Model\"\n",
    "gene_bank_folder = \"../data/raw_data\"\n",
    "\n",
    "# Load gene info\n",
    "with open(gene_info_path, 'r') as json_file:\n",
    "    gene_info = json.load(json_file)\n",
    "\n",
    "# Utils\n",
    "def load_models(k):\n",
    "    \"\"\"Load multiple models from given paths.\"\"\"\n",
    "    models_dict = []\n",
    "    for gene, info in gene_info.items():\n",
    "        model_path = f\"{pretrained_model_path}/{info['file_code']}/FEEDFORWARD_k{k}.keras\"\n",
    "        meta_path  = f\"{pretrained_model_path}/{info['file_code']}/meta.json\"\n",
    "        model = load_model(model_path)\n",
    "        with open(meta_path, 'r') as json_file:\n",
    "            meta = json.load(json_file)\n",
    "        feature = meta[gene.replace('/', '__')][f\"FEEDFORWARD_k{k}\"][\"features_mask\"].values()\n",
    "        models_dict.append((model, feature))\n",
    "    return models_dict"
   ]
  },
  {
   "cell_type": "markdown",
   "id": "1e3bb653-10f1-49f8-a393-e009a8657db6",
   "metadata": {},
   "source": [
    "### 3 - Load data"
   ]
  },
  {
   "cell_type": "code",
   "execution_count": 4,
   "id": "d2f694b9-8184-4346-8d4b-7e55726a2995",
   "metadata": {},
   "outputs": [],
   "source": [
    "GENE_FAMILY = gene_info.keys()\n",
    "gene_families_index = {gene_family: index for index, gene_family in enumerate(GENE_FAMILY)}"
   ]
  },
  {
   "cell_type": "code",
   "execution_count": 5,
   "id": "762e3758-e1b1-4be5-a08d-7fa6af4951ca",
   "metadata": {},
   "outputs": [],
   "source": [
    "def build_combined_df():\n",
    "    combined_train_df = pd.DataFrame()\n",
    "    combined_test_df  = pd.DataFrame()\n",
    "    for gene_family, info in gene_info.items():\n",
    "        file_path = \"../data/raw_data/\"+info[\"filename\"]\n",
    "        df = fasta.read(file_path, gene_families_index[gene_family])\n",
    "        \n",
    "        # Split the data to take 80%\n",
    "        train_df, test_df = train_test_split(df, test_size=0.2, random_state=42)\n",
    "        \n",
    "        # Combine the DataFrame\n",
    "        combined_train_df = pd.concat([combined_train_df, train_df], ignore_index=True)\n",
    "        combined_test_df = pd.concat([combined_test_df, test_df], ignore_index=True)\n",
    "    \n",
    "    return combined_train_df, combined_test_df\n",
    "\n",
    "\n",
    "# Build the combined DataFrame\n",
    "train_df, test_df = build_combined_df()"
   ]
  },
  {
   "cell_type": "markdown",
   "id": "0db1f5f7-829e-435c-b12f-8f88d0ef6a19",
   "metadata": {},
   "source": [
    "* **Predict on train**"
   ]
  },
  {
   "cell_type": "code",
   "execution_count": 6,
   "id": "8199e2e6-ef8d-42e9-9f4c-82647ada0842",
   "metadata": {},
   "outputs": [
    {
     "data": {
      "text/plain": [
       "(256273, 4)"
      ]
     },
     "execution_count": 6,
     "metadata": {},
     "output_type": "execute_result"
    }
   ],
   "source": [
    "train_df.shape"
   ]
  },
  {
   "cell_type": "markdown",
   "id": "c97035cc-e34e-43c8-8a6f-c002ee14d205",
   "metadata": {},
   "source": [
    "# 3 - Pipeline"
   ]
  },
  {
   "cell_type": "markdown",
   "id": "6d557920-7bb3-4dec-8f9b-b9fefa294ee5",
   "metadata": {},
   "source": [
    "* **Data Mask fit**"
   ]
  },
  {
   "cell_type": "code",
   "execution_count": 7,
   "id": "5f1aece1-d2de-4d97-a167-0f46b685625b",
   "metadata": {},
   "outputs": [],
   "source": [
    "class DataFrameProcessor:\n",
    "    def __init__(self, dataframe: pd.DataFrame):\n",
    "        self.dataframe = dataframe.sort_index(axis=1)\n",
    "    \n",
    "    def fit_mask(self, feature_array):\n",
    "        df_copy = self.dataframe.copy()\n",
    "        existing_columns = df_copy.columns.intersection(feature_array)\n",
    "        df_copy = df_copy[existing_columns]\n",
    "        new_df = pd.DataFrame(0, index=df_copy.index, columns=feature_array)\n",
    "        for col in existing_columns:\n",
    "            new_df[col] = df_copy[col]\n",
    "        return new_df\n",
    "\n",
    "    def get(self):\n",
    "        return self.dataframe"
   ]
  },
  {
   "cell_type": "markdown",
   "id": "e49ae087-125c-4cd8-a468-a06d3c04c4cf",
   "metadata": {},
   "source": [
    "* **Data Generator**"
   ]
  },
  {
   "cell_type": "code",
   "execution_count": 8,
   "id": "7ef24c4a-0137-4b81-9753-cb72ffd7df25",
   "metadata": {},
   "outputs": [],
   "source": [
    "class DataGenerator(Sequence):\n",
    "    def __init__(self, df, models_dict, gene_info, batch_size=32, k=2):\n",
    "        self.df = df\n",
    "        self.models_dict = models_dict\n",
    "        self.gene_info = gene_info\n",
    "        self.batch_size = batch_size\n",
    "        self.k = k\n",
    "        self.on_epoch_end()\n",
    "\n",
    "    def on_epoch_end(self):\n",
    "        self.indexes = np.arange(len(self.df))\n",
    "        np.random.shuffle(self.indexes)\n",
    "\n",
    "    def __len__(self):\n",
    "        return int(np.floor(len(self.df) / self.batch_size))\n",
    "\n",
    "    def __getitem__(self, index):\n",
    "        indexes = self.indexes[index * self.batch_size:(index + 1) * self.batch_size]\n",
    "        batch_df = self.df.iloc[indexes]\n",
    "        X, y = self.__data_generation(batch_df)\n",
    "        return X, y\n",
    "\n",
    "    def __data_generation(self, batch_df):\n",
    "        kmer_features, y_kmer, _ = DNA.build_kmer_representation_v2(train_data, k=self.k)\n",
    "        X_kmer = DataFrameProcessor(kmer_features)\n",
    "        \n",
    "        predictions = []\n",
    "        for model, feature in tqdm(self.models_dict):\n",
    "            X_test = X_kmer.fit_mask(feature)\n",
    "            pred = model.predict(X_test, verbose=0)\n",
    "            predictions.append(pred)\n",
    "        predictions = np.array(predictions)\n",
    "        shape = predictions.shape\n",
    "        X_batch = predictions.reshape(shape[0], shape[1]).T\n",
    "        y_batch = np.array(y_kmer)\n",
    "        \n",
    "        return X_batch, y_batch"
   ]
  },
  {
   "cell_type": "markdown",
   "id": "c9fb739c",
   "metadata": {},
   "source": [
    "* **Model Utils**"
   ]
  },
  {
   "cell_type": "code",
   "execution_count": 9,
   "id": "3b365fbd",
   "metadata": {},
   "outputs": [],
   "source": [
    "domaine = \"ACDEFGHIKLMNPQRSTVWYX\"\n",
    "def model_checkpoint(model_name):\n",
    "    return tf.keras.callbacks.ModelCheckpoint(\n",
    "        filepath=\"Output/MetaClassifier/\"+model_name+\".keras\", \n",
    "        monitor='val_loss', \n",
    "        verbose=0, \n",
    "        save_best_only=True, \n",
    "        save_weights_only=False\n",
    "    )\n",
    "def early_stopping(patience=10):\n",
    "    return tf.keras.callbacks.EarlyStopping(\n",
    "        monitor=\"val_accuracy\",\n",
    "        patience=patience,\n",
    "        verbose=0,\n",
    "    )"
   ]
  },
  {
   "cell_type": "markdown",
   "id": "f517f3ad",
   "metadata": {},
   "source": [
    "### 4 - Training and Testing"
   ]
  },
  {
   "cell_type": "markdown",
   "id": "9e169c39-c80e-4521-b470-bd8eac687f0e",
   "metadata": {},
   "source": [
    "<h4 style=\"background-color: #80c4e6; display: flex;\">\n",
    "    <ul><li>k=2</li></ul>\n",
    "</h4>"
   ]
  },
  {
   "cell_type": "code",
   "execution_count": 10,
   "id": "c1a1d6e4-b4ac-445a-853d-ff5de375111f",
   "metadata": {},
   "outputs": [],
   "source": [
    "k = 2\n",
    "models_dict = load_models(k)"
   ]
  },
  {
   "cell_type": "code",
   "execution_count": 11,
   "id": "314a20a2-fd39-4e02-8f4b-378e61cecc0b",
   "metadata": {},
   "outputs": [],
   "source": [
    "def pipline_data_transform(df):\n",
    "    kmer_features, y_kmer, _ = DNA.build_kmer_representation_v2(df, k=2)\n",
    "    X_kmer = DataFrameProcessor(kmer_features)\n",
    "    \n",
    "    predictions = []\n",
    "    for model, feature in tqdm(models_dict):\n",
    "        X_test = X_kmer.fit_mask(feature)\n",
    "        pred = model.predict(X_test, verbose=0)\n",
    "        predictions.append(pred)\n",
    "    predictions = np.array(predictions)\n",
    "    shape = predictions.shape\n",
    "    X = predictions.reshape(shape[0], shape[1]).T\n",
    "    y = np.array(y_kmer)\n",
    "    return X, y"
   ]
  },
  {
   "cell_type": "code",
   "execution_count": 12,
   "id": "91045417-ba3c-4a92-9e09-6b45768a0281",
   "metadata": {},
   "outputs": [
    {
     "name": "stderr",
     "output_type": "stream",
     "text": [
      "100%|█████████████████████████████████████████████████████████████████████████████████████████████████████████████| 58/58 [06:14<00:00,  6.45s/it]\n"
     ]
    }
   ],
   "source": [
    "X_train, y_train = pipline_data_transform(train_df)"
   ]
  },
  {
   "cell_type": "code",
   "execution_count": 13,
   "id": "6e400991-bda4-4e0a-8ce1-9c3e38541ad4",
   "metadata": {},
   "outputs": [
    {
     "name": "stderr",
     "output_type": "stream",
     "text": [
      "100%|█████████████████████████████████████████████████████████████████████████████████████████████████████████████| 58/58 [01:35<00:00,  1.65s/it]\n"
     ]
    }
   ],
   "source": [
    "X_test, y_test = pipline_data_transform(test_df)"
   ]
  },
  {
   "cell_type": "code",
   "execution_count": 14,
   "id": "dc260c26-f2fd-498a-82ab-fffdbc9919ab",
   "metadata": {},
   "outputs": [],
   "source": [
    "X_train, X_val, y_train,y_val = train_test_split(X_train, y_train, train_size=0.8, stratify=y_train)"
   ]
  },
  {
   "cell_type": "code",
   "execution_count": 15,
   "id": "2b426d89-4b64-436b-92db-cd5e9990c1fc",
   "metadata": {},
   "outputs": [
    {
     "data": {
      "text/plain": [
       "(64097, 58)"
      ]
     },
     "execution_count": 15,
     "metadata": {},
     "output_type": "execute_result"
    }
   ],
   "source": [
    "X_test.shape"
   ]
  },
  {
   "cell_type": "code",
   "execution_count": 16,
   "id": "0aa24776-d461-4471-9b5f-4120d8e531d4",
   "metadata": {},
   "outputs": [],
   "source": [
    "#train_data, validation_data = train_test_split(train_df, train_size=0.8, stratify=train_df['class'])\n",
    "#batch_size=4096\n",
    "#training_generator   = DataGenerator(train_data, models_dict, gene_info, batch_size=batch_size, k=k)\n",
    "#validation_generator = DataGenerator(validation_data, models_dict, gene_info, batch_size=batch_size, k=k)\n",
    "#test_generator       = DataGenerator(test_df, models_dict, gene_info, batch_size=batch_size, k=k)"
   ]
  },
  {
   "cell_type": "markdown",
   "id": "61dfa2af-1658-445c-aaa0-d7618ca510ec",
   "metadata": {},
   "source": [
    "* <span style=\"color: blue; font-weight: bold;\">FEED-FORWARD META CLASSIFIER</span>"
   ]
  },
  {
   "cell_type": "code",
   "execution_count": 17,
   "id": "786ef47c-a930-4384-bbfa-3cc1a2b1ac22",
   "metadata": {},
   "outputs": [
    {
     "data": {
      "text/plain": [
       "array([2.96968705e-04, 3.24132032e-09, 3.37998899e-05, 2.15123082e-03,\n",
       "       4.05658147e-06, 2.03565520e-04, 2.69464077e-03, 5.96138416e-04,\n",
       "       4.47974591e-09, 8.63242967e-05, 3.76428346e-07, 1.09511711e-04,\n",
       "       3.89477296e-04, 1.54567836e-03, 1.48132874e-03, 2.92969472e-03,\n",
       "       2.60896322e-05, 6.35423698e-03, 7.12845707e-04, 1.01781276e-03,\n",
       "       1.14122295e-05, 2.15449743e-03, 6.23077949e-06, 7.28692161e-04,\n",
       "       1.86584628e-04, 4.07982116e-05, 1.76298097e-04, 5.27360663e-03,\n",
       "       1.08120985e-04, 2.12812243e-04, 4.02113292e-05, 5.21219845e-05,\n",
       "       9.98317480e-01, 9.00127172e-01, 2.64641852e-03, 1.14781897e-05,\n",
       "       1.11251778e-03, 1.22633530e-03, 3.87218734e-03, 1.38920233e-01,\n",
       "       7.23369376e-05, 7.70564875e-05, 4.17777279e-04, 3.07479146e-04,\n",
       "       3.86391272e-04, 1.79455063e-04, 4.22122394e-04, 2.91663298e-07,\n",
       "       1.87894275e-05, 6.98659323e-06, 4.91156425e-06, 6.73589762e-03,\n",
       "       1.24294276e-03, 8.31199461e-04, 1.47738410e-02, 4.46570484e-04,\n",
       "       1.94474086e-02, 1.25031173e-03], dtype=float32)"
      ]
     },
     "execution_count": 17,
     "metadata": {},
     "output_type": "execute_result"
    }
   ],
   "source": [
    "X_train[0]"
   ]
  },
  {
   "cell_type": "code",
   "execution_count": null,
   "id": "aa5c69ed-b7af-4b1c-a239-bcc752bbe1a6",
   "metadata": {},
   "outputs": [],
   "source": []
  },
  {
   "cell_type": "code",
   "execution_count": null,
   "id": "b70667ee-f8ec-4b31-ab49-ddd43cade12c",
   "metadata": {},
   "outputs": [],
   "source": []
  },
  {
   "cell_type": "code",
   "execution_count": 21,
   "id": "5aac59e8-c31e-4ae2-8299-8a6fb216c395",
   "metadata": {},
   "outputs": [
    {
     "data": {
      "text/html": [
       "<pre style=\"white-space:pre;overflow-x:auto;line-height:normal;font-family:Menlo,'DejaVu Sans Mono',consolas,'Courier New',monospace\"><span style=\"font-weight: bold\">Model: \"META_k2\"</span>\n",
       "</pre>\n"
      ],
      "text/plain": [
       "\u001b[1mModel: \"META_k2\"\u001b[0m\n"
      ]
     },
     "metadata": {},
     "output_type": "display_data"
    },
    {
     "data": {
      "text/html": [
       "<pre style=\"white-space:pre;overflow-x:auto;line-height:normal;font-family:Menlo,'DejaVu Sans Mono',consolas,'Courier New',monospace\">┏━━━━━━━━━━━━━━━━━━━━━━━━━━━━━━━━━┳━━━━━━━━━━━━━━━━━━━━━━━━┳━━━━━━━━━━━━━━━┓\n",
       "┃<span style=\"font-weight: bold\"> Layer (type)                    </span>┃<span style=\"font-weight: bold\"> Output Shape           </span>┃<span style=\"font-weight: bold\">       Param # </span>┃\n",
       "┡━━━━━━━━━━━━━━━━━━━━━━━━━━━━━━━━━╇━━━━━━━━━━━━━━━━━━━━━━━━╇━━━━━━━━━━━━━━━┩\n",
       "│ dense_6 (<span style=\"color: #0087ff; text-decoration-color: #0087ff\">Dense</span>)                 │ (<span style=\"color: #00d7ff; text-decoration-color: #00d7ff\">None</span>, <span style=\"color: #00af00; text-decoration-color: #00af00\">128</span>)            │         <span style=\"color: #00af00; text-decoration-color: #00af00\">7,552</span> │\n",
       "├─────────────────────────────────┼────────────────────────┼───────────────┤\n",
       "│ dropout_3 (<span style=\"color: #0087ff; text-decoration-color: #0087ff\">Dropout</span>)             │ (<span style=\"color: #00d7ff; text-decoration-color: #00d7ff\">None</span>, <span style=\"color: #00af00; text-decoration-color: #00af00\">128</span>)            │             <span style=\"color: #00af00; text-decoration-color: #00af00\">0</span> │\n",
       "├─────────────────────────────────┼────────────────────────┼───────────────┤\n",
       "│ dense_7 (<span style=\"color: #0087ff; text-decoration-color: #0087ff\">Dense</span>)                 │ (<span style=\"color: #00d7ff; text-decoration-color: #00d7ff\">None</span>, <span style=\"color: #00af00; text-decoration-color: #00af00\">64</span>)             │         <span style=\"color: #00af00; text-decoration-color: #00af00\">8,256</span> │\n",
       "├─────────────────────────────────┼────────────────────────┼───────────────┤\n",
       "│ dense_8 (<span style=\"color: #0087ff; text-decoration-color: #0087ff\">Dense</span>)                 │ (<span style=\"color: #00d7ff; text-decoration-color: #00d7ff\">None</span>, <span style=\"color: #00af00; text-decoration-color: #00af00\">58</span>)             │         <span style=\"color: #00af00; text-decoration-color: #00af00\">3,770</span> │\n",
       "└─────────────────────────────────┴────────────────────────┴───────────────┘\n",
       "</pre>\n"
      ],
      "text/plain": [
       "┏━━━━━━━━━━━━━━━━━━━━━━━━━━━━━━━━━┳━━━━━━━━━━━━━━━━━━━━━━━━┳━━━━━━━━━━━━━━━┓\n",
       "┃\u001b[1m \u001b[0m\u001b[1mLayer (type)                   \u001b[0m\u001b[1m \u001b[0m┃\u001b[1m \u001b[0m\u001b[1mOutput Shape          \u001b[0m\u001b[1m \u001b[0m┃\u001b[1m \u001b[0m\u001b[1m      Param #\u001b[0m\u001b[1m \u001b[0m┃\n",
       "┡━━━━━━━━━━━━━━━━━━━━━━━━━━━━━━━━━╇━━━━━━━━━━━━━━━━━━━━━━━━╇━━━━━━━━━━━━━━━┩\n",
       "│ dense_6 (\u001b[38;5;33mDense\u001b[0m)                 │ (\u001b[38;5;45mNone\u001b[0m, \u001b[38;5;34m128\u001b[0m)            │         \u001b[38;5;34m7,552\u001b[0m │\n",
       "├─────────────────────────────────┼────────────────────────┼───────────────┤\n",
       "│ dropout_3 (\u001b[38;5;33mDropout\u001b[0m)             │ (\u001b[38;5;45mNone\u001b[0m, \u001b[38;5;34m128\u001b[0m)            │             \u001b[38;5;34m0\u001b[0m │\n",
       "├─────────────────────────────────┼────────────────────────┼───────────────┤\n",
       "│ dense_7 (\u001b[38;5;33mDense\u001b[0m)                 │ (\u001b[38;5;45mNone\u001b[0m, \u001b[38;5;34m64\u001b[0m)             │         \u001b[38;5;34m8,256\u001b[0m │\n",
       "├─────────────────────────────────┼────────────────────────┼───────────────┤\n",
       "│ dense_8 (\u001b[38;5;33mDense\u001b[0m)                 │ (\u001b[38;5;45mNone\u001b[0m, \u001b[38;5;34m58\u001b[0m)             │         \u001b[38;5;34m3,770\u001b[0m │\n",
       "└─────────────────────────────────┴────────────────────────┴───────────────┘\n"
      ]
     },
     "metadata": {},
     "output_type": "display_data"
    },
    {
     "data": {
      "text/html": [
       "<pre style=\"white-space:pre;overflow-x:auto;line-height:normal;font-family:Menlo,'DejaVu Sans Mono',consolas,'Courier New',monospace\"><span style=\"font-weight: bold\"> Total params: </span><span style=\"color: #00af00; text-decoration-color: #00af00\">19,578</span> (76.48 KB)\n",
       "</pre>\n"
      ],
      "text/plain": [
       "\u001b[1m Total params: \u001b[0m\u001b[38;5;34m19,578\u001b[0m (76.48 KB)\n"
      ]
     },
     "metadata": {},
     "output_type": "display_data"
    },
    {
     "data": {
      "text/html": [
       "<pre style=\"white-space:pre;overflow-x:auto;line-height:normal;font-family:Menlo,'DejaVu Sans Mono',consolas,'Courier New',monospace\"><span style=\"font-weight: bold\"> Trainable params: </span><span style=\"color: #00af00; text-decoration-color: #00af00\">19,578</span> (76.48 KB)\n",
       "</pre>\n"
      ],
      "text/plain": [
       "\u001b[1m Trainable params: \u001b[0m\u001b[38;5;34m19,578\u001b[0m (76.48 KB)\n"
      ]
     },
     "metadata": {},
     "output_type": "display_data"
    },
    {
     "data": {
      "text/html": [
       "<pre style=\"white-space:pre;overflow-x:auto;line-height:normal;font-family:Menlo,'DejaVu Sans Mono',consolas,'Courier New',monospace\"><span style=\"font-weight: bold\"> Non-trainable params: </span><span style=\"color: #00af00; text-decoration-color: #00af00\">0</span> (0.00 B)\n",
       "</pre>\n"
      ],
      "text/plain": [
       "\u001b[1m Non-trainable params: \u001b[0m\u001b[38;5;34m0\u001b[0m (0.00 B)\n"
      ]
     },
     "metadata": {},
     "output_type": "display_data"
    },
    {
     "name": "stdout",
     "output_type": "stream",
     "text": [
      "Epoch 1/100\n",
      "\u001b[1m3204/3204\u001b[0m \u001b[32m━━━━━━━━━━━━━━━━━━━━\u001b[0m\u001b[37m\u001b[0m \u001b[1m3s\u001b[0m 721us/step - accuracy: 0.7548 - loss: 1.0334 - val_accuracy: 0.8783 - val_loss: 0.3920\n",
      "Epoch 2/100\n",
      "\u001b[1m3204/3204\u001b[0m \u001b[32m━━━━━━━━━━━━━━━━━━━━\u001b[0m\u001b[37m\u001b[0m \u001b[1m2s\u001b[0m 713us/step - accuracy: 0.8754 - loss: 0.4030 - val_accuracy: 0.8870 - val_loss: 0.3700\n",
      "Epoch 3/100\n",
      "\u001b[1m3204/3204\u001b[0m \u001b[32m━━━━━━━━━━━━━━━━━━━━\u001b[0m\u001b[37m\u001b[0m \u001b[1m2s\u001b[0m 699us/step - accuracy: 0.8838 - loss: 0.3760 - val_accuracy: 0.8906 - val_loss: 0.3628\n",
      "Epoch 4/100\n",
      "\u001b[1m3204/3204\u001b[0m \u001b[32m━━━━━━━━━━━━━━━━━━━━\u001b[0m\u001b[37m\u001b[0m \u001b[1m2s\u001b[0m 696us/step - accuracy: 0.8870 - loss: 0.3672 - val_accuracy: 0.8938 - val_loss: 0.3518\n",
      "Epoch 5/100\n",
      "\u001b[1m3204/3204\u001b[0m \u001b[32m━━━━━━━━━━━━━━━━━━━━\u001b[0m\u001b[37m\u001b[0m \u001b[1m2s\u001b[0m 709us/step - accuracy: 0.8912 - loss: 0.3529 - val_accuracy: 0.8943 - val_loss: 0.3467\n",
      "Epoch 6/100\n",
      "\u001b[1m3204/3204\u001b[0m \u001b[32m━━━━━━━━━━━━━━━━━━━━\u001b[0m\u001b[37m\u001b[0m \u001b[1m2s\u001b[0m 698us/step - accuracy: 0.8938 - loss: 0.3463 - val_accuracy: 0.8955 - val_loss: 0.3453\n",
      "Epoch 7/100\n",
      "\u001b[1m3204/3204\u001b[0m \u001b[32m━━━━━━━━━━━━━━━━━━━━\u001b[0m\u001b[37m\u001b[0m \u001b[1m2s\u001b[0m 700us/step - accuracy: 0.8930 - loss: 0.3461 - val_accuracy: 0.8968 - val_loss: 0.3415\n",
      "Epoch 8/100\n",
      "\u001b[1m3204/3204\u001b[0m \u001b[32m━━━━━━━━━━━━━━━━━━━━\u001b[0m\u001b[37m\u001b[0m \u001b[1m2s\u001b[0m 704us/step - accuracy: 0.8961 - loss: 0.3360 - val_accuracy: 0.8964 - val_loss: 0.3386\n",
      "Epoch 9/100\n",
      "\u001b[1m3204/3204\u001b[0m \u001b[32m━━━━━━━━━━━━━━━━━━━━\u001b[0m\u001b[37m\u001b[0m \u001b[1m2s\u001b[0m 701us/step - accuracy: 0.8981 - loss: 0.3321 - val_accuracy: 0.8986 - val_loss: 0.3346\n",
      "Epoch 10/100\n",
      "\u001b[1m3204/3204\u001b[0m \u001b[32m━━━━━━━━━━━━━━━━━━━━\u001b[0m\u001b[37m\u001b[0m \u001b[1m2s\u001b[0m 696us/step - accuracy: 0.8987 - loss: 0.3313 - val_accuracy: 0.9007 - val_loss: 0.3344\n",
      "Epoch 11/100\n",
      "\u001b[1m3204/3204\u001b[0m \u001b[32m━━━━━━━━━━━━━━━━━━━━\u001b[0m\u001b[37m\u001b[0m \u001b[1m2s\u001b[0m 709us/step - accuracy: 0.9010 - loss: 0.3218 - val_accuracy: 0.9000 - val_loss: 0.3332\n",
      "Epoch 12/100\n",
      "\u001b[1m3204/3204\u001b[0m \u001b[32m━━━━━━━━━━━━━━━━━━━━\u001b[0m\u001b[37m\u001b[0m \u001b[1m2s\u001b[0m 703us/step - accuracy: 0.9020 - loss: 0.3182 - val_accuracy: 0.8999 - val_loss: 0.3321\n",
      "Epoch 13/100\n",
      "\u001b[1m3204/3204\u001b[0m \u001b[32m━━━━━━━━━━━━━━━━━━━━\u001b[0m\u001b[37m\u001b[0m \u001b[1m2s\u001b[0m 707us/step - accuracy: 0.9030 - loss: 0.3163 - val_accuracy: 0.9009 - val_loss: 0.3312\n",
      "Epoch 14/100\n",
      "\u001b[1m3204/3204\u001b[0m \u001b[32m━━━━━━━━━━━━━━━━━━━━\u001b[0m\u001b[37m\u001b[0m \u001b[1m2s\u001b[0m 720us/step - accuracy: 0.9022 - loss: 0.3158 - val_accuracy: 0.9007 - val_loss: 0.3292\n",
      "Epoch 15/100\n",
      "\u001b[1m3204/3204\u001b[0m \u001b[32m━━━━━━━━━━━━━━━━━━━━\u001b[0m\u001b[37m\u001b[0m \u001b[1m2s\u001b[0m 703us/step - accuracy: 0.9031 - loss: 0.3134 - val_accuracy: 0.9009 - val_loss: 0.3294\n",
      "Epoch 16/100\n",
      "\u001b[1m3204/3204\u001b[0m \u001b[32m━━━━━━━━━━━━━━━━━━━━\u001b[0m\u001b[37m\u001b[0m \u001b[1m2s\u001b[0m 711us/step - accuracy: 0.9033 - loss: 0.3126 - val_accuracy: 0.9003 - val_loss: 0.3302\n",
      "Epoch 17/100\n",
      "\u001b[1m3204/3204\u001b[0m \u001b[32m━━━━━━━━━━━━━━━━━━━━\u001b[0m\u001b[37m\u001b[0m \u001b[1m2s\u001b[0m 698us/step - accuracy: 0.9053 - loss: 0.3089 - val_accuracy: 0.8990 - val_loss: 0.3311\n",
      "Epoch 18/100\n",
      "\u001b[1m3204/3204\u001b[0m \u001b[32m━━━━━━━━━━━━━━━━━━━━\u001b[0m\u001b[37m\u001b[0m \u001b[1m2s\u001b[0m 705us/step - accuracy: 0.9051 - loss: 0.3067 - val_accuracy: 0.9027 - val_loss: 0.3268\n",
      "Epoch 19/100\n",
      "\u001b[1m3204/3204\u001b[0m \u001b[32m━━━━━━━━━━━━━━━━━━━━\u001b[0m\u001b[37m\u001b[0m \u001b[1m2s\u001b[0m 713us/step - accuracy: 0.9046 - loss: 0.3079 - val_accuracy: 0.9016 - val_loss: 0.3276\n",
      "Epoch 20/100\n",
      "\u001b[1m3204/3204\u001b[0m \u001b[32m━━━━━━━━━━━━━━━━━━━━\u001b[0m\u001b[37m\u001b[0m \u001b[1m2s\u001b[0m 702us/step - accuracy: 0.9067 - loss: 0.3029 - val_accuracy: 0.9024 - val_loss: 0.3283\n",
      "Epoch 21/100\n",
      "\u001b[1m3204/3204\u001b[0m \u001b[32m━━━━━━━━━━━━━━━━━━━━\u001b[0m\u001b[37m\u001b[0m \u001b[1m2s\u001b[0m 720us/step - accuracy: 0.9065 - loss: 0.3036 - val_accuracy: 0.9013 - val_loss: 0.3313\n",
      "Epoch 22/100\n",
      "\u001b[1m3204/3204\u001b[0m \u001b[32m━━━━━━━━━━━━━━━━━━━━\u001b[0m\u001b[37m\u001b[0m \u001b[1m2s\u001b[0m 702us/step - accuracy: 0.9070 - loss: 0.2995 - val_accuracy: 0.9016 - val_loss: 0.3295\n",
      "Epoch 23/100\n",
      "\u001b[1m3204/3204\u001b[0m \u001b[32m━━━━━━━━━━━━━━━━━━━━\u001b[0m\u001b[37m\u001b[0m \u001b[1m2s\u001b[0m 719us/step - accuracy: 0.9076 - loss: 0.2973 - val_accuracy: 0.9026 - val_loss: 0.3263\n",
      "\n",
      "[Train Accuracy: 90.57% - Test Accuracy: 90.57%]\n"
     ]
    }
   ],
   "source": [
    "name=\"META_k2\"\n",
    "def build_stage2_classifier():\n",
    "    meta_model = Sequential(name=name)\n",
    "    meta_model.add(Input(shape=(len(models_dict),)))\n",
    "    meta_model.add(Dense(128, activation='relu'))\n",
    "    meta_model.add(Dropout(0.1))\n",
    "    meta_model.add(Dense(64, activation='relu'))\n",
    "    meta_model.add(Dense(len(gene_info), activation='softmax'))\n",
    "    meta_model.compile(optimizer='adam', loss='sparse_categorical_crossentropy', metrics=['accuracy'])\n",
    "    meta_model.summary()\n",
    "    return meta_model\n",
    "    \n",
    "# Build\n",
    "meta_model = build_stage2_classifier()\n",
    "stop_callback = early_stopping(patience=5)\n",
    "save_callback = model_checkpoint(name)\n",
    "\n",
    "# Train\n",
    "#history = meta_model.fit(training_generator, validation_data=validation_generator, epochs=10, callbacks=[stop_callback, save_callback])\n",
    "history = meta_model.fit(X_train, y_train, validation_data=(X_val, y_val), epochs=100, batch_size=64, callbacks=[stop_callback, save_callback])\n",
    "\n",
    "# Evaluate\n",
    "# Evaluate and score\n",
    "test_scores = meta_model.evaluate(X_test, y_test, verbose=0)\n",
    "train_score = history.history.get('accuracy')[-1]\n",
    "print(\"\\n[Train Accuracy: {:.2f}% - Test Accuracy: {:.2f}%]\".format(train_score*100, test_scores[1]*100))"
   ]
  },
  {
   "cell_type": "code",
   "execution_count": 22,
   "id": "50f4235a-75ba-483b-a063-c9deb498ca6f",
   "metadata": {},
   "outputs": [
    {
     "data": {
      "image/png": "[encoded data removed]",
      "text/plain": [
       "<Figure size 640x480 with 1 Axes>"
      ]
     },
     "metadata": {},
     "output_type": "display_data"
    }
   ],
   "source": [
    "VISU.plot_curve(history, ['loss', 'val_loss', 'accuracy', 'val_accuracy'])"
   ]
  },
  {
   "cell_type": "code",
   "execution_count": null,
   "id": "b74f0c8a-9575-4283-bda2-7d9f1c3600d3",
   "metadata": {},
   "outputs": [],
   "source": [
    "######################################### DEBUG TO OPTIMIZE K-MER LOEADER FUNCTION ###########################################"
   ]
  }
 ],
 "metadata": {
  "kernelspec": {
   "display_name": "Python 3 (ipykernel)",
   "language": "python",
   "name": "python3"
  },
  "language_info": {
   "codemirror_mode": {
    "name": "ipython",
    "version": 3
   },
   "file_extension": ".py",
   "mimetype": "text/x-python",
   "name": "python",
   "nbconvert_exporter": "python",
   "pygments_lexer": "ipython3",
   "version": "3.11.8"
  }
 },
 "nbformat": 4,
 "nbformat_minor": 5
}
