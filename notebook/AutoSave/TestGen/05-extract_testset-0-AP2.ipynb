{
 "cells": [
  {
   "cell_type": "code",
   "execution_count": 1,
   "id": "ec120032",
   "metadata": {
    "execution": {
     "iopub.execute_input": "2024-07-04T12:36:54.759717Z",
     "iopub.status.busy": "2024-07-04T12:36:54.759305Z",
     "iopub.status.idle": "2024-07-04T12:36:54.764612Z",
     "shell.execute_reply": "2024-07-04T12:36:54.764224Z"
    },
    "papermill": {
     "duration": 0.012511,
     "end_time": "2024-07-04T12:36:54.765747",
     "exception": false,
     "start_time": "2024-07-04T12:36:54.753236",
     "status": "completed"
    },
    "tags": [
     "injected-parameters"
    ]
   },
   "outputs": [],
   "source": [
    "# Parameters\n",
    "gene_familly = \"AP2\"\n"
   ]
  },
  {
   "cell_type": "code",
   "execution_count": 2,
   "id": "e7cdbe25-11a6-48da-abd4-9ae5eee27bfe",
   "metadata": {
    "execution": {
     "iopub.execute_input": "2024-07-04T12:36:54.769347Z",
     "iopub.status.busy": "2024-07-04T12:36:54.769190Z",
     "iopub.status.idle": "2024-07-04T12:36:55.708496Z",
     "shell.execute_reply": "2024-07-04T12:36:55.708067Z"
    },
    "papermill": {
     "duration": 0.942219,
     "end_time": "2024-07-04T12:36:55.709770",
     "exception": false,
     "start_time": "2024-07-04T12:36:54.767551",
     "status": "completed"
    },
    "tags": []
   },
   "outputs": [],
   "source": [
    "import json\n",
    "import pandas as pd\n",
    "from sklearn.model_selection import train_test_split"
   ]
  },
  {
   "cell_type": "code",
   "execution_count": 3,
   "id": "6e20f340-8cbc-46f2-be83-6f1c4523930a",
   "metadata": {
    "execution": {
     "iopub.execute_input": "2024-07-04T12:36:55.713038Z",
     "iopub.status.busy": "2024-07-04T12:36:55.712800Z",
     "iopub.status.idle": "2024-07-04T12:36:55.764565Z",
     "shell.execute_reply": "2024-07-04T12:36:55.764181Z"
    },
    "papermill": {
     "duration": 0.05461,
     "end_time": "2024-07-04T12:36:55.765635",
     "exception": false,
     "start_time": "2024-07-04T12:36:55.711025",
     "status": "completed"
    },
    "tags": []
   },
   "outputs": [
    {
     "data": {
      "text/html": [
       "<div>\n",
       "<style scoped>\n",
       "    .dataframe tbody tr th:only-of-type {\n",
       "        vertical-align: middle;\n",
       "    }\n",
       "\n",
       "    .dataframe tbody tr th {\n",
       "        vertical-align: top;\n",
       "    }\n",
       "\n",
       "    .dataframe thead th {\n",
       "        text-align: right;\n",
       "    }\n",
       "</style>\n",
       "<table border=\"1\" class=\"dataframe\">\n",
       "  <thead>\n",
       "    <tr style=\"text-align: right;\">\n",
       "      <th></th>\n",
       "      <th>id</th>\n",
       "      <th>sequence</th>\n",
       "      <th>length</th>\n",
       "      <th>class</th>\n",
       "    </tr>\n",
       "  </thead>\n",
       "  <tbody>\n",
       "    <tr>\n",
       "      <th>0</th>\n",
       "      <td>Achn015881</td>\n",
       "      <td>MAYMNNWLGFSLSPQEHQNPQDHSQNSVSRLGFNTDKISGTDVSSD...</td>\n",
       "      <td>650</td>\n",
       "      <td>1</td>\n",
       "    </tr>\n",
       "    <tr>\n",
       "      <th>1</th>\n",
       "      <td>Achn066211</td>\n",
       "      <td>MLDLNLTAMPTDSISDGQMDDSGASNSSLLNVETSSVAVDEESSST...</td>\n",
       "      <td>405</td>\n",
       "      <td>1</td>\n",
       "    </tr>\n",
       "    <tr>\n",
       "      <th>2</th>\n",
       "      <td>Achn082221</td>\n",
       "      <td>MLDLNLSFARDEEYVSITEKFPEGSGGGAMDESGTSNSSIVNAEDD...</td>\n",
       "      <td>375</td>\n",
       "      <td>1</td>\n",
       "    </tr>\n",
       "    <tr>\n",
       "      <th>3</th>\n",
       "      <td>Achn088601</td>\n",
       "      <td>MEMITLVKSEVSPVRRRLCEMERDQKQPQQLLVDKSSATNTTVKRS...</td>\n",
       "      <td>312</td>\n",
       "      <td>1</td>\n",
       "    </tr>\n",
       "    <tr>\n",
       "      <th>4</th>\n",
       "      <td>Achn108581</td>\n",
       "      <td>MLDLNLSVVHNEDDSMEITNKFPEGSEGQMADSGTSTSSVVNAEGS...</td>\n",
       "      <td>426</td>\n",
       "      <td>1</td>\n",
       "    </tr>\n",
       "  </tbody>\n",
       "</table>\n",
       "</div>"
      ],
      "text/plain": [
       "           id                                           sequence  length  \\\n",
       "0  Achn015881  MAYMNNWLGFSLSPQEHQNPQDHSQNSVSRLGFNTDKISGTDVSSD...     650   \n",
       "1  Achn066211  MLDLNLTAMPTDSISDGQMDDSGASNSSLLNVETSSVAVDEESSST...     405   \n",
       "2  Achn082221  MLDLNLSFARDEEYVSITEKFPEGSGGGAMDESGTSNSSIVNAEDD...     375   \n",
       "3  Achn088601  MEMITLVKSEVSPVRRRLCEMERDQKQPQQLLVDKSSATNTTVKRS...     312   \n",
       "4  Achn108581  MLDLNLSVVHNEDDSMEITNKFPEGSEGQMADSGTSTSSVVNAEGS...     426   \n",
       "\n",
       "   class  \n",
       "0      1  \n",
       "1      1  \n",
       "2      1  \n",
       "3      1  \n",
       "4      1  "
      ]
     },
     "execution_count": 3,
     "metadata": {},
     "output_type": "execute_result"
    }
   ],
   "source": [
    "# READ GENE_INFO JSON FILE\n",
    "gene_info_path = \"../data/gene_info.json\"\n",
    "dataset_path   = \"../data/one_vs_other/\"\n",
    "with open(gene_info_path, 'r') as json_file:\n",
    "    gene_info = json.load(json_file)\n",
    "\n",
    "# FOCUS ON GENE FAMILLY\n",
    "gene_dict = gene_info[gene_familly]\n",
    "df_path = dataset_path+gene_dict['file_code']+\".csv\"\n",
    "\n",
    "# LOAD WHOLE DATASET\n",
    "USE_FULL_DF = True\n",
    "if USE_FULL_DF:\n",
    "    dataset = pd.read_csv(df_path)\n",
    "else:\n",
    "    dataset_ = pd.read_csv(df_path)\n",
    "    r = min(5000/len(dataset_), 1)\n",
    "    _, dataset = train_test_split(dataset_, test_size=r, stratify=dataset_['class'], random_state=42)\n",
    "dataset.head()"
   ]
  },
  {
   "cell_type": "code",
   "execution_count": 4,
   "id": "745dff8f-540b-4299-a3f0-dabda69bd837",
   "metadata": {
    "execution": {
     "iopub.execute_input": "2024-07-04T12:36:55.768646Z",
     "iopub.status.busy": "2024-07-04T12:36:55.768473Z",
     "iopub.status.idle": "2024-07-04T12:36:55.773760Z",
     "shell.execute_reply": "2024-07-04T12:36:55.773412Z"
    },
    "papermill": {
     "duration": 0.007857,
     "end_time": "2024-07-04T12:36:55.774793",
     "exception": false,
     "start_time": "2024-07-04T12:36:55.766936",
     "status": "completed"
    },
    "tags": []
   },
   "outputs": [],
   "source": [
    "trainset, testset = train_test_split(dataset, test_size=0.2, stratify=dataset['class'], random_state=42)"
   ]
  },
  {
   "cell_type": "code",
   "execution_count": 5,
   "id": "a9b8b47d-48c6-4e94-a378-574904e308ee",
   "metadata": {
    "execution": {
     "iopub.execute_input": "2024-07-04T12:36:55.777583Z",
     "iopub.status.busy": "2024-07-04T12:36:55.777446Z",
     "iopub.status.idle": "2024-07-04T12:36:55.784252Z",
     "shell.execute_reply": "2024-07-04T12:36:55.783918Z"
    },
    "papermill": {
     "duration": 0.009251,
     "end_time": "2024-07-04T12:36:55.785233",
     "exception": false,
     "start_time": "2024-07-04T12:36:55.775982",
     "status": "completed"
    },
    "tags": []
   },
   "outputs": [
    {
     "name": "stderr",
     "output_type": "stream",
     "text": [
      "/var/folders/w8/b_cflrn97k9c15rcrn5t8mmr0000gn/T/ipykernel_22514/2288533763.py:2: FutureWarning: Setting an item of incompatible dtype is deprecated and will raise in a future error of pandas. Value 'AP2' has dtype incompatible with int64, please explicitly cast to a compatible dtype first.\n",
      "  testset_positive.loc[:, 'class'] = gene_familly\n"
     ]
    },
    {
     "data": {
      "text/html": [
       "<div>\n",
       "<style scoped>\n",
       "    .dataframe tbody tr th:only-of-type {\n",
       "        vertical-align: middle;\n",
       "    }\n",
       "\n",
       "    .dataframe tbody tr th {\n",
       "        vertical-align: top;\n",
       "    }\n",
       "\n",
       "    .dataframe thead th {\n",
       "        text-align: right;\n",
       "    }\n",
       "</style>\n",
       "<table border=\"1\" class=\"dataframe\">\n",
       "  <thead>\n",
       "    <tr style=\"text-align: right;\">\n",
       "      <th></th>\n",
       "      <th>id</th>\n",
       "      <th>sequence</th>\n",
       "      <th>length</th>\n",
       "      <th>class</th>\n",
       "    </tr>\n",
       "  </thead>\n",
       "  <tbody>\n",
       "    <tr>\n",
       "      <th>4240</th>\n",
       "      <td>GSVIVT01022081001 -- AP2</td>\n",
       "      <td>MWDLNDSPDQRRDDESEGCSSQKTSNSSSSAVVIEDGSDEEDGERG...</td>\n",
       "      <td>491</td>\n",
       "      <td>AP2</td>\n",
       "    </tr>\n",
       "    <tr>\n",
       "      <th>848</th>\n",
       "      <td>Cre03.g144424.t1.1 -- AP2</td>\n",
       "      <td>MLDERGRGAPGQAFAPAPAESRFASVPSSLHRGAFAPGPAQHMQHV...</td>\n",
       "      <td>2735</td>\n",
       "      <td>AP2</td>\n",
       "    </tr>\n",
       "    <tr>\n",
       "      <th>1186</th>\n",
       "      <td>XP_010938537.1 -- AP2</td>\n",
       "      <td>MAAASSSSADPGLTKVEAAASGGGEGSSEGRRAAAVGSEQLSFGGL...</td>\n",
       "      <td>414</td>\n",
       "      <td>AP2</td>\n",
       "    </tr>\n",
       "    <tr>\n",
       "      <th>857</th>\n",
       "      <td>gw1.3.461.1 -- AP2</td>\n",
       "      <td>TSPFRGVTRHRLTGRYEAHFWDSSYKKGGRSRGRQIYLGGYETELE...</td>\n",
       "      <td>166</td>\n",
       "      <td>AP2</td>\n",
       "    </tr>\n",
       "    <tr>\n",
       "      <th>883</th>\n",
       "      <td>XP_004509770.1 -- AP2</td>\n",
       "      <td>MARSTTTNNNNWLSFSLSPMEMPQFNPYDAASSVSSSHHHHYFLDN...</td>\n",
       "      <td>518</td>\n",
       "      <td>AP2</td>\n",
       "    </tr>\n",
       "    <tr>\n",
       "      <th>...</th>\n",
       "      <td>...</td>\n",
       "      <td>...</td>\n",
       "      <td>...</td>\n",
       "      <td>...</td>\n",
       "    </tr>\n",
       "    <tr>\n",
       "      <th>3628</th>\n",
       "      <td>XP_011084677.1 -- AP2</td>\n",
       "      <td>MAANSMNNWLGFSLSHHQEHSQNSSVCDQLGEFNSDEISATQVSGE...</td>\n",
       "      <td>660</td>\n",
       "      <td>AP2</td>\n",
       "    </tr>\n",
       "    <tr>\n",
       "      <th>564</th>\n",
       "      <td>XP_009138183.1 -- AP2</td>\n",
       "      <td>MWDLNDSPHQTLVEEESEELCYSSPGKRVGSFSNSSSSAVVIEDGS...</td>\n",
       "      <td>433</td>\n",
       "      <td>AP2</td>\n",
       "    </tr>\n",
       "    <tr>\n",
       "      <th>2877</th>\n",
       "      <td>LOC_Os04g55560.3 -- AP2</td>\n",
       "      <td>MWDLNDSPAAEAAPPPLSPSADDSGASSSSAAAVVEIPDDADDDSA...</td>\n",
       "      <td>460</td>\n",
       "      <td>AP2</td>\n",
       "    </tr>\n",
       "    <tr>\n",
       "      <th>1955</th>\n",
       "      <td>Lus10036141 -- AP2</td>\n",
       "      <td>MLDLNLNVESAESAHDSYSVSFVENKYECHMLQPEASGTSNSSVVN...</td>\n",
       "      <td>502</td>\n",
       "      <td>AP2</td>\n",
       "    </tr>\n",
       "    <tr>\n",
       "      <th>1492</th>\n",
       "      <td>KHN38063.1 -- AP2</td>\n",
       "      <td>MAKKSQKSLKNNNNNNTTRKRTRKSVPRDSPPQRSSIYRGVTRHRW...</td>\n",
       "      <td>296</td>\n",
       "      <td>AP2</td>\n",
       "    </tr>\n",
       "  </tbody>\n",
       "</table>\n",
       "<p>892 rows × 4 columns</p>\n",
       "</div>"
      ],
      "text/plain": [
       "                             id  \\\n",
       "4240   GSVIVT01022081001 -- AP2   \n",
       "848   Cre03.g144424.t1.1 -- AP2   \n",
       "1186      XP_010938537.1 -- AP2   \n",
       "857          gw1.3.461.1 -- AP2   \n",
       "883       XP_004509770.1 -- AP2   \n",
       "...                         ...   \n",
       "3628      XP_011084677.1 -- AP2   \n",
       "564       XP_009138183.1 -- AP2   \n",
       "2877    LOC_Os04g55560.3 -- AP2   \n",
       "1955         Lus10036141 -- AP2   \n",
       "1492          KHN38063.1 -- AP2   \n",
       "\n",
       "                                               sequence  length class  \n",
       "4240  MWDLNDSPDQRRDDESEGCSSQKTSNSSSSAVVIEDGSDEEDGERG...     491   AP2  \n",
       "848   MLDERGRGAPGQAFAPAPAESRFASVPSSLHRGAFAPGPAQHMQHV...    2735   AP2  \n",
       "1186  MAAASSSSADPGLTKVEAAASGGGEGSSEGRRAAAVGSEQLSFGGL...     414   AP2  \n",
       "857   TSPFRGVTRHRLTGRYEAHFWDSSYKKGGRSRGRQIYLGGYETELE...     166   AP2  \n",
       "883   MARSTTTNNNNWLSFSLSPMEMPQFNPYDAASSVSSSHHHHYFLDN...     518   AP2  \n",
       "...                                                 ...     ...   ...  \n",
       "3628  MAANSMNNWLGFSLSHHQEHSQNSSVCDQLGEFNSDEISATQVSGE...     660   AP2  \n",
       "564   MWDLNDSPHQTLVEEESEELCYSSPGKRVGSFSNSSSSAVVIEDGS...     433   AP2  \n",
       "2877  MWDLNDSPAAEAAPPPLSPSADDSGASSSSAAAVVEIPDDADDDSA...     460   AP2  \n",
       "1955  MLDLNLNVESAESAHDSYSVSFVENKYECHMLQPEASGTSNSSVVN...     502   AP2  \n",
       "1492  MAKKSQKSLKNNNNNNTTRKRTRKSVPRDSPPQRSSIYRGVTRHRW...     296   AP2  \n",
       "\n",
       "[892 rows x 4 columns]"
      ]
     },
     "execution_count": 5,
     "metadata": {},
     "output_type": "execute_result"
    }
   ],
   "source": [
    "testset_positive = testset[testset['class'] == 1]\n",
    "testset_positive.loc[:, 'class'] = gene_familly\n",
    "testset_positive.loc[:, 'id'] = testset_positive['id'].apply(lambda x: f\"{x} -- {gene_familly}\")\n",
    "testset_positive"
   ]
  },
  {
   "cell_type": "code",
   "execution_count": 6,
   "id": "25a9ad39-47e0-4b0a-9669-c9ed5c6cafa3",
   "metadata": {
    "execution": {
     "iopub.execute_input": "2024-07-04T12:36:55.788684Z",
     "iopub.status.busy": "2024-07-04T12:36:55.788539Z",
     "iopub.status.idle": "2024-07-04T12:36:55.874487Z",
     "shell.execute_reply": "2024-07-04T12:36:55.874121Z"
    },
    "papermill": {
     "duration": 0.088876,
     "end_time": "2024-07-04T12:36:55.875719",
     "exception": false,
     "start_time": "2024-07-04T12:36:55.786843",
     "status": "completed"
    },
    "tags": []
   },
   "outputs": [],
   "source": [
    "testset_positive.to_csv(\"../data/testset/\"+gene_dict['file_code']+\".csv\")\n",
    "trainset.to_csv(\"../data/mix_data/trainset/\"+gene_dict['file_code']+\".csv\")\n",
    "testset.to_csv(\"../data/mix_data/testset/\"+gene_dict['file_code']+\".csv\")"
   ]
  },
  {
   "cell_type": "code",
   "execution_count": null,
   "id": "4107c4c5-3c5d-44f9-af27-5b81b6d102e5",
   "metadata": {
    "papermill": {
     "duration": 0.001197,
     "end_time": "2024-07-04T12:36:55.878502",
     "exception": false,
     "start_time": "2024-07-04T12:36:55.877305",
     "status": "completed"
    },
    "tags": []
   },
   "outputs": [],
   "source": []
  }
 ],
 "metadata": {
  "kernelspec": {
   "display_name": "Python 3 (ipykernel)",
   "language": "python",
   "name": "python3"
  },
  "language_info": {
   "codemirror_mode": {
    "name": "ipython",
    "version": 3
   },
   "file_extension": ".py",
   "mimetype": "text/x-python",
   "name": "python",
   "nbconvert_exporter": "python",
   "pygments_lexer": "ipython3",
   "version": "3.11.7"
  },
  "papermill": {
   "default_parameters": {},
   "duration": 2.581346,
   "end_time": "2024-07-04T12:36:56.197680",
   "environment_variables": {},
   "exception": null,
   "input_path": "05-extract_testset-0.ipynb",
   "output_path": "AutoSave/TestGen/05-extract_testset-0-AP2.ipynb",
   "parameters": {
    "gene_familly": "AP2"
   },
   "start_time": "2024-07-04T12:36:53.616334",
   "version": "2.6.0"
  }
 },
 "nbformat": 4,
 "nbformat_minor": 5
}