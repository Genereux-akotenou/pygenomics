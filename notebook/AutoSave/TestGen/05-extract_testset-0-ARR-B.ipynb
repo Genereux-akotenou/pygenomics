{
 "cells": [
  {
   "cell_type": "code",
   "execution_count": 1,
   "id": "3cf586a1",
   "metadata": {
    "execution": {
     "iopub.execute_input": "2024-07-04T12:36:58.759660Z",
     "iopub.status.busy": "2024-07-04T12:36:58.759507Z",
     "iopub.status.idle": "2024-07-04T12:36:58.764038Z",
     "shell.execute_reply": "2024-07-04T12:36:58.763716Z"
    },
    "papermill": {
     "duration": 0.007505,
     "end_time": "2024-07-04T12:36:58.765071",
     "exception": false,
     "start_time": "2024-07-04T12:36:58.757566",
     "status": "completed"
    },
    "tags": [
     "injected-parameters"
    ]
   },
   "outputs": [],
   "source": [
    "# Parameters\n",
    "gene_familly = \"ARR-B\"\n"
   ]
  },
  {
   "cell_type": "code",
   "execution_count": 2,
   "id": "e7cdbe25-11a6-48da-abd4-9ae5eee27bfe",
   "metadata": {
    "execution": {
     "iopub.execute_input": "2024-07-04T12:36:58.767535Z",
     "iopub.status.busy": "2024-07-04T12:36:58.767399Z",
     "iopub.status.idle": "2024-07-04T12:36:59.464406Z",
     "shell.execute_reply": "2024-07-04T12:36:59.463918Z"
    },
    "papermill": {
     "duration": 0.699722,
     "end_time": "2024-07-04T12:36:59.465885",
     "exception": false,
     "start_time": "2024-07-04T12:36:58.766163",
     "status": "completed"
    },
    "tags": []
   },
   "outputs": [],
   "source": [
    "import json\n",
    "import pandas as pd\n",
    "from sklearn.model_selection import train_test_split"
   ]
  },
  {
   "cell_type": "code",
   "execution_count": 3,
   "id": "6e20f340-8cbc-46f2-be83-6f1c4523930a",
   "metadata": {
    "execution": {
     "iopub.execute_input": "2024-07-04T12:36:59.469662Z",
     "iopub.status.busy": "2024-07-04T12:36:59.469416Z",
     "iopub.status.idle": "2024-07-04T12:36:59.505145Z",
     "shell.execute_reply": "2024-07-04T12:36:59.504798Z"
    },
    "papermill": {
     "duration": 0.038585,
     "end_time": "2024-07-04T12:36:59.506250",
     "exception": false,
     "start_time": "2024-07-04T12:36:59.467665",
     "status": "completed"
    },
    "tags": []
   },
   "outputs": [
    {
     "data": {
      "text/html": [
       "<div>\n",
       "<style scoped>\n",
       "    .dataframe tbody tr th:only-of-type {\n",
       "        vertical-align: middle;\n",
       "    }\n",
       "\n",
       "    .dataframe tbody tr th {\n",
       "        vertical-align: top;\n",
       "    }\n",
       "\n",
       "    .dataframe thead th {\n",
       "        text-align: right;\n",
       "    }\n",
       "</style>\n",
       "<table border=\"1\" class=\"dataframe\">\n",
       "  <thead>\n",
       "    <tr style=\"text-align: right;\">\n",
       "      <th></th>\n",
       "      <th>id</th>\n",
       "      <th>sequence</th>\n",
       "      <th>length</th>\n",
       "      <th>class</th>\n",
       "    </tr>\n",
       "  </thead>\n",
       "  <tbody>\n",
       "    <tr>\n",
       "      <th>0</th>\n",
       "      <td>Achn064521</td>\n",
       "      <td>MKGKNVIQYFPLTASSSFLIHIDGVITTLGRTQPEIRLTQGTQEAS...</td>\n",
       "      <td>611</td>\n",
       "      <td>1</td>\n",
       "    </tr>\n",
       "    <tr>\n",
       "      <th>1</th>\n",
       "      <td>Achn066061</td>\n",
       "      <td>MTVEEIRGRLGGETDRFPVVTSTSQAKTALRMLRENQNRFDLVISD...</td>\n",
       "      <td>445</td>\n",
       "      <td>1</td>\n",
       "    </tr>\n",
       "    <tr>\n",
       "      <th>2</th>\n",
       "      <td>Achn096741</td>\n",
       "      <td>MASNKSTRVIFVNFTIEVEREYGSEIERIALSRVKPLRSEFLVYFA...</td>\n",
       "      <td>711</td>\n",
       "      <td>1</td>\n",
       "    </tr>\n",
       "    <tr>\n",
       "      <th>3</th>\n",
       "      <td>Achn099501</td>\n",
       "      <td>METGFSSPRTDAFPAGLRVLVVDDDLAWLRILEKMLKKCSYEVTTC...</td>\n",
       "      <td>592</td>\n",
       "      <td>1</td>\n",
       "    </tr>\n",
       "    <tr>\n",
       "      <th>4</th>\n",
       "      <td>Achn103181</td>\n",
       "      <td>MNFGVQGEKSMSMPSSSASWKCGDGVSDHFPVGLRVLVVDDDPTCL...</td>\n",
       "      <td>685</td>\n",
       "      <td>1</td>\n",
       "    </tr>\n",
       "  </tbody>\n",
       "</table>\n",
       "</div>"
      ],
      "text/plain": [
       "           id                                           sequence  length  \\\n",
       "0  Achn064521  MKGKNVIQYFPLTASSSFLIHIDGVITTLGRTQPEIRLTQGTQEAS...     611   \n",
       "1  Achn066061  MTVEEIRGRLGGETDRFPVVTSTSQAKTALRMLRENQNRFDLVISD...     445   \n",
       "2  Achn096741  MASNKSTRVIFVNFTIEVEREYGSEIERIALSRVKPLRSEFLVYFA...     711   \n",
       "3  Achn099501  METGFSSPRTDAFPAGLRVLVVDDDLAWLRILEKMLKKCSYEVTTC...     592   \n",
       "4  Achn103181  MNFGVQGEKSMSMPSSSASWKCGDGVSDHFPVGLRVLVVDDDPTCL...     685   \n",
       "\n",
       "   class  \n",
       "0      1  \n",
       "1      1  \n",
       "2      1  \n",
       "3      1  \n",
       "4      1  "
      ]
     },
     "execution_count": 3,
     "metadata": {},
     "output_type": "execute_result"
    }
   ],
   "source": [
    "# READ GENE_INFO JSON FILE\n",
    "gene_info_path = \"../data/gene_info.json\"\n",
    "dataset_path   = \"../data/one_vs_other/\"\n",
    "with open(gene_info_path, 'r') as json_file:\n",
    "    gene_info = json.load(json_file)\n",
    "\n",
    "# FOCUS ON GENE FAMILLY\n",
    "gene_dict = gene_info[gene_familly]\n",
    "df_path = dataset_path+gene_dict['file_code']+\".csv\"\n",
    "\n",
    "# LOAD WHOLE DATASET\n",
    "USE_FULL_DF = True\n",
    "if USE_FULL_DF:\n",
    "    dataset = pd.read_csv(df_path)\n",
    "else:\n",
    "    dataset_ = pd.read_csv(df_path)\n",
    "    r = min(5000/len(dataset_), 1)\n",
    "    _, dataset = train_test_split(dataset_, test_size=r, stratify=dataset_['class'], random_state=42)\n",
    "dataset.head()"
   ]
  },
  {
   "cell_type": "code",
   "execution_count": 4,
   "id": "745dff8f-540b-4299-a3f0-dabda69bd837",
   "metadata": {
    "execution": {
     "iopub.execute_input": "2024-07-04T12:36:59.509344Z",
     "iopub.status.busy": "2024-07-04T12:36:59.509178Z",
     "iopub.status.idle": "2024-07-04T12:36:59.513905Z",
     "shell.execute_reply": "2024-07-04T12:36:59.513560Z"
    },
    "papermill": {
     "duration": 0.00739,
     "end_time": "2024-07-04T12:36:59.515010",
     "exception": false,
     "start_time": "2024-07-04T12:36:59.507620",
     "status": "completed"
    },
    "tags": []
   },
   "outputs": [],
   "source": [
    "trainset, testset = train_test_split(dataset, test_size=0.2, stratify=dataset['class'], random_state=42)"
   ]
  },
  {
   "cell_type": "code",
   "execution_count": 5,
   "id": "a9b8b47d-48c6-4e94-a378-574904e308ee",
   "metadata": {
    "execution": {
     "iopub.execute_input": "2024-07-04T12:36:59.517905Z",
     "iopub.status.busy": "2024-07-04T12:36:59.517647Z",
     "iopub.status.idle": "2024-07-04T12:36:59.524690Z",
     "shell.execute_reply": "2024-07-04T12:36:59.524384Z"
    },
    "papermill": {
     "duration": 0.009534,
     "end_time": "2024-07-04T12:36:59.525681",
     "exception": false,
     "start_time": "2024-07-04T12:36:59.516147",
     "status": "completed"
    },
    "tags": []
   },
   "outputs": [
    {
     "name": "stderr",
     "output_type": "stream",
     "text": [
      "/var/folders/w8/b_cflrn97k9c15rcrn5t8mmr0000gn/T/ipykernel_22532/2288533763.py:2: FutureWarning: Setting an item of incompatible dtype is deprecated and will raise in a future error of pandas. Value 'ARR-B' has dtype incompatible with int64, please explicitly cast to a compatible dtype first.\n",
      "  testset_positive.loc[:, 'class'] = gene_familly\n"
     ]
    },
    {
     "data": {
      "text/html": [
       "<div>\n",
       "<style scoped>\n",
       "    .dataframe tbody tr th:only-of-type {\n",
       "        vertical-align: middle;\n",
       "    }\n",
       "\n",
       "    .dataframe tbody tr th {\n",
       "        vertical-align: top;\n",
       "    }\n",
       "\n",
       "    .dataframe thead th {\n",
       "        text-align: right;\n",
       "    }\n",
       "</style>\n",
       "<table border=\"1\" class=\"dataframe\">\n",
       "  <thead>\n",
       "    <tr style=\"text-align: right;\">\n",
       "      <th></th>\n",
       "      <th>id</th>\n",
       "      <th>sequence</th>\n",
       "      <th>length</th>\n",
       "      <th>class</th>\n",
       "    </tr>\n",
       "  </thead>\n",
       "  <tbody>\n",
       "    <tr>\n",
       "      <th>703</th>\n",
       "      <td>EcC000836.20 -- ARR-B</td>\n",
       "      <td>MLNSVPSFARGLPLLLVDHDPTSLASTRSLLGRYFFNEEDQIRVLI...</td>\n",
       "      <td>1130</td>\n",
       "      <td>ARR-B</td>\n",
       "    </tr>\n",
       "    <tr>\n",
       "      <th>1486</th>\n",
       "      <td>ONIVA06G01160.1 -- ARR-B</td>\n",
       "      <td>MAPVEDGGGVEFPVGMKVLVVDDDPTCLAVLKRMLLECRYDATTCS...</td>\n",
       "      <td>691</td>\n",
       "      <td>ARR-B</td>\n",
       "    </tr>\n",
       "    <tr>\n",
       "      <th>562</th>\n",
       "      <td>orange1.1g008619m -- ARR-B</td>\n",
       "      <td>MVCTANDLSAWKDFPKGLRVLLLDQDSSAAAELKFKLEAMDYIVST...</td>\n",
       "      <td>560</td>\n",
       "      <td>ARR-B</td>\n",
       "    </tr>\n",
       "    <tr>\n",
       "      <th>136</th>\n",
       "      <td>KFK33401.1 -- ARR-B</td>\n",
       "      <td>MAICDQFPYGLRVLVVDDDTSCLIILEKMLLRLMYQVTICSQAEVA...</td>\n",
       "      <td>359</td>\n",
       "      <td>ARR-B</td>\n",
       "    </tr>\n",
       "    <tr>\n",
       "      <th>1969</th>\n",
       "      <td>Seita.4G050700.1.p -- ARR-B</td>\n",
       "      <td>MLLGAARMEEKKGLMMGRERDRFPVGMRVLAVDDDPVCLKVLETLL...</td>\n",
       "      <td>667</td>\n",
       "      <td>ARR-B</td>\n",
       "    </tr>\n",
       "    <tr>\n",
       "      <th>...</th>\n",
       "      <td>...</td>\n",
       "      <td>...</td>\n",
       "      <td>...</td>\n",
       "      <td>...</td>\n",
       "    </tr>\n",
       "    <tr>\n",
       "      <th>1105</th>\n",
       "      <td>Lj0g3v0262279.1 -- ARR-B</td>\n",
       "      <td>MENGCFPSPPRRDFPAGLRVLVVDDDPTWLKILEKMLKKCNYDVTT...</td>\n",
       "      <td>583</td>\n",
       "      <td>ARR-B</td>\n",
       "    </tr>\n",
       "    <tr>\n",
       "      <th>699</th>\n",
       "      <td>462952009 -- ARR-B</td>\n",
       "      <td>MTVEEVKPLGKANGHGGKDQFPVGMRVLAVDDDPTCLKVLESLLQR...</td>\n",
       "      <td>292</td>\n",
       "      <td>ARR-B</td>\n",
       "    </tr>\n",
       "    <tr>\n",
       "      <th>147</th>\n",
       "      <td>Aradu.QNE8S -- ARR-B</td>\n",
       "      <td>MDNNGCLPCTRREGFPAGLRVLVVDDDPTWLKILEKMLKKCSYQVT...</td>\n",
       "      <td>534</td>\n",
       "      <td>ARR-B</td>\n",
       "    </tr>\n",
       "    <tr>\n",
       "      <th>377</th>\n",
       "      <td>Csa08g057230.1 -- ARR-B</td>\n",
       "      <td>MAFAESLHNKSSVLRINVLVVDDDPVFRGYISQMLVKSKYRDPSVM...</td>\n",
       "      <td>594</td>\n",
       "      <td>ARR-B</td>\n",
       "    </tr>\n",
       "    <tr>\n",
       "      <th>1991</th>\n",
       "      <td>Sevir.5G424400.2.p -- ARR-B</td>\n",
       "      <td>MALADATAFPYGLRVLVVDDDPTWLKILEKMLRKCSYEVTTCGLAS...</td>\n",
       "      <td>579</td>\n",
       "      <td>ARR-B</td>\n",
       "    </tr>\n",
       "  </tbody>\n",
       "</table>\n",
       "<p>471 rows × 4 columns</p>\n",
       "</div>"
      ],
      "text/plain": [
       "                               id  \\\n",
       "703         EcC000836.20 -- ARR-B   \n",
       "1486     ONIVA06G01160.1 -- ARR-B   \n",
       "562    orange1.1g008619m -- ARR-B   \n",
       "136           KFK33401.1 -- ARR-B   \n",
       "1969  Seita.4G050700.1.p -- ARR-B   \n",
       "...                           ...   \n",
       "1105     Lj0g3v0262279.1 -- ARR-B   \n",
       "699            462952009 -- ARR-B   \n",
       "147          Aradu.QNE8S -- ARR-B   \n",
       "377       Csa08g057230.1 -- ARR-B   \n",
       "1991  Sevir.5G424400.2.p -- ARR-B   \n",
       "\n",
       "                                               sequence  length  class  \n",
       "703   MLNSVPSFARGLPLLLVDHDPTSLASTRSLLGRYFFNEEDQIRVLI...    1130  ARR-B  \n",
       "1486  MAPVEDGGGVEFPVGMKVLVVDDDPTCLAVLKRMLLECRYDATTCS...     691  ARR-B  \n",
       "562   MVCTANDLSAWKDFPKGLRVLLLDQDSSAAAELKFKLEAMDYIVST...     560  ARR-B  \n",
       "136   MAICDQFPYGLRVLVVDDDTSCLIILEKMLLRLMYQVTICSQAEVA...     359  ARR-B  \n",
       "1969  MLLGAARMEEKKGLMMGRERDRFPVGMRVLAVDDDPVCLKVLETLL...     667  ARR-B  \n",
       "...                                                 ...     ...    ...  \n",
       "1105  MENGCFPSPPRRDFPAGLRVLVVDDDPTWLKILEKMLKKCNYDVTT...     583  ARR-B  \n",
       "699   MTVEEVKPLGKANGHGGKDQFPVGMRVLAVDDDPTCLKVLESLLQR...     292  ARR-B  \n",
       "147   MDNNGCLPCTRREGFPAGLRVLVVDDDPTWLKILEKMLKKCSYQVT...     534  ARR-B  \n",
       "377   MAFAESLHNKSSVLRINVLVVDDDPVFRGYISQMLVKSKYRDPSVM...     594  ARR-B  \n",
       "1991  MALADATAFPYGLRVLVVDDDPTWLKILEKMLRKCSYEVTTCGLAS...     579  ARR-B  \n",
       "\n",
       "[471 rows x 4 columns]"
      ]
     },
     "execution_count": 5,
     "metadata": {},
     "output_type": "execute_result"
    }
   ],
   "source": [
    "testset_positive = testset[testset['class'] == 1]\n",
    "testset_positive.loc[:, 'class'] = gene_familly\n",
    "testset_positive.loc[:, 'id'] = testset_positive['id'].apply(lambda x: f\"{x} -- {gene_familly}\")\n",
    "testset_positive"
   ]
  },
  {
   "cell_type": "code",
   "execution_count": 6,
   "id": "25a9ad39-47e0-4b0a-9669-c9ed5c6cafa3",
   "metadata": {
    "execution": {
     "iopub.execute_input": "2024-07-04T12:36:59.529473Z",
     "iopub.status.busy": "2024-07-04T12:36:59.529200Z",
     "iopub.status.idle": "2024-07-04T12:36:59.582462Z",
     "shell.execute_reply": "2024-07-04T12:36:59.582054Z"
    },
    "papermill": {
     "duration": 0.056539,
     "end_time": "2024-07-04T12:36:59.583809",
     "exception": false,
     "start_time": "2024-07-04T12:36:59.527270",
     "status": "completed"
    },
    "tags": []
   },
   "outputs": [],
   "source": [
    "testset_positive.to_csv(\"../data/testset/\"+gene_dict['file_code']+\".csv\")\n",
    "trainset.to_csv(\"../data/mix_data/trainset/\"+gene_dict['file_code']+\".csv\")\n",
    "testset.to_csv(\"../data/mix_data/testset/\"+gene_dict['file_code']+\".csv\")"
   ]
  },
  {
   "cell_type": "code",
   "execution_count": null,
   "id": "4107c4c5-3c5d-44f9-af27-5b81b6d102e5",
   "metadata": {
    "papermill": {
     "duration": 0.001345,
     "end_time": "2024-07-04T12:36:59.586832",
     "exception": false,
     "start_time": "2024-07-04T12:36:59.585487",
     "status": "completed"
    },
    "tags": []
   },
   "outputs": [],
   "source": []
  }
 ],
 "metadata": {
  "kernelspec": {
   "display_name": "Python 3 (ipykernel)",
   "language": "python",
   "name": "python3"
  },
  "language_info": {
   "codemirror_mode": {
    "name": "ipython",
    "version": 3
   },
   "file_extension": ".py",
   "mimetype": "text/x-python",
   "name": "python",
   "nbconvert_exporter": "python",
   "pygments_lexer": "ipython3",
   "version": "3.11.7"
  },
  "papermill": {
   "default_parameters": {},
   "duration": 1.738885,
   "end_time": "2024-07-04T12:36:59.907347",
   "environment_variables": {},
   "exception": null,
   "input_path": "05-extract_testset-0.ipynb",
   "output_path": "AutoSave/TestGen/05-extract_testset-0-ARR-B.ipynb",
   "parameters": {
    "gene_familly": "ARR-B"
   },
   "start_time": "2024-07-04T12:36:58.168462",
   "version": "2.6.0"
  }
 },
 "nbformat": 4,
 "nbformat_minor": 5
}