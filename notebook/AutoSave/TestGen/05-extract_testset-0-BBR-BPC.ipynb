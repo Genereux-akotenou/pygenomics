{
 "cells": [
  {
   "cell_type": "code",
   "execution_count": 1,
   "id": "2f589321",
   "metadata": {
    "execution": {
     "iopub.execute_input": "2024-07-04T12:37:02.736845Z",
     "iopub.status.busy": "2024-07-04T12:37:02.736517Z",
     "iopub.status.idle": "2024-07-04T12:37:02.741584Z",
     "shell.execute_reply": "2024-07-04T12:37:02.741248Z"
    },
    "papermill": {
     "duration": 0.008757,
     "end_time": "2024-07-04T12:37:02.742683",
     "exception": false,
     "start_time": "2024-07-04T12:37:02.733926",
     "status": "completed"
    },
    "tags": [
     "injected-parameters"
    ]
   },
   "outputs": [],
   "source": [
    "# Parameters\n",
    "gene_familly = \"BBR-BPC\"\n"
   ]
  },
  {
   "cell_type": "code",
   "execution_count": 2,
   "id": "e7cdbe25-11a6-48da-abd4-9ae5eee27bfe",
   "metadata": {
    "execution": {
     "iopub.execute_input": "2024-07-04T12:37:02.747305Z",
     "iopub.status.busy": "2024-07-04T12:37:02.747153Z",
     "iopub.status.idle": "2024-07-04T12:37:03.431022Z",
     "shell.execute_reply": "2024-07-04T12:37:03.430581Z"
    },
    "papermill": {
     "duration": 0.68685,
     "end_time": "2024-07-04T12:37:03.432358",
     "exception": false,
     "start_time": "2024-07-04T12:37:02.745508",
     "status": "completed"
    },
    "tags": []
   },
   "outputs": [],
   "source": [
    "import json\n",
    "import pandas as pd\n",
    "from sklearn.model_selection import train_test_split"
   ]
  },
  {
   "cell_type": "code",
   "execution_count": 3,
   "id": "6e20f340-8cbc-46f2-be83-6f1c4523930a",
   "metadata": {
    "execution": {
     "iopub.execute_input": "2024-07-04T12:37:03.435639Z",
     "iopub.status.busy": "2024-07-04T12:37:03.435384Z",
     "iopub.status.idle": "2024-07-04T12:37:03.455100Z",
     "shell.execute_reply": "2024-07-04T12:37:03.454682Z"
    },
    "papermill": {
     "duration": 0.022758,
     "end_time": "2024-07-04T12:37:03.456384",
     "exception": false,
     "start_time": "2024-07-04T12:37:03.433626",
     "status": "completed"
    },
    "tags": []
   },
   "outputs": [
    {
     "data": {
      "text/html": [
       "<div>\n",
       "<style scoped>\n",
       "    .dataframe tbody tr th:only-of-type {\n",
       "        vertical-align: middle;\n",
       "    }\n",
       "\n",
       "    .dataframe tbody tr th {\n",
       "        vertical-align: top;\n",
       "    }\n",
       "\n",
       "    .dataframe thead th {\n",
       "        text-align: right;\n",
       "    }\n",
       "</style>\n",
       "<table border=\"1\" class=\"dataframe\">\n",
       "  <thead>\n",
       "    <tr style=\"text-align: right;\">\n",
       "      <th></th>\n",
       "      <th>id</th>\n",
       "      <th>sequence</th>\n",
       "      <th>length</th>\n",
       "      <th>class</th>\n",
       "    </tr>\n",
       "  </thead>\n",
       "  <tbody>\n",
       "    <tr>\n",
       "      <th>0</th>\n",
       "      <td>Achn025821</td>\n",
       "      <td>MFAVDLPFELNVLGHNCDPLGMDGAQVGVLKQTHQLFLTVELQMDD...</td>\n",
       "      <td>357</td>\n",
       "      <td>1</td>\n",
       "    </tr>\n",
       "    <tr>\n",
       "      <th>1</th>\n",
       "      <td>Achn049331</td>\n",
       "      <td>MRVQTIQFTPITSGEAHRFAAILLKHASTGLGLLVFEAYFCSVSAF...</td>\n",
       "      <td>388</td>\n",
       "      <td>1</td>\n",
       "    </tr>\n",
       "    <tr>\n",
       "      <th>2</th>\n",
       "      <td>Achn053261</td>\n",
       "      <td>MAERDSAIREKNMALDERRRAFAERDMAMLQRDAAIAERNSAVEER...</td>\n",
       "      <td>288</td>\n",
       "      <td>1</td>\n",
       "    </tr>\n",
       "    <tr>\n",
       "      <th>3</th>\n",
       "      <td>Achn067521</td>\n",
       "      <td>MVEVICHGSYFDFIRCTSRWFGSLNSVTSCSKLFEVSESCESREIL...</td>\n",
       "      <td>323</td>\n",
       "      <td>1</td>\n",
       "    </tr>\n",
       "    <tr>\n",
       "      <th>4</th>\n",
       "      <td>Achn075701</td>\n",
       "      <td>MAERDAAIRERNAALDERRRAFAERDMAMLQRDMGIAERNTAIEER...</td>\n",
       "      <td>283</td>\n",
       "      <td>1</td>\n",
       "    </tr>\n",
       "  </tbody>\n",
       "</table>\n",
       "</div>"
      ],
      "text/plain": [
       "           id                                           sequence  length  \\\n",
       "0  Achn025821  MFAVDLPFELNVLGHNCDPLGMDGAQVGVLKQTHQLFLTVELQMDD...     357   \n",
       "1  Achn049331  MRVQTIQFTPITSGEAHRFAAILLKHASTGLGLLVFEAYFCSVSAF...     388   \n",
       "2  Achn053261  MAERDSAIREKNMALDERRRAFAERDMAMLQRDAAIAERNSAVEER...     288   \n",
       "3  Achn067521  MVEVICHGSYFDFIRCTSRWFGSLNSVTSCSKLFEVSESCESREIL...     323   \n",
       "4  Achn075701  MAERDAAIRERNAALDERRRAFAERDMAMLQRDMGIAERNTAIEER...     283   \n",
       "\n",
       "   class  \n",
       "0      1  \n",
       "1      1  \n",
       "2      1  \n",
       "3      1  \n",
       "4      1  "
      ]
     },
     "execution_count": 3,
     "metadata": {},
     "output_type": "execute_result"
    }
   ],
   "source": [
    "# READ GENE_INFO JSON FILE\n",
    "gene_info_path = \"../data/gene_info.json\"\n",
    "dataset_path   = \"../data/one_vs_other/\"\n",
    "with open(gene_info_path, 'r') as json_file:\n",
    "    gene_info = json.load(json_file)\n",
    "\n",
    "# FOCUS ON GENE FAMILLY\n",
    "gene_dict = gene_info[gene_familly]\n",
    "df_path = dataset_path+gene_dict['file_code']+\".csv\"\n",
    "\n",
    "# LOAD WHOLE DATASET\n",
    "USE_FULL_DF = True\n",
    "if USE_FULL_DF:\n",
    "    dataset = pd.read_csv(df_path)\n",
    "else:\n",
    "    dataset_ = pd.read_csv(df_path)\n",
    "    r = min(5000/len(dataset_), 1)\n",
    "    _, dataset = train_test_split(dataset_, test_size=r, stratify=dataset_['class'], random_state=42)\n",
    "dataset.head()"
   ]
  },
  {
   "cell_type": "code",
   "execution_count": 4,
   "id": "745dff8f-540b-4299-a3f0-dabda69bd837",
   "metadata": {
    "execution": {
     "iopub.execute_input": "2024-07-04T12:37:03.459527Z",
     "iopub.status.busy": "2024-07-04T12:37:03.459356Z",
     "iopub.status.idle": "2024-07-04T12:37:03.464075Z",
     "shell.execute_reply": "2024-07-04T12:37:03.463755Z"
    },
    "papermill": {
     "duration": 0.007471,
     "end_time": "2024-07-04T12:37:03.465148",
     "exception": false,
     "start_time": "2024-07-04T12:37:03.457677",
     "status": "completed"
    },
    "tags": []
   },
   "outputs": [],
   "source": [
    "trainset, testset = train_test_split(dataset, test_size=0.2, stratify=dataset['class'], random_state=42)"
   ]
  },
  {
   "cell_type": "code",
   "execution_count": 5,
   "id": "a9b8b47d-48c6-4e94-a378-574904e308ee",
   "metadata": {
    "execution": {
     "iopub.execute_input": "2024-07-04T12:37:03.468176Z",
     "iopub.status.busy": "2024-07-04T12:37:03.468010Z",
     "iopub.status.idle": "2024-07-04T12:37:03.475117Z",
     "shell.execute_reply": "2024-07-04T12:37:03.474761Z"
    },
    "papermill": {
     "duration": 0.009908,
     "end_time": "2024-07-04T12:37:03.476283",
     "exception": false,
     "start_time": "2024-07-04T12:37:03.466375",
     "status": "completed"
    },
    "tags": []
   },
   "outputs": [
    {
     "name": "stderr",
     "output_type": "stream",
     "text": [
      "/var/folders/w8/b_cflrn97k9c15rcrn5t8mmr0000gn/T/ipykernel_22550/2288533763.py:2: FutureWarning: Setting an item of incompatible dtype is deprecated and will raise in a future error of pandas. Value 'BBR-BPC' has dtype incompatible with int64, please explicitly cast to a compatible dtype first.\n",
      "  testset_positive.loc[:, 'class'] = gene_familly\n"
     ]
    },
    {
     "data": {
      "text/html": [
       "<div>\n",
       "<style scoped>\n",
       "    .dataframe tbody tr th:only-of-type {\n",
       "        vertical-align: middle;\n",
       "    }\n",
       "\n",
       "    .dataframe tbody tr th {\n",
       "        vertical-align: top;\n",
       "    }\n",
       "\n",
       "    .dataframe thead th {\n",
       "        text-align: right;\n",
       "    }\n",
       "</style>\n",
       "<table border=\"1\" class=\"dataframe\">\n",
       "  <thead>\n",
       "    <tr style=\"text-align: right;\">\n",
       "      <th></th>\n",
       "      <th>id</th>\n",
       "      <th>sequence</th>\n",
       "      <th>length</th>\n",
       "      <th>class</th>\n",
       "    </tr>\n",
       "  </thead>\n",
       "  <tbody>\n",
       "    <tr>\n",
       "      <th>130</th>\n",
       "      <td>Brast03G093300.1.p -- BBR-BPC</td>\n",
       "      <td>MDDDGSLGMRNWGFFDPPTRNNLGLQLMSSMPADRDTKQLLSSGPF...</td>\n",
       "      <td>333</td>\n",
       "      <td>BBR-BPC</td>\n",
       "    </tr>\n",
       "    <tr>\n",
       "      <th>1185</th>\n",
       "      <td>678305163 -- BBR-BPC</td>\n",
       "      <td>MLSEQRAKGQESFPPLGSGSPHFPFQFPPLSKKVQAVIILSQGSPM...</td>\n",
       "      <td>342</td>\n",
       "      <td>BBR-BPC</td>\n",
       "    </tr>\n",
       "    <tr>\n",
       "      <th>1118</th>\n",
       "      <td>Spipo15G0040600 -- BBR-BPC</td>\n",
       "      <td>MDGNGGLGMRNWGEYFEQPQRKGGLSLQLVSAGEREPRPFLSSGAF...</td>\n",
       "      <td>277</td>\n",
       "      <td>BBR-BPC</td>\n",
       "    </tr>\n",
       "    <tr>\n",
       "      <th>750</th>\n",
       "      <td>XP_009610157.1 -- BBR-BPC</td>\n",
       "      <td>MDDSGHRDNGRHKPPQGQWLMQHQPSMKQIMAIMAERDAAIQERNL...</td>\n",
       "      <td>327</td>\n",
       "      <td>BBR-BPC</td>\n",
       "    </tr>\n",
       "    <tr>\n",
       "      <th>15</th>\n",
       "      <td>Achn340741 -- BBR-BPC</td>\n",
       "      <td>MIGRVHDVAELLREAEDAECGLEELGGAMEVGELECLGSDLAVGVG...</td>\n",
       "      <td>421</td>\n",
       "      <td>BBR-BPC</td>\n",
       "    </tr>\n",
       "    <tr>\n",
       "      <th>...</th>\n",
       "      <td>...</td>\n",
       "      <td>...</td>\n",
       "      <td>...</td>\n",
       "      <td>...</td>\n",
       "    </tr>\n",
       "    <tr>\n",
       "      <th>72</th>\n",
       "      <td>AT1G14685.3 -- BBR-BPC</td>\n",
       "      <td>MDDDGFRNWGYYEPAAATFKGNLGLQLMSTIDRNTKPFLPGRDPNL...</td>\n",
       "      <td>279</td>\n",
       "      <td>BBR-BPC</td>\n",
       "    </tr>\n",
       "    <tr>\n",
       "      <th>987</th>\n",
       "      <td>29780.m001393 -- BBR-BPC</td>\n",
       "      <td>MDDPEDTLNMNIRNWGYYEPNFKGHLGLQLMSSMADRDTKHFLPGR...</td>\n",
       "      <td>283</td>\n",
       "      <td>BBR-BPC</td>\n",
       "    </tr>\n",
       "    <tr>\n",
       "      <th>1212</th>\n",
       "      <td>GRMZM2G118690_P02 -- BBR-BPC</td>\n",
       "      <td>MDNLGHRENGRQRPEQYKALHTQWMIPQRQLKDHQSMNLLALMNEK...</td>\n",
       "      <td>330</td>\n",
       "      <td>BBR-BPC</td>\n",
       "    </tr>\n",
       "    <tr>\n",
       "      <th>774</th>\n",
       "      <td>OB10G10530.1 -- BBR-BPC</td>\n",
       "      <td>MDDDANMGMRGWGSFFDSPARNLGLQLMSSVPADRDTKQLLSATPF...</td>\n",
       "      <td>319</td>\n",
       "      <td>BBR-BPC</td>\n",
       "    </tr>\n",
       "    <tr>\n",
       "      <th>520</th>\n",
       "      <td>MLOC_13459.3 -- BBR-BPC</td>\n",
       "      <td>MDDDGSLSIRNWGFYETMKGNLGLQLMPSVTGGHRDTKPLLPNGTF...</td>\n",
       "      <td>350</td>\n",
       "      <td>BBR-BPC</td>\n",
       "    </tr>\n",
       "  </tbody>\n",
       "</table>\n",
       "<p>252 rows × 4 columns</p>\n",
       "</div>"
      ],
      "text/plain": [
       "                                 id  \\\n",
       "130   Brast03G093300.1.p -- BBR-BPC   \n",
       "1185           678305163 -- BBR-BPC   \n",
       "1118     Spipo15G0040600 -- BBR-BPC   \n",
       "750       XP_009610157.1 -- BBR-BPC   \n",
       "15            Achn340741 -- BBR-BPC   \n",
       "...                             ...   \n",
       "72           AT1G14685.3 -- BBR-BPC   \n",
       "987        29780.m001393 -- BBR-BPC   \n",
       "1212   GRMZM2G118690_P02 -- BBR-BPC   \n",
       "774         OB10G10530.1 -- BBR-BPC   \n",
       "520         MLOC_13459.3 -- BBR-BPC   \n",
       "\n",
       "                                               sequence  length    class  \n",
       "130   MDDDGSLGMRNWGFFDPPTRNNLGLQLMSSMPADRDTKQLLSSGPF...     333  BBR-BPC  \n",
       "1185  MLSEQRAKGQESFPPLGSGSPHFPFQFPPLSKKVQAVIILSQGSPM...     342  BBR-BPC  \n",
       "1118  MDGNGGLGMRNWGEYFEQPQRKGGLSLQLVSAGEREPRPFLSSGAF...     277  BBR-BPC  \n",
       "750   MDDSGHRDNGRHKPPQGQWLMQHQPSMKQIMAIMAERDAAIQERNL...     327  BBR-BPC  \n",
       "15    MIGRVHDVAELLREAEDAECGLEELGGAMEVGELECLGSDLAVGVG...     421  BBR-BPC  \n",
       "...                                                 ...     ...      ...  \n",
       "72    MDDDGFRNWGYYEPAAATFKGNLGLQLMSTIDRNTKPFLPGRDPNL...     279  BBR-BPC  \n",
       "987   MDDPEDTLNMNIRNWGYYEPNFKGHLGLQLMSSMADRDTKHFLPGR...     283  BBR-BPC  \n",
       "1212  MDNLGHRENGRQRPEQYKALHTQWMIPQRQLKDHQSMNLLALMNEK...     330  BBR-BPC  \n",
       "774   MDDDANMGMRGWGSFFDSPARNLGLQLMSSVPADRDTKQLLSATPF...     319  BBR-BPC  \n",
       "520   MDDDGSLSIRNWGFYETMKGNLGLQLMPSVTGGHRDTKPLLPNGTF...     350  BBR-BPC  \n",
       "\n",
       "[252 rows x 4 columns]"
      ]
     },
     "execution_count": 5,
     "metadata": {},
     "output_type": "execute_result"
    }
   ],
   "source": [
    "testset_positive = testset[testset['class'] == 1]\n",
    "testset_positive.loc[:, 'class'] = gene_familly\n",
    "testset_positive.loc[:, 'id'] = testset_positive['id'].apply(lambda x: f\"{x} -- {gene_familly}\")\n",
    "testset_positive"
   ]
  },
  {
   "cell_type": "code",
   "execution_count": 6,
   "id": "25a9ad39-47e0-4b0a-9669-c9ed5c6cafa3",
   "metadata": {
    "execution": {
     "iopub.execute_input": "2024-07-04T12:37:03.479853Z",
     "iopub.status.busy": "2024-07-04T12:37:03.479665Z",
     "iopub.status.idle": "2024-07-04T12:37:03.504866Z",
     "shell.execute_reply": "2024-07-04T12:37:03.504251Z"
    },
    "papermill": {
     "duration": 0.028687,
     "end_time": "2024-07-04T12:37:03.506421",
     "exception": false,
     "start_time": "2024-07-04T12:37:03.477734",
     "status": "completed"
    },
    "tags": []
   },
   "outputs": [],
   "source": [
    "testset_positive.to_csv(\"../data/testset/\"+gene_dict['file_code']+\".csv\")\n",
    "trainset.to_csv(\"../data/mix_data/trainset/\"+gene_dict['file_code']+\".csv\")\n",
    "testset.to_csv(\"../data/mix_data/testset/\"+gene_dict['file_code']+\".csv\")"
   ]
  },
  {
   "cell_type": "code",
   "execution_count": null,
   "id": "4107c4c5-3c5d-44f9-af27-5b81b6d102e5",
   "metadata": {
    "papermill": {
     "duration": 0.001429,
     "end_time": "2024-07-04T12:37:03.509376",
     "exception": false,
     "start_time": "2024-07-04T12:37:03.507947",
     "status": "completed"
    },
    "tags": []
   },
   "outputs": [],
   "source": []
  }
 ],
 "metadata": {
  "kernelspec": {
   "display_name": "Python 3 (ipykernel)",
   "language": "python",
   "name": "python3"
  },
  "language_info": {
   "codemirror_mode": {
    "name": "ipython",
    "version": 3
   },
   "file_extension": ".py",
   "mimetype": "text/x-python",
   "name": "python",
   "nbconvert_exporter": "python",
   "pygments_lexer": "ipython3",
   "version": "3.11.7"
  },
  "papermill": {
   "default_parameters": {},
   "duration": 1.884628,
   "end_time": "2024-07-04T12:37:03.832778",
   "environment_variables": {},
   "exception": null,
   "input_path": "05-extract_testset-0.ipynb",
   "output_path": "AutoSave/TestGen/05-extract_testset-0-BBR-BPC.ipynb",
   "parameters": {
    "gene_familly": "BBR-BPC"
   },
   "start_time": "2024-07-04T12:37:01.948150",
   "version": "2.6.0"
  }
 },
 "nbformat": 4,
 "nbformat_minor": 5
}