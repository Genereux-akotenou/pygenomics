{
 "cells": [
  {
   "cell_type": "code",
   "execution_count": 1,
   "id": "9304c925",
   "metadata": {
    "execution": {
     "iopub.execute_input": "2024-07-04T12:37:06.344817Z",
     "iopub.status.busy": "2024-07-04T12:37:06.344674Z",
     "iopub.status.idle": "2024-07-04T12:37:06.348857Z",
     "shell.execute_reply": "2024-07-04T12:37:06.348583Z"
    },
    "papermill": {
     "duration": 0.00691,
     "end_time": "2024-07-04T12:37:06.349790",
     "exception": false,
     "start_time": "2024-07-04T12:37:06.342880",
     "status": "completed"
    },
    "tags": [
     "injected-parameters"
    ]
   },
   "outputs": [],
   "source": [
    "# Parameters\n",
    "gene_familly = \"C2H2\"\n"
   ]
  },
  {
   "cell_type": "code",
   "execution_count": 2,
   "id": "e7cdbe25-11a6-48da-abd4-9ae5eee27bfe",
   "metadata": {
    "execution": {
     "iopub.execute_input": "2024-07-04T12:37:06.352273Z",
     "iopub.status.busy": "2024-07-04T12:37:06.352149Z",
     "iopub.status.idle": "2024-07-04T12:37:07.045014Z",
     "shell.execute_reply": "2024-07-04T12:37:07.044413Z"
    },
    "papermill": {
     "duration": 0.695483,
     "end_time": "2024-07-04T12:37:07.046373",
     "exception": false,
     "start_time": "2024-07-04T12:37:06.350890",
     "status": "completed"
    },
    "tags": []
   },
   "outputs": [],
   "source": [
    "import json\n",
    "import pandas as pd\n",
    "from sklearn.model_selection import train_test_split"
   ]
  },
  {
   "cell_type": "code",
   "execution_count": 3,
   "id": "6e20f340-8cbc-46f2-be83-6f1c4523930a",
   "metadata": {
    "execution": {
     "iopub.execute_input": "2024-07-04T12:37:07.049760Z",
     "iopub.status.busy": "2024-07-04T12:37:07.049513Z",
     "iopub.status.idle": "2024-07-04T12:37:07.208296Z",
     "shell.execute_reply": "2024-07-04T12:37:07.207837Z"
    },
    "papermill": {
     "duration": 0.161808,
     "end_time": "2024-07-04T12:37:07.209557",
     "exception": false,
     "start_time": "2024-07-04T12:37:07.047749",
     "status": "completed"
    },
    "tags": []
   },
   "outputs": [
    {
     "data": {
      "text/html": [
       "<div>\n",
       "<style scoped>\n",
       "    .dataframe tbody tr th:only-of-type {\n",
       "        vertical-align: middle;\n",
       "    }\n",
       "\n",
       "    .dataframe tbody tr th {\n",
       "        vertical-align: top;\n",
       "    }\n",
       "\n",
       "    .dataframe thead th {\n",
       "        text-align: right;\n",
       "    }\n",
       "</style>\n",
       "<table border=\"1\" class=\"dataframe\">\n",
       "  <thead>\n",
       "    <tr style=\"text-align: right;\">\n",
       "      <th></th>\n",
       "      <th>id</th>\n",
       "      <th>sequence</th>\n",
       "      <th>length</th>\n",
       "      <th>class</th>\n",
       "    </tr>\n",
       "  </thead>\n",
       "  <tbody>\n",
       "    <tr>\n",
       "      <th>0</th>\n",
       "      <td>Achn002631</td>\n",
       "      <td>MADSVDLIRNPVDSKKLVFDDICGRILMLVRCSLDKFTMITQFDRK...</td>\n",
       "      <td>936</td>\n",
       "      <td>1</td>\n",
       "    </tr>\n",
       "    <tr>\n",
       "      <th>1</th>\n",
       "      <td>Achn003761</td>\n",
       "      <td>MGDGPNTHAKIIIKRKRTQRQRPLSPIPISIVPFPTRSSSGDGDGD...</td>\n",
       "      <td>346</td>\n",
       "      <td>1</td>\n",
       "    </tr>\n",
       "    <tr>\n",
       "      <th>2</th>\n",
       "      <td>Achn005041</td>\n",
       "      <td>MVTVLTPPPLVNFLQEIESSLTQREDNIVSERIQCLPLLSRLIEAK...</td>\n",
       "      <td>256</td>\n",
       "      <td>1</td>\n",
       "    </tr>\n",
       "    <tr>\n",
       "      <th>3</th>\n",
       "      <td>Achn011121</td>\n",
       "      <td>MEKHKCKLCFKRFVNGRALGGHMRSHLMNLYAPPKTEQEQPSGLGE...</td>\n",
       "      <td>350</td>\n",
       "      <td>1</td>\n",
       "    </tr>\n",
       "    <tr>\n",
       "      <th>4</th>\n",
       "      <td>Achn016471</td>\n",
       "      <td>MMMNGVMLDDNMSNLTSASNEASISSSNRNEVMGGGNLYTQAPNQP...</td>\n",
       "      <td>506</td>\n",
       "      <td>1</td>\n",
       "    </tr>\n",
       "  </tbody>\n",
       "</table>\n",
       "</div>"
      ],
      "text/plain": [
       "           id                                           sequence  length  \\\n",
       "0  Achn002631  MADSVDLIRNPVDSKKLVFDDICGRILMLVRCSLDKFTMITQFDRK...     936   \n",
       "1  Achn003761  MGDGPNTHAKIIIKRKRTQRQRPLSPIPISIVPFPTRSSSGDGDGD...     346   \n",
       "2  Achn005041  MVTVLTPPPLVNFLQEIESSLTQREDNIVSERIQCLPLLSRLIEAK...     256   \n",
       "3  Achn011121  MEKHKCKLCFKRFVNGRALGGHMRSHLMNLYAPPKTEQEQPSGLGE...     350   \n",
       "4  Achn016471  MMMNGVMLDDNMSNLTSASNEASISSSNRNEVMGGGNLYTQAPNQP...     506   \n",
       "\n",
       "   class  \n",
       "0      1  \n",
       "1      1  \n",
       "2      1  \n",
       "3      1  \n",
       "4      1  "
      ]
     },
     "execution_count": 3,
     "metadata": {},
     "output_type": "execute_result"
    }
   ],
   "source": [
    "# READ GENE_INFO JSON FILE\n",
    "gene_info_path = \"../data/gene_info.json\"\n",
    "dataset_path   = \"../data/one_vs_other/\"\n",
    "with open(gene_info_path, 'r') as json_file:\n",
    "    gene_info = json.load(json_file)\n",
    "\n",
    "# FOCUS ON GENE FAMILLY\n",
    "gene_dict = gene_info[gene_familly]\n",
    "df_path = dataset_path+gene_dict['file_code']+\".csv\"\n",
    "\n",
    "# LOAD WHOLE DATASET\n",
    "USE_FULL_DF = True\n",
    "if USE_FULL_DF:\n",
    "    dataset = pd.read_csv(df_path)\n",
    "else:\n",
    "    dataset_ = pd.read_csv(df_path)\n",
    "    r = min(5000/len(dataset_), 1)\n",
    "    _, dataset = train_test_split(dataset_, test_size=r, stratify=dataset_['class'], random_state=42)\n",
    "dataset.head()"
   ]
  },
  {
   "cell_type": "code",
   "execution_count": 4,
   "id": "745dff8f-540b-4299-a3f0-dabda69bd837",
   "metadata": {
    "execution": {
     "iopub.execute_input": "2024-07-04T12:37:07.212975Z",
     "iopub.status.busy": "2024-07-04T12:37:07.212821Z",
     "iopub.status.idle": "2024-07-04T12:37:07.225638Z",
     "shell.execute_reply": "2024-07-04T12:37:07.225310Z"
    },
    "papermill": {
     "duration": 0.015702,
     "end_time": "2024-07-04T12:37:07.226765",
     "exception": false,
     "start_time": "2024-07-04T12:37:07.211063",
     "status": "completed"
    },
    "tags": []
   },
   "outputs": [],
   "source": [
    "trainset, testset = train_test_split(dataset, test_size=0.2, stratify=dataset['class'], random_state=42)"
   ]
  },
  {
   "cell_type": "code",
   "execution_count": 5,
   "id": "a9b8b47d-48c6-4e94-a378-574904e308ee",
   "metadata": {
    "execution": {
     "iopub.execute_input": "2024-07-04T12:37:07.229842Z",
     "iopub.status.busy": "2024-07-04T12:37:07.229584Z",
     "iopub.status.idle": "2024-07-04T12:37:07.237514Z",
     "shell.execute_reply": "2024-07-04T12:37:07.237128Z"
    },
    "papermill": {
     "duration": 0.010556,
     "end_time": "2024-07-04T12:37:07.238550",
     "exception": false,
     "start_time": "2024-07-04T12:37:07.227994",
     "status": "completed"
    },
    "tags": []
   },
   "outputs": [
    {
     "name": "stderr",
     "output_type": "stream",
     "text": [
      "/var/folders/w8/b_cflrn97k9c15rcrn5t8mmr0000gn/T/ipykernel_22563/2288533763.py:2: FutureWarning: Setting an item of incompatible dtype is deprecated and will raise in a future error of pandas. Value 'C2H2' has dtype incompatible with int64, please explicitly cast to a compatible dtype first.\n",
      "  testset_positive.loc[:, 'class'] = gene_familly\n"
     ]
    },
    {
     "data": {
      "text/html": [
       "<div>\n",
       "<style scoped>\n",
       "    .dataframe tbody tr th:only-of-type {\n",
       "        vertical-align: middle;\n",
       "    }\n",
       "\n",
       "    .dataframe tbody tr th {\n",
       "        vertical-align: top;\n",
       "    }\n",
       "\n",
       "    .dataframe thead th {\n",
       "        text-align: right;\n",
       "    }\n",
       "</style>\n",
       "<table border=\"1\" class=\"dataframe\">\n",
       "  <thead>\n",
       "    <tr style=\"text-align: right;\">\n",
       "      <th></th>\n",
       "      <th>id</th>\n",
       "      <th>sequence</th>\n",
       "      <th>length</th>\n",
       "      <th>class</th>\n",
       "    </tr>\n",
       "  </thead>\n",
       "  <tbody>\n",
       "    <tr>\n",
       "      <th>11091</th>\n",
       "      <td>ORUFI10G10700.1 -- C2H2</td>\n",
       "      <td>MLLSDLSSDQEATGSNSHGGGGGDRMVVGSHGAAHVVLSNLFLPPA...</td>\n",
       "      <td>475</td>\n",
       "      <td>C2H2</td>\n",
       "    </tr>\n",
       "    <tr>\n",
       "      <th>11068</th>\n",
       "      <td>ORUFI07G20830.1 -- C2H2</td>\n",
       "      <td>MPPNPTGTEGEPGPAVEPAPAGAGAGAAPVVKKKRNLPGTPDPDAE...</td>\n",
       "      <td>635</td>\n",
       "      <td>C2H2</td>\n",
       "    </tr>\n",
       "    <tr>\n",
       "      <th>13839</th>\n",
       "      <td>29769.m000449 -- C2H2</td>\n",
       "      <td>MEDVELVPEKEKIEDGKEGCPSFHCDLYDAEIVHKIAQVLLPGLAA...</td>\n",
       "      <td>417</td>\n",
       "      <td>C2H2</td>\n",
       "    </tr>\n",
       "    <tr>\n",
       "      <th>3490</th>\n",
       "      <td>CA07g18620 -- C2H2</td>\n",
       "      <td>MGEKKNMPTVWFSLKKTLHCKSDQSDVHDPKTRKQLSAILTKKGGG...</td>\n",
       "      <td>431</td>\n",
       "      <td>C2H2</td>\n",
       "    </tr>\n",
       "    <tr>\n",
       "      <th>8103</th>\n",
       "      <td>LPERR11G03780.1 -- C2H2</td>\n",
       "      <td>MGFYSSSSCKNRSQPMAAAAEGKNGGKKKKSSISRSITCAGSICST...</td>\n",
       "      <td>400</td>\n",
       "      <td>C2H2</td>\n",
       "    </tr>\n",
       "    <tr>\n",
       "      <th>...</th>\n",
       "      <td>...</td>\n",
       "      <td>...</td>\n",
       "      <td>...</td>\n",
       "      <td>...</td>\n",
       "    </tr>\n",
       "    <tr>\n",
       "      <th>14136</th>\n",
       "      <td>SMil_00003243-RA_Salv -- C2H2</td>\n",
       "      <td>MVSIRPTFLSLFFLLLHLPCFTPSPRRRRSRSTAPKTSFFSFFKRL...</td>\n",
       "      <td>309</td>\n",
       "      <td>C2H2</td>\n",
       "    </tr>\n",
       "    <tr>\n",
       "      <th>14847</th>\n",
       "      <td>Sme2.5_00238.1_g00017.1 -- C2H2</td>\n",
       "      <td>MAELEYRASTNTNGRLKLFGFNVIEDHEQEIESTKTSSGSPESGEF...</td>\n",
       "      <td>214</td>\n",
       "      <td>C2H2</td>\n",
       "    </tr>\n",
       "    <tr>\n",
       "      <th>17660</th>\n",
       "      <td>Zpz_sc01107.1.g00180.1.am.mk -- C2H2</td>\n",
       "      <td>MAEAVMNGEKANSHAHATLRNTSALAGRNLTLYISSLFSLSPVDRT...</td>\n",
       "      <td>632</td>\n",
       "      <td>C2H2</td>\n",
       "    </tr>\n",
       "    <tr>\n",
       "      <th>15399</th>\n",
       "      <td>Sobic.K001900.1.p -- C2H2</td>\n",
       "      <td>MPPPAVETPEWLRNLPVAPEFRPTAAEFADPIAYILKIEAEASRYG...</td>\n",
       "      <td>1419</td>\n",
       "      <td>C2H2</td>\n",
       "    </tr>\n",
       "    <tr>\n",
       "      <th>14182</th>\n",
       "      <td>SMil_00022348-RA_Salv -- C2H2</td>\n",
       "      <td>MMWNNNNNSNNNHNQKSPDDDDDSWEVRAFEEDTTGNLLGCTWPPR...</td>\n",
       "      <td>205</td>\n",
       "      <td>C2H2</td>\n",
       "    </tr>\n",
       "  </tbody>\n",
       "</table>\n",
       "<p>3548 rows × 4 columns</p>\n",
       "</div>"
      ],
      "text/plain": [
       "                                         id  \\\n",
       "11091               ORUFI10G10700.1 -- C2H2   \n",
       "11068               ORUFI07G20830.1 -- C2H2   \n",
       "13839                 29769.m000449 -- C2H2   \n",
       "3490                     CA07g18620 -- C2H2   \n",
       "8103                LPERR11G03780.1 -- C2H2   \n",
       "...                                     ...   \n",
       "14136         SMil_00003243-RA_Salv -- C2H2   \n",
       "14847       Sme2.5_00238.1_g00017.1 -- C2H2   \n",
       "17660  Zpz_sc01107.1.g00180.1.am.mk -- C2H2   \n",
       "15399             Sobic.K001900.1.p -- C2H2   \n",
       "14182         SMil_00022348-RA_Salv -- C2H2   \n",
       "\n",
       "                                                sequence  length class  \n",
       "11091  MLLSDLSSDQEATGSNSHGGGGGDRMVVGSHGAAHVVLSNLFLPPA...     475  C2H2  \n",
       "11068  MPPNPTGTEGEPGPAVEPAPAGAGAGAAPVVKKKRNLPGTPDPDAE...     635  C2H2  \n",
       "13839  MEDVELVPEKEKIEDGKEGCPSFHCDLYDAEIVHKIAQVLLPGLAA...     417  C2H2  \n",
       "3490   MGEKKNMPTVWFSLKKTLHCKSDQSDVHDPKTRKQLSAILTKKGGG...     431  C2H2  \n",
       "8103   MGFYSSSSCKNRSQPMAAAAEGKNGGKKKKSSISRSITCAGSICST...     400  C2H2  \n",
       "...                                                  ...     ...   ...  \n",
       "14136  MVSIRPTFLSLFFLLLHLPCFTPSPRRRRSRSTAPKTSFFSFFKRL...     309  C2H2  \n",
       "14847  MAELEYRASTNTNGRLKLFGFNVIEDHEQEIESTKTSSGSPESGEF...     214  C2H2  \n",
       "17660  MAEAVMNGEKANSHAHATLRNTSALAGRNLTLYISSLFSLSPVDRT...     632  C2H2  \n",
       "15399  MPPPAVETPEWLRNLPVAPEFRPTAAEFADPIAYILKIEAEASRYG...    1419  C2H2  \n",
       "14182  MMWNNNNNSNNNHNQKSPDDDDDSWEVRAFEEDTTGNLLGCTWPPR...     205  C2H2  \n",
       "\n",
       "[3548 rows x 4 columns]"
      ]
     },
     "execution_count": 5,
     "metadata": {},
     "output_type": "execute_result"
    }
   ],
   "source": [
    "testset_positive = testset[testset['class'] == 1]\n",
    "testset_positive.loc[:, 'class'] = gene_familly\n",
    "testset_positive.loc[:, 'id'] = testset_positive['id'].apply(lambda x: f\"{x} -- {gene_familly}\")\n",
    "testset_positive"
   ]
  },
  {
   "cell_type": "code",
   "execution_count": 6,
   "id": "25a9ad39-47e0-4b0a-9669-c9ed5c6cafa3",
   "metadata": {
    "execution": {
     "iopub.execute_input": "2024-07-04T12:37:07.241979Z",
     "iopub.status.busy": "2024-07-04T12:37:07.241719Z",
     "iopub.status.idle": "2024-07-04T12:37:07.533979Z",
     "shell.execute_reply": "2024-07-04T12:37:07.533542Z"
    },
    "papermill": {
     "duration": 0.295422,
     "end_time": "2024-07-04T12:37:07.535364",
     "exception": false,
     "start_time": "2024-07-04T12:37:07.239942",
     "status": "completed"
    },
    "tags": []
   },
   "outputs": [],
   "source": [
    "testset_positive.to_csv(\"../data/testset/\"+gene_dict['file_code']+\".csv\")\n",
    "trainset.to_csv(\"../data/mix_data/trainset/\"+gene_dict['file_code']+\".csv\")\n",
    "testset.to_csv(\"../data/mix_data/testset/\"+gene_dict['file_code']+\".csv\")"
   ]
  },
  {
   "cell_type": "code",
   "execution_count": null,
   "id": "4107c4c5-3c5d-44f9-af27-5b81b6d102e5",
   "metadata": {
    "papermill": {
     "duration": 0.00126,
     "end_time": "2024-07-04T12:37:07.538330",
     "exception": false,
     "start_time": "2024-07-04T12:37:07.537070",
     "status": "completed"
    },
    "tags": []
   },
   "outputs": [],
   "source": []
  }
 ],
 "metadata": {
  "kernelspec": {
   "display_name": "Python 3 (ipykernel)",
   "language": "python",
   "name": "python3"
  },
  "language_info": {
   "codemirror_mode": {
    "name": "ipython",
    "version": 3
   },
   "file_extension": ".py",
   "mimetype": "text/x-python",
   "name": "python",
   "nbconvert_exporter": "python",
   "pygments_lexer": "ipython3",
   "version": "3.11.7"
  },
  "papermill": {
   "default_parameters": {},
   "duration": 2.29,
   "end_time": "2024-07-04T12:37:07.856350",
   "environment_variables": {},
   "exception": null,
   "input_path": "05-extract_testset-0.ipynb",
   "output_path": "AutoSave/TestGen/05-extract_testset-0-C2H2.ipynb",
   "parameters": {
    "gene_familly": "C2H2"
   },
   "start_time": "2024-07-04T12:37:05.566350",
   "version": "2.6.0"
  }
 },
 "nbformat": 4,
 "nbformat_minor": 5
}