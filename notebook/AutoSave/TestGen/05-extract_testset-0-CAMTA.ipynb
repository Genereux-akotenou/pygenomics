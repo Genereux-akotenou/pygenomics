{
 "cells": [
  {
   "cell_type": "code",
   "execution_count": 1,
   "id": "d6dc723d",
   "metadata": {
    "execution": {
     "iopub.execute_input": "2024-07-04T12:37:10.781238Z",
     "iopub.status.busy": "2024-07-04T12:37:10.780893Z",
     "iopub.status.idle": "2024-07-04T12:37:10.786129Z",
     "shell.execute_reply": "2024-07-04T12:37:10.785728Z"
    },
    "papermill": {
     "duration": 0.009039,
     "end_time": "2024-07-04T12:37:10.787396",
     "exception": false,
     "start_time": "2024-07-04T12:37:10.778357",
     "status": "completed"
    },
    "tags": [
     "injected-parameters"
    ]
   },
   "outputs": [],
   "source": [
    "# Parameters\n",
    "gene_familly = \"CAMTA\"\n"
   ]
  },
  {
   "cell_type": "code",
   "execution_count": 2,
   "id": "e7cdbe25-11a6-48da-abd4-9ae5eee27bfe",
   "metadata": {
    "execution": {
     "iopub.execute_input": "2024-07-04T12:37:10.790508Z",
     "iopub.status.busy": "2024-07-04T12:37:10.790361Z",
     "iopub.status.idle": "2024-07-04T12:37:11.473073Z",
     "shell.execute_reply": "2024-07-04T12:37:11.472617Z"
    },
    "papermill": {
     "duration": 0.685673,
     "end_time": "2024-07-04T12:37:11.474524",
     "exception": false,
     "start_time": "2024-07-04T12:37:10.788851",
     "status": "completed"
    },
    "tags": []
   },
   "outputs": [],
   "source": [
    "import json\n",
    "import pandas as pd\n",
    "from sklearn.model_selection import train_test_split"
   ]
  },
  {
   "cell_type": "code",
   "execution_count": 3,
   "id": "6e20f340-8cbc-46f2-be83-6f1c4523930a",
   "metadata": {
    "execution": {
     "iopub.execute_input": "2024-07-04T12:37:11.477958Z",
     "iopub.status.busy": "2024-07-04T12:37:11.477719Z",
     "iopub.status.idle": "2024-07-04T12:37:11.505423Z",
     "shell.execute_reply": "2024-07-04T12:37:11.505050Z"
    },
    "papermill": {
     "duration": 0.030606,
     "end_time": "2024-07-04T12:37:11.506551",
     "exception": false,
     "start_time": "2024-07-04T12:37:11.475945",
     "status": "completed"
    },
    "tags": []
   },
   "outputs": [
    {
     "data": {
      "text/html": [
       "<div>\n",
       "<style scoped>\n",
       "    .dataframe tbody tr th:only-of-type {\n",
       "        vertical-align: middle;\n",
       "    }\n",
       "\n",
       "    .dataframe tbody tr th {\n",
       "        vertical-align: top;\n",
       "    }\n",
       "\n",
       "    .dataframe thead th {\n",
       "        text-align: right;\n",
       "    }\n",
       "</style>\n",
       "<table border=\"1\" class=\"dataframe\">\n",
       "  <thead>\n",
       "    <tr style=\"text-align: right;\">\n",
       "      <th></th>\n",
       "      <th>id</th>\n",
       "      <th>sequence</th>\n",
       "      <th>length</th>\n",
       "      <th>class</th>\n",
       "    </tr>\n",
       "  </thead>\n",
       "  <tbody>\n",
       "    <tr>\n",
       "      <th>0</th>\n",
       "      <td>Achn001091</td>\n",
       "      <td>MEVEIVSTETIKPSSPTPIHLKTFSLSLLDQLNAPVFSKLVYFYPH...</td>\n",
       "      <td>1485</td>\n",
       "      <td>1</td>\n",
       "    </tr>\n",
       "    <tr>\n",
       "      <th>1</th>\n",
       "      <td>Achn048091</td>\n",
       "      <td>MAESRRYGLGTQLDIEQILLEAQHRWLRPAEICEILRNFKKFRIAP...</td>\n",
       "      <td>1075</td>\n",
       "      <td>1</td>\n",
       "    </tr>\n",
       "    <tr>\n",
       "      <th>2</th>\n",
       "      <td>Achn059301</td>\n",
       "      <td>MLRNFRKDGHNWKKKKDGKTVKEAHEHLKNLDYEDDGNSRTLEHIV...</td>\n",
       "      <td>724</td>\n",
       "      <td>1</td>\n",
       "    </tr>\n",
       "    <tr>\n",
       "      <th>3</th>\n",
       "      <td>Achn102611</td>\n",
       "      <td>MAPGRSDVKSPEHGTPIVEEDFVVDGVDRLGIGSSSNEEEDGVQVT...</td>\n",
       "      <td>1220</td>\n",
       "      <td>1</td>\n",
       "    </tr>\n",
       "    <tr>\n",
       "      <th>4</th>\n",
       "      <td>Achn103241</td>\n",
       "      <td>MENIVPGRLEGWEIHGFRTMEDLDFGNILEEAKARWLRPNEIHAML...</td>\n",
       "      <td>757</td>\n",
       "      <td>1</td>\n",
       "    </tr>\n",
       "  </tbody>\n",
       "</table>\n",
       "</div>"
      ],
      "text/plain": [
       "           id                                           sequence  length  \\\n",
       "0  Achn001091  MEVEIVSTETIKPSSPTPIHLKTFSLSLLDQLNAPVFSKLVYFYPH...    1485   \n",
       "1  Achn048091  MAESRRYGLGTQLDIEQILLEAQHRWLRPAEICEILRNFKKFRIAP...    1075   \n",
       "2  Achn059301  MLRNFRKDGHNWKKKKDGKTVKEAHEHLKNLDYEDDGNSRTLEHIV...     724   \n",
       "3  Achn102611  MAPGRSDVKSPEHGTPIVEEDFVVDGVDRLGIGSSSNEEEDGVQVT...    1220   \n",
       "4  Achn103241  MENIVPGRLEGWEIHGFRTMEDLDFGNILEEAKARWLRPNEIHAML...     757   \n",
       "\n",
       "   class  \n",
       "0      1  \n",
       "1      1  \n",
       "2      1  \n",
       "3      1  \n",
       "4      1  "
      ]
     },
     "execution_count": 3,
     "metadata": {},
     "output_type": "execute_result"
    }
   ],
   "source": [
    "# READ GENE_INFO JSON FILE\n",
    "gene_info_path = \"../data/gene_info.json\"\n",
    "dataset_path   = \"../data/one_vs_other/\"\n",
    "with open(gene_info_path, 'r') as json_file:\n",
    "    gene_info = json.load(json_file)\n",
    "\n",
    "# FOCUS ON GENE FAMILLY\n",
    "gene_dict = gene_info[gene_familly]\n",
    "df_path = dataset_path+gene_dict['file_code']+\".csv\"\n",
    "\n",
    "# LOAD WHOLE DATASET\n",
    "USE_FULL_DF = True\n",
    "if USE_FULL_DF:\n",
    "    dataset = pd.read_csv(df_path)\n",
    "else:\n",
    "    dataset_ = pd.read_csv(df_path)\n",
    "    r = min(5000/len(dataset_), 1)\n",
    "    _, dataset = train_test_split(dataset_, test_size=r, stratify=dataset_['class'], random_state=42)\n",
    "dataset.head()"
   ]
  },
  {
   "cell_type": "code",
   "execution_count": 4,
   "id": "745dff8f-540b-4299-a3f0-dabda69bd837",
   "metadata": {
    "execution": {
     "iopub.execute_input": "2024-07-04T12:37:11.509861Z",
     "iopub.status.busy": "2024-07-04T12:37:11.509597Z",
     "iopub.status.idle": "2024-07-04T12:37:11.514246Z",
     "shell.execute_reply": "2024-07-04T12:37:11.513857Z"
    },
    "papermill": {
     "duration": 0.007438,
     "end_time": "2024-07-04T12:37:11.515302",
     "exception": false,
     "start_time": "2024-07-04T12:37:11.507864",
     "status": "completed"
    },
    "tags": []
   },
   "outputs": [],
   "source": [
    "trainset, testset = train_test_split(dataset, test_size=0.2, stratify=dataset['class'], random_state=42)"
   ]
  },
  {
   "cell_type": "code",
   "execution_count": 5,
   "id": "a9b8b47d-48c6-4e94-a378-574904e308ee",
   "metadata": {
    "execution": {
     "iopub.execute_input": "2024-07-04T12:37:11.518244Z",
     "iopub.status.busy": "2024-07-04T12:37:11.517992Z",
     "iopub.status.idle": "2024-07-04T12:37:11.524592Z",
     "shell.execute_reply": "2024-07-04T12:37:11.524222Z"
    },
    "papermill": {
     "duration": 0.009263,
     "end_time": "2024-07-04T12:37:11.525717",
     "exception": false,
     "start_time": "2024-07-04T12:37:11.516454",
     "status": "completed"
    },
    "tags": []
   },
   "outputs": [
    {
     "name": "stderr",
     "output_type": "stream",
     "text": [
      "/var/folders/w8/b_cflrn97k9c15rcrn5t8mmr0000gn/T/ipykernel_22577/2288533763.py:2: FutureWarning: Setting an item of incompatible dtype is deprecated and will raise in a future error of pandas. Value 'CAMTA' has dtype incompatible with int64, please explicitly cast to a compatible dtype first.\n",
      "  testset_positive.loc[:, 'class'] = gene_familly\n"
     ]
    },
    {
     "data": {
      "text/html": [
       "<div>\n",
       "<style scoped>\n",
       "    .dataframe tbody tr th:only-of-type {\n",
       "        vertical-align: middle;\n",
       "    }\n",
       "\n",
       "    .dataframe tbody tr th {\n",
       "        vertical-align: top;\n",
       "    }\n",
       "\n",
       "    .dataframe thead th {\n",
       "        text-align: right;\n",
       "    }\n",
       "</style>\n",
       "<table border=\"1\" class=\"dataframe\">\n",
       "  <thead>\n",
       "    <tr style=\"text-align: right;\">\n",
       "      <th></th>\n",
       "      <th>id</th>\n",
       "      <th>sequence</th>\n",
       "      <th>length</th>\n",
       "      <th>class</th>\n",
       "    </tr>\n",
       "  </thead>\n",
       "  <tbody>\n",
       "    <tr>\n",
       "      <th>951</th>\n",
       "      <td>Phvul.002G209300.1 -- CAMTA</td>\n",
       "      <td>MAEPASYGLGPRLDLQQLQLEAQNRWLRPAEICEILCNYRMFQITP...</td>\n",
       "      <td>1087</td>\n",
       "      <td>CAMTA</td>\n",
       "    </tr>\n",
       "    <tr>\n",
       "      <th>274</th>\n",
       "      <td>cra_locus_7165_iso_4 -- CAMTA</td>\n",
       "      <td>LKXSVGDSSRVEKEFISMDNIIAGRLVGTEIHGFRTMGDLDMANIL...</td>\n",
       "      <td>995</td>\n",
       "      <td>CAMTA</td>\n",
       "    </tr>\n",
       "    <tr>\n",
       "      <th>329</th>\n",
       "      <td>Cc07_g15130 -- CAMTA</td>\n",
       "      <td>MAESRRYALGAQLDIEQILVEAQHRWLRPAEICEILRNYQKFRIAP...</td>\n",
       "      <td>64</td>\n",
       "      <td>CAMTA</td>\n",
       "    </tr>\n",
       "    <tr>\n",
       "      <th>359</th>\n",
       "      <td>KZV22762.1 -- CAMTA</td>\n",
       "      <td>MLVEMGLYGYFELCTSGVSASFEMVDRGDVIRLILDDREEGFRVCT...</td>\n",
       "      <td>1396</td>\n",
       "      <td>CAMTA</td>\n",
       "    </tr>\n",
       "    <tr>\n",
       "      <th>363</th>\n",
       "      <td>KZV53705.1 -- CAMTA</td>\n",
       "      <td>METGGYDINHLVHEAQTRWLKPVEVYFILKNFMENQITHRIPQRPA...</td>\n",
       "      <td>939</td>\n",
       "      <td>CAMTA</td>\n",
       "    </tr>\n",
       "    <tr>\n",
       "      <th>...</th>\n",
       "      <td>...</td>\n",
       "      <td>...</td>\n",
       "      <td>...</td>\n",
       "      <td>...</td>\n",
       "    </tr>\n",
       "    <tr>\n",
       "      <th>159</th>\n",
       "      <td>GSBRNA2T00134683001 -- CAMTA</td>\n",
       "      <td>MADRGSFGFAPQLDIQQLLSEAQHRWLRPAEICEILRNYQKFHIAS...</td>\n",
       "      <td>988</td>\n",
       "      <td>CAMTA</td>\n",
       "    </tr>\n",
       "    <tr>\n",
       "      <th>459</th>\n",
       "      <td>KHN12898.1 -- CAMTA</td>\n",
       "      <td>MMSHNLTGQLVGAEIHGFHTLDDLDVSNTMEEAKSRWLRPNEIHAI...</td>\n",
       "      <td>910</td>\n",
       "      <td>CAMTA</td>\n",
       "    </tr>\n",
       "    <tr>\n",
       "      <th>39</th>\n",
       "      <td>Aqcoe2G277000.3.p -- CAMTA</td>\n",
       "      <td>MDNNSASVRVAGAEIHGFHTLEDLDVAKMMEEAKTRWLRPNEIHAI...</td>\n",
       "      <td>911</td>\n",
       "      <td>CAMTA</td>\n",
       "    </tr>\n",
       "    <tr>\n",
       "      <th>396</th>\n",
       "      <td>462957652 -- CAMTA</td>\n",
       "      <td>NPAEKSGPASRRSPSSARLHARCLVPVCSARARRSVSAMAEGRRYA...</td>\n",
       "      <td>378</td>\n",
       "      <td>CAMTA</td>\n",
       "    </tr>\n",
       "    <tr>\n",
       "      <th>182</th>\n",
       "      <td>XP_009112123.1 -- CAMTA</td>\n",
       "      <td>MAYRGSFGFAPQLDIQQLLSEAQHRWLRPAEICEILRNYQKFHIAS...</td>\n",
       "      <td>999</td>\n",
       "      <td>CAMTA</td>\n",
       "    </tr>\n",
       "  </tbody>\n",
       "</table>\n",
       "<p>269 rows × 4 columns</p>\n",
       "</div>"
      ],
      "text/plain": [
       "                                id  \\\n",
       "951    Phvul.002G209300.1 -- CAMTA   \n",
       "274  cra_locus_7165_iso_4 -- CAMTA   \n",
       "329           Cc07_g15130 -- CAMTA   \n",
       "359            KZV22762.1 -- CAMTA   \n",
       "363            KZV53705.1 -- CAMTA   \n",
       "..                             ...   \n",
       "159   GSBRNA2T00134683001 -- CAMTA   \n",
       "459            KHN12898.1 -- CAMTA   \n",
       "39      Aqcoe2G277000.3.p -- CAMTA   \n",
       "396             462957652 -- CAMTA   \n",
       "182        XP_009112123.1 -- CAMTA   \n",
       "\n",
       "                                              sequence  length  class  \n",
       "951  MAEPASYGLGPRLDLQQLQLEAQNRWLRPAEICEILCNYRMFQITP...    1087  CAMTA  \n",
       "274  LKXSVGDSSRVEKEFISMDNIIAGRLVGTEIHGFRTMGDLDMANIL...     995  CAMTA  \n",
       "329  MAESRRYALGAQLDIEQILVEAQHRWLRPAEICEILRNYQKFRIAP...      64  CAMTA  \n",
       "359  MLVEMGLYGYFELCTSGVSASFEMVDRGDVIRLILDDREEGFRVCT...    1396  CAMTA  \n",
       "363  METGGYDINHLVHEAQTRWLKPVEVYFILKNFMENQITHRIPQRPA...     939  CAMTA  \n",
       "..                                                 ...     ...    ...  \n",
       "159  MADRGSFGFAPQLDIQQLLSEAQHRWLRPAEICEILRNYQKFHIAS...     988  CAMTA  \n",
       "459  MMSHNLTGQLVGAEIHGFHTLDDLDVSNTMEEAKSRWLRPNEIHAI...     910  CAMTA  \n",
       "39   MDNNSASVRVAGAEIHGFHTLEDLDVAKMMEEAKTRWLRPNEIHAI...     911  CAMTA  \n",
       "396  NPAEKSGPASRRSPSSARLHARCLVPVCSARARRSVSAMAEGRRYA...     378  CAMTA  \n",
       "182  MAYRGSFGFAPQLDIQQLLSEAQHRWLRPAEICEILRNYQKFHIAS...     999  CAMTA  \n",
       "\n",
       "[269 rows x 4 columns]"
      ]
     },
     "execution_count": 5,
     "metadata": {},
     "output_type": "execute_result"
    }
   ],
   "source": [
    "testset_positive = testset[testset['class'] == 1]\n",
    "testset_positive.loc[:, 'class'] = gene_familly\n",
    "testset_positive.loc[:, 'id'] = testset_positive['id'].apply(lambda x: f\"{x} -- {gene_familly}\")\n",
    "testset_positive"
   ]
  },
  {
   "cell_type": "code",
   "execution_count": 6,
   "id": "25a9ad39-47e0-4b0a-9669-c9ed5c6cafa3",
   "metadata": {
    "execution": {
     "iopub.execute_input": "2024-07-04T12:37:11.529281Z",
     "iopub.status.busy": "2024-07-04T12:37:11.529008Z",
     "iopub.status.idle": "2024-07-04T12:37:11.569587Z",
     "shell.execute_reply": "2024-07-04T12:37:11.569271Z"
    },
    "papermill": {
     "duration": 0.043454,
     "end_time": "2024-07-04T12:37:11.570644",
     "exception": false,
     "start_time": "2024-07-04T12:37:11.527190",
     "status": "completed"
    },
    "tags": []
   },
   "outputs": [],
   "source": [
    "testset_positive.to_csv(\"../data/testset/\"+gene_dict['file_code']+\".csv\")\n",
    "trainset.to_csv(\"../data/mix_data/trainset/\"+gene_dict['file_code']+\".csv\")\n",
    "testset.to_csv(\"../data/mix_data/testset/\"+gene_dict['file_code']+\".csv\")"
   ]
  },
  {
   "cell_type": "code",
   "execution_count": null,
   "id": "4107c4c5-3c5d-44f9-af27-5b81b6d102e5",
   "metadata": {
    "papermill": {
     "duration": 0.001216,
     "end_time": "2024-07-04T12:37:11.573213",
     "exception": false,
     "start_time": "2024-07-04T12:37:11.571997",
     "status": "completed"
    },
    "tags": []
   },
   "outputs": [],
   "source": []
  }
 ],
 "metadata": {
  "kernelspec": {
   "display_name": "Python 3 (ipykernel)",
   "language": "python",
   "name": "python3"
  },
  "language_info": {
   "codemirror_mode": {
    "name": "ipython",
    "version": 3
   },
   "file_extension": ".py",
   "mimetype": "text/x-python",
   "name": "python",
   "nbconvert_exporter": "python",
   "pygments_lexer": "ipython3",
   "version": "3.11.7"
  },
  "papermill": {
   "default_parameters": {},
   "duration": 1.903386,
   "end_time": "2024-07-04T12:37:11.892309",
   "environment_variables": {},
   "exception": null,
   "input_path": "05-extract_testset-0.ipynb",
   "output_path": "AutoSave/TestGen/05-extract_testset-0-CAMTA.ipynb",
   "parameters": {
    "gene_familly": "CAMTA"
   },
   "start_time": "2024-07-04T12:37:09.988923",
   "version": "2.6.0"
  }
 },
 "nbformat": 4,
 "nbformat_minor": 5
}