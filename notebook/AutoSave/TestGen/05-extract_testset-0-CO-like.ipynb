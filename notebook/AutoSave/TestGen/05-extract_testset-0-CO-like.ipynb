{
 "cells": [
  {
   "cell_type": "code",
   "execution_count": 1,
   "id": "f94a414c",
   "metadata": {
    "execution": {
     "iopub.execute_input": "2024-07-04T12:37:12.482477Z",
     "iopub.status.busy": "2024-07-04T12:37:12.482262Z",
     "iopub.status.idle": "2024-07-04T12:37:12.487469Z",
     "shell.execute_reply": "2024-07-04T12:37:12.487049Z"
    },
    "papermill": {
     "duration": 0.008957,
     "end_time": "2024-07-04T12:37:12.488662",
     "exception": false,
     "start_time": "2024-07-04T12:37:12.479705",
     "status": "completed"
    },
    "tags": [
     "injected-parameters"
    ]
   },
   "outputs": [],
   "source": [
    "# Parameters\n",
    "gene_familly = \"CO-like\"\n"
   ]
  },
  {
   "cell_type": "code",
   "execution_count": 2,
   "id": "e7cdbe25-11a6-48da-abd4-9ae5eee27bfe",
   "metadata": {
    "execution": {
     "iopub.execute_input": "2024-07-04T12:37:12.491902Z",
     "iopub.status.busy": "2024-07-04T12:37:12.491726Z",
     "iopub.status.idle": "2024-07-04T12:37:13.199298Z",
     "shell.execute_reply": "2024-07-04T12:37:13.198818Z"
    },
    "papermill": {
     "duration": 0.710614,
     "end_time": "2024-07-04T12:37:13.200767",
     "exception": false,
     "start_time": "2024-07-04T12:37:12.490153",
     "status": "completed"
    },
    "tags": []
   },
   "outputs": [],
   "source": [
    "import json\n",
    "import pandas as pd\n",
    "from sklearn.model_selection import train_test_split"
   ]
  },
  {
   "cell_type": "code",
   "execution_count": 3,
   "id": "6e20f340-8cbc-46f2-be83-6f1c4523930a",
   "metadata": {
    "execution": {
     "iopub.execute_input": "2024-07-04T12:37:13.204334Z",
     "iopub.status.busy": "2024-07-04T12:37:13.204071Z",
     "iopub.status.idle": "2024-07-04T12:37:13.232703Z",
     "shell.execute_reply": "2024-07-04T12:37:13.232302Z"
    },
    "papermill": {
     "duration": 0.031549,
     "end_time": "2024-07-04T12:37:13.233870",
     "exception": false,
     "start_time": "2024-07-04T12:37:13.202321",
     "status": "completed"
    },
    "tags": []
   },
   "outputs": [
    {
     "data": {
      "text/html": [
       "<div>\n",
       "<style scoped>\n",
       "    .dataframe tbody tr th:only-of-type {\n",
       "        vertical-align: middle;\n",
       "    }\n",
       "\n",
       "    .dataframe tbody tr th {\n",
       "        vertical-align: top;\n",
       "    }\n",
       "\n",
       "    .dataframe thead th {\n",
       "        text-align: right;\n",
       "    }\n",
       "</style>\n",
       "<table border=\"1\" class=\"dataframe\">\n",
       "  <thead>\n",
       "    <tr style=\"text-align: right;\">\n",
       "      <th></th>\n",
       "      <th>id</th>\n",
       "      <th>sequence</th>\n",
       "      <th>length</th>\n",
       "      <th>class</th>\n",
       "    </tr>\n",
       "  </thead>\n",
       "  <tbody>\n",
       "    <tr>\n",
       "      <th>0</th>\n",
       "      <td>Achn033491</td>\n",
       "      <td>MGMGEGGGGGGKCYPAGWGIAAKPCDLCKSAVALLFCRVDSAFLCM...</td>\n",
       "      <td>361</td>\n",
       "      <td>1</td>\n",
       "    </tr>\n",
       "    <tr>\n",
       "      <th>1</th>\n",
       "      <td>Achn062021</td>\n",
       "      <td>MGYLCDFCGEQRSMVYCRSDAACLCLSCDRNVHSANALSRRHSRTL...</td>\n",
       "      <td>407</td>\n",
       "      <td>1</td>\n",
       "    </tr>\n",
       "    <tr>\n",
       "      <th>2</th>\n",
       "      <td>Achn063291</td>\n",
       "      <td>MEPLCEFCSLARAMIYCKSDSARLCLRCDTCVHSANYLSRRHARSL...</td>\n",
       "      <td>433</td>\n",
       "      <td>1</td>\n",
       "    </tr>\n",
       "    <tr>\n",
       "      <th>3</th>\n",
       "      <td>Achn169891</td>\n",
       "      <td>MMSPKSRSGESVPCDFCNEKIAVVYCRADSAKLCLFCDHHVHSANP...</td>\n",
       "      <td>480</td>\n",
       "      <td>1</td>\n",
       "    </tr>\n",
       "    <tr>\n",
       "      <th>4</th>\n",
       "      <td>Achn176481</td>\n",
       "      <td>MVYMCDFCGEQRSIVYCRSDAASLCFSCDHSVHSANALSRRHFRTL...</td>\n",
       "      <td>412</td>\n",
       "      <td>1</td>\n",
       "    </tr>\n",
       "  </tbody>\n",
       "</table>\n",
       "</div>"
      ],
      "text/plain": [
       "           id                                           sequence  length  \\\n",
       "0  Achn033491  MGMGEGGGGGGKCYPAGWGIAAKPCDLCKSAVALLFCRVDSAFLCM...     361   \n",
       "1  Achn062021  MGYLCDFCGEQRSMVYCRSDAACLCLSCDRNVHSANALSRRHSRTL...     407   \n",
       "2  Achn063291  MEPLCEFCSLARAMIYCKSDSARLCLRCDTCVHSANYLSRRHARSL...     433   \n",
       "3  Achn169891  MMSPKSRSGESVPCDFCNEKIAVVYCRADSAKLCLFCDHHVHSANP...     480   \n",
       "4  Achn176481  MVYMCDFCGEQRSIVYCRSDAASLCFSCDHSVHSANALSRRHFRTL...     412   \n",
       "\n",
       "   class  \n",
       "0      1  \n",
       "1      1  \n",
       "2      1  \n",
       "3      1  \n",
       "4      1  "
      ]
     },
     "execution_count": 3,
     "metadata": {},
     "output_type": "execute_result"
    }
   ],
   "source": [
    "# READ GENE_INFO JSON FILE\n",
    "gene_info_path = \"../data/gene_info.json\"\n",
    "dataset_path   = \"../data/one_vs_other/\"\n",
    "with open(gene_info_path, 'r') as json_file:\n",
    "    gene_info = json.load(json_file)\n",
    "\n",
    "# FOCUS ON GENE FAMILLY\n",
    "gene_dict = gene_info[gene_familly]\n",
    "df_path = dataset_path+gene_dict['file_code']+\".csv\"\n",
    "\n",
    "# LOAD WHOLE DATASET\n",
    "USE_FULL_DF = True\n",
    "if USE_FULL_DF:\n",
    "    dataset = pd.read_csv(df_path)\n",
    "else:\n",
    "    dataset_ = pd.read_csv(df_path)\n",
    "    r = min(5000/len(dataset_), 1)\n",
    "    _, dataset = train_test_split(dataset_, test_size=r, stratify=dataset_['class'], random_state=42)\n",
    "dataset.head()"
   ]
  },
  {
   "cell_type": "code",
   "execution_count": 4,
   "id": "745dff8f-540b-4299-a3f0-dabda69bd837",
   "metadata": {
    "execution": {
     "iopub.execute_input": "2024-07-04T12:37:13.237051Z",
     "iopub.status.busy": "2024-07-04T12:37:13.236890Z",
     "iopub.status.idle": "2024-07-04T12:37:13.241560Z",
     "shell.execute_reply": "2024-07-04T12:37:13.241231Z"
    },
    "papermill": {
     "duration": 0.007421,
     "end_time": "2024-07-04T12:37:13.242621",
     "exception": false,
     "start_time": "2024-07-04T12:37:13.235200",
     "status": "completed"
    },
    "tags": []
   },
   "outputs": [],
   "source": [
    "trainset, testset = train_test_split(dataset, test_size=0.2, stratify=dataset['class'], random_state=42)"
   ]
  },
  {
   "cell_type": "code",
   "execution_count": 5,
   "id": "a9b8b47d-48c6-4e94-a378-574904e308ee",
   "metadata": {
    "execution": {
     "iopub.execute_input": "2024-07-04T12:37:13.245548Z",
     "iopub.status.busy": "2024-07-04T12:37:13.245397Z",
     "iopub.status.idle": "2024-07-04T12:37:13.251977Z",
     "shell.execute_reply": "2024-07-04T12:37:13.251599Z"
    },
    "papermill": {
     "duration": 0.009233,
     "end_time": "2024-07-04T12:37:13.252998",
     "exception": false,
     "start_time": "2024-07-04T12:37:13.243765",
     "status": "completed"
    },
    "tags": []
   },
   "outputs": [
    {
     "name": "stderr",
     "output_type": "stream",
     "text": [
      "/var/folders/w8/b_cflrn97k9c15rcrn5t8mmr0000gn/T/ipykernel_22583/2288533763.py:2: FutureWarning: Setting an item of incompatible dtype is deprecated and will raise in a future error of pandas. Value 'CO-like' has dtype incompatible with int64, please explicitly cast to a compatible dtype first.\n",
      "  testset_positive.loc[:, 'class'] = gene_familly\n"
     ]
    },
    {
     "data": {
      "text/html": [
       "<div>\n",
       "<style scoped>\n",
       "    .dataframe tbody tr th:only-of-type {\n",
       "        vertical-align: middle;\n",
       "    }\n",
       "\n",
       "    .dataframe tbody tr th {\n",
       "        vertical-align: top;\n",
       "    }\n",
       "\n",
       "    .dataframe thead th {\n",
       "        text-align: right;\n",
       "    }\n",
       "</style>\n",
       "<table border=\"1\" class=\"dataframe\">\n",
       "  <thead>\n",
       "    <tr style=\"text-align: right;\">\n",
       "      <th></th>\n",
       "      <th>id</th>\n",
       "      <th>sequence</th>\n",
       "      <th>length</th>\n",
       "      <th>class</th>\n",
       "    </tr>\n",
       "  </thead>\n",
       "  <tbody>\n",
       "    <tr>\n",
       "      <th>1131</th>\n",
       "      <td>NNU_024887-RA -- CO-like</td>\n",
       "      <td>MVNFRGDPGRREQQQPRYVVEEAAEQDEQLQQQQHLAAKVTLHGLC...</td>\n",
       "      <td>418</td>\n",
       "      <td>CO-like</td>\n",
       "    </tr>\n",
       "    <tr>\n",
       "      <th>1262</th>\n",
       "      <td>ORGLA07G0199200.1 -- CO-like</td>\n",
       "      <td>MARDDDPAKKLAVDGGVAAAARCCDFCGGLPAVVYCRADSARLCLP...</td>\n",
       "      <td>380</td>\n",
       "      <td>CO-like</td>\n",
       "    </tr>\n",
       "    <tr>\n",
       "      <th>1806</th>\n",
       "      <td>Solyc09g074560.2.1 -- CO-like</td>\n",
       "      <td>MTEVKKDEENHHQHLCDFCGNNTALLYCRADSAKLCFTCDREVHST...</td>\n",
       "      <td>374</td>\n",
       "      <td>CO-like</td>\n",
       "    </tr>\n",
       "    <tr>\n",
       "      <th>1585</th>\n",
       "      <td>Potri.003G166000.1 -- CO-like</td>\n",
       "      <td>MVTHNSKTKETVPCDFCSEQTAVLYCRADSAKLCLFCDQHVHSANL...</td>\n",
       "      <td>499</td>\n",
       "      <td>CO-like</td>\n",
       "    </tr>\n",
       "    <tr>\n",
       "      <th>1978</th>\n",
       "      <td>Tp57577_TGAC_v2_mRNA5475 -- CO-like</td>\n",
       "      <td>MGLKSFRTSNWSVPPKLCDSCKITSAALFCRSDSAFLCINCDSRIH...</td>\n",
       "      <td>409</td>\n",
       "      <td>CO-like</td>\n",
       "    </tr>\n",
       "    <tr>\n",
       "      <th>...</th>\n",
       "      <td>...</td>\n",
       "      <td>...</td>\n",
       "      <td>...</td>\n",
       "      <td>...</td>\n",
       "    </tr>\n",
       "    <tr>\n",
       "      <th>1678</th>\n",
       "      <td>Rsa1.0_00810.1_g00007.1 -- CO-like</td>\n",
       "      <td>MASKLCDSCKSATAALYCRPDAAFLCLSCDSKVHAANKLASRHARV...</td>\n",
       "      <td>351</td>\n",
       "      <td>CO-like</td>\n",
       "    </tr>\n",
       "    <tr>\n",
       "      <th>252</th>\n",
       "      <td>GSBRNA2T00059945001 -- CO-like</td>\n",
       "      <td>MKSLANCVRAKTARTCDNCLKKQAHWFCAADEAFLCQSCDTSVHSA...</td>\n",
       "      <td>385</td>\n",
       "      <td>CO-like</td>\n",
       "    </tr>\n",
       "    <tr>\n",
       "      <th>163</th>\n",
       "      <td>Neem_2235_f_2 -- CO-like</td>\n",
       "      <td>MLNTNCSGDGHPGNWMRICDKCKAAVSILYCPTDSAYLCNSCDELI...</td>\n",
       "      <td>388</td>\n",
       "      <td>CO-like</td>\n",
       "    </tr>\n",
       "    <tr>\n",
       "      <th>1000</th>\n",
       "      <td>Lus10031584 -- CO-like</td>\n",
       "      <td>MPTILPANAPAQDLKLAHQPVQIHTNKKITTYLGENPPFHADFLEL...</td>\n",
       "      <td>459</td>\n",
       "      <td>CO-like</td>\n",
       "    </tr>\n",
       "    <tr>\n",
       "      <th>2089</th>\n",
       "      <td>Zmw_sc00045.1.g00210.1 -- CO-like</td>\n",
       "      <td>MRPHEKVHRSSDNDATMIILQGEVDTGKSSLATRARRSRRHVSLAL...</td>\n",
       "      <td>522</td>\n",
       "      <td>CO-like</td>\n",
       "    </tr>\n",
       "  </tbody>\n",
       "</table>\n",
       "<p>425 rows × 4 columns</p>\n",
       "</div>"
      ],
      "text/plain": [
       "                                       id  \\\n",
       "1131             NNU_024887-RA -- CO-like   \n",
       "1262         ORGLA07G0199200.1 -- CO-like   \n",
       "1806        Solyc09g074560.2.1 -- CO-like   \n",
       "1585        Potri.003G166000.1 -- CO-like   \n",
       "1978  Tp57577_TGAC_v2_mRNA5475 -- CO-like   \n",
       "...                                   ...   \n",
       "1678   Rsa1.0_00810.1_g00007.1 -- CO-like   \n",
       "252        GSBRNA2T00059945001 -- CO-like   \n",
       "163              Neem_2235_f_2 -- CO-like   \n",
       "1000               Lus10031584 -- CO-like   \n",
       "2089    Zmw_sc00045.1.g00210.1 -- CO-like   \n",
       "\n",
       "                                               sequence  length    class  \n",
       "1131  MVNFRGDPGRREQQQPRYVVEEAAEQDEQLQQQQHLAAKVTLHGLC...     418  CO-like  \n",
       "1262  MARDDDPAKKLAVDGGVAAAARCCDFCGGLPAVVYCRADSARLCLP...     380  CO-like  \n",
       "1806  MTEVKKDEENHHQHLCDFCGNNTALLYCRADSAKLCFTCDREVHST...     374  CO-like  \n",
       "1585  MVTHNSKTKETVPCDFCSEQTAVLYCRADSAKLCLFCDQHVHSANL...     499  CO-like  \n",
       "1978  MGLKSFRTSNWSVPPKLCDSCKITSAALFCRSDSAFLCINCDSRIH...     409  CO-like  \n",
       "...                                                 ...     ...      ...  \n",
       "1678  MASKLCDSCKSATAALYCRPDAAFLCLSCDSKVHAANKLASRHARV...     351  CO-like  \n",
       "252   MKSLANCVRAKTARTCDNCLKKQAHWFCAADEAFLCQSCDTSVHSA...     385  CO-like  \n",
       "163   MLNTNCSGDGHPGNWMRICDKCKAAVSILYCPTDSAYLCNSCDELI...     388  CO-like  \n",
       "1000  MPTILPANAPAQDLKLAHQPVQIHTNKKITTYLGENPPFHADFLEL...     459  CO-like  \n",
       "2089  MRPHEKVHRSSDNDATMIILQGEVDTGKSSLATRARRSRRHVSLAL...     522  CO-like  \n",
       "\n",
       "[425 rows x 4 columns]"
      ]
     },
     "execution_count": 5,
     "metadata": {},
     "output_type": "execute_result"
    }
   ],
   "source": [
    "testset_positive = testset[testset['class'] == 1]\n",
    "testset_positive.loc[:, 'class'] = gene_familly\n",
    "testset_positive.loc[:, 'id'] = testset_positive['id'].apply(lambda x: f\"{x} -- {gene_familly}\")\n",
    "testset_positive"
   ]
  },
  {
   "cell_type": "code",
   "execution_count": 6,
   "id": "25a9ad39-47e0-4b0a-9669-c9ed5c6cafa3",
   "metadata": {
    "execution": {
     "iopub.execute_input": "2024-07-04T12:37:13.256233Z",
     "iopub.status.busy": "2024-07-04T12:37:13.256088Z",
     "iopub.status.idle": "2024-07-04T12:37:13.297208Z",
     "shell.execute_reply": "2024-07-04T12:37:13.296867Z"
    },
    "papermill": {
     "duration": 0.043946,
     "end_time": "2024-07-04T12:37:13.298302",
     "exception": false,
     "start_time": "2024-07-04T12:37:13.254356",
     "status": "completed"
    },
    "tags": []
   },
   "outputs": [],
   "source": [
    "testset_positive.to_csv(\"../data/testset/\"+gene_dict['file_code']+\".csv\")\n",
    "trainset.to_csv(\"../data/mix_data/trainset/\"+gene_dict['file_code']+\".csv\")\n",
    "testset.to_csv(\"../data/mix_data/testset/\"+gene_dict['file_code']+\".csv\")"
   ]
  },
  {
   "cell_type": "code",
   "execution_count": null,
   "id": "4107c4c5-3c5d-44f9-af27-5b81b6d102e5",
   "metadata": {
    "papermill": {
     "duration": 0.001175,
     "end_time": "2024-07-04T12:37:13.300871",
     "exception": false,
     "start_time": "2024-07-04T12:37:13.299696",
     "status": "completed"
    },
    "tags": []
   },
   "outputs": [],
   "source": []
  }
 ],
 "metadata": {
  "kernelspec": {
   "display_name": "Python 3 (ipykernel)",
   "language": "python",
   "name": "python3"
  },
  "language_info": {
   "codemirror_mode": {
    "name": "ipython",
    "version": 3
   },
   "file_extension": ".py",
   "mimetype": "text/x-python",
   "name": "python",
   "nbconvert_exporter": "python",
   "pygments_lexer": "ipython3",
   "version": "3.11.7"
  },
  "papermill": {
   "default_parameters": {},
   "duration": 1.723333,
   "end_time": "2024-07-04T12:37:13.620427",
   "environment_variables": {},
   "exception": null,
   "input_path": "05-extract_testset-0.ipynb",
   "output_path": "AutoSave/TestGen/05-extract_testset-0-CO-like.ipynb",
   "parameters": {
    "gene_familly": "CO-like"
   },
   "start_time": "2024-07-04T12:37:11.897094",
   "version": "2.6.0"
  }
 },
 "nbformat": 4,
 "nbformat_minor": 5
}