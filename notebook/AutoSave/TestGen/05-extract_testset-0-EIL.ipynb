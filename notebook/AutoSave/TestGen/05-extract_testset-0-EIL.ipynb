{
 "cells": [
  {
   "cell_type": "code",
   "execution_count": 1,
   "id": "a4bbae43",
   "metadata": {
    "execution": {
     "iopub.execute_input": "2024-07-04T12:37:21.273367Z",
     "iopub.status.busy": "2024-07-04T12:37:21.273223Z",
     "iopub.status.idle": "2024-07-04T12:37:21.277564Z",
     "shell.execute_reply": "2024-07-04T12:37:21.277268Z"
    },
    "papermill": {
     "duration": 0.007487,
     "end_time": "2024-07-04T12:37:21.278507",
     "exception": false,
     "start_time": "2024-07-04T12:37:21.271020",
     "status": "completed"
    },
    "tags": [
     "injected-parameters"
    ]
   },
   "outputs": [],
   "source": [
    "# Parameters\n",
    "gene_familly = \"EIL\"\n"
   ]
  },
  {
   "cell_type": "code",
   "execution_count": 2,
   "id": "e7cdbe25-11a6-48da-abd4-9ae5eee27bfe",
   "metadata": {
    "execution": {
     "iopub.execute_input": "2024-07-04T12:37:21.280941Z",
     "iopub.status.busy": "2024-07-04T12:37:21.280829Z",
     "iopub.status.idle": "2024-07-04T12:37:21.996308Z",
     "shell.execute_reply": "2024-07-04T12:37:21.995826Z"
    },
    "papermill": {
     "duration": 0.718173,
     "end_time": "2024-07-04T12:37:21.997772",
     "exception": false,
     "start_time": "2024-07-04T12:37:21.279599",
     "status": "completed"
    },
    "tags": []
   },
   "outputs": [],
   "source": [
    "import json\n",
    "import pandas as pd\n",
    "from sklearn.model_selection import train_test_split"
   ]
  },
  {
   "cell_type": "code",
   "execution_count": 3,
   "id": "6e20f340-8cbc-46f2-be83-6f1c4523930a",
   "metadata": {
    "execution": {
     "iopub.execute_input": "2024-07-04T12:37:22.001107Z",
     "iopub.status.busy": "2024-07-04T12:37:22.000861Z",
     "iopub.status.idle": "2024-07-04T12:37:22.023527Z",
     "shell.execute_reply": "2024-07-04T12:37:22.023066Z"
    },
    "papermill": {
     "duration": 0.025652,
     "end_time": "2024-07-04T12:37:22.024744",
     "exception": false,
     "start_time": "2024-07-04T12:37:21.999092",
     "status": "completed"
    },
    "tags": []
   },
   "outputs": [
    {
     "data": {
      "text/html": [
       "<div>\n",
       "<style scoped>\n",
       "    .dataframe tbody tr th:only-of-type {\n",
       "        vertical-align: middle;\n",
       "    }\n",
       "\n",
       "    .dataframe tbody tr th {\n",
       "        vertical-align: top;\n",
       "    }\n",
       "\n",
       "    .dataframe thead th {\n",
       "        text-align: right;\n",
       "    }\n",
       "</style>\n",
       "<table border=\"1\" class=\"dataframe\">\n",
       "  <thead>\n",
       "    <tr style=\"text-align: right;\">\n",
       "      <th></th>\n",
       "      <th>id</th>\n",
       "      <th>sequence</th>\n",
       "      <th>length</th>\n",
       "      <th>class</th>\n",
       "    </tr>\n",
       "  </thead>\n",
       "  <tbody>\n",
       "    <tr>\n",
       "      <th>0</th>\n",
       "      <td>Achn017871</td>\n",
       "      <td>MSNRMMMFDEMGFCGDLDFLSAPLGDGDVTASQTEPEAVVDDDYSD...</td>\n",
       "      <td>627</td>\n",
       "      <td>1</td>\n",
       "    </tr>\n",
       "    <tr>\n",
       "      <th>1</th>\n",
       "      <td>Achn018171</td>\n",
       "      <td>MDANGLDDNSDIEVDEIRCGNIVERDVSDEEIEAEDLERRMWKDRI...</td>\n",
       "      <td>638</td>\n",
       "      <td>1</td>\n",
       "    </tr>\n",
       "    <tr>\n",
       "      <th>2</th>\n",
       "      <td>Achn018431</td>\n",
       "      <td>MIMFDEMGFCGDLDFFSAPLGEGDMAAPQTEPEVVMDDDYSDEEID...</td>\n",
       "      <td>619</td>\n",
       "      <td>1</td>\n",
       "    </tr>\n",
       "    <tr>\n",
       "      <th>3</th>\n",
       "      <td>Achn123771</td>\n",
       "      <td>MGVMEEIGVDISSDIEVDEIRCENIAEKDVSDEEIEAEDLERRMWK...</td>\n",
       "      <td>608</td>\n",
       "      <td>1</td>\n",
       "    </tr>\n",
       "    <tr>\n",
       "      <th>4</th>\n",
       "      <td>Achn171621</td>\n",
       "      <td>MIELCEELNDPPSSDDEDDKLGYDELKKRIWKDRVRLQKLKAKHEA...</td>\n",
       "      <td>492</td>\n",
       "      <td>1</td>\n",
       "    </tr>\n",
       "  </tbody>\n",
       "</table>\n",
       "</div>"
      ],
      "text/plain": [
       "           id                                           sequence  length  \\\n",
       "0  Achn017871  MSNRMMMFDEMGFCGDLDFLSAPLGDGDVTASQTEPEAVVDDDYSD...     627   \n",
       "1  Achn018171  MDANGLDDNSDIEVDEIRCGNIVERDVSDEEIEAEDLERRMWKDRI...     638   \n",
       "2  Achn018431  MIMFDEMGFCGDLDFFSAPLGEGDMAAPQTEPEVVMDDDYSDEEID...     619   \n",
       "3  Achn123771  MGVMEEIGVDISSDIEVDEIRCENIAEKDVSDEEIEAEDLERRMWK...     608   \n",
       "4  Achn171621  MIELCEELNDPPSSDDEDDKLGYDELKKRIWKDRVRLQKLKAKHEA...     492   \n",
       "\n",
       "   class  \n",
       "0      1  \n",
       "1      1  \n",
       "2      1  \n",
       "3      1  \n",
       "4      1  "
      ]
     },
     "execution_count": 3,
     "metadata": {},
     "output_type": "execute_result"
    }
   ],
   "source": [
    "# READ GENE_INFO JSON FILE\n",
    "gene_info_path = \"../data/gene_info.json\"\n",
    "dataset_path   = \"../data/one_vs_other/\"\n",
    "with open(gene_info_path, 'r') as json_file:\n",
    "    gene_info = json.load(json_file)\n",
    "\n",
    "# FOCUS ON GENE FAMILLY\n",
    "gene_dict = gene_info[gene_familly]\n",
    "df_path = dataset_path+gene_dict['file_code']+\".csv\"\n",
    "\n",
    "# LOAD WHOLE DATASET\n",
    "USE_FULL_DF = True\n",
    "if USE_FULL_DF:\n",
    "    dataset = pd.read_csv(df_path)\n",
    "else:\n",
    "    dataset_ = pd.read_csv(df_path)\n",
    "    r = min(5000/len(dataset_), 1)\n",
    "    _, dataset = train_test_split(dataset_, test_size=r, stratify=dataset_['class'], random_state=42)\n",
    "dataset.head()"
   ]
  },
  {
   "cell_type": "code",
   "execution_count": 4,
   "id": "745dff8f-540b-4299-a3f0-dabda69bd837",
   "metadata": {
    "execution": {
     "iopub.execute_input": "2024-07-04T12:37:22.027952Z",
     "iopub.status.busy": "2024-07-04T12:37:22.027774Z",
     "iopub.status.idle": "2024-07-04T12:37:22.032188Z",
     "shell.execute_reply": "2024-07-04T12:37:22.031827Z"
    },
    "papermill": {
     "duration": 0.007155,
     "end_time": "2024-07-04T12:37:22.033243",
     "exception": false,
     "start_time": "2024-07-04T12:37:22.026088",
     "status": "completed"
    },
    "tags": []
   },
   "outputs": [],
   "source": [
    "trainset, testset = train_test_split(dataset, test_size=0.2, stratify=dataset['class'], random_state=42)"
   ]
  },
  {
   "cell_type": "code",
   "execution_count": 5,
   "id": "a9b8b47d-48c6-4e94-a378-574904e308ee",
   "metadata": {
    "execution": {
     "iopub.execute_input": "2024-07-04T12:37:22.036122Z",
     "iopub.status.busy": "2024-07-04T12:37:22.035984Z",
     "iopub.status.idle": "2024-07-04T12:37:22.042969Z",
     "shell.execute_reply": "2024-07-04T12:37:22.042565Z"
    },
    "papermill": {
     "duration": 0.009573,
     "end_time": "2024-07-04T12:37:22.043967",
     "exception": false,
     "start_time": "2024-07-04T12:37:22.034394",
     "status": "completed"
    },
    "tags": []
   },
   "outputs": [
    {
     "name": "stderr",
     "output_type": "stream",
     "text": [
      "/var/folders/w8/b_cflrn97k9c15rcrn5t8mmr0000gn/T/ipykernel_22615/2288533763.py:2: FutureWarning: Setting an item of incompatible dtype is deprecated and will raise in a future error of pandas. Value 'EIL' has dtype incompatible with int64, please explicitly cast to a compatible dtype first.\n",
      "  testset_positive.loc[:, 'class'] = gene_familly\n"
     ]
    },
    {
     "data": {
      "text/html": [
       "<div>\n",
       "<style scoped>\n",
       "    .dataframe tbody tr th:only-of-type {\n",
       "        vertical-align: middle;\n",
       "    }\n",
       "\n",
       "    .dataframe tbody tr th {\n",
       "        vertical-align: top;\n",
       "    }\n",
       "\n",
       "    .dataframe thead th {\n",
       "        text-align: right;\n",
       "    }\n",
       "</style>\n",
       "<table border=\"1\" class=\"dataframe\">\n",
       "  <thead>\n",
       "    <tr style=\"text-align: right;\">\n",
       "      <th></th>\n",
       "      <th>id</th>\n",
       "      <th>sequence</th>\n",
       "      <th>length</th>\n",
       "      <th>class</th>\n",
       "    </tr>\n",
       "  </thead>\n",
       "  <tbody>\n",
       "    <tr>\n",
       "      <th>343</th>\n",
       "      <td>Thhalv10001938m -- EIL</td>\n",
       "      <td>MMMFNEMGMYGKMDFFSSTSLGEIDVCPLPQAEQDHPVVEEDYTDD...</td>\n",
       "      <td>582</td>\n",
       "      <td>EIL</td>\n",
       "    </tr>\n",
       "    <tr>\n",
       "      <th>1108</th>\n",
       "      <td>Tp1g37880 -- EIL</td>\n",
       "      <td>MGVFFSDPDSIAEDDGYTDNELDVDELEKRIWKQEMRLRRLKEHRK...</td>\n",
       "      <td>211</td>\n",
       "      <td>EIL</td>\n",
       "    </tr>\n",
       "    <tr>\n",
       "      <th>904</th>\n",
       "      <td>Pbr004574.1 -- EIL</td>\n",
       "      <td>MGDVGEIGPDISSDIEEDLRCDNIAEKDVSDEEIEAEDLERRMWKD...</td>\n",
       "      <td>608</td>\n",
       "      <td>EIL</td>\n",
       "    </tr>\n",
       "    <tr>\n",
       "      <th>1022</th>\n",
       "      <td>Sme2.5_02278.1_g00005.1 -- EIL</td>\n",
       "      <td>MNNEVVEENQEFDDEEINYDDLKRRMWKDRMRMQILKGKKRDMMIE...</td>\n",
       "      <td>494</td>\n",
       "      <td>EIL</td>\n",
       "    </tr>\n",
       "    <tr>\n",
       "      <th>743</th>\n",
       "      <td>ONIVA11G15950.1 -- EIL</td>\n",
       "      <td>MDASKKSVMTKEEQQLSPAASPAAAVMTAEADAINEEQDKAAAATT...</td>\n",
       "      <td>466</td>\n",
       "      <td>EIL</td>\n",
       "    </tr>\n",
       "    <tr>\n",
       "      <th>...</th>\n",
       "      <td>...</td>\n",
       "      <td>...</td>\n",
       "      <td>...</td>\n",
       "      <td>...</td>\n",
       "    </tr>\n",
       "    <tr>\n",
       "      <th>60</th>\n",
       "      <td>Aradu.U3SNU -- EIL</td>\n",
       "      <td>MMMFDDMGFCGDLDVLCGPLGESDMTARQTEPDAVVEDDYSDEEID...</td>\n",
       "      <td>622</td>\n",
       "      <td>EIL</td>\n",
       "    </tr>\n",
       "    <tr>\n",
       "      <th>818</th>\n",
       "      <td>Peinf101Scf02706g01012.1 -- EIL</td>\n",
       "      <td>MEYCMIDADELGNSSDIEVDDIRCENIEDKDVSDEEIEPEELERRM...</td>\n",
       "      <td>532</td>\n",
       "      <td>EIL</td>\n",
       "    </tr>\n",
       "    <tr>\n",
       "      <th>523</th>\n",
       "      <td>kfl00801_0040 -- EIL</td>\n",
       "      <td>MAQGQDVKRRASTLEGEWLKSLAANVGEQCGEQSTVDIADMLDASL...</td>\n",
       "      <td>718</td>\n",
       "      <td>EIL</td>\n",
       "    </tr>\n",
       "    <tr>\n",
       "      <th>981</th>\n",
       "      <td>419761 -- EIL</td>\n",
       "      <td>MDVDELEKRIWNDRLRLKRIKDKQKARVNNAFSSNHSNHSHGQQQQ...</td>\n",
       "      <td>608</td>\n",
       "      <td>EIL</td>\n",
       "    </tr>\n",
       "    <tr>\n",
       "      <th>1216</th>\n",
       "      <td>Zmw_sc01682.1.g00050.1 -- EIL</td>\n",
       "      <td>MMGGGLMMDQSMVFPGVHNFVHLLQQNGADVDKDLGFGPLMSQTSS...</td>\n",
       "      <td>643</td>\n",
       "      <td>EIL</td>\n",
       "    </tr>\n",
       "  </tbody>\n",
       "</table>\n",
       "<p>247 rows × 4 columns</p>\n",
       "</div>"
      ],
      "text/plain": [
       "                                   id  \\\n",
       "343            Thhalv10001938m -- EIL   \n",
       "1108                 Tp1g37880 -- EIL   \n",
       "904                Pbr004574.1 -- EIL   \n",
       "1022   Sme2.5_02278.1_g00005.1 -- EIL   \n",
       "743            ONIVA11G15950.1 -- EIL   \n",
       "...                               ...   \n",
       "60                 Aradu.U3SNU -- EIL   \n",
       "818   Peinf101Scf02706g01012.1 -- EIL   \n",
       "523              kfl00801_0040 -- EIL   \n",
       "981                     419761 -- EIL   \n",
       "1216    Zmw_sc01682.1.g00050.1 -- EIL   \n",
       "\n",
       "                                               sequence  length class  \n",
       "343   MMMFNEMGMYGKMDFFSSTSLGEIDVCPLPQAEQDHPVVEEDYTDD...     582   EIL  \n",
       "1108  MGVFFSDPDSIAEDDGYTDNELDVDELEKRIWKQEMRLRRLKEHRK...     211   EIL  \n",
       "904   MGDVGEIGPDISSDIEEDLRCDNIAEKDVSDEEIEAEDLERRMWKD...     608   EIL  \n",
       "1022  MNNEVVEENQEFDDEEINYDDLKRRMWKDRMRMQILKGKKRDMMIE...     494   EIL  \n",
       "743   MDASKKSVMTKEEQQLSPAASPAAAVMTAEADAINEEQDKAAAATT...     466   EIL  \n",
       "...                                                 ...     ...   ...  \n",
       "60    MMMFDDMGFCGDLDVLCGPLGESDMTARQTEPDAVVEDDYSDEEID...     622   EIL  \n",
       "818   MEYCMIDADELGNSSDIEVDDIRCENIEDKDVSDEEIEPEELERRM...     532   EIL  \n",
       "523   MAQGQDVKRRASTLEGEWLKSLAANVGEQCGEQSTVDIADMLDASL...     718   EIL  \n",
       "981   MDVDELEKRIWNDRLRLKRIKDKQKARVNNAFSSNHSNHSHGQQQQ...     608   EIL  \n",
       "1216  MMGGGLMMDQSMVFPGVHNFVHLLQQNGADVDKDLGFGPLMSQTSS...     643   EIL  \n",
       "\n",
       "[247 rows x 4 columns]"
      ]
     },
     "execution_count": 5,
     "metadata": {},
     "output_type": "execute_result"
    }
   ],
   "source": [
    "testset_positive = testset[testset['class'] == 1]\n",
    "testset_positive.loc[:, 'class'] = gene_familly\n",
    "testset_positive.loc[:, 'id'] = testset_positive['id'].apply(lambda x: f\"{x} -- {gene_familly}\")\n",
    "testset_positive"
   ]
  },
  {
   "cell_type": "code",
   "execution_count": 6,
   "id": "25a9ad39-47e0-4b0a-9669-c9ed5c6cafa3",
   "metadata": {
    "execution": {
     "iopub.execute_input": "2024-07-04T12:37:22.047441Z",
     "iopub.status.busy": "2024-07-04T12:37:22.047265Z",
     "iopub.status.idle": "2024-07-04T12:37:22.076739Z",
     "shell.execute_reply": "2024-07-04T12:37:22.076314Z"
    },
    "papermill": {
     "duration": 0.032607,
     "end_time": "2024-07-04T12:37:22.078013",
     "exception": false,
     "start_time": "2024-07-04T12:37:22.045406",
     "status": "completed"
    },
    "tags": []
   },
   "outputs": [],
   "source": [
    "testset_positive.to_csv(\"../data/testset/\"+gene_dict['file_code']+\".csv\")\n",
    "trainset.to_csv(\"../data/mix_data/trainset/\"+gene_dict['file_code']+\".csv\")\n",
    "testset.to_csv(\"../data/mix_data/testset/\"+gene_dict['file_code']+\".csv\")"
   ]
  },
  {
   "cell_type": "code",
   "execution_count": null,
   "id": "4107c4c5-3c5d-44f9-af27-5b81b6d102e5",
   "metadata": {
    "papermill": {
     "duration": 0.001394,
     "end_time": "2024-07-04T12:37:22.080901",
     "exception": false,
     "start_time": "2024-07-04T12:37:22.079507",
     "status": "completed"
    },
    "tags": []
   },
   "outputs": [],
   "source": []
  }
 ],
 "metadata": {
  "kernelspec": {
   "display_name": "Python 3 (ipykernel)",
   "language": "python",
   "name": "python3"
  },
  "language_info": {
   "codemirror_mode": {
    "name": "ipython",
    "version": 3
   },
   "file_extension": ".py",
   "mimetype": "text/x-python",
   "name": "python",
   "nbconvert_exporter": "python",
   "pygments_lexer": "ipython3",
   "version": "3.11.7"
  },
  "papermill": {
   "default_parameters": {},
   "duration": 1.889587,
   "end_time": "2024-07-04T12:37:22.400431",
   "environment_variables": {},
   "exception": null,
   "input_path": "05-extract_testset-0.ipynb",
   "output_path": "AutoSave/TestGen/05-extract_testset-0-EIL.ipynb",
   "parameters": {
    "gene_familly": "EIL"
   },
   "start_time": "2024-07-04T12:37:20.510844",
   "version": "2.6.0"
  }
 },
 "nbformat": 4,
 "nbformat_minor": 5
}