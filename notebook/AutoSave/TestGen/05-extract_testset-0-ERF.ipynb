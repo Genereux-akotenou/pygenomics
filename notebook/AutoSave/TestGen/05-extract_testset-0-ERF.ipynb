{
 "cells": [
  {
   "cell_type": "code",
   "execution_count": 1,
   "id": "fd144444",
   "metadata": {
    "execution": {
     "iopub.execute_input": "2024-07-04T12:37:23.044467Z",
     "iopub.status.busy": "2024-07-04T12:37:23.044227Z",
     "iopub.status.idle": "2024-07-04T12:37:23.050003Z",
     "shell.execute_reply": "2024-07-04T12:37:23.049517Z"
    },
    "papermill": {
     "duration": 0.009921,
     "end_time": "2024-07-04T12:37:23.051550",
     "exception": false,
     "start_time": "2024-07-04T12:37:23.041629",
     "status": "completed"
    },
    "tags": [
     "injected-parameters"
    ]
   },
   "outputs": [],
   "source": [
    "# Parameters\n",
    "gene_familly = \"ERF\"\n"
   ]
  },
  {
   "cell_type": "code",
   "execution_count": 2,
   "id": "e7cdbe25-11a6-48da-abd4-9ae5eee27bfe",
   "metadata": {
    "execution": {
     "iopub.execute_input": "2024-07-04T12:37:23.055210Z",
     "iopub.status.busy": "2024-07-04T12:37:23.055004Z",
     "iopub.status.idle": "2024-07-04T12:37:23.747573Z",
     "shell.execute_reply": "2024-07-04T12:37:23.747080Z"
    },
    "papermill": {
     "duration": 0.695912,
     "end_time": "2024-07-04T12:37:23.749198",
     "exception": false,
     "start_time": "2024-07-04T12:37:23.053286",
     "status": "completed"
    },
    "tags": []
   },
   "outputs": [],
   "source": [
    "import json\n",
    "import pandas as pd\n",
    "from sklearn.model_selection import train_test_split"
   ]
  },
  {
   "cell_type": "code",
   "execution_count": 3,
   "id": "6e20f340-8cbc-46f2-be83-6f1c4523930a",
   "metadata": {
    "execution": {
     "iopub.execute_input": "2024-07-04T12:37:23.752722Z",
     "iopub.status.busy": "2024-07-04T12:37:23.752428Z",
     "iopub.status.idle": "2024-07-04T12:37:23.906798Z",
     "shell.execute_reply": "2024-07-04T12:37:23.906329Z"
    },
    "papermill": {
     "duration": 0.157337,
     "end_time": "2024-07-04T12:37:23.908023",
     "exception": false,
     "start_time": "2024-07-04T12:37:23.750686",
     "status": "completed"
    },
    "tags": []
   },
   "outputs": [
    {
     "data": {
      "text/html": [
       "<div>\n",
       "<style scoped>\n",
       "    .dataframe tbody tr th:only-of-type {\n",
       "        vertical-align: middle;\n",
       "    }\n",
       "\n",
       "    .dataframe tbody tr th {\n",
       "        vertical-align: top;\n",
       "    }\n",
       "\n",
       "    .dataframe thead th {\n",
       "        text-align: right;\n",
       "    }\n",
       "</style>\n",
       "<table border=\"1\" class=\"dataframe\">\n",
       "  <thead>\n",
       "    <tr style=\"text-align: right;\">\n",
       "      <th></th>\n",
       "      <th>id</th>\n",
       "      <th>sequence</th>\n",
       "      <th>length</th>\n",
       "      <th>class</th>\n",
       "    </tr>\n",
       "  </thead>\n",
       "  <tbody>\n",
       "    <tr>\n",
       "      <th>0</th>\n",
       "      <td>Achn001311</td>\n",
       "      <td>MATTDEISALELIKLHLLGEVSPVGKFVAKLSEVSSSGSDSLSSQT...</td>\n",
       "      <td>306</td>\n",
       "      <td>1</td>\n",
       "    </tr>\n",
       "    <tr>\n",
       "      <th>1</th>\n",
       "      <td>Achn002521</td>\n",
       "      <td>MNKKVPVPGTIDRGDPHAQRTIAPTDTQSRKPLYKREKTMSGCGAG...</td>\n",
       "      <td>208</td>\n",
       "      <td>1</td>\n",
       "    </tr>\n",
       "    <tr>\n",
       "      <th>2</th>\n",
       "      <td>Achn005091</td>\n",
       "      <td>MNLEDESSPYSSSSSSSSTFCNVTKNPSSPSTPTNVSLPTFHKRKA...</td>\n",
       "      <td>248</td>\n",
       "      <td>1</td>\n",
       "    </tr>\n",
       "    <tr>\n",
       "      <th>3</th>\n",
       "      <td>Achn007081</td>\n",
       "      <td>MSTENQNSEPESSSNSLSSTPSSPSSPGSTQSALIRPGSAQDPEPR...</td>\n",
       "      <td>247</td>\n",
       "      <td>1</td>\n",
       "    </tr>\n",
       "    <tr>\n",
       "      <th>4</th>\n",
       "      <td>Achn009241</td>\n",
       "      <td>MIHHVNGSVEKTRLAETQGRVSDSECYAPNGRVENKYCLASTRKCR...</td>\n",
       "      <td>506</td>\n",
       "      <td>1</td>\n",
       "    </tr>\n",
       "  </tbody>\n",
       "</table>\n",
       "</div>"
      ],
      "text/plain": [
       "           id                                           sequence  length  \\\n",
       "0  Achn001311  MATTDEISALELIKLHLLGEVSPVGKFVAKLSEVSSSGSDSLSSQT...     306   \n",
       "1  Achn002521  MNKKVPVPGTIDRGDPHAQRTIAPTDTQSRKPLYKREKTMSGCGAG...     208   \n",
       "2  Achn005091  MNLEDESSPYSSSSSSSSTFCNVTKNPSSPSTPTNVSLPTFHKRKA...     248   \n",
       "3  Achn007081  MSTENQNSEPESSSNSLSSTPSSPSSPGSTQSALIRPGSAQDPEPR...     247   \n",
       "4  Achn009241  MIHHVNGSVEKTRLAETQGRVSDSECYAPNGRVENKYCLASTRKCR...     506   \n",
       "\n",
       "   class  \n",
       "0      1  \n",
       "1      1  \n",
       "2      1  \n",
       "3      1  \n",
       "4      1  "
      ]
     },
     "execution_count": 3,
     "metadata": {},
     "output_type": "execute_result"
    }
   ],
   "source": [
    "# READ GENE_INFO JSON FILE\n",
    "gene_info_path = \"../data/gene_info.json\"\n",
    "dataset_path   = \"../data/one_vs_other/\"\n",
    "with open(gene_info_path, 'r') as json_file:\n",
    "    gene_info = json.load(json_file)\n",
    "\n",
    "# FOCUS ON GENE FAMILLY\n",
    "gene_dict = gene_info[gene_familly]\n",
    "df_path = dataset_path+gene_dict['file_code']+\".csv\"\n",
    "\n",
    "# LOAD WHOLE DATASET\n",
    "USE_FULL_DF = True\n",
    "if USE_FULL_DF:\n",
    "    dataset = pd.read_csv(df_path)\n",
    "else:\n",
    "    dataset_ = pd.read_csv(df_path)\n",
    "    r = min(5000/len(dataset_), 1)\n",
    "    _, dataset = train_test_split(dataset_, test_size=r, stratify=dataset_['class'], random_state=42)\n",
    "dataset.head()"
   ]
  },
  {
   "cell_type": "code",
   "execution_count": 4,
   "id": "745dff8f-540b-4299-a3f0-dabda69bd837",
   "metadata": {
    "execution": {
     "iopub.execute_input": "2024-07-04T12:37:23.911847Z",
     "iopub.status.busy": "2024-07-04T12:37:23.911525Z",
     "iopub.status.idle": "2024-07-04T12:37:23.923474Z",
     "shell.execute_reply": "2024-07-04T12:37:23.923022Z"
    },
    "papermill": {
     "duration": 0.015066,
     "end_time": "2024-07-04T12:37:23.924739",
     "exception": false,
     "start_time": "2024-07-04T12:37:23.909673",
     "status": "completed"
    },
    "tags": []
   },
   "outputs": [],
   "source": [
    "trainset, testset = train_test_split(dataset, test_size=0.2, stratify=dataset['class'], random_state=42)"
   ]
  },
  {
   "cell_type": "code",
   "execution_count": 5,
   "id": "a9b8b47d-48c6-4e94-a378-574904e308ee",
   "metadata": {
    "execution": {
     "iopub.execute_input": "2024-07-04T12:37:23.928186Z",
     "iopub.status.busy": "2024-07-04T12:37:23.927990Z",
     "iopub.status.idle": "2024-07-04T12:37:23.936962Z",
     "shell.execute_reply": "2024-07-04T12:37:23.936572Z"
    },
    "papermill": {
     "duration": 0.011991,
     "end_time": "2024-07-04T12:37:23.938115",
     "exception": false,
     "start_time": "2024-07-04T12:37:23.926124",
     "status": "completed"
    },
    "tags": []
   },
   "outputs": [
    {
     "name": "stderr",
     "output_type": "stream",
     "text": [
      "/var/folders/w8/b_cflrn97k9c15rcrn5t8mmr0000gn/T/ipykernel_22621/2288533763.py:2: FutureWarning: Setting an item of incompatible dtype is deprecated and will raise in a future error of pandas. Value 'ERF' has dtype incompatible with int64, please explicitly cast to a compatible dtype first.\n",
      "  testset_positive.loc[:, 'class'] = gene_familly\n"
     ]
    },
    {
     "data": {
      "text/html": [
       "<div>\n",
       "<style scoped>\n",
       "    .dataframe tbody tr th:only-of-type {\n",
       "        vertical-align: middle;\n",
       "    }\n",
       "\n",
       "    .dataframe tbody tr th {\n",
       "        vertical-align: top;\n",
       "    }\n",
       "\n",
       "    .dataframe thead th {\n",
       "        text-align: right;\n",
       "    }\n",
       "</style>\n",
       "<table border=\"1\" class=\"dataframe\">\n",
       "  <thead>\n",
       "    <tr style=\"text-align: right;\">\n",
       "      <th></th>\n",
       "      <th>id</th>\n",
       "      <th>sequence</th>\n",
       "      <th>length</th>\n",
       "      <th>class</th>\n",
       "    </tr>\n",
       "  </thead>\n",
       "  <tbody>\n",
       "    <tr>\n",
       "      <th>13784</th>\n",
       "      <td>PEQU_38344 -- ERF</td>\n",
       "      <td>MAPREKGTGAGRSGGNGISASCEGGGKEMHFRGVRKRPWGRYAAEI...</td>\n",
       "      <td>250</td>\n",
       "      <td>ERF</td>\n",
       "    </tr>\n",
       "    <tr>\n",
       "      <th>16203</th>\n",
       "      <td>29680.m001678 -- ERF</td>\n",
       "      <td>MDSSFFHYQNSQYSPDQSSSNSLNSSDSFYCQQPLPFNENDSEEML...</td>\n",
       "      <td>224</td>\n",
       "      <td>ERF</td>\n",
       "    </tr>\n",
       "    <tr>\n",
       "      <th>3671</th>\n",
       "      <td>CA00g88980 -- ERF</td>\n",
       "      <td>MEGTSSIDQESTTSDSLSIAPAAPSQQPSMMTTTKPPESLCRMGSG...</td>\n",
       "      <td>138</td>\n",
       "      <td>ERF</td>\n",
       "    </tr>\n",
       "    <tr>\n",
       "      <th>5213</th>\n",
       "      <td>Do004338.1 -- ERF</td>\n",
       "      <td>EEEAVTAKGVRVRGVRQRPWGRWAAEIRDPQRGRRVCLGTFNTVEE...</td>\n",
       "      <td>212</td>\n",
       "      <td>ERF</td>\n",
       "    </tr>\n",
       "    <tr>\n",
       "      <th>20679</th>\n",
       "      <td>Zmw_sc01099.1.g00060.1 -- ERF</td>\n",
       "      <td>LAELGTVGHARHPNLCALLGCCVDCDLYLVFEFSCRGSVYANLQVH...</td>\n",
       "      <td>996</td>\n",
       "      <td>ERF</td>\n",
       "    </tr>\n",
       "    <tr>\n",
       "      <th>...</th>\n",
       "      <td>...</td>\n",
       "      <td>...</td>\n",
       "      <td>...</td>\n",
       "      <td>...</td>\n",
       "    </tr>\n",
       "    <tr>\n",
       "      <th>569</th>\n",
       "      <td>Aco021063.1 -- ERF</td>\n",
       "      <td>MCGGAIISGFIPTARSRRLAGEHRWPESKGGRRKKKNLPANPYAAA...</td>\n",
       "      <td>369</td>\n",
       "      <td>ERF</td>\n",
       "    </tr>\n",
       "    <tr>\n",
       "      <th>2727</th>\n",
       "      <td>XP_009125951.1 -- ERF</td>\n",
       "      <td>MNTSKSKKKQEEAGTKFLGVRRRPWGRYAAEIRDPTTKERHWLGTF...</td>\n",
       "      <td>212</td>\n",
       "      <td>ERF</td>\n",
       "    </tr>\n",
       "    <tr>\n",
       "      <th>18895</th>\n",
       "      <td>Thecc1EG016396t1 -- ERF</td>\n",
       "      <td>MDHCPVPTIKYTEHRNQTKLLTPLLNVRLENQPEMKPRIVRISVTD...</td>\n",
       "      <td>342</td>\n",
       "      <td>ERF</td>\n",
       "    </tr>\n",
       "    <tr>\n",
       "      <th>13622</th>\n",
       "      <td>Peinf101Scf00149g02001.1 -- ERF</td>\n",
       "      <td>MMEGEKRKQRQQQDKPYRGIRMRKWGKWVAEIREPNKRSRIWLGSY...</td>\n",
       "      <td>166</td>\n",
       "      <td>ERF</td>\n",
       "    </tr>\n",
       "    <tr>\n",
       "      <th>4687</th>\n",
       "      <td>Cc06_g05340 -- ERF</td>\n",
       "      <td>MAAFVLVFKPTFTPQICPILHPTNIHHNSSNKPEILYKLIMSSSSS...</td>\n",
       "      <td>245</td>\n",
       "      <td>ERF</td>\n",
       "    </tr>\n",
       "  </tbody>\n",
       "</table>\n",
       "<p>4226 rows × 4 columns</p>\n",
       "</div>"
      ],
      "text/plain": [
       "                                    id  \\\n",
       "13784                PEQU_38344 -- ERF   \n",
       "16203             29680.m001678 -- ERF   \n",
       "3671                 CA00g88980 -- ERF   \n",
       "5213                 Do004338.1 -- ERF   \n",
       "20679    Zmw_sc01099.1.g00060.1 -- ERF   \n",
       "...                                ...   \n",
       "569                 Aco021063.1 -- ERF   \n",
       "2727             XP_009125951.1 -- ERF   \n",
       "18895          Thecc1EG016396t1 -- ERF   \n",
       "13622  Peinf101Scf00149g02001.1 -- ERF   \n",
       "4687                Cc06_g05340 -- ERF   \n",
       "\n",
       "                                                sequence  length class  \n",
       "13784  MAPREKGTGAGRSGGNGISASCEGGGKEMHFRGVRKRPWGRYAAEI...     250   ERF  \n",
       "16203  MDSSFFHYQNSQYSPDQSSSNSLNSSDSFYCQQPLPFNENDSEEML...     224   ERF  \n",
       "3671   MEGTSSIDQESTTSDSLSIAPAAPSQQPSMMTTTKPPESLCRMGSG...     138   ERF  \n",
       "5213   EEEAVTAKGVRVRGVRQRPWGRWAAEIRDPQRGRRVCLGTFNTVEE...     212   ERF  \n",
       "20679  LAELGTVGHARHPNLCALLGCCVDCDLYLVFEFSCRGSVYANLQVH...     996   ERF  \n",
       "...                                                  ...     ...   ...  \n",
       "569    MCGGAIISGFIPTARSRRLAGEHRWPESKGGRRKKKNLPANPYAAA...     369   ERF  \n",
       "2727   MNTSKSKKKQEEAGTKFLGVRRRPWGRYAAEIRDPTTKERHWLGTF...     212   ERF  \n",
       "18895  MDHCPVPTIKYTEHRNQTKLLTPLLNVRLENQPEMKPRIVRISVTD...     342   ERF  \n",
       "13622  MMEGEKRKQRQQQDKPYRGIRMRKWGKWVAEIREPNKRSRIWLGSY...     166   ERF  \n",
       "4687   MAAFVLVFKPTFTPQICPILHPTNIHHNSSNKPEILYKLIMSSSSS...     245   ERF  \n",
       "\n",
       "[4226 rows x 4 columns]"
      ]
     },
     "execution_count": 5,
     "metadata": {},
     "output_type": "execute_result"
    }
   ],
   "source": [
    "testset_positive = testset[testset['class'] == 1]\n",
    "testset_positive.loc[:, 'class'] = gene_familly\n",
    "testset_positive.loc[:, 'id'] = testset_positive['id'].apply(lambda x: f\"{x} -- {gene_familly}\")\n",
    "testset_positive"
   ]
  },
  {
   "cell_type": "code",
   "execution_count": 6,
   "id": "25a9ad39-47e0-4b0a-9669-c9ed5c6cafa3",
   "metadata": {
    "execution": {
     "iopub.execute_input": "2024-07-04T12:37:23.941754Z",
     "iopub.status.busy": "2024-07-04T12:37:23.941556Z",
     "iopub.status.idle": "2024-07-04T12:37:24.249961Z",
     "shell.execute_reply": "2024-07-04T12:37:24.249544Z"
    },
    "papermill": {
     "duration": 0.31166,
     "end_time": "2024-07-04T12:37:24.251297",
     "exception": false,
     "start_time": "2024-07-04T12:37:23.939637",
     "status": "completed"
    },
    "tags": []
   },
   "outputs": [],
   "source": [
    "testset_positive.to_csv(\"../data/testset/\"+gene_dict['file_code']+\".csv\")\n",
    "trainset.to_csv(\"../data/mix_data/trainset/\"+gene_dict['file_code']+\".csv\")\n",
    "testset.to_csv(\"../data/mix_data/testset/\"+gene_dict['file_code']+\".csv\")"
   ]
  },
  {
   "cell_type": "code",
   "execution_count": null,
   "id": "4107c4c5-3c5d-44f9-af27-5b81b6d102e5",
   "metadata": {
    "papermill": {
     "duration": 0.001385,
     "end_time": "2024-07-04T12:37:24.254370",
     "exception": false,
     "start_time": "2024-07-04T12:37:24.252985",
     "status": "completed"
    },
    "tags": []
   },
   "outputs": [],
   "source": []
  }
 ],
 "metadata": {
  "kernelspec": {
   "display_name": "Python 3 (ipykernel)",
   "language": "python",
   "name": "python3"
  },
  "language_info": {
   "codemirror_mode": {
    "name": "ipython",
    "version": 3
   },
   "file_extension": ".py",
   "mimetype": "text/x-python",
   "name": "python",
   "nbconvert_exporter": "python",
   "pygments_lexer": "ipython3",
   "version": "3.11.7"
  },
  "papermill": {
   "default_parameters": {},
   "duration": 2.168186,
   "end_time": "2024-07-04T12:37:24.573727",
   "environment_variables": {},
   "exception": null,
   "input_path": "05-extract_testset-0.ipynb",
   "output_path": "AutoSave/TestGen/05-extract_testset-0-ERF.ipynb",
   "parameters": {
    "gene_familly": "ERF"
   },
   "start_time": "2024-07-04T12:37:22.405541",
   "version": "2.6.0"
  }
 },
 "nbformat": 4,
 "nbformat_minor": 5
}