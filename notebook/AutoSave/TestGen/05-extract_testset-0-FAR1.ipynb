{
 "cells": [
  {
   "cell_type": "code",
   "execution_count": 1,
   "id": "91291b6b",
   "metadata": {
    "execution": {
     "iopub.execute_input": "2024-07-04T12:37:25.371243Z",
     "iopub.status.busy": "2024-07-04T12:37:25.370926Z",
     "iopub.status.idle": "2024-07-04T12:37:25.377197Z",
     "shell.execute_reply": "2024-07-04T12:37:25.376779Z"
    },
    "papermill": {
     "duration": 0.011318,
     "end_time": "2024-07-04T12:37:25.378520",
     "exception": false,
     "start_time": "2024-07-04T12:37:25.367202",
     "status": "completed"
    },
    "tags": [
     "injected-parameters"
    ]
   },
   "outputs": [],
   "source": [
    "# Parameters\n",
    "gene_familly = \"FAR1\"\n"
   ]
  },
  {
   "cell_type": "code",
   "execution_count": 2,
   "id": "e7cdbe25-11a6-48da-abd4-9ae5eee27bfe",
   "metadata": {
    "execution": {
     "iopub.execute_input": "2024-07-04T12:37:25.382344Z",
     "iopub.status.busy": "2024-07-04T12:37:25.382053Z",
     "iopub.status.idle": "2024-07-04T12:37:26.112295Z",
     "shell.execute_reply": "2024-07-04T12:37:26.111821Z"
    },
    "papermill": {
     "duration": 0.733543,
     "end_time": "2024-07-04T12:37:26.113784",
     "exception": false,
     "start_time": "2024-07-04T12:37:25.380241",
     "status": "completed"
    },
    "tags": []
   },
   "outputs": [],
   "source": [
    "import json\n",
    "import pandas as pd\n",
    "from sklearn.model_selection import train_test_split"
   ]
  },
  {
   "cell_type": "code",
   "execution_count": 3,
   "id": "6e20f340-8cbc-46f2-be83-6f1c4523930a",
   "metadata": {
    "execution": {
     "iopub.execute_input": "2024-07-04T12:37:26.117331Z",
     "iopub.status.busy": "2024-07-04T12:37:26.116927Z",
     "iopub.status.idle": "2024-07-04T12:37:26.202212Z",
     "shell.execute_reply": "2024-07-04T12:37:26.201705Z"
    },
    "papermill": {
     "duration": 0.088353,
     "end_time": "2024-07-04T12:37:26.203529",
     "exception": false,
     "start_time": "2024-07-04T12:37:26.115176",
     "status": "completed"
    },
    "tags": []
   },
   "outputs": [
    {
     "data": {
      "text/html": [
       "<div>\n",
       "<style scoped>\n",
       "    .dataframe tbody tr th:only-of-type {\n",
       "        vertical-align: middle;\n",
       "    }\n",
       "\n",
       "    .dataframe tbody tr th {\n",
       "        vertical-align: top;\n",
       "    }\n",
       "\n",
       "    .dataframe thead th {\n",
       "        text-align: right;\n",
       "    }\n",
       "</style>\n",
       "<table border=\"1\" class=\"dataframe\">\n",
       "  <thead>\n",
       "    <tr style=\"text-align: right;\">\n",
       "      <th></th>\n",
       "      <th>id</th>\n",
       "      <th>sequence</th>\n",
       "      <th>length</th>\n",
       "      <th>class</th>\n",
       "    </tr>\n",
       "  </thead>\n",
       "  <tbody>\n",
       "    <tr>\n",
       "      <th>0</th>\n",
       "      <td>Achn000081</td>\n",
       "      <td>MDCDAYPLEEDPNLENVGEPKVRMSFDSEHEARNYYVSFARVQGFV...</td>\n",
       "      <td>286</td>\n",
       "      <td>1</td>\n",
       "    </tr>\n",
       "    <tr>\n",
       "      <th>1</th>\n",
       "      <td>Achn000821</td>\n",
       "      <td>MSFETIEEARKYYEDYGRQNGFWIRTRTSSKGQNRLNDVTSVLFVY...</td>\n",
       "      <td>149</td>\n",
       "      <td>1</td>\n",
       "    </tr>\n",
       "    <tr>\n",
       "      <th>2</th>\n",
       "      <td>Achn002281</td>\n",
       "      <td>MNVKENEHFIEDYTPCLQKEFETEDAAYEFYNVYGIVMGFSIRICY...</td>\n",
       "      <td>167</td>\n",
       "      <td>1</td>\n",
       "    </tr>\n",
       "    <tr>\n",
       "      <th>3</th>\n",
       "      <td>Achn002531</td>\n",
       "      <td>MEIEDMDLEKNMNVEAVLEPKVGNIFNSEDEAKEYYSTYAKAKGFG...</td>\n",
       "      <td>1134</td>\n",
       "      <td>1</td>\n",
       "    </tr>\n",
       "    <tr>\n",
       "      <th>4</th>\n",
       "      <td>Achn012651</td>\n",
       "      <td>MFFEIIEEARKYYEDYGRQNDFWIRSRTSSKGQNRSNDVTSVLFVC...</td>\n",
       "      <td>105</td>\n",
       "      <td>1</td>\n",
       "    </tr>\n",
       "  </tbody>\n",
       "</table>\n",
       "</div>"
      ],
      "text/plain": [
       "           id                                           sequence  length  \\\n",
       "0  Achn000081  MDCDAYPLEEDPNLENVGEPKVRMSFDSEHEARNYYVSFARVQGFV...     286   \n",
       "1  Achn000821  MSFETIEEARKYYEDYGRQNGFWIRTRTSSKGQNRLNDVTSVLFVY...     149   \n",
       "2  Achn002281  MNVKENEHFIEDYTPCLQKEFETEDAAYEFYNVYGIVMGFSIRICY...     167   \n",
       "3  Achn002531  MEIEDMDLEKNMNVEAVLEPKVGNIFNSEDEAKEYYSTYAKAKGFG...    1134   \n",
       "4  Achn012651  MFFEIIEEARKYYEDYGRQNDFWIRSRTSSKGQNRSNDVTSVLFVC...     105   \n",
       "\n",
       "   class  \n",
       "0      1  \n",
       "1      1  \n",
       "2      1  \n",
       "3      1  \n",
       "4      1  "
      ]
     },
     "execution_count": 3,
     "metadata": {},
     "output_type": "execute_result"
    }
   ],
   "source": [
    "# READ GENE_INFO JSON FILE\n",
    "gene_info_path = \"../data/gene_info.json\"\n",
    "dataset_path   = \"../data/one_vs_other/\"\n",
    "with open(gene_info_path, 'r') as json_file:\n",
    "    gene_info = json.load(json_file)\n",
    "\n",
    "# FOCUS ON GENE FAMILLY\n",
    "gene_dict = gene_info[gene_familly]\n",
    "df_path = dataset_path+gene_dict['file_code']+\".csv\"\n",
    "\n",
    "# LOAD WHOLE DATASET\n",
    "USE_FULL_DF = True\n",
    "if USE_FULL_DF:\n",
    "    dataset = pd.read_csv(df_path)\n",
    "else:\n",
    "    dataset_ = pd.read_csv(df_path)\n",
    "    r = min(5000/len(dataset_), 1)\n",
    "    _, dataset = train_test_split(dataset_, test_size=r, stratify=dataset_['class'], random_state=42)\n",
    "dataset.head()"
   ]
  },
  {
   "cell_type": "code",
   "execution_count": 4,
   "id": "745dff8f-540b-4299-a3f0-dabda69bd837",
   "metadata": {
    "execution": {
     "iopub.execute_input": "2024-07-04T12:37:26.206906Z",
     "iopub.status.busy": "2024-07-04T12:37:26.206740Z",
     "iopub.status.idle": "2024-07-04T12:37:26.213350Z",
     "shell.execute_reply": "2024-07-04T12:37:26.212985Z"
    },
    "papermill": {
     "duration": 0.009467,
     "end_time": "2024-07-04T12:37:26.214484",
     "exception": false,
     "start_time": "2024-07-04T12:37:26.205017",
     "status": "completed"
    },
    "tags": []
   },
   "outputs": [],
   "source": [
    "trainset, testset = train_test_split(dataset, test_size=0.2, stratify=dataset['class'], random_state=42)"
   ]
  },
  {
   "cell_type": "code",
   "execution_count": 5,
   "id": "a9b8b47d-48c6-4e94-a378-574904e308ee",
   "metadata": {
    "execution": {
     "iopub.execute_input": "2024-07-04T12:37:26.217892Z",
     "iopub.status.busy": "2024-07-04T12:37:26.217650Z",
     "iopub.status.idle": "2024-07-04T12:37:26.225326Z",
     "shell.execute_reply": "2024-07-04T12:37:26.224957Z"
    },
    "papermill": {
     "duration": 0.010561,
     "end_time": "2024-07-04T12:37:26.226420",
     "exception": false,
     "start_time": "2024-07-04T12:37:26.215859",
     "status": "completed"
    },
    "tags": []
   },
   "outputs": [
    {
     "name": "stderr",
     "output_type": "stream",
     "text": [
      "/var/folders/w8/b_cflrn97k9c15rcrn5t8mmr0000gn/T/ipykernel_22628/2288533763.py:2: FutureWarning: Setting an item of incompatible dtype is deprecated and will raise in a future error of pandas. Value 'FAR1' has dtype incompatible with int64, please explicitly cast to a compatible dtype first.\n",
      "  testset_positive.loc[:, 'class'] = gene_familly\n"
     ]
    },
    {
     "data": {
      "text/html": [
       "<div>\n",
       "<style scoped>\n",
       "    .dataframe tbody tr th:only-of-type {\n",
       "        vertical-align: middle;\n",
       "    }\n",
       "\n",
       "    .dataframe tbody tr th {\n",
       "        vertical-align: top;\n",
       "    }\n",
       "\n",
       "    .dataframe thead th {\n",
       "        text-align: right;\n",
       "    }\n",
       "</style>\n",
       "<table border=\"1\" class=\"dataframe\">\n",
       "  <thead>\n",
       "    <tr style=\"text-align: right;\">\n",
       "      <th></th>\n",
       "      <th>id</th>\n",
       "      <th>sequence</th>\n",
       "      <th>length</th>\n",
       "      <th>class</th>\n",
       "    </tr>\n",
       "  </thead>\n",
       "  <tbody>\n",
       "    <tr>\n",
       "      <th>5490</th>\n",
       "      <td>Phvul.011G187200.1 -- FAR1</td>\n",
       "      <td>MDFEAVDEGENSDRPASENVETEKDEEQNMKVNLAETEVNNQDGDA...</td>\n",
       "      <td>856</td>\n",
       "      <td>FAR1</td>\n",
       "    </tr>\n",
       "    <tr>\n",
       "      <th>1471</th>\n",
       "      <td>Bradi2g61631.1.p -- FAR1</td>\n",
       "      <td>MSGLTVSEMDGYNASMEEMEEYHMMVSQMFGSVEEGYEHYNSYAKS...</td>\n",
       "      <td>584</td>\n",
       "      <td>FAR1</td>\n",
       "    </tr>\n",
       "    <tr>\n",
       "      <th>2822</th>\n",
       "      <td>Glyma.01G000600.1.p -- FAR1</td>\n",
       "      <td>MDNEVEVLEFDIGLGGGEGEYDDDDGGGIDEEELGVATGGGEIYLP...</td>\n",
       "      <td>814</td>\n",
       "      <td>FAR1</td>\n",
       "    </tr>\n",
       "    <tr>\n",
       "      <th>2496</th>\n",
       "      <td>XP_010932382.1 -- FAR1</td>\n",
       "      <td>MNATVCGGGSGRGDPQMPYGQDQDQEVHHNSGDDGLEGPPRCLNCG...</td>\n",
       "      <td>739</td>\n",
       "      <td>FAR1</td>\n",
       "    </tr>\n",
       "    <tr>\n",
       "      <th>1507</th>\n",
       "      <td>Bradi3g48330.2.p -- FAR1</td>\n",
       "      <td>MEAEEASPSRKNPRRPRRRDLNALDPNLVESDGEDIGIPEVGMVFN...</td>\n",
       "      <td>812</td>\n",
       "      <td>FAR1</td>\n",
       "    </tr>\n",
       "    <tr>\n",
       "      <th>...</th>\n",
       "      <td>...</td>\n",
       "      <td>...</td>\n",
       "      <td>...</td>\n",
       "      <td>...</td>\n",
       "    </tr>\n",
       "    <tr>\n",
       "      <th>3281</th>\n",
       "      <td>MLOC_68272.4 -- FAR1</td>\n",
       "      <td>MEFSSSEDRELVEDFIDVEDDTGTADVDQPPGVMTSHVHCIDPSEG...</td>\n",
       "      <td>667</td>\n",
       "      <td>FAR1</td>\n",
       "    </tr>\n",
       "    <tr>\n",
       "      <th>2686</th>\n",
       "      <td>mrna14142.1-v1.0-hybrid -- FAR1</td>\n",
       "      <td>MEGSEYSAWCSFRSEWGTYRPHRSVSSDRSHPQWKYDVFLSFRGDD...</td>\n",
       "      <td>463</td>\n",
       "      <td>FAR1</td>\n",
       "    </tr>\n",
       "    <tr>\n",
       "      <th>7046</th>\n",
       "      <td>Traes_6AL_F23B20CBD.1 -- FAR1</td>\n",
       "      <td>ASDESMFEYLNVVSKMFDSKAEGYEFYNIYALEKGFSVRKSYVEWD...</td>\n",
       "      <td>65</td>\n",
       "      <td>FAR1</td>\n",
       "    </tr>\n",
       "    <tr>\n",
       "      <th>3869</th>\n",
       "      <td>Manes.13G055700.4.p -- FAR1</td>\n",
       "      <td>MDEQPSMSEDGDVNHIVESSSGKEVTTSEGSSDIEPYVGMEFESEE...</td>\n",
       "      <td>159</td>\n",
       "      <td>FAR1</td>\n",
       "    </tr>\n",
       "    <tr>\n",
       "      <th>5055</th>\n",
       "      <td>Pavir.5NG000200.1.p -- FAR1</td>\n",
       "      <td>MEPAAARHAMEFGAASSGIGAISNRSLSAMEPSAVRDVNSSVVDDH...</td>\n",
       "      <td>144</td>\n",
       "      <td>FAR1</td>\n",
       "    </tr>\n",
       "  </tbody>\n",
       "</table>\n",
       "<p>1506 rows × 4 columns</p>\n",
       "</div>"
      ],
      "text/plain": [
       "                                   id  \\\n",
       "5490       Phvul.011G187200.1 -- FAR1   \n",
       "1471         Bradi2g61631.1.p -- FAR1   \n",
       "2822      Glyma.01G000600.1.p -- FAR1   \n",
       "2496           XP_010932382.1 -- FAR1   \n",
       "1507         Bradi3g48330.2.p -- FAR1   \n",
       "...                               ...   \n",
       "3281             MLOC_68272.4 -- FAR1   \n",
       "2686  mrna14142.1-v1.0-hybrid -- FAR1   \n",
       "7046    Traes_6AL_F23B20CBD.1 -- FAR1   \n",
       "3869      Manes.13G055700.4.p -- FAR1   \n",
       "5055      Pavir.5NG000200.1.p -- FAR1   \n",
       "\n",
       "                                               sequence  length class  \n",
       "5490  MDFEAVDEGENSDRPASENVETEKDEEQNMKVNLAETEVNNQDGDA...     856  FAR1  \n",
       "1471  MSGLTVSEMDGYNASMEEMEEYHMMVSQMFGSVEEGYEHYNSYAKS...     584  FAR1  \n",
       "2822  MDNEVEVLEFDIGLGGGEGEYDDDDGGGIDEEELGVATGGGEIYLP...     814  FAR1  \n",
       "2496  MNATVCGGGSGRGDPQMPYGQDQDQEVHHNSGDDGLEGPPRCLNCG...     739  FAR1  \n",
       "1507  MEAEEASPSRKNPRRPRRRDLNALDPNLVESDGEDIGIPEVGMVFN...     812  FAR1  \n",
       "...                                                 ...     ...   ...  \n",
       "3281  MEFSSSEDRELVEDFIDVEDDTGTADVDQPPGVMTSHVHCIDPSEG...     667  FAR1  \n",
       "2686  MEGSEYSAWCSFRSEWGTYRPHRSVSSDRSHPQWKYDVFLSFRGDD...     463  FAR1  \n",
       "7046  ASDESMFEYLNVVSKMFDSKAEGYEFYNIYALEKGFSVRKSYVEWD...      65  FAR1  \n",
       "3869  MDEQPSMSEDGDVNHIVESSSGKEVTTSEGSSDIEPYVGMEFESEE...     159  FAR1  \n",
       "5055  MEPAAARHAMEFGAASSGIGAISNRSLSAMEPSAVRDVNSSVVDDH...     144  FAR1  \n",
       "\n",
       "[1506 rows x 4 columns]"
      ]
     },
     "execution_count": 5,
     "metadata": {},
     "output_type": "execute_result"
    }
   ],
   "source": [
    "testset_positive = testset[testset['class'] == 1]\n",
    "testset_positive.loc[:, 'class'] = gene_familly\n",
    "testset_positive.loc[:, 'id'] = testset_positive['id'].apply(lambda x: f\"{x} -- {gene_familly}\")\n",
    "testset_positive"
   ]
  },
  {
   "cell_type": "code",
   "execution_count": 6,
   "id": "25a9ad39-47e0-4b0a-9669-c9ed5c6cafa3",
   "metadata": {
    "execution": {
     "iopub.execute_input": "2024-07-04T12:37:26.230082Z",
     "iopub.status.busy": "2024-07-04T12:37:26.229912Z",
     "iopub.status.idle": "2024-07-04T12:37:26.384868Z",
     "shell.execute_reply": "2024-07-04T12:37:26.384403Z"
    },
    "papermill": {
     "duration": 0.158321,
     "end_time": "2024-07-04T12:37:26.386302",
     "exception": false,
     "start_time": "2024-07-04T12:37:26.227981",
     "status": "completed"
    },
    "tags": []
   },
   "outputs": [],
   "source": [
    "testset_positive.to_csv(\"../data/testset/\"+gene_dict['file_code']+\".csv\")\n",
    "trainset.to_csv(\"../data/mix_data/trainset/\"+gene_dict['file_code']+\".csv\")\n",
    "testset.to_csv(\"../data/mix_data/testset/\"+gene_dict['file_code']+\".csv\")"
   ]
  },
  {
   "cell_type": "code",
   "execution_count": null,
   "id": "4107c4c5-3c5d-44f9-af27-5b81b6d102e5",
   "metadata": {
    "papermill": {
     "duration": 0.001369,
     "end_time": "2024-07-04T12:37:26.389490",
     "exception": false,
     "start_time": "2024-07-04T12:37:26.388121",
     "status": "completed"
    },
    "tags": []
   },
   "outputs": [],
   "source": []
  }
 ],
 "metadata": {
  "kernelspec": {
   "display_name": "Python 3 (ipykernel)",
   "language": "python",
   "name": "python3"
  },
  "language_info": {
   "codemirror_mode": {
    "name": "ipython",
    "version": 3
   },
   "file_extension": ".py",
   "mimetype": "text/x-python",
   "name": "python",
   "nbconvert_exporter": "python",
   "pygments_lexer": "ipython3",
   "version": "3.11.7"
  },
  "papermill": {
   "default_parameters": {},
   "duration": 2.1311,
   "end_time": "2024-07-04T12:37:26.709169",
   "environment_variables": {},
   "exception": null,
   "input_path": "05-extract_testset-0.ipynb",
   "output_path": "AutoSave/TestGen/05-extract_testset-0-FAR1.ipynb",
   "parameters": {
    "gene_familly": "FAR1"
   },
   "start_time": "2024-07-04T12:37:24.578069",
   "version": "2.6.0"
  }
 },
 "nbformat": 4,
 "nbformat_minor": 5
}