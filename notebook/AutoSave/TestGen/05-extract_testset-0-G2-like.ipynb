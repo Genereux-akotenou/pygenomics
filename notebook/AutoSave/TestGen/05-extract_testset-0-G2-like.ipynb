{
 "cells": [
  {
   "cell_type": "code",
   "execution_count": 1,
   "id": "f924a5b2",
   "metadata": {
    "execution": {
     "iopub.execute_input": "2024-07-04T12:37:27.321888Z",
     "iopub.status.busy": "2024-07-04T12:37:27.321603Z",
     "iopub.status.idle": "2024-07-04T12:37:27.327455Z",
     "shell.execute_reply": "2024-07-04T12:37:27.326924Z"
    },
    "papermill": {
     "duration": 0.011146,
     "end_time": "2024-07-04T12:37:27.328786",
     "exception": false,
     "start_time": "2024-07-04T12:37:27.317640",
     "status": "completed"
    },
    "tags": [
     "injected-parameters"
    ]
   },
   "outputs": [],
   "source": [
    "# Parameters\n",
    "gene_familly = \"G2-like\"\n"
   ]
  },
  {
   "cell_type": "code",
   "execution_count": 2,
   "id": "e7cdbe25-11a6-48da-abd4-9ae5eee27bfe",
   "metadata": {
    "execution": {
     "iopub.execute_input": "2024-07-04T12:37:27.332638Z",
     "iopub.status.busy": "2024-07-04T12:37:27.332392Z",
     "iopub.status.idle": "2024-07-04T12:37:28.042701Z",
     "shell.execute_reply": "2024-07-04T12:37:28.042314Z"
    },
    "papermill": {
     "duration": 0.71342,
     "end_time": "2024-07-04T12:37:28.043906",
     "exception": false,
     "start_time": "2024-07-04T12:37:27.330486",
     "status": "completed"
    },
    "tags": []
   },
   "outputs": [],
   "source": [
    "import json\n",
    "import pandas as pd\n",
    "from sklearn.model_selection import train_test_split"
   ]
  },
  {
   "cell_type": "code",
   "execution_count": 3,
   "id": "6e20f340-8cbc-46f2-be83-6f1c4523930a",
   "metadata": {
    "execution": {
     "iopub.execute_input": "2024-07-04T12:37:28.046774Z",
     "iopub.status.busy": "2024-07-04T12:37:28.046566Z",
     "iopub.status.idle": "2024-07-04T12:37:28.132800Z",
     "shell.execute_reply": "2024-07-04T12:37:28.132306Z"
    },
    "papermill": {
     "duration": 0.088945,
     "end_time": "2024-07-04T12:37:28.134096",
     "exception": false,
     "start_time": "2024-07-04T12:37:28.045151",
     "status": "completed"
    },
    "tags": []
   },
   "outputs": [
    {
     "data": {
      "text/html": [
       "<div>\n",
       "<style scoped>\n",
       "    .dataframe tbody tr th:only-of-type {\n",
       "        vertical-align: middle;\n",
       "    }\n",
       "\n",
       "    .dataframe tbody tr th {\n",
       "        vertical-align: top;\n",
       "    }\n",
       "\n",
       "    .dataframe thead th {\n",
       "        text-align: right;\n",
       "    }\n",
       "</style>\n",
       "<table border=\"1\" class=\"dataframe\">\n",
       "  <thead>\n",
       "    <tr style=\"text-align: right;\">\n",
       "      <th></th>\n",
       "      <th>id</th>\n",
       "      <th>sequence</th>\n",
       "      <th>length</th>\n",
       "      <th>class</th>\n",
       "    </tr>\n",
       "  </thead>\n",
       "  <tbody>\n",
       "    <tr>\n",
       "      <th>0</th>\n",
       "      <td>Achn001931</td>\n",
       "      <td>MPSRASRSFDSDTGFSGKERLKWNDELHDLFEKAVNQLWGPDSKFK...</td>\n",
       "      <td>240</td>\n",
       "      <td>1</td>\n",
       "    </tr>\n",
       "    <tr>\n",
       "      <th>1</th>\n",
       "      <td>Achn004071</td>\n",
       "      <td>MIGGNSLDNNPSLSSKQRLRWTHELHERFVDAVAQLGGPDRATPKG...</td>\n",
       "      <td>312</td>\n",
       "      <td>1</td>\n",
       "    </tr>\n",
       "    <tr>\n",
       "      <th>2</th>\n",
       "      <td>Achn006131</td>\n",
       "      <td>MTKIALKKDSSPATTYRILIEERSEGQTKNLGMGSIPPELSLDIRP...</td>\n",
       "      <td>337</td>\n",
       "      <td>1</td>\n",
       "    </tr>\n",
       "    <tr>\n",
       "      <th>3</th>\n",
       "      <td>Achn013371</td>\n",
       "      <td>MKGSDSAEEYSNPSPSNKSKDDDERDEIDDNSKPKNGSSSSNSTVE...</td>\n",
       "      <td>356</td>\n",
       "      <td>1</td>\n",
       "    </tr>\n",
       "    <tr>\n",
       "      <th>4</th>\n",
       "      <td>Achn014781</td>\n",
       "      <td>MTGATPKSVLELMNVKDLTLAHVKSHLQMYRTVKSTDKATGNECSS...</td>\n",
       "      <td>149</td>\n",
       "      <td>1</td>\n",
       "    </tr>\n",
       "  </tbody>\n",
       "</table>\n",
       "</div>"
      ],
      "text/plain": [
       "           id                                           sequence  length  \\\n",
       "0  Achn001931  MPSRASRSFDSDTGFSGKERLKWNDELHDLFEKAVNQLWGPDSKFK...     240   \n",
       "1  Achn004071  MIGGNSLDNNPSLSSKQRLRWTHELHERFVDAVAQLGGPDRATPKG...     312   \n",
       "2  Achn006131  MTKIALKKDSSPATTYRILIEERSEGQTKNLGMGSIPPELSLDIRP...     337   \n",
       "3  Achn013371  MKGSDSAEEYSNPSPSNKSKDDDERDEIDDNSKPKNGSSSSNSTVE...     356   \n",
       "4  Achn014781  MTGATPKSVLELMNVKDLTLAHVKSHLQMYRTVKSTDKATGNECSS...     149   \n",
       "\n",
       "   class  \n",
       "0      1  \n",
       "1      1  \n",
       "2      1  \n",
       "3      1  \n",
       "4      1  "
      ]
     },
     "execution_count": 3,
     "metadata": {},
     "output_type": "execute_result"
    }
   ],
   "source": [
    "# READ GENE_INFO JSON FILE\n",
    "gene_info_path = \"../data/gene_info.json\"\n",
    "dataset_path   = \"../data/one_vs_other/\"\n",
    "with open(gene_info_path, 'r') as json_file:\n",
    "    gene_info = json.load(json_file)\n",
    "\n",
    "# FOCUS ON GENE FAMILLY\n",
    "gene_dict = gene_info[gene_familly]\n",
    "df_path = dataset_path+gene_dict['file_code']+\".csv\"\n",
    "\n",
    "# LOAD WHOLE DATASET\n",
    "USE_FULL_DF = True\n",
    "if USE_FULL_DF:\n",
    "    dataset = pd.read_csv(df_path)\n",
    "else:\n",
    "    dataset_ = pd.read_csv(df_path)\n",
    "    r = min(5000/len(dataset_), 1)\n",
    "    _, dataset = train_test_split(dataset_, test_size=r, stratify=dataset_['class'], random_state=42)\n",
    "dataset.head()"
   ]
  },
  {
   "cell_type": "code",
   "execution_count": 4,
   "id": "745dff8f-540b-4299-a3f0-dabda69bd837",
   "metadata": {
    "execution": {
     "iopub.execute_input": "2024-07-04T12:37:28.137665Z",
     "iopub.status.busy": "2024-07-04T12:37:28.137466Z",
     "iopub.status.idle": "2024-07-04T12:37:28.145554Z",
     "shell.execute_reply": "2024-07-04T12:37:28.145199Z"
    },
    "papermill": {
     "duration": 0.011148,
     "end_time": "2024-07-04T12:37:28.146724",
     "exception": false,
     "start_time": "2024-07-04T12:37:28.135576",
     "status": "completed"
    },
    "tags": []
   },
   "outputs": [],
   "source": [
    "trainset, testset = train_test_split(dataset, test_size=0.2, stratify=dataset['class'], random_state=42)"
   ]
  },
  {
   "cell_type": "code",
   "execution_count": 5,
   "id": "a9b8b47d-48c6-4e94-a378-574904e308ee",
   "metadata": {
    "execution": {
     "iopub.execute_input": "2024-07-04T12:37:28.150346Z",
     "iopub.status.busy": "2024-07-04T12:37:28.150111Z",
     "iopub.status.idle": "2024-07-04T12:37:28.157819Z",
     "shell.execute_reply": "2024-07-04T12:37:28.157438Z"
    },
    "papermill": {
     "duration": 0.010618,
     "end_time": "2024-07-04T12:37:28.158914",
     "exception": false,
     "start_time": "2024-07-04T12:37:28.148296",
     "status": "completed"
    },
    "tags": []
   },
   "outputs": [
    {
     "name": "stderr",
     "output_type": "stream",
     "text": [
      "/var/folders/w8/b_cflrn97k9c15rcrn5t8mmr0000gn/T/ipykernel_22636/2288533763.py:2: FutureWarning: Setting an item of incompatible dtype is deprecated and will raise in a future error of pandas. Value 'G2-like' has dtype incompatible with int64, please explicitly cast to a compatible dtype first.\n",
      "  testset_positive.loc[:, 'class'] = gene_familly\n"
     ]
    },
    {
     "data": {
      "text/html": [
       "<div>\n",
       "<style scoped>\n",
       "    .dataframe tbody tr th:only-of-type {\n",
       "        vertical-align: middle;\n",
       "    }\n",
       "\n",
       "    .dataframe tbody tr th {\n",
       "        vertical-align: top;\n",
       "    }\n",
       "\n",
       "    .dataframe thead th {\n",
       "        text-align: right;\n",
       "    }\n",
       "</style>\n",
       "<table border=\"1\" class=\"dataframe\">\n",
       "  <thead>\n",
       "    <tr style=\"text-align: right;\">\n",
       "      <th></th>\n",
       "      <th>id</th>\n",
       "      <th>sequence</th>\n",
       "      <th>length</th>\n",
       "      <th>class</th>\n",
       "    </tr>\n",
       "  </thead>\n",
       "  <tbody>\n",
       "    <tr>\n",
       "      <th>4321</th>\n",
       "      <td>Lsa003855 -- G2-like</td>\n",
       "      <td>MGEEVRITGYDVGGGDEHDGRVLEWEAGLPNIDDLMPLSQSMTSAD...</td>\n",
       "      <td>313</td>\n",
       "      <td>G2-like</td>\n",
       "    </tr>\n",
       "    <tr>\n",
       "      <th>8733</th>\n",
       "      <td>XP_010520045.1 -- G2-like</td>\n",
       "      <td>MENINFEFSHASSEGRIQPQTQPQPLLQTQFGVQDMNVSQSHYSQQ...</td>\n",
       "      <td>377</td>\n",
       "      <td>G2-like</td>\n",
       "    </tr>\n",
       "    <tr>\n",
       "      <th>185</th>\n",
       "      <td>evm_27.model.AmTr_v1.0_scaffold00010.492 -- G2...</td>\n",
       "      <td>MERSANEGVIVPLPLTHATKPMLKWTPELHQLFLDTVARLGGLDEV...</td>\n",
       "      <td>401</td>\n",
       "      <td>G2-like</td>\n",
       "    </tr>\n",
       "    <tr>\n",
       "      <th>7018</th>\n",
       "      <td>Pgl005578 -- G2-like</td>\n",
       "      <td>XSHGKRKIKVDWAQDLHRRFVQAVEQLGVDKAVPSRILELMGVNCL...</td>\n",
       "      <td>281</td>\n",
       "      <td>G2-like</td>\n",
       "    </tr>\n",
       "    <tr>\n",
       "      <th>2892</th>\n",
       "      <td>Eucgr.G02494.2.p -- G2-like</td>\n",
       "      <td>MGLQNHQKMNLVLSTDAKPRLKWTPELHHRFVEAVMQLGGADKATP...</td>\n",
       "      <td>353</td>\n",
       "      <td>G2-like</td>\n",
       "    </tr>\n",
       "    <tr>\n",
       "      <th>...</th>\n",
       "      <td>...</td>\n",
       "      <td>...</td>\n",
       "      <td>...</td>\n",
       "      <td>...</td>\n",
       "    </tr>\n",
       "    <tr>\n",
       "      <th>6594</th>\n",
       "      <td>PEQU_13291 -- G2-like</td>\n",
       "      <td>MDSACSEESEKPNLSEKDEDDEEGEENPKTEGSSSNSTVEEGERKV...</td>\n",
       "      <td>318</td>\n",
       "      <td>G2-like</td>\n",
       "    </tr>\n",
       "    <tr>\n",
       "      <th>897</th>\n",
       "      <td>Bradi3g36710.8.p -- G2-like</td>\n",
       "      <td>MSSPSAQQHGGEAATARARLRWTRPLHERFVLAVSELGGADRATPK...</td>\n",
       "      <td>280</td>\n",
       "      <td>G2-like</td>\n",
       "    </tr>\n",
       "    <tr>\n",
       "      <th>9152</th>\n",
       "      <td>TRIUR3_34985-P1 -- G2-like</td>\n",
       "      <td>MGEVKEKEALAKVLEDHRKGSSDDDSPPPAGLDLNEGFSEASDDGE...</td>\n",
       "      <td>519</td>\n",
       "      <td>G2-like</td>\n",
       "    </tr>\n",
       "    <tr>\n",
       "      <th>8744</th>\n",
       "      <td>XP_010524222.1 -- G2-like</td>\n",
       "      <td>MFQTSKVLNANLACRSSLVPGHRLDLTPMEPINGGNNANNNPSLAS...</td>\n",
       "      <td>337</td>\n",
       "      <td>G2-like</td>\n",
       "    </tr>\n",
       "    <tr>\n",
       "      <th>4684</th>\n",
       "      <td>Manes.17G010300.1.p -- G2-like</td>\n",
       "      <td>MELFPAQPDLSLQISPPNSKPASTWRRTEEEMGLGFLKRALDSRNT...</td>\n",
       "      <td>373</td>\n",
       "      <td>G2-like</td>\n",
       "    </tr>\n",
       "  </tbody>\n",
       "</table>\n",
       "<p>1975 rows × 4 columns</p>\n",
       "</div>"
      ],
      "text/plain": [
       "                                                     id  \\\n",
       "4321                               Lsa003855 -- G2-like   \n",
       "8733                          XP_010520045.1 -- G2-like   \n",
       "185   evm_27.model.AmTr_v1.0_scaffold00010.492 -- G2...   \n",
       "7018                               Pgl005578 -- G2-like   \n",
       "2892                        Eucgr.G02494.2.p -- G2-like   \n",
       "...                                                 ...   \n",
       "6594                              PEQU_13291 -- G2-like   \n",
       "897                         Bradi3g36710.8.p -- G2-like   \n",
       "9152                         TRIUR3_34985-P1 -- G2-like   \n",
       "8744                          XP_010524222.1 -- G2-like   \n",
       "4684                     Manes.17G010300.1.p -- G2-like   \n",
       "\n",
       "                                               sequence  length    class  \n",
       "4321  MGEEVRITGYDVGGGDEHDGRVLEWEAGLPNIDDLMPLSQSMTSAD...     313  G2-like  \n",
       "8733  MENINFEFSHASSEGRIQPQTQPQPLLQTQFGVQDMNVSQSHYSQQ...     377  G2-like  \n",
       "185   MERSANEGVIVPLPLTHATKPMLKWTPELHQLFLDTVARLGGLDEV...     401  G2-like  \n",
       "7018  XSHGKRKIKVDWAQDLHRRFVQAVEQLGVDKAVPSRILELMGVNCL...     281  G2-like  \n",
       "2892  MGLQNHQKMNLVLSTDAKPRLKWTPELHHRFVEAVMQLGGADKATP...     353  G2-like  \n",
       "...                                                 ...     ...      ...  \n",
       "6594  MDSACSEESEKPNLSEKDEDDEEGEENPKTEGSSSNSTVEEGERKV...     318  G2-like  \n",
       "897   MSSPSAQQHGGEAATARARLRWTRPLHERFVLAVSELGGADRATPK...     280  G2-like  \n",
       "9152  MGEVKEKEALAKVLEDHRKGSSDDDSPPPAGLDLNEGFSEASDDGE...     519  G2-like  \n",
       "8744  MFQTSKVLNANLACRSSLVPGHRLDLTPMEPINGGNNANNNPSLAS...     337  G2-like  \n",
       "4684  MELFPAQPDLSLQISPPNSKPASTWRRTEEEMGLGFLKRALDSRNT...     373  G2-like  \n",
       "\n",
       "[1975 rows x 4 columns]"
      ]
     },
     "execution_count": 5,
     "metadata": {},
     "output_type": "execute_result"
    }
   ],
   "source": [
    "testset_positive = testset[testset['class'] == 1]\n",
    "testset_positive.loc[:, 'class'] = gene_familly\n",
    "testset_positive.loc[:, 'id'] = testset_positive['id'].apply(lambda x: f\"{x} -- {gene_familly}\")\n",
    "testset_positive"
   ]
  },
  {
   "cell_type": "code",
   "execution_count": 6,
   "id": "25a9ad39-47e0-4b0a-9669-c9ed5c6cafa3",
   "metadata": {
    "execution": {
     "iopub.execute_input": "2024-07-04T12:37:28.162434Z",
     "iopub.status.busy": "2024-07-04T12:37:28.162269Z",
     "iopub.status.idle": "2024-07-04T12:37:28.326461Z",
     "shell.execute_reply": "2024-07-04T12:37:28.326138Z"
    },
    "papermill": {
     "duration": 0.167118,
     "end_time": "2024-07-04T12:37:28.327567",
     "exception": false,
     "start_time": "2024-07-04T12:37:28.160449",
     "status": "completed"
    },
    "tags": []
   },
   "outputs": [],
   "source": [
    "testset_positive.to_csv(\"../data/testset/\"+gene_dict['file_code']+\".csv\")\n",
    "trainset.to_csv(\"../data/mix_data/trainset/\"+gene_dict['file_code']+\".csv\")\n",
    "testset.to_csv(\"../data/mix_data/testset/\"+gene_dict['file_code']+\".csv\")"
   ]
  },
  {
   "cell_type": "code",
   "execution_count": null,
   "id": "4107c4c5-3c5d-44f9-af27-5b81b6d102e5",
   "metadata": {
    "papermill": {
     "duration": 0.001242,
     "end_time": "2024-07-04T12:37:28.330203",
     "exception": false,
     "start_time": "2024-07-04T12:37:28.328961",
     "status": "completed"
    },
    "tags": []
   },
   "outputs": [],
   "source": []
  }
 ],
 "metadata": {
  "kernelspec": {
   "display_name": "Python 3 (ipykernel)",
   "language": "python",
   "name": "python3"
  },
  "language_info": {
   "codemirror_mode": {
    "name": "ipython",
    "version": 3
   },
   "file_extension": ".py",
   "mimetype": "text/x-python",
   "name": "python",
   "nbconvert_exporter": "python",
   "pygments_lexer": "ipython3",
   "version": "3.11.7"
  },
  "papermill": {
   "default_parameters": {},
   "duration": 1.834622,
   "end_time": "2024-07-04T12:37:28.548593",
   "environment_variables": {},
   "exception": null,
   "input_path": "05-extract_testset-0.ipynb",
   "output_path": "AutoSave/TestGen/05-extract_testset-0-G2-like.ipynb",
   "parameters": {
    "gene_familly": "G2-like"
   },
   "start_time": "2024-07-04T12:37:26.713971",
   "version": "2.6.0"
  }
 },
 "nbformat": 4,
 "nbformat_minor": 5
}