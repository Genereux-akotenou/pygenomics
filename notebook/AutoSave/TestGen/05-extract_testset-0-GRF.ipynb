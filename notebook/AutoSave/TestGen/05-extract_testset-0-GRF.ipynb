{
 "cells": [
  {
   "cell_type": "code",
   "execution_count": 1,
   "id": "db7537ff",
   "metadata": {
    "execution": {
     "iopub.execute_input": "2024-07-04T12:37:34.052164Z",
     "iopub.status.busy": "2024-07-04T12:37:34.051970Z",
     "iopub.status.idle": "2024-07-04T12:37:34.056549Z",
     "shell.execute_reply": "2024-07-04T12:37:34.056237Z"
    },
    "papermill": {
     "duration": 0.008097,
     "end_time": "2024-07-04T12:37:34.057545",
     "exception": false,
     "start_time": "2024-07-04T12:37:34.049448",
     "status": "completed"
    },
    "tags": [
     "injected-parameters"
    ]
   },
   "outputs": [],
   "source": [
    "# Parameters\n",
    "gene_familly = \"GRF\"\n"
   ]
  },
  {
   "cell_type": "code",
   "execution_count": 2,
   "id": "e7cdbe25-11a6-48da-abd4-9ae5eee27bfe",
   "metadata": {
    "execution": {
     "iopub.execute_input": "2024-07-04T12:37:34.060064Z",
     "iopub.status.busy": "2024-07-04T12:37:34.059928Z",
     "iopub.status.idle": "2024-07-04T12:37:34.744653Z",
     "shell.execute_reply": "2024-07-04T12:37:34.744230Z"
    },
    "papermill": {
     "duration": 0.687478,
     "end_time": "2024-07-04T12:37:34.746105",
     "exception": false,
     "start_time": "2024-07-04T12:37:34.058627",
     "status": "completed"
    },
    "tags": []
   },
   "outputs": [],
   "source": [
    "import json\n",
    "import pandas as pd\n",
    "from sklearn.model_selection import train_test_split"
   ]
  },
  {
   "cell_type": "code",
   "execution_count": 3,
   "id": "6e20f340-8cbc-46f2-be83-6f1c4523930a",
   "metadata": {
    "execution": {
     "iopub.execute_input": "2024-07-04T12:37:34.749180Z",
     "iopub.status.busy": "2024-07-04T12:37:34.748937Z",
     "iopub.status.idle": "2024-07-04T12:37:34.777281Z",
     "shell.execute_reply": "2024-07-04T12:37:34.776877Z"
    },
    "papermill": {
     "duration": 0.030922,
     "end_time": "2024-07-04T12:37:34.778329",
     "exception": false,
     "start_time": "2024-07-04T12:37:34.747407",
     "status": "completed"
    },
    "tags": []
   },
   "outputs": [
    {
     "data": {
      "text/html": [
       "<div>\n",
       "<style scoped>\n",
       "    .dataframe tbody tr th:only-of-type {\n",
       "        vertical-align: middle;\n",
       "    }\n",
       "\n",
       "    .dataframe tbody tr th {\n",
       "        vertical-align: top;\n",
       "    }\n",
       "\n",
       "    .dataframe thead th {\n",
       "        text-align: right;\n",
       "    }\n",
       "</style>\n",
       "<table border=\"1\" class=\"dataframe\">\n",
       "  <thead>\n",
       "    <tr style=\"text-align: right;\">\n",
       "      <th></th>\n",
       "      <th>id</th>\n",
       "      <th>sequence</th>\n",
       "      <th>length</th>\n",
       "      <th>class</th>\n",
       "    </tr>\n",
       "  </thead>\n",
       "  <tbody>\n",
       "    <tr>\n",
       "      <th>0</th>\n",
       "      <td>Achn028471</td>\n",
       "      <td>MGPENGVSYEILQSPEATKPKSNIGSGFWKQVRSGSGEEDLRGSKV...</td>\n",
       "      <td>543</td>\n",
       "      <td>1</td>\n",
       "    </tr>\n",
       "    <tr>\n",
       "      <th>1</th>\n",
       "      <td>Achn034531</td>\n",
       "      <td>MDLGGLVGPDNGVSSQAISDPETTKPNSNGSGFLKQGRSGSGQDDW...</td>\n",
       "      <td>518</td>\n",
       "      <td>1</td>\n",
       "    </tr>\n",
       "    <tr>\n",
       "      <th>2</th>\n",
       "      <td>Achn046551</td>\n",
       "      <td>MVAAEGEGIRSSSSPFTGSQWQELEHQALIFKYLMAGIPVPPHLLL...</td>\n",
       "      <td>280</td>\n",
       "      <td>1</td>\n",
       "    </tr>\n",
       "    <tr>\n",
       "      <th>3</th>\n",
       "      <td>Achn116941</td>\n",
       "      <td>MVDQLTEPLILTLDIQWVELEHQALIYKYIVANVPVPSNLLIALKN...</td>\n",
       "      <td>452</td>\n",
       "      <td>1</td>\n",
       "    </tr>\n",
       "    <tr>\n",
       "      <th>4</th>\n",
       "      <td>Achn125631</td>\n",
       "      <td>MDLGMVGLDGLLYPSLSSDPEAKQRWYGSGFLKQERPKEEASEDDL...</td>\n",
       "      <td>538</td>\n",
       "      <td>1</td>\n",
       "    </tr>\n",
       "  </tbody>\n",
       "</table>\n",
       "</div>"
      ],
      "text/plain": [
       "           id                                           sequence  length  \\\n",
       "0  Achn028471  MGPENGVSYEILQSPEATKPKSNIGSGFWKQVRSGSGEEDLRGSKV...     543   \n",
       "1  Achn034531  MDLGGLVGPDNGVSSQAISDPETTKPNSNGSGFLKQGRSGSGQDDW...     518   \n",
       "2  Achn046551  MVAAEGEGIRSSSSPFTGSQWQELEHQALIFKYLMAGIPVPPHLLL...     280   \n",
       "3  Achn116941  MVDQLTEPLILTLDIQWVELEHQALIYKYIVANVPVPSNLLIALKN...     452   \n",
       "4  Achn125631  MDLGMVGLDGLLYPSLSSDPEAKQRWYGSGFLKQERPKEEASEDDL...     538   \n",
       "\n",
       "   class  \n",
       "0      1  \n",
       "1      1  \n",
       "2      1  \n",
       "3      1  \n",
       "4      1  "
      ]
     },
     "execution_count": 3,
     "metadata": {},
     "output_type": "execute_result"
    }
   ],
   "source": [
    "# READ GENE_INFO JSON FILE\n",
    "gene_info_path = \"../data/gene_info.json\"\n",
    "dataset_path   = \"../data/one_vs_other/\"\n",
    "with open(gene_info_path, 'r') as json_file:\n",
    "    gene_info = json.load(json_file)\n",
    "\n",
    "# FOCUS ON GENE FAMILLY\n",
    "gene_dict = gene_info[gene_familly]\n",
    "df_path = dataset_path+gene_dict['file_code']+\".csv\"\n",
    "\n",
    "# LOAD WHOLE DATASET\n",
    "USE_FULL_DF = True\n",
    "if USE_FULL_DF:\n",
    "    dataset = pd.read_csv(df_path)\n",
    "else:\n",
    "    dataset_ = pd.read_csv(df_path)\n",
    "    r = min(5000/len(dataset_), 1)\n",
    "    _, dataset = train_test_split(dataset_, test_size=r, stratify=dataset_['class'], random_state=42)\n",
    "dataset.head()"
   ]
  },
  {
   "cell_type": "code",
   "execution_count": 4,
   "id": "745dff8f-540b-4299-a3f0-dabda69bd837",
   "metadata": {
    "execution": {
     "iopub.execute_input": "2024-07-04T12:37:34.781147Z",
     "iopub.status.busy": "2024-07-04T12:37:34.781000Z",
     "iopub.status.idle": "2024-07-04T12:37:34.785361Z",
     "shell.execute_reply": "2024-07-04T12:37:34.785080Z"
    },
    "papermill": {
     "duration": 0.006805,
     "end_time": "2024-07-04T12:37:34.786334",
     "exception": false,
     "start_time": "2024-07-04T12:37:34.779529",
     "status": "completed"
    },
    "tags": []
   },
   "outputs": [],
   "source": [
    "trainset, testset = train_test_split(dataset, test_size=0.2, stratify=dataset['class'], random_state=42)"
   ]
  },
  {
   "cell_type": "code",
   "execution_count": 5,
   "id": "a9b8b47d-48c6-4e94-a378-574904e308ee",
   "metadata": {
    "execution": {
     "iopub.execute_input": "2024-07-04T12:37:34.789084Z",
     "iopub.status.busy": "2024-07-04T12:37:34.788852Z",
     "iopub.status.idle": "2024-07-04T12:37:34.795364Z",
     "shell.execute_reply": "2024-07-04T12:37:34.795007Z"
    },
    "papermill": {
     "duration": 0.008932,
     "end_time": "2024-07-04T12:37:34.796348",
     "exception": false,
     "start_time": "2024-07-04T12:37:34.787416",
     "status": "completed"
    },
    "tags": []
   },
   "outputs": [
    {
     "name": "stderr",
     "output_type": "stream",
     "text": [
      "/var/folders/w8/b_cflrn97k9c15rcrn5t8mmr0000gn/T/ipykernel_22654/2288533763.py:2: FutureWarning: Setting an item of incompatible dtype is deprecated and will raise in a future error of pandas. Value 'GRF' has dtype incompatible with int64, please explicitly cast to a compatible dtype first.\n",
      "  testset_positive.loc[:, 'class'] = gene_familly\n"
     ]
    },
    {
     "data": {
      "text/html": [
       "<div>\n",
       "<style scoped>\n",
       "    .dataframe tbody tr th:only-of-type {\n",
       "        vertical-align: middle;\n",
       "    }\n",
       "\n",
       "    .dataframe tbody tr th {\n",
       "        vertical-align: top;\n",
       "    }\n",
       "\n",
       "    .dataframe thead th {\n",
       "        text-align: right;\n",
       "    }\n",
       "</style>\n",
       "<table border=\"1\" class=\"dataframe\">\n",
       "  <thead>\n",
       "    <tr style=\"text-align: right;\">\n",
       "      <th></th>\n",
       "      <th>id</th>\n",
       "      <th>sequence</th>\n",
       "      <th>length</th>\n",
       "      <th>class</th>\n",
       "    </tr>\n",
       "  </thead>\n",
       "  <tbody>\n",
       "    <tr>\n",
       "      <th>619</th>\n",
       "      <td>Gh_A02G0827 -- GRF</td>\n",
       "      <td>MDFGVVGLEGIVGSETSNGFTLVASESETKQKLYGSAFLKQKRSGS...</td>\n",
       "      <td>564</td>\n",
       "      <td>GRF</td>\n",
       "    </tr>\n",
       "    <tr>\n",
       "      <th>155</th>\n",
       "      <td>Bostr.28625s0309.1.p -- GRF</td>\n",
       "      <td>MMSLSGSSGRTIERPPFTPTQWQELEHQALIYKYMVSGVPVPPELI...</td>\n",
       "      <td>394</td>\n",
       "      <td>GRF</td>\n",
       "    </tr>\n",
       "    <tr>\n",
       "      <th>916</th>\n",
       "      <td>NNU_018235-RA -- GRF</td>\n",
       "      <td>MMSARNGSPFTASQWQELEHQALIFKYMVSGVPVPPELIFPIKRSL...</td>\n",
       "      <td>372</td>\n",
       "      <td>GRF</td>\n",
       "    </tr>\n",
       "    <tr>\n",
       "      <th>1732</th>\n",
       "      <td>GSVIVT01007165001 -- GRF</td>\n",
       "      <td>MDKFVEACPRWMDFGLVGLEGLVGPEDVAPSQVAETETKQMGLGSG...</td>\n",
       "      <td>558</td>\n",
       "      <td>GRF</td>\n",
       "    </tr>\n",
       "    <tr>\n",
       "      <th>1264</th>\n",
       "      <td>PH01001605G0350 -- GRF</td>\n",
       "      <td>MAPPPHGCFFLGSGSPSGGQMLSFSSSYSNNAGTVASVICGVGGWC...</td>\n",
       "      <td>552</td>\n",
       "      <td>GRF</td>\n",
       "    </tr>\n",
       "    <tr>\n",
       "      <th>...</th>\n",
       "      <td>...</td>\n",
       "      <td>...</td>\n",
       "      <td>...</td>\n",
       "      <td>...</td>\n",
       "    </tr>\n",
       "    <tr>\n",
       "      <th>1239</th>\n",
       "      <td>Phvul.009G047000.3 -- GRF</td>\n",
       "      <td>MGEFGLSHTRKRSSSSNNSGGSVVGLDVKLQSPEALFHNKMTMMAH...</td>\n",
       "      <td>587</td>\n",
       "      <td>GRF</td>\n",
       "    </tr>\n",
       "    <tr>\n",
       "      <th>687</th>\n",
       "      <td>Gorai.013G184200.2 -- GRF</td>\n",
       "      <td>MNSGGGGGGGGAESAGVGMVAMRSSSSPFTVSQWQELEHQALIFKY...</td>\n",
       "      <td>252</td>\n",
       "      <td>GRF</td>\n",
       "    </tr>\n",
       "    <tr>\n",
       "      <th>34</th>\n",
       "      <td>AHYPO_014513-RA -- GRF</td>\n",
       "      <td>MSTTSATTIGGRTKFPFTSTQWQELEDQALIYKYMAAGVPIPPDLL...</td>\n",
       "      <td>362</td>\n",
       "      <td>GRF</td>\n",
       "    </tr>\n",
       "    <tr>\n",
       "      <th>426</th>\n",
       "      <td>Cucsa.117300.2 -- GRF</td>\n",
       "      <td>MSARNRFPFTAAQWQELEHQALIFKYMVSGVPIPPELLYSIKATSL...</td>\n",
       "      <td>319</td>\n",
       "      <td>GRF</td>\n",
       "    </tr>\n",
       "    <tr>\n",
       "      <th>164</th>\n",
       "      <td>Bradi2g14320.1.p -- GRF</td>\n",
       "      <td>MAAEGEAKDTNPPVGSVGGGGESTTLEEGVMHEAGGGQEPEEEDAG...</td>\n",
       "      <td>260</td>\n",
       "      <td>GRF</td>\n",
       "    </tr>\n",
       "  </tbody>\n",
       "</table>\n",
       "<p>376 rows × 4 columns</p>\n",
       "</div>"
      ],
      "text/plain": [
       "                               id  \\\n",
       "619            Gh_A02G0827 -- GRF   \n",
       "155   Bostr.28625s0309.1.p -- GRF   \n",
       "916          NNU_018235-RA -- GRF   \n",
       "1732     GSVIVT01007165001 -- GRF   \n",
       "1264       PH01001605G0350 -- GRF   \n",
       "...                           ...   \n",
       "1239    Phvul.009G047000.3 -- GRF   \n",
       "687     Gorai.013G184200.2 -- GRF   \n",
       "34         AHYPO_014513-RA -- GRF   \n",
       "426         Cucsa.117300.2 -- GRF   \n",
       "164       Bradi2g14320.1.p -- GRF   \n",
       "\n",
       "                                               sequence  length class  \n",
       "619   MDFGVVGLEGIVGSETSNGFTLVASESETKQKLYGSAFLKQKRSGS...     564   GRF  \n",
       "155   MMSLSGSSGRTIERPPFTPTQWQELEHQALIYKYMVSGVPVPPELI...     394   GRF  \n",
       "916   MMSARNGSPFTASQWQELEHQALIFKYMVSGVPVPPELIFPIKRSL...     372   GRF  \n",
       "1732  MDKFVEACPRWMDFGLVGLEGLVGPEDVAPSQVAETETKQMGLGSG...     558   GRF  \n",
       "1264  MAPPPHGCFFLGSGSPSGGQMLSFSSSYSNNAGTVASVICGVGGWC...     552   GRF  \n",
       "...                                                 ...     ...   ...  \n",
       "1239  MGEFGLSHTRKRSSSSNNSGGSVVGLDVKLQSPEALFHNKMTMMAH...     587   GRF  \n",
       "687   MNSGGGGGGGGAESAGVGMVAMRSSSSPFTVSQWQELEHQALIFKY...     252   GRF  \n",
       "34    MSTTSATTIGGRTKFPFTSTQWQELEDQALIYKYMAAGVPIPPDLL...     362   GRF  \n",
       "426   MSARNRFPFTAAQWQELEHQALIFKYMVSGVPIPPELLYSIKATSL...     319   GRF  \n",
       "164   MAAEGEAKDTNPPVGSVGGGGESTTLEEGVMHEAGGGQEPEEEDAG...     260   GRF  \n",
       "\n",
       "[376 rows x 4 columns]"
      ]
     },
     "execution_count": 5,
     "metadata": {},
     "output_type": "execute_result"
    }
   ],
   "source": [
    "testset_positive = testset[testset['class'] == 1]\n",
    "testset_positive.loc[:, 'class'] = gene_familly\n",
    "testset_positive.loc[:, 'id'] = testset_positive['id'].apply(lambda x: f\"{x} -- {gene_familly}\")\n",
    "testset_positive"
   ]
  },
  {
   "cell_type": "code",
   "execution_count": 6,
   "id": "25a9ad39-47e0-4b0a-9669-c9ed5c6cafa3",
   "metadata": {
    "execution": {
     "iopub.execute_input": "2024-07-04T12:37:34.799418Z",
     "iopub.status.busy": "2024-07-04T12:37:34.799266Z",
     "iopub.status.idle": "2024-07-04T12:37:34.834796Z",
     "shell.execute_reply": "2024-07-04T12:37:34.834471Z"
    },
    "papermill": {
     "duration": 0.038281,
     "end_time": "2024-07-04T12:37:34.835915",
     "exception": false,
     "start_time": "2024-07-04T12:37:34.797634",
     "status": "completed"
    },
    "tags": []
   },
   "outputs": [],
   "source": [
    "testset_positive.to_csv(\"../data/testset/\"+gene_dict['file_code']+\".csv\")\n",
    "trainset.to_csv(\"../data/mix_data/trainset/\"+gene_dict['file_code']+\".csv\")\n",
    "testset.to_csv(\"../data/mix_data/testset/\"+gene_dict['file_code']+\".csv\")"
   ]
  },
  {
   "cell_type": "code",
   "execution_count": null,
   "id": "4107c4c5-3c5d-44f9-af27-5b81b6d102e5",
   "metadata": {
    "papermill": {
     "duration": 0.001253,
     "end_time": "2024-07-04T12:37:34.838539",
     "exception": false,
     "start_time": "2024-07-04T12:37:34.837286",
     "status": "completed"
    },
    "tags": []
   },
   "outputs": [],
   "source": []
  }
 ],
 "metadata": {
  "kernelspec": {
   "display_name": "Python 3 (ipykernel)",
   "language": "python",
   "name": "python3"
  },
  "language_info": {
   "codemirror_mode": {
    "name": "ipython",
    "version": 3
   },
   "file_extension": ".py",
   "mimetype": "text/x-python",
   "name": "python",
   "nbconvert_exporter": "python",
   "pygments_lexer": "ipython3",
   "version": "3.11.7"
  },
  "papermill": {
   "default_parameters": {},
   "duration": 1.824061,
   "end_time": "2024-07-04T12:37:35.056297",
   "environment_variables": {},
   "exception": null,
   "input_path": "05-extract_testset-0.ipynb",
   "output_path": "AutoSave/TestGen/05-extract_testset-0-GRF.ipynb",
   "parameters": {
    "gene_familly": "GRF"
   },
   "start_time": "2024-07-04T12:37:33.232236",
   "version": "2.6.0"
  }
 },
 "nbformat": 4,
 "nbformat_minor": 5
}