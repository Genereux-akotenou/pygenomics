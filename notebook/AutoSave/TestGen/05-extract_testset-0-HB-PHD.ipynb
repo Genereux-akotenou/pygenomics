{
 "cells": [
  {
   "cell_type": "code",
   "execution_count": 1,
   "id": "8509e60d",
   "metadata": {
    "execution": {
     "iopub.execute_input": "2024-07-04T12:37:37.608511Z",
     "iopub.status.busy": "2024-07-04T12:37:37.608288Z",
     "iopub.status.idle": "2024-07-04T12:37:37.613132Z",
     "shell.execute_reply": "2024-07-04T12:37:37.612803Z"
    },
    "papermill": {
     "duration": 0.009227,
     "end_time": "2024-07-04T12:37:37.614210",
     "exception": false,
     "start_time": "2024-07-04T12:37:37.604983",
     "status": "completed"
    },
    "tags": [
     "injected-parameters"
    ]
   },
   "outputs": [],
   "source": [
    "# Parameters\n",
    "gene_familly = \"HB-PHD\"\n"
   ]
  },
  {
   "cell_type": "code",
   "execution_count": 2,
   "id": "e7cdbe25-11a6-48da-abd4-9ae5eee27bfe",
   "metadata": {
    "execution": {
     "iopub.execute_input": "2024-07-04T12:37:37.617080Z",
     "iopub.status.busy": "2024-07-04T12:37:37.616934Z",
     "iopub.status.idle": "2024-07-04T12:37:38.451633Z",
     "shell.execute_reply": "2024-07-04T12:37:38.451121Z"
    },
    "papermill": {
     "duration": 0.837734,
     "end_time": "2024-07-04T12:37:38.453254",
     "exception": false,
     "start_time": "2024-07-04T12:37:37.615520",
     "status": "completed"
    },
    "tags": []
   },
   "outputs": [],
   "source": [
    "import json\n",
    "import pandas as pd\n",
    "from sklearn.model_selection import train_test_split"
   ]
  },
  {
   "cell_type": "code",
   "execution_count": 3,
   "id": "6e20f340-8cbc-46f2-be83-6f1c4523930a",
   "metadata": {
    "execution": {
     "iopub.execute_input": "2024-07-04T12:37:38.458163Z",
     "iopub.status.busy": "2024-07-04T12:37:38.457693Z",
     "iopub.status.idle": "2024-07-04T12:37:38.486687Z",
     "shell.execute_reply": "2024-07-04T12:37:38.486250Z"
    },
    "papermill": {
     "duration": 0.033779,
     "end_time": "2024-07-04T12:37:38.488412",
     "exception": false,
     "start_time": "2024-07-04T12:37:38.454633",
     "status": "completed"
    },
    "tags": []
   },
   "outputs": [
    {
     "data": {
      "text/html": [
       "<div>\n",
       "<style scoped>\n",
       "    .dataframe tbody tr th:only-of-type {\n",
       "        vertical-align: middle;\n",
       "    }\n",
       "\n",
       "    .dataframe tbody tr th {\n",
       "        vertical-align: top;\n",
       "    }\n",
       "\n",
       "    .dataframe thead th {\n",
       "        text-align: right;\n",
       "    }\n",
       "</style>\n",
       "<table border=\"1\" class=\"dataframe\">\n",
       "  <thead>\n",
       "    <tr style=\"text-align: right;\">\n",
       "      <th></th>\n",
       "      <th>id</th>\n",
       "      <th>sequence</th>\n",
       "      <th>length</th>\n",
       "      <th>class</th>\n",
       "    </tr>\n",
       "  </thead>\n",
       "  <tbody>\n",
       "    <tr>\n",
       "      <th>0</th>\n",
       "      <td>Achn105031</td>\n",
       "      <td>MDATSAQLNCKTGQLSPPTQKTSIREHEFGSRSLDSEATEEKDAVS...</td>\n",
       "      <td>933</td>\n",
       "      <td>1</td>\n",
       "    </tr>\n",
       "    <tr>\n",
       "      <th>1</th>\n",
       "      <td>Achn332691</td>\n",
       "      <td>MSDDINMDATSAQLNCETRQLSPPTQKTLIREHEFGSRSLASEAAE...</td>\n",
       "      <td>954</td>\n",
       "      <td>1</td>\n",
       "    </tr>\n",
       "    <tr>\n",
       "      <th>2</th>\n",
       "      <td>EMT16215</td>\n",
       "      <td>MDKSNTSGCAEDTIETRSYANSSLNPEALKHQSFPFPYTSLSGERK...</td>\n",
       "      <td>1236</td>\n",
       "      <td>1</td>\n",
       "    </tr>\n",
       "    <tr>\n",
       "      <th>3</th>\n",
       "      <td>EMT18532</td>\n",
       "      <td>MAHEHAFFFGVTLMVNNTIICATCSLKEDTLDNDIILCDGACKRGF...</td>\n",
       "      <td>570</td>\n",
       "      <td>1</td>\n",
       "    </tr>\n",
       "    <tr>\n",
       "      <th>4</th>\n",
       "      <td>AA102G00135</td>\n",
       "      <td>MGEIKGRSGKEPEKPCEIGSTLLSSFLKKGGNAAKRRKYKKSETND...</td>\n",
       "      <td>713</td>\n",
       "      <td>1</td>\n",
       "    </tr>\n",
       "  </tbody>\n",
       "</table>\n",
       "</div>"
      ],
      "text/plain": [
       "            id                                           sequence  length  \\\n",
       "0   Achn105031  MDATSAQLNCKTGQLSPPTQKTSIREHEFGSRSLDSEATEEKDAVS...     933   \n",
       "1   Achn332691  MSDDINMDATSAQLNCETRQLSPPTQKTLIREHEFGSRSLASEAAE...     954   \n",
       "2     EMT16215  MDKSNTSGCAEDTIETRSYANSSLNPEALKHQSFPFPYTSLSGERK...    1236   \n",
       "3     EMT18532  MAHEHAFFFGVTLMVNNTIICATCSLKEDTLDNDIILCDGACKRGF...     570   \n",
       "4  AA102G00135  MGEIKGRSGKEPEKPCEIGSTLLSSFLKKGGNAAKRRKYKKSETND...     713   \n",
       "\n",
       "   class  \n",
       "0      1  \n",
       "1      1  \n",
       "2      1  \n",
       "3      1  \n",
       "4      1  "
      ]
     },
     "execution_count": 3,
     "metadata": {},
     "output_type": "execute_result"
    }
   ],
   "source": [
    "# READ GENE_INFO JSON FILE\n",
    "gene_info_path = \"../data/gene_info.json\"\n",
    "dataset_path   = \"../data/one_vs_other/\"\n",
    "with open(gene_info_path, 'r') as json_file:\n",
    "    gene_info = json.load(json_file)\n",
    "\n",
    "# FOCUS ON GENE FAMILLY\n",
    "gene_dict = gene_info[gene_familly]\n",
    "df_path = dataset_path+gene_dict['file_code']+\".csv\"\n",
    "\n",
    "# LOAD WHOLE DATASET\n",
    "USE_FULL_DF = True\n",
    "if USE_FULL_DF:\n",
    "    dataset = pd.read_csv(df_path)\n",
    "else:\n",
    "    dataset_ = pd.read_csv(df_path)\n",
    "    r = min(5000/len(dataset_), 1)\n",
    "    _, dataset = train_test_split(dataset_, test_size=r, stratify=dataset_['class'], random_state=42)\n",
    "dataset.head()"
   ]
  },
  {
   "cell_type": "code",
   "execution_count": 4,
   "id": "745dff8f-540b-4299-a3f0-dabda69bd837",
   "metadata": {
    "execution": {
     "iopub.execute_input": "2024-07-04T12:37:38.491724Z",
     "iopub.status.busy": "2024-07-04T12:37:38.491542Z",
     "iopub.status.idle": "2024-07-04T12:37:38.500313Z",
     "shell.execute_reply": "2024-07-04T12:37:38.499975Z"
    },
    "papermill": {
     "duration": 0.011797,
     "end_time": "2024-07-04T12:37:38.501643",
     "exception": false,
     "start_time": "2024-07-04T12:37:38.489846",
     "status": "completed"
    },
    "tags": []
   },
   "outputs": [],
   "source": [
    "trainset, testset = train_test_split(dataset, test_size=0.2, stratify=dataset['class'], random_state=42)"
   ]
  },
  {
   "cell_type": "code",
   "execution_count": 5,
   "id": "a9b8b47d-48c6-4e94-a378-574904e308ee",
   "metadata": {
    "execution": {
     "iopub.execute_input": "2024-07-04T12:37:38.505224Z",
     "iopub.status.busy": "2024-07-04T12:37:38.504917Z",
     "iopub.status.idle": "2024-07-04T12:37:38.515084Z",
     "shell.execute_reply": "2024-07-04T12:37:38.514789Z"
    },
    "papermill": {
     "duration": 0.013341,
     "end_time": "2024-07-04T12:37:38.516193",
     "exception": false,
     "start_time": "2024-07-04T12:37:38.502852",
     "status": "completed"
    },
    "tags": []
   },
   "outputs": [
    {
     "name": "stderr",
     "output_type": "stream",
     "text": [
      "/var/folders/w8/b_cflrn97k9c15rcrn5t8mmr0000gn/T/ipykernel_22667/2288533763.py:2: FutureWarning: Setting an item of incompatible dtype is deprecated and will raise in a future error of pandas. Value 'HB-PHD' has dtype incompatible with int64, please explicitly cast to a compatible dtype first.\n",
      "  testset_positive.loc[:, 'class'] = gene_familly\n"
     ]
    },
    {
     "data": {
      "text/html": [
       "<div>\n",
       "<style scoped>\n",
       "    .dataframe tbody tr th:only-of-type {\n",
       "        vertical-align: middle;\n",
       "    }\n",
       "\n",
       "    .dataframe tbody tr th {\n",
       "        vertical-align: top;\n",
       "    }\n",
       "\n",
       "    .dataframe thead th {\n",
       "        text-align: right;\n",
       "    }\n",
       "</style>\n",
       "<table border=\"1\" class=\"dataframe\">\n",
       "  <thead>\n",
       "    <tr style=\"text-align: right;\">\n",
       "      <th></th>\n",
       "      <th>id</th>\n",
       "      <th>sequence</th>\n",
       "      <th>length</th>\n",
       "      <th>class</th>\n",
       "    </tr>\n",
       "  </thead>\n",
       "  <tbody>\n",
       "    <tr>\n",
       "      <th>276</th>\n",
       "      <td>XP_016475636.1 -- HB-PHD</td>\n",
       "      <td>MAGKTNKDMHKTVANLSQVKDALRRLDKKRSKLKSKSHGRAARASS...</td>\n",
       "      <td>701</td>\n",
       "      <td>HB-PHD</td>\n",
       "    </tr>\n",
       "    <tr>\n",
       "      <th>447</th>\n",
       "      <td>Thecc1EG007171t2 -- HB-PHD</td>\n",
       "      <td>MIKVEHMGVSSSQAKSKKGNHFCPEESTSEQAHEFGSEYLLTELSE...</td>\n",
       "      <td>951</td>\n",
       "      <td>HB-PHD</td>\n",
       "    </tr>\n",
       "    <tr>\n",
       "      <th>143</th>\n",
       "      <td>XP_010906633.1 -- HB-PHD</td>\n",
       "      <td>MDRLDIVSPVGYRDHNSNDVCHGQNFRHQEQGLKSEGIENDSTEVG...</td>\n",
       "      <td>788</td>\n",
       "      <td>HB-PHD</td>\n",
       "    </tr>\n",
       "    <tr>\n",
       "      <th>256</th>\n",
       "      <td>64177 -- HB-PHD</td>\n",
       "      <td>GTQLSPAKKVVTEVERDTLGTHGAQRSGSCLVQTTAIEVLSDEGQR...</td>\n",
       "      <td>302</td>\n",
       "      <td>HB-PHD</td>\n",
       "    </tr>\n",
       "    <tr>\n",
       "      <th>99</th>\n",
       "      <td>PK03141.1 -- HB-PHD</td>\n",
       "      <td>MRGTKSSKKHSLLKCQYEKIEPNNEKRRRRQKRKKARNEELDEASR...</td>\n",
       "      <td>593</td>\n",
       "      <td>HB-PHD</td>\n",
       "    </tr>\n",
       "    <tr>\n",
       "      <th>...</th>\n",
       "      <td>...</td>\n",
       "      <td>...</td>\n",
       "      <td>...</td>\n",
       "      <td>...</td>\n",
       "    </tr>\n",
       "    <tr>\n",
       "      <th>89</th>\n",
       "      <td>XP_009145777.1 -- HB-PHD</td>\n",
       "      <td>MDRANRRITRSSGGEVTPTPNKVPEAESHMKHFEESAKDVNGNGKG...</td>\n",
       "      <td>687</td>\n",
       "      <td>HB-PHD</td>\n",
       "    </tr>\n",
       "    <tr>\n",
       "      <th>379</th>\n",
       "      <td>Pbr041417.1 -- HB-PHD</td>\n",
       "      <td>MLTPVKVGKDPEKLKPEKELQRATSEILRRKLKIRDLFQRLDSLCS...</td>\n",
       "      <td>597</td>\n",
       "      <td>HB-PHD</td>\n",
       "    </tr>\n",
       "    <tr>\n",
       "      <th>339</th>\n",
       "      <td>Phvul.003G141400.1 -- HB-PHD</td>\n",
       "      <td>MRDSVKKSNDKGSKKSDHLKARTKGKKDKVKVESKSHTKNVGTDVS...</td>\n",
       "      <td>701</td>\n",
       "      <td>HB-PHD</td>\n",
       "    </tr>\n",
       "    <tr>\n",
       "      <th>329</th>\n",
       "      <td>Pavir.5NG199200.2.p -- HB-PHD</td>\n",
       "      <td>MDKNTPCPVEGNGEIKNGVSSSQNPEAVEHHVMSPSQTMQNTMGIR...</td>\n",
       "      <td>723</td>\n",
       "      <td>HB-PHD</td>\n",
       "    </tr>\n",
       "    <tr>\n",
       "      <th>219</th>\n",
       "      <td>Kaladp0809s0115.1.p -- HB-PHD</td>\n",
       "      <td>MLPAEEDVVVADVSKRRRKRRRQGKKVASDDAARLQRRARYLLIKI...</td>\n",
       "      <td>622</td>\n",
       "      <td>HB-PHD</td>\n",
       "    </tr>\n",
       "  </tbody>\n",
       "</table>\n",
       "<p>96 rows × 4 columns</p>\n",
       "</div>"
      ],
      "text/plain": [
       "                                id  \\\n",
       "276       XP_016475636.1 -- HB-PHD   \n",
       "447     Thecc1EG007171t2 -- HB-PHD   \n",
       "143       XP_010906633.1 -- HB-PHD   \n",
       "256                64177 -- HB-PHD   \n",
       "99             PK03141.1 -- HB-PHD   \n",
       "..                             ...   \n",
       "89        XP_009145777.1 -- HB-PHD   \n",
       "379          Pbr041417.1 -- HB-PHD   \n",
       "339   Phvul.003G141400.1 -- HB-PHD   \n",
       "329  Pavir.5NG199200.2.p -- HB-PHD   \n",
       "219  Kaladp0809s0115.1.p -- HB-PHD   \n",
       "\n",
       "                                              sequence  length   class  \n",
       "276  MAGKTNKDMHKTVANLSQVKDALRRLDKKRSKLKSKSHGRAARASS...     701  HB-PHD  \n",
       "447  MIKVEHMGVSSSQAKSKKGNHFCPEESTSEQAHEFGSEYLLTELSE...     951  HB-PHD  \n",
       "143  MDRLDIVSPVGYRDHNSNDVCHGQNFRHQEQGLKSEGIENDSTEVG...     788  HB-PHD  \n",
       "256  GTQLSPAKKVVTEVERDTLGTHGAQRSGSCLVQTTAIEVLSDEGQR...     302  HB-PHD  \n",
       "99   MRGTKSSKKHSLLKCQYEKIEPNNEKRRRRQKRKKARNEELDEASR...     593  HB-PHD  \n",
       "..                                                 ...     ...     ...  \n",
       "89   MDRANRRITRSSGGEVTPTPNKVPEAESHMKHFEESAKDVNGNGKG...     687  HB-PHD  \n",
       "379  MLTPVKVGKDPEKLKPEKELQRATSEILRRKLKIRDLFQRLDSLCS...     597  HB-PHD  \n",
       "339  MRDSVKKSNDKGSKKSDHLKARTKGKKDKVKVESKSHTKNVGTDVS...     701  HB-PHD  \n",
       "329  MDKNTPCPVEGNGEIKNGVSSSQNPEAVEHHVMSPSQTMQNTMGIR...     723  HB-PHD  \n",
       "219  MLPAEEDVVVADVSKRRRKRRRQGKKVASDDAARLQRRARYLLIKI...     622  HB-PHD  \n",
       "\n",
       "[96 rows x 4 columns]"
      ]
     },
     "execution_count": 5,
     "metadata": {},
     "output_type": "execute_result"
    }
   ],
   "source": [
    "testset_positive = testset[testset['class'] == 1]\n",
    "testset_positive.loc[:, 'class'] = gene_familly\n",
    "testset_positive.loc[:, 'id'] = testset_positive['id'].apply(lambda x: f\"{x} -- {gene_familly}\")\n",
    "testset_positive"
   ]
  },
  {
   "cell_type": "code",
   "execution_count": 6,
   "id": "25a9ad39-47e0-4b0a-9669-c9ed5c6cafa3",
   "metadata": {
    "execution": {
     "iopub.execute_input": "2024-07-04T12:37:38.525474Z",
     "iopub.status.busy": "2024-07-04T12:37:38.525186Z",
     "iopub.status.idle": "2024-07-04T12:37:38.552840Z",
     "shell.execute_reply": "2024-07-04T12:37:38.546726Z"
    },
    "papermill": {
     "duration": 0.034266,
     "end_time": "2024-07-04T12:37:38.554610",
     "exception": false,
     "start_time": "2024-07-04T12:37:38.520344",
     "status": "completed"
    },
    "tags": []
   },
   "outputs": [],
   "source": [
    "testset_positive.to_csv(\"../data/testset/\"+gene_dict['file_code']+\".csv\")\n",
    "trainset.to_csv(\"../data/mix_data/trainset/\"+gene_dict['file_code']+\".csv\")\n",
    "testset.to_csv(\"../data/mix_data/testset/\"+gene_dict['file_code']+\".csv\")"
   ]
  },
  {
   "cell_type": "code",
   "execution_count": null,
   "id": "4107c4c5-3c5d-44f9-af27-5b81b6d102e5",
   "metadata": {
    "papermill": {
     "duration": 0.001352,
     "end_time": "2024-07-04T12:37:38.557484",
     "exception": false,
     "start_time": "2024-07-04T12:37:38.556132",
     "status": "completed"
    },
    "tags": []
   },
   "outputs": [],
   "source": []
  }
 ],
 "metadata": {
  "kernelspec": {
   "display_name": "Python 3 (ipykernel)",
   "language": "python",
   "name": "python3"
  },
  "language_info": {
   "codemirror_mode": {
    "name": "ipython",
    "version": 3
   },
   "file_extension": ".py",
   "mimetype": "text/x-python",
   "name": "python",
   "nbconvert_exporter": "python",
   "pygments_lexer": "ipython3",
   "version": "3.11.7"
  },
  "papermill": {
   "default_parameters": {},
   "duration": 1.993878,
   "end_time": "2024-07-04T12:37:38.777145",
   "environment_variables": {},
   "exception": null,
   "input_path": "05-extract_testset-0.ipynb",
   "output_path": "AutoSave/TestGen/05-extract_testset-0-HB-PHD.ipynb",
   "parameters": {
    "gene_familly": "HB-PHD"
   },
   "start_time": "2024-07-04T12:37:36.783267",
   "version": "2.6.0"
  }
 },
 "nbformat": 4,
 "nbformat_minor": 5
}