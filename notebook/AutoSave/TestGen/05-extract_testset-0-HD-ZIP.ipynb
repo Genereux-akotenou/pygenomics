{
 "cells": [
  {
   "cell_type": "code",
   "execution_count": 1,
   "id": "887064a2",
   "metadata": {
    "execution": {
     "iopub.execute_input": "2024-07-04T12:37:41.291932Z",
     "iopub.status.busy": "2024-07-04T12:37:41.291769Z",
     "iopub.status.idle": "2024-07-04T12:37:41.296578Z",
     "shell.execute_reply": "2024-07-04T12:37:41.296194Z"
    },
    "papermill": {
     "duration": 0.00802,
     "end_time": "2024-07-04T12:37:41.297548",
     "exception": false,
     "start_time": "2024-07-04T12:37:41.289528",
     "status": "completed"
    },
    "tags": [
     "injected-parameters"
    ]
   },
   "outputs": [],
   "source": [
    "# Parameters\n",
    "gene_familly = \"HD-ZIP\"\n"
   ]
  },
  {
   "cell_type": "code",
   "execution_count": 2,
   "id": "e7cdbe25-11a6-48da-abd4-9ae5eee27bfe",
   "metadata": {
    "execution": {
     "iopub.execute_input": "2024-07-04T12:37:41.299971Z",
     "iopub.status.busy": "2024-07-04T12:37:41.299850Z",
     "iopub.status.idle": "2024-07-04T12:37:42.023214Z",
     "shell.execute_reply": "2024-07-04T12:37:42.022809Z"
    },
    "papermill": {
     "duration": 0.725854,
     "end_time": "2024-07-04T12:37:42.024463",
     "exception": false,
     "start_time": "2024-07-04T12:37:41.298609",
     "status": "completed"
    },
    "tags": []
   },
   "outputs": [],
   "source": [
    "import json\n",
    "import pandas as pd\n",
    "from sklearn.model_selection import train_test_split"
   ]
  },
  {
   "cell_type": "code",
   "execution_count": 3,
   "id": "6e20f340-8cbc-46f2-be83-6f1c4523930a",
   "metadata": {
    "execution": {
     "iopub.execute_input": "2024-07-04T12:37:42.027595Z",
     "iopub.status.busy": "2024-07-04T12:37:42.027328Z",
     "iopub.status.idle": "2024-07-04T12:37:42.118512Z",
     "shell.execute_reply": "2024-07-04T12:37:42.118129Z"
    },
    "papermill": {
     "duration": 0.093797,
     "end_time": "2024-07-04T12:37:42.119551",
     "exception": false,
     "start_time": "2024-07-04T12:37:42.025754",
     "status": "completed"
    },
    "tags": []
   },
   "outputs": [
    {
     "data": {
      "text/html": [
       "<div>\n",
       "<style scoped>\n",
       "    .dataframe tbody tr th:only-of-type {\n",
       "        vertical-align: middle;\n",
       "    }\n",
       "\n",
       "    .dataframe tbody tr th {\n",
       "        vertical-align: top;\n",
       "    }\n",
       "\n",
       "    .dataframe thead th {\n",
       "        text-align: right;\n",
       "    }\n",
       "</style>\n",
       "<table border=\"1\" class=\"dataframe\">\n",
       "  <thead>\n",
       "    <tr style=\"text-align: right;\">\n",
       "      <th></th>\n",
       "      <th>id</th>\n",
       "      <th>sequence</th>\n",
       "      <th>length</th>\n",
       "      <th>class</th>\n",
       "    </tr>\n",
       "  </thead>\n",
       "  <tbody>\n",
       "    <tr>\n",
       "      <th>0</th>\n",
       "      <td>Achn002881</td>\n",
       "      <td>MMVEKEDLGLSLSLNFPENRSSLQLNRTPSLASSSSPSAPFNPQKI...</td>\n",
       "      <td>297</td>\n",
       "      <td>1</td>\n",
       "    </tr>\n",
       "    <tr>\n",
       "      <th>1</th>\n",
       "      <td>Achn003171</td>\n",
       "      <td>MDSSKYVRYTPEQVETLERVYSECPKPSSMRRQQIIRECPILSNIE...</td>\n",
       "      <td>779</td>\n",
       "      <td>1</td>\n",
       "    </tr>\n",
       "    <tr>\n",
       "      <th>2</th>\n",
       "      <td>Achn007121</td>\n",
       "      <td>MAVTSACKEDKIGMDNGKYVRYTPEQVEALERVYHECPKPSSLRRQ...</td>\n",
       "      <td>827</td>\n",
       "      <td>1</td>\n",
       "    </tr>\n",
       "    <tr>\n",
       "      <th>3</th>\n",
       "      <td>Achn023811</td>\n",
       "      <td>MVGVFWQFWSNLVLIKPNEKEKQDLAKQLNLRPRQVEVWFQNRRAR...</td>\n",
       "      <td>138</td>\n",
       "      <td>1</td>\n",
       "    </tr>\n",
       "    <tr>\n",
       "      <th>4</th>\n",
       "      <td>Achn043311</td>\n",
       "      <td>MHKESSSGNKHQMDNSKYVRYTPEQVEALERVYSECPKPSSMRRQQ...</td>\n",
       "      <td>731</td>\n",
       "      <td>1</td>\n",
       "    </tr>\n",
       "  </tbody>\n",
       "</table>\n",
       "</div>"
      ],
      "text/plain": [
       "           id                                           sequence  length  \\\n",
       "0  Achn002881  MMVEKEDLGLSLSLNFPENRSSLQLNRTPSLASSSSPSAPFNPQKI...     297   \n",
       "1  Achn003171  MDSSKYVRYTPEQVETLERVYSECPKPSSMRRQQIIRECPILSNIE...     779   \n",
       "2  Achn007121  MAVTSACKEDKIGMDNGKYVRYTPEQVEALERVYHECPKPSSLRRQ...     827   \n",
       "3  Achn023811  MVGVFWQFWSNLVLIKPNEKEKQDLAKQLNLRPRQVEVWFQNRRAR...     138   \n",
       "4  Achn043311  MHKESSSGNKHQMDNSKYVRYTPEQVEALERVYSECPKPSSMRRQQ...     731   \n",
       "\n",
       "   class  \n",
       "0      1  \n",
       "1      1  \n",
       "2      1  \n",
       "3      1  \n",
       "4      1  "
      ]
     },
     "execution_count": 3,
     "metadata": {},
     "output_type": "execute_result"
    }
   ],
   "source": [
    "# READ GENE_INFO JSON FILE\n",
    "gene_info_path = \"../data/gene_info.json\"\n",
    "dataset_path   = \"../data/one_vs_other/\"\n",
    "with open(gene_info_path, 'r') as json_file:\n",
    "    gene_info = json.load(json_file)\n",
    "\n",
    "# FOCUS ON GENE FAMILLY\n",
    "gene_dict = gene_info[gene_familly]\n",
    "df_path = dataset_path+gene_dict['file_code']+\".csv\"\n",
    "\n",
    "# LOAD WHOLE DATASET\n",
    "USE_FULL_DF = True\n",
    "if USE_FULL_DF:\n",
    "    dataset = pd.read_csv(df_path)\n",
    "else:\n",
    "    dataset_ = pd.read_csv(df_path)\n",
    "    r = min(5000/len(dataset_), 1)\n",
    "    _, dataset = train_test_split(dataset_, test_size=r, stratify=dataset_['class'], random_state=42)\n",
    "dataset.head()"
   ]
  },
  {
   "cell_type": "code",
   "execution_count": 4,
   "id": "745dff8f-540b-4299-a3f0-dabda69bd837",
   "metadata": {
    "execution": {
     "iopub.execute_input": "2024-07-04T12:37:42.122405Z",
     "iopub.status.busy": "2024-07-04T12:37:42.122232Z",
     "iopub.status.idle": "2024-07-04T12:37:42.129260Z",
     "shell.execute_reply": "2024-07-04T12:37:42.128925Z"
    },
    "papermill": {
     "duration": 0.009478,
     "end_time": "2024-07-04T12:37:42.130245",
     "exception": false,
     "start_time": "2024-07-04T12:37:42.120767",
     "status": "completed"
    },
    "tags": []
   },
   "outputs": [],
   "source": [
    "trainset, testset = train_test_split(dataset, test_size=0.2, stratify=dataset['class'], random_state=42)"
   ]
  },
  {
   "cell_type": "code",
   "execution_count": 5,
   "id": "a9b8b47d-48c6-4e94-a378-574904e308ee",
   "metadata": {
    "execution": {
     "iopub.execute_input": "2024-07-04T12:37:42.132846Z",
     "iopub.status.busy": "2024-07-04T12:37:42.132658Z",
     "iopub.status.idle": "2024-07-04T12:37:42.139319Z",
     "shell.execute_reply": "2024-07-04T12:37:42.139032Z"
    },
    "papermill": {
     "duration": 0.008952,
     "end_time": "2024-07-04T12:37:42.140250",
     "exception": false,
     "start_time": "2024-07-04T12:37:42.131298",
     "status": "completed"
    },
    "tags": []
   },
   "outputs": [
    {
     "name": "stderr",
     "output_type": "stream",
     "text": [
      "/var/folders/w8/b_cflrn97k9c15rcrn5t8mmr0000gn/T/ipykernel_22680/2288533763.py:2: FutureWarning: Setting an item of incompatible dtype is deprecated and will raise in a future error of pandas. Value 'HD-ZIP' has dtype incompatible with int64, please explicitly cast to a compatible dtype first.\n",
      "  testset_positive.loc[:, 'class'] = gene_familly\n"
     ]
    },
    {
     "data": {
      "text/html": [
       "<div>\n",
       "<style scoped>\n",
       "    .dataframe tbody tr th:only-of-type {\n",
       "        vertical-align: middle;\n",
       "    }\n",
       "\n",
       "    .dataframe tbody tr th {\n",
       "        vertical-align: top;\n",
       "    }\n",
       "\n",
       "    .dataframe thead th {\n",
       "        text-align: right;\n",
       "    }\n",
       "</style>\n",
       "<table border=\"1\" class=\"dataframe\">\n",
       "  <thead>\n",
       "    <tr style=\"text-align: right;\">\n",
       "      <th></th>\n",
       "      <th>id</th>\n",
       "      <th>sequence</th>\n",
       "      <th>length</th>\n",
       "      <th>class</th>\n",
       "    </tr>\n",
       "  </thead>\n",
       "  <tbody>\n",
       "    <tr>\n",
       "      <th>7822</th>\n",
       "      <td>Tp57577_TGAC_v2_mRNA27227 -- HD-ZIP</td>\n",
       "      <td>MALSMHKDMNNQMDAGKYVRYTPEQVEALERVYSECPKPSSLRRQQ...</td>\n",
       "      <td>858</td>\n",
       "      <td>HD-ZIP</td>\n",
       "    </tr>\n",
       "    <tr>\n",
       "      <th>456</th>\n",
       "      <td>Aradu.30PYG -- HD-ZIP</td>\n",
       "      <td>MSFGGFLDNNSGGGDDGGGGGGVRNIVEIPYNNGGGGTTKNNIINN...</td>\n",
       "      <td>861</td>\n",
       "      <td>HD-ZIP</td>\n",
       "    </tr>\n",
       "    <tr>\n",
       "      <th>5752</th>\n",
       "      <td>PEQU_06107 -- HD-ZIP</td>\n",
       "      <td>MMVESYLMSSGLTDNTPQGGRRWRRQKKAEVRAVEGRKRRLSDEQV...</td>\n",
       "      <td>200</td>\n",
       "      <td>HD-ZIP</td>\n",
       "    </tr>\n",
       "    <tr>\n",
       "      <th>6475</th>\n",
       "      <td>PSME_00053173-RA -- HD-ZIP</td>\n",
       "      <td>MVQYLAGLHDGNRMCNNFGKRPFYSMFDCYQDEMEEKNMAEFSNPI...</td>\n",
       "      <td>380</td>\n",
       "      <td>HD-ZIP</td>\n",
       "    </tr>\n",
       "    <tr>\n",
       "      <th>7964</th>\n",
       "      <td>678364978 -- HD-ZIP</td>\n",
       "      <td>MENVTEVYDCSASDTVFVKSENASCDPPLWVASFQGKRSIFLLSSR...</td>\n",
       "      <td>287</td>\n",
       "      <td>HD-ZIP</td>\n",
       "    </tr>\n",
       "    <tr>\n",
       "      <th>...</th>\n",
       "      <td>...</td>\n",
       "      <td>...</td>\n",
       "      <td>...</td>\n",
       "      <td>...</td>\n",
       "    </tr>\n",
       "    <tr>\n",
       "      <th>7446</th>\n",
       "      <td>PGSC0003DMP400046799 -- HD-ZIP</td>\n",
       "      <td>MEYGTGGGGGGGGGASSSGGDATDAHRKKKRFHRHTAHQIQSLESV...</td>\n",
       "      <td>716</td>\n",
       "      <td>HD-ZIP</td>\n",
       "    </tr>\n",
       "    <tr>\n",
       "      <th>6404</th>\n",
       "      <td>Prupe.6G193400.1.p -- HD-ZIP</td>\n",
       "      <td>MKRLGSSDSLGAMISICPSTAEEQSPRNNHVYRRDFQSMLDGLDEE...</td>\n",
       "      <td>338</td>\n",
       "      <td>HD-ZIP</td>\n",
       "    </tr>\n",
       "    <tr>\n",
       "      <th>7060</th>\n",
       "      <td>Sevir.2G294300.1.p -- HD-ZIP</td>\n",
       "      <td>MEGEDDGPEWMMEVGGGGGKGGKGGGGLDKNKKRFSEEQIKSLESM...</td>\n",
       "      <td>238</td>\n",
       "      <td>HD-ZIP</td>\n",
       "    </tr>\n",
       "    <tr>\n",
       "      <th>2908</th>\n",
       "      <td>KHN30455.1 -- HD-ZIP</td>\n",
       "      <td>MSPPHKTTCSESDLAKPCRDDEYETKSITDTMDAPSGDDQDPNPRP...</td>\n",
       "      <td>688</td>\n",
       "      <td>HD-ZIP</td>\n",
       "    </tr>\n",
       "    <tr>\n",
       "      <th>5702</th>\n",
       "      <td>Peinf101Scf00482g02011.1 -- HD-ZIP</td>\n",
       "      <td>MEYSNGAGGGSTSGCGGDTTDTHQKRKRFHRHTAHQIQRLETVFKE...</td>\n",
       "      <td>724</td>\n",
       "      <td>HD-ZIP</td>\n",
       "    </tr>\n",
       "  </tbody>\n",
       "</table>\n",
       "<p>1721 rows × 4 columns</p>\n",
       "</div>"
      ],
      "text/plain": [
       "                                       id  \\\n",
       "7822  Tp57577_TGAC_v2_mRNA27227 -- HD-ZIP   \n",
       "456                 Aradu.30PYG -- HD-ZIP   \n",
       "5752                 PEQU_06107 -- HD-ZIP   \n",
       "6475           PSME_00053173-RA -- HD-ZIP   \n",
       "7964                  678364978 -- HD-ZIP   \n",
       "...                                   ...   \n",
       "7446       PGSC0003DMP400046799 -- HD-ZIP   \n",
       "6404         Prupe.6G193400.1.p -- HD-ZIP   \n",
       "7060         Sevir.2G294300.1.p -- HD-ZIP   \n",
       "2908                 KHN30455.1 -- HD-ZIP   \n",
       "5702   Peinf101Scf00482g02011.1 -- HD-ZIP   \n",
       "\n",
       "                                               sequence  length   class  \n",
       "7822  MALSMHKDMNNQMDAGKYVRYTPEQVEALERVYSECPKPSSLRRQQ...     858  HD-ZIP  \n",
       "456   MSFGGFLDNNSGGGDDGGGGGGVRNIVEIPYNNGGGGTTKNNIINN...     861  HD-ZIP  \n",
       "5752  MMVESYLMSSGLTDNTPQGGRRWRRQKKAEVRAVEGRKRRLSDEQV...     200  HD-ZIP  \n",
       "6475  MVQYLAGLHDGNRMCNNFGKRPFYSMFDCYQDEMEEKNMAEFSNPI...     380  HD-ZIP  \n",
       "7964  MENVTEVYDCSASDTVFVKSENASCDPPLWVASFQGKRSIFLLSSR...     287  HD-ZIP  \n",
       "...                                                 ...     ...     ...  \n",
       "7446  MEYGTGGGGGGGGGASSSGGDATDAHRKKKRFHRHTAHQIQSLESV...     716  HD-ZIP  \n",
       "6404  MKRLGSSDSLGAMISICPSTAEEQSPRNNHVYRRDFQSMLDGLDEE...     338  HD-ZIP  \n",
       "7060  MEGEDDGPEWMMEVGGGGGKGGKGGGGLDKNKKRFSEEQIKSLESM...     238  HD-ZIP  \n",
       "2908  MSPPHKTTCSESDLAKPCRDDEYETKSITDTMDAPSGDDQDPNPRP...     688  HD-ZIP  \n",
       "5702  MEYSNGAGGGSTSGCGGDTTDTHQKRKRFHRHTAHQIQRLETVFKE...     724  HD-ZIP  \n",
       "\n",
       "[1721 rows x 4 columns]"
      ]
     },
     "execution_count": 5,
     "metadata": {},
     "output_type": "execute_result"
    }
   ],
   "source": [
    "testset_positive = testset[testset['class'] == 1]\n",
    "testset_positive.loc[:, 'class'] = gene_familly\n",
    "testset_positive.loc[:, 'id'] = testset_positive['id'].apply(lambda x: f\"{x} -- {gene_familly}\")\n",
    "testset_positive"
   ]
  },
  {
   "cell_type": "code",
   "execution_count": 6,
   "id": "25a9ad39-47e0-4b0a-9669-c9ed5c6cafa3",
   "metadata": {
    "execution": {
     "iopub.execute_input": "2024-07-04T12:37:42.143232Z",
     "iopub.status.busy": "2024-07-04T12:37:42.143101Z",
     "iopub.status.idle": "2024-07-04T12:37:42.298718Z",
     "shell.execute_reply": "2024-07-04T12:37:42.298359Z"
    },
    "papermill": {
     "duration": 0.158113,
     "end_time": "2024-07-04T12:37:42.299588",
     "exception": false,
     "start_time": "2024-07-04T12:37:42.141475",
     "status": "completed"
    },
    "tags": []
   },
   "outputs": [],
   "source": [
    "testset_positive.to_csv(\"../data/testset/\"+gene_dict['file_code']+\".csv\")\n",
    "trainset.to_csv(\"../data/mix_data/trainset/\"+gene_dict['file_code']+\".csv\")\n",
    "testset.to_csv(\"../data/mix_data/testset/\"+gene_dict['file_code']+\".csv\")"
   ]
  },
  {
   "cell_type": "code",
   "execution_count": null,
   "id": "4107c4c5-3c5d-44f9-af27-5b81b6d102e5",
   "metadata": {
    "papermill": {
     "duration": 0.001209,
     "end_time": "2024-07-04T12:37:42.302110",
     "exception": false,
     "start_time": "2024-07-04T12:37:42.300901",
     "status": "completed"
    },
    "tags": []
   },
   "outputs": [],
   "source": []
  }
 ],
 "metadata": {
  "kernelspec": {
   "display_name": "Python 3 (ipykernel)",
   "language": "python",
   "name": "python3"
  },
  "language_info": {
   "codemirror_mode": {
    "name": "ipython",
    "version": 3
   },
   "file_extension": ".py",
   "mimetype": "text/x-python",
   "name": "python",
   "nbconvert_exporter": "python",
   "pygments_lexer": "ipython3",
   "version": "3.11.7"
  },
  "papermill": {
   "default_parameters": {},
   "duration": 2.121396,
   "end_time": "2024-07-04T12:37:42.519540",
   "environment_variables": {},
   "exception": null,
   "input_path": "05-extract_testset-0.ipynb",
   "output_path": "AutoSave/TestGen/05-extract_testset-0-HD-ZIP.ipynb",
   "parameters": {
    "gene_familly": "HD-ZIP"
   },
   "start_time": "2024-07-04T12:37:40.398144",
   "version": "2.6.0"
  }
 },
 "nbformat": 4,
 "nbformat_minor": 5
}