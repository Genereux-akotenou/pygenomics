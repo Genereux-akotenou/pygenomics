{
 "cells": [
  {
   "cell_type": "code",
   "execution_count": 1,
   "id": "59aea7ba",
   "metadata": {
    "execution": {
     "iopub.execute_input": "2024-07-04T12:37:46.601930Z",
     "iopub.status.busy": "2024-07-04T12:37:46.601730Z",
     "iopub.status.idle": "2024-07-04T12:37:46.606532Z",
     "shell.execute_reply": "2024-07-04T12:37:46.606116Z"
    },
    "papermill": {
     "duration": 0.00802,
     "end_time": "2024-07-04T12:37:46.607568",
     "exception": false,
     "start_time": "2024-07-04T12:37:46.599548",
     "status": "completed"
    },
    "tags": [
     "injected-parameters"
    ]
   },
   "outputs": [],
   "source": [
    "# Parameters\n",
    "gene_familly = \"LBD\"\n"
   ]
  },
  {
   "cell_type": "code",
   "execution_count": 2,
   "id": "e7cdbe25-11a6-48da-abd4-9ae5eee27bfe",
   "metadata": {
    "execution": {
     "iopub.execute_input": "2024-07-04T12:37:46.610021Z",
     "iopub.status.busy": "2024-07-04T12:37:46.609878Z",
     "iopub.status.idle": "2024-07-04T12:37:47.264380Z",
     "shell.execute_reply": "2024-07-04T12:37:47.263962Z"
    },
    "papermill": {
     "duration": 0.656961,
     "end_time": "2024-07-04T12:37:47.265536",
     "exception": false,
     "start_time": "2024-07-04T12:37:46.608575",
     "status": "completed"
    },
    "tags": []
   },
   "outputs": [],
   "source": [
    "import json\n",
    "import pandas as pd\n",
    "from sklearn.model_selection import train_test_split"
   ]
  },
  {
   "cell_type": "code",
   "execution_count": 3,
   "id": "6e20f340-8cbc-46f2-be83-6f1c4523930a",
   "metadata": {
    "execution": {
     "iopub.execute_input": "2024-07-04T12:37:47.268402Z",
     "iopub.status.busy": "2024-07-04T12:37:47.268075Z",
     "iopub.status.idle": "2024-07-04T12:37:47.324958Z",
     "shell.execute_reply": "2024-07-04T12:37:47.324630Z"
    },
    "papermill": {
     "duration": 0.059251,
     "end_time": "2024-07-04T12:37:47.325910",
     "exception": false,
     "start_time": "2024-07-04T12:37:47.266659",
     "status": "completed"
    },
    "tags": []
   },
   "outputs": [
    {
     "data": {
      "text/html": [
       "<div>\n",
       "<style scoped>\n",
       "    .dataframe tbody tr th:only-of-type {\n",
       "        vertical-align: middle;\n",
       "    }\n",
       "\n",
       "    .dataframe tbody tr th {\n",
       "        vertical-align: top;\n",
       "    }\n",
       "\n",
       "    .dataframe thead th {\n",
       "        text-align: right;\n",
       "    }\n",
       "</style>\n",
       "<table border=\"1\" class=\"dataframe\">\n",
       "  <thead>\n",
       "    <tr style=\"text-align: right;\">\n",
       "      <th></th>\n",
       "      <th>id</th>\n",
       "      <th>sequence</th>\n",
       "      <th>length</th>\n",
       "      <th>class</th>\n",
       "    </tr>\n",
       "  </thead>\n",
       "  <tbody>\n",
       "    <tr>\n",
       "      <th>0</th>\n",
       "      <td>Achn005241</td>\n",
       "      <td>MKEINGRKQGVASPCAACKLLRRRCAEDCVFAPYFPADEPQKFASV...</td>\n",
       "      <td>182</td>\n",
       "      <td>1</td>\n",
       "    </tr>\n",
       "    <tr>\n",
       "      <th>1</th>\n",
       "      <td>Achn008351</td>\n",
       "      <td>MSDTHLLRPTCRHVGAEQVHKLNFACKFLRRKCLPGCIFAPYFPPE...</td>\n",
       "      <td>183</td>\n",
       "      <td>1</td>\n",
       "    </tr>\n",
       "    <tr>\n",
       "      <th>2</th>\n",
       "      <td>Achn012881</td>\n",
       "      <td>MSCNGCRVLRKGCSENCILRPSLQWIDSPEAQGHATVFVAKFFGRA...</td>\n",
       "      <td>224</td>\n",
       "      <td>1</td>\n",
       "    </tr>\n",
       "    <tr>\n",
       "      <th>3</th>\n",
       "      <td>Achn019011</td>\n",
       "      <td>MGGNSPCASCKLLRRRCAKDCIFAPYFPSDDPQKFAMVHKVFGASN...</td>\n",
       "      <td>168</td>\n",
       "      <td>1</td>\n",
       "    </tr>\n",
       "    <tr>\n",
       "      <th>4</th>\n",
       "      <td>Achn028271</td>\n",
       "      <td>MSSSNSPCAACKFLRRKCTQECVFAPYFPPDQPQKFSNVHKVFGAS...</td>\n",
       "      <td>294</td>\n",
       "      <td>1</td>\n",
       "    </tr>\n",
       "  </tbody>\n",
       "</table>\n",
       "</div>"
      ],
      "text/plain": [
       "           id                                           sequence  length  \\\n",
       "0  Achn005241  MKEINGRKQGVASPCAACKLLRRRCAEDCVFAPYFPADEPQKFASV...     182   \n",
       "1  Achn008351  MSDTHLLRPTCRHVGAEQVHKLNFACKFLRRKCLPGCIFAPYFPPE...     183   \n",
       "2  Achn012881  MSCNGCRVLRKGCSENCILRPSLQWIDSPEAQGHATVFVAKFFGRA...     224   \n",
       "3  Achn019011  MGGNSPCASCKLLRRRCAKDCIFAPYFPSDDPQKFAMVHKVFGASN...     168   \n",
       "4  Achn028271  MSSSNSPCAACKFLRRKCTQECVFAPYFPPDQPQKFSNVHKVFGAS...     294   \n",
       "\n",
       "   class  \n",
       "0      1  \n",
       "1      1  \n",
       "2      1  \n",
       "3      1  \n",
       "4      1  "
      ]
     },
     "execution_count": 3,
     "metadata": {},
     "output_type": "execute_result"
    }
   ],
   "source": [
    "# READ GENE_INFO JSON FILE\n",
    "gene_info_path = \"../data/gene_info.json\"\n",
    "dataset_path   = \"../data/one_vs_other/\"\n",
    "with open(gene_info_path, 'r') as json_file:\n",
    "    gene_info = json.load(json_file)\n",
    "\n",
    "# FOCUS ON GENE FAMILLY\n",
    "gene_dict = gene_info[gene_familly]\n",
    "df_path = dataset_path+gene_dict['file_code']+\".csv\"\n",
    "\n",
    "# LOAD WHOLE DATASET\n",
    "USE_FULL_DF = True\n",
    "if USE_FULL_DF:\n",
    "    dataset = pd.read_csv(df_path)\n",
    "else:\n",
    "    dataset_ = pd.read_csv(df_path)\n",
    "    r = min(5000/len(dataset_), 1)\n",
    "    _, dataset = train_test_split(dataset_, test_size=r, stratify=dataset_['class'], random_state=42)\n",
    "dataset.head()"
   ]
  },
  {
   "cell_type": "code",
   "execution_count": 4,
   "id": "745dff8f-540b-4299-a3f0-dabda69bd837",
   "metadata": {
    "execution": {
     "iopub.execute_input": "2024-07-04T12:37:47.328477Z",
     "iopub.status.busy": "2024-07-04T12:37:47.328329Z",
     "iopub.status.idle": "2024-07-04T12:37:47.334594Z",
     "shell.execute_reply": "2024-07-04T12:37:47.334306Z"
    },
    "papermill": {
     "duration": 0.008549,
     "end_time": "2024-07-04T12:37:47.335455",
     "exception": false,
     "start_time": "2024-07-04T12:37:47.326906",
     "status": "completed"
    },
    "tags": []
   },
   "outputs": [],
   "source": [
    "trainset, testset = train_test_split(dataset, test_size=0.2, stratify=dataset['class'], random_state=42)"
   ]
  },
  {
   "cell_type": "code",
   "execution_count": 5,
   "id": "a9b8b47d-48c6-4e94-a378-574904e308ee",
   "metadata": {
    "execution": {
     "iopub.execute_input": "2024-07-04T12:37:47.337839Z",
     "iopub.status.busy": "2024-07-04T12:37:47.337716Z",
     "iopub.status.idle": "2024-07-04T12:37:47.344651Z",
     "shell.execute_reply": "2024-07-04T12:37:47.344385Z"
    },
    "papermill": {
     "duration": 0.009095,
     "end_time": "2024-07-04T12:37:47.345493",
     "exception": false,
     "start_time": "2024-07-04T12:37:47.336398",
     "status": "completed"
    },
    "tags": []
   },
   "outputs": [
    {
     "name": "stderr",
     "output_type": "stream",
     "text": [
      "/var/folders/w8/b_cflrn97k9c15rcrn5t8mmr0000gn/T/ipykernel_22699/2288533763.py:2: FutureWarning: Setting an item of incompatible dtype is deprecated and will raise in a future error of pandas. Value 'LBD' has dtype incompatible with int64, please explicitly cast to a compatible dtype first.\n",
      "  testset_positive.loc[:, 'class'] = gene_familly\n"
     ]
    },
    {
     "data": {
      "text/html": [
       "<div>\n",
       "<style scoped>\n",
       "    .dataframe tbody tr th:only-of-type {\n",
       "        vertical-align: middle;\n",
       "    }\n",
       "\n",
       "    .dataframe tbody tr th {\n",
       "        vertical-align: top;\n",
       "    }\n",
       "\n",
       "    .dataframe thead th {\n",
       "        text-align: right;\n",
       "    }\n",
       "</style>\n",
       "<table border=\"1\" class=\"dataframe\">\n",
       "  <thead>\n",
       "    <tr style=\"text-align: right;\">\n",
       "      <th></th>\n",
       "      <th>id</th>\n",
       "      <th>sequence</th>\n",
       "      <th>length</th>\n",
       "      <th>class</th>\n",
       "    </tr>\n",
       "  </thead>\n",
       "  <tbody>\n",
       "    <tr>\n",
       "      <th>2803</th>\n",
       "      <td>Itr_sc000042.1_g00019.1 -- LBD</td>\n",
       "      <td>MASSSSSNSPCAACKFLRRKCQPECVFAPYFPPDQPQKFASVHKVF...</td>\n",
       "      <td>227</td>\n",
       "      <td>LBD</td>\n",
       "    </tr>\n",
       "    <tr>\n",
       "      <th>5930</th>\n",
       "      <td>XP_011099212.1 -- LBD</td>\n",
       "      <td>MSSSNSPCAACKCLRRKCTQECVFAPYFPPDNPQKFTNVHKVFGAS...</td>\n",
       "      <td>338</td>\n",
       "      <td>LBD</td>\n",
       "    </tr>\n",
       "    <tr>\n",
       "      <th>1052</th>\n",
       "      <td>Csa04g015740.1 -- LBD</td>\n",
       "      <td>MSNYTNSPCAACKFLRRKCTSDCVFAPYFPPEEPTKFANVHRIFGA...</td>\n",
       "      <td>129</td>\n",
       "      <td>LBD</td>\n",
       "    </tr>\n",
       "    <tr>\n",
       "      <th>4086</th>\n",
       "      <td>Ote100214180031 -- LBD</td>\n",
       "      <td>MRDPVYGCVGAISYLQQQIDGLRQQLALTQAEMLQLKVRQTVSRPA...</td>\n",
       "      <td>89</td>\n",
       "      <td>LBD</td>\n",
       "    </tr>\n",
       "    <tr>\n",
       "      <th>2700</th>\n",
       "      <td>Gorai.010G025100.1 -- LBD</td>\n",
       "      <td>MSCNGCRVLRKGCSETCVLRSSLRWIESAEAQGNATLFLAKFFGRS...</td>\n",
       "      <td>205</td>\n",
       "      <td>LBD</td>\n",
       "    </tr>\n",
       "    <tr>\n",
       "      <th>...</th>\n",
       "      <td>...</td>\n",
       "      <td>...</td>\n",
       "      <td>...</td>\n",
       "      <td>...</td>\n",
       "    </tr>\n",
       "    <tr>\n",
       "      <th>1633</th>\n",
       "      <td>Cc06_g20540 -- LBD</td>\n",
       "      <td>MTLKGGTSQACAACKYQRRRCTADCPLAPYFPADQPKMFQNAHKLF...</td>\n",
       "      <td>297</td>\n",
       "      <td>LBD</td>\n",
       "    </tr>\n",
       "    <tr>\n",
       "      <th>3127</th>\n",
       "      <td>LPERR01G17360.1 -- LBD</td>\n",
       "      <td>MFDENDDEFSSGDSKSPNTDTPQPESPPPPPPSPPTRRARRASTSS...</td>\n",
       "      <td>176</td>\n",
       "      <td>LBD</td>\n",
       "    </tr>\n",
       "    <tr>\n",
       "      <th>4018</th>\n",
       "      <td>XP_009607074.1 -- LBD</td>\n",
       "      <td>MTNVVNNTQNISPLATPASATTYAVTTSTGSNPSNITRVASRGGGG...</td>\n",
       "      <td>272</td>\n",
       "      <td>LBD</td>\n",
       "    </tr>\n",
       "    <tr>\n",
       "      <th>7007</th>\n",
       "      <td>Zjn_sc00002.1.g14280.1.am.mk -- LBD</td>\n",
       "      <td>MASSAGGGAPGSPCGACKFLRRKCSAECVFAPHFCAEDGAAQFAAI...</td>\n",
       "      <td>178</td>\n",
       "      <td>LBD</td>\n",
       "    </tr>\n",
       "    <tr>\n",
       "      <th>1081</th>\n",
       "      <td>Csa06g034040.1 -- LBD</td>\n",
       "      <td>MSSSSSSSSSGSPCGACKFLRRKCAKGCVFAPYFCHEQGASHFAAI...</td>\n",
       "      <td>224</td>\n",
       "      <td>LBD</td>\n",
       "    </tr>\n",
       "  </tbody>\n",
       "</table>\n",
       "<p>1443 rows × 4 columns</p>\n",
       "</div>"
      ],
      "text/plain": [
       "                                       id  \\\n",
       "2803       Itr_sc000042.1_g00019.1 -- LBD   \n",
       "5930                XP_011099212.1 -- LBD   \n",
       "1052                Csa04g015740.1 -- LBD   \n",
       "4086               Ote100214180031 -- LBD   \n",
       "2700            Gorai.010G025100.1 -- LBD   \n",
       "...                                   ...   \n",
       "1633                   Cc06_g20540 -- LBD   \n",
       "3127               LPERR01G17360.1 -- LBD   \n",
       "4018                XP_009607074.1 -- LBD   \n",
       "7007  Zjn_sc00002.1.g14280.1.am.mk -- LBD   \n",
       "1081                Csa06g034040.1 -- LBD   \n",
       "\n",
       "                                               sequence  length class  \n",
       "2803  MASSSSSNSPCAACKFLRRKCQPECVFAPYFPPDQPQKFASVHKVF...     227   LBD  \n",
       "5930  MSSSNSPCAACKCLRRKCTQECVFAPYFPPDNPQKFTNVHKVFGAS...     338   LBD  \n",
       "1052  MSNYTNSPCAACKFLRRKCTSDCVFAPYFPPEEPTKFANVHRIFGA...     129   LBD  \n",
       "4086  MRDPVYGCVGAISYLQQQIDGLRQQLALTQAEMLQLKVRQTVSRPA...      89   LBD  \n",
       "2700  MSCNGCRVLRKGCSETCVLRSSLRWIESAEAQGNATLFLAKFFGRS...     205   LBD  \n",
       "...                                                 ...     ...   ...  \n",
       "1633  MTLKGGTSQACAACKYQRRRCTADCPLAPYFPADQPKMFQNAHKLF...     297   LBD  \n",
       "3127  MFDENDDEFSSGDSKSPNTDTPQPESPPPPPPSPPTRRARRASTSS...     176   LBD  \n",
       "4018  MTNVVNNTQNISPLATPASATTYAVTTSTGSNPSNITRVASRGGGG...     272   LBD  \n",
       "7007  MASSAGGGAPGSPCGACKFLRRKCSAECVFAPHFCAEDGAAQFAAI...     178   LBD  \n",
       "1081  MSSSSSSSSSGSPCGACKFLRRKCAKGCVFAPYFCHEQGASHFAAI...     224   LBD  \n",
       "\n",
       "[1443 rows x 4 columns]"
      ]
     },
     "execution_count": 5,
     "metadata": {},
     "output_type": "execute_result"
    }
   ],
   "source": [
    "testset_positive = testset[testset['class'] == 1]\n",
    "testset_positive.loc[:, 'class'] = gene_familly\n",
    "testset_positive.loc[:, 'id'] = testset_positive['id'].apply(lambda x: f\"{x} -- {gene_familly}\")\n",
    "testset_positive"
   ]
  },
  {
   "cell_type": "code",
   "execution_count": 6,
   "id": "25a9ad39-47e0-4b0a-9669-c9ed5c6cafa3",
   "metadata": {
    "execution": {
     "iopub.execute_input": "2024-07-04T12:37:47.348254Z",
     "iopub.status.busy": "2024-07-04T12:37:47.348144Z",
     "iopub.status.idle": "2024-07-04T12:37:47.448749Z",
     "shell.execute_reply": "2024-07-04T12:37:47.448412Z"
    },
    "papermill": {
     "duration": 0.10305,
     "end_time": "2024-07-04T12:37:47.449698",
     "exception": false,
     "start_time": "2024-07-04T12:37:47.346648",
     "status": "completed"
    },
    "tags": []
   },
   "outputs": [],
   "source": [
    "testset_positive.to_csv(\"../data/testset/\"+gene_dict['file_code']+\".csv\")\n",
    "trainset.to_csv(\"../data/mix_data/trainset/\"+gene_dict['file_code']+\".csv\")\n",
    "testset.to_csv(\"../data/mix_data/testset/\"+gene_dict['file_code']+\".csv\")"
   ]
  },
  {
   "cell_type": "code",
   "execution_count": null,
   "id": "4107c4c5-3c5d-44f9-af27-5b81b6d102e5",
   "metadata": {
    "papermill": {
     "duration": 0.001192,
     "end_time": "2024-07-04T12:37:47.452135",
     "exception": false,
     "start_time": "2024-07-04T12:37:47.450943",
     "status": "completed"
    },
    "tags": []
   },
   "outputs": [],
   "source": []
  }
 ],
 "metadata": {
  "kernelspec": {
   "display_name": "Python 3 (ipykernel)",
   "language": "python",
   "name": "python3"
  },
  "language_info": {
   "codemirror_mode": {
    "name": "ipython",
    "version": 3
   },
   "file_extension": ".py",
   "mimetype": "text/x-python",
   "name": "python",
   "nbconvert_exporter": "python",
   "pygments_lexer": "ipython3",
   "version": "3.11.7"
  },
  "papermill": {
   "default_parameters": {},
   "duration": 1.633163,
   "end_time": "2024-07-04T12:37:47.669769",
   "environment_variables": {},
   "exception": null,
   "input_path": "05-extract_testset-0.ipynb",
   "output_path": "AutoSave/TestGen/05-extract_testset-0-LBD.ipynb",
   "parameters": {
    "gene_familly": "LBD"
   },
   "start_time": "2024-07-04T12:37:46.036606",
   "version": "2.6.0"
  }
 },
 "nbformat": 4,
 "nbformat_minor": 5
}