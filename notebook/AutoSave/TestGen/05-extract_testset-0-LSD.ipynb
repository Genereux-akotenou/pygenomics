{
 "cells": [
  {
   "cell_type": "code",
   "execution_count": 1,
   "id": "a4efe73e",
   "metadata": {
    "execution": {
     "iopub.execute_input": "2024-07-04T12:37:50.095714Z",
     "iopub.status.busy": "2024-07-04T12:37:50.095560Z",
     "iopub.status.idle": "2024-07-04T12:37:50.100098Z",
     "shell.execute_reply": "2024-07-04T12:37:50.099817Z"
    },
    "papermill": {
     "duration": 0.00866,
     "end_time": "2024-07-04T12:37:50.101076",
     "exception": false,
     "start_time": "2024-07-04T12:37:50.092416",
     "status": "completed"
    },
    "tags": [
     "injected-parameters"
    ]
   },
   "outputs": [],
   "source": [
    "# Parameters\n",
    "gene_familly = \"LSD\"\n"
   ]
  },
  {
   "cell_type": "code",
   "execution_count": 2,
   "id": "e7cdbe25-11a6-48da-abd4-9ae5eee27bfe",
   "metadata": {
    "execution": {
     "iopub.execute_input": "2024-07-04T12:37:50.103758Z",
     "iopub.status.busy": "2024-07-04T12:37:50.103537Z",
     "iopub.status.idle": "2024-07-04T12:37:50.831714Z",
     "shell.execute_reply": "2024-07-04T12:37:50.831200Z"
    },
    "papermill": {
     "duration": 0.730687,
     "end_time": "2024-07-04T12:37:50.832947",
     "exception": false,
     "start_time": "2024-07-04T12:37:50.102260",
     "status": "completed"
    },
    "tags": []
   },
   "outputs": [],
   "source": [
    "import json\n",
    "import pandas as pd\n",
    "from sklearn.model_selection import train_test_split"
   ]
  },
  {
   "cell_type": "code",
   "execution_count": 3,
   "id": "6e20f340-8cbc-46f2-be83-6f1c4523930a",
   "metadata": {
    "execution": {
     "iopub.execute_input": "2024-07-04T12:37:50.835773Z",
     "iopub.status.busy": "2024-07-04T12:37:50.835559Z",
     "iopub.status.idle": "2024-07-04T12:37:50.851952Z",
     "shell.execute_reply": "2024-07-04T12:37:50.851649Z"
    },
    "papermill": {
     "duration": 0.018751,
     "end_time": "2024-07-04T12:37:50.852853",
     "exception": false,
     "start_time": "2024-07-04T12:37:50.834102",
     "status": "completed"
    },
    "tags": []
   },
   "outputs": [
    {
     "data": {
      "text/html": [
       "<div>\n",
       "<style scoped>\n",
       "    .dataframe tbody tr th:only-of-type {\n",
       "        vertical-align: middle;\n",
       "    }\n",
       "\n",
       "    .dataframe tbody tr th {\n",
       "        vertical-align: top;\n",
       "    }\n",
       "\n",
       "    .dataframe thead th {\n",
       "        text-align: right;\n",
       "    }\n",
       "</style>\n",
       "<table border=\"1\" class=\"dataframe\">\n",
       "  <thead>\n",
       "    <tr style=\"text-align: right;\">\n",
       "      <th></th>\n",
       "      <th>id</th>\n",
       "      <th>sequence</th>\n",
       "      <th>length</th>\n",
       "      <th>class</th>\n",
       "    </tr>\n",
       "  </thead>\n",
       "  <tbody>\n",
       "    <tr>\n",
       "      <th>0</th>\n",
       "      <td>Achn003131</td>\n",
       "      <td>MWRLPYIAYVCTWGNKCEMLLLSNGEPCASSLPNYSCLNFGFTILH...</td>\n",
       "      <td>238</td>\n",
       "      <td>1</td>\n",
       "    </tr>\n",
       "    <tr>\n",
       "      <th>1</th>\n",
       "      <td>EMT22195</td>\n",
       "      <td>MQSQIVCHGCRSVLLYPRGAPSVCCAVCHAVTNAPPPGMEMAQLIC...</td>\n",
       "      <td>197</td>\n",
       "      <td>1</td>\n",
       "    </tr>\n",
       "    <tr>\n",
       "      <th>2</th>\n",
       "      <td>EMT24478</td>\n",
       "      <td>MPVPLAPYPTPPVPFTPPAPNAGAQSQLVCSGCRNLLMYPAGATSV...</td>\n",
       "      <td>146</td>\n",
       "      <td>1</td>\n",
       "    </tr>\n",
       "    <tr>\n",
       "      <th>3</th>\n",
       "      <td>AA53G00240</td>\n",
       "      <td>MNIAGSGNGGQSQLVCSGCRNLLMYPVGATSVCCAVCNAVTAVPPP...</td>\n",
       "      <td>120</td>\n",
       "      <td>1</td>\n",
       "    </tr>\n",
       "    <tr>\n",
       "      <th>4</th>\n",
       "      <td>AA57G00277</td>\n",
       "      <td>LFRIESIPSPIEVFPGFDLDSGFGSKLSSIFLNPFEFQDKIRNILL...</td>\n",
       "      <td>225</td>\n",
       "      <td>1</td>\n",
       "    </tr>\n",
       "  </tbody>\n",
       "</table>\n",
       "</div>"
      ],
      "text/plain": [
       "           id                                           sequence  length  \\\n",
       "0  Achn003131  MWRLPYIAYVCTWGNKCEMLLLSNGEPCASSLPNYSCLNFGFTILH...     238   \n",
       "1    EMT22195  MQSQIVCHGCRSVLLYPRGAPSVCCAVCHAVTNAPPPGMEMAQLIC...     197   \n",
       "2    EMT24478  MPVPLAPYPTPPVPFTPPAPNAGAQSQLVCSGCRNLLMYPAGATSV...     146   \n",
       "3  AA53G00240  MNIAGSGNGGQSQLVCSGCRNLLMYPVGATSVCCAVCNAVTAVPPP...     120   \n",
       "4  AA57G00277  LFRIESIPSPIEVFPGFDLDSGFGSKLSSIFLNPFEFQDKIRNILL...     225   \n",
       "\n",
       "   class  \n",
       "0      1  \n",
       "1      1  \n",
       "2      1  \n",
       "3      1  \n",
       "4      1  "
      ]
     },
     "execution_count": 3,
     "metadata": {},
     "output_type": "execute_result"
    }
   ],
   "source": [
    "# READ GENE_INFO JSON FILE\n",
    "gene_info_path = \"../data/gene_info.json\"\n",
    "dataset_path   = \"../data/one_vs_other/\"\n",
    "with open(gene_info_path, 'r') as json_file:\n",
    "    gene_info = json.load(json_file)\n",
    "\n",
    "# FOCUS ON GENE FAMILLY\n",
    "gene_dict = gene_info[gene_familly]\n",
    "df_path = dataset_path+gene_dict['file_code']+\".csv\"\n",
    "\n",
    "# LOAD WHOLE DATASET\n",
    "USE_FULL_DF = True\n",
    "if USE_FULL_DF:\n",
    "    dataset = pd.read_csv(df_path)\n",
    "else:\n",
    "    dataset_ = pd.read_csv(df_path)\n",
    "    r = min(5000/len(dataset_), 1)\n",
    "    _, dataset = train_test_split(dataset_, test_size=r, stratify=dataset_['class'], random_state=42)\n",
    "dataset.head()"
   ]
  },
  {
   "cell_type": "code",
   "execution_count": 4,
   "id": "745dff8f-540b-4299-a3f0-dabda69bd837",
   "metadata": {
    "execution": {
     "iopub.execute_input": "2024-07-04T12:37:50.855307Z",
     "iopub.status.busy": "2024-07-04T12:37:50.855187Z",
     "iopub.status.idle": "2024-07-04T12:37:50.859147Z",
     "shell.execute_reply": "2024-07-04T12:37:50.858837Z"
    },
    "papermill": {
     "duration": 0.006184,
     "end_time": "2024-07-04T12:37:50.860033",
     "exception": false,
     "start_time": "2024-07-04T12:37:50.853849",
     "status": "completed"
    },
    "tags": []
   },
   "outputs": [],
   "source": [
    "trainset, testset = train_test_split(dataset, test_size=0.2, stratify=dataset['class'], random_state=42)"
   ]
  },
  {
   "cell_type": "code",
   "execution_count": 5,
   "id": "a9b8b47d-48c6-4e94-a378-574904e308ee",
   "metadata": {
    "execution": {
     "iopub.execute_input": "2024-07-04T12:37:50.862540Z",
     "iopub.status.busy": "2024-07-04T12:37:50.862418Z",
     "iopub.status.idle": "2024-07-04T12:37:50.868667Z",
     "shell.execute_reply": "2024-07-04T12:37:50.868376Z"
    },
    "papermill": {
     "duration": 0.008659,
     "end_time": "2024-07-04T12:37:50.869688",
     "exception": false,
     "start_time": "2024-07-04T12:37:50.861029",
     "status": "completed"
    },
    "tags": []
   },
   "outputs": [
    {
     "name": "stderr",
     "output_type": "stream",
     "text": [
      "/var/folders/w8/b_cflrn97k9c15rcrn5t8mmr0000gn/T/ipykernel_22713/2288533763.py:2: FutureWarning: Setting an item of incompatible dtype is deprecated and will raise in a future error of pandas. Value 'LSD' has dtype incompatible with int64, please explicitly cast to a compatible dtype first.\n",
      "  testset_positive.loc[:, 'class'] = gene_familly\n"
     ]
    },
    {
     "data": {
      "text/html": [
       "<div>\n",
       "<style scoped>\n",
       "    .dataframe tbody tr th:only-of-type {\n",
       "        vertical-align: middle;\n",
       "    }\n",
       "\n",
       "    .dataframe tbody tr th {\n",
       "        vertical-align: top;\n",
       "    }\n",
       "\n",
       "    .dataframe thead th {\n",
       "        text-align: right;\n",
       "    }\n",
       "</style>\n",
       "<table border=\"1\" class=\"dataframe\">\n",
       "  <thead>\n",
       "    <tr style=\"text-align: right;\">\n",
       "      <th></th>\n",
       "      <th>id</th>\n",
       "      <th>sequence</th>\n",
       "      <th>length</th>\n",
       "      <th>class</th>\n",
       "    </tr>\n",
       "  </thead>\n",
       "  <tbody>\n",
       "    <tr>\n",
       "      <th>612</th>\n",
       "      <td>LOC_Os08g06280.2 -- LSD</td>\n",
       "      <td>MHLSAGFLSCRERKGDFSCLTAARICEASTSDAVVQAAGTAMPVPL...</td>\n",
       "      <td>185</td>\n",
       "      <td>LSD</td>\n",
       "    </tr>\n",
       "    <tr>\n",
       "      <th>649</th>\n",
       "      <td>PEQU_13371 -- LSD</td>\n",
       "      <td>MPGELVCSGCRSLLRYEGVTNNVRCAICNTITPVFSQPQDAAQLVC...</td>\n",
       "      <td>203</td>\n",
       "      <td>LSD</td>\n",
       "    </tr>\n",
       "    <tr>\n",
       "      <th>96</th>\n",
       "      <td>XP_013598151.1 -- LSD</td>\n",
       "      <td>MQDQLVCHGCRNTLLYPRGATNVRCALCNTINMVPLHPPPPPPHHA...</td>\n",
       "      <td>193</td>\n",
       "      <td>LSD</td>\n",
       "    </tr>\n",
       "    <tr>\n",
       "      <th>793</th>\n",
       "      <td>Sevir.9G158300.1.p -- LSD</td>\n",
       "      <td>MQNQIVCHACRTVLLYPRGAPSVCCALCQAVTTVPPPGLDMAQLIC...</td>\n",
       "      <td>176</td>\n",
       "      <td>LSD</td>\n",
       "    </tr>\n",
       "    <tr>\n",
       "      <th>921</th>\n",
       "      <td>GRMZM2G173425_P01 -- LSD</td>\n",
       "      <td>MQNQIMCHACRTLLLYPRGASSVCCAVCQAITTVPPPGLEMAQLIC...</td>\n",
       "      <td>175</td>\n",
       "      <td>LSD</td>\n",
       "    </tr>\n",
       "    <tr>\n",
       "      <th>...</th>\n",
       "      <td>...</td>\n",
       "      <td>...</td>\n",
       "      <td>...</td>\n",
       "      <td>...</td>\n",
       "    </tr>\n",
       "    <tr>\n",
       "      <th>804</th>\n",
       "      <td>Sopen02g009420.1 -- LSD</td>\n",
       "      <td>MFENQFLVKDWYEYLVCSGCRTILLYPRGATNVCCVVCNNLTPVPP...</td>\n",
       "      <td>196</td>\n",
       "      <td>LSD</td>\n",
       "    </tr>\n",
       "    <tr>\n",
       "      <th>778</th>\n",
       "      <td>Seita.3G386400.1.p -- LSD</td>\n",
       "      <td>MQSQIVCHGCRRLLLYPRGAPSVCCAVCRVVSNVPPPGMEMARLIC...</td>\n",
       "      <td>180</td>\n",
       "      <td>LSD</td>\n",
       "    </tr>\n",
       "    <tr>\n",
       "      <th>39</th>\n",
       "      <td>AT4G20380.5 -- LSD</td>\n",
       "      <td>MQDQLVCHGCRNLLMYPRGASNVRCALCNTINMVPPPPPPHDMAHI...</td>\n",
       "      <td>184</td>\n",
       "      <td>LSD</td>\n",
       "    </tr>\n",
       "    <tr>\n",
       "      <th>816</th>\n",
       "      <td>PGSC0003DMP400030578 -- LSD</td>\n",
       "      <td>MPVPLAPYPTPPTPFTPPANGTQSQLVCSGCRNLLLYPVGATSVCC...</td>\n",
       "      <td>146</td>\n",
       "      <td>LSD</td>\n",
       "    </tr>\n",
       "    <tr>\n",
       "      <th>117</th>\n",
       "      <td>XP_009151438.1 -- LSD</td>\n",
       "      <td>MPVPLAPYPTPPATPLAPAYTPPSPANGSTGGQSQLVCSGCRNLLM...</td>\n",
       "      <td>155</td>\n",
       "      <td>LSD</td>\n",
       "    </tr>\n",
       "  </tbody>\n",
       "</table>\n",
       "<p>192 rows × 4 columns</p>\n",
       "</div>"
      ],
      "text/plain": [
       "                              id  \\\n",
       "612      LOC_Os08g06280.2 -- LSD   \n",
       "649            PEQU_13371 -- LSD   \n",
       "96         XP_013598151.1 -- LSD   \n",
       "793    Sevir.9G158300.1.p -- LSD   \n",
       "921     GRMZM2G173425_P01 -- LSD   \n",
       "..                           ...   \n",
       "804      Sopen02g009420.1 -- LSD   \n",
       "778    Seita.3G386400.1.p -- LSD   \n",
       "39            AT4G20380.5 -- LSD   \n",
       "816  PGSC0003DMP400030578 -- LSD   \n",
       "117        XP_009151438.1 -- LSD   \n",
       "\n",
       "                                              sequence  length class  \n",
       "612  MHLSAGFLSCRERKGDFSCLTAARICEASTSDAVVQAAGTAMPVPL...     185   LSD  \n",
       "649  MPGELVCSGCRSLLRYEGVTNNVRCAICNTITPVFSQPQDAAQLVC...     203   LSD  \n",
       "96   MQDQLVCHGCRNTLLYPRGATNVRCALCNTINMVPLHPPPPPPHHA...     193   LSD  \n",
       "793  MQNQIVCHACRTVLLYPRGAPSVCCALCQAVTTVPPPGLDMAQLIC...     176   LSD  \n",
       "921  MQNQIMCHACRTLLLYPRGASSVCCAVCQAITTVPPPGLEMAQLIC...     175   LSD  \n",
       "..                                                 ...     ...   ...  \n",
       "804  MFENQFLVKDWYEYLVCSGCRTILLYPRGATNVCCVVCNNLTPVPP...     196   LSD  \n",
       "778  MQSQIVCHGCRRLLLYPRGAPSVCCAVCRVVSNVPPPGMEMARLIC...     180   LSD  \n",
       "39   MQDQLVCHGCRNLLMYPRGASNVRCALCNTINMVPPPPPPHDMAHI...     184   LSD  \n",
       "816  MPVPLAPYPTPPTPFTPPANGTQSQLVCSGCRNLLLYPVGATSVCC...     146   LSD  \n",
       "117  MPVPLAPYPTPPATPLAPAYTPPSPANGSTGGQSQLVCSGCRNLLM...     155   LSD  \n",
       "\n",
       "[192 rows x 4 columns]"
      ]
     },
     "execution_count": 5,
     "metadata": {},
     "output_type": "execute_result"
    }
   ],
   "source": [
    "testset_positive = testset[testset['class'] == 1]\n",
    "testset_positive.loc[:, 'class'] = gene_familly\n",
    "testset_positive.loc[:, 'id'] = testset_positive['id'].apply(lambda x: f\"{x} -- {gene_familly}\")\n",
    "testset_positive"
   ]
  },
  {
   "cell_type": "code",
   "execution_count": 6,
   "id": "25a9ad39-47e0-4b0a-9669-c9ed5c6cafa3",
   "metadata": {
    "execution": {
     "iopub.execute_input": "2024-07-04T12:37:50.872962Z",
     "iopub.status.busy": "2024-07-04T12:37:50.872845Z",
     "iopub.status.idle": "2024-07-04T12:37:50.889909Z",
     "shell.execute_reply": "2024-07-04T12:37:50.889554Z"
    },
    "papermill": {
     "duration": 0.019488,
     "end_time": "2024-07-04T12:37:50.890784",
     "exception": false,
     "start_time": "2024-07-04T12:37:50.871296",
     "status": "completed"
    },
    "tags": []
   },
   "outputs": [],
   "source": [
    "testset_positive.to_csv(\"../data/testset/\"+gene_dict['file_code']+\".csv\")\n",
    "trainset.to_csv(\"../data/mix_data/trainset/\"+gene_dict['file_code']+\".csv\")\n",
    "testset.to_csv(\"../data/mix_data/testset/\"+gene_dict['file_code']+\".csv\")"
   ]
  },
  {
   "cell_type": "code",
   "execution_count": null,
   "id": "4107c4c5-3c5d-44f9-af27-5b81b6d102e5",
   "metadata": {
    "papermill": {
     "duration": 0.001183,
     "end_time": "2024-07-04T12:37:50.893121",
     "exception": false,
     "start_time": "2024-07-04T12:37:50.891938",
     "status": "completed"
    },
    "tags": []
   },
   "outputs": [],
   "source": []
  }
 ],
 "metadata": {
  "kernelspec": {
   "display_name": "Python 3 (ipykernel)",
   "language": "python",
   "name": "python3"
  },
  "language_info": {
   "codemirror_mode": {
    "name": "ipython",
    "version": 3
   },
   "file_extension": ".py",
   "mimetype": "text/x-python",
   "name": "python",
   "nbconvert_exporter": "python",
   "pygments_lexer": "ipython3",
   "version": "3.11.7"
  },
  "papermill": {
   "default_parameters": {},
   "duration": 1.725183,
   "end_time": "2024-07-04T12:37:51.110727",
   "environment_variables": {},
   "exception": null,
   "input_path": "05-extract_testset-0.ipynb",
   "output_path": "AutoSave/TestGen/05-extract_testset-0-LSD.ipynb",
   "parameters": {
    "gene_familly": "LSD"
   },
   "start_time": "2024-07-04T12:37:49.385544",
   "version": "2.6.0"
  }
 },
 "nbformat": 4,
 "nbformat_minor": 5
}