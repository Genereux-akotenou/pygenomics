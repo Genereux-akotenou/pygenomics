{
 "cells": [
  {
   "cell_type": "code",
   "execution_count": 1,
   "id": "a10069b6",
   "metadata": {
    "execution": {
     "iopub.execute_input": "2024-07-04T12:37:51.881840Z",
     "iopub.status.busy": "2024-07-04T12:37:51.881611Z",
     "iopub.status.idle": "2024-07-04T12:37:51.886658Z",
     "shell.execute_reply": "2024-07-04T12:37:51.886316Z"
    },
    "papermill": {
     "duration": 0.008375,
     "end_time": "2024-07-04T12:37:51.887589",
     "exception": false,
     "start_time": "2024-07-04T12:37:51.879214",
     "status": "completed"
    },
    "tags": [
     "injected-parameters"
    ]
   },
   "outputs": [],
   "source": [
    "# Parameters\n",
    "gene_familly = \"M-type_MADS\"\n"
   ]
  },
  {
   "cell_type": "code",
   "execution_count": 2,
   "id": "e7cdbe25-11a6-48da-abd4-9ae5eee27bfe",
   "metadata": {
    "execution": {
     "iopub.execute_input": "2024-07-04T12:37:51.890156Z",
     "iopub.status.busy": "2024-07-04T12:37:51.889963Z",
     "iopub.status.idle": "2024-07-04T12:37:52.552842Z",
     "shell.execute_reply": "2024-07-04T12:37:52.552406Z"
    },
    "papermill": {
     "duration": 0.665399,
     "end_time": "2024-07-04T12:37:52.554034",
     "exception": false,
     "start_time": "2024-07-04T12:37:51.888635",
     "status": "completed"
    },
    "tags": []
   },
   "outputs": [],
   "source": [
    "import json\n",
    "import pandas as pd\n",
    "from sklearn.model_selection import train_test_split"
   ]
  },
  {
   "cell_type": "code",
   "execution_count": 3,
   "id": "6e20f340-8cbc-46f2-be83-6f1c4523930a",
   "metadata": {
    "execution": {
     "iopub.execute_input": "2024-07-04T12:37:52.556849Z",
     "iopub.status.busy": "2024-07-04T12:37:52.556643Z",
     "iopub.status.idle": "2024-07-04T12:37:52.617435Z",
     "shell.execute_reply": "2024-07-04T12:37:52.617078Z"
    },
    "papermill": {
     "duration": 0.06321,
     "end_time": "2024-07-04T12:37:52.618365",
     "exception": false,
     "start_time": "2024-07-04T12:37:52.555155",
     "status": "completed"
    },
    "tags": []
   },
   "outputs": [
    {
     "data": {
      "text/html": [
       "<div>\n",
       "<style scoped>\n",
       "    .dataframe tbody tr th:only-of-type {\n",
       "        vertical-align: middle;\n",
       "    }\n",
       "\n",
       "    .dataframe tbody tr th {\n",
       "        vertical-align: top;\n",
       "    }\n",
       "\n",
       "    .dataframe thead th {\n",
       "        text-align: right;\n",
       "    }\n",
       "</style>\n",
       "<table border=\"1\" class=\"dataframe\">\n",
       "  <thead>\n",
       "    <tr style=\"text-align: right;\">\n",
       "      <th></th>\n",
       "      <th>id</th>\n",
       "      <th>sequence</th>\n",
       "      <th>length</th>\n",
       "      <th>class</th>\n",
       "    </tr>\n",
       "  </thead>\n",
       "  <tbody>\n",
       "    <tr>\n",
       "      <th>0</th>\n",
       "      <td>Achn002551</td>\n",
       "      <td>MKRIENATSRQVTFSKRRNGLLKKAFELSVLCDAEVALIIFSNKGR...</td>\n",
       "      <td>126</td>\n",
       "      <td>1</td>\n",
       "    </tr>\n",
       "    <tr>\n",
       "      <th>1</th>\n",
       "      <td>Achn015591</td>\n",
       "      <td>MGRSVKHESITNERVRRQTFQKRKAGLFKKVSELQTLCGHDACAVI...</td>\n",
       "      <td>165</td>\n",
       "      <td>1</td>\n",
       "    </tr>\n",
       "    <tr>\n",
       "      <th>2</th>\n",
       "      <td>Achn041671</td>\n",
       "      <td>MAREKIKIKKIDNITARQVTFSKRRRGLFKKAEELAVLCDAEVALI...</td>\n",
       "      <td>93</td>\n",
       "      <td>1</td>\n",
       "    </tr>\n",
       "    <tr>\n",
       "      <th>3</th>\n",
       "      <td>Achn041761</td>\n",
       "      <td>MGRGKIVIRRIDNSTSRQVTFSKRRNGLLKKAKELAILCDAEVGVI...</td>\n",
       "      <td>91</td>\n",
       "      <td>1</td>\n",
       "    </tr>\n",
       "    <tr>\n",
       "      <th>4</th>\n",
       "      <td>Achn058181</td>\n",
       "      <td>MTRNKINLALIANESSRKATLKKRRASMFKKIEELSVLSDVRTGAI...</td>\n",
       "      <td>253</td>\n",
       "      <td>1</td>\n",
       "    </tr>\n",
       "  </tbody>\n",
       "</table>\n",
       "</div>"
      ],
      "text/plain": [
       "           id                                           sequence  length  \\\n",
       "0  Achn002551  MKRIENATSRQVTFSKRRNGLLKKAFELSVLCDAEVALIIFSNKGR...     126   \n",
       "1  Achn015591  MGRSVKHESITNERVRRQTFQKRKAGLFKKVSELQTLCGHDACAVI...     165   \n",
       "2  Achn041671  MAREKIKIKKIDNITARQVTFSKRRRGLFKKAEELAVLCDAEVALI...      93   \n",
       "3  Achn041761  MGRGKIVIRRIDNSTSRQVTFSKRRNGLLKKAKELAILCDAEVGVI...      91   \n",
       "4  Achn058181  MTRNKINLALIANESSRKATLKKRRASMFKKIEELSVLSDVRTGAI...     253   \n",
       "\n",
       "   class  \n",
       "0      1  \n",
       "1      1  \n",
       "2      1  \n",
       "3      1  \n",
       "4      1  "
      ]
     },
     "execution_count": 3,
     "metadata": {},
     "output_type": "execute_result"
    }
   ],
   "source": [
    "# READ GENE_INFO JSON FILE\n",
    "gene_info_path = \"../data/gene_info.json\"\n",
    "dataset_path   = \"../data/one_vs_other/\"\n",
    "with open(gene_info_path, 'r') as json_file:\n",
    "    gene_info = json.load(json_file)\n",
    "\n",
    "# FOCUS ON GENE FAMILLY\n",
    "gene_dict = gene_info[gene_familly]\n",
    "df_path = dataset_path+gene_dict['file_code']+\".csv\"\n",
    "\n",
    "# LOAD WHOLE DATASET\n",
    "USE_FULL_DF = True\n",
    "if USE_FULL_DF:\n",
    "    dataset = pd.read_csv(df_path)\n",
    "else:\n",
    "    dataset_ = pd.read_csv(df_path)\n",
    "    r = min(5000/len(dataset_), 1)\n",
    "    _, dataset = train_test_split(dataset_, test_size=r, stratify=dataset_['class'], random_state=42)\n",
    "dataset.head()"
   ]
  },
  {
   "cell_type": "code",
   "execution_count": 4,
   "id": "745dff8f-540b-4299-a3f0-dabda69bd837",
   "metadata": {
    "execution": {
     "iopub.execute_input": "2024-07-04T12:37:52.620862Z",
     "iopub.status.busy": "2024-07-04T12:37:52.620735Z",
     "iopub.status.idle": "2024-07-04T12:37:52.626920Z",
     "shell.execute_reply": "2024-07-04T12:37:52.626612Z"
    },
    "papermill": {
     "duration": 0.008426,
     "end_time": "2024-07-04T12:37:52.627785",
     "exception": false,
     "start_time": "2024-07-04T12:37:52.619359",
     "status": "completed"
    },
    "tags": []
   },
   "outputs": [],
   "source": [
    "trainset, testset = train_test_split(dataset, test_size=0.2, stratify=dataset['class'], random_state=42)"
   ]
  },
  {
   "cell_type": "code",
   "execution_count": 5,
   "id": "a9b8b47d-48c6-4e94-a378-574904e308ee",
   "metadata": {
    "execution": {
     "iopub.execute_input": "2024-07-04T12:37:52.630172Z",
     "iopub.status.busy": "2024-07-04T12:37:52.630046Z",
     "iopub.status.idle": "2024-07-04T12:37:52.636749Z",
     "shell.execute_reply": "2024-07-04T12:37:52.636481Z"
    },
    "papermill": {
     "duration": 0.008903,
     "end_time": "2024-07-04T12:37:52.637595",
     "exception": false,
     "start_time": "2024-07-04T12:37:52.628692",
     "status": "completed"
    },
    "tags": []
   },
   "outputs": [
    {
     "name": "stderr",
     "output_type": "stream",
     "text": [
      "/var/folders/w8/b_cflrn97k9c15rcrn5t8mmr0000gn/T/ipykernel_22719/2288533763.py:2: FutureWarning: Setting an item of incompatible dtype is deprecated and will raise in a future error of pandas. Value 'M-type_MADS' has dtype incompatible with int64, please explicitly cast to a compatible dtype first.\n",
      "  testset_positive.loc[:, 'class'] = gene_familly\n"
     ]
    },
    {
     "data": {
      "text/html": [
       "<div>\n",
       "<style scoped>\n",
       "    .dataframe tbody tr th:only-of-type {\n",
       "        vertical-align: middle;\n",
       "    }\n",
       "\n",
       "    .dataframe tbody tr th {\n",
       "        vertical-align: top;\n",
       "    }\n",
       "\n",
       "    .dataframe thead th {\n",
       "        text-align: right;\n",
       "    }\n",
       "</style>\n",
       "<table border=\"1\" class=\"dataframe\">\n",
       "  <thead>\n",
       "    <tr style=\"text-align: right;\">\n",
       "      <th></th>\n",
       "      <th>id</th>\n",
       "      <th>sequence</th>\n",
       "      <th>length</th>\n",
       "      <th>class</th>\n",
       "    </tr>\n",
       "  </thead>\n",
       "  <tbody>\n",
       "    <tr>\n",
       "      <th>446</th>\n",
       "      <td>AT5G41200.1 -- M-type_MADS</td>\n",
       "      <td>MTMRSSSPSSSSSYSLAFTSLSNRLETIFKKASELCTLCDIEACVI...</td>\n",
       "      <td>330</td>\n",
       "      <td>M-type_MADS</td>\n",
       "    </tr>\n",
       "    <tr>\n",
       "      <th>1633</th>\n",
       "      <td>CA09g02970 -- M-type_MADS</td>\n",
       "      <td>MDKRTGKGRQKIEMKLIEDNEARTVTLSKRKKGLYKKAKEYSTLTG...</td>\n",
       "      <td>165</td>\n",
       "      <td>M-type_MADS</td>\n",
       "    </tr>\n",
       "    <tr>\n",
       "      <th>7295</th>\n",
       "      <td>Zjn_sc00006.1.g02630.1.sm.mk -- M-type_MADS</td>\n",
       "      <td>MARGKVQMRRIENPVHRQVTFCKRRMGLLKKARELSILCDADIGVI...</td>\n",
       "      <td>148</td>\n",
       "      <td>M-type_MADS</td>\n",
       "    </tr>\n",
       "    <tr>\n",
       "      <th>7371</th>\n",
       "      <td>Zmw_sc00594.1.g00050.1 -- M-type_MADS</td>\n",
       "      <td>MASSTPLGVRGTSTQPVKRDDCMPDAQTNHALRLPEQQLPARTKRT...</td>\n",
       "      <td>735</td>\n",
       "      <td>M-type_MADS</td>\n",
       "    </tr>\n",
       "    <tr>\n",
       "      <th>4812</th>\n",
       "      <td>ORUFI08G11050.4 -- M-type_MADS</td>\n",
       "      <td>MRRGKVKIKPIANRKARDVCFSKRRQVVIKKANELSILCGVNVAVA...</td>\n",
       "      <td>129</td>\n",
       "      <td>M-type_MADS</td>\n",
       "    </tr>\n",
       "    <tr>\n",
       "      <th>...</th>\n",
       "      <td>...</td>\n",
       "      <td>...</td>\n",
       "      <td>...</td>\n",
       "      <td>...</td>\n",
       "    </tr>\n",
       "    <tr>\n",
       "      <th>1477</th>\n",
       "      <td>Carubv10010156m -- M-type_MADS</td>\n",
       "      <td>MVKNNLGRRKVEMVKMTNETNLQVTFSKRRSGLFKKASELCTLCDA...</td>\n",
       "      <td>239</td>\n",
       "      <td>M-type_MADS</td>\n",
       "    </tr>\n",
       "    <tr>\n",
       "      <th>5223</th>\n",
       "      <td>PEQU_32052 -- M-type_MADS</td>\n",
       "      <td>MAGGGRKKTELKLIESKQSRLVCFSKRRSGLFKKARELSILSGAQI...</td>\n",
       "      <td>71</td>\n",
       "      <td>M-type_MADS</td>\n",
       "    </tr>\n",
       "    <tr>\n",
       "      <th>5424</th>\n",
       "      <td>CCG018036.1 -- M-type_MADS</td>\n",
       "      <td>MARGKVQMKRIENSVHRQVTFCKRRSGLLKKAKELSVLCDAEIGVF...</td>\n",
       "      <td>96</td>\n",
       "      <td>M-type_MADS</td>\n",
       "    </tr>\n",
       "    <tr>\n",
       "      <th>199</th>\n",
       "      <td>evm_27.model.AmTr_v1.0_scaffold00010.217 -- M-...</td>\n",
       "      <td>MGRVKLQIKKIENSTNRQVTFSKRRNGLIKKAYELSILCDIDIALI...</td>\n",
       "      <td>108</td>\n",
       "      <td>M-type_MADS</td>\n",
       "    </tr>\n",
       "    <tr>\n",
       "      <th>1787</th>\n",
       "      <td>evm.TU.contig_25253.2 -- M-type_MADS</td>\n",
       "      <td>MARKKVKLAYITNDSARKAMFKKRKKGLMKKVSELSTICDVKACAI...</td>\n",
       "      <td>186</td>\n",
       "      <td>M-type_MADS</td>\n",
       "    </tr>\n",
       "  </tbody>\n",
       "</table>\n",
       "<p>1509 rows × 4 columns</p>\n",
       "</div>"
      ],
      "text/plain": [
       "                                                     id  \\\n",
       "446                          AT5G41200.1 -- M-type_MADS   \n",
       "1633                          CA09g02970 -- M-type_MADS   \n",
       "7295        Zjn_sc00006.1.g02630.1.sm.mk -- M-type_MADS   \n",
       "7371              Zmw_sc00594.1.g00050.1 -- M-type_MADS   \n",
       "4812                     ORUFI08G11050.4 -- M-type_MADS   \n",
       "...                                                 ...   \n",
       "1477                     Carubv10010156m -- M-type_MADS   \n",
       "5223                          PEQU_32052 -- M-type_MADS   \n",
       "5424                         CCG018036.1 -- M-type_MADS   \n",
       "199   evm_27.model.AmTr_v1.0_scaffold00010.217 -- M-...   \n",
       "1787               evm.TU.contig_25253.2 -- M-type_MADS   \n",
       "\n",
       "                                               sequence  length        class  \n",
       "446   MTMRSSSPSSSSSYSLAFTSLSNRLETIFKKASELCTLCDIEACVI...     330  M-type_MADS  \n",
       "1633  MDKRTGKGRQKIEMKLIEDNEARTVTLSKRKKGLYKKAKEYSTLTG...     165  M-type_MADS  \n",
       "7295  MARGKVQMRRIENPVHRQVTFCKRRMGLLKKARELSILCDADIGVI...     148  M-type_MADS  \n",
       "7371  MASSTPLGVRGTSTQPVKRDDCMPDAQTNHALRLPEQQLPARTKRT...     735  M-type_MADS  \n",
       "4812  MRRGKVKIKPIANRKARDVCFSKRRQVVIKKANELSILCGVNVAVA...     129  M-type_MADS  \n",
       "...                                                 ...     ...          ...  \n",
       "1477  MVKNNLGRRKVEMVKMTNETNLQVTFSKRRSGLFKKASELCTLCDA...     239  M-type_MADS  \n",
       "5223  MAGGGRKKTELKLIESKQSRLVCFSKRRSGLFKKARELSILSGAQI...      71  M-type_MADS  \n",
       "5424  MARGKVQMKRIENSVHRQVTFCKRRSGLLKKAKELSVLCDAEIGVF...      96  M-type_MADS  \n",
       "199   MGRVKLQIKKIENSTNRQVTFSKRRNGLIKKAYELSILCDIDIALI...     108  M-type_MADS  \n",
       "1787  MARKKVKLAYITNDSARKAMFKKRKKGLMKKVSELSTICDVKACAI...     186  M-type_MADS  \n",
       "\n",
       "[1509 rows x 4 columns]"
      ]
     },
     "execution_count": 5,
     "metadata": {},
     "output_type": "execute_result"
    }
   ],
   "source": [
    "testset_positive = testset[testset['class'] == 1]\n",
    "testset_positive.loc[:, 'class'] = gene_familly\n",
    "testset_positive.loc[:, 'id'] = testset_positive['id'].apply(lambda x: f\"{x} -- {gene_familly}\")\n",
    "testset_positive"
   ]
  },
  {
   "cell_type": "code",
   "execution_count": 6,
   "id": "25a9ad39-47e0-4b0a-9669-c9ed5c6cafa3",
   "metadata": {
    "execution": {
     "iopub.execute_input": "2024-07-04T12:37:52.640490Z",
     "iopub.status.busy": "2024-07-04T12:37:52.640376Z",
     "iopub.status.idle": "2024-07-04T12:37:52.746330Z",
     "shell.execute_reply": "2024-07-04T12:37:52.745871Z"
    },
    "papermill": {
     "duration": 0.108461,
     "end_time": "2024-07-04T12:37:52.747271",
     "exception": false,
     "start_time": "2024-07-04T12:37:52.638810",
     "status": "completed"
    },
    "tags": []
   },
   "outputs": [],
   "source": [
    "testset_positive.to_csv(\"../data/testset/\"+gene_dict['file_code']+\".csv\")\n",
    "trainset.to_csv(\"../data/mix_data/trainset/\"+gene_dict['file_code']+\".csv\")\n",
    "testset.to_csv(\"../data/mix_data/testset/\"+gene_dict['file_code']+\".csv\")"
   ]
  },
  {
   "cell_type": "code",
   "execution_count": null,
   "id": "4107c4c5-3c5d-44f9-af27-5b81b6d102e5",
   "metadata": {
    "papermill": {
     "duration": 0.001188,
     "end_time": "2024-07-04T12:37:52.749727",
     "exception": false,
     "start_time": "2024-07-04T12:37:52.748539",
     "status": "completed"
    },
    "tags": []
   },
   "outputs": [],
   "source": []
  }
 ],
 "metadata": {
  "kernelspec": {
   "display_name": "Python 3 (ipykernel)",
   "language": "python",
   "name": "python3"
  },
  "language_info": {
   "codemirror_mode": {
    "name": "ipython",
    "version": 3
   },
   "file_extension": ".py",
   "mimetype": "text/x-python",
   "name": "python",
   "nbconvert_exporter": "python",
   "pygments_lexer": "ipython3",
   "version": "3.11.7"
  },
  "papermill": {
   "default_parameters": {},
   "duration": 1.953892,
   "end_time": "2024-07-04T12:37:53.068343",
   "environment_variables": {},
   "exception": null,
   "input_path": "05-extract_testset-0.ipynb",
   "output_path": "AutoSave/TestGen/05-extract_testset-0-M-type_MADS.ipynb",
   "parameters": {
    "gene_familly": "M-type_MADS"
   },
   "start_time": "2024-07-04T12:37:51.114451",
   "version": "2.6.0"
  }
 },
 "nbformat": 4,
 "nbformat_minor": 5
}