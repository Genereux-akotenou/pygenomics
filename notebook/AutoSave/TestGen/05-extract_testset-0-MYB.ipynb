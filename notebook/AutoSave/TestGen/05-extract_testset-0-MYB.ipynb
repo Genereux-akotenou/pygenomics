{
 "cells": [
  {
   "cell_type": "code",
   "execution_count": 1,
   "id": "3a45e223",
   "metadata": {
    "execution": {
     "iopub.execute_input": "2024-07-04T12:37:55.813301Z",
     "iopub.status.busy": "2024-07-04T12:37:55.812978Z",
     "iopub.status.idle": "2024-07-04T12:37:55.817786Z",
     "shell.execute_reply": "2024-07-04T12:37:55.817436Z"
    },
    "papermill": {
     "duration": 0.008041,
     "end_time": "2024-07-04T12:37:55.818739",
     "exception": false,
     "start_time": "2024-07-04T12:37:55.810698",
     "status": "completed"
    },
    "tags": [
     "injected-parameters"
    ]
   },
   "outputs": [],
   "source": [
    "# Parameters\n",
    "gene_familly = \"MYB\"\n"
   ]
  },
  {
   "cell_type": "code",
   "execution_count": 2,
   "id": "e7cdbe25-11a6-48da-abd4-9ae5eee27bfe",
   "metadata": {
    "execution": {
     "iopub.execute_input": "2024-07-04T12:37:55.821177Z",
     "iopub.status.busy": "2024-07-04T12:37:55.821046Z",
     "iopub.status.idle": "2024-07-04T12:37:56.503024Z",
     "shell.execute_reply": "2024-07-04T12:37:56.502600Z"
    },
    "papermill": {
     "duration": 0.684455,
     "end_time": "2024-07-04T12:37:56.504207",
     "exception": false,
     "start_time": "2024-07-04T12:37:55.819752",
     "status": "completed"
    },
    "tags": []
   },
   "outputs": [],
   "source": [
    "import json\n",
    "import pandas as pd\n",
    "from sklearn.model_selection import train_test_split"
   ]
  },
  {
   "cell_type": "code",
   "execution_count": 3,
   "id": "6e20f340-8cbc-46f2-be83-6f1c4523930a",
   "metadata": {
    "execution": {
     "iopub.execute_input": "2024-07-04T12:37:56.506971Z",
     "iopub.status.busy": "2024-07-04T12:37:56.506759Z",
     "iopub.status.idle": "2024-07-04T12:37:56.686573Z",
     "shell.execute_reply": "2024-07-04T12:37:56.686194Z"
    },
    "papermill": {
     "duration": 0.182245,
     "end_time": "2024-07-04T12:37:56.687555",
     "exception": false,
     "start_time": "2024-07-04T12:37:56.505310",
     "status": "completed"
    },
    "tags": []
   },
   "outputs": [
    {
     "data": {
      "text/html": [
       "<div>\n",
       "<style scoped>\n",
       "    .dataframe tbody tr th:only-of-type {\n",
       "        vertical-align: middle;\n",
       "    }\n",
       "\n",
       "    .dataframe tbody tr th {\n",
       "        vertical-align: top;\n",
       "    }\n",
       "\n",
       "    .dataframe thead th {\n",
       "        text-align: right;\n",
       "    }\n",
       "</style>\n",
       "<table border=\"1\" class=\"dataframe\">\n",
       "  <thead>\n",
       "    <tr style=\"text-align: right;\">\n",
       "      <th></th>\n",
       "      <th>id</th>\n",
       "      <th>sequence</th>\n",
       "      <th>length</th>\n",
       "      <th>class</th>\n",
       "    </tr>\n",
       "  </thead>\n",
       "  <tbody>\n",
       "    <tr>\n",
       "      <th>0</th>\n",
       "      <td>Achn001581</td>\n",
       "      <td>MGRQPCCDKLGVKKGPWTAEEDKKLINFILNNGQCCWRAVPKLAGL...</td>\n",
       "      <td>251</td>\n",
       "      <td>1</td>\n",
       "    </tr>\n",
       "    <tr>\n",
       "      <th>1</th>\n",
       "      <td>Achn007681</td>\n",
       "      <td>MATDTEMDDLTVVVVEESTAADDGTDAGEGGDGEGQNEDVDVVVVG...</td>\n",
       "      <td>459</td>\n",
       "      <td>1</td>\n",
       "    </tr>\n",
       "    <tr>\n",
       "      <th>2</th>\n",
       "      <td>Achn009551</td>\n",
       "      <td>MEFLYPPSYYPNLNLLMQESFSSTKWTKEENKKFERALAIYDEKTP...</td>\n",
       "      <td>274</td>\n",
       "      <td>1</td>\n",
       "    </tr>\n",
       "    <tr>\n",
       "      <th>3</th>\n",
       "      <td>Achn012091</td>\n",
       "      <td>MDGLPIFMLMLYSHGINFIKCFWMTVNFSWTENSIATDFSLSLLYF...</td>\n",
       "      <td>480</td>\n",
       "      <td>1</td>\n",
       "    </tr>\n",
       "    <tr>\n",
       "      <th>4</th>\n",
       "      <td>Achn013291</td>\n",
       "      <td>MATDTEMDDLKVVAGDSTTAEDDGADAGGGGDGEGQNEDVDVAVVG...</td>\n",
       "      <td>432</td>\n",
       "      <td>1</td>\n",
       "    </tr>\n",
       "  </tbody>\n",
       "</table>\n",
       "</div>"
      ],
      "text/plain": [
       "           id                                           sequence  length  \\\n",
       "0  Achn001581  MGRQPCCDKLGVKKGPWTAEEDKKLINFILNNGQCCWRAVPKLAGL...     251   \n",
       "1  Achn007681  MATDTEMDDLTVVVVEESTAADDGTDAGEGGDGEGQNEDVDVVVVG...     459   \n",
       "2  Achn009551  MEFLYPPSYYPNLNLLMQESFSSTKWTKEENKKFERALAIYDEKTP...     274   \n",
       "3  Achn012091  MDGLPIFMLMLYSHGINFIKCFWMTVNFSWTENSIATDFSLSLLYF...     480   \n",
       "4  Achn013291  MATDTEMDDLKVVAGDSTTAEDDGADAGGGGDGEGQNEDVDVAVVG...     432   \n",
       "\n",
       "   class  \n",
       "0      1  \n",
       "1      1  \n",
       "2      1  \n",
       "3      1  \n",
       "4      1  "
      ]
     },
     "execution_count": 3,
     "metadata": {},
     "output_type": "execute_result"
    }
   ],
   "source": [
    "# READ GENE_INFO JSON FILE\n",
    "gene_info_path = \"../data/gene_info.json\"\n",
    "dataset_path   = \"../data/one_vs_other/\"\n",
    "with open(gene_info_path, 'r') as json_file:\n",
    "    gene_info = json.load(json_file)\n",
    "\n",
    "# FOCUS ON GENE FAMILLY\n",
    "gene_dict = gene_info[gene_familly]\n",
    "df_path = dataset_path+gene_dict['file_code']+\".csv\"\n",
    "\n",
    "# LOAD WHOLE DATASET\n",
    "USE_FULL_DF = True\n",
    "if USE_FULL_DF:\n",
    "    dataset = pd.read_csv(df_path)\n",
    "else:\n",
    "    dataset_ = pd.read_csv(df_path)\n",
    "    r = min(5000/len(dataset_), 1)\n",
    "    _, dataset = train_test_split(dataset_, test_size=r, stratify=dataset_['class'], random_state=42)\n",
    "dataset.head()"
   ]
  },
  {
   "cell_type": "code",
   "execution_count": 4,
   "id": "745dff8f-540b-4299-a3f0-dabda69bd837",
   "metadata": {
    "execution": {
     "iopub.execute_input": "2024-07-04T12:37:56.691267Z",
     "iopub.status.busy": "2024-07-04T12:37:56.691113Z",
     "iopub.status.idle": "2024-07-04T12:37:56.702456Z",
     "shell.execute_reply": "2024-07-04T12:37:56.702140Z"
    },
    "papermill": {
     "duration": 0.013826,
     "end_time": "2024-07-04T12:37:56.703418",
     "exception": false,
     "start_time": "2024-07-04T12:37:56.689592",
     "status": "completed"
    },
    "tags": []
   },
   "outputs": [],
   "source": [
    "trainset, testset = train_test_split(dataset, test_size=0.2, stratify=dataset['class'], random_state=42)"
   ]
  },
  {
   "cell_type": "code",
   "execution_count": 5,
   "id": "a9b8b47d-48c6-4e94-a378-574904e308ee",
   "metadata": {
    "execution": {
     "iopub.execute_input": "2024-07-04T12:37:56.705946Z",
     "iopub.status.busy": "2024-07-04T12:37:56.705816Z",
     "iopub.status.idle": "2024-07-04T12:37:56.713376Z",
     "shell.execute_reply": "2024-07-04T12:37:56.713088Z"
    },
    "papermill": {
     "duration": 0.00984,
     "end_time": "2024-07-04T12:37:56.714276",
     "exception": false,
     "start_time": "2024-07-04T12:37:56.704436",
     "status": "completed"
    },
    "tags": []
   },
   "outputs": [
    {
     "name": "stderr",
     "output_type": "stream",
     "text": [
      "/var/folders/w8/b_cflrn97k9c15rcrn5t8mmr0000gn/T/ipykernel_22731/2288533763.py:2: FutureWarning: Setting an item of incompatible dtype is deprecated and will raise in a future error of pandas. Value 'MYB' has dtype incompatible with int64, please explicitly cast to a compatible dtype first.\n",
      "  testset_positive.loc[:, 'class'] = gene_familly\n"
     ]
    },
    {
     "data": {
      "text/html": [
       "<div>\n",
       "<style scoped>\n",
       "    .dataframe tbody tr th:only-of-type {\n",
       "        vertical-align: middle;\n",
       "    }\n",
       "\n",
       "    .dataframe tbody tr th {\n",
       "        vertical-align: top;\n",
       "    }\n",
       "\n",
       "    .dataframe thead th {\n",
       "        text-align: right;\n",
       "    }\n",
       "</style>\n",
       "<table border=\"1\" class=\"dataframe\">\n",
       "  <thead>\n",
       "    <tr style=\"text-align: right;\">\n",
       "      <th></th>\n",
       "      <th>id</th>\n",
       "      <th>sequence</th>\n",
       "      <th>length</th>\n",
       "      <th>class</th>\n",
       "    </tr>\n",
       "  </thead>\n",
       "  <tbody>\n",
       "    <tr>\n",
       "      <th>18773</th>\n",
       "      <td>Sopen08g027720.1 -- MYB</td>\n",
       "      <td>MGRQPCCDKLGVKKGPWTAEEDKKLINFILTNGQCCWRAVPKLAGL...</td>\n",
       "      <td>288</td>\n",
       "      <td>MYB</td>\n",
       "    </tr>\n",
       "    <tr>\n",
       "      <th>5057</th>\n",
       "      <td>orange1.1g018763m -- MYB</td>\n",
       "      <td>MKERQRWRAEEDALLRAYVKQYGPKEWSFVSQRMNTPLNRDAKSCL...</td>\n",
       "      <td>351</td>\n",
       "      <td>MYB</td>\n",
       "    </tr>\n",
       "    <tr>\n",
       "      <th>9822</th>\n",
       "      <td>Kalax.0522s0010.1.p -- MYB</td>\n",
       "      <td>MGRPPCCDKSNVKRGLWTAEEDAKILAYVASHGVGNWTLVPQKAGL...</td>\n",
       "      <td>308</td>\n",
       "      <td>MYB</td>\n",
       "    </tr>\n",
       "    <tr>\n",
       "      <th>17551</th>\n",
       "      <td>SapurV1A.0537s0200.3.p -- MYB</td>\n",
       "      <td>MSRTTNECEDGMISKDQTELPLGEEGSYDECTNGVVLKKGPWTSAE...</td>\n",
       "      <td>576</td>\n",
       "      <td>MYB</td>\n",
       "    </tr>\n",
       "    <tr>\n",
       "      <th>6116</th>\n",
       "      <td>XP_010940438.1 -- MYB</td>\n",
       "      <td>MVEEAKTEDGKDDRTLEVSLPLCIPDSDSSCDTTPGAIPGRTNGPT...</td>\n",
       "      <td>600</td>\n",
       "      <td>MYB</td>\n",
       "    </tr>\n",
       "    <tr>\n",
       "      <th>...</th>\n",
       "      <td>...</td>\n",
       "      <td>...</td>\n",
       "      <td>...</td>\n",
       "      <td>...</td>\n",
       "    </tr>\n",
       "    <tr>\n",
       "      <th>1207</th>\n",
       "      <td>KFK45149.1 -- MYB</td>\n",
       "      <td>MGRSPCCDENGLKKGPWTPEEDQKLIDYIHKHGHGSWRALPKLADL...</td>\n",
       "      <td>143</td>\n",
       "      <td>MYB</td>\n",
       "    </tr>\n",
       "    <tr>\n",
       "      <th>3567</th>\n",
       "      <td>Csa10g020500.1 -- MYB</td>\n",
       "      <td>MGRQPCCDKLGVKKGPWTAEEDKKLINFILTNGHCCWRALPKLAGL...</td>\n",
       "      <td>271</td>\n",
       "      <td>MYB</td>\n",
       "    </tr>\n",
       "    <tr>\n",
       "      <th>17147</th>\n",
       "      <td>Rsa1.0_00502.1_g00023.1 -- MYB</td>\n",
       "      <td>MGRPPCCEKIEVKKGPWTPEEDIILVSYIQQHGPGNWRSVPKNTGL...</td>\n",
       "      <td>333</td>\n",
       "      <td>MYB</td>\n",
       "    </tr>\n",
       "    <tr>\n",
       "      <th>21202</th>\n",
       "      <td>XP_015882464.1 -- MYB</td>\n",
       "      <td>MGRHSCCLKQKLRKGLWSPEEDEKLFNYITRFGVGCWSSVPKLAGL...</td>\n",
       "      <td>389</td>\n",
       "      <td>MYB</td>\n",
       "    </tr>\n",
       "    <tr>\n",
       "      <th>10661</th>\n",
       "      <td>MDP0000320772 -- MYB</td>\n",
       "      <td>MGRSPCCDESGLKKGPWTPEEDQKLMKYIQKNGHGSWRALPKLAGL...</td>\n",
       "      <td>345</td>\n",
       "      <td>MYB</td>\n",
       "    </tr>\n",
       "  </tbody>\n",
       "</table>\n",
       "<p>4407 rows × 4 columns</p>\n",
       "</div>"
      ],
      "text/plain": [
       "                                   id  \\\n",
       "18773         Sopen08g027720.1 -- MYB   \n",
       "5057         orange1.1g018763m -- MYB   \n",
       "9822       Kalax.0522s0010.1.p -- MYB   \n",
       "17551   SapurV1A.0537s0200.3.p -- MYB   \n",
       "6116            XP_010940438.1 -- MYB   \n",
       "...                               ...   \n",
       "1207                KFK45149.1 -- MYB   \n",
       "3567            Csa10g020500.1 -- MYB   \n",
       "17147  Rsa1.0_00502.1_g00023.1 -- MYB   \n",
       "21202           XP_015882464.1 -- MYB   \n",
       "10661            MDP0000320772 -- MYB   \n",
       "\n",
       "                                                sequence  length class  \n",
       "18773  MGRQPCCDKLGVKKGPWTAEEDKKLINFILTNGQCCWRAVPKLAGL...     288   MYB  \n",
       "5057   MKERQRWRAEEDALLRAYVKQYGPKEWSFVSQRMNTPLNRDAKSCL...     351   MYB  \n",
       "9822   MGRPPCCDKSNVKRGLWTAEEDAKILAYVASHGVGNWTLVPQKAGL...     308   MYB  \n",
       "17551  MSRTTNECEDGMISKDQTELPLGEEGSYDECTNGVVLKKGPWTSAE...     576   MYB  \n",
       "6116   MVEEAKTEDGKDDRTLEVSLPLCIPDSDSSCDTTPGAIPGRTNGPT...     600   MYB  \n",
       "...                                                  ...     ...   ...  \n",
       "1207   MGRSPCCDENGLKKGPWTPEEDQKLIDYIHKHGHGSWRALPKLADL...     143   MYB  \n",
       "3567   MGRQPCCDKLGVKKGPWTAEEDKKLINFILTNGHCCWRALPKLAGL...     271   MYB  \n",
       "17147  MGRPPCCEKIEVKKGPWTPEEDIILVSYIQQHGPGNWRSVPKNTGL...     333   MYB  \n",
       "21202  MGRHSCCLKQKLRKGLWSPEEDEKLFNYITRFGVGCWSSVPKLAGL...     389   MYB  \n",
       "10661  MGRSPCCDESGLKKGPWTPEEDQKLMKYIQKNGHGSWRALPKLAGL...     345   MYB  \n",
       "\n",
       "[4407 rows x 4 columns]"
      ]
     },
     "execution_count": 5,
     "metadata": {},
     "output_type": "execute_result"
    }
   ],
   "source": [
    "testset_positive = testset[testset['class'] == 1]\n",
    "testset_positive.loc[:, 'class'] = gene_familly\n",
    "testset_positive.loc[:, 'id'] = testset_positive['id'].apply(lambda x: f\"{x} -- {gene_familly}\")\n",
    "testset_positive"
   ]
  },
  {
   "cell_type": "code",
   "execution_count": 6,
   "id": "25a9ad39-47e0-4b0a-9669-c9ed5c6cafa3",
   "metadata": {
    "execution": {
     "iopub.execute_input": "2024-07-04T12:37:56.717287Z",
     "iopub.status.busy": "2024-07-04T12:37:56.717103Z",
     "iopub.status.idle": "2024-07-04T12:37:57.075815Z",
     "shell.execute_reply": "2024-07-04T12:37:57.075451Z"
    },
    "papermill": {
     "duration": 0.361419,
     "end_time": "2024-07-04T12:37:57.076861",
     "exception": false,
     "start_time": "2024-07-04T12:37:56.715442",
     "status": "completed"
    },
    "tags": []
   },
   "outputs": [],
   "source": [
    "testset_positive.to_csv(\"../data/testset/\"+gene_dict['file_code']+\".csv\")\n",
    "trainset.to_csv(\"../data/mix_data/trainset/\"+gene_dict['file_code']+\".csv\")\n",
    "testset.to_csv(\"../data/mix_data/testset/\"+gene_dict['file_code']+\".csv\")"
   ]
  },
  {
   "cell_type": "code",
   "execution_count": null,
   "id": "4107c4c5-3c5d-44f9-af27-5b81b6d102e5",
   "metadata": {
    "papermill": {
     "duration": 0.001097,
     "end_time": "2024-07-04T12:37:57.079342",
     "exception": false,
     "start_time": "2024-07-04T12:37:57.078245",
     "status": "completed"
    },
    "tags": []
   },
   "outputs": [],
   "source": []
  }
 ],
 "metadata": {
  "kernelspec": {
   "display_name": "Python 3 (ipykernel)",
   "language": "python",
   "name": "python3"
  },
  "language_info": {
   "codemirror_mode": {
    "name": "ipython",
    "version": 3
   },
   "file_extension": ".py",
   "mimetype": "text/x-python",
   "name": "python",
   "nbconvert_exporter": "python",
   "pygments_lexer": "ipython3",
   "version": "3.11.7"
  },
  "papermill": {
   "default_parameters": {},
   "duration": 2.359625,
   "end_time": "2024-07-04T12:37:57.398094",
   "environment_variables": {},
   "exception": null,
   "input_path": "05-extract_testset-0.ipynb",
   "output_path": "AutoSave/TestGen/05-extract_testset-0-MYB.ipynb",
   "parameters": {
    "gene_familly": "MYB"
   },
   "start_time": "2024-07-04T12:37:55.038469",
   "version": "2.6.0"
  }
 },
 "nbformat": 4,
 "nbformat_minor": 5
}