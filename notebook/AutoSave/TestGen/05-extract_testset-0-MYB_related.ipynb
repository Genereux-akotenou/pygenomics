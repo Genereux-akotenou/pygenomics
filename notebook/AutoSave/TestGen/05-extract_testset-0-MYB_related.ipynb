{
 "cells": [
  {
   "cell_type": "code",
   "execution_count": 1,
   "id": "df8e85b7",
   "metadata": {
    "execution": {
     "iopub.execute_input": "2024-07-04T12:37:58.187412Z",
     "iopub.status.busy": "2024-07-04T12:37:58.187207Z",
     "iopub.status.idle": "2024-07-04T12:37:58.192225Z",
     "shell.execute_reply": "2024-07-04T12:37:58.191825Z"
    },
    "papermill": {
     "duration": 0.008028,
     "end_time": "2024-07-04T12:37:58.193183",
     "exception": false,
     "start_time": "2024-07-04T12:37:58.185155",
     "status": "completed"
    },
    "tags": [
     "injected-parameters"
    ]
   },
   "outputs": [],
   "source": [
    "# Parameters\n",
    "gene_familly = \"MYB_related\"\n"
   ]
  },
  {
   "cell_type": "code",
   "execution_count": 2,
   "id": "e7cdbe25-11a6-48da-abd4-9ae5eee27bfe",
   "metadata": {
    "execution": {
     "iopub.execute_input": "2024-07-04T12:37:58.195626Z",
     "iopub.status.busy": "2024-07-04T12:37:58.195476Z",
     "iopub.status.idle": "2024-07-04T12:37:58.909913Z",
     "shell.execute_reply": "2024-07-04T12:37:58.909477Z"
    },
    "papermill": {
     "duration": 0.716991,
     "end_time": "2024-07-04T12:37:58.911184",
     "exception": false,
     "start_time": "2024-07-04T12:37:58.194193",
     "status": "completed"
    },
    "tags": []
   },
   "outputs": [],
   "source": [
    "import json\n",
    "import pandas as pd\n",
    "from sklearn.model_selection import train_test_split"
   ]
  },
  {
   "cell_type": "code",
   "execution_count": 3,
   "id": "6e20f340-8cbc-46f2-be83-6f1c4523930a",
   "metadata": {
    "execution": {
     "iopub.execute_input": "2024-07-04T12:37:58.914316Z",
     "iopub.status.busy": "2024-07-04T12:37:58.913919Z",
     "iopub.status.idle": "2024-07-04T12:37:59.053965Z",
     "shell.execute_reply": "2024-07-04T12:37:59.053609Z"
    },
    "papermill": {
     "duration": 0.142595,
     "end_time": "2024-07-04T12:37:59.054930",
     "exception": false,
     "start_time": "2024-07-04T12:37:58.912335",
     "status": "completed"
    },
    "tags": []
   },
   "outputs": [
    {
     "data": {
      "text/html": [
       "<div>\n",
       "<style scoped>\n",
       "    .dataframe tbody tr th:only-of-type {\n",
       "        vertical-align: middle;\n",
       "    }\n",
       "\n",
       "    .dataframe tbody tr th {\n",
       "        vertical-align: top;\n",
       "    }\n",
       "\n",
       "    .dataframe thead th {\n",
       "        text-align: right;\n",
       "    }\n",
       "</style>\n",
       "<table border=\"1\" class=\"dataframe\">\n",
       "  <thead>\n",
       "    <tr style=\"text-align: right;\">\n",
       "      <th></th>\n",
       "      <th>id</th>\n",
       "      <th>sequence</th>\n",
       "      <th>length</th>\n",
       "      <th>class</th>\n",
       "    </tr>\n",
       "  </thead>\n",
       "  <tbody>\n",
       "    <tr>\n",
       "      <th>0</th>\n",
       "      <td>Achn001361</td>\n",
       "      <td>MTRRCSHCSHNGHNSRTCPNRGVKLFGVRLIDGSIRKSASMGNLTH...</td>\n",
       "      <td>343</td>\n",
       "      <td>1</td>\n",
       "    </tr>\n",
       "    <tr>\n",
       "      <th>1</th>\n",
       "      <td>Achn003861</td>\n",
       "      <td>MGKDSKKERRSETNASKEASDYAGIVSDRVGDGSEVNKEAKRKQKY...</td>\n",
       "      <td>630</td>\n",
       "      <td>1</td>\n",
       "    </tr>\n",
       "    <tr>\n",
       "      <th>2</th>\n",
       "      <td>Achn003881</td>\n",
       "      <td>MGKDSKKERRSETNASKEASDYAGIVSDRVGDGSEVNKEAKRKQKY...</td>\n",
       "      <td>630</td>\n",
       "      <td>1</td>\n",
       "    </tr>\n",
       "    <tr>\n",
       "      <th>3</th>\n",
       "      <td>Achn005711</td>\n",
       "      <td>MASRTISSGLQRCGKSCRLRWINYLRPDIRRGRFTPEEEKLIISLH...</td>\n",
       "      <td>276</td>\n",
       "      <td>1</td>\n",
       "    </tr>\n",
       "    <tr>\n",
       "      <th>4</th>\n",
       "      <td>Achn006751</td>\n",
       "      <td>MQLRIKNYRSINKQSHRYGPLSGQDFPYNNFFPTHFSKEMASMSSR...</td>\n",
       "      <td>210</td>\n",
       "      <td>1</td>\n",
       "    </tr>\n",
       "  </tbody>\n",
       "</table>\n",
       "</div>"
      ],
      "text/plain": [
       "           id                                           sequence  length  \\\n",
       "0  Achn001361  MTRRCSHCSHNGHNSRTCPNRGVKLFGVRLIDGSIRKSASMGNLTH...     343   \n",
       "1  Achn003861  MGKDSKKERRSETNASKEASDYAGIVSDRVGDGSEVNKEAKRKQKY...     630   \n",
       "2  Achn003881  MGKDSKKERRSETNASKEASDYAGIVSDRVGDGSEVNKEAKRKQKY...     630   \n",
       "3  Achn005711  MASRTISSGLQRCGKSCRLRWINYLRPDIRRGRFTPEEEKLIISLH...     276   \n",
       "4  Achn006751  MQLRIKNYRSINKQSHRYGPLSGQDFPYNNFFPTHFSKEMASMSSR...     210   \n",
       "\n",
       "   class  \n",
       "0      1  \n",
       "1      1  \n",
       "2      1  \n",
       "3      1  \n",
       "4      1  "
      ]
     },
     "execution_count": 3,
     "metadata": {},
     "output_type": "execute_result"
    }
   ],
   "source": [
    "# READ GENE_INFO JSON FILE\n",
    "gene_info_path = \"../data/gene_info.json\"\n",
    "dataset_path   = \"../data/one_vs_other/\"\n",
    "with open(gene_info_path, 'r') as json_file:\n",
    "    gene_info = json.load(json_file)\n",
    "\n",
    "# FOCUS ON GENE FAMILLY\n",
    "gene_dict = gene_info[gene_familly]\n",
    "df_path = dataset_path+gene_dict['file_code']+\".csv\"\n",
    "\n",
    "# LOAD WHOLE DATASET\n",
    "USE_FULL_DF = True\n",
    "if USE_FULL_DF:\n",
    "    dataset = pd.read_csv(df_path)\n",
    "else:\n",
    "    dataset_ = pd.read_csv(df_path)\n",
    "    r = min(5000/len(dataset_), 1)\n",
    "    _, dataset = train_test_split(dataset_, test_size=r, stratify=dataset_['class'], random_state=42)\n",
    "dataset.head()"
   ]
  },
  {
   "cell_type": "code",
   "execution_count": 4,
   "id": "745dff8f-540b-4299-a3f0-dabda69bd837",
   "metadata": {
    "execution": {
     "iopub.execute_input": "2024-07-04T12:37:59.058931Z",
     "iopub.status.busy": "2024-07-04T12:37:59.058766Z",
     "iopub.status.idle": "2024-07-04T12:37:59.068028Z",
     "shell.execute_reply": "2024-07-04T12:37:59.067641Z"
    },
    "papermill": {
     "duration": 0.011876,
     "end_time": "2024-07-04T12:37:59.069027",
     "exception": false,
     "start_time": "2024-07-04T12:37:59.057151",
     "status": "completed"
    },
    "tags": []
   },
   "outputs": [],
   "source": [
    "trainset, testset = train_test_split(dataset, test_size=0.2, stratify=dataset['class'], random_state=42)"
   ]
  },
  {
   "cell_type": "code",
   "execution_count": 5,
   "id": "a9b8b47d-48c6-4e94-a378-574904e308ee",
   "metadata": {
    "execution": {
     "iopub.execute_input": "2024-07-04T12:37:59.071713Z",
     "iopub.status.busy": "2024-07-04T12:37:59.071566Z",
     "iopub.status.idle": "2024-07-04T12:37:59.079243Z",
     "shell.execute_reply": "2024-07-04T12:37:59.078948Z"
    },
    "papermill": {
     "duration": 0.01004,
     "end_time": "2024-07-04T12:37:59.080119",
     "exception": false,
     "start_time": "2024-07-04T12:37:59.070079",
     "status": "completed"
    },
    "tags": []
   },
   "outputs": [
    {
     "name": "stderr",
     "output_type": "stream",
     "text": [
      "/var/folders/w8/b_cflrn97k9c15rcrn5t8mmr0000gn/T/ipykernel_22738/2288533763.py:2: FutureWarning: Setting an item of incompatible dtype is deprecated and will raise in a future error of pandas. Value 'MYB_related' has dtype incompatible with int64, please explicitly cast to a compatible dtype first.\n",
      "  testset_positive.loc[:, 'class'] = gene_familly\n"
     ]
    },
    {
     "data": {
      "text/html": [
       "<div>\n",
       "<style scoped>\n",
       "    .dataframe tbody tr th:only-of-type {\n",
       "        vertical-align: middle;\n",
       "    }\n",
       "\n",
       "    .dataframe tbody tr th {\n",
       "        vertical-align: top;\n",
       "    }\n",
       "\n",
       "    .dataframe thead th {\n",
       "        text-align: right;\n",
       "    }\n",
       "</style>\n",
       "<table border=\"1\" class=\"dataframe\">\n",
       "  <thead>\n",
       "    <tr style=\"text-align: right;\">\n",
       "      <th></th>\n",
       "      <th>id</th>\n",
       "      <th>sequence</th>\n",
       "      <th>length</th>\n",
       "      <th>class</th>\n",
       "    </tr>\n",
       "  </thead>\n",
       "  <tbody>\n",
       "    <tr>\n",
       "      <th>12456</th>\n",
       "      <td>XP_011093084.1 -- MYB_related</td>\n",
       "      <td>MVSVYPNPPPDQNFTYFYSYMGGDPMKIPGVNRSDGHLLQATAIGN...</td>\n",
       "      <td>321</td>\n",
       "      <td>MYB_related</td>\n",
       "    </tr>\n",
       "    <tr>\n",
       "      <th>7385</th>\n",
       "      <td>Migut.D00054.2.p -- MYB_related</td>\n",
       "      <td>MDAKDILGLPKNLPIQEKKSKPPKESQRKPDGISREVYALTGGLAP...</td>\n",
       "      <td>448</td>\n",
       "      <td>MYB_related</td>\n",
       "    </tr>\n",
       "    <tr>\n",
       "      <th>12818</th>\n",
       "      <td>Solyc03g113620.2.1 -- MYB_related</td>\n",
       "      <td>MMSSFCSQSANDGHNSFTCAGESSPAAVSVGGGVGGGGEIMLFGVR...</td>\n",
       "      <td>316</td>\n",
       "      <td>MYB_related</td>\n",
       "    </tr>\n",
       "    <tr>\n",
       "      <th>3966</th>\n",
       "      <td>Do017444.1 -- MYB_related</td>\n",
       "      <td>MPGRILFRARRHRQEPSPLVAWGWRGVEWSGQWSSITDLDWFLLKL...</td>\n",
       "      <td>247</td>\n",
       "      <td>MYB_related</td>\n",
       "    </tr>\n",
       "    <tr>\n",
       "      <th>11411</th>\n",
       "      <td>PSME_00027978-RA -- MYB_related</td>\n",
       "      <td>MRISPSFLYMESLGISIYLPSSILYRLDFIDGNEEVSLDTLRLHFF...</td>\n",
       "      <td>338</td>\n",
       "      <td>MYB_related</td>\n",
       "    </tr>\n",
       "    <tr>\n",
       "      <th>...</th>\n",
       "      <td>...</td>\n",
       "      <td>...</td>\n",
       "      <td>...</td>\n",
       "      <td>...</td>\n",
       "    </tr>\n",
       "    <tr>\n",
       "      <th>8594</th>\n",
       "      <td>OBART02G34530.1 -- MYB_related</td>\n",
       "      <td>MDKIPRLVSSAPCAISRLNRGGAPISVWRAEQGEGILVGGPQDALD...</td>\n",
       "      <td>656</td>\n",
       "      <td>MYB_related</td>\n",
       "    </tr>\n",
       "    <tr>\n",
       "      <th>8556</th>\n",
       "      <td>Oropetium_20150105_22912A -- MYB_related</td>\n",
       "      <td>MGVPKQRWTSEEEAALRAGVAKHGVGNWRTILKDPEFSSTLRYRSN...</td>\n",
       "      <td>302</td>\n",
       "      <td>MYB_related</td>\n",
       "    </tr>\n",
       "    <tr>\n",
       "      <th>14487</th>\n",
       "      <td>Vang11g04720.2 -- MYB_related</td>\n",
       "      <td>MGAPKQKWTAEEEAALKAGVVKHGAGKWRTILTDPEFSAILRMRSN...</td>\n",
       "      <td>192</td>\n",
       "      <td>MYB_related</td>\n",
       "    </tr>\n",
       "    <tr>\n",
       "      <th>7796</th>\n",
       "      <td>Niben101Scf04988g01015.1 -- MYB_related</td>\n",
       "      <td>MAVMAVVTEKKCVRPLPVITGSGQPLDLFKLYWIVRKIGGYDRVSS...</td>\n",
       "      <td>606</td>\n",
       "      <td>MYB_related</td>\n",
       "    </tr>\n",
       "    <tr>\n",
       "      <th>10473</th>\n",
       "      <td>Pp3c11_23240V3.3.p -- MYB_related</td>\n",
       "      <td>MASARRPRTTSKPTTRIAGGVDRDEDGIGKSKFRKRKLTDILGPPW...</td>\n",
       "      <td>1291</td>\n",
       "      <td>MYB_related</td>\n",
       "    </tr>\n",
       "  </tbody>\n",
       "</table>\n",
       "<p>3074 rows × 4 columns</p>\n",
       "</div>"
      ],
      "text/plain": [
       "                                             id  \\\n",
       "12456             XP_011093084.1 -- MYB_related   \n",
       "7385            Migut.D00054.2.p -- MYB_related   \n",
       "12818         Solyc03g113620.2.1 -- MYB_related   \n",
       "3966                  Do017444.1 -- MYB_related   \n",
       "11411           PSME_00027978-RA -- MYB_related   \n",
       "...                                         ...   \n",
       "8594             OBART02G34530.1 -- MYB_related   \n",
       "8556   Oropetium_20150105_22912A -- MYB_related   \n",
       "14487             Vang11g04720.2 -- MYB_related   \n",
       "7796    Niben101Scf04988g01015.1 -- MYB_related   \n",
       "10473         Pp3c11_23240V3.3.p -- MYB_related   \n",
       "\n",
       "                                                sequence  length        class  \n",
       "12456  MVSVYPNPPPDQNFTYFYSYMGGDPMKIPGVNRSDGHLLQATAIGN...     321  MYB_related  \n",
       "7385   MDAKDILGLPKNLPIQEKKSKPPKESQRKPDGISREVYALTGGLAP...     448  MYB_related  \n",
       "12818  MMSSFCSQSANDGHNSFTCAGESSPAAVSVGGGVGGGGEIMLFGVR...     316  MYB_related  \n",
       "3966   MPGRILFRARRHRQEPSPLVAWGWRGVEWSGQWSSITDLDWFLLKL...     247  MYB_related  \n",
       "11411  MRISPSFLYMESLGISIYLPSSILYRLDFIDGNEEVSLDTLRLHFF...     338  MYB_related  \n",
       "...                                                  ...     ...          ...  \n",
       "8594   MDKIPRLVSSAPCAISRLNRGGAPISVWRAEQGEGILVGGPQDALD...     656  MYB_related  \n",
       "8556   MGVPKQRWTSEEEAALRAGVAKHGVGNWRTILKDPEFSSTLRYRSN...     302  MYB_related  \n",
       "14487  MGAPKQKWTAEEEAALKAGVVKHGAGKWRTILTDPEFSAILRMRSN...     192  MYB_related  \n",
       "7796   MAVMAVVTEKKCVRPLPVITGSGQPLDLFKLYWIVRKIGGYDRVSS...     606  MYB_related  \n",
       "10473  MASARRPRTTSKPTTRIAGGVDRDEDGIGKSKFRKRKLTDILGPPW...    1291  MYB_related  \n",
       "\n",
       "[3074 rows x 4 columns]"
      ]
     },
     "execution_count": 5,
     "metadata": {},
     "output_type": "execute_result"
    }
   ],
   "source": [
    "testset_positive = testset[testset['class'] == 1]\n",
    "testset_positive.loc[:, 'class'] = gene_familly\n",
    "testset_positive.loc[:, 'id'] = testset_positive['id'].apply(lambda x: f\"{x} -- {gene_familly}\")\n",
    "testset_positive"
   ]
  },
  {
   "cell_type": "code",
   "execution_count": 6,
   "id": "25a9ad39-47e0-4b0a-9669-c9ed5c6cafa3",
   "metadata": {
    "execution": {
     "iopub.execute_input": "2024-07-04T12:37:59.083054Z",
     "iopub.status.busy": "2024-07-04T12:37:59.082902Z",
     "iopub.status.idle": "2024-07-04T12:37:59.342557Z",
     "shell.execute_reply": "2024-07-04T12:37:59.342158Z"
    },
    "papermill": {
     "duration": 0.262263,
     "end_time": "2024-07-04T12:37:59.343542",
     "exception": false,
     "start_time": "2024-07-04T12:37:59.081279",
     "status": "completed"
    },
    "tags": []
   },
   "outputs": [],
   "source": [
    "testset_positive.to_csv(\"../data/testset/\"+gene_dict['file_code']+\".csv\")\n",
    "trainset.to_csv(\"../data/mix_data/trainset/\"+gene_dict['file_code']+\".csv\")\n",
    "testset.to_csv(\"../data/mix_data/testset/\"+gene_dict['file_code']+\".csv\")"
   ]
  },
  {
   "cell_type": "code",
   "execution_count": null,
   "id": "4107c4c5-3c5d-44f9-af27-5b81b6d102e5",
   "metadata": {
    "papermill": {
     "duration": 0.001187,
     "end_time": "2024-07-04T12:37:59.346024",
     "exception": false,
     "start_time": "2024-07-04T12:37:59.344837",
     "status": "completed"
    },
    "tags": []
   },
   "outputs": [],
   "source": []
  }
 ],
 "metadata": {
  "kernelspec": {
   "display_name": "Python 3 (ipykernel)",
   "language": "python",
   "name": "python3"
  },
  "language_info": {
   "codemirror_mode": {
    "name": "ipython",
    "version": 3
   },
   "file_extension": ".py",
   "mimetype": "text/x-python",
   "name": "python",
   "nbconvert_exporter": "python",
   "pygments_lexer": "ipython3",
   "version": "3.11.7"
  },
  "papermill": {
   "default_parameters": {},
   "duration": 2.262933,
   "end_time": "2024-07-04T12:37:59.664669",
   "environment_variables": {},
   "exception": null,
   "input_path": "05-extract_testset-0.ipynb",
   "output_path": "AutoSave/TestGen/05-extract_testset-0-MYB_related.ipynb",
   "parameters": {
    "gene_familly": "MYB_related"
   },
   "start_time": "2024-07-04T12:37:57.401736",
   "version": "2.6.0"
  }
 },
 "nbformat": 4,
 "nbformat_minor": 5
}