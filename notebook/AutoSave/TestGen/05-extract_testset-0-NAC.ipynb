{
 "cells": [
  {
   "cell_type": "code",
   "execution_count": 1,
   "id": "87b9c25c",
   "metadata": {
    "execution": {
     "iopub.execute_input": "2024-07-04T12:38:00.473351Z",
     "iopub.status.busy": "2024-07-04T12:38:00.473166Z",
     "iopub.status.idle": "2024-07-04T12:38:00.477998Z",
     "shell.execute_reply": "2024-07-04T12:38:00.477675Z"
    },
    "papermill": {
     "duration": 0.008305,
     "end_time": "2024-07-04T12:38:00.479033",
     "exception": false,
     "start_time": "2024-07-04T12:38:00.470728",
     "status": "completed"
    },
    "tags": [
     "injected-parameters"
    ]
   },
   "outputs": [],
   "source": [
    "# Parameters\n",
    "gene_familly = \"NAC\"\n"
   ]
  },
  {
   "cell_type": "code",
   "execution_count": 2,
   "id": "e7cdbe25-11a6-48da-abd4-9ae5eee27bfe",
   "metadata": {
    "execution": {
     "iopub.execute_input": "2024-07-04T12:38:00.481616Z",
     "iopub.status.busy": "2024-07-04T12:38:00.481478Z",
     "iopub.status.idle": "2024-07-04T12:38:01.181585Z",
     "shell.execute_reply": "2024-07-04T12:38:01.181106Z"
    },
    "papermill": {
     "duration": 0.702608,
     "end_time": "2024-07-04T12:38:01.182806",
     "exception": false,
     "start_time": "2024-07-04T12:38:00.480198",
     "status": "completed"
    },
    "tags": []
   },
   "outputs": [],
   "source": [
    "import json\n",
    "import pandas as pd\n",
    "from sklearn.model_selection import train_test_split"
   ]
  },
  {
   "cell_type": "code",
   "execution_count": 3,
   "id": "6e20f340-8cbc-46f2-be83-6f1c4523930a",
   "metadata": {
    "execution": {
     "iopub.execute_input": "2024-07-04T12:38:01.185729Z",
     "iopub.status.busy": "2024-07-04T12:38:01.185503Z",
     "iopub.status.idle": "2024-07-04T12:38:01.353799Z",
     "shell.execute_reply": "2024-07-04T12:38:01.353432Z"
    },
    "papermill": {
     "duration": 0.170908,
     "end_time": "2024-07-04T12:38:01.354864",
     "exception": false,
     "start_time": "2024-07-04T12:38:01.183956",
     "status": "completed"
    },
    "tags": []
   },
   "outputs": [
    {
     "data": {
      "text/html": [
       "<div>\n",
       "<style scoped>\n",
       "    .dataframe tbody tr th:only-of-type {\n",
       "        vertical-align: middle;\n",
       "    }\n",
       "\n",
       "    .dataframe tbody tr th {\n",
       "        vertical-align: top;\n",
       "    }\n",
       "\n",
       "    .dataframe thead th {\n",
       "        text-align: right;\n",
       "    }\n",
       "</style>\n",
       "<table border=\"1\" class=\"dataframe\">\n",
       "  <thead>\n",
       "    <tr style=\"text-align: right;\">\n",
       "      <th></th>\n",
       "      <th>id</th>\n",
       "      <th>sequence</th>\n",
       "      <th>length</th>\n",
       "      <th>class</th>\n",
       "    </tr>\n",
       "  </thead>\n",
       "  <tbody>\n",
       "    <tr>\n",
       "      <th>0</th>\n",
       "      <td>Achn000661</td>\n",
       "      <td>MARPSLPPGFRFHPTDVELVKYYLKRKVMGKGFPFEAISELNIYNY...</td>\n",
       "      <td>538</td>\n",
       "      <td>1</td>\n",
       "    </tr>\n",
       "    <tr>\n",
       "      <th>1</th>\n",
       "      <td>Achn002691</td>\n",
       "      <td>MNTFSHVPPGFRFHPTDEELVDYYLRKKIASRRIDLDVIKDVDLYK...</td>\n",
       "      <td>343</td>\n",
       "      <td>1</td>\n",
       "    </tr>\n",
       "    <tr>\n",
       "      <th>2</th>\n",
       "      <td>Achn003771</td>\n",
       "      <td>MAHNLGEITPPPASGTSLAPGFRFHPTDEELVQYYLKRKACGKPFR...</td>\n",
       "      <td>399</td>\n",
       "      <td>1</td>\n",
       "    </tr>\n",
       "    <tr>\n",
       "      <th>3</th>\n",
       "      <td>Achn003781</td>\n",
       "      <td>MRSRNGNPRTPPVAYTKLVVYYLKSKISGKSFRFDAIAEIDVYKSE...</td>\n",
       "      <td>538</td>\n",
       "      <td>1</td>\n",
       "    </tr>\n",
       "    <tr>\n",
       "      <th>4</th>\n",
       "      <td>Achn004191</td>\n",
       "      <td>MAVTFPVGFLFRPTDKEIIKHYLLKKQMGEELPLNGVIQEGDVFSE...</td>\n",
       "      <td>361</td>\n",
       "      <td>1</td>\n",
       "    </tr>\n",
       "  </tbody>\n",
       "</table>\n",
       "</div>"
      ],
      "text/plain": [
       "           id                                           sequence  length  \\\n",
       "0  Achn000661  MARPSLPPGFRFHPTDVELVKYYLKRKVMGKGFPFEAISELNIYNY...     538   \n",
       "1  Achn002691  MNTFSHVPPGFRFHPTDEELVDYYLRKKIASRRIDLDVIKDVDLYK...     343   \n",
       "2  Achn003771  MAHNLGEITPPPASGTSLAPGFRFHPTDEELVQYYLKRKACGKPFR...     399   \n",
       "3  Achn003781  MRSRNGNPRTPPVAYTKLVVYYLKSKISGKSFRFDAIAEIDVYKSE...     538   \n",
       "4  Achn004191  MAVTFPVGFLFRPTDKEIIKHYLLKKQMGEELPLNGVIQEGDVFSE...     361   \n",
       "\n",
       "   class  \n",
       "0      1  \n",
       "1      1  \n",
       "2      1  \n",
       "3      1  \n",
       "4      1  "
      ]
     },
     "execution_count": 3,
     "metadata": {},
     "output_type": "execute_result"
    }
   ],
   "source": [
    "# READ GENE_INFO JSON FILE\n",
    "gene_info_path = \"../data/gene_info.json\"\n",
    "dataset_path   = \"../data/one_vs_other/\"\n",
    "with open(gene_info_path, 'r') as json_file:\n",
    "    gene_info = json.load(json_file)\n",
    "\n",
    "# FOCUS ON GENE FAMILLY\n",
    "gene_dict = gene_info[gene_familly]\n",
    "df_path = dataset_path+gene_dict['file_code']+\".csv\"\n",
    "\n",
    "# LOAD WHOLE DATASET\n",
    "USE_FULL_DF = True\n",
    "if USE_FULL_DF:\n",
    "    dataset = pd.read_csv(df_path)\n",
    "else:\n",
    "    dataset_ = pd.read_csv(df_path)\n",
    "    r = min(5000/len(dataset_), 1)\n",
    "    _, dataset = train_test_split(dataset_, test_size=r, stratify=dataset_['class'], random_state=42)\n",
    "dataset.head()"
   ]
  },
  {
   "cell_type": "code",
   "execution_count": 4,
   "id": "745dff8f-540b-4299-a3f0-dabda69bd837",
   "metadata": {
    "execution": {
     "iopub.execute_input": "2024-07-04T12:38:01.357690Z",
     "iopub.status.busy": "2024-07-04T12:38:01.357536Z",
     "iopub.status.idle": "2024-07-04T12:38:01.369187Z",
     "shell.execute_reply": "2024-07-04T12:38:01.368865Z"
    },
    "papermill": {
     "duration": 0.014144,
     "end_time": "2024-07-04T12:38:01.370174",
     "exception": false,
     "start_time": "2024-07-04T12:38:01.356030",
     "status": "completed"
    },
    "tags": []
   },
   "outputs": [],
   "source": [
    "trainset, testset = train_test_split(dataset, test_size=0.2, stratify=dataset['class'], random_state=42)"
   ]
  },
  {
   "cell_type": "code",
   "execution_count": 5,
   "id": "a9b8b47d-48c6-4e94-a378-574904e308ee",
   "metadata": {
    "execution": {
     "iopub.execute_input": "2024-07-04T12:38:01.372689Z",
     "iopub.status.busy": "2024-07-04T12:38:01.372563Z",
     "iopub.status.idle": "2024-07-04T12:38:01.380024Z",
     "shell.execute_reply": "2024-07-04T12:38:01.379720Z"
    },
    "papermill": {
     "duration": 0.009738,
     "end_time": "2024-07-04T12:38:01.380910",
     "exception": false,
     "start_time": "2024-07-04T12:38:01.371172",
     "status": "completed"
    },
    "tags": []
   },
   "outputs": [
    {
     "name": "stderr",
     "output_type": "stream",
     "text": [
      "/var/folders/w8/b_cflrn97k9c15rcrn5t8mmr0000gn/T/ipykernel_22744/2288533763.py:2: FutureWarning: Setting an item of incompatible dtype is deprecated and will raise in a future error of pandas. Value 'NAC' has dtype incompatible with int64, please explicitly cast to a compatible dtype first.\n",
      "  testset_positive.loc[:, 'class'] = gene_familly\n"
     ]
    },
    {
     "data": {
      "text/html": [
       "<div>\n",
       "<style scoped>\n",
       "    .dataframe tbody tr th:only-of-type {\n",
       "        vertical-align: middle;\n",
       "    }\n",
       "\n",
       "    .dataframe tbody tr th {\n",
       "        vertical-align: top;\n",
       "    }\n",
       "\n",
       "    .dataframe thead th {\n",
       "        text-align: right;\n",
       "    }\n",
       "</style>\n",
       "<table border=\"1\" class=\"dataframe\">\n",
       "  <thead>\n",
       "    <tr style=\"text-align: right;\">\n",
       "      <th></th>\n",
       "      <th>id</th>\n",
       "      <th>sequence</th>\n",
       "      <th>length</th>\n",
       "      <th>class</th>\n",
       "    </tr>\n",
       "  </thead>\n",
       "  <tbody>\n",
       "    <tr>\n",
       "      <th>19366</th>\n",
       "      <td>Zjn_sc00015.1.g08110.1.am.mkhc -- NAC</td>\n",
       "      <td>MPLAFLMAQATTTAPSLLPRHKTFPNPTNPVQPYQRRRRCWPMTLP...</td>\n",
       "      <td>474</td>\n",
       "      <td>NAC</td>\n",
       "    </tr>\n",
       "    <tr>\n",
       "      <th>19008</th>\n",
       "      <td>GRMZM2G068973_P01 -- NAC</td>\n",
       "      <td>MAMVAAQGGGRRDAEAELNLPPGFRFHPTDEELVVHYLCRKVACQQ...</td>\n",
       "      <td>308</td>\n",
       "      <td>NAC</td>\n",
       "    </tr>\n",
       "    <tr>\n",
       "      <th>16300</th>\n",
       "      <td>XP_011074495.1 -- NAC</td>\n",
       "      <td>MCPPPQTPPPAEIGSNWSDEQIISLLDGYKPGSSLPNNVLADSSPY...</td>\n",
       "      <td>387</td>\n",
       "      <td>NAC</td>\n",
       "    </tr>\n",
       "    <tr>\n",
       "      <th>3436</th>\n",
       "      <td>PK20135.1 -- NAC</td>\n",
       "      <td>MGVPEMDPLSQLSLPPGFRFFPTDEELLVQYLCRKVAGHHFSLEII...</td>\n",
       "      <td>352</td>\n",
       "      <td>NAC</td>\n",
       "    </tr>\n",
       "    <tr>\n",
       "      <th>1539</th>\n",
       "      <td>Bostr.0124s0082.1.p -- NAC</td>\n",
       "      <td>MGIQETDPLAQLSLPPGFRFYPTDEELMVQYLCKKAAGYDFSLQLI...</td>\n",
       "      <td>319</td>\n",
       "      <td>NAC</td>\n",
       "    </tr>\n",
       "    <tr>\n",
       "      <th>...</th>\n",
       "      <td>...</td>\n",
       "      <td>...</td>\n",
       "      <td>...</td>\n",
       "      <td>...</td>\n",
       "    </tr>\n",
       "    <tr>\n",
       "      <th>19189</th>\n",
       "      <td>XP_015880381.1 -- NAC</td>\n",
       "      <td>MELPAPVPVPSLKGWRFRPTDDDLVGYYLLREVTGCPFSRVGIAHD...</td>\n",
       "      <td>216</td>\n",
       "      <td>NAC</td>\n",
       "    </tr>\n",
       "    <tr>\n",
       "      <th>14185</th>\n",
       "      <td>Pta003401 -- NAC</td>\n",
       "      <td>XEREEALQIGAGLPSGVKFDPSDQELIEHLQGKISSDNSSPHPLID...</td>\n",
       "      <td>282</td>\n",
       "      <td>NAC</td>\n",
       "    </tr>\n",
       "    <tr>\n",
       "      <th>2395</th>\n",
       "      <td>GSBRNA2T00150497001 -- NAC</td>\n",
       "      <td>MVEKPGFEFRPYDEELVGFYLRQKLLGNHSLVDGVIREIKICSLDP...</td>\n",
       "      <td>476</td>\n",
       "      <td>NAC</td>\n",
       "    </tr>\n",
       "    <tr>\n",
       "      <th>7699</th>\n",
       "      <td>HL.SW.v1.0.G031875.1 -- NAC</td>\n",
       "      <td>MAVGEMNVSSLNTLPLGFRFRPTDEELIDFYLRLKINGKDEQVSVI...</td>\n",
       "      <td>565</td>\n",
       "      <td>NAC</td>\n",
       "    </tr>\n",
       "    <tr>\n",
       "      <th>3215</th>\n",
       "      <td>Csa11g055650.1 -- NAC</td>\n",
       "      <td>MDYQASRICEMVEDEEQIDLPPGFRFHPTDEELITHYLKQKVFNTF...</td>\n",
       "      <td>291</td>\n",
       "      <td>NAC</td>\n",
       "    </tr>\n",
       "  </tbody>\n",
       "</table>\n",
       "<p>3999 rows × 4 columns</p>\n",
       "</div>"
      ],
      "text/plain": [
       "                                          id  \\\n",
       "19366  Zjn_sc00015.1.g08110.1.am.mkhc -- NAC   \n",
       "19008               GRMZM2G068973_P01 -- NAC   \n",
       "16300                  XP_011074495.1 -- NAC   \n",
       "3436                        PK20135.1 -- NAC   \n",
       "1539              Bostr.0124s0082.1.p -- NAC   \n",
       "...                                      ...   \n",
       "19189                  XP_015880381.1 -- NAC   \n",
       "14185                       Pta003401 -- NAC   \n",
       "2395              GSBRNA2T00150497001 -- NAC   \n",
       "7699             HL.SW.v1.0.G031875.1 -- NAC   \n",
       "3215                   Csa11g055650.1 -- NAC   \n",
       "\n",
       "                                                sequence  length class  \n",
       "19366  MPLAFLMAQATTTAPSLLPRHKTFPNPTNPVQPYQRRRRCWPMTLP...     474   NAC  \n",
       "19008  MAMVAAQGGGRRDAEAELNLPPGFRFHPTDEELVVHYLCRKVACQQ...     308   NAC  \n",
       "16300  MCPPPQTPPPAEIGSNWSDEQIISLLDGYKPGSSLPNNVLADSSPY...     387   NAC  \n",
       "3436   MGVPEMDPLSQLSLPPGFRFFPTDEELLVQYLCRKVAGHHFSLEII...     352   NAC  \n",
       "1539   MGIQETDPLAQLSLPPGFRFYPTDEELMVQYLCKKAAGYDFSLQLI...     319   NAC  \n",
       "...                                                  ...     ...   ...  \n",
       "19189  MELPAPVPVPSLKGWRFRPTDDDLVGYYLLREVTGCPFSRVGIAHD...     216   NAC  \n",
       "14185  XEREEALQIGAGLPSGVKFDPSDQELIEHLQGKISSDNSSPHPLID...     282   NAC  \n",
       "2395   MVEKPGFEFRPYDEELVGFYLRQKLLGNHSLVDGVIREIKICSLDP...     476   NAC  \n",
       "7699   MAVGEMNVSSLNTLPLGFRFRPTDEELIDFYLRLKINGKDEQVSVI...     565   NAC  \n",
       "3215   MDYQASRICEMVEDEEQIDLPPGFRFHPTDEELITHYLKQKVFNTF...     291   NAC  \n",
       "\n",
       "[3999 rows x 4 columns]"
      ]
     },
     "execution_count": 5,
     "metadata": {},
     "output_type": "execute_result"
    }
   ],
   "source": [
    "testset_positive = testset[testset['class'] == 1]\n",
    "testset_positive.loc[:, 'class'] = gene_familly\n",
    "testset_positive.loc[:, 'id'] = testset_positive['id'].apply(lambda x: f\"{x} -- {gene_familly}\")\n",
    "testset_positive"
   ]
  },
  {
   "cell_type": "code",
   "execution_count": 6,
   "id": "25a9ad39-47e0-4b0a-9669-c9ed5c6cafa3",
   "metadata": {
    "execution": {
     "iopub.execute_input": "2024-07-04T12:38:01.384029Z",
     "iopub.status.busy": "2024-07-04T12:38:01.383900Z",
     "iopub.status.idle": "2024-07-04T12:38:01.709402Z",
     "shell.execute_reply": "2024-07-04T12:38:01.708986Z"
    },
    "papermill": {
     "duration": 0.328217,
     "end_time": "2024-07-04T12:38:01.710344",
     "exception": false,
     "start_time": "2024-07-04T12:38:01.382127",
     "status": "completed"
    },
    "tags": []
   },
   "outputs": [],
   "source": [
    "testset_positive.to_csv(\"../data/testset/\"+gene_dict['file_code']+\".csv\")\n",
    "trainset.to_csv(\"../data/mix_data/trainset/\"+gene_dict['file_code']+\".csv\")\n",
    "testset.to_csv(\"../data/mix_data/testset/\"+gene_dict['file_code']+\".csv\")"
   ]
  },
  {
   "cell_type": "code",
   "execution_count": null,
   "id": "4107c4c5-3c5d-44f9-af27-5b81b6d102e5",
   "metadata": {
    "papermill": {
     "duration": 0.001098,
     "end_time": "2024-07-04T12:38:01.712809",
     "exception": false,
     "start_time": "2024-07-04T12:38:01.711711",
     "status": "completed"
    },
    "tags": []
   },
   "outputs": [],
   "source": []
  }
 ],
 "metadata": {
  "kernelspec": {
   "display_name": "Python 3 (ipykernel)",
   "language": "python",
   "name": "python3"
  },
  "language_info": {
   "codemirror_mode": {
    "name": "ipython",
    "version": 3
   },
   "file_extension": ".py",
   "mimetype": "text/x-python",
   "name": "python",
   "nbconvert_exporter": "python",
   "pygments_lexer": "ipython3",
   "version": "3.11.7"
  },
  "papermill": {
   "default_parameters": {},
   "duration": 2.363156,
   "end_time": "2024-07-04T12:38:02.031603",
   "environment_variables": {},
   "exception": null,
   "input_path": "05-extract_testset-0.ipynb",
   "output_path": "AutoSave/TestGen/05-extract_testset-0-NAC.ipynb",
   "parameters": {
    "gene_familly": "NAC"
   },
   "start_time": "2024-07-04T12:37:59.668447",
   "version": "2.6.0"
  }
 },
 "nbformat": 4,
 "nbformat_minor": 5
}