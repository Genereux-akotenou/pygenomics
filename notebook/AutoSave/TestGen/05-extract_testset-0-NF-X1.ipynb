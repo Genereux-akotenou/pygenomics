{
 "cells": [
  {
   "cell_type": "code",
   "execution_count": 1,
   "id": "e0623422",
   "metadata": {
    "execution": {
     "iopub.execute_input": "2024-07-04T12:38:02.620831Z",
     "iopub.status.busy": "2024-07-04T12:38:02.620617Z",
     "iopub.status.idle": "2024-07-04T12:38:02.625327Z",
     "shell.execute_reply": "2024-07-04T12:38:02.624956Z"
    },
    "papermill": {
     "duration": 0.009757,
     "end_time": "2024-07-04T12:38:02.626262",
     "exception": false,
     "start_time": "2024-07-04T12:38:02.616505",
     "status": "completed"
    },
    "tags": [
     "injected-parameters"
    ]
   },
   "outputs": [],
   "source": [
    "# Parameters\n",
    "gene_familly = \"NF-X1\"\n"
   ]
  },
  {
   "cell_type": "code",
   "execution_count": 2,
   "id": "e7cdbe25-11a6-48da-abd4-9ae5eee27bfe",
   "metadata": {
    "execution": {
     "iopub.execute_input": "2024-07-04T12:38:02.629047Z",
     "iopub.status.busy": "2024-07-04T12:38:02.628792Z",
     "iopub.status.idle": "2024-07-04T12:38:03.333661Z",
     "shell.execute_reply": "2024-07-04T12:38:03.333202Z"
    },
    "papermill": {
     "duration": 0.707477,
     "end_time": "2024-07-04T12:38:03.334875",
     "exception": false,
     "start_time": "2024-07-04T12:38:02.627398",
     "status": "completed"
    },
    "tags": []
   },
   "outputs": [],
   "source": [
    "import json\n",
    "import pandas as pd\n",
    "from sklearn.model_selection import train_test_split"
   ]
  },
  {
   "cell_type": "code",
   "execution_count": 3,
   "id": "6e20f340-8cbc-46f2-be83-6f1c4523930a",
   "metadata": {
    "execution": {
     "iopub.execute_input": "2024-07-04T12:38:03.337646Z",
     "iopub.status.busy": "2024-07-04T12:38:03.337409Z",
     "iopub.status.idle": "2024-07-04T12:38:03.352448Z",
     "shell.execute_reply": "2024-07-04T12:38:03.352178Z"
    },
    "papermill": {
     "duration": 0.017524,
     "end_time": "2024-07-04T12:38:03.353459",
     "exception": false,
     "start_time": "2024-07-04T12:38:03.335935",
     "status": "completed"
    },
    "tags": []
   },
   "outputs": [
    {
     "data": {
      "text/html": [
       "<div>\n",
       "<style scoped>\n",
       "    .dataframe tbody tr th:only-of-type {\n",
       "        vertical-align: middle;\n",
       "    }\n",
       "\n",
       "    .dataframe tbody tr th {\n",
       "        vertical-align: top;\n",
       "    }\n",
       "\n",
       "    .dataframe thead th {\n",
       "        text-align: right;\n",
       "    }\n",
       "</style>\n",
       "<table border=\"1\" class=\"dataframe\">\n",
       "  <thead>\n",
       "    <tr style=\"text-align: right;\">\n",
       "      <th></th>\n",
       "      <th>id</th>\n",
       "      <th>sequence</th>\n",
       "      <th>length</th>\n",
       "      <th>class</th>\n",
       "    </tr>\n",
       "  </thead>\n",
       "  <tbody>\n",
       "    <tr>\n",
       "      <th>0</th>\n",
       "      <td>Achn088191</td>\n",
       "      <td>MSSQFRNDRTDNNNRSRFAQSGRREWVPRGSADNTSASSTGTVANP...</td>\n",
       "      <td>1101</td>\n",
       "      <td>1</td>\n",
       "    </tr>\n",
       "    <tr>\n",
       "      <th>1</th>\n",
       "      <td>Achn141391</td>\n",
       "      <td>MTSSTHRPAPLPSSDSDADSDTSPTAADLRHTDLSATIFRSYLEIT...</td>\n",
       "      <td>839</td>\n",
       "      <td>1</td>\n",
       "    </tr>\n",
       "    <tr>\n",
       "      <th>2</th>\n",
       "      <td>Achn320981</td>\n",
       "      <td>MSSQFRNHRTDNNRSRFSQSGRRERVPRGSAANTSASSTGTLANPP...</td>\n",
       "      <td>1123</td>\n",
       "      <td>1</td>\n",
       "    </tr>\n",
       "    <tr>\n",
       "      <th>3</th>\n",
       "      <td>EMT04829</td>\n",
       "      <td>MPSSYAAAAASSSRKPAPFTTATATTRKPAPLPAPAPPPSNPSHVS...</td>\n",
       "      <td>798</td>\n",
       "      <td>1</td>\n",
       "    </tr>\n",
       "    <tr>\n",
       "      <th>4</th>\n",
       "      <td>EMT09587</td>\n",
       "      <td>MVLKGKLSDKDGVFSCSEVCGHNLACGNHACQDVCHPGPCGECELV...</td>\n",
       "      <td>766</td>\n",
       "      <td>1</td>\n",
       "    </tr>\n",
       "  </tbody>\n",
       "</table>\n",
       "</div>"
      ],
      "text/plain": [
       "           id                                           sequence  length  \\\n",
       "0  Achn088191  MSSQFRNDRTDNNNRSRFAQSGRREWVPRGSADNTSASSTGTVANP...    1101   \n",
       "1  Achn141391  MTSSTHRPAPLPSSDSDADSDTSPTAADLRHTDLSATIFRSYLEIT...     839   \n",
       "2  Achn320981  MSSQFRNHRTDNNRSRFSQSGRRERVPRGSAANTSASSTGTLANPP...    1123   \n",
       "3    EMT04829  MPSSYAAAAASSSRKPAPFTTATATTRKPAPLPAPAPPPSNPSHVS...     798   \n",
       "4    EMT09587  MVLKGKLSDKDGVFSCSEVCGHNLACGNHACQDVCHPGPCGECELV...     766   \n",
       "\n",
       "   class  \n",
       "0      1  \n",
       "1      1  \n",
       "2      1  \n",
       "3      1  \n",
       "4      1  "
      ]
     },
     "execution_count": 3,
     "metadata": {},
     "output_type": "execute_result"
    }
   ],
   "source": [
    "# READ GENE_INFO JSON FILE\n",
    "gene_info_path = \"../data/gene_info.json\"\n",
    "dataset_path   = \"../data/one_vs_other/\"\n",
    "with open(gene_info_path, 'r') as json_file:\n",
    "    gene_info = json.load(json_file)\n",
    "\n",
    "# FOCUS ON GENE FAMILLY\n",
    "gene_dict = gene_info[gene_familly]\n",
    "df_path = dataset_path+gene_dict['file_code']+\".csv\"\n",
    "\n",
    "# LOAD WHOLE DATASET\n",
    "USE_FULL_DF = True\n",
    "if USE_FULL_DF:\n",
    "    dataset = pd.read_csv(df_path)\n",
    "else:\n",
    "    dataset_ = pd.read_csv(df_path)\n",
    "    r = min(5000/len(dataset_), 1)\n",
    "    _, dataset = train_test_split(dataset_, test_size=r, stratify=dataset_['class'], random_state=42)\n",
    "dataset.head()"
   ]
  },
  {
   "cell_type": "code",
   "execution_count": 4,
   "id": "745dff8f-540b-4299-a3f0-dabda69bd837",
   "metadata": {
    "execution": {
     "iopub.execute_input": "2024-07-04T12:38:03.356131Z",
     "iopub.status.busy": "2024-07-04T12:38:03.356001Z",
     "iopub.status.idle": "2024-07-04T12:38:03.359653Z",
     "shell.execute_reply": "2024-07-04T12:38:03.359355Z"
    },
    "papermill": {
     "duration": 0.005994,
     "end_time": "2024-07-04T12:38:03.360561",
     "exception": false,
     "start_time": "2024-07-04T12:38:03.354567",
     "status": "completed"
    },
    "tags": []
   },
   "outputs": [],
   "source": [
    "trainset, testset = train_test_split(dataset, test_size=0.2, stratify=dataset['class'], random_state=42)"
   ]
  },
  {
   "cell_type": "code",
   "execution_count": 5,
   "id": "a9b8b47d-48c6-4e94-a378-574904e308ee",
   "metadata": {
    "execution": {
     "iopub.execute_input": "2024-07-04T12:38:03.362979Z",
     "iopub.status.busy": "2024-07-04T12:38:03.362858Z",
     "iopub.status.idle": "2024-07-04T12:38:03.368596Z",
     "shell.execute_reply": "2024-07-04T12:38:03.368349Z"
    },
    "papermill": {
     "duration": 0.007924,
     "end_time": "2024-07-04T12:38:03.369439",
     "exception": false,
     "start_time": "2024-07-04T12:38:03.361515",
     "status": "completed"
    },
    "tags": []
   },
   "outputs": [
    {
     "name": "stderr",
     "output_type": "stream",
     "text": [
      "/var/folders/w8/b_cflrn97k9c15rcrn5t8mmr0000gn/T/ipykernel_22754/2288533763.py:2: FutureWarning: Setting an item of incompatible dtype is deprecated and will raise in a future error of pandas. Value 'NF-X1' has dtype incompatible with int64, please explicitly cast to a compatible dtype first.\n",
      "  testset_positive.loc[:, 'class'] = gene_familly\n"
     ]
    },
    {
     "data": {
      "text/html": [
       "<div>\n",
       "<style scoped>\n",
       "    .dataframe tbody tr th:only-of-type {\n",
       "        vertical-align: middle;\n",
       "    }\n",
       "\n",
       "    .dataframe tbody tr th {\n",
       "        vertical-align: top;\n",
       "    }\n",
       "\n",
       "    .dataframe thead th {\n",
       "        text-align: right;\n",
       "    }\n",
       "</style>\n",
       "<table border=\"1\" class=\"dataframe\">\n",
       "  <thead>\n",
       "    <tr style=\"text-align: right;\">\n",
       "      <th></th>\n",
       "      <th>id</th>\n",
       "      <th>sequence</th>\n",
       "      <th>length</th>\n",
       "      <th>class</th>\n",
       "    </tr>\n",
       "  </thead>\n",
       "  <tbody>\n",
       "    <tr>\n",
       "      <th>219</th>\n",
       "      <td>Medtr6g071140.1 -- NF-X1</td>\n",
       "      <td>MSLQQRRERREGSRFPSHRPPRQEWIPKGAGASSSASTTSTTTTAS...</td>\n",
       "      <td>1174</td>\n",
       "      <td>NF-X1</td>\n",
       "    </tr>\n",
       "    <tr>\n",
       "      <th>270</th>\n",
       "      <td>LOC_Os06g14190.1 -- NF-X1</td>\n",
       "      <td>MICYDMVRRSAPVWSCGSCFSIFHLPCIRKWARSPASAADASDPDS...</td>\n",
       "      <td>962</td>\n",
       "      <td>NF-X1</td>\n",
       "    </tr>\n",
       "    <tr>\n",
       "      <th>38</th>\n",
       "      <td>Bostr.13671s0471.1.p -- NF-X1</td>\n",
       "      <td>MSFQVRRDRNDDRSRFNPQQTWIPRNTSTSVVVVNEPSLPPNTDRN...</td>\n",
       "      <td>1144</td>\n",
       "      <td>NF-X1</td>\n",
       "    </tr>\n",
       "    <tr>\n",
       "      <th>288</th>\n",
       "      <td>Pp3c2_24250V3.2.p -- NF-X1</td>\n",
       "      <td>MIHARAMDKGSVSHAAGTSSQGRNAWNTPLRNQPQSQASAAIKMPV...</td>\n",
       "      <td>980</td>\n",
       "      <td>NF-X1</td>\n",
       "    </tr>\n",
       "    <tr>\n",
       "      <th>277</th>\n",
       "      <td>Peaxi162Scf00825g00235.1 -- NF-X1</td>\n",
       "      <td>MTSTTATLAPPLSPPSSDSDSDSATTSSAHRHHHSDLSSTIFKSYL...</td>\n",
       "      <td>869</td>\n",
       "      <td>NF-X1</td>\n",
       "    </tr>\n",
       "    <tr>\n",
       "      <th>...</th>\n",
       "      <td>...</td>\n",
       "      <td>...</td>\n",
       "      <td>...</td>\n",
       "      <td>...</td>\n",
       "    </tr>\n",
       "    <tr>\n",
       "      <th>0</th>\n",
       "      <td>Achn088191 -- NF-X1</td>\n",
       "      <td>MSSQFRNDRTDNNNRSRFAQSGRREWVPRGSADNTSASSTGTVANP...</td>\n",
       "      <td>1101</td>\n",
       "      <td>NF-X1</td>\n",
       "    </tr>\n",
       "    <tr>\n",
       "      <th>4</th>\n",
       "      <td>EMT09587 -- NF-X1</td>\n",
       "      <td>MVLKGKLSDKDGVFSCSEVCGHNLACGNHACQDVCHPGPCGECELV...</td>\n",
       "      <td>766</td>\n",
       "      <td>NF-X1</td>\n",
       "    </tr>\n",
       "    <tr>\n",
       "      <th>341</th>\n",
       "      <td>Solyc06g051570.2.1 -- NF-X1</td>\n",
       "      <td>MISTSTTPAPLLSPPSSDSDSDSSSHRHHHSDLSSTIFKSYLELSG...</td>\n",
       "      <td>867</td>\n",
       "      <td>NF-X1</td>\n",
       "    </tr>\n",
       "    <tr>\n",
       "      <th>75</th>\n",
       "      <td>CA03g31140 -- NF-X1</td>\n",
       "      <td>MSFPAQNNRRNNNNNSNHRPGRNNNNNNNSNPVQGGGARREWVARG...</td>\n",
       "      <td>1137</td>\n",
       "      <td>NF-X1</td>\n",
       "    </tr>\n",
       "    <tr>\n",
       "      <th>274</th>\n",
       "      <td>Pavir.5KG080800.1.p -- NF-X1</td>\n",
       "      <td>MPSSYAAAAAGSSSRKTNRTSTAAAATARPPAPSPSPAPAPPAANP...</td>\n",
       "      <td>909</td>\n",
       "      <td>NF-X1</td>\n",
       "    </tr>\n",
       "  </tbody>\n",
       "</table>\n",
       "<p>81 rows × 4 columns</p>\n",
       "</div>"
      ],
      "text/plain": [
       "                                    id  \\\n",
       "219           Medtr6g071140.1 -- NF-X1   \n",
       "270          LOC_Os06g14190.1 -- NF-X1   \n",
       "38       Bostr.13671s0471.1.p -- NF-X1   \n",
       "288         Pp3c2_24250V3.2.p -- NF-X1   \n",
       "277  Peaxi162Scf00825g00235.1 -- NF-X1   \n",
       "..                                 ...   \n",
       "0                  Achn088191 -- NF-X1   \n",
       "4                    EMT09587 -- NF-X1   \n",
       "341        Solyc06g051570.2.1 -- NF-X1   \n",
       "75                 CA03g31140 -- NF-X1   \n",
       "274       Pavir.5KG080800.1.p -- NF-X1   \n",
       "\n",
       "                                              sequence  length  class  \n",
       "219  MSLQQRRERREGSRFPSHRPPRQEWIPKGAGASSSASTTSTTTTAS...    1174  NF-X1  \n",
       "270  MICYDMVRRSAPVWSCGSCFSIFHLPCIRKWARSPASAADASDPDS...     962  NF-X1  \n",
       "38   MSFQVRRDRNDDRSRFNPQQTWIPRNTSTSVVVVNEPSLPPNTDRN...    1144  NF-X1  \n",
       "288  MIHARAMDKGSVSHAAGTSSQGRNAWNTPLRNQPQSQASAAIKMPV...     980  NF-X1  \n",
       "277  MTSTTATLAPPLSPPSSDSDSDSATTSSAHRHHHSDLSSTIFKSYL...     869  NF-X1  \n",
       "..                                                 ...     ...    ...  \n",
       "0    MSSQFRNDRTDNNNRSRFAQSGRREWVPRGSADNTSASSTGTVANP...    1101  NF-X1  \n",
       "4    MVLKGKLSDKDGVFSCSEVCGHNLACGNHACQDVCHPGPCGECELV...     766  NF-X1  \n",
       "341  MISTSTTPAPLLSPPSSDSDSDSSSHRHHHSDLSSTIFKSYLELSG...     867  NF-X1  \n",
       "75   MSFPAQNNRRNNNNNSNHRPGRNNNNNNNSNPVQGGGARREWVARG...    1137  NF-X1  \n",
       "274  MPSSYAAAAAGSSSRKTNRTSTAAAATARPPAPSPSPAPAPPAANP...     909  NF-X1  \n",
       "\n",
       "[81 rows x 4 columns]"
      ]
     },
     "execution_count": 5,
     "metadata": {},
     "output_type": "execute_result"
    }
   ],
   "source": [
    "testset_positive = testset[testset['class'] == 1]\n",
    "testset_positive.loc[:, 'class'] = gene_familly\n",
    "testset_positive.loc[:, 'id'] = testset_positive['id'].apply(lambda x: f\"{x} -- {gene_familly}\")\n",
    "testset_positive"
   ]
  },
  {
   "cell_type": "code",
   "execution_count": 6,
   "id": "25a9ad39-47e0-4b0a-9669-c9ed5c6cafa3",
   "metadata": {
    "execution": {
     "iopub.execute_input": "2024-07-04T12:38:03.372266Z",
     "iopub.status.busy": "2024-07-04T12:38:03.372147Z",
     "iopub.status.idle": "2024-07-04T12:38:03.387315Z",
     "shell.execute_reply": "2024-07-04T12:38:03.387067Z"
    },
    "papermill": {
     "duration": 0.017559,
     "end_time": "2024-07-04T12:38:03.388197",
     "exception": false,
     "start_time": "2024-07-04T12:38:03.370638",
     "status": "completed"
    },
    "tags": []
   },
   "outputs": [],
   "source": [
    "testset_positive.to_csv(\"../data/testset/\"+gene_dict['file_code']+\".csv\")\n",
    "trainset.to_csv(\"../data/mix_data/trainset/\"+gene_dict['file_code']+\".csv\")\n",
    "testset.to_csv(\"../data/mix_data/testset/\"+gene_dict['file_code']+\".csv\")"
   ]
  },
  {
   "cell_type": "code",
   "execution_count": null,
   "id": "4107c4c5-3c5d-44f9-af27-5b81b6d102e5",
   "metadata": {
    "papermill": {
     "duration": 0.001195,
     "end_time": "2024-07-04T12:38:03.390583",
     "exception": false,
     "start_time": "2024-07-04T12:38:03.389388",
     "status": "completed"
    },
    "tags": []
   },
   "outputs": [],
   "source": []
  }
 ],
 "metadata": {
  "kernelspec": {
   "display_name": "Python 3 (ipykernel)",
   "language": "python",
   "name": "python3"
  },
  "language_info": {
   "codemirror_mode": {
    "name": "ipython",
    "version": 3
   },
   "file_extension": ".py",
   "mimetype": "text/x-python",
   "name": "python",
   "nbconvert_exporter": "python",
   "pygments_lexer": "ipython3",
   "version": "3.11.7"
  },
  "papermill": {
   "default_parameters": {},
   "duration": 1.673813,
   "end_time": "2024-07-04T12:38:03.709263",
   "environment_variables": {},
   "exception": null,
   "input_path": "05-extract_testset-0.ipynb",
   "output_path": "AutoSave/TestGen/05-extract_testset-0-NF-X1.ipynb",
   "parameters": {
    "gene_familly": "NF-X1"
   },
   "start_time": "2024-07-04T12:38:02.035450",
   "version": "2.6.0"
  }
 },
 "nbformat": 4,
 "nbformat_minor": 5
}