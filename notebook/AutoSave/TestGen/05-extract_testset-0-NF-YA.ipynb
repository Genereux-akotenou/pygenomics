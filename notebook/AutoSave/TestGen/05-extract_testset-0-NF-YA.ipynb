{
 "cells": [
  {
   "cell_type": "code",
   "execution_count": 1,
   "id": "649feb4d",
   "metadata": {
    "execution": {
     "iopub.execute_input": "2024-07-04T12:38:04.504099Z",
     "iopub.status.busy": "2024-07-04T12:38:04.503892Z",
     "iopub.status.idle": "2024-07-04T12:38:04.508838Z",
     "shell.execute_reply": "2024-07-04T12:38:04.508480Z"
    },
    "papermill": {
     "duration": 0.008034,
     "end_time": "2024-07-04T12:38:04.509741",
     "exception": false,
     "start_time": "2024-07-04T12:38:04.501707",
     "status": "completed"
    },
    "tags": [
     "injected-parameters"
    ]
   },
   "outputs": [],
   "source": [
    "# Parameters\n",
    "gene_familly = \"NF-YA\"\n"
   ]
  },
  {
   "cell_type": "code",
   "execution_count": 2,
   "id": "e7cdbe25-11a6-48da-abd4-9ae5eee27bfe",
   "metadata": {
    "execution": {
     "iopub.execute_input": "2024-07-04T12:38:04.512258Z",
     "iopub.status.busy": "2024-07-04T12:38:04.512114Z",
     "iopub.status.idle": "2024-07-04T12:38:05.220263Z",
     "shell.execute_reply": "2024-07-04T12:38:05.219865Z"
    },
    "papermill": {
     "duration": 0.710595,
     "end_time": "2024-07-04T12:38:05.221392",
     "exception": false,
     "start_time": "2024-07-04T12:38:04.510797",
     "status": "completed"
    },
    "tags": []
   },
   "outputs": [],
   "source": [
    "import json\n",
    "import pandas as pd\n",
    "from sklearn.model_selection import train_test_split"
   ]
  },
  {
   "cell_type": "code",
   "execution_count": 3,
   "id": "6e20f340-8cbc-46f2-be83-6f1c4523930a",
   "metadata": {
    "execution": {
     "iopub.execute_input": "2024-07-04T12:38:05.224239Z",
     "iopub.status.busy": "2024-07-04T12:38:05.223995Z",
     "iopub.status.idle": "2024-07-04T12:38:05.253295Z",
     "shell.execute_reply": "2024-07-04T12:38:05.252923Z"
    },
    "papermill": {
     "duration": 0.031804,
     "end_time": "2024-07-04T12:38:05.254325",
     "exception": false,
     "start_time": "2024-07-04T12:38:05.222521",
     "status": "completed"
    },
    "tags": []
   },
   "outputs": [
    {
     "data": {
      "text/html": [
       "<div>\n",
       "<style scoped>\n",
       "    .dataframe tbody tr th:only-of-type {\n",
       "        vertical-align: middle;\n",
       "    }\n",
       "\n",
       "    .dataframe tbody tr th {\n",
       "        vertical-align: top;\n",
       "    }\n",
       "\n",
       "    .dataframe thead th {\n",
       "        text-align: right;\n",
       "    }\n",
       "</style>\n",
       "<table border=\"1\" class=\"dataframe\">\n",
       "  <thead>\n",
       "    <tr style=\"text-align: right;\">\n",
       "      <th></th>\n",
       "      <th>id</th>\n",
       "      <th>sequence</th>\n",
       "      <th>length</th>\n",
       "      <th>class</th>\n",
       "    </tr>\n",
       "  </thead>\n",
       "  <tbody>\n",
       "    <tr>\n",
       "      <th>0</th>\n",
       "      <td>Achn003161</td>\n",
       "      <td>MRQTKRKVNSRKGKQKQNRRQQFLLATENKAQIAQKRFAPEISLQD...</td>\n",
       "      <td>245</td>\n",
       "      <td>1</td>\n",
       "    </tr>\n",
       "    <tr>\n",
       "      <th>1</th>\n",
       "      <td>Achn029561</td>\n",
       "      <td>MPTKSKTEDQQAENGAHIIPPSAVYAQPWWRGIGNNAMSSPVGHIN...</td>\n",
       "      <td>317</td>\n",
       "      <td>1</td>\n",
       "    </tr>\n",
       "    <tr>\n",
       "      <th>2</th>\n",
       "      <td>Achn050401</td>\n",
       "      <td>MQDLCKKDSELSSTSTHSMTPRVTGGAPWLTSTALQIESTLSKSLS...</td>\n",
       "      <td>539</td>\n",
       "      <td>1</td>\n",
       "    </tr>\n",
       "    <tr>\n",
       "      <th>3</th>\n",
       "      <td>Achn059051</td>\n",
       "      <td>MTMHTVYLKEHDGIVQNPTSQLPPAAVPWWSGHGSQSAHTESFGQF...</td>\n",
       "      <td>699</td>\n",
       "      <td>1</td>\n",
       "    </tr>\n",
       "    <tr>\n",
       "      <th>4</th>\n",
       "      <td>Achn115261</td>\n",
       "      <td>MATPNQHDHNLKQMGFRFQDQDSSSTQSTGQSHHEVASIGESDPYG...</td>\n",
       "      <td>263</td>\n",
       "      <td>1</td>\n",
       "    </tr>\n",
       "  </tbody>\n",
       "</table>\n",
       "</div>"
      ],
      "text/plain": [
       "           id                                           sequence  length  \\\n",
       "0  Achn003161  MRQTKRKVNSRKGKQKQNRRQQFLLATENKAQIAQKRFAPEISLQD...     245   \n",
       "1  Achn029561  MPTKSKTEDQQAENGAHIIPPSAVYAQPWWRGIGNNAMSSPVGHIN...     317   \n",
       "2  Achn050401  MQDLCKKDSELSSTSTHSMTPRVTGGAPWLTSTALQIESTLSKSLS...     539   \n",
       "3  Achn059051  MTMHTVYLKEHDGIVQNPTSQLPPAAVPWWSGHGSQSAHTESFGQF...     699   \n",
       "4  Achn115261  MATPNQHDHNLKQMGFRFQDQDSSSTQSTGQSHHEVASIGESDPYG...     263   \n",
       "\n",
       "   class  \n",
       "0      1  \n",
       "1      1  \n",
       "2      1  \n",
       "3      1  \n",
       "4      1  "
      ]
     },
     "execution_count": 3,
     "metadata": {},
     "output_type": "execute_result"
    }
   ],
   "source": [
    "# READ GENE_INFO JSON FILE\n",
    "gene_info_path = \"../data/gene_info.json\"\n",
    "dataset_path   = \"../data/one_vs_other/\"\n",
    "with open(gene_info_path, 'r') as json_file:\n",
    "    gene_info = json.load(json_file)\n",
    "\n",
    "# FOCUS ON GENE FAMILLY\n",
    "gene_dict = gene_info[gene_familly]\n",
    "df_path = dataset_path+gene_dict['file_code']+\".csv\"\n",
    "\n",
    "# LOAD WHOLE DATASET\n",
    "USE_FULL_DF = True\n",
    "if USE_FULL_DF:\n",
    "    dataset = pd.read_csv(df_path)\n",
    "else:\n",
    "    dataset_ = pd.read_csv(df_path)\n",
    "    r = min(5000/len(dataset_), 1)\n",
    "    _, dataset = train_test_split(dataset_, test_size=r, stratify=dataset_['class'], random_state=42)\n",
    "dataset.head()"
   ]
  },
  {
   "cell_type": "code",
   "execution_count": 4,
   "id": "745dff8f-540b-4299-a3f0-dabda69bd837",
   "metadata": {
    "execution": {
     "iopub.execute_input": "2024-07-04T12:38:05.257025Z",
     "iopub.status.busy": "2024-07-04T12:38:05.256857Z",
     "iopub.status.idle": "2024-07-04T12:38:05.261793Z",
     "shell.execute_reply": "2024-07-04T12:38:05.261455Z"
    },
    "papermill": {
     "duration": 0.007352,
     "end_time": "2024-07-04T12:38:05.262706",
     "exception": false,
     "start_time": "2024-07-04T12:38:05.255354",
     "status": "completed"
    },
    "tags": []
   },
   "outputs": [],
   "source": [
    "trainset, testset = train_test_split(dataset, test_size=0.2, stratify=dataset['class'], random_state=42)"
   ]
  },
  {
   "cell_type": "code",
   "execution_count": 5,
   "id": "a9b8b47d-48c6-4e94-a378-574904e308ee",
   "metadata": {
    "execution": {
     "iopub.execute_input": "2024-07-04T12:38:05.265194Z",
     "iopub.status.busy": "2024-07-04T12:38:05.265056Z",
     "iopub.status.idle": "2024-07-04T12:38:05.271909Z",
     "shell.execute_reply": "2024-07-04T12:38:05.271620Z"
    },
    "papermill": {
     "duration": 0.009109,
     "end_time": "2024-07-04T12:38:05.272771",
     "exception": false,
     "start_time": "2024-07-04T12:38:05.263662",
     "status": "completed"
    },
    "tags": []
   },
   "outputs": [
    {
     "name": "stderr",
     "output_type": "stream",
     "text": [
      "/var/folders/w8/b_cflrn97k9c15rcrn5t8mmr0000gn/T/ipykernel_22762/2288533763.py:2: FutureWarning: Setting an item of incompatible dtype is deprecated and will raise in a future error of pandas. Value 'NF-YA' has dtype incompatible with int64, please explicitly cast to a compatible dtype first.\n",
      "  testset_positive.loc[:, 'class'] = gene_familly\n"
     ]
    },
    {
     "data": {
      "text/html": [
       "<div>\n",
       "<style scoped>\n",
       "    .dataframe tbody tr th:only-of-type {\n",
       "        vertical-align: middle;\n",
       "    }\n",
       "\n",
       "    .dataframe tbody tr th {\n",
       "        vertical-align: top;\n",
       "    }\n",
       "\n",
       "    .dataframe thead th {\n",
       "        text-align: right;\n",
       "    }\n",
       "</style>\n",
       "<table border=\"1\" class=\"dataframe\">\n",
       "  <thead>\n",
       "    <tr style=\"text-align: right;\">\n",
       "      <th></th>\n",
       "      <th>id</th>\n",
       "      <th>sequence</th>\n",
       "      <th>length</th>\n",
       "      <th>class</th>\n",
       "    </tr>\n",
       "  </thead>\n",
       "  <tbody>\n",
       "    <tr>\n",
       "      <th>1794</th>\n",
       "      <td>Potri.006G053500.1 -- NF-YA</td>\n",
       "      <td>MQKTLDRTVTTNYPLSSPSKPWWCSAGHHAIFSNVLGESTKNLSLQ...</td>\n",
       "      <td>300</td>\n",
       "      <td>NF-YA</td>\n",
       "    </tr>\n",
       "    <tr>\n",
       "      <th>453</th>\n",
       "      <td>CA10g20490 -- NF-YA</td>\n",
       "      <td>MHHNGRMILPIEVKEEPMYVNAKQYHGILRRRQLRAKAVLQQKVVK...</td>\n",
       "      <td>163</td>\n",
       "      <td>NF-YA</td>\n",
       "    </tr>\n",
       "    <tr>\n",
       "      <th>1140</th>\n",
       "      <td>Lj2g3v3336090.1 -- NF-YA</td>\n",
       "      <td>MSGANASNSSSLDCANSDSSETGEDQSLYNNGVNEEDDATKESQPT...</td>\n",
       "      <td>261</td>\n",
       "      <td>NF-YA</td>\n",
       "    </tr>\n",
       "    <tr>\n",
       "      <th>2010</th>\n",
       "      <td>XP_011093783.1 -- NF-YA</td>\n",
       "      <td>MANLHEQHFPQTVSKNLSFEVDYSAQRDLEVKHISFQLQDQHSSST...</td>\n",
       "      <td>305</td>\n",
       "      <td>NF-YA</td>\n",
       "    </tr>\n",
       "    <tr>\n",
       "      <th>1201</th>\n",
       "      <td>Medtr8g037270.2 -- NF-YA</td>\n",
       "      <td>MPGKPETDDWRIEHSEQVQLPSSIYSHHQPWWLENGSKPSSADQLN...</td>\n",
       "      <td>295</td>\n",
       "      <td>NF-YA</td>\n",
       "    </tr>\n",
       "    <tr>\n",
       "      <th>...</th>\n",
       "      <td>...</td>\n",
       "      <td>...</td>\n",
       "      <td>...</td>\n",
       "      <td>...</td>\n",
       "    </tr>\n",
       "    <tr>\n",
       "      <th>1974</th>\n",
       "      <td>SapurV1A.1588s0020.3.p -- NF-YA</td>\n",
       "      <td>MALRIQNLLKKNFDEPHLTVSCPSWWNSNEQHFSPSLSKNISFKAD...</td>\n",
       "      <td>338</td>\n",
       "      <td>NF-YA</td>\n",
       "    </tr>\n",
       "    <tr>\n",
       "      <th>2066</th>\n",
       "      <td>Sevir.3G413100.9.p -- NF-YA</td>\n",
       "      <td>MTSVVHSVSGDHRAEDQHQQQKQAEPEDQQEAPVTSSDSQPTVGTP...</td>\n",
       "      <td>214</td>\n",
       "      <td>NF-YA</td>\n",
       "    </tr>\n",
       "    <tr>\n",
       "      <th>2392</th>\n",
       "      <td>XP_015875900.1 -- NF-YA</td>\n",
       "      <td>MQSKSQSTSRPGPDPHTITPANVYTEPWWRTSGYNPIPPPLAGGNA...</td>\n",
       "      <td>348</td>\n",
       "      <td>NF-YA</td>\n",
       "    </tr>\n",
       "    <tr>\n",
       "      <th>1899</th>\n",
       "      <td>RrC2575_p4 -- NF-YA</td>\n",
       "      <td>MMGLVTSRVPLPHNYQENEPMFVNAKQYHAILRRRKHRAKLEAQNK...</td>\n",
       "      <td>129</td>\n",
       "      <td>NF-YA</td>\n",
       "    </tr>\n",
       "    <tr>\n",
       "      <th>187</th>\n",
       "      <td>Bostr.2902s0020.1.p -- NF-YA</td>\n",
       "      <td>MQPNPGRENEEEVNHHAVQQPMMYPEPWWKNNSFGVMPQAIPSGIP...</td>\n",
       "      <td>272</td>\n",
       "      <td>NF-YA</td>\n",
       "    </tr>\n",
       "  </tbody>\n",
       "</table>\n",
       "<p>492 rows × 4 columns</p>\n",
       "</div>"
      ],
      "text/plain": [
       "                                   id  \\\n",
       "1794      Potri.006G053500.1 -- NF-YA   \n",
       "453               CA10g20490 -- NF-YA   \n",
       "1140         Lj2g3v3336090.1 -- NF-YA   \n",
       "2010          XP_011093783.1 -- NF-YA   \n",
       "1201         Medtr8g037270.2 -- NF-YA   \n",
       "...                               ...   \n",
       "1974  SapurV1A.1588s0020.3.p -- NF-YA   \n",
       "2066      Sevir.3G413100.9.p -- NF-YA   \n",
       "2392          XP_015875900.1 -- NF-YA   \n",
       "1899              RrC2575_p4 -- NF-YA   \n",
       "187      Bostr.2902s0020.1.p -- NF-YA   \n",
       "\n",
       "                                               sequence  length  class  \n",
       "1794  MQKTLDRTVTTNYPLSSPSKPWWCSAGHHAIFSNVLGESTKNLSLQ...     300  NF-YA  \n",
       "453   MHHNGRMILPIEVKEEPMYVNAKQYHGILRRRQLRAKAVLQQKVVK...     163  NF-YA  \n",
       "1140  MSGANASNSSSLDCANSDSSETGEDQSLYNNGVNEEDDATKESQPT...     261  NF-YA  \n",
       "2010  MANLHEQHFPQTVSKNLSFEVDYSAQRDLEVKHISFQLQDQHSSST...     305  NF-YA  \n",
       "1201  MPGKPETDDWRIEHSEQVQLPSSIYSHHQPWWLENGSKPSSADQLN...     295  NF-YA  \n",
       "...                                                 ...     ...    ...  \n",
       "1974  MALRIQNLLKKNFDEPHLTVSCPSWWNSNEQHFSPSLSKNISFKAD...     338  NF-YA  \n",
       "2066  MTSVVHSVSGDHRAEDQHQQQKQAEPEDQQEAPVTSSDSQPTVGTP...     214  NF-YA  \n",
       "2392  MQSKSQSTSRPGPDPHTITPANVYTEPWWRTSGYNPIPPPLAGGNA...     348  NF-YA  \n",
       "1899  MMGLVTSRVPLPHNYQENEPMFVNAKQYHAILRRRKHRAKLEAQNK...     129  NF-YA  \n",
       "187   MQPNPGRENEEEVNHHAVQQPMMYPEPWWKNNSFGVMPQAIPSGIP...     272  NF-YA  \n",
       "\n",
       "[492 rows x 4 columns]"
      ]
     },
     "execution_count": 5,
     "metadata": {},
     "output_type": "execute_result"
    }
   ],
   "source": [
    "testset_positive = testset[testset['class'] == 1]\n",
    "testset_positive.loc[:, 'class'] = gene_familly\n",
    "testset_positive.loc[:, 'id'] = testset_positive['id'].apply(lambda x: f\"{x} -- {gene_familly}\")\n",
    "testset_positive"
   ]
  },
  {
   "cell_type": "code",
   "execution_count": 6,
   "id": "25a9ad39-47e0-4b0a-9669-c9ed5c6cafa3",
   "metadata": {
    "execution": {
     "iopub.execute_input": "2024-07-04T12:38:05.275645Z",
     "iopub.status.busy": "2024-07-04T12:38:05.275511Z",
     "iopub.status.idle": "2024-07-04T12:38:05.315476Z",
     "shell.execute_reply": "2024-07-04T12:38:05.315153Z"
    },
    "papermill": {
     "duration": 0.042485,
     "end_time": "2024-07-04T12:38:05.316412",
     "exception": false,
     "start_time": "2024-07-04T12:38:05.273927",
     "status": "completed"
    },
    "tags": []
   },
   "outputs": [],
   "source": [
    "testset_positive.to_csv(\"../data/testset/\"+gene_dict['file_code']+\".csv\")\n",
    "trainset.to_csv(\"../data/mix_data/trainset/\"+gene_dict['file_code']+\".csv\")\n",
    "testset.to_csv(\"../data/mix_data/testset/\"+gene_dict['file_code']+\".csv\")"
   ]
  },
  {
   "cell_type": "code",
   "execution_count": null,
   "id": "4107c4c5-3c5d-44f9-af27-5b81b6d102e5",
   "metadata": {
    "papermill": {
     "duration": 0.00146,
     "end_time": "2024-07-04T12:38:05.318998",
     "exception": false,
     "start_time": "2024-07-04T12:38:05.317538",
     "status": "completed"
    },
    "tags": []
   },
   "outputs": [],
   "source": []
  }
 ],
 "metadata": {
  "kernelspec": {
   "display_name": "Python 3 (ipykernel)",
   "language": "python",
   "name": "python3"
  },
  "language_info": {
   "codemirror_mode": {
    "name": "ipython",
    "version": 3
   },
   "file_extension": ".py",
   "mimetype": "text/x-python",
   "name": "python",
   "nbconvert_exporter": "python",
   "pygments_lexer": "ipython3",
   "version": "3.11.7"
  },
  "papermill": {
   "default_parameters": {},
   "duration": 1.924512,
   "end_time": "2024-07-04T12:38:05.637621",
   "environment_variables": {},
   "exception": null,
   "input_path": "05-extract_testset-0.ipynb",
   "output_path": "AutoSave/TestGen/05-extract_testset-0-NF-YA.ipynb",
   "parameters": {
    "gene_familly": "NF-YA"
   },
   "start_time": "2024-07-04T12:38:03.713109",
   "version": "2.6.0"
  }
 },
 "nbformat": 4,
 "nbformat_minor": 5
}