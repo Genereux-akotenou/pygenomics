{
 "cells": [
  {
   "cell_type": "code",
   "execution_count": 1,
   "id": "e3cac0b8",
   "metadata": {
    "execution": {
     "iopub.execute_input": "2024-07-04T12:38:06.310659Z",
     "iopub.status.busy": "2024-07-04T12:38:06.310390Z",
     "iopub.status.idle": "2024-07-04T12:38:06.315502Z",
     "shell.execute_reply": "2024-07-04T12:38:06.315026Z"
    },
    "papermill": {
     "duration": 0.008238,
     "end_time": "2024-07-04T12:38:06.316453",
     "exception": false,
     "start_time": "2024-07-04T12:38:06.308215",
     "status": "completed"
    },
    "tags": [
     "injected-parameters"
    ]
   },
   "outputs": [],
   "source": [
    "# Parameters\n",
    "gene_familly = \"NF-YB\"\n"
   ]
  },
  {
   "cell_type": "code",
   "execution_count": 2,
   "id": "e7cdbe25-11a6-48da-abd4-9ae5eee27bfe",
   "metadata": {
    "execution": {
     "iopub.execute_input": "2024-07-04T12:38:06.318949Z",
     "iopub.status.busy": "2024-07-04T12:38:06.318810Z",
     "iopub.status.idle": "2024-07-04T12:38:07.030500Z",
     "shell.execute_reply": "2024-07-04T12:38:07.029939Z"
    },
    "papermill": {
     "duration": 0.714218,
     "end_time": "2024-07-04T12:38:07.031718",
     "exception": false,
     "start_time": "2024-07-04T12:38:06.317500",
     "status": "completed"
    },
    "tags": []
   },
   "outputs": [],
   "source": [
    "import json\n",
    "import pandas as pd\n",
    "from sklearn.model_selection import train_test_split"
   ]
  },
  {
   "cell_type": "code",
   "execution_count": 3,
   "id": "6e20f340-8cbc-46f2-be83-6f1c4523930a",
   "metadata": {
    "execution": {
     "iopub.execute_input": "2024-07-04T12:38:07.034834Z",
     "iopub.status.busy": "2024-07-04T12:38:07.034442Z",
     "iopub.status.idle": "2024-07-04T12:38:07.062771Z",
     "shell.execute_reply": "2024-07-04T12:38:07.062356Z"
    },
    "papermill": {
     "duration": 0.030865,
     "end_time": "2024-07-04T12:38:07.063720",
     "exception": false,
     "start_time": "2024-07-04T12:38:07.032855",
     "status": "completed"
    },
    "tags": []
   },
   "outputs": [
    {
     "data": {
      "text/html": [
       "<div>\n",
       "<style scoped>\n",
       "    .dataframe tbody tr th:only-of-type {\n",
       "        vertical-align: middle;\n",
       "    }\n",
       "\n",
       "    .dataframe tbody tr th {\n",
       "        vertical-align: top;\n",
       "    }\n",
       "\n",
       "    .dataframe thead th {\n",
       "        text-align: right;\n",
       "    }\n",
       "</style>\n",
       "<table border=\"1\" class=\"dataframe\">\n",
       "  <thead>\n",
       "    <tr style=\"text-align: right;\">\n",
       "      <th></th>\n",
       "      <th>id</th>\n",
       "      <th>sequence</th>\n",
       "      <th>length</th>\n",
       "      <th>class</th>\n",
       "    </tr>\n",
       "  </thead>\n",
       "  <tbody>\n",
       "    <tr>\n",
       "      <th>0</th>\n",
       "      <td>Achn000781</td>\n",
       "      <td>MEDERRKNEPNVANKGSPESSCSKNNNIVNNNNKEQDRFLPIANVG...</td>\n",
       "      <td>178</td>\n",
       "      <td>1</td>\n",
       "    </tr>\n",
       "    <tr>\n",
       "      <th>1</th>\n",
       "      <td>Achn021921</td>\n",
       "      <td>MTKIIKEMLPPDVRVARDAQDLLIECCVEFINLISSESNEVCNKEE...</td>\n",
       "      <td>346</td>\n",
       "      <td>1</td>\n",
       "    </tr>\n",
       "    <tr>\n",
       "      <th>2</th>\n",
       "      <td>Achn042271</td>\n",
       "      <td>MVSTGEERGLVVYDGDYFEADHVPHAVSTVLISPVTFNRTAKKSSV...</td>\n",
       "      <td>285</td>\n",
       "      <td>1</td>\n",
       "    </tr>\n",
       "    <tr>\n",
       "      <th>3</th>\n",
       "      <td>Achn066231</td>\n",
       "      <td>MADGDPLSPGGGSHESGDQSPRSGVREQDRFLPIANISRIMKKALP...</td>\n",
       "      <td>153</td>\n",
       "      <td>1</td>\n",
       "    </tr>\n",
       "    <tr>\n",
       "      <th>4</th>\n",
       "      <td>Achn094371</td>\n",
       "      <td>MAGKKNLNSPIGSPSSDKEQDRFLPIANVSRIMKKSLPANAKISKE...</td>\n",
       "      <td>215</td>\n",
       "      <td>1</td>\n",
       "    </tr>\n",
       "  </tbody>\n",
       "</table>\n",
       "</div>"
      ],
      "text/plain": [
       "           id                                           sequence  length  \\\n",
       "0  Achn000781  MEDERRKNEPNVANKGSPESSCSKNNNIVNNNNKEQDRFLPIANVG...     178   \n",
       "1  Achn021921  MTKIIKEMLPPDVRVARDAQDLLIECCVEFINLISSESNEVCNKEE...     346   \n",
       "2  Achn042271  MVSTGEERGLVVYDGDYFEADHVPHAVSTVLISPVTFNRTAKKSSV...     285   \n",
       "3  Achn066231  MADGDPLSPGGGSHESGDQSPRSGVREQDRFLPIANISRIMKKALP...     153   \n",
       "4  Achn094371  MAGKKNLNSPIGSPSSDKEQDRFLPIANVSRIMKKSLPANAKISKE...     215   \n",
       "\n",
       "   class  \n",
       "0      1  \n",
       "1      1  \n",
       "2      1  \n",
       "3      1  \n",
       "4      1  "
      ]
     },
     "execution_count": 3,
     "metadata": {},
     "output_type": "execute_result"
    }
   ],
   "source": [
    "# READ GENE_INFO JSON FILE\n",
    "gene_info_path = \"../data/gene_info.json\"\n",
    "dataset_path   = \"../data/one_vs_other/\"\n",
    "with open(gene_info_path, 'r') as json_file:\n",
    "    gene_info = json.load(json_file)\n",
    "\n",
    "# FOCUS ON GENE FAMILLY\n",
    "gene_dict = gene_info[gene_familly]\n",
    "df_path = dataset_path+gene_dict['file_code']+\".csv\"\n",
    "\n",
    "# LOAD WHOLE DATASET\n",
    "USE_FULL_DF = True\n",
    "if USE_FULL_DF:\n",
    "    dataset = pd.read_csv(df_path)\n",
    "else:\n",
    "    dataset_ = pd.read_csv(df_path)\n",
    "    r = min(5000/len(dataset_), 1)\n",
    "    _, dataset = train_test_split(dataset_, test_size=r, stratify=dataset_['class'], random_state=42)\n",
    "dataset.head()"
   ]
  },
  {
   "cell_type": "code",
   "execution_count": 4,
   "id": "745dff8f-540b-4299-a3f0-dabda69bd837",
   "metadata": {
    "execution": {
     "iopub.execute_input": "2024-07-04T12:38:07.066352Z",
     "iopub.status.busy": "2024-07-04T12:38:07.066209Z",
     "iopub.status.idle": "2024-07-04T12:38:07.071149Z",
     "shell.execute_reply": "2024-07-04T12:38:07.070837Z"
    },
    "papermill": {
     "duration": 0.007266,
     "end_time": "2024-07-04T12:38:07.072011",
     "exception": false,
     "start_time": "2024-07-04T12:38:07.064745",
     "status": "completed"
    },
    "tags": []
   },
   "outputs": [],
   "source": [
    "trainset, testset = train_test_split(dataset, test_size=0.2, stratify=dataset['class'], random_state=42)"
   ]
  },
  {
   "cell_type": "code",
   "execution_count": 5,
   "id": "a9b8b47d-48c6-4e94-a378-574904e308ee",
   "metadata": {
    "execution": {
     "iopub.execute_input": "2024-07-04T12:38:07.074528Z",
     "iopub.status.busy": "2024-07-04T12:38:07.074394Z",
     "iopub.status.idle": "2024-07-04T12:38:07.081098Z",
     "shell.execute_reply": "2024-07-04T12:38:07.080795Z"
    },
    "papermill": {
     "duration": 0.009,
     "end_time": "2024-07-04T12:38:07.081961",
     "exception": false,
     "start_time": "2024-07-04T12:38:07.072961",
     "status": "completed"
    },
    "tags": []
   },
   "outputs": [
    {
     "name": "stderr",
     "output_type": "stream",
     "text": [
      "/var/folders/w8/b_cflrn97k9c15rcrn5t8mmr0000gn/T/ipykernel_22771/2288533763.py:2: FutureWarning: Setting an item of incompatible dtype is deprecated and will raise in a future error of pandas. Value 'NF-YB' has dtype incompatible with int64, please explicitly cast to a compatible dtype first.\n",
      "  testset_positive.loc[:, 'class'] = gene_familly\n"
     ]
    },
    {
     "data": {
      "text/html": [
       "<div>\n",
       "<style scoped>\n",
       "    .dataframe tbody tr th:only-of-type {\n",
       "        vertical-align: middle;\n",
       "    }\n",
       "\n",
       "    .dataframe tbody tr th {\n",
       "        vertical-align: top;\n",
       "    }\n",
       "\n",
       "    .dataframe thead th {\n",
       "        text-align: right;\n",
       "    }\n",
       "</style>\n",
       "<table border=\"1\" class=\"dataframe\">\n",
       "  <thead>\n",
       "    <tr style=\"text-align: right;\">\n",
       "      <th></th>\n",
       "      <th>id</th>\n",
       "      <th>sequence</th>\n",
       "      <th>length</th>\n",
       "      <th>class</th>\n",
       "    </tr>\n",
       "  </thead>\n",
       "  <tbody>\n",
       "    <tr>\n",
       "      <th>1469</th>\n",
       "      <td>Manes.01G022100.2.p -- NF-YB</td>\n",
       "      <td>MEPMDIVGKSKEDASLPKATMTKIIKEMLPPDVRVARDAQDLLIEC...</td>\n",
       "      <td>156</td>\n",
       "      <td>NF-YB</td>\n",
       "    </tr>\n",
       "    <tr>\n",
       "      <th>990</th>\n",
       "      <td>Glyma.17G123600.2.p -- NF-YB</td>\n",
       "      <td>MEPMDIVGKSKEDASLPKATMTKIIKEMLPPDVRVARDAQDLLIEC...</td>\n",
       "      <td>160</td>\n",
       "      <td>NF-YB</td>\n",
       "    </tr>\n",
       "    <tr>\n",
       "      <th>1563</th>\n",
       "      <td>Migut.G00175.1.p -- NF-YB</td>\n",
       "      <td>MSSSNNNHINSTSKRPIFSLRSTVDIDPEANDDDQRSRSTADTDQY...</td>\n",
       "      <td>177</td>\n",
       "      <td>NF-YB</td>\n",
       "    </tr>\n",
       "    <tr>\n",
       "      <th>615</th>\n",
       "      <td>Cla017846 -- NF-YB</td>\n",
       "      <td>MADAPASPGGGSHESGEQSPRSNVREQDRFLPIANISRIMKKALPA...</td>\n",
       "      <td>175</td>\n",
       "      <td>NF-YB</td>\n",
       "    </tr>\n",
       "    <tr>\n",
       "      <th>1523</th>\n",
       "      <td>187228 -- NF-YB</td>\n",
       "      <td>MAEEGEGSLPRSSVVKLINQNLPPGLKMGNDVKDMILEACNEFIQA...</td>\n",
       "      <td>163</td>\n",
       "      <td>NF-YB</td>\n",
       "    </tr>\n",
       "    <tr>\n",
       "      <th>...</th>\n",
       "      <td>...</td>\n",
       "      <td>...</td>\n",
       "      <td>...</td>\n",
       "      <td>...</td>\n",
       "    </tr>\n",
       "    <tr>\n",
       "      <th>1316</th>\n",
       "      <td>Kalax.0183s0031.1.p -- NF-YB</td>\n",
       "      <td>MADVPNSPNAGSHDSGGGDHSPRPNVREQDRYLPIANISRIMKKAL...</td>\n",
       "      <td>181</td>\n",
       "      <td>NF-YB</td>\n",
       "    </tr>\n",
       "    <tr>\n",
       "      <th>2688</th>\n",
       "      <td>Sobic.009G166200.1.p -- NF-YB</td>\n",
       "      <td>MADAPASPGGGGGSHESGSPRGGGGGGGGSVREQDRFLPIANISRI...</td>\n",
       "      <td>181</td>\n",
       "      <td>NF-YB</td>\n",
       "    </tr>\n",
       "    <tr>\n",
       "      <th>2490</th>\n",
       "      <td>Seita.6G127400.1.p -- NF-YB</td>\n",
       "      <td>MDPMDIVGKSKEDVSLPKSTMFKIIKEMLPPDVRVARDAQDLLVEC...</td>\n",
       "      <td>301</td>\n",
       "      <td>NF-YB</td>\n",
       "    </tr>\n",
       "    <tr>\n",
       "      <th>1106</th>\n",
       "      <td>Gh_D13G1393 -- NF-YB</td>\n",
       "      <td>MVDSDTESGGGPNNASNADLSSPKEQDRFLPIANVSRIMKKALPAN...</td>\n",
       "      <td>172</td>\n",
       "      <td>NF-YB</td>\n",
       "    </tr>\n",
       "    <tr>\n",
       "      <th>1313</th>\n",
       "      <td>Kalax.0111s0080.1.p -- NF-YB</td>\n",
       "      <td>MMADSDNDSGGNANGGSGGELSAREQDRLLPIANVSRIMKKALPAN...</td>\n",
       "      <td>176</td>\n",
       "      <td>NF-YB</td>\n",
       "    </tr>\n",
       "  </tbody>\n",
       "</table>\n",
       "<p>620 rows × 4 columns</p>\n",
       "</div>"
      ],
      "text/plain": [
       "                                 id  \\\n",
       "1469   Manes.01G022100.2.p -- NF-YB   \n",
       "990    Glyma.17G123600.2.p -- NF-YB   \n",
       "1563      Migut.G00175.1.p -- NF-YB   \n",
       "615              Cla017846 -- NF-YB   \n",
       "1523                187228 -- NF-YB   \n",
       "...                             ...   \n",
       "1316   Kalax.0183s0031.1.p -- NF-YB   \n",
       "2688  Sobic.009G166200.1.p -- NF-YB   \n",
       "2490    Seita.6G127400.1.p -- NF-YB   \n",
       "1106           Gh_D13G1393 -- NF-YB   \n",
       "1313   Kalax.0111s0080.1.p -- NF-YB   \n",
       "\n",
       "                                               sequence  length  class  \n",
       "1469  MEPMDIVGKSKEDASLPKATMTKIIKEMLPPDVRVARDAQDLLIEC...     156  NF-YB  \n",
       "990   MEPMDIVGKSKEDASLPKATMTKIIKEMLPPDVRVARDAQDLLIEC...     160  NF-YB  \n",
       "1563  MSSSNNNHINSTSKRPIFSLRSTVDIDPEANDDDQRSRSTADTDQY...     177  NF-YB  \n",
       "615   MADAPASPGGGSHESGEQSPRSNVREQDRFLPIANISRIMKKALPA...     175  NF-YB  \n",
       "1523  MAEEGEGSLPRSSVVKLINQNLPPGLKMGNDVKDMILEACNEFIQA...     163  NF-YB  \n",
       "...                                                 ...     ...    ...  \n",
       "1316  MADVPNSPNAGSHDSGGGDHSPRPNVREQDRYLPIANISRIMKKAL...     181  NF-YB  \n",
       "2688  MADAPASPGGGGGSHESGSPRGGGGGGGGSVREQDRFLPIANISRI...     181  NF-YB  \n",
       "2490  MDPMDIVGKSKEDVSLPKSTMFKIIKEMLPPDVRVARDAQDLLVEC...     301  NF-YB  \n",
       "1106  MVDSDTESGGGPNNASNADLSSPKEQDRFLPIANVSRIMKKALPAN...     172  NF-YB  \n",
       "1313  MMADSDNDSGGNANGGSGGELSAREQDRLLPIANVSRIMKKALPAN...     176  NF-YB  \n",
       "\n",
       "[620 rows x 4 columns]"
      ]
     },
     "execution_count": 5,
     "metadata": {},
     "output_type": "execute_result"
    }
   ],
   "source": [
    "testset_positive = testset[testset['class'] == 1]\n",
    "testset_positive.loc[:, 'class'] = gene_familly\n",
    "testset_positive.loc[:, 'id'] = testset_positive['id'].apply(lambda x: f\"{x} -- {gene_familly}\")\n",
    "testset_positive"
   ]
  },
  {
   "cell_type": "code",
   "execution_count": 6,
   "id": "25a9ad39-47e0-4b0a-9669-c9ed5c6cafa3",
   "metadata": {
    "execution": {
     "iopub.execute_input": "2024-07-04T12:38:07.084773Z",
     "iopub.status.busy": "2024-07-04T12:38:07.084644Z",
     "iopub.status.idle": "2024-07-04T12:38:07.129331Z",
     "shell.execute_reply": "2024-07-04T12:38:07.128976Z"
    },
    "papermill": {
     "duration": 0.047191,
     "end_time": "2024-07-04T12:38:07.130310",
     "exception": false,
     "start_time": "2024-07-04T12:38:07.083119",
     "status": "completed"
    },
    "tags": []
   },
   "outputs": [],
   "source": [
    "testset_positive.to_csv(\"../data/testset/\"+gene_dict['file_code']+\".csv\")\n",
    "trainset.to_csv(\"../data/mix_data/trainset/\"+gene_dict['file_code']+\".csv\")\n",
    "testset.to_csv(\"../data/mix_data/testset/\"+gene_dict['file_code']+\".csv\")"
   ]
  },
  {
   "cell_type": "code",
   "execution_count": null,
   "id": "4107c4c5-3c5d-44f9-af27-5b81b6d102e5",
   "metadata": {
    "papermill": {
     "duration": 0.001179,
     "end_time": "2024-07-04T12:38:07.132620",
     "exception": false,
     "start_time": "2024-07-04T12:38:07.131441",
     "status": "completed"
    },
    "tags": []
   },
   "outputs": [],
   "source": []
  }
 ],
 "metadata": {
  "kernelspec": {
   "display_name": "Python 3 (ipykernel)",
   "language": "python",
   "name": "python3"
  },
  "language_info": {
   "codemirror_mode": {
    "name": "ipython",
    "version": 3
   },
   "file_extension": ".py",
   "mimetype": "text/x-python",
   "name": "python",
   "nbconvert_exporter": "python",
   "pygments_lexer": "ipython3",
   "version": "3.11.7"
  },
  "papermill": {
   "default_parameters": {},
   "duration": 1.810131,
   "end_time": "2024-07-04T12:38:07.451559",
   "environment_variables": {},
   "exception": null,
   "input_path": "05-extract_testset-0.ipynb",
   "output_path": "AutoSave/TestGen/05-extract_testset-0-NF-YB.ipynb",
   "parameters": {
    "gene_familly": "NF-YB"
   },
   "start_time": "2024-07-04T12:38:05.641428",
   "version": "2.6.0"
  }
 },
 "nbformat": 4,
 "nbformat_minor": 5
}