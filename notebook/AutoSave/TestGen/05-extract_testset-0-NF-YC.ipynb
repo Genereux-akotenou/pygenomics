{
 "cells": [
  {
   "cell_type": "code",
   "execution_count": 1,
   "id": "2086a62d",
   "metadata": {
    "execution": {
     "iopub.execute_input": "2024-07-04T12:38:08.242374Z",
     "iopub.status.busy": "2024-07-04T12:38:08.242182Z",
     "iopub.status.idle": "2024-07-04T12:38:08.247329Z",
     "shell.execute_reply": "2024-07-04T12:38:08.246880Z"
    },
    "papermill": {
     "duration": 0.00837,
     "end_time": "2024-07-04T12:38:08.248283",
     "exception": false,
     "start_time": "2024-07-04T12:38:08.239913",
     "status": "completed"
    },
    "tags": [
     "injected-parameters"
    ]
   },
   "outputs": [],
   "source": [
    "# Parameters\n",
    "gene_familly = \"NF-YC\"\n"
   ]
  },
  {
   "cell_type": "code",
   "execution_count": 2,
   "id": "e7cdbe25-11a6-48da-abd4-9ae5eee27bfe",
   "metadata": {
    "execution": {
     "iopub.execute_input": "2024-07-04T12:38:08.250806Z",
     "iopub.status.busy": "2024-07-04T12:38:08.250651Z",
     "iopub.status.idle": "2024-07-04T12:38:08.983839Z",
     "shell.execute_reply": "2024-07-04T12:38:08.983322Z"
    },
    "papermill": {
     "duration": 0.735814,
     "end_time": "2024-07-04T12:38:08.985109",
     "exception": false,
     "start_time": "2024-07-04T12:38:08.249295",
     "status": "completed"
    },
    "tags": []
   },
   "outputs": [],
   "source": [
    "import json\n",
    "import pandas as pd\n",
    "from sklearn.model_selection import train_test_split"
   ]
  },
  {
   "cell_type": "code",
   "execution_count": 3,
   "id": "6e20f340-8cbc-46f2-be83-6f1c4523930a",
   "metadata": {
    "execution": {
     "iopub.execute_input": "2024-07-04T12:38:08.988169Z",
     "iopub.status.busy": "2024-07-04T12:38:08.987929Z",
     "iopub.status.idle": "2024-07-04T12:38:09.014781Z",
     "shell.execute_reply": "2024-07-04T12:38:09.014436Z"
    },
    "papermill": {
     "duration": 0.029523,
     "end_time": "2024-07-04T12:38:09.015797",
     "exception": false,
     "start_time": "2024-07-04T12:38:08.986274",
     "status": "completed"
    },
    "tags": []
   },
   "outputs": [
    {
     "data": {
      "text/html": [
       "<div>\n",
       "<style scoped>\n",
       "    .dataframe tbody tr th:only-of-type {\n",
       "        vertical-align: middle;\n",
       "    }\n",
       "\n",
       "    .dataframe tbody tr th {\n",
       "        vertical-align: top;\n",
       "    }\n",
       "\n",
       "    .dataframe thead th {\n",
       "        text-align: right;\n",
       "    }\n",
       "</style>\n",
       "<table border=\"1\" class=\"dataframe\">\n",
       "  <thead>\n",
       "    <tr style=\"text-align: right;\">\n",
       "      <th></th>\n",
       "      <th>id</th>\n",
       "      <th>sequence</th>\n",
       "      <th>length</th>\n",
       "      <th>class</th>\n",
       "    </tr>\n",
       "  </thead>\n",
       "  <tbody>\n",
       "    <tr>\n",
       "      <th>0</th>\n",
       "      <td>Achn002431</td>\n",
       "      <td>MKKSSDDVKMISGEAPIVFAKACELFIEELTKSSWTMTLQAKRRTL...</td>\n",
       "      <td>85</td>\n",
       "      <td>1</td>\n",
       "    </tr>\n",
       "    <tr>\n",
       "      <th>1</th>\n",
       "      <td>Achn024831</td>\n",
       "      <td>MNSLEIYPKSLTSRYRIIGANFQIRKKNINPLQNINSAPNLHREQR...</td>\n",
       "      <td>581</td>\n",
       "      <td>1</td>\n",
       "    </tr>\n",
       "    <tr>\n",
       "      <th>2</th>\n",
       "      <td>Achn051701</td>\n",
       "      <td>MDQPEQTQQQQQQPVIGVVAGVGPMAYASPPYHSAPMGASGAPAVA...</td>\n",
       "      <td>273</td>\n",
       "      <td>1</td>\n",
       "    </tr>\n",
       "    <tr>\n",
       "      <th>3</th>\n",
       "      <td>Achn056131</td>\n",
       "      <td>MRQAGAYSGIASGGISGRTGPHSLPLARIKKIMNNSSDDVKMISGD...</td>\n",
       "      <td>299</td>\n",
       "      <td>1</td>\n",
       "    </tr>\n",
       "    <tr>\n",
       "      <th>4</th>\n",
       "      <td>Achn083431</td>\n",
       "      <td>MDIMDQQGHGHPQGAGVVGSAAQLHYGTSQYEPNQVNGTPNQGPVV...</td>\n",
       "      <td>266</td>\n",
       "      <td>1</td>\n",
       "    </tr>\n",
       "  </tbody>\n",
       "</table>\n",
       "</div>"
      ],
      "text/plain": [
       "           id                                           sequence  length  \\\n",
       "0  Achn002431  MKKSSDDVKMISGEAPIVFAKACELFIEELTKSSWTMTLQAKRRTL...      85   \n",
       "1  Achn024831  MNSLEIYPKSLTSRYRIIGANFQIRKKNINPLQNINSAPNLHREQR...     581   \n",
       "2  Achn051701  MDQPEQTQQQQQQPVIGVVAGVGPMAYASPPYHSAPMGASGAPAVA...     273   \n",
       "3  Achn056131  MRQAGAYSGIASGGISGRTGPHSLPLARIKKIMNNSSDDVKMISGD...     299   \n",
       "4  Achn083431  MDIMDQQGHGHPQGAGVVGSAAQLHYGTSQYEPNQVNGTPNQGPVV...     266   \n",
       "\n",
       "   class  \n",
       "0      1  \n",
       "1      1  \n",
       "2      1  \n",
       "3      1  \n",
       "4      1  "
      ]
     },
     "execution_count": 3,
     "metadata": {},
     "output_type": "execute_result"
    }
   ],
   "source": [
    "# READ GENE_INFO JSON FILE\n",
    "gene_info_path = \"../data/gene_info.json\"\n",
    "dataset_path   = \"../data/one_vs_other/\"\n",
    "with open(gene_info_path, 'r') as json_file:\n",
    "    gene_info = json.load(json_file)\n",
    "\n",
    "# FOCUS ON GENE FAMILLY\n",
    "gene_dict = gene_info[gene_familly]\n",
    "df_path = dataset_path+gene_dict['file_code']+\".csv\"\n",
    "\n",
    "# LOAD WHOLE DATASET\n",
    "USE_FULL_DF = True\n",
    "if USE_FULL_DF:\n",
    "    dataset = pd.read_csv(df_path)\n",
    "else:\n",
    "    dataset_ = pd.read_csv(df_path)\n",
    "    r = min(5000/len(dataset_), 1)\n",
    "    _, dataset = train_test_split(dataset_, test_size=r, stratify=dataset_['class'], random_state=42)\n",
    "dataset.head()"
   ]
  },
  {
   "cell_type": "code",
   "execution_count": 4,
   "id": "745dff8f-540b-4299-a3f0-dabda69bd837",
   "metadata": {
    "execution": {
     "iopub.execute_input": "2024-07-04T12:38:09.018578Z",
     "iopub.status.busy": "2024-07-04T12:38:09.018444Z",
     "iopub.status.idle": "2024-07-04T12:38:09.022832Z",
     "shell.execute_reply": "2024-07-04T12:38:09.022579Z"
    },
    "papermill": {
     "duration": 0.006753,
     "end_time": "2024-07-04T12:38:09.023748",
     "exception": false,
     "start_time": "2024-07-04T12:38:09.016995",
     "status": "completed"
    },
    "tags": []
   },
   "outputs": [],
   "source": [
    "trainset, testset = train_test_split(dataset, test_size=0.2, stratify=dataset['class'], random_state=42)"
   ]
  },
  {
   "cell_type": "code",
   "execution_count": 5,
   "id": "a9b8b47d-48c6-4e94-a378-574904e308ee",
   "metadata": {
    "execution": {
     "iopub.execute_input": "2024-07-04T12:38:09.026279Z",
     "iopub.status.busy": "2024-07-04T12:38:09.026128Z",
     "iopub.status.idle": "2024-07-04T12:38:09.032343Z",
     "shell.execute_reply": "2024-07-04T12:38:09.032090Z"
    },
    "papermill": {
     "duration": 0.008441,
     "end_time": "2024-07-04T12:38:09.033211",
     "exception": false,
     "start_time": "2024-07-04T12:38:09.024770",
     "status": "completed"
    },
    "tags": []
   },
   "outputs": [
    {
     "name": "stderr",
     "output_type": "stream",
     "text": [
      "/var/folders/w8/b_cflrn97k9c15rcrn5t8mmr0000gn/T/ipykernel_22782/2288533763.py:2: FutureWarning: Setting an item of incompatible dtype is deprecated and will raise in a future error of pandas. Value 'NF-YC' has dtype incompatible with int64, please explicitly cast to a compatible dtype first.\n",
      "  testset_positive.loc[:, 'class'] = gene_familly\n"
     ]
    },
    {
     "data": {
      "text/html": [
       "<div>\n",
       "<style scoped>\n",
       "    .dataframe tbody tr th:only-of-type {\n",
       "        vertical-align: middle;\n",
       "    }\n",
       "\n",
       "    .dataframe tbody tr th {\n",
       "        vertical-align: top;\n",
       "    }\n",
       "\n",
       "    .dataframe thead th {\n",
       "        text-align: right;\n",
       "    }\n",
       "</style>\n",
       "<table border=\"1\" class=\"dataframe\">\n",
       "  <thead>\n",
       "    <tr style=\"text-align: right;\">\n",
       "      <th></th>\n",
       "      <th>id</th>\n",
       "      <th>sequence</th>\n",
       "      <th>length</th>\n",
       "      <th>class</th>\n",
       "    </tr>\n",
       "  </thead>\n",
       "  <tbody>\n",
       "    <tr>\n",
       "      <th>1716</th>\n",
       "      <td>Potri.003G192100.3 -- NF-YC</td>\n",
       "      <td>MQADEDVGKIALAVPVLVSKALELFLQDLCDRTHEITLQRGAKTMS...</td>\n",
       "      <td>286</td>\n",
       "      <td>NF-YC</td>\n",
       "    </tr>\n",
       "    <tr>\n",
       "      <th>900</th>\n",
       "      <td>Kalax.0002s0305.1.p -- NF-YC</td>\n",
       "      <td>MDNNPPPAPPLPQQQPAPLQHLLQQQQQQLQMFWTYQRQEIEHVND...</td>\n",
       "      <td>220</td>\n",
       "      <td>NF-YC</td>\n",
       "    </tr>\n",
       "    <tr>\n",
       "      <th>2092</th>\n",
       "      <td>PGSC0003DMP400026632 -- NF-YC</td>\n",
       "      <td>MENNHQQSAEPLYPGYPFHQMLMLQQHEQLQLQQQQQVEQQMRIFW...</td>\n",
       "      <td>254</td>\n",
       "      <td>NF-YC</td>\n",
       "    </tr>\n",
       "    <tr>\n",
       "      <th>689</th>\n",
       "      <td>Glyma.15G261300.2.p -- NF-YC</td>\n",
       "      <td>MGVATGASQMAYSSHYPTAPMVASGTPAVAVPSPTQAPAAFSSSAH...</td>\n",
       "      <td>255</td>\n",
       "      <td>NF-YC</td>\n",
       "    </tr>\n",
       "    <tr>\n",
       "      <th>2186</th>\n",
       "      <td>Tp5g13380 -- NF-YC</td>\n",
       "      <td>MDNYSQQPPPSAFGIPPLPPGISVFAAGVASYHHHLQQQQQQYLRM...</td>\n",
       "      <td>242</td>\n",
       "      <td>NF-YC</td>\n",
       "    </tr>\n",
       "    <tr>\n",
       "      <th>...</th>\n",
       "      <td>...</td>\n",
       "      <td>...</td>\n",
       "      <td>...</td>\n",
       "      <td>...</td>\n",
       "    </tr>\n",
       "    <tr>\n",
       "      <th>405</th>\n",
       "      <td>cra_locus_15848_iso_3 -- NF-YC</td>\n",
       "      <td>MENNSQQATAPTQSSVYPAQPPYHHLLQQQQQQLQLFWNYQRQEIE...</td>\n",
       "      <td>242</td>\n",
       "      <td>NF-YC</td>\n",
       "    </tr>\n",
       "    <tr>\n",
       "      <th>241</th>\n",
       "      <td>GSBRNA2T00081075001 -- NF-YC</td>\n",
       "      <td>MKKKLQTRFPATRIKKIMQTDEDVGKIAMAVPLLVSKALELFLQDL...</td>\n",
       "      <td>688</td>\n",
       "      <td>NF-YC</td>\n",
       "    </tr>\n",
       "    <tr>\n",
       "      <th>1011</th>\n",
       "      <td>Lj6g3v1880140.1 -- NF-YC</td>\n",
       "      <td>MDENQPEPEQLEGGEDTPAQEANVMHQSQPNQMTTHTQIVGGSSSS...</td>\n",
       "      <td>318</td>\n",
       "      <td>NF-YC</td>\n",
       "    </tr>\n",
       "    <tr>\n",
       "      <th>431</th>\n",
       "      <td>XP_004495742.1 -- NF-YC</td>\n",
       "      <td>MDHQGHGQNPSMGVVGSGQMATYGSNPYQPNHLTGSPGMVVPSVGT...</td>\n",
       "      <td>256</td>\n",
       "      <td>NF-YC</td>\n",
       "    </tr>\n",
       "    <tr>\n",
       "      <th>1177</th>\n",
       "      <td>XP_009786327.1 -- NF-YC</td>\n",
       "      <td>MAGEDEGKNSTAAGGEVHQLQIPLGRVKKIMKLDQDINKVNSEALH...</td>\n",
       "      <td>138</td>\n",
       "      <td>NF-YC</td>\n",
       "    </tr>\n",
       "  </tbody>\n",
       "</table>\n",
       "<p>490 rows × 4 columns</p>\n",
       "</div>"
      ],
      "text/plain": [
       "                                  id  \\\n",
       "1716     Potri.003G192100.3 -- NF-YC   \n",
       "900     Kalax.0002s0305.1.p -- NF-YC   \n",
       "2092   PGSC0003DMP400026632 -- NF-YC   \n",
       "689     Glyma.15G261300.2.p -- NF-YC   \n",
       "2186              Tp5g13380 -- NF-YC   \n",
       "...                              ...   \n",
       "405   cra_locus_15848_iso_3 -- NF-YC   \n",
       "241     GSBRNA2T00081075001 -- NF-YC   \n",
       "1011        Lj6g3v1880140.1 -- NF-YC   \n",
       "431          XP_004495742.1 -- NF-YC   \n",
       "1177         XP_009786327.1 -- NF-YC   \n",
       "\n",
       "                                               sequence  length  class  \n",
       "1716  MQADEDVGKIALAVPVLVSKALELFLQDLCDRTHEITLQRGAKTMS...     286  NF-YC  \n",
       "900   MDNNPPPAPPLPQQQPAPLQHLLQQQQQQLQMFWTYQRQEIEHVND...     220  NF-YC  \n",
       "2092  MENNHQQSAEPLYPGYPFHQMLMLQQHEQLQLQQQQQVEQQMRIFW...     254  NF-YC  \n",
       "689   MGVATGASQMAYSSHYPTAPMVASGTPAVAVPSPTQAPAAFSSSAH...     255  NF-YC  \n",
       "2186  MDNYSQQPPPSAFGIPPLPPGISVFAAGVASYHHHLQQQQQQYLRM...     242  NF-YC  \n",
       "...                                                 ...     ...    ...  \n",
       "405   MENNSQQATAPTQSSVYPAQPPYHHLLQQQQQQLQLFWNYQRQEIE...     242  NF-YC  \n",
       "241   MKKKLQTRFPATRIKKIMQTDEDVGKIAMAVPLLVSKALELFLQDL...     688  NF-YC  \n",
       "1011  MDENQPEPEQLEGGEDTPAQEANVMHQSQPNQMTTHTQIVGGSSSS...     318  NF-YC  \n",
       "431   MDHQGHGQNPSMGVVGSGQMATYGSNPYQPNHLTGSPGMVVPSVGT...     256  NF-YC  \n",
       "1177  MAGEDEGKNSTAAGGEVHQLQIPLGRVKKIMKLDQDINKVNSEALH...     138  NF-YC  \n",
       "\n",
       "[490 rows x 4 columns]"
      ]
     },
     "execution_count": 5,
     "metadata": {},
     "output_type": "execute_result"
    }
   ],
   "source": [
    "testset_positive = testset[testset['class'] == 1]\n",
    "testset_positive.loc[:, 'class'] = gene_familly\n",
    "testset_positive.loc[:, 'id'] = testset_positive['id'].apply(lambda x: f\"{x} -- {gene_familly}\")\n",
    "testset_positive"
   ]
  },
  {
   "cell_type": "code",
   "execution_count": 6,
   "id": "25a9ad39-47e0-4b0a-9669-c9ed5c6cafa3",
   "metadata": {
    "execution": {
     "iopub.execute_input": "2024-07-04T12:38:09.036096Z",
     "iopub.status.busy": "2024-07-04T12:38:09.035977Z",
     "iopub.status.idle": "2024-07-04T12:38:09.072725Z",
     "shell.execute_reply": "2024-07-04T12:38:09.072438Z"
    },
    "papermill": {
     "duration": 0.039228,
     "end_time": "2024-07-04T12:38:09.073650",
     "exception": false,
     "start_time": "2024-07-04T12:38:09.034422",
     "status": "completed"
    },
    "tags": []
   },
   "outputs": [],
   "source": [
    "testset_positive.to_csv(\"../data/testset/\"+gene_dict['file_code']+\".csv\")\n",
    "trainset.to_csv(\"../data/mix_data/trainset/\"+gene_dict['file_code']+\".csv\")\n",
    "testset.to_csv(\"../data/mix_data/testset/\"+gene_dict['file_code']+\".csv\")"
   ]
  },
  {
   "cell_type": "code",
   "execution_count": null,
   "id": "4107c4c5-3c5d-44f9-af27-5b81b6d102e5",
   "metadata": {
    "papermill": {
     "duration": 0.001198,
     "end_time": "2024-07-04T12:38:09.076046",
     "exception": false,
     "start_time": "2024-07-04T12:38:09.074848",
     "status": "completed"
    },
    "tags": []
   },
   "outputs": [],
   "source": []
  }
 ],
 "metadata": {
  "kernelspec": {
   "display_name": "Python 3 (ipykernel)",
   "language": "python",
   "name": "python3"
  },
  "language_info": {
   "codemirror_mode": {
    "name": "ipython",
    "version": 3
   },
   "file_extension": ".py",
   "mimetype": "text/x-python",
   "name": "python",
   "nbconvert_exporter": "python",
   "pygments_lexer": "ipython3",
   "version": "3.11.7"
  },
  "papermill": {
   "default_parameters": {},
   "duration": 1.939646,
   "end_time": "2024-07-04T12:38:09.394946",
   "environment_variables": {},
   "exception": null,
   "input_path": "05-extract_testset-0.ipynb",
   "output_path": "AutoSave/TestGen/05-extract_testset-0-NF-YC.ipynb",
   "parameters": {
    "gene_familly": "NF-YC"
   },
   "start_time": "2024-07-04T12:38:07.455300",
   "version": "2.6.0"
  }
 },
 "nbformat": 4,
 "nbformat_minor": 5
}