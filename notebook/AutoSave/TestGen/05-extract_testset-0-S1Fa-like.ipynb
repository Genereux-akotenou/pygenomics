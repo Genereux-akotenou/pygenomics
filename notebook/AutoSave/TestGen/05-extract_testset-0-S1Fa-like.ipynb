{
 "cells": [
  {
   "cell_type": "code",
   "execution_count": 1,
   "id": "5ee110de",
   "metadata": {
    "execution": {
     "iopub.execute_input": "2024-07-04T12:38:15.794319Z",
     "iopub.status.busy": "2024-07-04T12:38:15.794060Z",
     "iopub.status.idle": "2024-07-04T12:38:15.799628Z",
     "shell.execute_reply": "2024-07-04T12:38:15.799228Z"
    },
    "papermill": {
     "duration": 0.008854,
     "end_time": "2024-07-04T12:38:15.800620",
     "exception": false,
     "start_time": "2024-07-04T12:38:15.791766",
     "status": "completed"
    },
    "tags": [
     "injected-parameters"
    ]
   },
   "outputs": [],
   "source": [
    "# Parameters\n",
    "gene_familly = \"S1Fa-like\"\n"
   ]
  },
  {
   "cell_type": "code",
   "execution_count": 2,
   "id": "e7cdbe25-11a6-48da-abd4-9ae5eee27bfe",
   "metadata": {
    "execution": {
     "iopub.execute_input": "2024-07-04T12:38:15.803243Z",
     "iopub.status.busy": "2024-07-04T12:38:15.802964Z",
     "iopub.status.idle": "2024-07-04T12:38:16.505414Z",
     "shell.execute_reply": "2024-07-04T12:38:16.504965Z"
    },
    "papermill": {
     "duration": 0.704986,
     "end_time": "2024-07-04T12:38:16.506606",
     "exception": false,
     "start_time": "2024-07-04T12:38:15.801620",
     "status": "completed"
    },
    "tags": []
   },
   "outputs": [],
   "source": [
    "import json\n",
    "import pandas as pd\n",
    "from sklearn.model_selection import train_test_split"
   ]
  },
  {
   "cell_type": "code",
   "execution_count": 3,
   "id": "6e20f340-8cbc-46f2-be83-6f1c4523930a",
   "metadata": {
    "execution": {
     "iopub.execute_input": "2024-07-04T12:38:16.509460Z",
     "iopub.status.busy": "2024-07-04T12:38:16.509183Z",
     "iopub.status.idle": "2024-07-04T12:38:16.521988Z",
     "shell.execute_reply": "2024-07-04T12:38:16.521658Z"
    },
    "papermill": {
     "duration": 0.015283,
     "end_time": "2024-07-04T12:38:16.522956",
     "exception": false,
     "start_time": "2024-07-04T12:38:16.507673",
     "status": "completed"
    },
    "tags": []
   },
   "outputs": [
    {
     "data": {
      "text/html": [
       "<div>\n",
       "<style scoped>\n",
       "    .dataframe tbody tr th:only-of-type {\n",
       "        vertical-align: middle;\n",
       "    }\n",
       "\n",
       "    .dataframe tbody tr th {\n",
       "        vertical-align: top;\n",
       "    }\n",
       "\n",
       "    .dataframe thead th {\n",
       "        text-align: right;\n",
       "    }\n",
       "</style>\n",
       "<table border=\"1\" class=\"dataframe\">\n",
       "  <thead>\n",
       "    <tr style=\"text-align: right;\">\n",
       "      <th></th>\n",
       "      <th>id</th>\n",
       "      <th>sequence</th>\n",
       "      <th>length</th>\n",
       "      <th>class</th>\n",
       "    </tr>\n",
       "  </thead>\n",
       "  <tbody>\n",
       "    <tr>\n",
       "      <th>0</th>\n",
       "      <td>Achn154221</td>\n",
       "      <td>MGSIGGGGVLILAEVGEVLGVLGGRGRPLGKRERWVLDLKWLKSHR...</td>\n",
       "      <td>375</td>\n",
       "      <td>1</td>\n",
       "    </tr>\n",
       "    <tr>\n",
       "      <th>1</th>\n",
       "      <td>Achn194261</td>\n",
       "      <td>MDYEAEFADHNPPSFDRMENVIKNPEVKGFNPGLIVLILVGGLLLT...</td>\n",
       "      <td>90</td>\n",
       "      <td>1</td>\n",
       "    </tr>\n",
       "    <tr>\n",
       "      <th>2</th>\n",
       "      <td>AA93G00134</td>\n",
       "      <td>MADDFAGNVESKGLNPGMIVLLVIGGLLLTFLVGNFILYTYAQKNL...</td>\n",
       "      <td>73</td>\n",
       "      <td>1</td>\n",
       "    </tr>\n",
       "    <tr>\n",
       "      <th>3</th>\n",
       "      <td>AHYPO_001833-RA</td>\n",
       "      <td>VYCLGNSPLLGLIHHANLKGQREGVQFGSYGAVDEVEAKGLNPGLI...</td>\n",
       "      <td>101</td>\n",
       "      <td>1</td>\n",
       "    </tr>\n",
       "    <tr>\n",
       "      <th>4</th>\n",
       "      <td>AHYPO_006308-RA</td>\n",
       "      <td>MILGLEGAFVTLTGLNLGLRHNKAVEEAEAKGFNPGLIVLLVIGGF...</td>\n",
       "      <td>93</td>\n",
       "      <td>1</td>\n",
       "    </tr>\n",
       "  </tbody>\n",
       "</table>\n",
       "</div>"
      ],
      "text/plain": [
       "                id                                           sequence  length  \\\n",
       "0       Achn154221  MGSIGGGGVLILAEVGEVLGVLGGRGRPLGKRERWVLDLKWLKSHR...     375   \n",
       "1       Achn194261  MDYEAEFADHNPPSFDRMENVIKNPEVKGFNPGLIVLILVGGLLLT...      90   \n",
       "2       AA93G00134  MADDFAGNVESKGLNPGMIVLLVIGGLLLTFLVGNFILYTYAQKNL...      73   \n",
       "3  AHYPO_001833-RA  VYCLGNSPLLGLIHHANLKGQREGVQFGSYGAVDEVEAKGLNPGLI...     101   \n",
       "4  AHYPO_006308-RA  MILGLEGAFVTLTGLNLGLRHNKAVEEAEAKGFNPGLIVLLVIGGF...      93   \n",
       "\n",
       "   class  \n",
       "0      1  \n",
       "1      1  \n",
       "2      1  \n",
       "3      1  \n",
       "4      1  "
      ]
     },
     "execution_count": 3,
     "metadata": {},
     "output_type": "execute_result"
    }
   ],
   "source": [
    "# READ GENE_INFO JSON FILE\n",
    "gene_info_path = \"../data/gene_info.json\"\n",
    "dataset_path   = \"../data/one_vs_other/\"\n",
    "with open(gene_info_path, 'r') as json_file:\n",
    "    gene_info = json.load(json_file)\n",
    "\n",
    "# FOCUS ON GENE FAMILLY\n",
    "gene_dict = gene_info[gene_familly]\n",
    "df_path = dataset_path+gene_dict['file_code']+\".csv\"\n",
    "\n",
    "# LOAD WHOLE DATASET\n",
    "USE_FULL_DF = True\n",
    "if USE_FULL_DF:\n",
    "    dataset = pd.read_csv(df_path)\n",
    "else:\n",
    "    dataset_ = pd.read_csv(df_path)\n",
    "    r = min(5000/len(dataset_), 1)\n",
    "    _, dataset = train_test_split(dataset_, test_size=r, stratify=dataset_['class'], random_state=42)\n",
    "dataset.head()"
   ]
  },
  {
   "cell_type": "code",
   "execution_count": 4,
   "id": "745dff8f-540b-4299-a3f0-dabda69bd837",
   "metadata": {
    "execution": {
     "iopub.execute_input": "2024-07-04T12:38:16.525636Z",
     "iopub.status.busy": "2024-07-04T12:38:16.525471Z",
     "iopub.status.idle": "2024-07-04T12:38:16.529572Z",
     "shell.execute_reply": "2024-07-04T12:38:16.529231Z"
    },
    "papermill": {
     "duration": 0.006464,
     "end_time": "2024-07-04T12:38:16.530477",
     "exception": false,
     "start_time": "2024-07-04T12:38:16.524013",
     "status": "completed"
    },
    "tags": []
   },
   "outputs": [],
   "source": [
    "trainset, testset = train_test_split(dataset, test_size=0.2, stratify=dataset['class'], random_state=42)"
   ]
  },
  {
   "cell_type": "code",
   "execution_count": 5,
   "id": "a9b8b47d-48c6-4e94-a378-574904e308ee",
   "metadata": {
    "execution": {
     "iopub.execute_input": "2024-07-04T12:38:16.532995Z",
     "iopub.status.busy": "2024-07-04T12:38:16.532833Z",
     "iopub.status.idle": "2024-07-04T12:38:16.539459Z",
     "shell.execute_reply": "2024-07-04T12:38:16.539142Z"
    },
    "papermill": {
     "duration": 0.009009,
     "end_time": "2024-07-04T12:38:16.540461",
     "exception": false,
     "start_time": "2024-07-04T12:38:16.531452",
     "status": "completed"
    },
    "tags": []
   },
   "outputs": [
    {
     "name": "stderr",
     "output_type": "stream",
     "text": [
      "/var/folders/w8/b_cflrn97k9c15rcrn5t8mmr0000gn/T/ipykernel_22813/2288533763.py:2: FutureWarning: Setting an item of incompatible dtype is deprecated and will raise in a future error of pandas. Value 'S1Fa-like' has dtype incompatible with int64, please explicitly cast to a compatible dtype first.\n",
      "  testset_positive.loc[:, 'class'] = gene_familly\n"
     ]
    },
    {
     "data": {
      "text/html": [
       "<div>\n",
       "<style scoped>\n",
       "    .dataframe tbody tr th:only-of-type {\n",
       "        vertical-align: middle;\n",
       "    }\n",
       "\n",
       "    .dataframe tbody tr th {\n",
       "        vertical-align: top;\n",
       "    }\n",
       "\n",
       "    .dataframe thead th {\n",
       "        text-align: right;\n",
       "    }\n",
       "</style>\n",
       "<table border=\"1\" class=\"dataframe\">\n",
       "  <thead>\n",
       "    <tr style=\"text-align: right;\">\n",
       "      <th></th>\n",
       "      <th>id</th>\n",
       "      <th>sequence</th>\n",
       "      <th>length</th>\n",
       "      <th>class</th>\n",
       "    </tr>\n",
       "  </thead>\n",
       "  <tbody>\n",
       "    <tr>\n",
       "      <th>315</th>\n",
       "      <td>Spipo23G0034200 -- S1Fa-like</td>\n",
       "      <td>MFNEPASRGLNPGLMVLIVVVGMVLVFFIGNYALYTYAQRTLPKRK...</td>\n",
       "      <td>70</td>\n",
       "      <td>S1Fa-like</td>\n",
       "    </tr>\n",
       "    <tr>\n",
       "      <th>102</th>\n",
       "      <td>XP_010937830.1 -- S1Fa-like</td>\n",
       "      <td>MGEQFSGSAENLVMEEATKGLNPGLVVLLVIGGLVLFFLVGNYALY...</td>\n",
       "      <td>80</td>\n",
       "      <td>S1Fa-like</td>\n",
       "    </tr>\n",
       "    <tr>\n",
       "      <th>107</th>\n",
       "      <td>Thhalv10017496m -- S1Fa-like</td>\n",
       "      <td>MSSEGSAGKAAAEAKGLNPGLIVLLVVGGLLVTFLIANYVMYMYAQ...</td>\n",
       "      <td>77</td>\n",
       "      <td>S1Fa-like</td>\n",
       "    </tr>\n",
       "    <tr>\n",
       "      <th>62</th>\n",
       "      <td>Csa06g027830.1 -- S1Fa-like</td>\n",
       "      <td>MDGEDFAGKAAAEAKGLNPGLIVLLVVGLPLVVFLIANYVLYVYAQ...</td>\n",
       "      <td>77</td>\n",
       "      <td>S1Fa-like</td>\n",
       "    </tr>\n",
       "    <tr>\n",
       "      <th>95</th>\n",
       "      <td>Dca49317.1 -- S1Fa-like</td>\n",
       "      <td>AGNDIEAKGINPGLIVLLVIGGLVLTFLIGNYALYVYAQKNLPPKK...</td>\n",
       "      <td>221</td>\n",
       "      <td>S1Fa-like</td>\n",
       "    </tr>\n",
       "    <tr>\n",
       "      <th>...</th>\n",
       "      <td>...</td>\n",
       "      <td>...</td>\n",
       "      <td>...</td>\n",
       "      <td>...</td>\n",
       "    </tr>\n",
       "    <tr>\n",
       "      <th>320</th>\n",
       "      <td>Tp3g08080 -- S1Fa-like</td>\n",
       "      <td>MADEFSGKIESKGLNPGLIVLLVIGGLLVTFLVGNFILYTYAQKNL...</td>\n",
       "      <td>73</td>\n",
       "      <td>S1Fa-like</td>\n",
       "    </tr>\n",
       "    <tr>\n",
       "      <th>50</th>\n",
       "      <td>XP_013600217.1 -- S1Fa-like</td>\n",
       "      <td>MDGEDFARKAAAEAKGLNPGLIVLLVIGVPLVGFLVANYVMYVYAQ...</td>\n",
       "      <td>76</td>\n",
       "      <td>S1Fa-like</td>\n",
       "    </tr>\n",
       "    <tr>\n",
       "      <th>116</th>\n",
       "      <td>KHN02357.1 -- S1Fa-like</td>\n",
       "      <td>MADDFDFADKVPPSFDRVGNVIKDSGSKAFNPGLIVLLVVGGLLLT...</td>\n",
       "      <td>89</td>\n",
       "      <td>S1Fa-like</td>\n",
       "    </tr>\n",
       "    <tr>\n",
       "      <th>325</th>\n",
       "      <td>Tp57577_TGAC_v2_mRNA18915 -- S1Fa-like</td>\n",
       "      <td>MADDFDFSDKIPPSFDRVNASQGFNPGLIVLLVVGGLLLTFLIGNY...</td>\n",
       "      <td>84</td>\n",
       "      <td>S1Fa-like</td>\n",
       "    </tr>\n",
       "    <tr>\n",
       "      <th>119</th>\n",
       "      <td>KHN48313.1 -- S1Fa-like</td>\n",
       "      <td>MADDFEFSDKVPPSFDRVGSKGFNPALIVLLLVGGLLLIFLVGNYV...</td>\n",
       "      <td>82</td>\n",
       "      <td>S1Fa-like</td>\n",
       "    </tr>\n",
       "  </tbody>\n",
       "</table>\n",
       "<p>72 rows × 4 columns</p>\n",
       "</div>"
      ],
      "text/plain": [
       "                                         id  \\\n",
       "315            Spipo23G0034200 -- S1Fa-like   \n",
       "102             XP_010937830.1 -- S1Fa-like   \n",
       "107            Thhalv10017496m -- S1Fa-like   \n",
       "62              Csa06g027830.1 -- S1Fa-like   \n",
       "95                  Dca49317.1 -- S1Fa-like   \n",
       "..                                      ...   \n",
       "320                  Tp3g08080 -- S1Fa-like   \n",
       "50              XP_013600217.1 -- S1Fa-like   \n",
       "116                 KHN02357.1 -- S1Fa-like   \n",
       "325  Tp57577_TGAC_v2_mRNA18915 -- S1Fa-like   \n",
       "119                 KHN48313.1 -- S1Fa-like   \n",
       "\n",
       "                                              sequence  length      class  \n",
       "315  MFNEPASRGLNPGLMVLIVVVGMVLVFFIGNYALYTYAQRTLPKRK...      70  S1Fa-like  \n",
       "102  MGEQFSGSAENLVMEEATKGLNPGLVVLLVIGGLVLFFLVGNYALY...      80  S1Fa-like  \n",
       "107  MSSEGSAGKAAAEAKGLNPGLIVLLVVGGLLVTFLIANYVMYMYAQ...      77  S1Fa-like  \n",
       "62   MDGEDFAGKAAAEAKGLNPGLIVLLVVGLPLVVFLIANYVLYVYAQ...      77  S1Fa-like  \n",
       "95   AGNDIEAKGINPGLIVLLVIGGLVLTFLIGNYALYVYAQKNLPPKK...     221  S1Fa-like  \n",
       "..                                                 ...     ...        ...  \n",
       "320  MADEFSGKIESKGLNPGLIVLLVIGGLLVTFLVGNFILYTYAQKNL...      73  S1Fa-like  \n",
       "50   MDGEDFARKAAAEAKGLNPGLIVLLVIGVPLVGFLVANYVMYVYAQ...      76  S1Fa-like  \n",
       "116  MADDFDFADKVPPSFDRVGNVIKDSGSKAFNPGLIVLLVVGGLLLT...      89  S1Fa-like  \n",
       "325  MADDFDFSDKIPPSFDRVNASQGFNPGLIVLLVVGGLLLTFLIGNY...      84  S1Fa-like  \n",
       "119  MADDFEFSDKVPPSFDRVGSKGFNPALIVLLLVGGLLLIFLVGNYV...      82  S1Fa-like  \n",
       "\n",
       "[72 rows x 4 columns]"
      ]
     },
     "execution_count": 5,
     "metadata": {},
     "output_type": "execute_result"
    }
   ],
   "source": [
    "testset_positive = testset[testset['class'] == 1]\n",
    "testset_positive.loc[:, 'class'] = gene_familly\n",
    "testset_positive.loc[:, 'id'] = testset_positive['id'].apply(lambda x: f\"{x} -- {gene_familly}\")\n",
    "testset_positive"
   ]
  },
  {
   "cell_type": "code",
   "execution_count": 6,
   "id": "25a9ad39-47e0-4b0a-9669-c9ed5c6cafa3",
   "metadata": {
    "execution": {
     "iopub.execute_input": "2024-07-04T12:38:16.543480Z",
     "iopub.status.busy": "2024-07-04T12:38:16.543343Z",
     "iopub.status.idle": "2024-07-04T12:38:16.552147Z",
     "shell.execute_reply": "2024-07-04T12:38:16.551886Z"
    },
    "papermill": {
     "duration": 0.011296,
     "end_time": "2024-07-04T12:38:16.553058",
     "exception": false,
     "start_time": "2024-07-04T12:38:16.541762",
     "status": "completed"
    },
    "tags": []
   },
   "outputs": [],
   "source": [
    "testset_positive.to_csv(\"../data/testset/\"+gene_dict['file_code']+\".csv\")\n",
    "trainset.to_csv(\"../data/mix_data/trainset/\"+gene_dict['file_code']+\".csv\")\n",
    "testset.to_csv(\"../data/mix_data/testset/\"+gene_dict['file_code']+\".csv\")"
   ]
  },
  {
   "cell_type": "code",
   "execution_count": null,
   "id": "4107c4c5-3c5d-44f9-af27-5b81b6d102e5",
   "metadata": {
    "papermill": {
     "duration": 0.001183,
     "end_time": "2024-07-04T12:38:16.555394",
     "exception": false,
     "start_time": "2024-07-04T12:38:16.554211",
     "status": "completed"
    },
    "tags": []
   },
   "outputs": [],
   "source": []
  }
 ],
 "metadata": {
  "kernelspec": {
   "display_name": "Python 3 (ipykernel)",
   "language": "python",
   "name": "python3"
  },
  "language_info": {
   "codemirror_mode": {
    "name": "ipython",
    "version": 3
   },
   "file_extension": ".py",
   "mimetype": "text/x-python",
   "name": "python",
   "nbconvert_exporter": "python",
   "pygments_lexer": "ipython3",
   "version": "3.11.7"
  },
  "papermill": {
   "default_parameters": {},
   "duration": 1.796338,
   "end_time": "2024-07-04T12:38:16.772718",
   "environment_variables": {},
   "exception": null,
   "input_path": "05-extract_testset-0.ipynb",
   "output_path": "AutoSave/TestGen/05-extract_testset-0-S1Fa-like.ipynb",
   "parameters": {
    "gene_familly": "S1Fa-like"
   },
   "start_time": "2024-07-04T12:38:14.976380",
   "version": "2.6.0"
  }
 },
 "nbformat": 4,
 "nbformat_minor": 5
}