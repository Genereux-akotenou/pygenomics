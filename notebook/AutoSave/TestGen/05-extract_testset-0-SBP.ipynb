{
 "cells": [
  {
   "cell_type": "code",
   "execution_count": 1,
   "id": "75dc53f1",
   "metadata": {
    "execution": {
     "iopub.execute_input": "2024-07-04T12:38:19.332602Z",
     "iopub.status.busy": "2024-07-04T12:38:19.332244Z",
     "iopub.status.idle": "2024-07-04T12:38:19.337717Z",
     "shell.execute_reply": "2024-07-04T12:38:19.337296Z"
    },
    "papermill": {
     "duration": 0.008968,
     "end_time": "2024-07-04T12:38:19.338707",
     "exception": false,
     "start_time": "2024-07-04T12:38:19.329739",
     "status": "completed"
    },
    "tags": [
     "injected-parameters"
    ]
   },
   "outputs": [],
   "source": [
    "# Parameters\n",
    "gene_familly = \"SBP\"\n"
   ]
  },
  {
   "cell_type": "code",
   "execution_count": 2,
   "id": "e7cdbe25-11a6-48da-abd4-9ae5eee27bfe",
   "metadata": {
    "execution": {
     "iopub.execute_input": "2024-07-04T12:38:19.341221Z",
     "iopub.status.busy": "2024-07-04T12:38:19.341060Z",
     "iopub.status.idle": "2024-07-04T12:38:20.103971Z",
     "shell.execute_reply": "2024-07-04T12:38:20.103460Z"
    },
    "papermill": {
     "duration": 0.765471,
     "end_time": "2024-07-04T12:38:20.105222",
     "exception": false,
     "start_time": "2024-07-04T12:38:19.339751",
     "status": "completed"
    },
    "tags": []
   },
   "outputs": [],
   "source": [
    "import json\n",
    "import pandas as pd\n",
    "from sklearn.model_selection import train_test_split"
   ]
  },
  {
   "cell_type": "code",
   "execution_count": 3,
   "id": "6e20f340-8cbc-46f2-be83-6f1c4523930a",
   "metadata": {
    "execution": {
     "iopub.execute_input": "2024-07-04T12:38:20.108206Z",
     "iopub.status.busy": "2024-07-04T12:38:20.107945Z",
     "iopub.status.idle": "2024-07-04T12:38:20.159248Z",
     "shell.execute_reply": "2024-07-04T12:38:20.158859Z"
    },
    "papermill": {
     "duration": 0.053906,
     "end_time": "2024-07-04T12:38:20.160270",
     "exception": false,
     "start_time": "2024-07-04T12:38:20.106364",
     "status": "completed"
    },
    "tags": []
   },
   "outputs": [
    {
     "data": {
      "text/html": [
       "<div>\n",
       "<style scoped>\n",
       "    .dataframe tbody tr th:only-of-type {\n",
       "        vertical-align: middle;\n",
       "    }\n",
       "\n",
       "    .dataframe tbody tr th {\n",
       "        vertical-align: top;\n",
       "    }\n",
       "\n",
       "    .dataframe thead th {\n",
       "        text-align: right;\n",
       "    }\n",
       "</style>\n",
       "<table border=\"1\" class=\"dataframe\">\n",
       "  <thead>\n",
       "    <tr style=\"text-align: right;\">\n",
       "      <th></th>\n",
       "      <th>id</th>\n",
       "      <th>sequence</th>\n",
       "      <th>length</th>\n",
       "      <th>class</th>\n",
       "    </tr>\n",
       "  </thead>\n",
       "  <tbody>\n",
       "    <tr>\n",
       "      <th>0</th>\n",
       "      <td>Achn016511</td>\n",
       "      <td>MEEVGAQVAPPIFMHQNLGGRFCEGHSMTKKRGQPNFHHQQPRLTS...</td>\n",
       "      <td>916</td>\n",
       "      <td>1</td>\n",
       "    </tr>\n",
       "    <tr>\n",
       "      <th>1</th>\n",
       "      <td>Achn017541</td>\n",
       "      <td>MGSVSGSSSYGGQGMKGDFSVDLKLGHVVNAGNESTDNLQVPSVPK...</td>\n",
       "      <td>319</td>\n",
       "      <td>1</td>\n",
       "    </tr>\n",
       "    <tr>\n",
       "      <th>2</th>\n",
       "      <td>Achn039041</td>\n",
       "      <td>MDWDWDLTELGQEDLVGSSSLEAHKNGGGFSVELKLGGLGDLGDGS...</td>\n",
       "      <td>376</td>\n",
       "      <td>1</td>\n",
       "    </tr>\n",
       "    <tr>\n",
       "      <th>3</th>\n",
       "      <td>Achn064091</td>\n",
       "      <td>MGSGSSSSSDSLHGLKFGHKIYFDDSGGGGPPSASALGGRPPAAAP...</td>\n",
       "      <td>349</td>\n",
       "      <td>1</td>\n",
       "    </tr>\n",
       "    <tr>\n",
       "      <th>4</th>\n",
       "      <td>Achn082431</td>\n",
       "      <td>MDPPTPPPPPPLSDMENPIPHYDDPLWNWSDFLDFGIDAEAQFSIS...</td>\n",
       "      <td>849</td>\n",
       "      <td>1</td>\n",
       "    </tr>\n",
       "  </tbody>\n",
       "</table>\n",
       "</div>"
      ],
      "text/plain": [
       "           id                                           sequence  length  \\\n",
       "0  Achn016511  MEEVGAQVAPPIFMHQNLGGRFCEGHSMTKKRGQPNFHHQQPRLTS...     916   \n",
       "1  Achn017541  MGSVSGSSSYGGQGMKGDFSVDLKLGHVVNAGNESTDNLQVPSVPK...     319   \n",
       "2  Achn039041  MDWDWDLTELGQEDLVGSSSLEAHKNGGGFSVELKLGGLGDLGDGS...     376   \n",
       "3  Achn064091  MGSGSSSSSDSLHGLKFGHKIYFDDSGGGGPPSASALGGRPPAAAP...     349   \n",
       "4  Achn082431  MDPPTPPPPPPLSDMENPIPHYDDPLWNWSDFLDFGIDAEAQFSIS...     849   \n",
       "\n",
       "   class  \n",
       "0      1  \n",
       "1      1  \n",
       "2      1  \n",
       "3      1  \n",
       "4      1  "
      ]
     },
     "execution_count": 3,
     "metadata": {},
     "output_type": "execute_result"
    }
   ],
   "source": [
    "# READ GENE_INFO JSON FILE\n",
    "gene_info_path = \"../data/gene_info.json\"\n",
    "dataset_path   = \"../data/one_vs_other/\"\n",
    "with open(gene_info_path, 'r') as json_file:\n",
    "    gene_info = json.load(json_file)\n",
    "\n",
    "# FOCUS ON GENE FAMILLY\n",
    "gene_dict = gene_info[gene_familly]\n",
    "df_path = dataset_path+gene_dict['file_code']+\".csv\"\n",
    "\n",
    "# LOAD WHOLE DATASET\n",
    "USE_FULL_DF = True\n",
    "if USE_FULL_DF:\n",
    "    dataset = pd.read_csv(df_path)\n",
    "else:\n",
    "    dataset_ = pd.read_csv(df_path)\n",
    "    r = min(5000/len(dataset_), 1)\n",
    "    _, dataset = train_test_split(dataset_, test_size=r, stratify=dataset_['class'], random_state=42)\n",
    "dataset.head()"
   ]
  },
  {
   "cell_type": "code",
   "execution_count": 4,
   "id": "745dff8f-540b-4299-a3f0-dabda69bd837",
   "metadata": {
    "execution": {
     "iopub.execute_input": "2024-07-04T12:38:20.163121Z",
     "iopub.status.busy": "2024-07-04T12:38:20.162880Z",
     "iopub.status.idle": "2024-07-04T12:38:20.168841Z",
     "shell.execute_reply": "2024-07-04T12:38:20.168467Z"
    },
    "papermill": {
     "duration": 0.00837,
     "end_time": "2024-07-04T12:38:20.169719",
     "exception": false,
     "start_time": "2024-07-04T12:38:20.161349",
     "status": "completed"
    },
    "tags": []
   },
   "outputs": [],
   "source": [
    "trainset, testset = train_test_split(dataset, test_size=0.2, stratify=dataset['class'], random_state=42)"
   ]
  },
  {
   "cell_type": "code",
   "execution_count": 5,
   "id": "a9b8b47d-48c6-4e94-a378-574904e308ee",
   "metadata": {
    "execution": {
     "iopub.execute_input": "2024-07-04T12:38:20.172300Z",
     "iopub.status.busy": "2024-07-04T12:38:20.172169Z",
     "iopub.status.idle": "2024-07-04T12:38:20.179584Z",
     "shell.execute_reply": "2024-07-04T12:38:20.179268Z"
    },
    "papermill": {
     "duration": 0.009741,
     "end_time": "2024-07-04T12:38:20.180457",
     "exception": false,
     "start_time": "2024-07-04T12:38:20.170716",
     "status": "completed"
    },
    "tags": []
   },
   "outputs": [
    {
     "name": "stderr",
     "output_type": "stream",
     "text": [
      "/var/folders/w8/b_cflrn97k9c15rcrn5t8mmr0000gn/T/ipykernel_22829/2288533763.py:2: FutureWarning: Setting an item of incompatible dtype is deprecated and will raise in a future error of pandas. Value 'SBP' has dtype incompatible with int64, please explicitly cast to a compatible dtype first.\n",
      "  testset_positive.loc[:, 'class'] = gene_familly\n"
     ]
    },
    {
     "data": {
      "text/html": [
       "<div>\n",
       "<style scoped>\n",
       "    .dataframe tbody tr th:only-of-type {\n",
       "        vertical-align: middle;\n",
       "    }\n",
       "\n",
       "    .dataframe tbody tr th {\n",
       "        vertical-align: top;\n",
       "    }\n",
       "\n",
       "    .dataframe thead th {\n",
       "        text-align: right;\n",
       "    }\n",
       "</style>\n",
       "<table border=\"1\" class=\"dataframe\">\n",
       "  <thead>\n",
       "    <tr style=\"text-align: right;\">\n",
       "      <th></th>\n",
       "      <th>id</th>\n",
       "      <th>sequence</th>\n",
       "      <th>length</th>\n",
       "      <th>class</th>\n",
       "    </tr>\n",
       "  </thead>\n",
       "  <tbody>\n",
       "    <tr>\n",
       "      <th>581</th>\n",
       "      <td>C.cajan_29931 -- SBP</td>\n",
       "      <td>MEAQLEGKSPYFYGPVVPEMKSVGKRSLEWDLNDWKWDGDLFTARQ...</td>\n",
       "      <td>1038</td>\n",
       "      <td>SBP</td>\n",
       "    </tr>\n",
       "    <tr>\n",
       "      <th>580</th>\n",
       "      <td>C.cajan_26913 -- SBP</td>\n",
       "      <td>MESWSFVGEEKGYVSNGALSSPNTLGRSKGSFLGWELKTPCSFSND...</td>\n",
       "      <td>508</td>\n",
       "      <td>SBP</td>\n",
       "    </tr>\n",
       "    <tr>\n",
       "      <th>463</th>\n",
       "      <td>XP_013586424.1 -- SBP</td>\n",
       "      <td>MDCNMTSPLWDWDHFLMSNPSKTENDKRQPSTEWGIEKGEGIESIF...</td>\n",
       "      <td>352</td>\n",
       "      <td>SBP</td>\n",
       "    </tr>\n",
       "    <tr>\n",
       "      <th>1583</th>\n",
       "      <td>Gorai.006G066700.2 -- SBP</td>\n",
       "      <td>MEMGSSSLTESGGSSTNSSAESLNGLKFGKKIYFEDTAAVAATAGG...</td>\n",
       "      <td>384</td>\n",
       "      <td>SBP</td>\n",
       "    </tr>\n",
       "    <tr>\n",
       "      <th>3285</th>\n",
       "      <td>SapurV1A.0176s0510.1.p -- SBP</td>\n",
       "      <td>MEATIGGKSRHFYGPVVSDLKEDGKKNLEWDLNDWKWDGDLFTASP...</td>\n",
       "      <td>1035</td>\n",
       "      <td>SBP</td>\n",
       "    </tr>\n",
       "    <tr>\n",
       "      <th>...</th>\n",
       "      <td>...</td>\n",
       "      <td>...</td>\n",
       "      <td>...</td>\n",
       "      <td>...</td>\n",
       "    </tr>\n",
       "    <tr>\n",
       "      <th>3388</th>\n",
       "      <td>Seita.1G091900.4.p -- SBP</td>\n",
       "      <td>MMDDPSTRRTAGIFGSGMGSFGMDWSQKGSVLWDWENLPPIGANGN...</td>\n",
       "      <td>484</td>\n",
       "      <td>SBP</td>\n",
       "    </tr>\n",
       "    <tr>\n",
       "      <th>3991</th>\n",
       "      <td>GRMZM2G414805_P06 -- SBP</td>\n",
       "      <td>MGSFGMNWNQKDPMVWDWEHLVPSVSNAVTRHGSANSSGGTLTSNS...</td>\n",
       "      <td>206</td>\n",
       "      <td>SBP</td>\n",
       "    </tr>\n",
       "    <tr>\n",
       "      <th>2064</th>\n",
       "      <td>Migut.O00397.1.p -- SBP</td>\n",
       "      <td>MESKIGGEKIHKSMEWDSNEWRWDGALLVATPLNSVPSDCRSRQLG...</td>\n",
       "      <td>930</td>\n",
       "      <td>SBP</td>\n",
       "    </tr>\n",
       "    <tr>\n",
       "      <th>1099</th>\n",
       "      <td>XP_010913683.1 -- SBP</td>\n",
       "      <td>MMNRANSAEAYIPSMMPVVGLEGSSQKLHLWDYDTTTPLHNHPTAT...</td>\n",
       "      <td>396</td>\n",
       "      <td>SBP</td>\n",
       "    </tr>\n",
       "    <tr>\n",
       "      <th>850</th>\n",
       "      <td>XP_004497906.1 -- SBP</td>\n",
       "      <td>MSSPSSPPSSSNEFLDGLKFGQKVYFEAKPNGGSSSSSGITTKKGN...</td>\n",
       "      <td>324</td>\n",
       "      <td>SBP</td>\n",
       "    </tr>\n",
       "  </tbody>\n",
       "</table>\n",
       "<p>834 rows × 4 columns</p>\n",
       "</div>"
      ],
      "text/plain": [
       "                                 id  \\\n",
       "581            C.cajan_29931 -- SBP   \n",
       "580            C.cajan_26913 -- SBP   \n",
       "463           XP_013586424.1 -- SBP   \n",
       "1583      Gorai.006G066700.2 -- SBP   \n",
       "3285  SapurV1A.0176s0510.1.p -- SBP   \n",
       "...                             ...   \n",
       "3388      Seita.1G091900.4.p -- SBP   \n",
       "3991       GRMZM2G414805_P06 -- SBP   \n",
       "2064        Migut.O00397.1.p -- SBP   \n",
       "1099          XP_010913683.1 -- SBP   \n",
       "850           XP_004497906.1 -- SBP   \n",
       "\n",
       "                                               sequence  length class  \n",
       "581   MEAQLEGKSPYFYGPVVPEMKSVGKRSLEWDLNDWKWDGDLFTARQ...    1038   SBP  \n",
       "580   MESWSFVGEEKGYVSNGALSSPNTLGRSKGSFLGWELKTPCSFSND...     508   SBP  \n",
       "463   MDCNMTSPLWDWDHFLMSNPSKTENDKRQPSTEWGIEKGEGIESIF...     352   SBP  \n",
       "1583  MEMGSSSLTESGGSSTNSSAESLNGLKFGKKIYFEDTAAVAATAGG...     384   SBP  \n",
       "3285  MEATIGGKSRHFYGPVVSDLKEDGKKNLEWDLNDWKWDGDLFTASP...    1035   SBP  \n",
       "...                                                 ...     ...   ...  \n",
       "3388  MMDDPSTRRTAGIFGSGMGSFGMDWSQKGSVLWDWENLPPIGANGN...     484   SBP  \n",
       "3991  MGSFGMNWNQKDPMVWDWEHLVPSVSNAVTRHGSANSSGGTLTSNS...     206   SBP  \n",
       "2064  MESKIGGEKIHKSMEWDSNEWRWDGALLVATPLNSVPSDCRSRQLG...     930   SBP  \n",
       "1099  MMNRANSAEAYIPSMMPVVGLEGSSQKLHLWDYDTTTPLHNHPTAT...     396   SBP  \n",
       "850   MSSPSSPPSSSNEFLDGLKFGQKVYFEAKPNGGSSSSSGITTKKGN...     324   SBP  \n",
       "\n",
       "[834 rows x 4 columns]"
      ]
     },
     "execution_count": 5,
     "metadata": {},
     "output_type": "execute_result"
    }
   ],
   "source": [
    "testset_positive = testset[testset['class'] == 1]\n",
    "testset_positive.loc[:, 'class'] = gene_familly\n",
    "testset_positive.loc[:, 'id'] = testset_positive['id'].apply(lambda x: f\"{x} -- {gene_familly}\")\n",
    "testset_positive"
   ]
  },
  {
   "cell_type": "code",
   "execution_count": 6,
   "id": "25a9ad39-47e0-4b0a-9669-c9ed5c6cafa3",
   "metadata": {
    "execution": {
     "iopub.execute_input": "2024-07-04T12:38:20.183452Z",
     "iopub.status.busy": "2024-07-04T12:38:20.183324Z",
     "iopub.status.idle": "2024-07-04T12:38:20.266608Z",
     "shell.execute_reply": "2024-07-04T12:38:20.266186Z"
    },
    "papermill": {
     "duration": 0.085868,
     "end_time": "2024-07-04T12:38:20.267521",
     "exception": false,
     "start_time": "2024-07-04T12:38:20.181653",
     "status": "completed"
    },
    "tags": []
   },
   "outputs": [],
   "source": [
    "testset_positive.to_csv(\"../data/testset/\"+gene_dict['file_code']+\".csv\")\n",
    "trainset.to_csv(\"../data/mix_data/trainset/\"+gene_dict['file_code']+\".csv\")\n",
    "testset.to_csv(\"../data/mix_data/testset/\"+gene_dict['file_code']+\".csv\")"
   ]
  },
  {
   "cell_type": "code",
   "execution_count": null,
   "id": "4107c4c5-3c5d-44f9-af27-5b81b6d102e5",
   "metadata": {
    "papermill": {
     "duration": 0.001188,
     "end_time": "2024-07-04T12:38:20.269967",
     "exception": false,
     "start_time": "2024-07-04T12:38:20.268779",
     "status": "completed"
    },
    "tags": []
   },
   "outputs": [],
   "source": []
  }
 ],
 "metadata": {
  "kernelspec": {
   "display_name": "Python 3 (ipykernel)",
   "language": "python",
   "name": "python3"
  },
  "language_info": {
   "codemirror_mode": {
    "name": "ipython",
    "version": 3
   },
   "file_extension": ".py",
   "mimetype": "text/x-python",
   "name": "python",
   "nbconvert_exporter": "python",
   "pygments_lexer": "ipython3",
   "version": "3.11.7"
  },
  "papermill": {
   "default_parameters": {},
   "duration": 1.883161,
   "end_time": "2024-07-04T12:38:20.588958",
   "environment_variables": {},
   "exception": null,
   "input_path": "05-extract_testset-0.ipynb",
   "output_path": "AutoSave/TestGen/05-extract_testset-0-SBP.ipynb",
   "parameters": {
    "gene_familly": "SBP"
   },
   "start_time": "2024-07-04T12:38:18.705797",
   "version": "2.6.0"
  }
 },
 "nbformat": 4,
 "nbformat_minor": 5
}