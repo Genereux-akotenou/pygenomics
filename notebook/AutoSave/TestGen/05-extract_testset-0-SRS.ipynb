{
 "cells": [
  {
   "cell_type": "code",
   "execution_count": 1,
   "id": "22208349",
   "metadata": {
    "execution": {
     "iopub.execute_input": "2024-07-04T12:38:21.187151Z",
     "iopub.status.busy": "2024-07-04T12:38:21.186882Z",
     "iopub.status.idle": "2024-07-04T12:38:21.192444Z",
     "shell.execute_reply": "2024-07-04T12:38:21.191984Z"
    },
    "papermill": {
     "duration": 0.009004,
     "end_time": "2024-07-04T12:38:21.193466",
     "exception": false,
     "start_time": "2024-07-04T12:38:21.184462",
     "status": "completed"
    },
    "tags": [
     "injected-parameters"
    ]
   },
   "outputs": [],
   "source": [
    "# Parameters\n",
    "gene_familly = \"SRS\"\n"
   ]
  },
  {
   "cell_type": "code",
   "execution_count": 2,
   "id": "e7cdbe25-11a6-48da-abd4-9ae5eee27bfe",
   "metadata": {
    "execution": {
     "iopub.execute_input": "2024-07-04T12:38:21.196066Z",
     "iopub.status.busy": "2024-07-04T12:38:21.195883Z",
     "iopub.status.idle": "2024-07-04T12:38:21.964480Z",
     "shell.execute_reply": "2024-07-04T12:38:21.964011Z"
    },
    "papermill": {
     "duration": 0.771254,
     "end_time": "2024-07-04T12:38:21.965767",
     "exception": false,
     "start_time": "2024-07-04T12:38:21.194513",
     "status": "completed"
    },
    "tags": []
   },
   "outputs": [],
   "source": [
    "import json\n",
    "import pandas as pd\n",
    "from sklearn.model_selection import train_test_split"
   ]
  },
  {
   "cell_type": "code",
   "execution_count": 3,
   "id": "6e20f340-8cbc-46f2-be83-6f1c4523930a",
   "metadata": {
    "execution": {
     "iopub.execute_input": "2024-07-04T12:38:21.968821Z",
     "iopub.status.busy": "2024-07-04T12:38:21.968546Z",
     "iopub.status.idle": "2024-07-04T12:38:21.987671Z",
     "shell.execute_reply": "2024-07-04T12:38:21.987403Z"
    },
    "papermill": {
     "duration": 0.021732,
     "end_time": "2024-07-04T12:38:21.988694",
     "exception": false,
     "start_time": "2024-07-04T12:38:21.966962",
     "status": "completed"
    },
    "tags": []
   },
   "outputs": [
    {
     "data": {
      "text/html": [
       "<div>\n",
       "<style scoped>\n",
       "    .dataframe tbody tr th:only-of-type {\n",
       "        vertical-align: middle;\n",
       "    }\n",
       "\n",
       "    .dataframe tbody tr th {\n",
       "        vertical-align: top;\n",
       "    }\n",
       "\n",
       "    .dataframe thead th {\n",
       "        text-align: right;\n",
       "    }\n",
       "</style>\n",
       "<table border=\"1\" class=\"dataframe\">\n",
       "  <thead>\n",
       "    <tr style=\"text-align: right;\">\n",
       "      <th></th>\n",
       "      <th>id</th>\n",
       "      <th>sequence</th>\n",
       "      <th>length</th>\n",
       "      <th>class</th>\n",
       "    </tr>\n",
       "  </thead>\n",
       "  <tbody>\n",
       "    <tr>\n",
       "      <th>0</th>\n",
       "      <td>Achn025861</td>\n",
       "      <td>MNDNPINPAIIGKARQKRKKSIIPNEKPVFVPVINSRKEKNRKEKE...</td>\n",
       "      <td>280</td>\n",
       "      <td>1</td>\n",
       "    </tr>\n",
       "    <tr>\n",
       "      <th>1</th>\n",
       "      <td>Achn049041</td>\n",
       "      <td>MSGFFSLGGKQEKSTTTNSLFLLRNEEIYNKSFELWQQYYHLHQQK...</td>\n",
       "      <td>280</td>\n",
       "      <td>1</td>\n",
       "    </tr>\n",
       "    <tr>\n",
       "      <th>2</th>\n",
       "      <td>Achn084931</td>\n",
       "      <td>MSAVVATTRRFPSDSGAFADWVASSSSSGPRATEDLSLGFNAGGGS...</td>\n",
       "      <td>390</td>\n",
       "      <td>1</td>\n",
       "    </tr>\n",
       "    <tr>\n",
       "      <th>3</th>\n",
       "      <td>Achn131151</td>\n",
       "      <td>MRPGMNCQDCGNQAKKDCVHLRCRTCCKSWGLPCQTHVKSTWVPAA...</td>\n",
       "      <td>210</td>\n",
       "      <td>1</td>\n",
       "    </tr>\n",
       "    <tr>\n",
       "      <th>4</th>\n",
       "      <td>Achn135131</td>\n",
       "      <td>MAGFFSLGGGRETNTNDQDHQQQTQNPNNPVAEISPENWFLYRNED...</td>\n",
       "      <td>318</td>\n",
       "      <td>1</td>\n",
       "    </tr>\n",
       "  </tbody>\n",
       "</table>\n",
       "</div>"
      ],
      "text/plain": [
       "           id                                           sequence  length  \\\n",
       "0  Achn025861  MNDNPINPAIIGKARQKRKKSIIPNEKPVFVPVINSRKEKNRKEKE...     280   \n",
       "1  Achn049041  MSGFFSLGGKQEKSTTTNSLFLLRNEEIYNKSFELWQQYYHLHQQK...     280   \n",
       "2  Achn084931  MSAVVATTRRFPSDSGAFADWVASSSSSGPRATEDLSLGFNAGGGS...     390   \n",
       "3  Achn131151  MRPGMNCQDCGNQAKKDCVHLRCRTCCKSWGLPCQTHVKSTWVPAA...     210   \n",
       "4  Achn135131  MAGFFSLGGGRETNTNDQDHQQQTQNPNNPVAEISPENWFLYRNED...     318   \n",
       "\n",
       "   class  \n",
       "0      1  \n",
       "1      1  \n",
       "2      1  \n",
       "3      1  \n",
       "4      1  "
      ]
     },
     "execution_count": 3,
     "metadata": {},
     "output_type": "execute_result"
    }
   ],
   "source": [
    "# READ GENE_INFO JSON FILE\n",
    "gene_info_path = \"../data/gene_info.json\"\n",
    "dataset_path   = \"../data/one_vs_other/\"\n",
    "with open(gene_info_path, 'r') as json_file:\n",
    "    gene_info = json.load(json_file)\n",
    "\n",
    "# FOCUS ON GENE FAMILLY\n",
    "gene_dict = gene_info[gene_familly]\n",
    "df_path = dataset_path+gene_dict['file_code']+\".csv\"\n",
    "\n",
    "# LOAD WHOLE DATASET\n",
    "USE_FULL_DF = True\n",
    "if USE_FULL_DF:\n",
    "    dataset = pd.read_csv(df_path)\n",
    "else:\n",
    "    dataset_ = pd.read_csv(df_path)\n",
    "    r = min(5000/len(dataset_), 1)\n",
    "    _, dataset = train_test_split(dataset_, test_size=r, stratify=dataset_['class'], random_state=42)\n",
    "dataset.head()"
   ]
  },
  {
   "cell_type": "code",
   "execution_count": 4,
   "id": "745dff8f-540b-4299-a3f0-dabda69bd837",
   "metadata": {
    "execution": {
     "iopub.execute_input": "2024-07-04T12:38:21.991291Z",
     "iopub.status.busy": "2024-07-04T12:38:21.991156Z",
     "iopub.status.idle": "2024-07-04T12:38:21.994897Z",
     "shell.execute_reply": "2024-07-04T12:38:21.994633Z"
    },
    "papermill": {
     "duration": 0.006045,
     "end_time": "2024-07-04T12:38:21.995814",
     "exception": false,
     "start_time": "2024-07-04T12:38:21.989769",
     "status": "completed"
    },
    "tags": []
   },
   "outputs": [],
   "source": [
    "trainset, testset = train_test_split(dataset, test_size=0.2, stratify=dataset['class'], random_state=42)"
   ]
  },
  {
   "cell_type": "code",
   "execution_count": 5,
   "id": "a9b8b47d-48c6-4e94-a378-574904e308ee",
   "metadata": {
    "execution": {
     "iopub.execute_input": "2024-07-04T12:38:21.998209Z",
     "iopub.status.busy": "2024-07-04T12:38:21.998093Z",
     "iopub.status.idle": "2024-07-04T12:38:22.004493Z",
     "shell.execute_reply": "2024-07-04T12:38:22.004202Z"
    },
    "papermill": {
     "duration": 0.008582,
     "end_time": "2024-07-04T12:38:22.005372",
     "exception": false,
     "start_time": "2024-07-04T12:38:21.996790",
     "status": "completed"
    },
    "tags": []
   },
   "outputs": [
    {
     "name": "stderr",
     "output_type": "stream",
     "text": [
      "/var/folders/w8/b_cflrn97k9c15rcrn5t8mmr0000gn/T/ipykernel_22835/2288533763.py:2: FutureWarning: Setting an item of incompatible dtype is deprecated and will raise in a future error of pandas. Value 'SRS' has dtype incompatible with int64, please explicitly cast to a compatible dtype first.\n",
      "  testset_positive.loc[:, 'class'] = gene_familly\n"
     ]
    },
    {
     "data": {
      "text/html": [
       "<div>\n",
       "<style scoped>\n",
       "    .dataframe tbody tr th:only-of-type {\n",
       "        vertical-align: middle;\n",
       "    }\n",
       "\n",
       "    .dataframe tbody tr th {\n",
       "        vertical-align: top;\n",
       "    }\n",
       "\n",
       "    .dataframe thead th {\n",
       "        text-align: right;\n",
       "    }\n",
       "</style>\n",
       "<table border=\"1\" class=\"dataframe\">\n",
       "  <thead>\n",
       "    <tr style=\"text-align: right;\">\n",
       "      <th></th>\n",
       "      <th>id</th>\n",
       "      <th>sequence</th>\n",
       "      <th>length</th>\n",
       "      <th>class</th>\n",
       "    </tr>\n",
       "  </thead>\n",
       "  <tbody>\n",
       "    <tr>\n",
       "      <th>187</th>\n",
       "      <td>GSBRNA2T00126439001 -- SRS</td>\n",
       "      <td>MLGLRNIILLPPPSQIIHPSVEDNNNNKARNSNVEEKVCRDCGNRA...</td>\n",
       "      <td>202</td>\n",
       "      <td>SRS</td>\n",
       "    </tr>\n",
       "    <tr>\n",
       "      <th>413</th>\n",
       "      <td>KZV53363.1 -- SRS</td>\n",
       "      <td>MMMSGEEARETVSGGSSSSCSKCHDCGNQAKKDCSYLRCRTCCKNR...</td>\n",
       "      <td>183</td>\n",
       "      <td>SRS</td>\n",
       "    </tr>\n",
       "    <tr>\n",
       "      <th>2</th>\n",
       "      <td>Achn084931 -- SRS</td>\n",
       "      <td>MSAVVATTRRFPSDSGAFADWVASSSSSGPRATEDLSLGFNAGGGS...</td>\n",
       "      <td>390</td>\n",
       "      <td>SRS</td>\n",
       "    </tr>\n",
       "    <tr>\n",
       "      <th>39</th>\n",
       "      <td>Aco014053.1 -- SRS</td>\n",
       "      <td>LSLGTPSTRHAGAGPGFGGPGPAQPPSSLQWDVMGRPNKQQCCGGG...</td>\n",
       "      <td>201</td>\n",
       "      <td>SRS</td>\n",
       "    </tr>\n",
       "    <tr>\n",
       "      <th>505</th>\n",
       "      <td>KHN00507.1 -- SRS</td>\n",
       "      <td>MRCRTCCKSRGYDCQTHVKSTWVPASKRRERQQALAALQQQQQEQQ...</td>\n",
       "      <td>195</td>\n",
       "      <td>SRS</td>\n",
       "    </tr>\n",
       "    <tr>\n",
       "      <th>...</th>\n",
       "      <td>...</td>\n",
       "      <td>...</td>\n",
       "      <td>...</td>\n",
       "      <td>...</td>\n",
       "    </tr>\n",
       "    <tr>\n",
       "      <th>660</th>\n",
       "      <td>Lus10001085 -- SRS</td>\n",
       "      <td>MATSSPAPSNIISDAAANPATPASLQRIDGTTPKTLRGLNKPKCIQ...</td>\n",
       "      <td>334</td>\n",
       "      <td>SRS</td>\n",
       "    </tr>\n",
       "    <tr>\n",
       "      <th>1103</th>\n",
       "      <td>Seita.5G456500.1.p -- SRS</td>\n",
       "      <td>MRQAAALNYGMADVGMVVVAPAASFHHTHHHHHHHEAAAAAAAAAG...</td>\n",
       "      <td>358</td>\n",
       "      <td>SRS</td>\n",
       "    </tr>\n",
       "    <tr>\n",
       "      <th>975</th>\n",
       "      <td>Potri.001G027700.1 -- SRS</td>\n",
       "      <td>MLGLHNILFIAPPPSPFHHHQPPHIPSTHQIANTNDQCNIANNQES...</td>\n",
       "      <td>278</td>\n",
       "      <td>SRS</td>\n",
       "    </tr>\n",
       "    <tr>\n",
       "      <th>348</th>\n",
       "      <td>Ciclev10015674m -- SRS</td>\n",
       "      <td>MGMFVVAPASSFNHHHHHLHHHLHNHESSINVNSSDPMAAQNAAAA...</td>\n",
       "      <td>370</td>\n",
       "      <td>SRS</td>\n",
       "    </tr>\n",
       "    <tr>\n",
       "      <th>1301</th>\n",
       "      <td>Zjn_sc00068.1.g02900.1.sm.mk -- SRS</td>\n",
       "      <td>MAGFSLRGGGGGGGGRAGDRSGDHSIGADSLFLYARGAAAAAADTA...</td>\n",
       "      <td>350</td>\n",
       "      <td>SRS</td>\n",
       "    </tr>\n",
       "  </tbody>\n",
       "</table>\n",
       "<p>266 rows × 4 columns</p>\n",
       "</div>"
      ],
      "text/plain": [
       "                                       id  \\\n",
       "187            GSBRNA2T00126439001 -- SRS   \n",
       "413                     KZV53363.1 -- SRS   \n",
       "2                       Achn084931 -- SRS   \n",
       "39                     Aco014053.1 -- SRS   \n",
       "505                     KHN00507.1 -- SRS   \n",
       "...                                   ...   \n",
       "660                    Lus10001085 -- SRS   \n",
       "1103            Seita.5G456500.1.p -- SRS   \n",
       "975             Potri.001G027700.1 -- SRS   \n",
       "348                Ciclev10015674m -- SRS   \n",
       "1301  Zjn_sc00068.1.g02900.1.sm.mk -- SRS   \n",
       "\n",
       "                                               sequence  length class  \n",
       "187   MLGLRNIILLPPPSQIIHPSVEDNNNNKARNSNVEEKVCRDCGNRA...     202   SRS  \n",
       "413   MMMSGEEARETVSGGSSSSCSKCHDCGNQAKKDCSYLRCRTCCKNR...     183   SRS  \n",
       "2     MSAVVATTRRFPSDSGAFADWVASSSSSGPRATEDLSLGFNAGGGS...     390   SRS  \n",
       "39    LSLGTPSTRHAGAGPGFGGPGPAQPPSSLQWDVMGRPNKQQCCGGG...     201   SRS  \n",
       "505   MRCRTCCKSRGYDCQTHVKSTWVPASKRRERQQALAALQQQQQEQQ...     195   SRS  \n",
       "...                                                 ...     ...   ...  \n",
       "660   MATSSPAPSNIISDAAANPATPASLQRIDGTTPKTLRGLNKPKCIQ...     334   SRS  \n",
       "1103  MRQAAALNYGMADVGMVVVAPAASFHHTHHHHHHHEAAAAAAAAAG...     358   SRS  \n",
       "975   MLGLHNILFIAPPPSPFHHHQPPHIPSTHQIANTNDQCNIANNQES...     278   SRS  \n",
       "348   MGMFVVAPASSFNHHHHHLHHHLHNHESSINVNSSDPMAAQNAAAA...     370   SRS  \n",
       "1301  MAGFSLRGGGGGGGGRAGDRSGDHSIGADSLFLYARGAAAAAADTA...     350   SRS  \n",
       "\n",
       "[266 rows x 4 columns]"
      ]
     },
     "execution_count": 5,
     "metadata": {},
     "output_type": "execute_result"
    }
   ],
   "source": [
    "testset_positive = testset[testset['class'] == 1]\n",
    "testset_positive.loc[:, 'class'] = gene_familly\n",
    "testset_positive.loc[:, 'id'] = testset_positive['id'].apply(lambda x: f\"{x} -- {gene_familly}\")\n",
    "testset_positive"
   ]
  },
  {
   "cell_type": "code",
   "execution_count": 6,
   "id": "25a9ad39-47e0-4b0a-9669-c9ed5c6cafa3",
   "metadata": {
    "execution": {
     "iopub.execute_input": "2024-07-04T12:38:22.008328Z",
     "iopub.status.busy": "2024-07-04T12:38:22.008189Z",
     "iopub.status.idle": "2024-07-04T12:38:22.034192Z",
     "shell.execute_reply": "2024-07-04T12:38:22.033847Z"
    },
    "papermill": {
     "duration": 0.028521,
     "end_time": "2024-07-04T12:38:22.035138",
     "exception": false,
     "start_time": "2024-07-04T12:38:22.006617",
     "status": "completed"
    },
    "tags": []
   },
   "outputs": [],
   "source": [
    "testset_positive.to_csv(\"../data/testset/\"+gene_dict['file_code']+\".csv\")\n",
    "trainset.to_csv(\"../data/mix_data/trainset/\"+gene_dict['file_code']+\".csv\")\n",
    "testset.to_csv(\"../data/mix_data/testset/\"+gene_dict['file_code']+\".csv\")"
   ]
  },
  {
   "cell_type": "code",
   "execution_count": null,
   "id": "4107c4c5-3c5d-44f9-af27-5b81b6d102e5",
   "metadata": {
    "papermill": {
     "duration": 0.001209,
     "end_time": "2024-07-04T12:38:22.037549",
     "exception": false,
     "start_time": "2024-07-04T12:38:22.036340",
     "status": "completed"
    },
    "tags": []
   },
   "outputs": [],
   "source": []
  }
 ],
 "metadata": {
  "kernelspec": {
   "display_name": "Python 3 (ipykernel)",
   "language": "python",
   "name": "python3"
  },
  "language_info": {
   "codemirror_mode": {
    "name": "ipython",
    "version": 3
   },
   "file_extension": ".py",
   "mimetype": "text/x-python",
   "name": "python",
   "nbconvert_exporter": "python",
   "pygments_lexer": "ipython3",
   "version": "3.11.7"
  },
  "papermill": {
   "default_parameters": {},
   "duration": 1.76368,
   "end_time": "2024-07-04T12:38:22.356499",
   "environment_variables": {},
   "exception": null,
   "input_path": "05-extract_testset-0.ipynb",
   "output_path": "AutoSave/TestGen/05-extract_testset-0-SRS.ipynb",
   "parameters": {
    "gene_familly": "SRS"
   },
   "start_time": "2024-07-04T12:38:20.592819",
   "version": "2.6.0"
  }
 },
 "nbformat": 4,
 "nbformat_minor": 5
}