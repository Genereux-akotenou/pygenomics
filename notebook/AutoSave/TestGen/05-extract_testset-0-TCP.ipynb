{
 "cells": [
  {
   "cell_type": "code",
   "execution_count": 1,
   "id": "a40603fc",
   "metadata": {
    "execution": {
     "iopub.execute_input": "2024-07-04T12:38:26.779427Z",
     "iopub.status.busy": "2024-07-04T12:38:26.779150Z",
     "iopub.status.idle": "2024-07-04T12:38:26.784716Z",
     "shell.execute_reply": "2024-07-04T12:38:26.784196Z"
    },
    "papermill": {
     "duration": 0.009059,
     "end_time": "2024-07-04T12:38:26.785767",
     "exception": false,
     "start_time": "2024-07-04T12:38:26.776708",
     "status": "completed"
    },
    "tags": [
     "injected-parameters"
    ]
   },
   "outputs": [],
   "source": [
    "# Parameters\n",
    "gene_familly = \"TCP\"\n"
   ]
  },
  {
   "cell_type": "code",
   "execution_count": 2,
   "id": "e7cdbe25-11a6-48da-abd4-9ae5eee27bfe",
   "metadata": {
    "execution": {
     "iopub.execute_input": "2024-07-04T12:38:26.788406Z",
     "iopub.status.busy": "2024-07-04T12:38:26.788219Z",
     "iopub.status.idle": "2024-07-04T12:38:27.531145Z",
     "shell.execute_reply": "2024-07-04T12:38:27.530685Z"
    },
    "papermill": {
     "duration": 0.74549,
     "end_time": "2024-07-04T12:38:27.532314",
     "exception": false,
     "start_time": "2024-07-04T12:38:26.786824",
     "status": "completed"
    },
    "tags": []
   },
   "outputs": [],
   "source": [
    "import json\n",
    "import pandas as pd\n",
    "from sklearn.model_selection import train_test_split"
   ]
  },
  {
   "cell_type": "code",
   "execution_count": 3,
   "id": "6e20f340-8cbc-46f2-be83-6f1c4523930a",
   "metadata": {
    "execution": {
     "iopub.execute_input": "2024-07-04T12:38:27.535560Z",
     "iopub.status.busy": "2024-07-04T12:38:27.535167Z",
     "iopub.status.idle": "2024-07-04T12:38:27.579096Z",
     "shell.execute_reply": "2024-07-04T12:38:27.578686Z"
    },
    "papermill": {
     "duration": 0.04665,
     "end_time": "2024-07-04T12:38:27.580100",
     "exception": false,
     "start_time": "2024-07-04T12:38:27.533450",
     "status": "completed"
    },
    "tags": []
   },
   "outputs": [
    {
     "data": {
      "text/html": [
       "<div>\n",
       "<style scoped>\n",
       "    .dataframe tbody tr th:only-of-type {\n",
       "        vertical-align: middle;\n",
       "    }\n",
       "\n",
       "    .dataframe tbody tr th {\n",
       "        vertical-align: top;\n",
       "    }\n",
       "\n",
       "    .dataframe thead th {\n",
       "        text-align: right;\n",
       "    }\n",
       "</style>\n",
       "<table border=\"1\" class=\"dataframe\">\n",
       "  <thead>\n",
       "    <tr style=\"text-align: right;\">\n",
       "      <th></th>\n",
       "      <th>id</th>\n",
       "      <th>sequence</th>\n",
       "      <th>length</th>\n",
       "      <th>class</th>\n",
       "    </tr>\n",
       "  </thead>\n",
       "  <tbody>\n",
       "    <tr>\n",
       "      <th>0</th>\n",
       "      <td>Achn004651</td>\n",
       "      <td>MEVEEIQNQGCKFPRISNGRGDLTKIGQKGEDQYQEDEKDGEVKRG...</td>\n",
       "      <td>420</td>\n",
       "      <td>1</td>\n",
       "    </tr>\n",
       "    <tr>\n",
       "      <th>1</th>\n",
       "      <td>Achn033791</td>\n",
       "      <td>MYPFNTNGNLISYTLYNPNSKQDHPPPPSSLSYFPSPPYIPYEDDD...</td>\n",
       "      <td>404</td>\n",
       "      <td>1</td>\n",
       "    </tr>\n",
       "    <tr>\n",
       "      <th>2</th>\n",
       "      <td>Achn033961</td>\n",
       "      <td>MYPSNTNGNLISYTLYDYDLNNANSKQDYHPPIPPPLSSISYFPSP...</td>\n",
       "      <td>322</td>\n",
       "      <td>1</td>\n",
       "    </tr>\n",
       "    <tr>\n",
       "      <th>3</th>\n",
       "      <td>Achn039311</td>\n",
       "      <td>MSITENNNNNNKNKPQEIKDLQIVIADKEEASKKQLAPKRSSNKDR...</td>\n",
       "      <td>249</td>\n",
       "      <td>1</td>\n",
       "    </tr>\n",
       "    <tr>\n",
       "      <th>4</th>\n",
       "      <td>Achn039821</td>\n",
       "      <td>MYPSSNNDNTPITYPSLDQTICFKSSLYDDFTSNSTQDQDPQSSSL...</td>\n",
       "      <td>324</td>\n",
       "      <td>1</td>\n",
       "    </tr>\n",
       "  </tbody>\n",
       "</table>\n",
       "</div>"
      ],
      "text/plain": [
       "           id                                           sequence  length  \\\n",
       "0  Achn004651  MEVEEIQNQGCKFPRISNGRGDLTKIGQKGEDQYQEDEKDGEVKRG...     420   \n",
       "1  Achn033791  MYPFNTNGNLISYTLYNPNSKQDHPPPPSSLSYFPSPPYIPYEDDD...     404   \n",
       "2  Achn033961  MYPSNTNGNLISYTLYDYDLNNANSKQDYHPPIPPPLSSISYFPSP...     322   \n",
       "3  Achn039311  MSITENNNNNNKNKPQEIKDLQIVIADKEEASKKQLAPKRSSNKDR...     249   \n",
       "4  Achn039821  MYPSSNNDNTPITYPSLDQTICFKSSLYDDFTSNSTQDQDPQSSSL...     324   \n",
       "\n",
       "   class  \n",
       "0      1  \n",
       "1      1  \n",
       "2      1  \n",
       "3      1  \n",
       "4      1  "
      ]
     },
     "execution_count": 3,
     "metadata": {},
     "output_type": "execute_result"
    }
   ],
   "source": [
    "# READ GENE_INFO JSON FILE\n",
    "gene_info_path = \"../data/gene_info.json\"\n",
    "dataset_path   = \"../data/one_vs_other/\"\n",
    "with open(gene_info_path, 'r') as json_file:\n",
    "    gene_info = json.load(json_file)\n",
    "\n",
    "# FOCUS ON GENE FAMILLY\n",
    "gene_dict = gene_info[gene_familly]\n",
    "df_path = dataset_path+gene_dict['file_code']+\".csv\"\n",
    "\n",
    "# LOAD WHOLE DATASET\n",
    "USE_FULL_DF = True\n",
    "if USE_FULL_DF:\n",
    "    dataset = pd.read_csv(df_path)\n",
    "else:\n",
    "    dataset_ = pd.read_csv(df_path)\n",
    "    r = min(5000/len(dataset_), 1)\n",
    "    _, dataset = train_test_split(dataset_, test_size=r, stratify=dataset_['class'], random_state=42)\n",
    "dataset.head()"
   ]
  },
  {
   "cell_type": "code",
   "execution_count": 4,
   "id": "745dff8f-540b-4299-a3f0-dabda69bd837",
   "metadata": {
    "execution": {
     "iopub.execute_input": "2024-07-04T12:38:27.582859Z",
     "iopub.status.busy": "2024-07-04T12:38:27.582622Z",
     "iopub.status.idle": "2024-07-04T12:38:27.588333Z",
     "shell.execute_reply": "2024-07-04T12:38:27.587978Z"
    },
    "papermill": {
     "duration": 0.008095,
     "end_time": "2024-07-04T12:38:27.589215",
     "exception": false,
     "start_time": "2024-07-04T12:38:27.581120",
     "status": "completed"
    },
    "tags": []
   },
   "outputs": [],
   "source": [
    "trainset, testset = train_test_split(dataset, test_size=0.2, stratify=dataset['class'], random_state=42)"
   ]
  },
  {
   "cell_type": "code",
   "execution_count": 5,
   "id": "a9b8b47d-48c6-4e94-a378-574904e308ee",
   "metadata": {
    "execution": {
     "iopub.execute_input": "2024-07-04T12:38:27.591687Z",
     "iopub.status.busy": "2024-07-04T12:38:27.591556Z",
     "iopub.status.idle": "2024-07-04T12:38:27.598628Z",
     "shell.execute_reply": "2024-07-04T12:38:27.598334Z"
    },
    "papermill": {
     "duration": 0.009332,
     "end_time": "2024-07-04T12:38:27.599500",
     "exception": false,
     "start_time": "2024-07-04T12:38:27.590168",
     "status": "completed"
    },
    "tags": []
   },
   "outputs": [
    {
     "name": "stderr",
     "output_type": "stream",
     "text": [
      "/var/folders/w8/b_cflrn97k9c15rcrn5t8mmr0000gn/T/ipykernel_22854/2288533763.py:2: FutureWarning: Setting an item of incompatible dtype is deprecated and will raise in a future error of pandas. Value 'TCP' has dtype incompatible with int64, please explicitly cast to a compatible dtype first.\n",
      "  testset_positive.loc[:, 'class'] = gene_familly\n"
     ]
    },
    {
     "data": {
      "text/html": [
       "<div>\n",
       "<style scoped>\n",
       "    .dataframe tbody tr th:only-of-type {\n",
       "        vertical-align: middle;\n",
       "    }\n",
       "\n",
       "    .dataframe tbody tr th {\n",
       "        vertical-align: top;\n",
       "    }\n",
       "\n",
       "    .dataframe thead th {\n",
       "        text-align: right;\n",
       "    }\n",
       "</style>\n",
       "<table border=\"1\" class=\"dataframe\">\n",
       "  <thead>\n",
       "    <tr style=\"text-align: right;\">\n",
       "      <th></th>\n",
       "      <th>id</th>\n",
       "      <th>sequence</th>\n",
       "      <th>length</th>\n",
       "      <th>class</th>\n",
       "    </tr>\n",
       "  </thead>\n",
       "  <tbody>\n",
       "    <tr>\n",
       "      <th>139</th>\n",
       "      <td>Araha.1504s0001.1.p -- TCP</td>\n",
       "      <td>MVSKNNKNNIERKGRRTPRSSKDRNNRIRLPVSCASQIFQLTHELG...</td>\n",
       "      <td>226</td>\n",
       "      <td>TCP</td>\n",
       "    </tr>\n",
       "    <tr>\n",
       "      <th>3983</th>\n",
       "      <td>GRMZM2G055024_P01 -- TCP</td>\n",
       "      <td>MATMHEPAAAAGPIRTHPISRFLGAPWGCGGCNGCATTEPTRVGGL...</td>\n",
       "      <td>420</td>\n",
       "      <td>TCP</td>\n",
       "    </tr>\n",
       "    <tr>\n",
       "      <th>370</th>\n",
       "      <td>Brast03G236100.1.p -- TCP</td>\n",
       "      <td>MPSLDEHEQSFPAEMYHQQQQHQETLEAVLRQQVTAAPMAVIPEPG...</td>\n",
       "      <td>227</td>\n",
       "      <td>TCP</td>\n",
       "    </tr>\n",
       "    <tr>\n",
       "      <th>152</th>\n",
       "      <td>Araha.9247s0001.1.p -- TCP</td>\n",
       "      <td>MFPSLDTNGYDLFDPFNPPQTTMLPSFTSYIQSPSSYHHYSSPSFP...</td>\n",
       "      <td>358</td>\n",
       "      <td>TCP</td>\n",
       "    </tr>\n",
       "    <tr>\n",
       "      <th>1815</th>\n",
       "      <td>Kalax.1023s0003.1.p -- TCP</td>\n",
       "      <td>MPALCAARIFQLTRELGHKSDGETIQWLLQQAEPSIIAATGTGTVP...</td>\n",
       "      <td>222</td>\n",
       "      <td>TCP</td>\n",
       "    </tr>\n",
       "    <tr>\n",
       "      <th>...</th>\n",
       "      <td>...</td>\n",
       "      <td>...</td>\n",
       "      <td>...</td>\n",
       "      <td>...</td>\n",
       "    </tr>\n",
       "    <tr>\n",
       "      <th>1637</th>\n",
       "      <td>HL.SW.v1.0.G016895.1 -- TCP</td>\n",
       "      <td>MDLADLQSNNKNNNKVQQQQHQQKQSSSSSSPSSHQFVVPFDGRSS...</td>\n",
       "      <td>401</td>\n",
       "      <td>TCP</td>\n",
       "    </tr>\n",
       "    <tr>\n",
       "      <th>2253</th>\n",
       "      <td>XP_009785152.1 -- TCP</td>\n",
       "      <td>MGTSSRFGLRNTGGEIVEVQGGHIIRSIGRKDRHSKVCTAKGPRDR...</td>\n",
       "      <td>423</td>\n",
       "      <td>TCP</td>\n",
       "    </tr>\n",
       "    <tr>\n",
       "      <th>2686</th>\n",
       "      <td>Pahal.E00625.1 -- TCP</td>\n",
       "      <td>MDPKFPTPPPLNKTEPTTATTTTTTSTAQQLDPKDYQHQQPAQHQE...</td>\n",
       "      <td>322</td>\n",
       "      <td>TCP</td>\n",
       "    </tr>\n",
       "    <tr>\n",
       "      <th>3252</th>\n",
       "      <td>SapurV1A.0232s0150.1.p -- TCP</td>\n",
       "      <td>MEAEEIQRQPRKFSRVGGNGIRDSSRIAQKGNGTDHQYPDDEEDGV...</td>\n",
       "      <td>484</td>\n",
       "      <td>TCP</td>\n",
       "    </tr>\n",
       "    <tr>\n",
       "      <th>816</th>\n",
       "      <td>augustus_masked-scaffold01939-abinit-gene-0.7-...</td>\n",
       "      <td>MASYQEHEVDQDDDGVGGTSDLSSGSGPHQENNPNAYETPALQGLP...</td>\n",
       "      <td>387</td>\n",
       "      <td>TCP</td>\n",
       "    </tr>\n",
       "  </tbody>\n",
       "</table>\n",
       "<p>837 rows × 4 columns</p>\n",
       "</div>"
      ],
      "text/plain": [
       "                                                     id  \\\n",
       "139                          Araha.1504s0001.1.p -- TCP   \n",
       "3983                           GRMZM2G055024_P01 -- TCP   \n",
       "370                           Brast03G236100.1.p -- TCP   \n",
       "152                          Araha.9247s0001.1.p -- TCP   \n",
       "1815                         Kalax.1023s0003.1.p -- TCP   \n",
       "...                                                 ...   \n",
       "1637                        HL.SW.v1.0.G016895.1 -- TCP   \n",
       "2253                              XP_009785152.1 -- TCP   \n",
       "2686                              Pahal.E00625.1 -- TCP   \n",
       "3252                      SapurV1A.0232s0150.1.p -- TCP   \n",
       "816   augustus_masked-scaffold01939-abinit-gene-0.7-...   \n",
       "\n",
       "                                               sequence  length class  \n",
       "139   MVSKNNKNNIERKGRRTPRSSKDRNNRIRLPVSCASQIFQLTHELG...     226   TCP  \n",
       "3983  MATMHEPAAAAGPIRTHPISRFLGAPWGCGGCNGCATTEPTRVGGL...     420   TCP  \n",
       "370   MPSLDEHEQSFPAEMYHQQQQHQETLEAVLRQQVTAAPMAVIPEPG...     227   TCP  \n",
       "152   MFPSLDTNGYDLFDPFNPPQTTMLPSFTSYIQSPSSYHHYSSPSFP...     358   TCP  \n",
       "1815  MPALCAARIFQLTRELGHKSDGETIQWLLQQAEPSIIAATGTGTVP...     222   TCP  \n",
       "...                                                 ...     ...   ...  \n",
       "1637  MDLADLQSNNKNNNKVQQQQHQQKQSSSSSSPSSHQFVVPFDGRSS...     401   TCP  \n",
       "2253  MGTSSRFGLRNTGGEIVEVQGGHIIRSIGRKDRHSKVCTAKGPRDR...     423   TCP  \n",
       "2686  MDPKFPTPPPLNKTEPTTATTTTTTSTAQQLDPKDYQHQQPAQHQE...     322   TCP  \n",
       "3252  MEAEEIQRQPRKFSRVGGNGIRDSSRIAQKGNGTDHQYPDDEEDGV...     484   TCP  \n",
       "816   MASYQEHEVDQDDDGVGGTSDLSSGSGPHQENNPNAYETPALQGLP...     387   TCP  \n",
       "\n",
       "[837 rows x 4 columns]"
      ]
     },
     "execution_count": 5,
     "metadata": {},
     "output_type": "execute_result"
    }
   ],
   "source": [
    "testset_positive = testset[testset['class'] == 1]\n",
    "testset_positive.loc[:, 'class'] = gene_familly\n",
    "testset_positive.loc[:, 'id'] = testset_positive['id'].apply(lambda x: f\"{x} -- {gene_familly}\")\n",
    "testset_positive"
   ]
  },
  {
   "cell_type": "code",
   "execution_count": 6,
   "id": "25a9ad39-47e0-4b0a-9669-c9ed5c6cafa3",
   "metadata": {
    "execution": {
     "iopub.execute_input": "2024-07-04T12:38:27.602335Z",
     "iopub.status.busy": "2024-07-04T12:38:27.602205Z",
     "iopub.status.idle": "2024-07-04T12:38:27.675360Z",
     "shell.execute_reply": "2024-07-04T12:38:27.674970Z"
    },
    "papermill": {
     "duration": 0.075655,
     "end_time": "2024-07-04T12:38:27.676309",
     "exception": false,
     "start_time": "2024-07-04T12:38:27.600654",
     "status": "completed"
    },
    "tags": []
   },
   "outputs": [],
   "source": [
    "testset_positive.to_csv(\"../data/testset/\"+gene_dict['file_code']+\".csv\")\n",
    "trainset.to_csv(\"../data/mix_data/trainset/\"+gene_dict['file_code']+\".csv\")\n",
    "testset.to_csv(\"../data/mix_data/testset/\"+gene_dict['file_code']+\".csv\")"
   ]
  },
  {
   "cell_type": "code",
   "execution_count": null,
   "id": "4107c4c5-3c5d-44f9-af27-5b81b6d102e5",
   "metadata": {
    "papermill": {
     "duration": 0.001201,
     "end_time": "2024-07-04T12:38:27.678880",
     "exception": false,
     "start_time": "2024-07-04T12:38:27.677679",
     "status": "completed"
    },
    "tags": []
   },
   "outputs": [],
   "source": []
  }
 ],
 "metadata": {
  "kernelspec": {
   "display_name": "Python 3 (ipykernel)",
   "language": "python",
   "name": "python3"
  },
  "language_info": {
   "codemirror_mode": {
    "name": "ipython",
    "version": 3
   },
   "file_extension": ".py",
   "mimetype": "text/x-python",
   "name": "python",
   "nbconvert_exporter": "python",
   "pygments_lexer": "ipython3",
   "version": "3.11.7"
  },
  "papermill": {
   "default_parameters": {},
   "duration": 1.73711,
   "end_time": "2024-07-04T12:38:27.896653",
   "environment_variables": {},
   "exception": null,
   "input_path": "05-extract_testset-0.ipynb",
   "output_path": "AutoSave/TestGen/05-extract_testset-0-TCP.ipynb",
   "parameters": {
    "gene_familly": "TCP"
   },
   "start_time": "2024-07-04T12:38:26.159543",
   "version": "2.6.0"
  }
 },
 "nbformat": 4,
 "nbformat_minor": 5
}