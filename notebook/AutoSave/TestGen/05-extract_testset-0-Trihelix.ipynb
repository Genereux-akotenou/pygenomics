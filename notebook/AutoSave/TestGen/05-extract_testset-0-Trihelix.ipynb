{
 "cells": [
  {
   "cell_type": "code",
   "execution_count": 1,
   "id": "f9f06a24",
   "metadata": {
    "execution": {
     "iopub.execute_input": "2024-07-04T12:38:28.491632Z",
     "iopub.status.busy": "2024-07-04T12:38:28.491277Z",
     "iopub.status.idle": "2024-07-04T12:38:28.496317Z",
     "shell.execute_reply": "2024-07-04T12:38:28.495938Z"
    },
    "papermill": {
     "duration": 0.008357,
     "end_time": "2024-07-04T12:38:28.497210",
     "exception": false,
     "start_time": "2024-07-04T12:38:28.488853",
     "status": "completed"
    },
    "tags": [
     "injected-parameters"
    ]
   },
   "outputs": [],
   "source": [
    "# Parameters\n",
    "gene_familly = \"Trihelix\"\n"
   ]
  },
  {
   "cell_type": "code",
   "execution_count": 2,
   "id": "e7cdbe25-11a6-48da-abd4-9ae5eee27bfe",
   "metadata": {
    "execution": {
     "iopub.execute_input": "2024-07-04T12:38:28.499735Z",
     "iopub.status.busy": "2024-07-04T12:38:28.499586Z",
     "iopub.status.idle": "2024-07-04T12:38:29.241342Z",
     "shell.execute_reply": "2024-07-04T12:38:29.240996Z"
    },
    "papermill": {
     "duration": 0.744343,
     "end_time": "2024-07-04T12:38:29.242579",
     "exception": false,
     "start_time": "2024-07-04T12:38:28.498236",
     "status": "completed"
    },
    "tags": []
   },
   "outputs": [],
   "source": [
    "import json\n",
    "import pandas as pd\n",
    "from sklearn.model_selection import train_test_split"
   ]
  },
  {
   "cell_type": "code",
   "execution_count": 3,
   "id": "6e20f340-8cbc-46f2-be83-6f1c4523930a",
   "metadata": {
    "execution": {
     "iopub.execute_input": "2024-07-04T12:38:29.245361Z",
     "iopub.status.busy": "2024-07-04T12:38:29.245170Z",
     "iopub.status.idle": "2024-07-04T12:38:29.305724Z",
     "shell.execute_reply": "2024-07-04T12:38:29.305334Z"
    },
    "papermill": {
     "duration": 0.063063,
     "end_time": "2024-07-04T12:38:29.306791",
     "exception": false,
     "start_time": "2024-07-04T12:38:29.243728",
     "status": "completed"
    },
    "tags": []
   },
   "outputs": [
    {
     "data": {
      "text/html": [
       "<div>\n",
       "<style scoped>\n",
       "    .dataframe tbody tr th:only-of-type {\n",
       "        vertical-align: middle;\n",
       "    }\n",
       "\n",
       "    .dataframe tbody tr th {\n",
       "        vertical-align: top;\n",
       "    }\n",
       "\n",
       "    .dataframe thead th {\n",
       "        text-align: right;\n",
       "    }\n",
       "</style>\n",
       "<table border=\"1\" class=\"dataframe\">\n",
       "  <thead>\n",
       "    <tr style=\"text-align: right;\">\n",
       "      <th></th>\n",
       "      <th>id</th>\n",
       "      <th>sequence</th>\n",
       "      <th>length</th>\n",
       "      <th>class</th>\n",
       "    </tr>\n",
       "  </thead>\n",
       "  <tbody>\n",
       "    <tr>\n",
       "      <th>0</th>\n",
       "      <td>Achn001941</td>\n",
       "      <td>MNEMRNLVAALHTKYEQITEKKRSNLTVAGHHHHISANVDAGDRFP...</td>\n",
       "      <td>266</td>\n",
       "      <td>1</td>\n",
       "    </tr>\n",
       "    <tr>\n",
       "      <th>1</th>\n",
       "      <td>Achn009891</td>\n",
       "      <td>MFDGVPAEQFHQFIASSRTSVHPLPLSFPLHGSTMQTFPSFDPFPS...</td>\n",
       "      <td>536</td>\n",
       "      <td>1</td>\n",
       "    </tr>\n",
       "    <tr>\n",
       "      <th>2</th>\n",
       "      <td>Achn014211</td>\n",
       "      <td>MEVFAADRQISNDVADFPVHLTPFPDAVNMLYDDLTAEIRPPEIEH...</td>\n",
       "      <td>391</td>\n",
       "      <td>1</td>\n",
       "    </tr>\n",
       "    <tr>\n",
       "      <th>3</th>\n",
       "      <td>Achn017371</td>\n",
       "      <td>MAPETNDVHELDAHPTNEVNGKQATIEGTNDKSKSQRHPRWTRQET...</td>\n",
       "      <td>429</td>\n",
       "      <td>1</td>\n",
       "    </tr>\n",
       "    <tr>\n",
       "      <th>4</th>\n",
       "      <td>Achn020701</td>\n",
       "      <td>MYLSDKPRPIDFYKGGGGERDMVVEVSSVGDLPPHHLQILGDSSGE...</td>\n",
       "      <td>376</td>\n",
       "      <td>1</td>\n",
       "    </tr>\n",
       "  </tbody>\n",
       "</table>\n",
       "</div>"
      ],
      "text/plain": [
       "           id                                           sequence  length  \\\n",
       "0  Achn001941  MNEMRNLVAALHTKYEQITEKKRSNLTVAGHHHHISANVDAGDRFP...     266   \n",
       "1  Achn009891  MFDGVPAEQFHQFIASSRTSVHPLPLSFPLHGSTMQTFPSFDPFPS...     536   \n",
       "2  Achn014211  MEVFAADRQISNDVADFPVHLTPFPDAVNMLYDDLTAEIRPPEIEH...     391   \n",
       "3  Achn017371  MAPETNDVHELDAHPTNEVNGKQATIEGTNDKSKSQRHPRWTRQET...     429   \n",
       "4  Achn020701  MYLSDKPRPIDFYKGGGGERDMVVEVSSVGDLPPHHLQILGDSSGE...     376   \n",
       "\n",
       "   class  \n",
       "0      1  \n",
       "1      1  \n",
       "2      1  \n",
       "3      1  \n",
       "4      1  "
      ]
     },
     "execution_count": 3,
     "metadata": {},
     "output_type": "execute_result"
    }
   ],
   "source": [
    "# READ GENE_INFO JSON FILE\n",
    "gene_info_path = \"../data/gene_info.json\"\n",
    "dataset_path   = \"../data/one_vs_other/\"\n",
    "with open(gene_info_path, 'r') as json_file:\n",
    "    gene_info = json.load(json_file)\n",
    "\n",
    "# FOCUS ON GENE FAMILLY\n",
    "gene_dict = gene_info[gene_familly]\n",
    "df_path = dataset_path+gene_dict['file_code']+\".csv\"\n",
    "\n",
    "# LOAD WHOLE DATASET\n",
    "USE_FULL_DF = True\n",
    "if USE_FULL_DF:\n",
    "    dataset = pd.read_csv(df_path)\n",
    "else:\n",
    "    dataset_ = pd.read_csv(df_path)\n",
    "    r = min(5000/len(dataset_), 1)\n",
    "    _, dataset = train_test_split(dataset_, test_size=r, stratify=dataset_['class'], random_state=42)\n",
    "dataset.head()"
   ]
  },
  {
   "cell_type": "code",
   "execution_count": 4,
   "id": "745dff8f-540b-4299-a3f0-dabda69bd837",
   "metadata": {
    "execution": {
     "iopub.execute_input": "2024-07-04T12:38:29.309628Z",
     "iopub.status.busy": "2024-07-04T12:38:29.309460Z",
     "iopub.status.idle": "2024-07-04T12:38:29.315957Z",
     "shell.execute_reply": "2024-07-04T12:38:29.315605Z"
    },
    "papermill": {
     "duration": 0.008985,
     "end_time": "2024-07-04T12:38:29.316885",
     "exception": false,
     "start_time": "2024-07-04T12:38:29.307900",
     "status": "completed"
    },
    "tags": []
   },
   "outputs": [],
   "source": [
    "trainset, testset = train_test_split(dataset, test_size=0.2, stratify=dataset['class'], random_state=42)"
   ]
  },
  {
   "cell_type": "code",
   "execution_count": 5,
   "id": "a9b8b47d-48c6-4e94-a378-574904e308ee",
   "metadata": {
    "execution": {
     "iopub.execute_input": "2024-07-04T12:38:29.319382Z",
     "iopub.status.busy": "2024-07-04T12:38:29.319240Z",
     "iopub.status.idle": "2024-07-04T12:38:29.327018Z",
     "shell.execute_reply": "2024-07-04T12:38:29.326730Z"
    },
    "papermill": {
     "duration": 0.010031,
     "end_time": "2024-07-04T12:38:29.327863",
     "exception": false,
     "start_time": "2024-07-04T12:38:29.317832",
     "status": "completed"
    },
    "tags": []
   },
   "outputs": [
    {
     "name": "stderr",
     "output_type": "stream",
     "text": [
      "/var/folders/w8/b_cflrn97k9c15rcrn5t8mmr0000gn/T/ipykernel_22861/2288533763.py:2: FutureWarning: Setting an item of incompatible dtype is deprecated and will raise in a future error of pandas. Value 'Trihelix' has dtype incompatible with int64, please explicitly cast to a compatible dtype first.\n",
      "  testset_positive.loc[:, 'class'] = gene_familly\n"
     ]
    },
    {
     "data": {
      "text/html": [
       "<div>\n",
       "<style scoped>\n",
       "    .dataframe tbody tr th:only-of-type {\n",
       "        vertical-align: middle;\n",
       "    }\n",
       "\n",
       "    .dataframe tbody tr th {\n",
       "        vertical-align: top;\n",
       "    }\n",
       "\n",
       "    .dataframe thead th {\n",
       "        text-align: right;\n",
       "    }\n",
       "</style>\n",
       "<table border=\"1\" class=\"dataframe\">\n",
       "  <thead>\n",
       "    <tr style=\"text-align: right;\">\n",
       "      <th></th>\n",
       "      <th>id</th>\n",
       "      <th>sequence</th>\n",
       "      <th>length</th>\n",
       "      <th>class</th>\n",
       "    </tr>\n",
       "  </thead>\n",
       "  <tbody>\n",
       "    <tr>\n",
       "      <th>5370</th>\n",
       "      <td>PGSC0003DMP400013760 -- Trihelix</td>\n",
       "      <td>MYRRPNHTDYFSPSSLFSSSNPNSSTAVQQSNSAVAASPSSPMSDD...</td>\n",
       "      <td>384</td>\n",
       "      <td>Trihelix</td>\n",
       "    </tr>\n",
       "    <tr>\n",
       "      <th>1307</th>\n",
       "      <td>XP_012572837.1 -- Trihelix</td>\n",
       "      <td>MVIDKGDTSKKQHQQTQSSPKATLIESTRPQIVNVVSGSTRFISSP...</td>\n",
       "      <td>978</td>\n",
       "      <td>Trihelix</td>\n",
       "    </tr>\n",
       "    <tr>\n",
       "      <th>4704</th>\n",
       "      <td>Pbr009547.1 -- Trihelix</td>\n",
       "      <td>MDRLNRTHAPAGRDDCWSEDATLALITAWGDRYLHLNRGILRQKDW...</td>\n",
       "      <td>248</td>\n",
       "      <td>Trihelix</td>\n",
       "    </tr>\n",
       "    <tr>\n",
       "      <th>1420</th>\n",
       "      <td>orange1.1g040954m -- Trihelix</td>\n",
       "      <td>MEILRPQHTDGQSGYSLKGKIRITTRCLWLDKGKLLDALHNAAHAA...</td>\n",
       "      <td>333</td>\n",
       "      <td>Trihelix</td>\n",
       "    </tr>\n",
       "    <tr>\n",
       "      <th>6186</th>\n",
       "      <td>Zmw_sc03489.1.g00010.1 -- Trihelix</td>\n",
       "      <td>MEKEILFLQYLQDSKAADAVTTGEIDRWIDGQQRQRHAGRGGTAGA...</td>\n",
       "      <td>1393</td>\n",
       "      <td>Trihelix</td>\n",
       "    </tr>\n",
       "    <tr>\n",
       "      <th>...</th>\n",
       "      <td>...</td>\n",
       "      <td>...</td>\n",
       "      <td>...</td>\n",
       "      <td>...</td>\n",
       "    </tr>\n",
       "    <tr>\n",
       "      <th>4222</th>\n",
       "      <td>Pp3c20_9790V3.2.p -- Trihelix</td>\n",
       "      <td>MQSLQIRLGLNSLQGGGEAAGAPGALLKSEWKGVGQLFGFNPLTVP...</td>\n",
       "      <td>989</td>\n",
       "      <td>Trihelix</td>\n",
       "    </tr>\n",
       "    <tr>\n",
       "      <th>2194</th>\n",
       "      <td>Gorai.001G139700.2 -- Trihelix</td>\n",
       "      <td>MDDSGLECGFLSGPNGGLFDLESPIQREQRPQNHMVMMTDLGNEHR...</td>\n",
       "      <td>410</td>\n",
       "      <td>Trihelix</td>\n",
       "    </tr>\n",
       "    <tr>\n",
       "      <th>377</th>\n",
       "      <td>Aradu.G3TTV -- Trihelix</td>\n",
       "      <td>MTDTNNAKNDDVDDDAVIRRTRSQAAPDWTVTETLILVNEIAAVEA...</td>\n",
       "      <td>381</td>\n",
       "      <td>Trihelix</td>\n",
       "    </tr>\n",
       "    <tr>\n",
       "      <th>574</th>\n",
       "      <td>Bradi2g16780.2.p -- Trihelix</td>\n",
       "      <td>MEVREMAAAAAAAAAGGGGGGGGGGFGRLPPPNPNLPYREDCWSEG...</td>\n",
       "      <td>356</td>\n",
       "      <td>Trihelix</td>\n",
       "    </tr>\n",
       "    <tr>\n",
       "      <th>2022</th>\n",
       "      <td>KHN46418.1 -- Trihelix</td>\n",
       "      <td>MDANSGEEENNNKGKEGEEEEEEEGDNKINSNNNSLCGGNRWPRQE...</td>\n",
       "      <td>593</td>\n",
       "      <td>Trihelix</td>\n",
       "    </tr>\n",
       "  </tbody>\n",
       "</table>\n",
       "<p>1252 rows × 4 columns</p>\n",
       "</div>"
      ],
      "text/plain": [
       "                                      id  \\\n",
       "5370    PGSC0003DMP400013760 -- Trihelix   \n",
       "1307          XP_012572837.1 -- Trihelix   \n",
       "4704             Pbr009547.1 -- Trihelix   \n",
       "1420       orange1.1g040954m -- Trihelix   \n",
       "6186  Zmw_sc03489.1.g00010.1 -- Trihelix   \n",
       "...                                  ...   \n",
       "4222       Pp3c20_9790V3.2.p -- Trihelix   \n",
       "2194      Gorai.001G139700.2 -- Trihelix   \n",
       "377              Aradu.G3TTV -- Trihelix   \n",
       "574         Bradi2g16780.2.p -- Trihelix   \n",
       "2022              KHN46418.1 -- Trihelix   \n",
       "\n",
       "                                               sequence  length     class  \n",
       "5370  MYRRPNHTDYFSPSSLFSSSNPNSSTAVQQSNSAVAASPSSPMSDD...     384  Trihelix  \n",
       "1307  MVIDKGDTSKKQHQQTQSSPKATLIESTRPQIVNVVSGSTRFISSP...     978  Trihelix  \n",
       "4704  MDRLNRTHAPAGRDDCWSEDATLALITAWGDRYLHLNRGILRQKDW...     248  Trihelix  \n",
       "1420  MEILRPQHTDGQSGYSLKGKIRITTRCLWLDKGKLLDALHNAAHAA...     333  Trihelix  \n",
       "6186  MEKEILFLQYLQDSKAADAVTTGEIDRWIDGQQRQRHAGRGGTAGA...    1393  Trihelix  \n",
       "...                                                 ...     ...       ...  \n",
       "4222  MQSLQIRLGLNSLQGGGEAAGAPGALLKSEWKGVGQLFGFNPLTVP...     989  Trihelix  \n",
       "2194  MDDSGLECGFLSGPNGGLFDLESPIQREQRPQNHMVMMTDLGNEHR...     410  Trihelix  \n",
       "377   MTDTNNAKNDDVDDDAVIRRTRSQAAPDWTVTETLILVNEIAAVEA...     381  Trihelix  \n",
       "574   MEVREMAAAAAAAAAGGGGGGGGGGFGRLPPPNPNLPYREDCWSEG...     356  Trihelix  \n",
       "2022  MDANSGEEENNNKGKEGEEEEEEEGDNKINSNNNSLCGGNRWPRQE...     593  Trihelix  \n",
       "\n",
       "[1252 rows x 4 columns]"
      ]
     },
     "execution_count": 5,
     "metadata": {},
     "output_type": "execute_result"
    }
   ],
   "source": [
    "testset_positive = testset[testset['class'] == 1]\n",
    "testset_positive.loc[:, 'class'] = gene_familly\n",
    "testset_positive.loc[:, 'id'] = testset_positive['id'].apply(lambda x: f\"{x} -- {gene_familly}\")\n",
    "testset_positive"
   ]
  },
  {
   "cell_type": "code",
   "execution_count": 6,
   "id": "25a9ad39-47e0-4b0a-9669-c9ed5c6cafa3",
   "metadata": {
    "execution": {
     "iopub.execute_input": "2024-07-04T12:38:29.330668Z",
     "iopub.status.busy": "2024-07-04T12:38:29.330532Z",
     "iopub.status.idle": "2024-07-04T12:38:29.448695Z",
     "shell.execute_reply": "2024-07-04T12:38:29.448273Z"
    },
    "papermill": {
     "duration": 0.120682,
     "end_time": "2024-07-04T12:38:29.449686",
     "exception": false,
     "start_time": "2024-07-04T12:38:29.329004",
     "status": "completed"
    },
    "tags": []
   },
   "outputs": [],
   "source": [
    "testset_positive.to_csv(\"../data/testset/\"+gene_dict['file_code']+\".csv\")\n",
    "trainset.to_csv(\"../data/mix_data/trainset/\"+gene_dict['file_code']+\".csv\")\n",
    "testset.to_csv(\"../data/mix_data/testset/\"+gene_dict['file_code']+\".csv\")"
   ]
  },
  {
   "cell_type": "code",
   "execution_count": null,
   "id": "4107c4c5-3c5d-44f9-af27-5b81b6d102e5",
   "metadata": {
    "papermill": {
     "duration": 0.001182,
     "end_time": "2024-07-04T12:38:29.452130",
     "exception": false,
     "start_time": "2024-07-04T12:38:29.450948",
     "status": "completed"
    },
    "tags": []
   },
   "outputs": [],
   "source": []
  }
 ],
 "metadata": {
  "kernelspec": {
   "display_name": "Python 3 (ipykernel)",
   "language": "python",
   "name": "python3"
  },
  "language_info": {
   "codemirror_mode": {
    "name": "ipython",
    "version": 3
   },
   "file_extension": ".py",
   "mimetype": "text/x-python",
   "name": "python",
   "nbconvert_exporter": "python",
   "pygments_lexer": "ipython3",
   "version": "3.11.7"
  },
  "papermill": {
   "default_parameters": {},
   "duration": 1.870159,
   "end_time": "2024-07-04T12:38:29.771129",
   "environment_variables": {},
   "exception": null,
   "input_path": "05-extract_testset-0.ipynb",
   "output_path": "AutoSave/TestGen/05-extract_testset-0-Trihelix.ipynb",
   "parameters": {
    "gene_familly": "Trihelix"
   },
   "start_time": "2024-07-04T12:38:27.900970",
   "version": "2.6.0"
  }
 },
 "nbformat": 4,
 "nbformat_minor": 5
}