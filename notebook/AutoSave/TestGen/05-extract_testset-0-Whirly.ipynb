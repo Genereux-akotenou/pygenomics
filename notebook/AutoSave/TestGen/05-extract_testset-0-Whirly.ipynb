{
 "cells": [
  {
   "cell_type": "code",
   "execution_count": 1,
   "id": "b65f5aff",
   "metadata": {
    "execution": {
     "iopub.execute_input": "2024-07-04T12:38:36.012639Z",
     "iopub.status.busy": "2024-07-04T12:38:36.012269Z",
     "iopub.status.idle": "2024-07-04T12:38:36.017438Z",
     "shell.execute_reply": "2024-07-04T12:38:36.017086Z"
    },
    "papermill": {
     "duration": 0.009351,
     "end_time": "2024-07-04T12:38:36.018389",
     "exception": false,
     "start_time": "2024-07-04T12:38:36.009038",
     "status": "completed"
    },
    "tags": [
     "injected-parameters"
    ]
   },
   "outputs": [],
   "source": [
    "# Parameters\n",
    "gene_familly = \"Whirly\"\n"
   ]
  },
  {
   "cell_type": "code",
   "execution_count": 2,
   "id": "e7cdbe25-11a6-48da-abd4-9ae5eee27bfe",
   "metadata": {
    "execution": {
     "iopub.execute_input": "2024-07-04T12:38:36.020942Z",
     "iopub.status.busy": "2024-07-04T12:38:36.020797Z",
     "iopub.status.idle": "2024-07-04T12:38:36.677762Z",
     "shell.execute_reply": "2024-07-04T12:38:36.677390Z"
    },
    "papermill": {
     "duration": 0.659425,
     "end_time": "2024-07-04T12:38:36.678913",
     "exception": false,
     "start_time": "2024-07-04T12:38:36.019488",
     "status": "completed"
    },
    "tags": []
   },
   "outputs": [],
   "source": [
    "import json\n",
    "import pandas as pd\n",
    "from sklearn.model_selection import train_test_split"
   ]
  },
  {
   "cell_type": "code",
   "execution_count": 3,
   "id": "6e20f340-8cbc-46f2-be83-6f1c4523930a",
   "metadata": {
    "execution": {
     "iopub.execute_input": "2024-07-04T12:38:36.681653Z",
     "iopub.status.busy": "2024-07-04T12:38:36.681458Z",
     "iopub.status.idle": "2024-07-04T12:38:36.696022Z",
     "shell.execute_reply": "2024-07-04T12:38:36.695694Z"
    },
    "papermill": {
     "duration": 0.016885,
     "end_time": "2024-07-04T12:38:36.696963",
     "exception": false,
     "start_time": "2024-07-04T12:38:36.680078",
     "status": "completed"
    },
    "tags": []
   },
   "outputs": [
    {
     "data": {
      "text/html": [
       "<div>\n",
       "<style scoped>\n",
       "    .dataframe tbody tr th:only-of-type {\n",
       "        vertical-align: middle;\n",
       "    }\n",
       "\n",
       "    .dataframe tbody tr th {\n",
       "        vertical-align: top;\n",
       "    }\n",
       "\n",
       "    .dataframe thead th {\n",
       "        text-align: right;\n",
       "    }\n",
       "</style>\n",
       "<table border=\"1\" class=\"dataframe\">\n",
       "  <thead>\n",
       "    <tr style=\"text-align: right;\">\n",
       "      <th></th>\n",
       "      <th>id</th>\n",
       "      <th>sequence</th>\n",
       "      <th>length</th>\n",
       "      <th>class</th>\n",
       "    </tr>\n",
       "  </thead>\n",
       "  <tbody>\n",
       "    <tr>\n",
       "      <th>0</th>\n",
       "      <td>Achn088511</td>\n",
       "      <td>MSLGPRESCEFFHDPFKGKSEEGKVRKVLKVEPLPDGTGHFFNLSW...</td>\n",
       "      <td>276</td>\n",
       "      <td>1</td>\n",
       "    </tr>\n",
       "    <tr>\n",
       "      <th>1</th>\n",
       "      <td>Achn144601</td>\n",
       "      <td>MRERDAWVSLGGGEIESSFEEEDIGEGLGIQNPNRWSIIHSPSSLN...</td>\n",
       "      <td>341</td>\n",
       "      <td>1</td>\n",
       "    </tr>\n",
       "    <tr>\n",
       "      <th>2</th>\n",
       "      <td>Achn183721</td>\n",
       "      <td>MLNLFLSSSPPGLTIPNPKPFCVLHSFSSLDAIAAIRLKPTPSSLS...</td>\n",
       "      <td>649</td>\n",
       "      <td>1</td>\n",
       "    </tr>\n",
       "    <tr>\n",
       "      <th>3</th>\n",
       "      <td>EMT14910</td>\n",
       "      <td>MGFSIDGPGRGLGFLPRALLGPAYGQSGAYKVAKEGFVLLQFAPAV...</td>\n",
       "      <td>219</td>\n",
       "      <td>1</td>\n",
       "    </tr>\n",
       "    <tr>\n",
       "      <th>4</th>\n",
       "      <td>EMT15491</td>\n",
       "      <td>MLRLSRFLPSTSRGVTDLKDVLWSGSLTFKHALSTSAANVDARYML...</td>\n",
       "      <td>352</td>\n",
       "      <td>1</td>\n",
       "    </tr>\n",
       "  </tbody>\n",
       "</table>\n",
       "</div>"
      ],
      "text/plain": [
       "           id                                           sequence  length  \\\n",
       "0  Achn088511  MSLGPRESCEFFHDPFKGKSEEGKVRKVLKVEPLPDGTGHFFNLSW...     276   \n",
       "1  Achn144601  MRERDAWVSLGGGEIESSFEEEDIGEGLGIQNPNRWSIIHSPSSLN...     341   \n",
       "2  Achn183721  MLNLFLSSSPPGLTIPNPKPFCVLHSFSSLDAIAAIRLKPTPSSLS...     649   \n",
       "3    EMT14910  MGFSIDGPGRGLGFLPRALLGPAYGQSGAYKVAKEGFVLLQFAPAV...     219   \n",
       "4    EMT15491  MLRLSRFLPSTSRGVTDLKDVLWSGSLTFKHALSTSAANVDARYML...     352   \n",
       "\n",
       "   class  \n",
       "0      1  \n",
       "1      1  \n",
       "2      1  \n",
       "3      1  \n",
       "4      1  "
      ]
     },
     "execution_count": 3,
     "metadata": {},
     "output_type": "execute_result"
    }
   ],
   "source": [
    "# READ GENE_INFO JSON FILE\n",
    "gene_info_path = \"../data/gene_info.json\"\n",
    "dataset_path   = \"../data/one_vs_other/\"\n",
    "with open(gene_info_path, 'r') as json_file:\n",
    "    gene_info = json.load(json_file)\n",
    "\n",
    "# FOCUS ON GENE FAMILLY\n",
    "gene_dict = gene_info[gene_familly]\n",
    "df_path = dataset_path+gene_dict['file_code']+\".csv\"\n",
    "\n",
    "# LOAD WHOLE DATASET\n",
    "USE_FULL_DF = True\n",
    "if USE_FULL_DF:\n",
    "    dataset = pd.read_csv(df_path)\n",
    "else:\n",
    "    dataset_ = pd.read_csv(df_path)\n",
    "    r = min(5000/len(dataset_), 1)\n",
    "    _, dataset = train_test_split(dataset_, test_size=r, stratify=dataset_['class'], random_state=42)\n",
    "dataset.head()"
   ]
  },
  {
   "cell_type": "code",
   "execution_count": 4,
   "id": "745dff8f-540b-4299-a3f0-dabda69bd837",
   "metadata": {
    "execution": {
     "iopub.execute_input": "2024-07-04T12:38:36.699578Z",
     "iopub.status.busy": "2024-07-04T12:38:36.699434Z",
     "iopub.status.idle": "2024-07-04T12:38:36.703663Z",
     "shell.execute_reply": "2024-07-04T12:38:36.703324Z"
    },
    "papermill": {
     "duration": 0.006554,
     "end_time": "2024-07-04T12:38:36.704572",
     "exception": false,
     "start_time": "2024-07-04T12:38:36.698018",
     "status": "completed"
    },
    "tags": []
   },
   "outputs": [],
   "source": [
    "trainset, testset = train_test_split(dataset, test_size=0.2, stratify=dataset['class'], random_state=42)"
   ]
  },
  {
   "cell_type": "code",
   "execution_count": 5,
   "id": "a9b8b47d-48c6-4e94-a378-574904e308ee",
   "metadata": {
    "execution": {
     "iopub.execute_input": "2024-07-04T12:38:36.707164Z",
     "iopub.status.busy": "2024-07-04T12:38:36.707041Z",
     "iopub.status.idle": "2024-07-04T12:38:36.712969Z",
     "shell.execute_reply": "2024-07-04T12:38:36.712701Z"
    },
    "papermill": {
     "duration": 0.008195,
     "end_time": "2024-07-04T12:38:36.713883",
     "exception": false,
     "start_time": "2024-07-04T12:38:36.705688",
     "status": "completed"
    },
    "tags": []
   },
   "outputs": [
    {
     "name": "stderr",
     "output_type": "stream",
     "text": [
      "/var/folders/w8/b_cflrn97k9c15rcrn5t8mmr0000gn/T/ipykernel_22886/2288533763.py:2: FutureWarning: Setting an item of incompatible dtype is deprecated and will raise in a future error of pandas. Value 'Whirly' has dtype incompatible with int64, please explicitly cast to a compatible dtype first.\n",
      "  testset_positive.loc[:, 'class'] = gene_familly\n"
     ]
    },
    {
     "data": {
      "text/html": [
       "<div>\n",
       "<style scoped>\n",
       "    .dataframe tbody tr th:only-of-type {\n",
       "        vertical-align: middle;\n",
       "    }\n",
       "\n",
       "    .dataframe tbody tr th {\n",
       "        vertical-align: top;\n",
       "    }\n",
       "\n",
       "    .dataframe thead th {\n",
       "        text-align: right;\n",
       "    }\n",
       "</style>\n",
       "<table border=\"1\" class=\"dataframe\">\n",
       "  <thead>\n",
       "    <tr style=\"text-align: right;\">\n",
       "      <th></th>\n",
       "      <th>id</th>\n",
       "      <th>sequence</th>\n",
       "      <th>length</th>\n",
       "      <th>class</th>\n",
       "    </tr>\n",
       "  </thead>\n",
       "  <tbody>\n",
       "    <tr>\n",
       "      <th>492</th>\n",
       "      <td>Traes_6DS_1FC471B7F.1 -- Whirly</td>\n",
       "      <td>FFVVISFCSFLTSCNGCTNKFFFVLFRGVTDLKDVLWSGSLTFKHA...</td>\n",
       "      <td>245</td>\n",
       "      <td>Whirly</td>\n",
       "    </tr>\n",
       "    <tr>\n",
       "      <th>498</th>\n",
       "      <td>678443297 -- Whirly</td>\n",
       "      <td>MLTPSLSANPTGRAWFLNSGLSSNIPAAPSVIFLPGRKGEACAITP...</td>\n",
       "      <td>312</td>\n",
       "      <td>Whirly</td>\n",
       "    </tr>\n",
       "    <tr>\n",
       "      <th>360</th>\n",
       "      <td>OPUNC02G03720.1 -- Whirly</td>\n",
       "      <td>MRVAFPTQAACSLLLSSLPFHSLGSVGKRNGGKEKATRCSASPASF...</td>\n",
       "      <td>317</td>\n",
       "      <td>Whirly</td>\n",
       "    </tr>\n",
       "    <tr>\n",
       "      <th>182</th>\n",
       "      <td>Eucgr.K01091.5.p -- Whirly</td>\n",
       "      <td>MSNVLMEFAGGTINRIFAPYCVYKGKAALSLSPVLPTFSKLESGAG...</td>\n",
       "      <td>199</td>\n",
       "      <td>Whirly</td>\n",
       "    </tr>\n",
       "    <tr>\n",
       "      <th>284</th>\n",
       "      <td>Mapoly0007s0156.1.p -- Whirly</td>\n",
       "      <td>MALHSLCNSLSLRIASSSRKWIGDAKSLRKSSQSVAIKPSRLQARA...</td>\n",
       "      <td>254</td>\n",
       "      <td>Whirly</td>\n",
       "    </tr>\n",
       "    <tr>\n",
       "      <th>...</th>\n",
       "      <td>...</td>\n",
       "      <td>...</td>\n",
       "      <td>...</td>\n",
       "      <td>...</td>\n",
       "    </tr>\n",
       "    <tr>\n",
       "      <th>220</th>\n",
       "      <td>Gh_A13G2145 -- Whirly</td>\n",
       "      <td>MLQLQLLSSPPLTPQTVNLNSISNPKLFPSFSSLNSSQTRSFKFNP...</td>\n",
       "      <td>232</td>\n",
       "      <td>Whirly</td>\n",
       "    </tr>\n",
       "    <tr>\n",
       "      <th>499</th>\n",
       "      <td>678459090 -- Whirly</td>\n",
       "      <td>MLSPALSANPGVKPWFLKSGLSSNTLAAPCVTVFPRRREGEASSIT...</td>\n",
       "      <td>268</td>\n",
       "      <td>Whirly</td>\n",
       "    </tr>\n",
       "    <tr>\n",
       "      <th>216</th>\n",
       "      <td>KXZ44322.1 -- Whirly</td>\n",
       "      <td>MCVQLLQPTWAARPDGSKQLERDGTMLLEFANANPSPAGAPQTAGA...</td>\n",
       "      <td>152</td>\n",
       "      <td>Whirly</td>\n",
       "    </tr>\n",
       "    <tr>\n",
       "      <th>163</th>\n",
       "      <td>XP_010915148.1 -- Whirly</td>\n",
       "      <td>MPLRGSSLVSLQNSPSPHPLLPSNSFKNVLSPGTLAPNRKKLSVSC...</td>\n",
       "      <td>235</td>\n",
       "      <td>Whirly</td>\n",
       "    </tr>\n",
       "    <tr>\n",
       "      <th>285</th>\n",
       "      <td>Medtr5g038560.1 -- Whirly</td>\n",
       "      <td>MKMLQLQPPQSYTTTNPFSVPTHSFIINTPKKSIFLRRVGPTFSLT...</td>\n",
       "      <td>262</td>\n",
       "      <td>Whirly</td>\n",
       "    </tr>\n",
       "  </tbody>\n",
       "</table>\n",
       "<p>106 rows × 4 columns</p>\n",
       "</div>"
      ],
      "text/plain": [
       "                                  id  \\\n",
       "492  Traes_6DS_1FC471B7F.1 -- Whirly   \n",
       "498              678443297 -- Whirly   \n",
       "360        OPUNC02G03720.1 -- Whirly   \n",
       "182       Eucgr.K01091.5.p -- Whirly   \n",
       "284    Mapoly0007s0156.1.p -- Whirly   \n",
       "..                               ...   \n",
       "220            Gh_A13G2145 -- Whirly   \n",
       "499              678459090 -- Whirly   \n",
       "216             KXZ44322.1 -- Whirly   \n",
       "163         XP_010915148.1 -- Whirly   \n",
       "285        Medtr5g038560.1 -- Whirly   \n",
       "\n",
       "                                              sequence  length   class  \n",
       "492  FFVVISFCSFLTSCNGCTNKFFFVLFRGVTDLKDVLWSGSLTFKHA...     245  Whirly  \n",
       "498  MLTPSLSANPTGRAWFLNSGLSSNIPAAPSVIFLPGRKGEACAITP...     312  Whirly  \n",
       "360  MRVAFPTQAACSLLLSSLPFHSLGSVGKRNGGKEKATRCSASPASF...     317  Whirly  \n",
       "182  MSNVLMEFAGGTINRIFAPYCVYKGKAALSLSPVLPTFSKLESGAG...     199  Whirly  \n",
       "284  MALHSLCNSLSLRIASSSRKWIGDAKSLRKSSQSVAIKPSRLQARA...     254  Whirly  \n",
       "..                                                 ...     ...     ...  \n",
       "220  MLQLQLLSSPPLTPQTVNLNSISNPKLFPSFSSLNSSQTRSFKFNP...     232  Whirly  \n",
       "499  MLSPALSANPGVKPWFLKSGLSSNTLAAPCVTVFPRRREGEASSIT...     268  Whirly  \n",
       "216  MCVQLLQPTWAARPDGSKQLERDGTMLLEFANANPSPAGAPQTAGA...     152  Whirly  \n",
       "163  MPLRGSSLVSLQNSPSPHPLLPSNSFKNVLSPGTLAPNRKKLSVSC...     235  Whirly  \n",
       "285  MKMLQLQPPQSYTTTNPFSVPTHSFIINTPKKSIFLRRVGPTFSLT...     262  Whirly  \n",
       "\n",
       "[106 rows x 4 columns]"
      ]
     },
     "execution_count": 5,
     "metadata": {},
     "output_type": "execute_result"
    }
   ],
   "source": [
    "testset_positive = testset[testset['class'] == 1]\n",
    "testset_positive.loc[:, 'class'] = gene_familly\n",
    "testset_positive.loc[:, 'id'] = testset_positive['id'].apply(lambda x: f\"{x} -- {gene_familly}\")\n",
    "testset_positive"
   ]
  },
  {
   "cell_type": "code",
   "execution_count": 6,
   "id": "25a9ad39-47e0-4b0a-9669-c9ed5c6cafa3",
   "metadata": {
    "execution": {
     "iopub.execute_input": "2024-07-04T12:38:36.716934Z",
     "iopub.status.busy": "2024-07-04T12:38:36.716731Z",
     "iopub.status.idle": "2024-07-04T12:38:36.728456Z",
     "shell.execute_reply": "2024-07-04T12:38:36.728174Z"
    },
    "papermill": {
     "duration": 0.014111,
     "end_time": "2024-07-04T12:38:36.729315",
     "exception": false,
     "start_time": "2024-07-04T12:38:36.715204",
     "status": "completed"
    },
    "tags": []
   },
   "outputs": [],
   "source": [
    "testset_positive.to_csv(\"../data/testset/\"+gene_dict['file_code']+\".csv\")\n",
    "trainset.to_csv(\"../data/mix_data/trainset/\"+gene_dict['file_code']+\".csv\")\n",
    "testset.to_csv(\"../data/mix_data/testset/\"+gene_dict['file_code']+\".csv\")"
   ]
  },
  {
   "cell_type": "code",
   "execution_count": null,
   "id": "4107c4c5-3c5d-44f9-af27-5b81b6d102e5",
   "metadata": {
    "papermill": {
     "duration": 0.001205,
     "end_time": "2024-07-04T12:38:36.731700",
     "exception": false,
     "start_time": "2024-07-04T12:38:36.730495",
     "status": "completed"
    },
    "tags": []
   },
   "outputs": [],
   "source": []
  }
 ],
 "metadata": {
  "kernelspec": {
   "display_name": "Python 3 (ipykernel)",
   "language": "python",
   "name": "python3"
  },
  "language_info": {
   "codemirror_mode": {
    "name": "ipython",
    "version": 3
   },
   "file_extension": ".py",
   "mimetype": "text/x-python",
   "name": "python",
   "nbconvert_exporter": "python",
   "pygments_lexer": "ipython3",
   "version": "3.11.7"
  },
  "papermill": {
   "default_parameters": {},
   "duration": 1.608998,
   "end_time": "2024-07-04T12:38:36.948880",
   "environment_variables": {},
   "exception": null,
   "input_path": "05-extract_testset-0.ipynb",
   "output_path": "AutoSave/TestGen/05-extract_testset-0-Whirly.ipynb",
   "parameters": {
    "gene_familly": "Whirly"
   },
   "start_time": "2024-07-04T12:38:35.339882",
   "version": "2.6.0"
  }
 },
 "nbformat": 4,
 "nbformat_minor": 5
}