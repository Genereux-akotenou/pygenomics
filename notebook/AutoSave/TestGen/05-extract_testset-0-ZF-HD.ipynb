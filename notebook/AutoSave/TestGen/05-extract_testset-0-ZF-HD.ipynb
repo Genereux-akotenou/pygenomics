{
 "cells": [
  {
   "cell_type": "code",
   "execution_count": 1,
   "id": "52ca0bb4",
   "metadata": {
    "execution": {
     "iopub.execute_input": "2024-07-04T12:38:39.282614Z",
     "iopub.status.busy": "2024-07-04T12:38:39.282426Z",
     "iopub.status.idle": "2024-07-04T12:38:39.287214Z",
     "shell.execute_reply": "2024-07-04T12:38:39.286864Z"
    },
    "papermill": {
     "duration": 0.008179,
     "end_time": "2024-07-04T12:38:39.288189",
     "exception": false,
     "start_time": "2024-07-04T12:38:39.280010",
     "status": "completed"
    },
    "tags": [
     "injected-parameters"
    ]
   },
   "outputs": [],
   "source": [
    "# Parameters\n",
    "gene_familly = \"ZF-HD\"\n"
   ]
  },
  {
   "cell_type": "code",
   "execution_count": 2,
   "id": "e7cdbe25-11a6-48da-abd4-9ae5eee27bfe",
   "metadata": {
    "execution": {
     "iopub.execute_input": "2024-07-04T12:38:39.290742Z",
     "iopub.status.busy": "2024-07-04T12:38:39.290519Z",
     "iopub.status.idle": "2024-07-04T12:38:39.952732Z",
     "shell.execute_reply": "2024-07-04T12:38:39.952257Z"
    },
    "papermill": {
     "duration": 0.66463,
     "end_time": "2024-07-04T12:38:39.953884",
     "exception": false,
     "start_time": "2024-07-04T12:38:39.289254",
     "status": "completed"
    },
    "tags": []
   },
   "outputs": [],
   "source": [
    "import json\n",
    "import pandas as pd\n",
    "from sklearn.model_selection import train_test_split"
   ]
  },
  {
   "cell_type": "code",
   "execution_count": 3,
   "id": "6e20f340-8cbc-46f2-be83-6f1c4523930a",
   "metadata": {
    "execution": {
     "iopub.execute_input": "2024-07-04T12:38:39.956625Z",
     "iopub.status.busy": "2024-07-04T12:38:39.956407Z",
     "iopub.status.idle": "2024-07-04T12:38:39.983389Z",
     "shell.execute_reply": "2024-07-04T12:38:39.983033Z"
    },
    "papermill": {
     "duration": 0.02933,
     "end_time": "2024-07-04T12:38:39.984319",
     "exception": false,
     "start_time": "2024-07-04T12:38:39.954989",
     "status": "completed"
    },
    "tags": []
   },
   "outputs": [
    {
     "data": {
      "text/html": [
       "<div>\n",
       "<style scoped>\n",
       "    .dataframe tbody tr th:only-of-type {\n",
       "        vertical-align: middle;\n",
       "    }\n",
       "\n",
       "    .dataframe tbody tr th {\n",
       "        vertical-align: top;\n",
       "    }\n",
       "\n",
       "    .dataframe thead th {\n",
       "        text-align: right;\n",
       "    }\n",
       "</style>\n",
       "<table border=\"1\" class=\"dataframe\">\n",
       "  <thead>\n",
       "    <tr style=\"text-align: right;\">\n",
       "      <th></th>\n",
       "      <th>id</th>\n",
       "      <th>sequence</th>\n",
       "      <th>length</th>\n",
       "      <th>class</th>\n",
       "    </tr>\n",
       "  </thead>\n",
       "  <tbody>\n",
       "    <tr>\n",
       "      <th>0</th>\n",
       "      <td>Achn015051</td>\n",
       "      <td>MEMKGQQGSLGYNNEPIFRETSETLDRHHHLLEQNSPTTTRRPNQD...</td>\n",
       "      <td>262</td>\n",
       "      <td>1</td>\n",
       "    </tr>\n",
       "    <tr>\n",
       "      <th>1</th>\n",
       "      <td>Achn041581</td>\n",
       "      <td>MEFDEHEEQEEETGIQVQANYDTAVAGNSGRPKMGGGGEAAALRRG...</td>\n",
       "      <td>233</td>\n",
       "      <td>1</td>\n",
       "    </tr>\n",
       "    <tr>\n",
       "      <th>2</th>\n",
       "      <td>Achn074571</td>\n",
       "      <td>MIHHGPAPVPHNHIIVPNLAPQVPSNGSTPTALDLEDHVPYKKMVR...</td>\n",
       "      <td>267</td>\n",
       "      <td>1</td>\n",
       "    </tr>\n",
       "    <tr>\n",
       "      <th>3</th>\n",
       "      <td>Achn121961</td>\n",
       "      <td>MKKHQVVVRKNGSNRGVGNSSVASGVRYVECQKNHAANIGGYAVDG...</td>\n",
       "      <td>132</td>\n",
       "      <td>1</td>\n",
       "    </tr>\n",
       "    <tr>\n",
       "      <th>4</th>\n",
       "      <td>Achn121971</td>\n",
       "      <td>MSDIKEDAVNKDCSNATSTVQTTNIRYEDCRKNHGARMGKHATDGC...</td>\n",
       "      <td>170</td>\n",
       "      <td>1</td>\n",
       "    </tr>\n",
       "  </tbody>\n",
       "</table>\n",
       "</div>"
      ],
      "text/plain": [
       "           id                                           sequence  length  \\\n",
       "0  Achn015051  MEMKGQQGSLGYNNEPIFRETSETLDRHHHLLEQNSPTTTRRPNQD...     262   \n",
       "1  Achn041581  MEFDEHEEQEEETGIQVQANYDTAVAGNSGRPKMGGGGEAAALRRG...     233   \n",
       "2  Achn074571  MIHHGPAPVPHNHIIVPNLAPQVPSNGSTPTALDLEDHVPYKKMVR...     267   \n",
       "3  Achn121961  MKKHQVVVRKNGSNRGVGNSSVASGVRYVECQKNHAANIGGYAVDG...     132   \n",
       "4  Achn121971  MSDIKEDAVNKDCSNATSTVQTTNIRYEDCRKNHGARMGKHATDGC...     170   \n",
       "\n",
       "   class  \n",
       "0      1  \n",
       "1      1  \n",
       "2      1  \n",
       "3      1  \n",
       "4      1  "
      ]
     },
     "execution_count": 3,
     "metadata": {},
     "output_type": "execute_result"
    }
   ],
   "source": [
    "# READ GENE_INFO JSON FILE\n",
    "gene_info_path = \"../data/gene_info.json\"\n",
    "dataset_path   = \"../data/one_vs_other/\"\n",
    "with open(gene_info_path, 'r') as json_file:\n",
    "    gene_info = json.load(json_file)\n",
    "\n",
    "# FOCUS ON GENE FAMILLY\n",
    "gene_dict = gene_info[gene_familly]\n",
    "df_path = dataset_path+gene_dict['file_code']+\".csv\"\n",
    "\n",
    "# LOAD WHOLE DATASET\n",
    "USE_FULL_DF = True\n",
    "if USE_FULL_DF:\n",
    "    dataset = pd.read_csv(df_path)\n",
    "else:\n",
    "    dataset_ = pd.read_csv(df_path)\n",
    "    r = min(5000/len(dataset_), 1)\n",
    "    _, dataset = train_test_split(dataset_, test_size=r, stratify=dataset_['class'], random_state=42)\n",
    "dataset.head()"
   ]
  },
  {
   "cell_type": "code",
   "execution_count": 4,
   "id": "745dff8f-540b-4299-a3f0-dabda69bd837",
   "metadata": {
    "execution": {
     "iopub.execute_input": "2024-07-04T12:38:39.986838Z",
     "iopub.status.busy": "2024-07-04T12:38:39.986701Z",
     "iopub.status.idle": "2024-07-04T12:38:39.991450Z",
     "shell.execute_reply": "2024-07-04T12:38:39.991147Z"
    },
    "papermill": {
     "duration": 0.007046,
     "end_time": "2024-07-04T12:38:39.992341",
     "exception": false,
     "start_time": "2024-07-04T12:38:39.985295",
     "status": "completed"
    },
    "tags": []
   },
   "outputs": [],
   "source": [
    "trainset, testset = train_test_split(dataset, test_size=0.2, stratify=dataset['class'], random_state=42)"
   ]
  },
  {
   "cell_type": "code",
   "execution_count": 5,
   "id": "a9b8b47d-48c6-4e94-a378-574904e308ee",
   "metadata": {
    "execution": {
     "iopub.execute_input": "2024-07-04T12:38:39.994700Z",
     "iopub.status.busy": "2024-07-04T12:38:39.994578Z",
     "iopub.status.idle": "2024-07-04T12:38:40.001100Z",
     "shell.execute_reply": "2024-07-04T12:38:40.000839Z"
    },
    "papermill": {
     "duration": 0.008704,
     "end_time": "2024-07-04T12:38:40.001982",
     "exception": false,
     "start_time": "2024-07-04T12:38:39.993278",
     "status": "completed"
    },
    "tags": []
   },
   "outputs": [
    {
     "name": "stderr",
     "output_type": "stream",
     "text": [
      "/var/folders/w8/b_cflrn97k9c15rcrn5t8mmr0000gn/T/ipykernel_22900/2288533763.py:2: FutureWarning: Setting an item of incompatible dtype is deprecated and will raise in a future error of pandas. Value 'ZF-HD' has dtype incompatible with int64, please explicitly cast to a compatible dtype first.\n",
      "  testset_positive.loc[:, 'class'] = gene_familly\n"
     ]
    },
    {
     "data": {
      "text/html": [
       "<div>\n",
       "<style scoped>\n",
       "    .dataframe tbody tr th:only-of-type {\n",
       "        vertical-align: middle;\n",
       "    }\n",
       "\n",
       "    .dataframe tbody tr th {\n",
       "        vertical-align: top;\n",
       "    }\n",
       "\n",
       "    .dataframe thead th {\n",
       "        text-align: right;\n",
       "    }\n",
       "</style>\n",
       "<table border=\"1\" class=\"dataframe\">\n",
       "  <thead>\n",
       "    <tr style=\"text-align: right;\">\n",
       "      <th></th>\n",
       "      <th>id</th>\n",
       "      <th>sequence</th>\n",
       "      <th>length</th>\n",
       "      <th>class</th>\n",
       "    </tr>\n",
       "  </thead>\n",
       "  <tbody>\n",
       "    <tr>\n",
       "      <th>1936</th>\n",
       "      <td>Pbr016542.1 -- ZF-HD</td>\n",
       "      <td>MDQLSSQEGEIPLTIPVPIPIPINTSFRSGGHGNLIHHHQQQHPHD...</td>\n",
       "      <td>380</td>\n",
       "      <td>ZF-HD</td>\n",
       "    </tr>\n",
       "    <tr>\n",
       "      <th>1649</th>\n",
       "      <td>Pahal.I01975.1 -- ZF-HD</td>\n",
       "      <td>MEQQHQERPREVYRECMRNHAAKLGTYASDGCCEYTPDDGQPAAML...</td>\n",
       "      <td>226</td>\n",
       "      <td>ZF-HD</td>\n",
       "    </tr>\n",
       "    <tr>\n",
       "      <th>1327</th>\n",
       "      <td>GSMUA_Achr6P30650_001 -- ZF-HD</td>\n",
       "      <td>MKRHLLVLRRYEPVVRIHGGRAEFSRRKCVKYAECRKNHAASVGGY...</td>\n",
       "      <td>95</td>\n",
       "      <td>ZF-HD</td>\n",
       "    </tr>\n",
       "    <tr>\n",
       "      <th>1579</th>\n",
       "      <td>OPUNC05G24610.1 -- ZF-HD</td>\n",
       "      <td>MGVAYGRTPPSSSSSPAAGNGAGAGAGAAEVRYHECLRNHAAAMGG...</td>\n",
       "      <td>179</td>\n",
       "      <td>ZF-HD</td>\n",
       "    </tr>\n",
       "    <tr>\n",
       "      <th>1793</th>\n",
       "      <td>Pp3c18_12880V3.6.p -- ZF-HD</td>\n",
       "      <td>MDLGTGREGTDPQQQQKSSHQTQQQQQPQPLSPLPAPLPLLMPQPL...</td>\n",
       "      <td>340</td>\n",
       "      <td>ZF-HD</td>\n",
       "    </tr>\n",
       "    <tr>\n",
       "      <th>...</th>\n",
       "      <td>...</td>\n",
       "      <td>...</td>\n",
       "      <td>...</td>\n",
       "      <td>...</td>\n",
       "    </tr>\n",
       "    <tr>\n",
       "      <th>1314</th>\n",
       "      <td>GSMUA_Achr3P19060_001 -- ZF-HD</td>\n",
       "      <td>MDLSVVPYTGGREEEAEGAGGGGGGGARYRECLRNHAAAMGGQAYD...</td>\n",
       "      <td>240</td>\n",
       "      <td>ZF-HD</td>\n",
       "    </tr>\n",
       "    <tr>\n",
       "      <th>153</th>\n",
       "      <td>Aradu.40HH4 -- ZF-HD</td>\n",
       "      <td>MEFDEQEEQEEELCVPGGTGYDPIGNPTRVKMSGSEPMLVVQPMTV...</td>\n",
       "      <td>262</td>\n",
       "      <td>ZF-HD</td>\n",
       "    </tr>\n",
       "    <tr>\n",
       "      <th>601</th>\n",
       "      <td>Cla001881 -- ZF-HD</td>\n",
       "      <td>MDLTTQDPPIPIPIPIPLNSRYGGHDHDHIIHHHHDPSATRNHIIA...</td>\n",
       "      <td>305</td>\n",
       "      <td>ZF-HD</td>\n",
       "    </tr>\n",
       "    <tr>\n",
       "      <th>1712</th>\n",
       "      <td>Peinf101Scf00218g00009.1 -- ZF-HD</td>\n",
       "      <td>MEFGNQEMHDDQKELEMPYKYKECLKNHAVGIGGHSVDGCGEFMPA...</td>\n",
       "      <td>187</td>\n",
       "      <td>ZF-HD</td>\n",
       "    </tr>\n",
       "    <tr>\n",
       "      <th>1715</th>\n",
       "      <td>Peinf101Scf00255g11050.1 -- ZF-HD</td>\n",
       "      <td>MANNNMFRANKPWANGSITPALYGECMRNQLADSMTYATDGCHGFG...</td>\n",
       "      <td>94</td>\n",
       "      <td>ZF-HD</td>\n",
       "    </tr>\n",
       "  </tbody>\n",
       "</table>\n",
       "<p>518 rows × 4 columns</p>\n",
       "</div>"
      ],
      "text/plain": [
       "                                     id  \\\n",
       "1936               Pbr016542.1 -- ZF-HD   \n",
       "1649            Pahal.I01975.1 -- ZF-HD   \n",
       "1327     GSMUA_Achr6P30650_001 -- ZF-HD   \n",
       "1579           OPUNC05G24610.1 -- ZF-HD   \n",
       "1793        Pp3c18_12880V3.6.p -- ZF-HD   \n",
       "...                                 ...   \n",
       "1314     GSMUA_Achr3P19060_001 -- ZF-HD   \n",
       "153                Aradu.40HH4 -- ZF-HD   \n",
       "601                  Cla001881 -- ZF-HD   \n",
       "1712  Peinf101Scf00218g00009.1 -- ZF-HD   \n",
       "1715  Peinf101Scf00255g11050.1 -- ZF-HD   \n",
       "\n",
       "                                               sequence  length  class  \n",
       "1936  MDQLSSQEGEIPLTIPVPIPIPINTSFRSGGHGNLIHHHQQQHPHD...     380  ZF-HD  \n",
       "1649  MEQQHQERPREVYRECMRNHAAKLGTYASDGCCEYTPDDGQPAAML...     226  ZF-HD  \n",
       "1327  MKRHLLVLRRYEPVVRIHGGRAEFSRRKCVKYAECRKNHAASVGGY...      95  ZF-HD  \n",
       "1579  MGVAYGRTPPSSSSSPAAGNGAGAGAGAAEVRYHECLRNHAAAMGG...     179  ZF-HD  \n",
       "1793  MDLGTGREGTDPQQQQKSSHQTQQQQQPQPLSPLPAPLPLLMPQPL...     340  ZF-HD  \n",
       "...                                                 ...     ...    ...  \n",
       "1314  MDLSVVPYTGGREEEAEGAGGGGGGGARYRECLRNHAAAMGGQAYD...     240  ZF-HD  \n",
       "153   MEFDEQEEQEEELCVPGGTGYDPIGNPTRVKMSGSEPMLVVQPMTV...     262  ZF-HD  \n",
       "601   MDLTTQDPPIPIPIPIPLNSRYGGHDHDHIIHHHHDPSATRNHIIA...     305  ZF-HD  \n",
       "1712  MEFGNQEMHDDQKELEMPYKYKECLKNHAVGIGGHSVDGCGEFMPA...     187  ZF-HD  \n",
       "1715  MANNNMFRANKPWANGSITPALYGECMRNQLADSMTYATDGCHGFG...      94  ZF-HD  \n",
       "\n",
       "[518 rows x 4 columns]"
      ]
     },
     "execution_count": 5,
     "metadata": {},
     "output_type": "execute_result"
    }
   ],
   "source": [
    "testset_positive = testset[testset['class'] == 1]\n",
    "testset_positive.loc[:, 'class'] = gene_familly\n",
    "testset_positive.loc[:, 'id'] = testset_positive['id'].apply(lambda x: f\"{x} -- {gene_familly}\")\n",
    "testset_positive"
   ]
  },
  {
   "cell_type": "code",
   "execution_count": 6,
   "id": "25a9ad39-47e0-4b0a-9669-c9ed5c6cafa3",
   "metadata": {
    "execution": {
     "iopub.execute_input": "2024-07-04T12:38:40.004862Z",
     "iopub.status.busy": "2024-07-04T12:38:40.004714Z",
     "iopub.status.idle": "2024-07-04T12:38:40.044677Z",
     "shell.execute_reply": "2024-07-04T12:38:40.044374Z"
    },
    "papermill": {
     "duration": 0.042462,
     "end_time": "2024-07-04T12:38:40.045599",
     "exception": false,
     "start_time": "2024-07-04T12:38:40.003137",
     "status": "completed"
    },
    "tags": []
   },
   "outputs": [],
   "source": [
    "testset_positive.to_csv(\"../data/testset/\"+gene_dict['file_code']+\".csv\")\n",
    "trainset.to_csv(\"../data/mix_data/trainset/\"+gene_dict['file_code']+\".csv\")\n",
    "testset.to_csv(\"../data/mix_data/testset/\"+gene_dict['file_code']+\".csv\")"
   ]
  },
  {
   "cell_type": "code",
   "execution_count": null,
   "id": "4107c4c5-3c5d-44f9-af27-5b81b6d102e5",
   "metadata": {
    "papermill": {
     "duration": 0.001206,
     "end_time": "2024-07-04T12:38:40.048003",
     "exception": false,
     "start_time": "2024-07-04T12:38:40.046797",
     "status": "completed"
    },
    "tags": []
   },
   "outputs": [],
   "source": []
  }
 ],
 "metadata": {
  "kernelspec": {
   "display_name": "Python 3 (ipykernel)",
   "language": "python",
   "name": "python3"
  },
  "language_info": {
   "codemirror_mode": {
    "name": "ipython",
    "version": 3
   },
   "file_extension": ".py",
   "mimetype": "text/x-python",
   "name": "python",
   "nbconvert_exporter": "python",
   "pygments_lexer": "ipython3",
   "version": "3.11.7"
  },
  "papermill": {
   "default_parameters": {},
   "duration": 1.78991,
   "end_time": "2024-07-04T12:38:40.265496",
   "environment_variables": {},
   "exception": null,
   "input_path": "05-extract_testset-0.ipynb",
   "output_path": "AutoSave/TestGen/05-extract_testset-0-ZF-HD.ipynb",
   "parameters": {
    "gene_familly": "ZF-HD"
   },
   "start_time": "2024-07-04T12:38:38.475586",
   "version": "2.6.0"
  }
 },
 "nbformat": 4,
 "nbformat_minor": 5
}