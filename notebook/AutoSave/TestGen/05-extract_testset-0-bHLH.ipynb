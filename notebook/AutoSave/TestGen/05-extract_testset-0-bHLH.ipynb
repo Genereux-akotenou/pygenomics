{
 "cells": [
  {
   "cell_type": "code",
   "execution_count": 1,
   "id": "69677699",
   "metadata": {
    "execution": {
     "iopub.execute_input": "2024-07-04T12:38:40.954539Z",
     "iopub.status.busy": "2024-07-04T12:38:40.954274Z",
     "iopub.status.idle": "2024-07-04T12:38:40.959141Z",
     "shell.execute_reply": "2024-07-04T12:38:40.958769Z"
    },
    "papermill": {
     "duration": 0.00828,
     "end_time": "2024-07-04T12:38:40.960240",
     "exception": false,
     "start_time": "2024-07-04T12:38:40.951960",
     "status": "completed"
    },
    "tags": [
     "injected-parameters"
    ]
   },
   "outputs": [],
   "source": [
    "# Parameters\n",
    "gene_familly = \"bHLH\"\n"
   ]
  },
  {
   "cell_type": "code",
   "execution_count": 2,
   "id": "e7cdbe25-11a6-48da-abd4-9ae5eee27bfe",
   "metadata": {
    "execution": {
     "iopub.execute_input": "2024-07-04T12:38:40.962688Z",
     "iopub.status.busy": "2024-07-04T12:38:40.962546Z",
     "iopub.status.idle": "2024-07-04T12:38:41.622499Z",
     "shell.execute_reply": "2024-07-04T12:38:41.622036Z"
    },
    "papermill": {
     "duration": 0.662282,
     "end_time": "2024-07-04T12:38:41.623581",
     "exception": false,
     "start_time": "2024-07-04T12:38:40.961299",
     "status": "completed"
    },
    "tags": []
   },
   "outputs": [],
   "source": [
    "import json\n",
    "import pandas as pd\n",
    "from sklearn.model_selection import train_test_split"
   ]
  },
  {
   "cell_type": "code",
   "execution_count": 3,
   "id": "6e20f340-8cbc-46f2-be83-6f1c4523930a",
   "metadata": {
    "execution": {
     "iopub.execute_input": "2024-07-04T12:38:41.626398Z",
     "iopub.status.busy": "2024-07-04T12:38:41.626126Z",
     "iopub.status.idle": "2024-07-04T12:38:41.880588Z",
     "shell.execute_reply": "2024-07-04T12:38:41.880172Z"
    },
    "papermill": {
     "duration": 0.256945,
     "end_time": "2024-07-04T12:38:41.881590",
     "exception": false,
     "start_time": "2024-07-04T12:38:41.624645",
     "status": "completed"
    },
    "tags": []
   },
   "outputs": [
    {
     "data": {
      "text/html": [
       "<div>\n",
       "<style scoped>\n",
       "    .dataframe tbody tr th:only-of-type {\n",
       "        vertical-align: middle;\n",
       "    }\n",
       "\n",
       "    .dataframe tbody tr th {\n",
       "        vertical-align: top;\n",
       "    }\n",
       "\n",
       "    .dataframe thead th {\n",
       "        text-align: right;\n",
       "    }\n",
       "</style>\n",
       "<table border=\"1\" class=\"dataframe\">\n",
       "  <thead>\n",
       "    <tr style=\"text-align: right;\">\n",
       "      <th></th>\n",
       "      <th>id</th>\n",
       "      <th>sequence</th>\n",
       "      <th>length</th>\n",
       "      <th>class</th>\n",
       "    </tr>\n",
       "  </thead>\n",
       "  <tbody>\n",
       "    <tr>\n",
       "      <th>0</th>\n",
       "      <td>Achn000591</td>\n",
       "      <td>MVEGGDQGDEEEEEELSAMKEMMYKIAAMQPVQDIDPATIQKPRRR...</td>\n",
       "      <td>153</td>\n",
       "      <td>1</td>\n",
       "    </tr>\n",
       "    <tr>\n",
       "      <th>1</th>\n",
       "      <td>Achn007901</td>\n",
       "      <td>MEKENSILTTTWNSSSFGMEIEYNQVNCGFLNPLNWDNSTMGQSDP...</td>\n",
       "      <td>390</td>\n",
       "      <td>1</td>\n",
       "    </tr>\n",
       "    <tr>\n",
       "      <th>2</th>\n",
       "      <td>Achn008041</td>\n",
       "      <td>MREQTKSKKKAAYFQEQWHSQVKEDLSKMIQRQRVPVRRSQKLSDR...</td>\n",
       "      <td>95</td>\n",
       "      <td>1</td>\n",
       "    </tr>\n",
       "    <tr>\n",
       "      <th>3</th>\n",
       "      <td>Achn009641</td>\n",
       "      <td>MYEESECFDPNSMQGLSKDGFSQNPSFSMEEPSYHQNPSPESAAGG...</td>\n",
       "      <td>472</td>\n",
       "      <td>1</td>\n",
       "    </tr>\n",
       "    <tr>\n",
       "      <th>4</th>\n",
       "      <td>Achn013141</td>\n",
       "      <td>MVSFKSSDCAINMTHLMSQCGGGPANELDQRQHHGCEPKKEIDADN...</td>\n",
       "      <td>286</td>\n",
       "      <td>1</td>\n",
       "    </tr>\n",
       "  </tbody>\n",
       "</table>\n",
       "</div>"
      ],
      "text/plain": [
       "           id                                           sequence  length  \\\n",
       "0  Achn000591  MVEGGDQGDEEEEEELSAMKEMMYKIAAMQPVQDIDPATIQKPRRR...     153   \n",
       "1  Achn007901  MEKENSILTTTWNSSSFGMEIEYNQVNCGFLNPLNWDNSTMGQSDP...     390   \n",
       "2  Achn008041  MREQTKSKKKAAYFQEQWHSQVKEDLSKMIQRQRVPVRRSQKLSDR...      95   \n",
       "3  Achn009641  MYEESECFDPNSMQGLSKDGFSQNPSFSMEEPSYHQNPSPESAAGG...     472   \n",
       "4  Achn013141  MVSFKSSDCAINMTHLMSQCGGGPANELDQRQHHGCEPKKEIDADN...     286   \n",
       "\n",
       "   class  \n",
       "0      1  \n",
       "1      1  \n",
       "2      1  \n",
       "3      1  \n",
       "4      1  "
      ]
     },
     "execution_count": 3,
     "metadata": {},
     "output_type": "execute_result"
    }
   ],
   "source": [
    "# READ GENE_INFO JSON FILE\n",
    "gene_info_path = \"../data/gene_info.json\"\n",
    "dataset_path   = \"../data/one_vs_other/\"\n",
    "with open(gene_info_path, 'r') as json_file:\n",
    "    gene_info = json.load(json_file)\n",
    "\n",
    "# FOCUS ON GENE FAMILLY\n",
    "gene_dict = gene_info[gene_familly]\n",
    "df_path = dataset_path+gene_dict['file_code']+\".csv\"\n",
    "\n",
    "# LOAD WHOLE DATASET\n",
    "USE_FULL_DF = True\n",
    "if USE_FULL_DF:\n",
    "    dataset = pd.read_csv(df_path)\n",
    "else:\n",
    "    dataset_ = pd.read_csv(df_path)\n",
    "    r = min(5000/len(dataset_), 1)\n",
    "    _, dataset = train_test_split(dataset_, test_size=r, stratify=dataset_['class'], random_state=42)\n",
    "dataset.head()"
   ]
  },
  {
   "cell_type": "code",
   "execution_count": 4,
   "id": "745dff8f-540b-4299-a3f0-dabda69bd837",
   "metadata": {
    "execution": {
     "iopub.execute_input": "2024-07-04T12:38:41.884363Z",
     "iopub.status.busy": "2024-07-04T12:38:41.884214Z",
     "iopub.status.idle": "2024-07-04T12:38:41.899567Z",
     "shell.execute_reply": "2024-07-04T12:38:41.899198Z"
    },
    "papermill": {
     "duration": 0.017731,
     "end_time": "2024-07-04T12:38:41.900518",
     "exception": false,
     "start_time": "2024-07-04T12:38:41.882787",
     "status": "completed"
    },
    "tags": []
   },
   "outputs": [],
   "source": [
    "trainset, testset = train_test_split(dataset, test_size=0.2, stratify=dataset['class'], random_state=42)"
   ]
  },
  {
   "cell_type": "code",
   "execution_count": 5,
   "id": "a9b8b47d-48c6-4e94-a378-574904e308ee",
   "metadata": {
    "execution": {
     "iopub.execute_input": "2024-07-04T12:38:41.902974Z",
     "iopub.status.busy": "2024-07-04T12:38:41.902842Z",
     "iopub.status.idle": "2024-07-04T12:38:41.910791Z",
     "shell.execute_reply": "2024-07-04T12:38:41.910522Z"
    },
    "papermill": {
     "duration": 0.010209,
     "end_time": "2024-07-04T12:38:41.911661",
     "exception": false,
     "start_time": "2024-07-04T12:38:41.901452",
     "status": "completed"
    },
    "tags": []
   },
   "outputs": [
    {
     "name": "stderr",
     "output_type": "stream",
     "text": [
      "/var/folders/w8/b_cflrn97k9c15rcrn5t8mmr0000gn/T/ipykernel_22906/2288533763.py:2: FutureWarning: Setting an item of incompatible dtype is deprecated and will raise in a future error of pandas. Value 'bHLH' has dtype incompatible with int64, please explicitly cast to a compatible dtype first.\n",
      "  testset_positive.loc[:, 'class'] = gene_familly\n"
     ]
    },
    {
     "data": {
      "text/html": [
       "<div>\n",
       "<style scoped>\n",
       "    .dataframe tbody tr th:only-of-type {\n",
       "        vertical-align: middle;\n",
       "    }\n",
       "\n",
       "    .dataframe tbody tr th {\n",
       "        vertical-align: top;\n",
       "    }\n",
       "\n",
       "    .dataframe thead th {\n",
       "        text-align: right;\n",
       "    }\n",
       "</style>\n",
       "<table border=\"1\" class=\"dataframe\">\n",
       "  <thead>\n",
       "    <tr style=\"text-align: right;\">\n",
       "      <th></th>\n",
       "      <th>id</th>\n",
       "      <th>sequence</th>\n",
       "      <th>length</th>\n",
       "      <th>class</th>\n",
       "    </tr>\n",
       "  </thead>\n",
       "  <tbody>\n",
       "    <tr>\n",
       "      <th>25264</th>\n",
       "      <td>Spipo28G0003900 -- bHLH</td>\n",
       "      <td>MDPGGSSGDRSGNSGEYGHEIAESLRFQEEIQSLMTEHESGAENGS...</td>\n",
       "      <td>282</td>\n",
       "      <td>bHLH</td>\n",
       "    </tr>\n",
       "    <tr>\n",
       "      <th>14442</th>\n",
       "      <td>Niben101Scf00270g13010.1 -- bHLH</td>\n",
       "      <td>MGSWEDNNSIMFSVTPSKRAKQISNDIVNNGLDDGETQFQFGLSQT...</td>\n",
       "      <td>147</td>\n",
       "      <td>bHLH</td>\n",
       "    </tr>\n",
       "    <tr>\n",
       "      <th>6063</th>\n",
       "      <td>XP_012573662.1 -- bHLH</td>\n",
       "      <td>MIQISSTNYQPELFGMEDPTFFDDQEYTMDSFAFHFDDIDFKPFSA...</td>\n",
       "      <td>353</td>\n",
       "      <td>bHLH</td>\n",
       "    </tr>\n",
       "    <tr>\n",
       "      <th>22562</th>\n",
       "      <td>SapurV1A.0377s0010.1.p -- bHLH</td>\n",
       "      <td>MTETFSDFLDEERPEFGDTAFDGDDLFAIFKSLDSTVTDFPPVSTP...</td>\n",
       "      <td>340</td>\n",
       "      <td>bHLH</td>\n",
       "    </tr>\n",
       "    <tr>\n",
       "      <th>26125</th>\n",
       "      <td>Tp57577_TGAC_v2_mRNA40372 -- bHLH</td>\n",
       "      <td>MSQCVPSWDVDENPPPLPRTLSLRSSSNSTATLDVPMLDYDVAELT...</td>\n",
       "      <td>491</td>\n",
       "      <td>bHLH</td>\n",
       "    </tr>\n",
       "    <tr>\n",
       "      <th>...</th>\n",
       "      <td>...</td>\n",
       "      <td>...</td>\n",
       "      <td>...</td>\n",
       "      <td>...</td>\n",
       "    </tr>\n",
       "    <tr>\n",
       "      <th>12565</th>\n",
       "      <td>Lus10012670 -- bHLH</td>\n",
       "      <td>MDLDLMMKQQSTSSSSTTSNGGGDPPHHNHLDMMSMLLHSDFSNEV...</td>\n",
       "      <td>223</td>\n",
       "      <td>bHLH</td>\n",
       "    </tr>\n",
       "    <tr>\n",
       "      <th>26200</th>\n",
       "      <td>Traes_2AL_411B944D6.1 -- bHLH</td>\n",
       "      <td>MDPDMGENFAYYWETQRYLESEELVDSIFVGATEDAISYYDSSSPD...</td>\n",
       "      <td>278</td>\n",
       "      <td>bHLH</td>\n",
       "    </tr>\n",
       "    <tr>\n",
       "      <th>26432</th>\n",
       "      <td>Traes_6DL_1571314A3.1 -- bHLH</td>\n",
       "      <td>REKISERLRTLQELVPNGTKVDMVTMLEKAFSYVKFLQLQV</td>\n",
       "      <td>41</td>\n",
       "      <td>bHLH</td>\n",
       "    </tr>\n",
       "    <tr>\n",
       "      <th>26902</th>\n",
       "      <td>Vang11g03900.1 -- bHLH</td>\n",
       "      <td>MDVDIVKASACDTTNMDVMAMMMQMEKFSEFCDPFYTTTPPYTEPD...</td>\n",
       "      <td>260</td>\n",
       "      <td>bHLH</td>\n",
       "    </tr>\n",
       "    <tr>\n",
       "      <th>25277</th>\n",
       "      <td>Spipo4G0018600 -- bHLH</td>\n",
       "      <td>MSSRRSRSRQGSSTRITEDQIIELVSKLQALLPETRTRGNDRVSAS...</td>\n",
       "      <td>94</td>\n",
       "      <td>bHLH</td>\n",
       "    </tr>\n",
       "  </tbody>\n",
       "</table>\n",
       "<p>5740 rows × 4 columns</p>\n",
       "</div>"
      ],
      "text/plain": [
       "                                      id  \\\n",
       "25264            Spipo28G0003900 -- bHLH   \n",
       "14442   Niben101Scf00270g13010.1 -- bHLH   \n",
       "6063              XP_012573662.1 -- bHLH   \n",
       "22562     SapurV1A.0377s0010.1.p -- bHLH   \n",
       "26125  Tp57577_TGAC_v2_mRNA40372 -- bHLH   \n",
       "...                                  ...   \n",
       "12565                Lus10012670 -- bHLH   \n",
       "26200      Traes_2AL_411B944D6.1 -- bHLH   \n",
       "26432      Traes_6DL_1571314A3.1 -- bHLH   \n",
       "26902             Vang11g03900.1 -- bHLH   \n",
       "25277             Spipo4G0018600 -- bHLH   \n",
       "\n",
       "                                                sequence  length class  \n",
       "25264  MDPGGSSGDRSGNSGEYGHEIAESLRFQEEIQSLMTEHESGAENGS...     282  bHLH  \n",
       "14442  MGSWEDNNSIMFSVTPSKRAKQISNDIVNNGLDDGETQFQFGLSQT...     147  bHLH  \n",
       "6063   MIQISSTNYQPELFGMEDPTFFDDQEYTMDSFAFHFDDIDFKPFSA...     353  bHLH  \n",
       "22562  MTETFSDFLDEERPEFGDTAFDGDDLFAIFKSLDSTVTDFPPVSTP...     340  bHLH  \n",
       "26125  MSQCVPSWDVDENPPPLPRTLSLRSSSNSTATLDVPMLDYDVAELT...     491  bHLH  \n",
       "...                                                  ...     ...   ...  \n",
       "12565  MDLDLMMKQQSTSSSSTTSNGGGDPPHHNHLDMMSMLLHSDFSNEV...     223  bHLH  \n",
       "26200  MDPDMGENFAYYWETQRYLESEELVDSIFVGATEDAISYYDSSSPD...     278  bHLH  \n",
       "26432          REKISERLRTLQELVPNGTKVDMVTMLEKAFSYVKFLQLQV      41  bHLH  \n",
       "26902  MDVDIVKASACDTTNMDVMAMMMQMEKFSEFCDPFYTTTPPYTEPD...     260  bHLH  \n",
       "25277  MSSRRSRSRQGSSTRITEDQIIELVSKLQALLPETRTRGNDRVSAS...      94  bHLH  \n",
       "\n",
       "[5740 rows x 4 columns]"
      ]
     },
     "execution_count": 5,
     "metadata": {},
     "output_type": "execute_result"
    }
   ],
   "source": [
    "testset_positive = testset[testset['class'] == 1]\n",
    "testset_positive.loc[:, 'class'] = gene_familly\n",
    "testset_positive.loc[:, 'id'] = testset_positive['id'].apply(lambda x: f\"{x} -- {gene_familly}\")\n",
    "testset_positive"
   ]
  },
  {
   "cell_type": "code",
   "execution_count": 6,
   "id": "25a9ad39-47e0-4b0a-9669-c9ed5c6cafa3",
   "metadata": {
    "execution": {
     "iopub.execute_input": "2024-07-04T12:38:41.914540Z",
     "iopub.status.busy": "2024-07-04T12:38:41.914413Z",
     "iopub.status.idle": "2024-07-04T12:38:42.372082Z",
     "shell.execute_reply": "2024-07-04T12:38:42.371719Z"
    },
    "papermill": {
     "duration": 0.460186,
     "end_time": "2024-07-04T12:38:42.373028",
     "exception": false,
     "start_time": "2024-07-04T12:38:41.912842",
     "status": "completed"
    },
    "tags": []
   },
   "outputs": [],
   "source": [
    "testset_positive.to_csv(\"../data/testset/\"+gene_dict['file_code']+\".csv\")\n",
    "trainset.to_csv(\"../data/mix_data/trainset/\"+gene_dict['file_code']+\".csv\")\n",
    "testset.to_csv(\"../data/mix_data/testset/\"+gene_dict['file_code']+\".csv\")"
   ]
  },
  {
   "cell_type": "code",
   "execution_count": null,
   "id": "4107c4c5-3c5d-44f9-af27-5b81b6d102e5",
   "metadata": {
    "papermill": {
     "duration": 0.001106,
     "end_time": "2024-07-04T12:38:42.375483",
     "exception": false,
     "start_time": "2024-07-04T12:38:42.374377",
     "status": "completed"
    },
    "tags": []
   },
   "outputs": [],
   "source": []
  }
 ],
 "metadata": {
  "kernelspec": {
   "display_name": "Python 3 (ipykernel)",
   "language": "python",
   "name": "python3"
  },
  "language_info": {
   "codemirror_mode": {
    "name": "ipython",
    "version": 3
   },
   "file_extension": ".py",
   "mimetype": "text/x-python",
   "name": "python",
   "nbconvert_exporter": "python",
   "pygments_lexer": "ipython3",
   "version": "3.11.7"
  },
  "papermill": {
   "default_parameters": {},
   "duration": 2.32403,
   "end_time": "2024-07-04T12:38:42.593120",
   "environment_variables": {},
   "exception": null,
   "input_path": "05-extract_testset-0.ipynb",
   "output_path": "AutoSave/TestGen/05-extract_testset-0-bHLH.ipynb",
   "parameters": {
    "gene_familly": "bHLH"
   },
   "start_time": "2024-07-04T12:38:40.269090",
   "version": "2.6.0"
  }
 },
 "nbformat": 4,
 "nbformat_minor": 5
}