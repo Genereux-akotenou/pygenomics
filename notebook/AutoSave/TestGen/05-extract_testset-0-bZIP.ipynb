{
 "cells": [
  {
   "cell_type": "code",
   "execution_count": 1,
   "id": "00611314",
   "metadata": {
    "execution": {
     "iopub.execute_input": "2024-07-04T12:38:43.204686Z",
     "iopub.status.busy": "2024-07-04T12:38:43.204466Z",
     "iopub.status.idle": "2024-07-04T12:38:43.209380Z",
     "shell.execute_reply": "2024-07-04T12:38:43.209011Z"
    },
    "papermill": {
     "duration": 0.008197,
     "end_time": "2024-07-04T12:38:43.210375",
     "exception": false,
     "start_time": "2024-07-04T12:38:43.202178",
     "status": "completed"
    },
    "tags": [
     "injected-parameters"
    ]
   },
   "outputs": [],
   "source": [
    "# Parameters\n",
    "gene_familly = \"bZIP\"\n"
   ]
  },
  {
   "cell_type": "code",
   "execution_count": 2,
   "id": "e7cdbe25-11a6-48da-abd4-9ae5eee27bfe",
   "metadata": {
    "execution": {
     "iopub.execute_input": "2024-07-04T12:38:43.212884Z",
     "iopub.status.busy": "2024-07-04T12:38:43.212748Z",
     "iopub.status.idle": "2024-07-04T12:38:43.983772Z",
     "shell.execute_reply": "2024-07-04T12:38:43.982868Z"
    },
    "papermill": {
     "duration": 0.774053,
     "end_time": "2024-07-04T12:38:43.985475",
     "exception": false,
     "start_time": "2024-07-04T12:38:43.211422",
     "status": "completed"
    },
    "tags": []
   },
   "outputs": [],
   "source": [
    "import json\n",
    "import pandas as pd\n",
    "from sklearn.model_selection import train_test_split"
   ]
  },
  {
   "cell_type": "code",
   "execution_count": 3,
   "id": "6e20f340-8cbc-46f2-be83-6f1c4523930a",
   "metadata": {
    "execution": {
     "iopub.execute_input": "2024-07-04T12:38:43.989111Z",
     "iopub.status.busy": "2024-07-04T12:38:43.988733Z",
     "iopub.status.idle": "2024-07-04T12:38:44.170902Z",
     "shell.execute_reply": "2024-07-04T12:38:44.170542Z"
    },
    "papermill": {
     "duration": 0.185091,
     "end_time": "2024-07-04T12:38:44.171957",
     "exception": false,
     "start_time": "2024-07-04T12:38:43.986866",
     "status": "completed"
    },
    "tags": []
   },
   "outputs": [
    {
     "data": {
      "text/html": [
       "<div>\n",
       "<style scoped>\n",
       "    .dataframe tbody tr th:only-of-type {\n",
       "        vertical-align: middle;\n",
       "    }\n",
       "\n",
       "    .dataframe tbody tr th {\n",
       "        vertical-align: top;\n",
       "    }\n",
       "\n",
       "    .dataframe thead th {\n",
       "        text-align: right;\n",
       "    }\n",
       "</style>\n",
       "<table border=\"1\" class=\"dataframe\">\n",
       "  <thead>\n",
       "    <tr style=\"text-align: right;\">\n",
       "      <th></th>\n",
       "      <th>id</th>\n",
       "      <th>sequence</th>\n",
       "      <th>length</th>\n",
       "      <th>class</th>\n",
       "    </tr>\n",
       "  </thead>\n",
       "  <tbody>\n",
       "    <tr>\n",
       "      <th>0</th>\n",
       "      <td>Achn006801</td>\n",
       "      <td>MGSLSGTSSGSSLLQNSGSEKDLLQQRKRKRMISNRESARRSRMKK...</td>\n",
       "      <td>148</td>\n",
       "      <td>1</td>\n",
       "    </tr>\n",
       "    <tr>\n",
       "      <th>1</th>\n",
       "      <td>Achn015171</td>\n",
       "      <td>MNSKCYVLEKHTESTITFTQIINLFWCKYIMGSSSGNSSGSTQLQN...</td>\n",
       "      <td>186</td>\n",
       "      <td>1</td>\n",
       "    </tr>\n",
       "    <tr>\n",
       "      <th>2</th>\n",
       "      <td>Achn016621</td>\n",
       "      <td>MADLSVADPLSPNPDLTPTLSDPLAIPPLDPAIFSDAFFDVDVDDL...</td>\n",
       "      <td>805</td>\n",
       "      <td>1</td>\n",
       "    </tr>\n",
       "    <tr>\n",
       "      <th>3</th>\n",
       "      <td>Achn024761</td>\n",
       "      <td>MASTKQAVSAGSDGDPRYAGVDERKRKRMISNRESARRSRMRKQQH...</td>\n",
       "      <td>146</td>\n",
       "      <td>1</td>\n",
       "    </tr>\n",
       "    <tr>\n",
       "      <th>4</th>\n",
       "      <td>Achn025721</td>\n",
       "      <td>MQSNRESARRSRMRKQTHLNDLTAQISRLKEENDQIHTNLSITSQH...</td>\n",
       "      <td>121</td>\n",
       "      <td>1</td>\n",
       "    </tr>\n",
       "  </tbody>\n",
       "</table>\n",
       "</div>"
      ],
      "text/plain": [
       "           id                                           sequence  length  \\\n",
       "0  Achn006801  MGSLSGTSSGSSLLQNSGSEKDLLQQRKRKRMISNRESARRSRMKK...     148   \n",
       "1  Achn015171  MNSKCYVLEKHTESTITFTQIINLFWCKYIMGSSSGNSSGSTQLQN...     186   \n",
       "2  Achn016621  MADLSVADPLSPNPDLTPTLSDPLAIPPLDPAIFSDAFFDVDVDDL...     805   \n",
       "3  Achn024761  MASTKQAVSAGSDGDPRYAGVDERKRKRMISNRESARRSRMRKQQH...     146   \n",
       "4  Achn025721  MQSNRESARRSRMRKQTHLNDLTAQISRLKEENDQIHTNLSITSQH...     121   \n",
       "\n",
       "   class  \n",
       "0      1  \n",
       "1      1  \n",
       "2      1  \n",
       "3      1  \n",
       "4      1  "
      ]
     },
     "execution_count": 3,
     "metadata": {},
     "output_type": "execute_result"
    }
   ],
   "source": [
    "# READ GENE_INFO JSON FILE\n",
    "gene_info_path = \"../data/gene_info.json\"\n",
    "dataset_path   = \"../data/one_vs_other/\"\n",
    "with open(gene_info_path, 'r') as json_file:\n",
    "    gene_info = json.load(json_file)\n",
    "\n",
    "# FOCUS ON GENE FAMILLY\n",
    "gene_dict = gene_info[gene_familly]\n",
    "df_path = dataset_path+gene_dict['file_code']+\".csv\"\n",
    "\n",
    "# LOAD WHOLE DATASET\n",
    "USE_FULL_DF = True\n",
    "if USE_FULL_DF:\n",
    "    dataset = pd.read_csv(df_path)\n",
    "else:\n",
    "    dataset_ = pd.read_csv(df_path)\n",
    "    r = min(5000/len(dataset_), 1)\n",
    "    _, dataset = train_test_split(dataset_, test_size=r, stratify=dataset_['class'], random_state=42)\n",
    "dataset.head()"
   ]
  },
  {
   "cell_type": "code",
   "execution_count": 4,
   "id": "745dff8f-540b-4299-a3f0-dabda69bd837",
   "metadata": {
    "execution": {
     "iopub.execute_input": "2024-07-04T12:38:44.174949Z",
     "iopub.status.busy": "2024-07-04T12:38:44.174786Z",
     "iopub.status.idle": "2024-07-04T12:38:44.185697Z",
     "shell.execute_reply": "2024-07-04T12:38:44.185323Z"
    },
    "papermill": {
     "duration": 0.013431,
     "end_time": "2024-07-04T12:38:44.186647",
     "exception": false,
     "start_time": "2024-07-04T12:38:44.173216",
     "status": "completed"
    },
    "tags": []
   },
   "outputs": [],
   "source": [
    "trainset, testset = train_test_split(dataset, test_size=0.2, stratify=dataset['class'], random_state=42)"
   ]
  },
  {
   "cell_type": "code",
   "execution_count": 5,
   "id": "a9b8b47d-48c6-4e94-a378-574904e308ee",
   "metadata": {
    "execution": {
     "iopub.execute_input": "2024-07-04T12:38:44.189493Z",
     "iopub.status.busy": "2024-07-04T12:38:44.189343Z",
     "iopub.status.idle": "2024-07-04T12:38:44.197987Z",
     "shell.execute_reply": "2024-07-04T12:38:44.197571Z"
    },
    "papermill": {
     "duration": 0.011492,
     "end_time": "2024-07-04T12:38:44.199161",
     "exception": false,
     "start_time": "2024-07-04T12:38:44.187669",
     "status": "completed"
    },
    "tags": []
   },
   "outputs": [
    {
     "name": "stderr",
     "output_type": "stream",
     "text": [
      "/var/folders/w8/b_cflrn97k9c15rcrn5t8mmr0000gn/T/ipykernel_22912/2288533763.py:2: FutureWarning: Setting an item of incompatible dtype is deprecated and will raise in a future error of pandas. Value 'bZIP' has dtype incompatible with int64, please explicitly cast to a compatible dtype first.\n",
      "  testset_positive.loc[:, 'class'] = gene_familly\n"
     ]
    },
    {
     "data": {
      "text/html": [
       "<div>\n",
       "<style scoped>\n",
       "    .dataframe tbody tr th:only-of-type {\n",
       "        vertical-align: middle;\n",
       "    }\n",
       "\n",
       "    .dataframe tbody tr th {\n",
       "        vertical-align: top;\n",
       "    }\n",
       "\n",
       "    .dataframe thead th {\n",
       "        text-align: right;\n",
       "    }\n",
       "</style>\n",
       "<table border=\"1\" class=\"dataframe\">\n",
       "  <thead>\n",
       "    <tr style=\"text-align: right;\">\n",
       "      <th></th>\n",
       "      <th>id</th>\n",
       "      <th>sequence</th>\n",
       "      <th>length</th>\n",
       "      <th>class</th>\n",
       "    </tr>\n",
       "  </thead>\n",
       "  <tbody>\n",
       "    <tr>\n",
       "      <th>9664</th>\n",
       "      <td>e_gw1.3.487.1 -- bZIP</td>\n",
       "      <td>MFRACGYFDDDGLGELGELGGGADGAASEAEEESSAAASGKHSRGG...</td>\n",
       "      <td>448</td>\n",
       "      <td>bZIP</td>\n",
       "    </tr>\n",
       "    <tr>\n",
       "      <th>5645</th>\n",
       "      <td>Han001056 -- bZIP</td>\n",
       "      <td>MGNCEEAKDCKPEETSSPPAAYYGPRMAVPPYFSSPVASGHAPPPY...</td>\n",
       "      <td>348</td>\n",
       "      <td>bZIP</td>\n",
       "    </tr>\n",
       "    <tr>\n",
       "      <th>5861</th>\n",
       "      <td>HL.SW.v1.0.G033762.1 -- bZIP</td>\n",
       "      <td>MLPFMEDEVRLGGGWKQNWARGLHYLRSGRRGLGSLSCVQWWYYVA...</td>\n",
       "      <td>173</td>\n",
       "      <td>bZIP</td>\n",
       "    </tr>\n",
       "    <tr>\n",
       "      <th>1528</th>\n",
       "      <td>GSBRNA2T00047841001 -- bZIP</td>\n",
       "      <td>MDPSSSGSEESLMEQRKRKRMLSNRESARRSRMKKQKLLDDLTAQV...</td>\n",
       "      <td>143</td>\n",
       "      <td>bZIP</td>\n",
       "    </tr>\n",
       "    <tr>\n",
       "      <th>7008</th>\n",
       "      <td>MDP0000239688 -- bZIP</td>\n",
       "      <td>MHSRPSHNRLSGSAFHSRISALLLAMVSTMAAIYVAGRLWQDAADR...</td>\n",
       "      <td>854</td>\n",
       "      <td>bZIP</td>\n",
       "    </tr>\n",
       "    <tr>\n",
       "      <th>...</th>\n",
       "      <td>...</td>\n",
       "      <td>...</td>\n",
       "      <td>...</td>\n",
       "      <td>...</td>\n",
       "    </tr>\n",
       "    <tr>\n",
       "      <th>1825</th>\n",
       "      <td>XP_013611852.1 -- bZIP</td>\n",
       "      <td>MGSNEEGKTTQSDKPAQVQAPPPPPEQSNVHVYHHDWAAMQAYYGP...</td>\n",
       "      <td>364</td>\n",
       "      <td>bZIP</td>\n",
       "    </tr>\n",
       "    <tr>\n",
       "      <th>9907</th>\n",
       "      <td>Pavir.2KG587400.1.p -- bZIP</td>\n",
       "      <td>MAMPPKPGDPPQRSPGRSPNLNLPYPLPPVPGGAPPQPGGGLPAPR...</td>\n",
       "      <td>366</td>\n",
       "      <td>bZIP</td>\n",
       "    </tr>\n",
       "    <tr>\n",
       "      <th>164</th>\n",
       "      <td>AA31G00181 -- bZIP</td>\n",
       "      <td>MMSSSSPTQLASLRDVGIYEPFQQIVTWGNAFKSDINNNQDTSPNT...</td>\n",
       "      <td>375</td>\n",
       "      <td>bZIP</td>\n",
       "    </tr>\n",
       "    <tr>\n",
       "      <th>4693</th>\n",
       "      <td>Glyma.08G140100.18.p -- bZIP</td>\n",
       "      <td>MDATSSQFVSSRRMGVYDPIHQISMWEETFKSNDTNNLTVSTSIIG...</td>\n",
       "      <td>328</td>\n",
       "      <td>bZIP</td>\n",
       "    </tr>\n",
       "    <tr>\n",
       "      <th>2481</th>\n",
       "      <td>PK27109.1 -- bZIP</td>\n",
       "      <td>MEAKLPPAKPPSPTDMVIDQMSETPKRGSHHRRAHSDTSFRFPNLD...</td>\n",
       "      <td>335</td>\n",
       "      <td>bZIP</td>\n",
       "    </tr>\n",
       "  </tbody>\n",
       "</table>\n",
       "<p>3100 rows × 4 columns</p>\n",
       "</div>"
      ],
      "text/plain": [
       "                                id  \\\n",
       "9664         e_gw1.3.487.1 -- bZIP   \n",
       "5645             Han001056 -- bZIP   \n",
       "5861  HL.SW.v1.0.G033762.1 -- bZIP   \n",
       "1528   GSBRNA2T00047841001 -- bZIP   \n",
       "7008         MDP0000239688 -- bZIP   \n",
       "...                            ...   \n",
       "1825        XP_013611852.1 -- bZIP   \n",
       "9907   Pavir.2KG587400.1.p -- bZIP   \n",
       "164             AA31G00181 -- bZIP   \n",
       "4693  Glyma.08G140100.18.p -- bZIP   \n",
       "2481             PK27109.1 -- bZIP   \n",
       "\n",
       "                                               sequence  length class  \n",
       "9664  MFRACGYFDDDGLGELGELGGGADGAASEAEEESSAAASGKHSRGG...     448  bZIP  \n",
       "5645  MGNCEEAKDCKPEETSSPPAAYYGPRMAVPPYFSSPVASGHAPPPY...     348  bZIP  \n",
       "5861  MLPFMEDEVRLGGGWKQNWARGLHYLRSGRRGLGSLSCVQWWYYVA...     173  bZIP  \n",
       "1528  MDPSSSGSEESLMEQRKRKRMLSNRESARRSRMKKQKLLDDLTAQV...     143  bZIP  \n",
       "7008  MHSRPSHNRLSGSAFHSRISALLLAMVSTMAAIYVAGRLWQDAADR...     854  bZIP  \n",
       "...                                                 ...     ...   ...  \n",
       "1825  MGSNEEGKTTQSDKPAQVQAPPPPPEQSNVHVYHHDWAAMQAYYGP...     364  bZIP  \n",
       "9907  MAMPPKPGDPPQRSPGRSPNLNLPYPLPPVPGGAPPQPGGGLPAPR...     366  bZIP  \n",
       "164   MMSSSSPTQLASLRDVGIYEPFQQIVTWGNAFKSDINNNQDTSPNT...     375  bZIP  \n",
       "4693  MDATSSQFVSSRRMGVYDPIHQISMWEETFKSNDTNNLTVSTSIIG...     328  bZIP  \n",
       "2481  MEAKLPPAKPPSPTDMVIDQMSETPKRGSHHRRAHSDTSFRFPNLD...     335  bZIP  \n",
       "\n",
       "[3100 rows x 4 columns]"
      ]
     },
     "execution_count": 5,
     "metadata": {},
     "output_type": "execute_result"
    }
   ],
   "source": [
    "testset_positive = testset[testset['class'] == 1]\n",
    "testset_positive.loc[:, 'class'] = gene_familly\n",
    "testset_positive.loc[:, 'id'] = testset_positive['id'].apply(lambda x: f\"{x} -- {gene_familly}\")\n",
    "testset_positive"
   ]
  },
  {
   "cell_type": "code",
   "execution_count": 6,
   "id": "25a9ad39-47e0-4b0a-9669-c9ed5c6cafa3",
   "metadata": {
    "execution": {
     "iopub.execute_input": "2024-07-04T12:38:44.202546Z",
     "iopub.status.busy": "2024-07-04T12:38:44.202392Z",
     "iopub.status.idle": "2024-07-04T12:38:44.448615Z",
     "shell.execute_reply": "2024-07-04T12:38:44.448261Z"
    },
    "papermill": {
     "duration": 0.24911,
     "end_time": "2024-07-04T12:38:44.449742",
     "exception": false,
     "start_time": "2024-07-04T12:38:44.200632",
     "status": "completed"
    },
    "tags": []
   },
   "outputs": [],
   "source": [
    "testset_positive.to_csv(\"../data/testset/\"+gene_dict['file_code']+\".csv\")\n",
    "trainset.to_csv(\"../data/mix_data/trainset/\"+gene_dict['file_code']+\".csv\")\n",
    "testset.to_csv(\"../data/mix_data/testset/\"+gene_dict['file_code']+\".csv\")"
   ]
  },
  {
   "cell_type": "code",
   "execution_count": null,
   "id": "4107c4c5-3c5d-44f9-af27-5b81b6d102e5",
   "metadata": {
    "papermill": {
     "duration": 0.001231,
     "end_time": "2024-07-04T12:38:44.452417",
     "exception": false,
     "start_time": "2024-07-04T12:38:44.451186",
     "status": "completed"
    },
    "tags": []
   },
   "outputs": [],
   "source": []
  }
 ],
 "metadata": {
  "kernelspec": {
   "display_name": "Python 3 (ipykernel)",
   "language": "python",
   "name": "python3"
  },
  "language_info": {
   "codemirror_mode": {
    "name": "ipython",
    "version": 3
   },
   "file_extension": ".py",
   "mimetype": "text/x-python",
   "name": "python",
   "nbconvert_exporter": "python",
   "pygments_lexer": "ipython3",
   "version": "3.11.7"
  },
  "papermill": {
   "default_parameters": {},
   "duration": 2.074383,
   "end_time": "2024-07-04T12:38:44.672114",
   "environment_variables": {},
   "exception": null,
   "input_path": "05-extract_testset-0.ipynb",
   "output_path": "AutoSave/TestGen/05-extract_testset-0-bZIP.ipynb",
   "parameters": {
    "gene_familly": "bZIP"
   },
   "start_time": "2024-07-04T12:38:42.597731",
   "version": "2.6.0"
  }
 },
 "nbformat": 4,
 "nbformat_minor": 5
}