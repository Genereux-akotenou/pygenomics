{
 "cells": [
  {
   "cell_type": "code",
   "execution_count": 1,
   "id": "edd984e8",
   "metadata": {
    "execution": {
     "iopub.execute_input": "2024-07-03T23:15:49.146247Z",
     "iopub.status.busy": "2024-07-03T23:15:49.145525Z",
     "iopub.status.idle": "2024-07-03T23:15:49.158747Z",
     "shell.execute_reply": "2024-07-03T23:15:49.158062Z"
    },
    "papermill": {
     "duration": 0.024514,
     "end_time": "2024-07-03T23:15:49.160589",
     "exception": false,
     "start_time": "2024-07-03T23:15:49.136075",
     "status": "completed"
    },
    "tags": [
     "injected-parameters"
    ]
   },
   "outputs": [],
   "source": [
    "# Parameters\n",
    "gene_familly = \"ARF\"\n"
   ]
  },
  {
   "cell_type": "code",
   "execution_count": 2,
   "id": "e7cdbe25-11a6-48da-abd4-9ae5eee27bfe",
   "metadata": {
    "execution": {
     "iopub.execute_input": "2024-07-03T23:15:49.168498Z",
     "iopub.status.busy": "2024-07-03T23:15:49.168191Z",
     "iopub.status.idle": "2024-07-03T23:15:49.815068Z",
     "shell.execute_reply": "2024-07-03T23:15:49.814591Z"
    },
    "papermill": {
     "duration": 0.653173,
     "end_time": "2024-07-03T23:15:49.816722",
     "exception": false,
     "start_time": "2024-07-03T23:15:49.163549",
     "status": "completed"
    },
    "tags": []
   },
   "outputs": [],
   "source": [
    "import json\n",
    "import pandas as pd\n",
    "from sklearn.model_selection import train_test_split"
   ]
  },
  {
   "cell_type": "code",
   "execution_count": 3,
   "id": "6e20f340-8cbc-46f2-be83-6f1c4523930a",
   "metadata": {
    "execution": {
     "iopub.execute_input": "2024-07-03T23:15:49.820580Z",
     "iopub.status.busy": "2024-07-03T23:15:49.820335Z",
     "iopub.status.idle": "2024-07-03T23:15:49.886506Z",
     "shell.execute_reply": "2024-07-03T23:15:49.886154Z"
    },
    "papermill": {
     "duration": 0.069518,
     "end_time": "2024-07-03T23:15:49.887664",
     "exception": false,
     "start_time": "2024-07-03T23:15:49.818146",
     "status": "completed"
    },
    "tags": []
   },
   "outputs": [
    {
     "data": {
      "text/html": [
       "<div>\n",
       "<style scoped>\n",
       "    .dataframe tbody tr th:only-of-type {\n",
       "        vertical-align: middle;\n",
       "    }\n",
       "\n",
       "    .dataframe tbody tr th {\n",
       "        vertical-align: top;\n",
       "    }\n",
       "\n",
       "    .dataframe thead th {\n",
       "        text-align: right;\n",
       "    }\n",
       "</style>\n",
       "<table border=\"1\" class=\"dataframe\">\n",
       "  <thead>\n",
       "    <tr style=\"text-align: right;\">\n",
       "      <th></th>\n",
       "      <th>id</th>\n",
       "      <th>sequence</th>\n",
       "      <th>length</th>\n",
       "      <th>class</th>\n",
       "    </tr>\n",
       "  </thead>\n",
       "  <tbody>\n",
       "    <tr>\n",
       "      <th>0</th>\n",
       "      <td>Achn017391</td>\n",
       "      <td>MAASEVSYRGNARGESFSSDYCDPNDGGAGEGNSGGFAHFSGEIPA...</td>\n",
       "      <td>801</td>\n",
       "      <td>1</td>\n",
       "    </tr>\n",
       "    <tr>\n",
       "      <th>1</th>\n",
       "      <td>Achn023421</td>\n",
       "      <td>MQFFFFLSLLTIRKKKFNGGGGEKKNINAELWQACAGPLVNLPAAG...</td>\n",
       "      <td>882</td>\n",
       "      <td>1</td>\n",
       "    </tr>\n",
       "    <tr>\n",
       "      <th>2</th>\n",
       "      <td>Achn024331</td>\n",
       "      <td>MASRNDVQVQKVETINDVSRCNNQGEKDDLYTQLWHACAGPLVHVP...</td>\n",
       "      <td>1801</td>\n",
       "      <td>1</td>\n",
       "    </tr>\n",
       "    <tr>\n",
       "      <th>3</th>\n",
       "      <td>Achn034241</td>\n",
       "      <td>MHTGQPKRHLLTTGWSVFVSAKRLVAGDSVLFIWNEKNQLLLGIRR...</td>\n",
       "      <td>662</td>\n",
       "      <td>1</td>\n",
       "    </tr>\n",
       "    <tr>\n",
       "      <th>4</th>\n",
       "      <td>Achn043361</td>\n",
       "      <td>MCGLIDLNTVLDGDETTAASFDSPTPSPPPSTSSGALALGSSSSSS...</td>\n",
       "      <td>753</td>\n",
       "      <td>1</td>\n",
       "    </tr>\n",
       "  </tbody>\n",
       "</table>\n",
       "</div>"
      ],
      "text/plain": [
       "           id                                           sequence  length  \\\n",
       "0  Achn017391  MAASEVSYRGNARGESFSSDYCDPNDGGAGEGNSGGFAHFSGEIPA...     801   \n",
       "1  Achn023421  MQFFFFLSLLTIRKKKFNGGGGEKKNINAELWQACAGPLVNLPAAG...     882   \n",
       "2  Achn024331  MASRNDVQVQKVETINDVSRCNNQGEKDDLYTQLWHACAGPLVHVP...    1801   \n",
       "3  Achn034241  MHTGQPKRHLLTTGWSVFVSAKRLVAGDSVLFIWNEKNQLLLGIRR...     662   \n",
       "4  Achn043361  MCGLIDLNTVLDGDETTAASFDSPTPSPPPSTSSGALALGSSSSSS...     753   \n",
       "\n",
       "   class  \n",
       "0      1  \n",
       "1      1  \n",
       "2      1  \n",
       "3      1  \n",
       "4      1  "
      ]
     },
     "execution_count": 3,
     "metadata": {},
     "output_type": "execute_result"
    }
   ],
   "source": [
    "# READ GENE_INFO JSON FILE\n",
    "gene_info_path = \"../data/gene_info.json\"\n",
    "dataset_path   = \"../data/one_vs_other/\"\n",
    "with open(gene_info_path, 'r') as json_file:\n",
    "    gene_info = json.load(json_file)\n",
    "\n",
    "# FOCUS ON GENE FAMILLY\n",
    "gene_dict = gene_info[gene_familly]\n",
    "df_path = dataset_path+gene_dict['file_code']+\".csv\"\n",
    "\n",
    "# LOAD WHOLE DATASET\n",
    "USE_FULL_DF = True\n",
    "if USE_FULL_DF:\n",
    "    dataset = pd.read_csv(df_path)\n",
    "else:\n",
    "    dataset_ = pd.read_csv(df_path)\n",
    "    r = min(5000/len(dataset_), 1)\n",
    "    _, dataset = train_test_split(dataset_, test_size=r, stratify=dataset_['class'], random_state=42)\n",
    "dataset.head()"
   ]
  },
  {
   "cell_type": "code",
   "execution_count": 4,
   "id": "745dff8f-540b-4299-a3f0-dabda69bd837",
   "metadata": {
    "execution": {
     "iopub.execute_input": "2024-07-03T23:15:49.890812Z",
     "iopub.status.busy": "2024-07-03T23:15:49.890576Z",
     "iopub.status.idle": "2024-07-03T23:15:49.896019Z",
     "shell.execute_reply": "2024-07-03T23:15:49.895706Z"
    },
    "papermill": {
     "duration": 0.008047,
     "end_time": "2024-07-03T23:15:49.896990",
     "exception": false,
     "start_time": "2024-07-03T23:15:49.888943",
     "status": "completed"
    },
    "tags": []
   },
   "outputs": [],
   "source": [
    "trainset, testset = train_test_split(dataset, test_size=0.2, stratify=dataset['class'], random_state=42)"
   ]
  },
  {
   "cell_type": "code",
   "execution_count": 5,
   "id": "a9b8b47d-48c6-4e94-a378-574904e308ee",
   "metadata": {
    "execution": {
     "iopub.execute_input": "2024-07-03T23:15:49.899568Z",
     "iopub.status.busy": "2024-07-03T23:15:49.899448Z",
     "iopub.status.idle": "2024-07-03T23:15:49.905556Z",
     "shell.execute_reply": "2024-07-03T23:15:49.905274Z"
    },
    "papermill": {
     "duration": 0.008356,
     "end_time": "2024-07-03T23:15:49.906440",
     "exception": false,
     "start_time": "2024-07-03T23:15:49.898084",
     "status": "completed"
    },
    "tags": []
   },
   "outputs": [
    {
     "name": "stderr",
     "output_type": "stream",
     "text": [
      "/var/folders/w8/b_cflrn97k9c15rcrn5t8mmr0000gn/T/ipykernel_2404/3395039238.py:2: FutureWarning: Setting an item of incompatible dtype is deprecated and will raise in a future error of pandas. Value 'ARF' has dtype incompatible with int64, please explicitly cast to a compatible dtype first.\n",
      "  testset_positive.loc[:, 'class'] = gene_familly\n"
     ]
    },
    {
     "data": {
      "text/html": [
       "<div>\n",
       "<style scoped>\n",
       "    .dataframe tbody tr th:only-of-type {\n",
       "        vertical-align: middle;\n",
       "    }\n",
       "\n",
       "    .dataframe tbody tr th {\n",
       "        vertical-align: top;\n",
       "    }\n",
       "\n",
       "    .dataframe thead th {\n",
       "        text-align: right;\n",
       "    }\n",
       "</style>\n",
       "<table border=\"1\" class=\"dataframe\">\n",
       "  <thead>\n",
       "    <tr style=\"text-align: right;\">\n",
       "      <th></th>\n",
       "      <th>id</th>\n",
       "      <th>sequence</th>\n",
       "      <th>length</th>\n",
       "      <th>class</th>\n",
       "    </tr>\n",
       "  </thead>\n",
       "  <tbody>\n",
       "    <tr>\n",
       "      <th>975</th>\n",
       "      <td>Cc02_g39520</td>\n",
       "      <td>MAHVDGFRGGASSAPSHTLPARDTGQGDDMYTELWKACAGPLVDVP...</td>\n",
       "      <td>697</td>\n",
       "      <td>ARF</td>\n",
       "    </tr>\n",
       "    <tr>\n",
       "      <th>4469</th>\n",
       "      <td>GRMZM2G159399_P02</td>\n",
       "      <td>MKEAGEERCLDPQLWHACAGGMVQMPPVRSRVYYFPQGHAEHAHGG...</td>\n",
       "      <td>373</td>\n",
       "      <td>ARF</td>\n",
       "    </tr>\n",
       "    <tr>\n",
       "      <th>1354</th>\n",
       "      <td>Glyma.05G221300.3.p</td>\n",
       "      <td>MKAQPPDGAAAVAPNAGEGGEKKTINAELWQACAGPLLNLPSPGTH...</td>\n",
       "      <td>1091</td>\n",
       "      <td>ARF</td>\n",
       "    </tr>\n",
       "    <tr>\n",
       "      <th>807</th>\n",
       "      <td>cra_locus_4547_iso_10</td>\n",
       "      <td>MRLSSPGFSLQSPEGEKRCLNSELWHACAGPLVSLPAVGSRVVYFP...</td>\n",
       "      <td>909</td>\n",
       "      <td>ARF</td>\n",
       "    </tr>\n",
       "    <tr>\n",
       "      <th>713</th>\n",
       "      <td>Cagra.1961s0078.1.p</td>\n",
       "      <td>MQKQTDFIPNYPNLPSKLICLLHSVTLHADTETDEVYAQMTLQPVN...</td>\n",
       "      <td>1018</td>\n",
       "      <td>ARF</td>\n",
       "    </tr>\n",
       "    <tr>\n",
       "      <th>...</th>\n",
       "      <td>...</td>\n",
       "      <td>...</td>\n",
       "      <td>...</td>\n",
       "      <td>...</td>\n",
       "    </tr>\n",
       "    <tr>\n",
       "      <th>4405</th>\n",
       "      <td>Vradi04g02680.1</td>\n",
       "      <td>MEIDLNYAVTEPEKTASCNGDCDKAAACVCVSSLSSPTCSSSGSSS...</td>\n",
       "      <td>867</td>\n",
       "      <td>ARF</td>\n",
       "    </tr>\n",
       "    <tr>\n",
       "      <th>1398</th>\n",
       "      <td>Glyma.13G174000.2.p</td>\n",
       "      <td>MAGLIDLNNATEDDETPSSGSSSSSSSSTVCLELWHACAGPMISLP...</td>\n",
       "      <td>712</td>\n",
       "      <td>ARF</td>\n",
       "    </tr>\n",
       "    <tr>\n",
       "      <th>2452</th>\n",
       "      <td>XP_009798136.1</td>\n",
       "      <td>MPVYNLPSKILCRVINVLLKAEPDTDEVFAQVTLMPEPNQDESAVT...</td>\n",
       "      <td>736</td>\n",
       "      <td>ARF</td>\n",
       "    </tr>\n",
       "    <tr>\n",
       "      <th>2927</th>\n",
       "      <td>ORUFI07G05150.1</td>\n",
       "      <td>MAQPPDDAAAAAVPPPVVIDRDVWHACAVPYSGVLPGVGTLVYYIP...</td>\n",
       "      <td>784</td>\n",
       "      <td>ARF</td>\n",
       "    </tr>\n",
       "    <tr>\n",
       "      <th>63</th>\n",
       "      <td>AHYPO_009798-RA</td>\n",
       "      <td>MITFMDPKDKIKEVDNCLDSQLWHACAGGMVQMPLVNSRVYYFVQG...</td>\n",
       "      <td>695</td>\n",
       "      <td>ARF</td>\n",
       "    </tr>\n",
       "  </tbody>\n",
       "</table>\n",
       "<p>916 rows × 4 columns</p>\n",
       "</div>"
      ],
      "text/plain": [
       "                         id  \\\n",
       "975             Cc02_g39520   \n",
       "4469      GRMZM2G159399_P02   \n",
       "1354    Glyma.05G221300.3.p   \n",
       "807   cra_locus_4547_iso_10   \n",
       "713     Cagra.1961s0078.1.p   \n",
       "...                     ...   \n",
       "4405        Vradi04g02680.1   \n",
       "1398    Glyma.13G174000.2.p   \n",
       "2452         XP_009798136.1   \n",
       "2927        ORUFI07G05150.1   \n",
       "63          AHYPO_009798-RA   \n",
       "\n",
       "                                               sequence  length class  \n",
       "975   MAHVDGFRGGASSAPSHTLPARDTGQGDDMYTELWKACAGPLVDVP...     697   ARF  \n",
       "4469  MKEAGEERCLDPQLWHACAGGMVQMPPVRSRVYYFPQGHAEHAHGG...     373   ARF  \n",
       "1354  MKAQPPDGAAAVAPNAGEGGEKKTINAELWQACAGPLLNLPSPGTH...    1091   ARF  \n",
       "807   MRLSSPGFSLQSPEGEKRCLNSELWHACAGPLVSLPAVGSRVVYFP...     909   ARF  \n",
       "713   MQKQTDFIPNYPNLPSKLICLLHSVTLHADTETDEVYAQMTLQPVN...    1018   ARF  \n",
       "...                                                 ...     ...   ...  \n",
       "4405  MEIDLNYAVTEPEKTASCNGDCDKAAACVCVSSLSSPTCSSSGSSS...     867   ARF  \n",
       "1398  MAGLIDLNNATEDDETPSSGSSSSSSSSTVCLELWHACAGPMISLP...     712   ARF  \n",
       "2452  MPVYNLPSKILCRVINVLLKAEPDTDEVFAQVTLMPEPNQDESAVT...     736   ARF  \n",
       "2927  MAQPPDDAAAAAVPPPVVIDRDVWHACAVPYSGVLPGVGTLVYYIP...     784   ARF  \n",
       "63    MITFMDPKDKIKEVDNCLDSQLWHACAGGMVQMPLVNSRVYYFVQG...     695   ARF  \n",
       "\n",
       "[916 rows x 4 columns]"
      ]
     },
     "execution_count": 5,
     "metadata": {},
     "output_type": "execute_result"
    }
   ],
   "source": [
    "testset_positive = testset[testset['class'] == 1]\n",
    "testset_positive.loc[:, 'class'] = gene_familly\n",
    "testset_positive"
   ]
  },
  {
   "cell_type": "code",
   "execution_count": 6,
   "id": "25a9ad39-47e0-4b0a-9669-c9ed5c6cafa3",
   "metadata": {
    "execution": {
     "iopub.execute_input": "2024-07-03T23:15:49.909402Z",
     "iopub.status.busy": "2024-07-03T23:15:49.909278Z",
     "iopub.status.idle": "2024-07-03T23:15:49.925775Z",
     "shell.execute_reply": "2024-07-03T23:15:49.925371Z"
    },
    "papermill": {
     "duration": 0.019053,
     "end_time": "2024-07-03T23:15:49.926765",
     "exception": false,
     "start_time": "2024-07-03T23:15:49.907712",
     "status": "completed"
    },
    "tags": []
   },
   "outputs": [],
   "source": [
    "testset_positive.to_csv(\"../data/testset/\"+gene_dict['file_code']+\".csv\")"
   ]
  },
  {
   "cell_type": "code",
   "execution_count": null,
   "id": "4107c4c5-3c5d-44f9-af27-5b81b6d102e5",
   "metadata": {
    "papermill": {
     "duration": 0.001085,
     "end_time": "2024-07-03T23:15:49.929150",
     "exception": false,
     "start_time": "2024-07-03T23:15:49.928065",
     "status": "completed"
    },
    "tags": []
   },
   "outputs": [],
   "source": []
  }
 ],
 "metadata": {
  "kernelspec": {
   "display_name": "Python 3 (ipykernel)",
   "language": "python",
   "name": "python3"
  },
  "language_info": {
   "codemirror_mode": {
    "name": "ipython",
    "version": 3
   },
   "file_extension": ".py",
   "mimetype": "text/x-python",
   "name": "python",
   "nbconvert_exporter": "python",
   "pygments_lexer": "ipython3",
   "version": "3.11.7"
  },
  "papermill": {
   "default_parameters": {},
   "duration": 1.68321,
   "end_time": "2024-07-03T23:15:50.248465",
   "environment_variables": {},
   "exception": null,
   "input_path": "05-extract_testset.ipynb",
   "output_path": "AutoSave/TestGen/05-extract_testset-ARF.ipynb",
   "parameters": {
    "gene_familly": "ARF"
   },
   "start_time": "2024-07-03T23:15:48.565255",
   "version": "2.6.0"
  }
 },
 "nbformat": 4,
 "nbformat_minor": 5
}