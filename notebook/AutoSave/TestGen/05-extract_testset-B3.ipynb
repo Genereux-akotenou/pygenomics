{
 "cells": [
  {
   "cell_type": "code",
   "execution_count": 1,
   "id": "6c045d2a",
   "metadata": {
    "execution": {
     "iopub.execute_input": "2024-07-03T23:15:52.553188Z",
     "iopub.status.busy": "2024-07-03T23:15:52.552377Z",
     "iopub.status.idle": "2024-07-03T23:15:52.565460Z",
     "shell.execute_reply": "2024-07-03T23:15:52.564864Z"
    },
    "papermill": {
     "duration": 0.023656,
     "end_time": "2024-07-03T23:15:52.567320",
     "exception": false,
     "start_time": "2024-07-03T23:15:52.543664",
     "status": "completed"
    },
    "tags": [
     "injected-parameters"
    ]
   },
   "outputs": [],
   "source": [
    "# Parameters\n",
    "gene_familly = \"B3\"\n"
   ]
  },
  {
   "cell_type": "code",
   "execution_count": 2,
   "id": "e7cdbe25-11a6-48da-abd4-9ae5eee27bfe",
   "metadata": {
    "execution": {
     "iopub.execute_input": "2024-07-03T23:15:52.573399Z",
     "iopub.status.busy": "2024-07-03T23:15:52.573178Z",
     "iopub.status.idle": "2024-07-03T23:15:53.247366Z",
     "shell.execute_reply": "2024-07-03T23:15:53.246847Z"
    },
    "papermill": {
     "duration": 0.678708,
     "end_time": "2024-07-03T23:15:53.249005",
     "exception": false,
     "start_time": "2024-07-03T23:15:52.570297",
     "status": "completed"
    },
    "tags": []
   },
   "outputs": [],
   "source": [
    "import json\n",
    "import pandas as pd\n",
    "from sklearn.model_selection import train_test_split"
   ]
  },
  {
   "cell_type": "code",
   "execution_count": 3,
   "id": "6e20f340-8cbc-46f2-be83-6f1c4523930a",
   "metadata": {
    "execution": {
     "iopub.execute_input": "2024-07-03T23:15:53.252408Z",
     "iopub.status.busy": "2024-07-03T23:15:53.252170Z",
     "iopub.status.idle": "2024-07-03T23:15:53.354237Z",
     "shell.execute_reply": "2024-07-03T23:15:53.353870Z"
    },
    "papermill": {
     "duration": 0.104967,
     "end_time": "2024-07-03T23:15:53.355460",
     "exception": false,
     "start_time": "2024-07-03T23:15:53.250493",
     "status": "completed"
    },
    "tags": []
   },
   "outputs": [
    {
     "data": {
      "text/html": [
       "<div>\n",
       "<style scoped>\n",
       "    .dataframe tbody tr th:only-of-type {\n",
       "        vertical-align: middle;\n",
       "    }\n",
       "\n",
       "    .dataframe tbody tr th {\n",
       "        vertical-align: top;\n",
       "    }\n",
       "\n",
       "    .dataframe thead th {\n",
       "        text-align: right;\n",
       "    }\n",
       "</style>\n",
       "<table border=\"1\" class=\"dataframe\">\n",
       "  <thead>\n",
       "    <tr style=\"text-align: right;\">\n",
       "      <th></th>\n",
       "      <th>id</th>\n",
       "      <th>sequence</th>\n",
       "      <th>length</th>\n",
       "      <th>class</th>\n",
       "    </tr>\n",
       "  </thead>\n",
       "  <tbody>\n",
       "    <tr>\n",
       "      <th>0</th>\n",
       "      <td>Achn001011</td>\n",
       "      <td>MAQSYDRGTNNNEKGRDVKEHIPLGFVKYMKGNTTGSVFLTGPSGN...</td>\n",
       "      <td>293</td>\n",
       "      <td>1</td>\n",
       "    </tr>\n",
       "    <tr>\n",
       "      <th>1</th>\n",
       "      <td>Achn006251</td>\n",
       "      <td>MKRSQEVQANLAAEFPSFVKLMLQSHVTRGFWLSFPKQFCDLHLPK...</td>\n",
       "      <td>376</td>\n",
       "      <td>1</td>\n",
       "    </tr>\n",
       "    <tr>\n",
       "      <th>2</th>\n",
       "      <td>Achn006571</td>\n",
       "      <td>MGLQGEVADTDRRRLSFPAKESSIFYRLIVSSIIHDRKLKIPGKFT...</td>\n",
       "      <td>464</td>\n",
       "      <td>1</td>\n",
       "    </tr>\n",
       "    <tr>\n",
       "      <th>3</th>\n",
       "      <td>Achn006581</td>\n",
       "      <td>MGQKESDRRPNFSARFTSFYKIILPTVIHHNKLGIPEKFSKKYGNE...</td>\n",
       "      <td>391</td>\n",
       "      <td>1</td>\n",
       "    </tr>\n",
       "    <tr>\n",
       "      <th>4</th>\n",
       "      <td>Achn013951</td>\n",
       "      <td>MSYPYHITLLIPISFFKYLNVENPNQAVLRTHCGEWQVKINNGQLS...</td>\n",
       "      <td>352</td>\n",
       "      <td>1</td>\n",
       "    </tr>\n",
       "  </tbody>\n",
       "</table>\n",
       "</div>"
      ],
      "text/plain": [
       "           id                                           sequence  length  \\\n",
       "0  Achn001011  MAQSYDRGTNNNEKGRDVKEHIPLGFVKYMKGNTTGSVFLTGPSGN...     293   \n",
       "1  Achn006251  MKRSQEVQANLAAEFPSFVKLMLQSHVTRGFWLSFPKQFCDLHLPK...     376   \n",
       "2  Achn006571  MGLQGEVADTDRRRLSFPAKESSIFYRLIVSSIIHDRKLKIPGKFT...     464   \n",
       "3  Achn006581  MGQKESDRRPNFSARFTSFYKIILPTVIHHNKLGIPEKFSKKYGNE...     391   \n",
       "4  Achn013951  MSYPYHITLLIPISFFKYLNVENPNQAVLRTHCGEWQVKINNGQLS...     352   \n",
       "\n",
       "   class  \n",
       "0      1  \n",
       "1      1  \n",
       "2      1  \n",
       "3      1  \n",
       "4      1  "
      ]
     },
     "execution_count": 3,
     "metadata": {},
     "output_type": "execute_result"
    }
   ],
   "source": [
    "# READ GENE_INFO JSON FILE\n",
    "gene_info_path = \"../data/gene_info.json\"\n",
    "dataset_path   = \"../data/one_vs_other/\"\n",
    "with open(gene_info_path, 'r') as json_file:\n",
    "    gene_info = json.load(json_file)\n",
    "\n",
    "# FOCUS ON GENE FAMILLY\n",
    "gene_dict = gene_info[gene_familly]\n",
    "df_path = dataset_path+gene_dict['file_code']+\".csv\"\n",
    "\n",
    "# LOAD WHOLE DATASET\n",
    "USE_FULL_DF = True\n",
    "if USE_FULL_DF:\n",
    "    dataset = pd.read_csv(df_path)\n",
    "else:\n",
    "    dataset_ = pd.read_csv(df_path)\n",
    "    r = min(5000/len(dataset_), 1)\n",
    "    _, dataset = train_test_split(dataset_, test_size=r, stratify=dataset_['class'], random_state=42)\n",
    "dataset.head()"
   ]
  },
  {
   "cell_type": "code",
   "execution_count": 4,
   "id": "745dff8f-540b-4299-a3f0-dabda69bd837",
   "metadata": {
    "execution": {
     "iopub.execute_input": "2024-07-03T23:15:53.358655Z",
     "iopub.status.busy": "2024-07-03T23:15:53.358505Z",
     "iopub.status.idle": "2024-07-03T23:15:53.366456Z",
     "shell.execute_reply": "2024-07-03T23:15:53.366177Z"
    },
    "papermill": {
     "duration": 0.010554,
     "end_time": "2024-07-03T23:15:53.367481",
     "exception": false,
     "start_time": "2024-07-03T23:15:53.356927",
     "status": "completed"
    },
    "tags": []
   },
   "outputs": [],
   "source": [
    "trainset, testset = train_test_split(dataset, test_size=0.2, stratify=dataset['class'], random_state=42)"
   ]
  },
  {
   "cell_type": "code",
   "execution_count": 5,
   "id": "a9b8b47d-48c6-4e94-a378-574904e308ee",
   "metadata": {
    "execution": {
     "iopub.execute_input": "2024-07-03T23:15:53.370532Z",
     "iopub.status.busy": "2024-07-03T23:15:53.370393Z",
     "iopub.status.idle": "2024-07-03T23:15:53.377206Z",
     "shell.execute_reply": "2024-07-03T23:15:53.376920Z"
    },
    "papermill": {
     "duration": 0.009436,
     "end_time": "2024-07-03T23:15:53.378242",
     "exception": false,
     "start_time": "2024-07-03T23:15:53.368806",
     "status": "completed"
    },
    "tags": []
   },
   "outputs": [
    {
     "name": "stderr",
     "output_type": "stream",
     "text": [
      "/var/folders/w8/b_cflrn97k9c15rcrn5t8mmr0000gn/T/ipykernel_2416/3395039238.py:2: FutureWarning: Setting an item of incompatible dtype is deprecated and will raise in a future error of pandas. Value 'B3' has dtype incompatible with int64, please explicitly cast to a compatible dtype first.\n",
      "  testset_positive.loc[:, 'class'] = gene_familly\n"
     ]
    },
    {
     "data": {
      "text/html": [
       "<div>\n",
       "<style scoped>\n",
       "    .dataframe tbody tr th:only-of-type {\n",
       "        vertical-align: middle;\n",
       "    }\n",
       "\n",
       "    .dataframe tbody tr th {\n",
       "        vertical-align: top;\n",
       "    }\n",
       "\n",
       "    .dataframe thead th {\n",
       "        text-align: right;\n",
       "    }\n",
       "</style>\n",
       "<table border=\"1\" class=\"dataframe\">\n",
       "  <thead>\n",
       "    <tr style=\"text-align: right;\">\n",
       "      <th></th>\n",
       "      <th>id</th>\n",
       "      <th>sequence</th>\n",
       "      <th>length</th>\n",
       "      <th>class</th>\n",
       "    </tr>\n",
       "  </thead>\n",
       "  <tbody>\n",
       "    <tr>\n",
       "      <th>594</th>\n",
       "      <td>919255</td>\n",
       "      <td>MNKGNFGDYCLPKFFKVYLPDESGDDLVLPISFNSCLPKPLPETVT...</td>\n",
       "      <td>244</td>\n",
       "      <td>B3</td>\n",
       "    </tr>\n",
       "    <tr>\n",
       "      <th>6205</th>\n",
       "      <td>OBART04G10380.1</td>\n",
       "      <td>MASDPTELRCSSPESSGDAGAEDPAAVDAAEESGGEGGSGHIAAGT...</td>\n",
       "      <td>194</td>\n",
       "      <td>B3</td>\n",
       "    </tr>\n",
       "    <tr>\n",
       "      <th>8691</th>\n",
       "      <td>SMil_00010650-RA_Salv</td>\n",
       "      <td>MARKRGRKGRFVSTVEGAEFFKVYLPQFSSHQIRIPPDFTKNFRRA...</td>\n",
       "      <td>255</td>\n",
       "      <td>B3</td>\n",
       "    </tr>\n",
       "    <tr>\n",
       "      <th>4077</th>\n",
       "      <td>Gh_D10G2627</td>\n",
       "      <td>MTSTSVATSSSRICFNSVCNDLKSERPRKGWQLRTGELAELCDRCA...</td>\n",
       "      <td>888</td>\n",
       "      <td>B3</td>\n",
       "    </tr>\n",
       "    <tr>\n",
       "      <th>7594</th>\n",
       "      <td>Pp3c4_10850V3.16.p</td>\n",
       "      <td>MLGGDFPTLSQSQVRHAQFSNHIGSTCGEESMERRGTFHSFFGKST...</td>\n",
       "      <td>695</td>\n",
       "      <td>B3</td>\n",
       "    </tr>\n",
       "    <tr>\n",
       "      <th>...</th>\n",
       "      <td>...</td>\n",
       "      <td>...</td>\n",
       "      <td>...</td>\n",
       "      <td>...</td>\n",
       "    </tr>\n",
       "    <tr>\n",
       "      <th>9011</th>\n",
       "      <td>676782660</td>\n",
       "      <td>MVACRTKEAGNKNWCQDITLVRSLSFSFSDAKASFRLHFQVSSALM...</td>\n",
       "      <td>271</td>\n",
       "      <td>B3</td>\n",
       "    </tr>\n",
       "    <tr>\n",
       "      <th>8215</th>\n",
       "      <td>Pbr039418.1</td>\n",
       "      <td>MNSPTFFKSEFISLYLIKLKFLHVTISFLQLSSGKMVKNISTNDEK...</td>\n",
       "      <td>347</td>\n",
       "      <td>B3</td>\n",
       "    </tr>\n",
       "    <tr>\n",
       "      <th>10002</th>\n",
       "      <td>Traes_3AS_D8AE0A149.1</td>\n",
       "      <td>WNSSQSYVLTKGWSRFVKETGLRAGDTVAFYRSAYGNDTEDQLFID...</td>\n",
       "      <td>90</td>\n",
       "      <td>B3</td>\n",
       "    </tr>\n",
       "    <tr>\n",
       "      <th>124</th>\n",
       "      <td>EMT26046</td>\n",
       "      <td>MAGSWFLRTCLETSDELFSRAVLRSVGEVGWNGKCTFFTGKMKKRG...</td>\n",
       "      <td>607</td>\n",
       "      <td>B3</td>\n",
       "    </tr>\n",
       "    <tr>\n",
       "      <th>10385</th>\n",
       "      <td>XP_015884752.1</td>\n",
       "      <td>MGESCKDCSKWAEDIYWAHFQTIRFSQTLLDDFDQELAVPKKFCNN...</td>\n",
       "      <td>394</td>\n",
       "      <td>B3</td>\n",
       "    </tr>\n",
       "  </tbody>\n",
       "</table>\n",
       "<p>2122 rows × 4 columns</p>\n",
       "</div>"
      ],
      "text/plain": [
       "                          id  \\\n",
       "594                   919255   \n",
       "6205         OBART04G10380.1   \n",
       "8691   SMil_00010650-RA_Salv   \n",
       "4077             Gh_D10G2627   \n",
       "7594      Pp3c4_10850V3.16.p   \n",
       "...                      ...   \n",
       "9011               676782660   \n",
       "8215             Pbr039418.1   \n",
       "10002  Traes_3AS_D8AE0A149.1   \n",
       "124                 EMT26046   \n",
       "10385         XP_015884752.1   \n",
       "\n",
       "                                                sequence  length class  \n",
       "594    MNKGNFGDYCLPKFFKVYLPDESGDDLVLPISFNSCLPKPLPETVT...     244    B3  \n",
       "6205   MASDPTELRCSSPESSGDAGAEDPAAVDAAEESGGEGGSGHIAAGT...     194    B3  \n",
       "8691   MARKRGRKGRFVSTVEGAEFFKVYLPQFSSHQIRIPPDFTKNFRRA...     255    B3  \n",
       "4077   MTSTSVATSSSRICFNSVCNDLKSERPRKGWQLRTGELAELCDRCA...     888    B3  \n",
       "7594   MLGGDFPTLSQSQVRHAQFSNHIGSTCGEESMERRGTFHSFFGKST...     695    B3  \n",
       "...                                                  ...     ...   ...  \n",
       "9011   MVACRTKEAGNKNWCQDITLVRSLSFSFSDAKASFRLHFQVSSALM...     271    B3  \n",
       "8215   MNSPTFFKSEFISLYLIKLKFLHVTISFLQLSSGKMVKNISTNDEK...     347    B3  \n",
       "10002  WNSSQSYVLTKGWSRFVKETGLRAGDTVAFYRSAYGNDTEDQLFID...      90    B3  \n",
       "124    MAGSWFLRTCLETSDELFSRAVLRSVGEVGWNGKCTFFTGKMKKRG...     607    B3  \n",
       "10385  MGESCKDCSKWAEDIYWAHFQTIRFSQTLLDDFDQELAVPKKFCNN...     394    B3  \n",
       "\n",
       "[2122 rows x 4 columns]"
      ]
     },
     "execution_count": 5,
     "metadata": {},
     "output_type": "execute_result"
    }
   ],
   "source": [
    "testset_positive = testset[testset['class'] == 1]\n",
    "testset_positive.loc[:, 'class'] = gene_familly\n",
    "testset_positive"
   ]
  },
  {
   "cell_type": "code",
   "execution_count": 6,
   "id": "25a9ad39-47e0-4b0a-9669-c9ed5c6cafa3",
   "metadata": {
    "execution": {
     "iopub.execute_input": "2024-07-03T23:15:53.381338Z",
     "iopub.status.busy": "2024-07-03T23:15:53.381207Z",
     "iopub.status.idle": "2024-07-03T23:15:53.401004Z",
     "shell.execute_reply": "2024-07-03T23:15:53.400682Z"
    },
    "papermill": {
     "duration": 0.0224,
     "end_time": "2024-07-03T23:15:53.401990",
     "exception": false,
     "start_time": "2024-07-03T23:15:53.379590",
     "status": "completed"
    },
    "tags": []
   },
   "outputs": [],
   "source": [
    "testset_positive.to_csv(\"../data/testset/\"+gene_dict['file_code']+\".csv\")"
   ]
  },
  {
   "cell_type": "code",
   "execution_count": null,
   "id": "4107c4c5-3c5d-44f9-af27-5b81b6d102e5",
   "metadata": {
    "papermill": {
     "duration": 0.001107,
     "end_time": "2024-07-03T23:15:53.404405",
     "exception": false,
     "start_time": "2024-07-03T23:15:53.403298",
     "status": "completed"
    },
    "tags": []
   },
   "outputs": [],
   "source": []
  }
 ],
 "metadata": {
  "kernelspec": {
   "display_name": "Python 3 (ipykernel)",
   "language": "python",
   "name": "python3"
  },
  "language_info": {
   "codemirror_mode": {
    "name": "ipython",
    "version": 3
   },
   "file_extension": ".py",
   "mimetype": "text/x-python",
   "name": "python",
   "nbconvert_exporter": "python",
   "pygments_lexer": "ipython3",
   "version": "3.11.7"
  },
  "papermill": {
   "default_parameters": {},
   "duration": 1.808245,
   "end_time": "2024-07-03T23:15:53.723808",
   "environment_variables": {},
   "exception": null,
   "input_path": "05-extract_testset.ipynb",
   "output_path": "AutoSave/TestGen/05-extract_testset-B3.ipynb",
   "parameters": {
    "gene_familly": "B3"
   },
   "start_time": "2024-07-03T23:15:51.915563",
   "version": "2.6.0"
  }
 },
 "nbformat": 4,
 "nbformat_minor": 5
}