{
 "cells": [
  {
   "cell_type": "code",
   "execution_count": 1,
   "id": "899f8bee",
   "metadata": {
    "execution": {
     "iopub.execute_input": "2024-07-03T23:15:56.004420Z",
     "iopub.status.busy": "2024-07-03T23:15:56.003612Z",
     "iopub.status.idle": "2024-07-03T23:15:56.017095Z",
     "shell.execute_reply": "2024-07-03T23:15:56.016379Z"
    },
    "papermill": {
     "duration": 0.027115,
     "end_time": "2024-07-03T23:15:56.019017",
     "exception": false,
     "start_time": "2024-07-03T23:15:55.991902",
     "status": "completed"
    },
    "tags": [
     "injected-parameters"
    ]
   },
   "outputs": [],
   "source": [
    "# Parameters\n",
    "gene_familly = \"BES1\"\n"
   ]
  },
  {
   "cell_type": "code",
   "execution_count": 2,
   "id": "e7cdbe25-11a6-48da-abd4-9ae5eee27bfe",
   "metadata": {
    "execution": {
     "iopub.execute_input": "2024-07-03T23:15:56.027469Z",
     "iopub.status.busy": "2024-07-03T23:15:56.027270Z",
     "iopub.status.idle": "2024-07-03T23:15:56.680148Z",
     "shell.execute_reply": "2024-07-03T23:15:56.679556Z"
    },
    "papermill": {
     "duration": 0.659579,
     "end_time": "2024-07-03T23:15:56.681718",
     "exception": false,
     "start_time": "2024-07-03T23:15:56.022139",
     "status": "completed"
    },
    "tags": []
   },
   "outputs": [],
   "source": [
    "import json\n",
    "import pandas as pd\n",
    "from sklearn.model_selection import train_test_split"
   ]
  },
  {
   "cell_type": "code",
   "execution_count": 3,
   "id": "6e20f340-8cbc-46f2-be83-6f1c4523930a",
   "metadata": {
    "execution": {
     "iopub.execute_input": "2024-07-03T23:15:56.685159Z",
     "iopub.status.busy": "2024-07-03T23:15:56.684915Z",
     "iopub.status.idle": "2024-07-03T23:15:56.708861Z",
     "shell.execute_reply": "2024-07-03T23:15:56.708504Z"
    },
    "papermill": {
     "duration": 0.026689,
     "end_time": "2024-07-03T23:15:56.709933",
     "exception": false,
     "start_time": "2024-07-03T23:15:56.683244",
     "status": "completed"
    },
    "tags": []
   },
   "outputs": [
    {
     "data": {
      "text/html": [
       "<div>\n",
       "<style scoped>\n",
       "    .dataframe tbody tr th:only-of-type {\n",
       "        vertical-align: middle;\n",
       "    }\n",
       "\n",
       "    .dataframe tbody tr th {\n",
       "        vertical-align: top;\n",
       "    }\n",
       "\n",
       "    .dataframe thead th {\n",
       "        text-align: right;\n",
       "    }\n",
       "</style>\n",
       "<table border=\"1\" class=\"dataframe\">\n",
       "  <thead>\n",
       "    <tr style=\"text-align: right;\">\n",
       "      <th></th>\n",
       "      <th>id</th>\n",
       "      <th>sequence</th>\n",
       "      <th>length</th>\n",
       "      <th>class</th>\n",
       "    </tr>\n",
       "  </thead>\n",
       "  <tbody>\n",
       "    <tr>\n",
       "      <th>0</th>\n",
       "      <td>Achn025631</td>\n",
       "      <td>MMSFYLSSVKDNQRYYVEREKGCKPTLAEIGGTSTNITPCSSQNPS...</td>\n",
       "      <td>248</td>\n",
       "      <td>1</td>\n",
       "    </tr>\n",
       "    <tr>\n",
       "      <th>1</th>\n",
       "      <td>Achn038411</td>\n",
       "      <td>MTSLSVSQSRVRPPPVVPIGGLRSSKTTNRFHERFPDSLLNFEINE...</td>\n",
       "      <td>355</td>\n",
       "      <td>1</td>\n",
       "    </tr>\n",
       "    <tr>\n",
       "      <th>2</th>\n",
       "      <td>Achn072001</td>\n",
       "      <td>MTTEMQRFGTSEEDDEDMGMDVKEEDDDDDDDDDEKNNGTPIMVGV...</td>\n",
       "      <td>744</td>\n",
       "      <td>1</td>\n",
       "    </tr>\n",
       "    <tr>\n",
       "      <th>3</th>\n",
       "      <td>Achn103731</td>\n",
       "      <td>MASGTRLPSWKERENNKRRERRRRAIAAKIYTGLRMYGNYKLPKHC...</td>\n",
       "      <td>345</td>\n",
       "      <td>1</td>\n",
       "    </tr>\n",
       "    <tr>\n",
       "      <th>4</th>\n",
       "      <td>Achn131841</td>\n",
       "      <td>MWEGESDAAATTGGGGRRKPSWRERENNRRRERRRRAVAAKIYSGL...</td>\n",
       "      <td>310</td>\n",
       "      <td>1</td>\n",
       "    </tr>\n",
       "  </tbody>\n",
       "</table>\n",
       "</div>"
      ],
      "text/plain": [
       "           id                                           sequence  length  \\\n",
       "0  Achn025631  MMSFYLSSVKDNQRYYVEREKGCKPTLAEIGGTSTNITPCSSQNPS...     248   \n",
       "1  Achn038411  MTSLSVSQSRVRPPPVVPIGGLRSSKTTNRFHERFPDSLLNFEINE...     355   \n",
       "2  Achn072001  MTTEMQRFGTSEEDDEDMGMDVKEEDDDDDDDDDEKNNGTPIMVGV...     744   \n",
       "3  Achn103731  MASGTRLPSWKERENNKRRERRRRAIAAKIYTGLRMYGNYKLPKHC...     345   \n",
       "4  Achn131841  MWEGESDAAATTGGGGRRKPSWRERENNRRRERRRRAVAAKIYSGL...     310   \n",
       "\n",
       "   class  \n",
       "0      1  \n",
       "1      1  \n",
       "2      1  \n",
       "3      1  \n",
       "4      1  "
      ]
     },
     "execution_count": 3,
     "metadata": {},
     "output_type": "execute_result"
    }
   ],
   "source": [
    "# READ GENE_INFO JSON FILE\n",
    "gene_info_path = \"../data/gene_info.json\"\n",
    "dataset_path   = \"../data/one_vs_other/\"\n",
    "with open(gene_info_path, 'r') as json_file:\n",
    "    gene_info = json.load(json_file)\n",
    "\n",
    "# FOCUS ON GENE FAMILLY\n",
    "gene_dict = gene_info[gene_familly]\n",
    "df_path = dataset_path+gene_dict['file_code']+\".csv\"\n",
    "\n",
    "# LOAD WHOLE DATASET\n",
    "USE_FULL_DF = True\n",
    "if USE_FULL_DF:\n",
    "    dataset = pd.read_csv(df_path)\n",
    "else:\n",
    "    dataset_ = pd.read_csv(df_path)\n",
    "    r = min(5000/len(dataset_), 1)\n",
    "    _, dataset = train_test_split(dataset_, test_size=r, stratify=dataset_['class'], random_state=42)\n",
    "dataset.head()"
   ]
  },
  {
   "cell_type": "code",
   "execution_count": 4,
   "id": "745dff8f-540b-4299-a3f0-dabda69bd837",
   "metadata": {
    "execution": {
     "iopub.execute_input": "2024-07-03T23:15:56.712999Z",
     "iopub.status.busy": "2024-07-03T23:15:56.712855Z",
     "iopub.status.idle": "2024-07-03T23:15:56.717368Z",
     "shell.execute_reply": "2024-07-03T23:15:56.717024Z"
    },
    "papermill": {
     "duration": 0.007142,
     "end_time": "2024-07-03T23:15:56.718392",
     "exception": false,
     "start_time": "2024-07-03T23:15:56.711250",
     "status": "completed"
    },
    "tags": []
   },
   "outputs": [],
   "source": [
    "trainset, testset = train_test_split(dataset, test_size=0.2, stratify=dataset['class'], random_state=42)"
   ]
  },
  {
   "cell_type": "code",
   "execution_count": 5,
   "id": "a9b8b47d-48c6-4e94-a378-574904e308ee",
   "metadata": {
    "execution": {
     "iopub.execute_input": "2024-07-03T23:15:56.721030Z",
     "iopub.status.busy": "2024-07-03T23:15:56.720900Z",
     "iopub.status.idle": "2024-07-03T23:15:56.727131Z",
     "shell.execute_reply": "2024-07-03T23:15:56.726840Z"
    },
    "papermill": {
     "duration": 0.008595,
     "end_time": "2024-07-03T23:15:56.728087",
     "exception": false,
     "start_time": "2024-07-03T23:15:56.719492",
     "status": "completed"
    },
    "tags": []
   },
   "outputs": [
    {
     "name": "stderr",
     "output_type": "stream",
     "text": [
      "/var/folders/w8/b_cflrn97k9c15rcrn5t8mmr0000gn/T/ipykernel_2431/3395039238.py:2: FutureWarning: Setting an item of incompatible dtype is deprecated and will raise in a future error of pandas. Value 'BES1' has dtype incompatible with int64, please explicitly cast to a compatible dtype first.\n",
      "  testset_positive.loc[:, 'class'] = gene_familly\n"
     ]
    },
    {
     "data": {
      "text/html": [
       "<div>\n",
       "<style scoped>\n",
       "    .dataframe tbody tr th:only-of-type {\n",
       "        vertical-align: middle;\n",
       "    }\n",
       "\n",
       "    .dataframe tbody tr th {\n",
       "        vertical-align: top;\n",
       "    }\n",
       "\n",
       "    .dataframe thead th {\n",
       "        text-align: right;\n",
       "    }\n",
       "</style>\n",
       "<table border=\"1\" class=\"dataframe\">\n",
       "  <thead>\n",
       "    <tr style=\"text-align: right;\">\n",
       "      <th></th>\n",
       "      <th>id</th>\n",
       "      <th>sequence</th>\n",
       "      <th>length</th>\n",
       "      <th>class</th>\n",
       "    </tr>\n",
       "  </thead>\n",
       "  <tbody>\n",
       "    <tr>\n",
       "      <th>386</th>\n",
       "      <td>Cucsa.228750.1</td>\n",
       "      <td>MSGSLNDDTFHQDLQSQANHASDYLSHQLQPPPPPRRPRGFAATAA...</td>\n",
       "      <td>676</td>\n",
       "      <td>BES1</td>\n",
       "    </tr>\n",
       "    <tr>\n",
       "      <th>588</th>\n",
       "      <td>Gorai.010G240700.2</td>\n",
       "      <td>MTSGTRMPTWKERENNKRRERRRRAIAAKIFAGLRMYGNYKLPKHC...</td>\n",
       "      <td>270</td>\n",
       "      <td>BES1</td>\n",
       "    </tr>\n",
       "    <tr>\n",
       "      <th>394</th>\n",
       "      <td>DCAR_019509</td>\n",
       "      <td>MNWEEGTSCGGGRRKPSWRERENNRRRERRRRAIAAKIYGGLRAQA...</td>\n",
       "      <td>313</td>\n",
       "      <td>BES1</td>\n",
       "    </tr>\n",
       "    <tr>\n",
       "      <th>737</th>\n",
       "      <td>MDP0000742467</td>\n",
       "      <td>MEKGLQKLITSEEDDDEEMEMDVKEEDDDDDEDGEKDVDASQXMAG...</td>\n",
       "      <td>633</td>\n",
       "      <td>BES1</td>\n",
       "    </tr>\n",
       "    <tr>\n",
       "      <th>906</th>\n",
       "      <td>OB07G25720.1</td>\n",
       "      <td>MSPCSSTQLLSAPSSSFPSPVPSYHASPASSSFPSPSRLDNASPSC...</td>\n",
       "      <td>192</td>\n",
       "      <td>BES1</td>\n",
       "    </tr>\n",
       "    <tr>\n",
       "      <th>...</th>\n",
       "      <td>...</td>\n",
       "      <td>...</td>\n",
       "      <td>...</td>\n",
       "      <td>...</td>\n",
       "    </tr>\n",
       "    <tr>\n",
       "      <th>1366</th>\n",
       "      <td>Sobic.010G163900.1.p</td>\n",
       "      <td>MTSGAGGAAAGIGGTRVPTWRERENNRRRERRRRAIAAKIFAGLRA...</td>\n",
       "      <td>357</td>\n",
       "      <td>BES1</td>\n",
       "    </tr>\n",
       "    <tr>\n",
       "      <th>515</th>\n",
       "      <td>KHN48833.1</td>\n",
       "      <td>MADDGATLTRMSQRKASWRDRENNKRRERRRRAIAAKIYSGLQAQG...</td>\n",
       "      <td>92</td>\n",
       "      <td>BES1</td>\n",
       "    </tr>\n",
       "    <tr>\n",
       "      <th>453</th>\n",
       "      <td>Eucgr.D02573.1.p</td>\n",
       "      <td>MNSNAGGFSDDLINNPQTDHPPDVLLPHPHLPQPPPPQQQQQRRPR...</td>\n",
       "      <td>668</td>\n",
       "      <td>BES1</td>\n",
       "    </tr>\n",
       "    <tr>\n",
       "      <th>569</th>\n",
       "      <td>Gorai.004G158600.9</td>\n",
       "      <td>MATSMQKLVGVSQEDDEEEMEMDVKEEDDEDEENGEKQIAAQMMIG...</td>\n",
       "      <td>554</td>\n",
       "      <td>BES1</td>\n",
       "    </tr>\n",
       "    <tr>\n",
       "      <th>34</th>\n",
       "      <td>evm_27.model.AmTr_v1.0_scaffold00059.116</td>\n",
       "      <td>MTSGGGGGGGGGGGGVGGRLPTWKERENNKRRERRRRAIAAKIYAG...</td>\n",
       "      <td>144</td>\n",
       "      <td>BES1</td>\n",
       "    </tr>\n",
       "  </tbody>\n",
       "</table>\n",
       "<p>310 rows × 4 columns</p>\n",
       "</div>"
      ],
      "text/plain": [
       "                                            id  \\\n",
       "386                             Cucsa.228750.1   \n",
       "588                         Gorai.010G240700.2   \n",
       "394                                DCAR_019509   \n",
       "737                              MDP0000742467   \n",
       "906                               OB07G25720.1   \n",
       "...                                        ...   \n",
       "1366                      Sobic.010G163900.1.p   \n",
       "515                                 KHN48833.1   \n",
       "453                           Eucgr.D02573.1.p   \n",
       "569                         Gorai.004G158600.9   \n",
       "34    evm_27.model.AmTr_v1.0_scaffold00059.116   \n",
       "\n",
       "                                               sequence  length class  \n",
       "386   MSGSLNDDTFHQDLQSQANHASDYLSHQLQPPPPPRRPRGFAATAA...     676  BES1  \n",
       "588   MTSGTRMPTWKERENNKRRERRRRAIAAKIFAGLRMYGNYKLPKHC...     270  BES1  \n",
       "394   MNWEEGTSCGGGRRKPSWRERENNRRRERRRRAIAAKIYGGLRAQA...     313  BES1  \n",
       "737   MEKGLQKLITSEEDDDEEMEMDVKEEDDDDDEDGEKDVDASQXMAG...     633  BES1  \n",
       "906   MSPCSSTQLLSAPSSSFPSPVPSYHASPASSSFPSPSRLDNASPSC...     192  BES1  \n",
       "...                                                 ...     ...   ...  \n",
       "1366  MTSGAGGAAAGIGGTRVPTWRERENNRRRERRRRAIAAKIFAGLRA...     357  BES1  \n",
       "515   MADDGATLTRMSQRKASWRDRENNKRRERRRRAIAAKIYSGLQAQG...      92  BES1  \n",
       "453   MNSNAGGFSDDLINNPQTDHPPDVLLPHPHLPQPPPPQQQQQRRPR...     668  BES1  \n",
       "569   MATSMQKLVGVSQEDDEEEMEMDVKEEDDEDEENGEKQIAAQMMIG...     554  BES1  \n",
       "34    MTSGGGGGGGGGGGGVGGRLPTWKERENNKRRERRRRAIAAKIYAG...     144  BES1  \n",
       "\n",
       "[310 rows x 4 columns]"
      ]
     },
     "execution_count": 5,
     "metadata": {},
     "output_type": "execute_result"
    }
   ],
   "source": [
    "testset_positive = testset[testset['class'] == 1]\n",
    "testset_positive.loc[:, 'class'] = gene_familly\n",
    "testset_positive"
   ]
  },
  {
   "cell_type": "code",
   "execution_count": 6,
   "id": "25a9ad39-47e0-4b0a-9669-c9ed5c6cafa3",
   "metadata": {
    "execution": {
     "iopub.execute_input": "2024-07-03T23:15:56.730958Z",
     "iopub.status.busy": "2024-07-03T23:15:56.730814Z",
     "iopub.status.idle": "2024-07-03T23:15:56.736232Z",
     "shell.execute_reply": "2024-07-03T23:15:56.735935Z"
    },
    "papermill": {
     "duration": 0.007926,
     "end_time": "2024-07-03T23:15:56.737195",
     "exception": false,
     "start_time": "2024-07-03T23:15:56.729269",
     "status": "completed"
    },
    "tags": []
   },
   "outputs": [],
   "source": [
    "testset_positive.to_csv(\"../data/testset/\"+gene_dict['file_code']+\".csv\")"
   ]
  },
  {
   "cell_type": "code",
   "execution_count": null,
   "id": "4107c4c5-3c5d-44f9-af27-5b81b6d102e5",
   "metadata": {
    "papermill": {
     "duration": 0.049953,
     "end_time": "2024-07-03T23:15:56.788419",
     "exception": false,
     "start_time": "2024-07-03T23:15:56.738466",
     "status": "completed"
    },
    "tags": []
   },
   "outputs": [],
   "source": []
  }
 ],
 "metadata": {
  "kernelspec": {
   "display_name": "Python 3 (ipykernel)",
   "language": "python",
   "name": "python3"
  },
  "language_info": {
   "codemirror_mode": {
    "name": "ipython",
    "version": 3
   },
   "file_extension": ".py",
   "mimetype": "text/x-python",
   "name": "python",
   "nbconvert_exporter": "python",
   "pygments_lexer": "ipython3",
   "version": "3.11.7"
  },
  "papermill": {
   "default_parameters": {},
   "duration": 1.838008,
   "end_time": "2024-07-03T23:15:57.209913",
   "environment_variables": {},
   "exception": null,
   "input_path": "05-extract_testset.ipynb",
   "output_path": "AutoSave/TestGen/05-extract_testset-BES1.ipynb",
   "parameters": {
    "gene_familly": "BES1"
   },
   "start_time": "2024-07-03T23:15:55.371905",
   "version": "2.6.0"
  }
 },
 "nbformat": 4,
 "nbformat_minor": 5
}