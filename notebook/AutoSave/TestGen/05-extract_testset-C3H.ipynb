{
 "cells": [
  {
   "cell_type": "code",
   "execution_count": 1,
   "id": "9d261cb0",
   "metadata": {
    "execution": {
     "iopub.execute_input": "2024-07-03T23:15:59.844588Z",
     "iopub.status.busy": "2024-07-03T23:15:59.843858Z",
     "iopub.status.idle": "2024-07-03T23:15:59.856080Z",
     "shell.execute_reply": "2024-07-03T23:15:59.855416Z"
    },
    "papermill": {
     "duration": 0.023611,
     "end_time": "2024-07-03T23:15:59.858008",
     "exception": false,
     "start_time": "2024-07-03T23:15:59.834397",
     "status": "completed"
    },
    "tags": [
     "injected-parameters"
    ]
   },
   "outputs": [],
   "source": [
    "# Parameters\n",
    "gene_familly = \"C3H\"\n"
   ]
  },
  {
   "cell_type": "code",
   "execution_count": 2,
   "id": "e7cdbe25-11a6-48da-abd4-9ae5eee27bfe",
   "metadata": {
    "execution": {
     "iopub.execute_input": "2024-07-03T23:15:59.863417Z",
     "iopub.status.busy": "2024-07-03T23:15:59.863221Z",
     "iopub.status.idle": "2024-07-03T23:16:00.540614Z",
     "shell.execute_reply": "2024-07-03T23:16:00.540080Z"
    },
    "papermill": {
     "duration": 0.681409,
     "end_time": "2024-07-03T23:16:00.542233",
     "exception": false,
     "start_time": "2024-07-03T23:15:59.860824",
     "status": "completed"
    },
    "tags": []
   },
   "outputs": [],
   "source": [
    "import json\n",
    "import pandas as pd\n",
    "from sklearn.model_selection import train_test_split"
   ]
  },
  {
   "cell_type": "code",
   "execution_count": 3,
   "id": "6e20f340-8cbc-46f2-be83-6f1c4523930a",
   "metadata": {
    "execution": {
     "iopub.execute_input": "2024-07-03T23:16:00.545685Z",
     "iopub.status.busy": "2024-07-03T23:16:00.545441Z",
     "iopub.status.idle": "2024-07-03T23:16:00.645480Z",
     "shell.execute_reply": "2024-07-03T23:16:00.645119Z"
    },
    "papermill": {
     "duration": 0.102766,
     "end_time": "2024-07-03T23:16:00.646546",
     "exception": false,
     "start_time": "2024-07-03T23:16:00.543780",
     "status": "completed"
    },
    "tags": []
   },
   "outputs": [
    {
     "data": {
      "text/html": [
       "<div>\n",
       "<style scoped>\n",
       "    .dataframe tbody tr th:only-of-type {\n",
       "        vertical-align: middle;\n",
       "    }\n",
       "\n",
       "    .dataframe tbody tr th {\n",
       "        vertical-align: top;\n",
       "    }\n",
       "\n",
       "    .dataframe thead th {\n",
       "        text-align: right;\n",
       "    }\n",
       "</style>\n",
       "<table border=\"1\" class=\"dataframe\">\n",
       "  <thead>\n",
       "    <tr style=\"text-align: right;\">\n",
       "      <th></th>\n",
       "      <th>id</th>\n",
       "      <th>sequence</th>\n",
       "      <th>length</th>\n",
       "      <th>class</th>\n",
       "    </tr>\n",
       "  </thead>\n",
       "  <tbody>\n",
       "    <tr>\n",
       "      <th>0</th>\n",
       "      <td>Achn015191</td>\n",
       "      <td>MVGGTQPLQKQQQQQQQQQQQLQPQTATTAPTSAEEEALKRNTDCV...</td>\n",
       "      <td>731</td>\n",
       "      <td>1</td>\n",
       "    </tr>\n",
       "    <tr>\n",
       "      <th>1</th>\n",
       "      <td>Achn018011</td>\n",
       "      <td>MCSGPEQLNSETPIPSSASVKLTIDMNNLAEISFSSLLELAADNNV...</td>\n",
       "      <td>720</td>\n",
       "      <td>1</td>\n",
       "    </tr>\n",
       "    <tr>\n",
       "      <th>2</th>\n",
       "      <td>Achn020631</td>\n",
       "      <td>METEEANTTSSPKPQSNQPLLESVSSDVFEGFAEEEEALSQRLENV...</td>\n",
       "      <td>407</td>\n",
       "      <td>1</td>\n",
       "    </tr>\n",
       "    <tr>\n",
       "      <th>3</th>\n",
       "      <td>Achn024291</td>\n",
       "      <td>MFPFRVLEGLPQMANGRRARKLESMRRLGFWGREFIYPERPGVPDC...</td>\n",
       "      <td>342</td>\n",
       "      <td>1</td>\n",
       "    </tr>\n",
       "    <tr>\n",
       "      <th>4</th>\n",
       "      <td>Achn025371</td>\n",
       "      <td>MNNLTVETEDTFASLLELAANNDVEGFKRSIERDISGTDEVGLWYG...</td>\n",
       "      <td>660</td>\n",
       "      <td>1</td>\n",
       "    </tr>\n",
       "  </tbody>\n",
       "</table>\n",
       "</div>"
      ],
      "text/plain": [
       "           id                                           sequence  length  \\\n",
       "0  Achn015191  MVGGTQPLQKQQQQQQQQQQQLQPQTATTAPTSAEEEALKRNTDCV...     731   \n",
       "1  Achn018011  MCSGPEQLNSETPIPSSASVKLTIDMNNLAEISFSSLLELAADNNV...     720   \n",
       "2  Achn020631  METEEANTTSSPKPQSNQPLLESVSSDVFEGFAEEEEALSQRLENV...     407   \n",
       "3  Achn024291  MFPFRVLEGLPQMANGRRARKLESMRRLGFWGREFIYPERPGVPDC...     342   \n",
       "4  Achn025371  MNNLTVETEDTFASLLELAANNDVEGFKRSIERDISGTDEVGLWYG...     660   \n",
       "\n",
       "   class  \n",
       "0      1  \n",
       "1      1  \n",
       "2      1  \n",
       "3      1  \n",
       "4      1  "
      ]
     },
     "execution_count": 3,
     "metadata": {},
     "output_type": "execute_result"
    }
   ],
   "source": [
    "# READ GENE_INFO JSON FILE\n",
    "gene_info_path = \"../data/gene_info.json\"\n",
    "dataset_path   = \"../data/one_vs_other/\"\n",
    "with open(gene_info_path, 'r') as json_file:\n",
    "    gene_info = json.load(json_file)\n",
    "\n",
    "# FOCUS ON GENE FAMILLY\n",
    "gene_dict = gene_info[gene_familly]\n",
    "df_path = dataset_path+gene_dict['file_code']+\".csv\"\n",
    "\n",
    "# LOAD WHOLE DATASET\n",
    "USE_FULL_DF = True\n",
    "if USE_FULL_DF:\n",
    "    dataset = pd.read_csv(df_path)\n",
    "else:\n",
    "    dataset_ = pd.read_csv(df_path)\n",
    "    r = min(5000/len(dataset_), 1)\n",
    "    _, dataset = train_test_split(dataset_, test_size=r, stratify=dataset_['class'], random_state=42)\n",
    "dataset.head()"
   ]
  },
  {
   "cell_type": "code",
   "execution_count": 4,
   "id": "745dff8f-540b-4299-a3f0-dabda69bd837",
   "metadata": {
    "execution": {
     "iopub.execute_input": "2024-07-03T23:16:00.649750Z",
     "iopub.status.busy": "2024-07-03T23:16:00.649608Z",
     "iopub.status.idle": "2024-07-03T23:16:00.657294Z",
     "shell.execute_reply": "2024-07-03T23:16:00.656997Z"
    },
    "papermill": {
     "duration": 0.010292,
     "end_time": "2024-07-03T23:16:00.658327",
     "exception": false,
     "start_time": "2024-07-03T23:16:00.648035",
     "status": "completed"
    },
    "tags": []
   },
   "outputs": [],
   "source": [
    "trainset, testset = train_test_split(dataset, test_size=0.2, stratify=dataset['class'], random_state=42)"
   ]
  },
  {
   "cell_type": "code",
   "execution_count": 5,
   "id": "a9b8b47d-48c6-4e94-a378-574904e308ee",
   "metadata": {
    "execution": {
     "iopub.execute_input": "2024-07-03T23:16:00.661044Z",
     "iopub.status.busy": "2024-07-03T23:16:00.660829Z",
     "iopub.status.idle": "2024-07-03T23:16:00.666661Z",
     "shell.execute_reply": "2024-07-03T23:16:00.666405Z"
    },
    "papermill": {
     "duration": 0.008259,
     "end_time": "2024-07-03T23:16:00.667676",
     "exception": false,
     "start_time": "2024-07-03T23:16:00.659417",
     "status": "completed"
    },
    "tags": []
   },
   "outputs": [
    {
     "name": "stderr",
     "output_type": "stream",
     "text": [
      "/var/folders/w8/b_cflrn97k9c15rcrn5t8mmr0000gn/T/ipykernel_2443/3395039238.py:2: FutureWarning: Setting an item of incompatible dtype is deprecated and will raise in a future error of pandas. Value 'C3H' has dtype incompatible with int64, please explicitly cast to a compatible dtype first.\n",
      "  testset_positive.loc[:, 'class'] = gene_familly\n"
     ]
    },
    {
     "data": {
      "text/html": [
       "<div>\n",
       "<style scoped>\n",
       "    .dataframe tbody tr th:only-of-type {\n",
       "        vertical-align: middle;\n",
       "    }\n",
       "\n",
       "    .dataframe tbody tr th {\n",
       "        vertical-align: top;\n",
       "    }\n",
       "\n",
       "    .dataframe thead th {\n",
       "        text-align: right;\n",
       "    }\n",
       "</style>\n",
       "<table border=\"1\" class=\"dataframe\">\n",
       "  <thead>\n",
       "    <tr style=\"text-align: right;\">\n",
       "      <th></th>\n",
       "      <th>id</th>\n",
       "      <th>sequence</th>\n",
       "      <th>length</th>\n",
       "      <th>class</th>\n",
       "    </tr>\n",
       "  </thead>\n",
       "  <tbody>\n",
       "    <tr>\n",
       "      <th>4414</th>\n",
       "      <td>Lj3g3v0392820.2</td>\n",
       "      <td>MPMYPQRPGEKDCAHYMLTRTCKFGESCKFDHPIWVPEGGIPDWKE...</td>\n",
       "      <td>268</td>\n",
       "      <td>C3H</td>\n",
       "    </tr>\n",
       "    <tr>\n",
       "      <th>1079</th>\n",
       "      <td>GSBRNA2T00062707001</td>\n",
       "      <td>MSYKAPRRYSNGRKFGVERQQDFAADIAPRRPYENKGPNKWSRNLV...</td>\n",
       "      <td>232</td>\n",
       "      <td>C3H</td>\n",
       "    </tr>\n",
       "    <tr>\n",
       "      <th>1986</th>\n",
       "      <td>cra_locus_9769_iso_2</td>\n",
       "      <td>XTETLTGQRGLNRPKMDGVSAQPAVIADDSRISEDTRNSELDVDGS...</td>\n",
       "      <td>722</td>\n",
       "      <td>C3H</td>\n",
       "    </tr>\n",
       "    <tr>\n",
       "      <th>4833</th>\n",
       "      <td>Migut.B01746.3.p</td>\n",
       "      <td>MMDCNQGSGFADGNVVQFESGNLENDVNENPCLGSIDRAVSAIEDG...</td>\n",
       "      <td>320</td>\n",
       "      <td>C3H</td>\n",
       "    </tr>\n",
       "    <tr>\n",
       "      <th>756</th>\n",
       "      <td>Neem_9897_f_1</td>\n",
       "      <td>MASVGVAPTSCMRESSGHTVAGVDKLPEEMNDMKIRDDKEMEATVV...</td>\n",
       "      <td>493</td>\n",
       "      <td>C3H</td>\n",
       "    </tr>\n",
       "    <tr>\n",
       "      <th>...</th>\n",
       "      <td>...</td>\n",
       "      <td>...</td>\n",
       "      <td>...</td>\n",
       "      <td>...</td>\n",
       "    </tr>\n",
       "    <tr>\n",
       "      <th>1894</th>\n",
       "      <td>cra_locus_14386_iso_2</td>\n",
       "      <td>XSYCISIXSPPSYGYPQEKQNGCDDMDSLSSGIGSKSKPCTKFFST...</td>\n",
       "      <td>295</td>\n",
       "      <td>C3H</td>\n",
       "    </tr>\n",
       "    <tr>\n",
       "      <th>2318</th>\n",
       "      <td>Cc06_g16960</td>\n",
       "      <td>MDMNHLTVETEDVLASVLELAANNDMDGFKRWVEQDPTSVDEVGLW...</td>\n",
       "      <td>703</td>\n",
       "      <td>C3H</td>\n",
       "    </tr>\n",
       "    <tr>\n",
       "      <th>6034</th>\n",
       "      <td>ORUFI02G40020.2</td>\n",
       "      <td>MNPRDCWYWFNGNCANPKCSFRHPPLDGLVGAPTTPRTSQQSAPQV...</td>\n",
       "      <td>600</td>\n",
       "      <td>C3H</td>\n",
       "    </tr>\n",
       "    <tr>\n",
       "      <th>6828</th>\n",
       "      <td>Pp3c1_22185V3.3.p</td>\n",
       "      <td>MDPYGPPRKRPRPESGPLNGSNGTNSGHGGGDDYNKDGSSGNRTKP...</td>\n",
       "      <td>346</td>\n",
       "      <td>C3H</td>\n",
       "    </tr>\n",
       "    <tr>\n",
       "      <th>8535</th>\n",
       "      <td>Sphfalx0064s0019.1.p</td>\n",
       "      <td>MAYARDLYKTKMCSLYMQRGYCPRQSCSFAHGESELRKVPGRFDNG...</td>\n",
       "      <td>378</td>\n",
       "      <td>C3H</td>\n",
       "    </tr>\n",
       "  </tbody>\n",
       "</table>\n",
       "<p>1939 rows × 4 columns</p>\n",
       "</div>"
      ],
      "text/plain": [
       "                         id  \\\n",
       "4414        Lj3g3v0392820.2   \n",
       "1079    GSBRNA2T00062707001   \n",
       "1986   cra_locus_9769_iso_2   \n",
       "4833       Migut.B01746.3.p   \n",
       "756           Neem_9897_f_1   \n",
       "...                     ...   \n",
       "1894  cra_locus_14386_iso_2   \n",
       "2318            Cc06_g16960   \n",
       "6034        ORUFI02G40020.2   \n",
       "6828      Pp3c1_22185V3.3.p   \n",
       "8535   Sphfalx0064s0019.1.p   \n",
       "\n",
       "                                               sequence  length class  \n",
       "4414  MPMYPQRPGEKDCAHYMLTRTCKFGESCKFDHPIWVPEGGIPDWKE...     268   C3H  \n",
       "1079  MSYKAPRRYSNGRKFGVERQQDFAADIAPRRPYENKGPNKWSRNLV...     232   C3H  \n",
       "1986  XTETLTGQRGLNRPKMDGVSAQPAVIADDSRISEDTRNSELDVDGS...     722   C3H  \n",
       "4833  MMDCNQGSGFADGNVVQFESGNLENDVNENPCLGSIDRAVSAIEDG...     320   C3H  \n",
       "756   MASVGVAPTSCMRESSGHTVAGVDKLPEEMNDMKIRDDKEMEATVV...     493   C3H  \n",
       "...                                                 ...     ...   ...  \n",
       "1894  XSYCISIXSPPSYGYPQEKQNGCDDMDSLSSGIGSKSKPCTKFFST...     295   C3H  \n",
       "2318  MDMNHLTVETEDVLASVLELAANNDMDGFKRWVEQDPTSVDEVGLW...     703   C3H  \n",
       "6034  MNPRDCWYWFNGNCANPKCSFRHPPLDGLVGAPTTPRTSQQSAPQV...     600   C3H  \n",
       "6828  MDPYGPPRKRPRPESGPLNGSNGTNSGHGGGDDYNKDGSSGNRTKP...     346   C3H  \n",
       "8535  MAYARDLYKTKMCSLYMQRGYCPRQSCSFAHGESELRKVPGRFDNG...     378   C3H  \n",
       "\n",
       "[1939 rows x 4 columns]"
      ]
     },
     "execution_count": 5,
     "metadata": {},
     "output_type": "execute_result"
    }
   ],
   "source": [
    "testset_positive = testset[testset['class'] == 1]\n",
    "testset_positive.loc[:, 'class'] = gene_familly\n",
    "testset_positive"
   ]
  },
  {
   "cell_type": "code",
   "execution_count": 6,
   "id": "25a9ad39-47e0-4b0a-9669-c9ed5c6cafa3",
   "metadata": {
    "execution": {
     "iopub.execute_input": "2024-07-03T23:16:00.670866Z",
     "iopub.status.busy": "2024-07-03T23:16:00.670652Z",
     "iopub.status.idle": "2024-07-03T23:16:00.690775Z",
     "shell.execute_reply": "2024-07-03T23:16:00.690424Z"
    },
    "papermill": {
     "duration": 0.022833,
     "end_time": "2024-07-03T23:16:00.691814",
     "exception": false,
     "start_time": "2024-07-03T23:16:00.668981",
     "status": "completed"
    },
    "tags": []
   },
   "outputs": [],
   "source": [
    "testset_positive.to_csv(\"../data/testset/\"+gene_dict['file_code']+\".csv\")"
   ]
  },
  {
   "cell_type": "code",
   "execution_count": null,
   "id": "4107c4c5-3c5d-44f9-af27-5b81b6d102e5",
   "metadata": {
    "papermill": {
     "duration": 0.001083,
     "end_time": "2024-07-03T23:16:00.694089",
     "exception": false,
     "start_time": "2024-07-03T23:16:00.693006",
     "status": "completed"
    },
    "tags": []
   },
   "outputs": [],
   "source": []
  }
 ],
 "metadata": {
  "kernelspec": {
   "display_name": "Python 3 (ipykernel)",
   "language": "python",
   "name": "python3"
  },
  "language_info": {
   "codemirror_mode": {
    "name": "ipython",
    "version": 3
   },
   "file_extension": ".py",
   "mimetype": "text/x-python",
   "name": "python",
   "nbconvert_exporter": "python",
   "pygments_lexer": "ipython3",
   "version": "3.11.7"
  },
  "papermill": {
   "default_parameters": {},
   "duration": 1.962678,
   "end_time": "2024-07-03T23:16:01.011679",
   "environment_variables": {},
   "exception": null,
   "input_path": "05-extract_testset.ipynb",
   "output_path": "AutoSave/TestGen/05-extract_testset-C3H.ipynb",
   "parameters": {
    "gene_familly": "C3H"
   },
   "start_time": "2024-07-03T23:15:59.049001",
   "version": "2.6.0"
  }
 },
 "nbformat": 4,
 "nbformat_minor": 5
}