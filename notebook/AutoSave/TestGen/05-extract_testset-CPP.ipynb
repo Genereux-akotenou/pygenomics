{
 "cells": [
  {
   "cell_type": "code",
   "execution_count": 1,
   "id": "f8b55318",
   "metadata": {
    "execution": {
     "iopub.execute_input": "2024-07-03T23:16:05.365587Z",
     "iopub.status.busy": "2024-07-03T23:16:05.364905Z",
     "iopub.status.idle": "2024-07-03T23:16:05.376229Z",
     "shell.execute_reply": "2024-07-03T23:16:05.375652Z"
    },
    "papermill": {
     "duration": 0.021742,
     "end_time": "2024-07-03T23:16:05.377887",
     "exception": false,
     "start_time": "2024-07-03T23:16:05.356145",
     "status": "completed"
    },
    "tags": [
     "injected-parameters"
    ]
   },
   "outputs": [],
   "source": [
    "# Parameters\n",
    "gene_familly = \"CPP\"\n"
   ]
  },
  {
   "cell_type": "code",
   "execution_count": 2,
   "id": "e7cdbe25-11a6-48da-abd4-9ae5eee27bfe",
   "metadata": {
    "execution": {
     "iopub.execute_input": "2024-07-03T23:16:05.383736Z",
     "iopub.status.busy": "2024-07-03T23:16:05.383410Z",
     "iopub.status.idle": "2024-07-03T23:16:06.108285Z",
     "shell.execute_reply": "2024-07-03T23:16:06.107771Z"
    },
    "papermill": {
     "duration": 0.729218,
     "end_time": "2024-07-03T23:16:06.109955",
     "exception": false,
     "start_time": "2024-07-03T23:16:05.380737",
     "status": "completed"
    },
    "tags": []
   },
   "outputs": [],
   "source": [
    "import json\n",
    "import pandas as pd\n",
    "from sklearn.model_selection import train_test_split"
   ]
  },
  {
   "cell_type": "code",
   "execution_count": 3,
   "id": "6e20f340-8cbc-46f2-be83-6f1c4523930a",
   "metadata": {
    "execution": {
     "iopub.execute_input": "2024-07-03T23:16:06.113754Z",
     "iopub.status.busy": "2024-07-03T23:16:06.113264Z",
     "iopub.status.idle": "2024-07-03T23:16:06.142427Z",
     "shell.execute_reply": "2024-07-03T23:16:06.142059Z"
    },
    "papermill": {
     "duration": 0.032111,
     "end_time": "2024-07-03T23:16:06.143669",
     "exception": false,
     "start_time": "2024-07-03T23:16:06.111558",
     "status": "completed"
    },
    "tags": []
   },
   "outputs": [
    {
     "data": {
      "text/html": [
       "<div>\n",
       "<style scoped>\n",
       "    .dataframe tbody tr th:only-of-type {\n",
       "        vertical-align: middle;\n",
       "    }\n",
       "\n",
       "    .dataframe tbody tr th {\n",
       "        vertical-align: top;\n",
       "    }\n",
       "\n",
       "    .dataframe thead th {\n",
       "        text-align: right;\n",
       "    }\n",
       "</style>\n",
       "<table border=\"1\" class=\"dataframe\">\n",
       "  <thead>\n",
       "    <tr style=\"text-align: right;\">\n",
       "      <th></th>\n",
       "      <th>id</th>\n",
       "      <th>sequence</th>\n",
       "      <th>length</th>\n",
       "      <th>class</th>\n",
       "    </tr>\n",
       "  </thead>\n",
       "  <tbody>\n",
       "    <tr>\n",
       "      <th>0</th>\n",
       "      <td>Achn014051</td>\n",
       "      <td>MGEERERESESESEACGRGGPVMDTPVRNQIAAPGSQFEESPVFNY...</td>\n",
       "      <td>773</td>\n",
       "      <td>1</td>\n",
       "    </tr>\n",
       "    <tr>\n",
       "      <th>1</th>\n",
       "      <td>Achn050881</td>\n",
       "      <td>MEVNDSATKEQKPCKCKQSRCVKLYCECFSSGTYCEGCRCINCQNN...</td>\n",
       "      <td>389</td>\n",
       "      <td>1</td>\n",
       "    </tr>\n",
       "    <tr>\n",
       "      <th>2</th>\n",
       "      <td>Achn065621</td>\n",
       "      <td>MGQSVFGLLRGCERWGLGRKGATAAEGCENFGLRSGTAHKDEFNCL...</td>\n",
       "      <td>345</td>\n",
       "      <td>1</td>\n",
       "    </tr>\n",
       "    <tr>\n",
       "      <th>3</th>\n",
       "      <td>Achn069971</td>\n",
       "      <td>MYQMNLREGFRNSSHKEIYIYKYISIKSCPFIGSPITSNSPKSTTN...</td>\n",
       "      <td>639</td>\n",
       "      <td>1</td>\n",
       "    </tr>\n",
       "    <tr>\n",
       "      <th>4</th>\n",
       "      <td>Achn146311</td>\n",
       "      <td>MEKGEGGDFSPKTDQSDTLPDFPAKKLARQLDFTGFSGASGTVVLP...</td>\n",
       "      <td>553</td>\n",
       "      <td>1</td>\n",
       "    </tr>\n",
       "  </tbody>\n",
       "</table>\n",
       "</div>"
      ],
      "text/plain": [
       "           id                                           sequence  length  \\\n",
       "0  Achn014051  MGEERERESESESEACGRGGPVMDTPVRNQIAAPGSQFEESPVFNY...     773   \n",
       "1  Achn050881  MEVNDSATKEQKPCKCKQSRCVKLYCECFSSGTYCEGCRCINCQNN...     389   \n",
       "2  Achn065621  MGQSVFGLLRGCERWGLGRKGATAAEGCENFGLRSGTAHKDEFNCL...     345   \n",
       "3  Achn069971  MYQMNLREGFRNSSHKEIYIYKYISIKSCPFIGSPITSNSPKSTTN...     639   \n",
       "4  Achn146311  MEKGEGGDFSPKTDQSDTLPDFPAKKLARQLDFTGFSGASGTVVLP...     553   \n",
       "\n",
       "   class  \n",
       "0      1  \n",
       "1      1  \n",
       "2      1  \n",
       "3      1  \n",
       "4      1  "
      ]
     },
     "execution_count": 3,
     "metadata": {},
     "output_type": "execute_result"
    }
   ],
   "source": [
    "# READ GENE_INFO JSON FILE\n",
    "gene_info_path = \"../data/gene_info.json\"\n",
    "dataset_path   = \"../data/one_vs_other/\"\n",
    "with open(gene_info_path, 'r') as json_file:\n",
    "    gene_info = json.load(json_file)\n",
    "\n",
    "# FOCUS ON GENE FAMILLY\n",
    "gene_dict = gene_info[gene_familly]\n",
    "df_path = dataset_path+gene_dict['file_code']+\".csv\"\n",
    "\n",
    "# LOAD WHOLE DATASET\n",
    "USE_FULL_DF = True\n",
    "if USE_FULL_DF:\n",
    "    dataset = pd.read_csv(df_path)\n",
    "else:\n",
    "    dataset_ = pd.read_csv(df_path)\n",
    "    r = min(5000/len(dataset_), 1)\n",
    "    _, dataset = train_test_split(dataset_, test_size=r, stratify=dataset_['class'], random_state=42)\n",
    "dataset.head()"
   ]
  },
  {
   "cell_type": "code",
   "execution_count": 4,
   "id": "745dff8f-540b-4299-a3f0-dabda69bd837",
   "metadata": {
    "execution": {
     "iopub.execute_input": "2024-07-03T23:16:06.146715Z",
     "iopub.status.busy": "2024-07-03T23:16:06.146477Z",
     "iopub.status.idle": "2024-07-03T23:16:06.151064Z",
     "shell.execute_reply": "2024-07-03T23:16:06.150769Z"
    },
    "papermill": {
     "duration": 0.007088,
     "end_time": "2024-07-03T23:16:06.152036",
     "exception": false,
     "start_time": "2024-07-03T23:16:06.144948",
     "status": "completed"
    },
    "tags": []
   },
   "outputs": [],
   "source": [
    "trainset, testset = train_test_split(dataset, test_size=0.2, stratify=dataset['class'], random_state=42)"
   ]
  },
  {
   "cell_type": "code",
   "execution_count": 5,
   "id": "a9b8b47d-48c6-4e94-a378-574904e308ee",
   "metadata": {
    "execution": {
     "iopub.execute_input": "2024-07-03T23:16:06.154560Z",
     "iopub.status.busy": "2024-07-03T23:16:06.154427Z",
     "iopub.status.idle": "2024-07-03T23:16:06.160073Z",
     "shell.execute_reply": "2024-07-03T23:16:06.159798Z"
    },
    "papermill": {
     "duration": 0.007916,
     "end_time": "2024-07-03T23:16:06.161020",
     "exception": false,
     "start_time": "2024-07-03T23:16:06.153104",
     "status": "completed"
    },
    "tags": []
   },
   "outputs": [
    {
     "name": "stderr",
     "output_type": "stream",
     "text": [
      "/var/folders/w8/b_cflrn97k9c15rcrn5t8mmr0000gn/T/ipykernel_2464/3395039238.py:2: FutureWarning: Setting an item of incompatible dtype is deprecated and will raise in a future error of pandas. Value 'CPP' has dtype incompatible with int64, please explicitly cast to a compatible dtype first.\n",
      "  testset_positive.loc[:, 'class'] = gene_familly\n"
     ]
    },
    {
     "data": {
      "text/html": [
       "<div>\n",
       "<style scoped>\n",
       "    .dataframe tbody tr th:only-of-type {\n",
       "        vertical-align: middle;\n",
       "    }\n",
       "\n",
       "    .dataframe tbody tr th {\n",
       "        vertical-align: top;\n",
       "    }\n",
       "\n",
       "    .dataframe thead th {\n",
       "        text-align: right;\n",
       "    }\n",
       "</style>\n",
       "<table border=\"1\" class=\"dataframe\">\n",
       "  <thead>\n",
       "    <tr style=\"text-align: right;\">\n",
       "      <th></th>\n",
       "      <th>id</th>\n",
       "      <th>sequence</th>\n",
       "      <th>length</th>\n",
       "      <th>class</th>\n",
       "    </tr>\n",
       "  </thead>\n",
       "  <tbody>\n",
       "    <tr>\n",
       "      <th>1549</th>\n",
       "      <td>Vradi01g03990.1</td>\n",
       "      <td>MGEGEGGDIAPKNALSSEVVPPAVTSTAALEVPAKKLARQLDFTGA...</td>\n",
       "      <td>596</td>\n",
       "      <td>CPP</td>\n",
       "    </tr>\n",
       "    <tr>\n",
       "      <th>872</th>\n",
       "      <td>Oropetium_20150105_12592A</td>\n",
       "      <td>MAGKEPGGAGPPQRPPMPAVSTQPPIKKLVRQLDFNSAAMAGNPAM...</td>\n",
       "      <td>607</td>\n",
       "      <td>CPP</td>\n",
       "    </tr>\n",
       "    <tr>\n",
       "      <th>569</th>\n",
       "      <td>Gorai.001G006500.2</td>\n",
       "      <td>MGKEEGGGEIPPKMVQSDTADFPSKKLARQLDFTAGFGGVSSGSVN...</td>\n",
       "      <td>622</td>\n",
       "      <td>CPP</td>\n",
       "    </tr>\n",
       "    <tr>\n",
       "      <th>286</th>\n",
       "      <td>Csa10g031620.1</td>\n",
       "      <td>MDTPQKSIAQIGTPISKSRFEDSPVFNYINTLSPIRPVKSIQNPHQ...</td>\n",
       "      <td>699</td>\n",
       "      <td>CPP</td>\n",
       "    </tr>\n",
       "    <tr>\n",
       "      <th>959</th>\n",
       "      <td>ONIVA01G36110.1</td>\n",
       "      <td>MAGKEQQGGGGPPPPPRAPVPAASSQPPIKKLVRQLDFTSAALAGN...</td>\n",
       "      <td>590</td>\n",
       "      <td>CPP</td>\n",
       "    </tr>\n",
       "    <tr>\n",
       "      <th>...</th>\n",
       "      <td>...</td>\n",
       "      <td>...</td>\n",
       "      <td>...</td>\n",
       "      <td>...</td>\n",
       "    </tr>\n",
       "    <tr>\n",
       "      <th>1405</th>\n",
       "      <td>Sopen07g008660.1</td>\n",
       "      <td>MEKIEEGHFPPKKAESEAASVQVETDNPAKKLARQLDFTGGVPGQA...</td>\n",
       "      <td>570</td>\n",
       "      <td>CPP</td>\n",
       "    </tr>\n",
       "    <tr>\n",
       "      <th>1600</th>\n",
       "      <td>Zjn_sc00047.1.g01010.1.am.mkhc</td>\n",
       "      <td>GRNQEQPKLAAPAEAGEIPAVAPEQRPATPAVPATRPWPVVFTPTY...</td>\n",
       "      <td>139</td>\n",
       "      <td>CPP</td>\n",
       "    </tr>\n",
       "    <tr>\n",
       "      <th>762</th>\n",
       "      <td>Manes.09G155000.1.p</td>\n",
       "      <td>MELNTPNKSHLISTPLSQFEDSPVFNYINNLSPIELVKSVHSSDQS...</td>\n",
       "      <td>737</td>\n",
       "      <td>CPP</td>\n",
       "    </tr>\n",
       "    <tr>\n",
       "      <th>1250</th>\n",
       "      <td>Prupe.3G078800.2.p</td>\n",
       "      <td>MFGSPENEAVLLSDQAEKNLPLSSLEMSQAAINQRDGKKTEELSRF...</td>\n",
       "      <td>617</td>\n",
       "      <td>CPP</td>\n",
       "    </tr>\n",
       "    <tr>\n",
       "      <th>1379</th>\n",
       "      <td>Sevir.5G231200.1.p</td>\n",
       "      <td>MNQDEEPRPSCNCKKTTCLKRYCQCFQGEFFCSSACNCKGCWNRED...</td>\n",
       "      <td>189</td>\n",
       "      <td>CPP</td>\n",
       "    </tr>\n",
       "  </tbody>\n",
       "</table>\n",
       "<p>323 rows × 4 columns</p>\n",
       "</div>"
      ],
      "text/plain": [
       "                                  id  \\\n",
       "1549                 Vradi01g03990.1   \n",
       "872        Oropetium_20150105_12592A   \n",
       "569               Gorai.001G006500.2   \n",
       "286                   Csa10g031620.1   \n",
       "959                  ONIVA01G36110.1   \n",
       "...                              ...   \n",
       "1405                Sopen07g008660.1   \n",
       "1600  Zjn_sc00047.1.g01010.1.am.mkhc   \n",
       "762              Manes.09G155000.1.p   \n",
       "1250              Prupe.3G078800.2.p   \n",
       "1379              Sevir.5G231200.1.p   \n",
       "\n",
       "                                               sequence  length class  \n",
       "1549  MGEGEGGDIAPKNALSSEVVPPAVTSTAALEVPAKKLARQLDFTGA...     596   CPP  \n",
       "872   MAGKEPGGAGPPQRPPMPAVSTQPPIKKLVRQLDFNSAAMAGNPAM...     607   CPP  \n",
       "569   MGKEEGGGEIPPKMVQSDTADFPSKKLARQLDFTAGFGGVSSGSVN...     622   CPP  \n",
       "286   MDTPQKSIAQIGTPISKSRFEDSPVFNYINTLSPIRPVKSIQNPHQ...     699   CPP  \n",
       "959   MAGKEQQGGGGPPPPPRAPVPAASSQPPIKKLVRQLDFTSAALAGN...     590   CPP  \n",
       "...                                                 ...     ...   ...  \n",
       "1405  MEKIEEGHFPPKKAESEAASVQVETDNPAKKLARQLDFTGGVPGQA...     570   CPP  \n",
       "1600  GRNQEQPKLAAPAEAGEIPAVAPEQRPATPAVPATRPWPVVFTPTY...     139   CPP  \n",
       "762   MELNTPNKSHLISTPLSQFEDSPVFNYINNLSPIELVKSVHSSDQS...     737   CPP  \n",
       "1250  MFGSPENEAVLLSDQAEKNLPLSSLEMSQAAINQRDGKKTEELSRF...     617   CPP  \n",
       "1379  MNQDEEPRPSCNCKKTTCLKRYCQCFQGEFFCSSACNCKGCWNRED...     189   CPP  \n",
       "\n",
       "[323 rows x 4 columns]"
      ]
     },
     "execution_count": 5,
     "metadata": {},
     "output_type": "execute_result"
    }
   ],
   "source": [
    "testset_positive = testset[testset['class'] == 1]\n",
    "testset_positive.loc[:, 'class'] = gene_familly\n",
    "testset_positive"
   ]
  },
  {
   "cell_type": "code",
   "execution_count": 6,
   "id": "25a9ad39-47e0-4b0a-9669-c9ed5c6cafa3",
   "metadata": {
    "execution": {
     "iopub.execute_input": "2024-07-03T23:16:06.163910Z",
     "iopub.status.busy": "2024-07-03T23:16:06.163779Z",
     "iopub.status.idle": "2024-07-03T23:16:06.170551Z",
     "shell.execute_reply": "2024-07-03T23:16:06.170271Z"
    },
    "papermill": {
     "duration": 0.009207,
     "end_time": "2024-07-03T23:16:06.171431",
     "exception": false,
     "start_time": "2024-07-03T23:16:06.162224",
     "status": "completed"
    },
    "tags": []
   },
   "outputs": [],
   "source": [
    "testset_positive.to_csv(\"../data/testset/\"+gene_dict['file_code']+\".csv\")"
   ]
  },
  {
   "cell_type": "code",
   "execution_count": null,
   "id": "4107c4c5-3c5d-44f9-af27-5b81b6d102e5",
   "metadata": {
    "papermill": {
     "duration": 0.001106,
     "end_time": "2024-07-03T23:16:06.173713",
     "exception": false,
     "start_time": "2024-07-03T23:16:06.172607",
     "status": "completed"
    },
    "tags": []
   },
   "outputs": [],
   "source": []
  }
 ],
 "metadata": {
  "kernelspec": {
   "display_name": "Python 3 (ipykernel)",
   "language": "python",
   "name": "python3"
  },
  "language_info": {
   "codemirror_mode": {
    "name": "ipython",
    "version": 3
   },
   "file_extension": ".py",
   "mimetype": "text/x-python",
   "name": "python",
   "nbconvert_exporter": "python",
   "pygments_lexer": "ipython3",
   "version": "3.11.7"
  },
  "papermill": {
   "default_parameters": {},
   "duration": 1.919239,
   "end_time": "2024-07-03T23:16:06.493012",
   "environment_variables": {},
   "exception": null,
   "input_path": "05-extract_testset.ipynb",
   "output_path": "AutoSave/TestGen/05-extract_testset-CPP.ipynb",
   "parameters": {
    "gene_familly": "CPP"
   },
   "start_time": "2024-07-03T23:16:04.573773",
   "version": "2.6.0"
  }
 },
 "nbformat": 4,
 "nbformat_minor": 5
}