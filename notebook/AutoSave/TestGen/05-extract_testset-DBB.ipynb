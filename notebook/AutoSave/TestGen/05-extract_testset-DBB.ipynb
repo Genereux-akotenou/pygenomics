{
 "cells": [
  {
   "cell_type": "code",
   "execution_count": 1,
   "id": "4bc8168a",
   "metadata": {
    "execution": {
     "iopub.execute_input": "2024-07-03T23:16:07.071491Z",
     "iopub.status.busy": "2024-07-03T23:16:07.070818Z",
     "iopub.status.idle": "2024-07-03T23:16:07.082273Z",
     "shell.execute_reply": "2024-07-03T23:16:07.081619Z"
    },
    "papermill": {
     "duration": 0.021179,
     "end_time": "2024-07-03T23:16:07.084068",
     "exception": false,
     "start_time": "2024-07-03T23:16:07.062889",
     "status": "completed"
    },
    "tags": [
     "injected-parameters"
    ]
   },
   "outputs": [],
   "source": [
    "# Parameters\n",
    "gene_familly = \"DBB\"\n"
   ]
  },
  {
   "cell_type": "code",
   "execution_count": 2,
   "id": "e7cdbe25-11a6-48da-abd4-9ae5eee27bfe",
   "metadata": {
    "execution": {
     "iopub.execute_input": "2024-07-03T23:16:07.090751Z",
     "iopub.status.busy": "2024-07-03T23:16:07.090526Z",
     "iopub.status.idle": "2024-07-03T23:16:07.739697Z",
     "shell.execute_reply": "2024-07-03T23:16:07.739222Z"
    },
    "papermill": {
     "duration": 0.654386,
     "end_time": "2024-07-03T23:16:07.741413",
     "exception": false,
     "start_time": "2024-07-03T23:16:07.087027",
     "status": "completed"
    },
    "tags": []
   },
   "outputs": [],
   "source": [
    "import json\n",
    "import pandas as pd\n",
    "from sklearn.model_selection import train_test_split"
   ]
  },
  {
   "cell_type": "code",
   "execution_count": 3,
   "id": "6e20f340-8cbc-46f2-be83-6f1c4523930a",
   "metadata": {
    "execution": {
     "iopub.execute_input": "2024-07-03T23:16:07.745059Z",
     "iopub.status.busy": "2024-07-03T23:16:07.744807Z",
     "iopub.status.idle": "2024-07-03T23:16:07.766672Z",
     "shell.execute_reply": "2024-07-03T23:16:07.766339Z"
    },
    "papermill": {
     "duration": 0.024659,
     "end_time": "2024-07-03T23:16:07.767715",
     "exception": false,
     "start_time": "2024-07-03T23:16:07.743056",
     "status": "completed"
    },
    "tags": []
   },
   "outputs": [
    {
     "data": {
      "text/html": [
       "<div>\n",
       "<style scoped>\n",
       "    .dataframe tbody tr th:only-of-type {\n",
       "        vertical-align: middle;\n",
       "    }\n",
       "\n",
       "    .dataframe tbody tr th {\n",
       "        vertical-align: top;\n",
       "    }\n",
       "\n",
       "    .dataframe thead th {\n",
       "        text-align: right;\n",
       "    }\n",
       "</style>\n",
       "<table border=\"1\" class=\"dataframe\">\n",
       "  <thead>\n",
       "    <tr style=\"text-align: right;\">\n",
       "      <th></th>\n",
       "      <th>id</th>\n",
       "      <th>sequence</th>\n",
       "      <th>length</th>\n",
       "      <th>class</th>\n",
       "    </tr>\n",
       "  </thead>\n",
       "  <tbody>\n",
       "    <tr>\n",
       "      <th>0</th>\n",
       "      <td>Achn006881</td>\n",
       "      <td>MSTREDMWTLYISRRVSNKERETRENNRSGRERERMKIQCDVCAKE...</td>\n",
       "      <td>257</td>\n",
       "      <td>1</td>\n",
       "    </tr>\n",
       "    <tr>\n",
       "      <th>1</th>\n",
       "      <td>Achn039341</td>\n",
       "      <td>MDKNCKSTASAISACDFCNQKSAVLYCKADSAKLCLFCDQQVHSAN...</td>\n",
       "      <td>411</td>\n",
       "      <td>1</td>\n",
       "    </tr>\n",
       "    <tr>\n",
       "      <th>2</th>\n",
       "      <td>Achn067171</td>\n",
       "      <td>MRTLCDVCESAAAILFCAADEAALCRSCDDKVHMCNKLASRHVRVG...</td>\n",
       "      <td>217</td>\n",
       "      <td>1</td>\n",
       "    </tr>\n",
       "    <tr>\n",
       "      <th>3</th>\n",
       "      <td>Achn084001</td>\n",
       "      <td>MKIQCDVCEKAPASVICCADEAALCAKCDIEVHAANKLASKHQRLL...</td>\n",
       "      <td>241</td>\n",
       "      <td>1</td>\n",
       "    </tr>\n",
       "    <tr>\n",
       "      <th>4</th>\n",
       "      <td>Achn101441</td>\n",
       "      <td>MFKKNSIKTRYFNLRKCIRFRTSGGGCYESNSETLPDVVGGFCLVE...</td>\n",
       "      <td>365</td>\n",
       "      <td>1</td>\n",
       "    </tr>\n",
       "  </tbody>\n",
       "</table>\n",
       "</div>"
      ],
      "text/plain": [
       "           id                                           sequence  length  \\\n",
       "0  Achn006881  MSTREDMWTLYISRRVSNKERETRENNRSGRERERMKIQCDVCAKE...     257   \n",
       "1  Achn039341  MDKNCKSTASAISACDFCNQKSAVLYCKADSAKLCLFCDQQVHSAN...     411   \n",
       "2  Achn067171  MRTLCDVCESAAAILFCAADEAALCRSCDDKVHMCNKLASRHVRVG...     217   \n",
       "3  Achn084001  MKIQCDVCEKAPASVICCADEAALCAKCDIEVHAANKLASKHQRLL...     241   \n",
       "4  Achn101441  MFKKNSIKTRYFNLRKCIRFRTSGGGCYESNSETLPDVVGGFCLVE...     365   \n",
       "\n",
       "   class  \n",
       "0      1  \n",
       "1      1  \n",
       "2      1  \n",
       "3      1  \n",
       "4      1  "
      ]
     },
     "execution_count": 3,
     "metadata": {},
     "output_type": "execute_result"
    }
   ],
   "source": [
    "# READ GENE_INFO JSON FILE\n",
    "gene_info_path = \"../data/gene_info.json\"\n",
    "dataset_path   = \"../data/one_vs_other/\"\n",
    "with open(gene_info_path, 'r') as json_file:\n",
    "    gene_info = json.load(json_file)\n",
    "\n",
    "# FOCUS ON GENE FAMILLY\n",
    "gene_dict = gene_info[gene_familly]\n",
    "df_path = dataset_path+gene_dict['file_code']+\".csv\"\n",
    "\n",
    "# LOAD WHOLE DATASET\n",
    "USE_FULL_DF = True\n",
    "if USE_FULL_DF:\n",
    "    dataset = pd.read_csv(df_path)\n",
    "else:\n",
    "    dataset_ = pd.read_csv(df_path)\n",
    "    r = min(5000/len(dataset_), 1)\n",
    "    _, dataset = train_test_split(dataset_, test_size=r, stratify=dataset_['class'], random_state=42)\n",
    "dataset.head()"
   ]
  },
  {
   "cell_type": "code",
   "execution_count": 4,
   "id": "745dff8f-540b-4299-a3f0-dabda69bd837",
   "metadata": {
    "execution": {
     "iopub.execute_input": "2024-07-03T23:16:07.770646Z",
     "iopub.status.busy": "2024-07-03T23:16:07.770494Z",
     "iopub.status.idle": "2024-07-03T23:16:07.774941Z",
     "shell.execute_reply": "2024-07-03T23:16:07.774671Z"
    },
    "papermill": {
     "duration": 0.006878,
     "end_time": "2024-07-03T23:16:07.775842",
     "exception": false,
     "start_time": "2024-07-03T23:16:07.768964",
     "status": "completed"
    },
    "tags": []
   },
   "outputs": [],
   "source": [
    "trainset, testset = train_test_split(dataset, test_size=0.2, stratify=dataset['class'], random_state=42)"
   ]
  },
  {
   "cell_type": "code",
   "execution_count": 5,
   "id": "a9b8b47d-48c6-4e94-a378-574904e308ee",
   "metadata": {
    "execution": {
     "iopub.execute_input": "2024-07-03T23:16:07.778666Z",
     "iopub.status.busy": "2024-07-03T23:16:07.778443Z",
     "iopub.status.idle": "2024-07-03T23:16:07.784123Z",
     "shell.execute_reply": "2024-07-03T23:16:07.783806Z"
    },
    "papermill": {
     "duration": 0.008156,
     "end_time": "2024-07-03T23:16:07.785015",
     "exception": false,
     "start_time": "2024-07-03T23:16:07.776859",
     "status": "completed"
    },
    "tags": []
   },
   "outputs": [
    {
     "name": "stderr",
     "output_type": "stream",
     "text": [
      "/var/folders/w8/b_cflrn97k9c15rcrn5t8mmr0000gn/T/ipykernel_2472/3395039238.py:2: FutureWarning: Setting an item of incompatible dtype is deprecated and will raise in a future error of pandas. Value 'DBB' has dtype incompatible with int64, please explicitly cast to a compatible dtype first.\n",
      "  testset_positive.loc[:, 'class'] = gene_familly\n"
     ]
    },
    {
     "data": {
      "text/html": [
       "<div>\n",
       "<style scoped>\n",
       "    .dataframe tbody tr th:only-of-type {\n",
       "        vertical-align: middle;\n",
       "    }\n",
       "\n",
       "    .dataframe tbody tr th {\n",
       "        vertical-align: top;\n",
       "    }\n",
       "\n",
       "    .dataframe thead th {\n",
       "        text-align: right;\n",
       "    }\n",
       "</style>\n",
       "<table border=\"1\" class=\"dataframe\">\n",
       "  <thead>\n",
       "    <tr style=\"text-align: right;\">\n",
       "      <th></th>\n",
       "      <th>id</th>\n",
       "      <th>sequence</th>\n",
       "      <th>length</th>\n",
       "      <th>class</th>\n",
       "    </tr>\n",
       "  </thead>\n",
       "  <tbody>\n",
       "    <tr>\n",
       "      <th>913</th>\n",
       "      <td>XP_016499436.1</td>\n",
       "      <td>MKIQCDVCNKNEASVFCTADEAALCEACDHRVHHVNKLASKHQRFS...</td>\n",
       "      <td>299</td>\n",
       "      <td>DBB</td>\n",
       "    </tr>\n",
       "    <tr>\n",
       "      <th>1035</th>\n",
       "      <td>LOC_Os12g10660.1</td>\n",
       "      <td>MKIGCDACEQAEAAVLCCADEAALCRRCDAAVHSANRLAGKHTRVA...</td>\n",
       "      <td>211</td>\n",
       "      <td>DBB</td>\n",
       "    </tr>\n",
       "    <tr>\n",
       "      <th>946</th>\n",
       "      <td>OB02G30750.1</td>\n",
       "      <td>MKIQCDACEGAAAAVVCCADEAALCAACDVEIHAANKLASKHQRLP...</td>\n",
       "      <td>271</td>\n",
       "      <td>DBB</td>\n",
       "    </tr>\n",
       "    <tr>\n",
       "      <th>923</th>\n",
       "      <td>XP_009605718.1</td>\n",
       "      <td>MKIQCDVCNKNEASVFCVADEAALCDSCDHRVHHANKLAEKHQRFS...</td>\n",
       "      <td>326</td>\n",
       "      <td>DBB</td>\n",
       "    </tr>\n",
       "    <tr>\n",
       "      <th>1260</th>\n",
       "      <td>RrC8034_p2</td>\n",
       "      <td>MSASSGEETDPEWIKKVKLEGAVPCLSPDSKDSKNSWTTPSPNTFM...</td>\n",
       "      <td>564</td>\n",
       "      <td>DBB</td>\n",
       "    </tr>\n",
       "    <tr>\n",
       "      <th>...</th>\n",
       "      <td>...</td>\n",
       "      <td>...</td>\n",
       "      <td>...</td>\n",
       "      <td>...</td>\n",
       "    </tr>\n",
       "    <tr>\n",
       "      <th>515</th>\n",
       "      <td>Glyma.03G209800.2.p</td>\n",
       "      <td>MSGEARSCDYCGHSTALLYCRADSAKLCFSCDREVHSTNQLFSKHT...</td>\n",
       "      <td>255</td>\n",
       "      <td>DBB</td>\n",
       "    </tr>\n",
       "    <tr>\n",
       "      <th>1455</th>\n",
       "      <td>Sp_175780_uucd.t1</td>\n",
       "      <td>MRTLCDVCEGAAAVCFCAADEAALCRACDEKVHMCNKLASRHTRVG...</td>\n",
       "      <td>216</td>\n",
       "      <td>DBB</td>\n",
       "    </tr>\n",
       "    <tr>\n",
       "      <th>444</th>\n",
       "      <td>XP_010925578.1</td>\n",
       "      <td>MKIQCNACEVAEATVLCCADEAALCWSCDEKVHAANKLAGKHQRVP...</td>\n",
       "      <td>296</td>\n",
       "      <td>DBB</td>\n",
       "    </tr>\n",
       "    <tr>\n",
       "      <th>34</th>\n",
       "      <td>Aqcoe2G434900.1.p</td>\n",
       "      <td>MKIQCDVCEKAQATVICCADEAALCAKCDVEVHEANRLASKHQRLL...</td>\n",
       "      <td>242</td>\n",
       "      <td>DBB</td>\n",
       "    </tr>\n",
       "    <tr>\n",
       "      <th>142</th>\n",
       "      <td>Brast04G144600.1.p</td>\n",
       "      <td>MKIQCDSCGVAAATVVCCADEAALCGRCDVEVHAANRLASKHQRLP...</td>\n",
       "      <td>269</td>\n",
       "      <td>DBB</td>\n",
       "    </tr>\n",
       "  </tbody>\n",
       "</table>\n",
       "<p>331 rows × 4 columns</p>\n",
       "</div>"
      ],
      "text/plain": [
       "                       id                                           sequence  \\\n",
       "913        XP_016499436.1  MKIQCDVCNKNEASVFCTADEAALCEACDHRVHHVNKLASKHQRFS...   \n",
       "1035     LOC_Os12g10660.1  MKIGCDACEQAEAAVLCCADEAALCRRCDAAVHSANRLAGKHTRVA...   \n",
       "946          OB02G30750.1  MKIQCDACEGAAAAVVCCADEAALCAACDVEIHAANKLASKHQRLP...   \n",
       "923        XP_009605718.1  MKIQCDVCNKNEASVFCVADEAALCDSCDHRVHHANKLAEKHQRFS...   \n",
       "1260           RrC8034_p2  MSASSGEETDPEWIKKVKLEGAVPCLSPDSKDSKNSWTTPSPNTFM...   \n",
       "...                   ...                                                ...   \n",
       "515   Glyma.03G209800.2.p  MSGEARSCDYCGHSTALLYCRADSAKLCFSCDREVHSTNQLFSKHT...   \n",
       "1455    Sp_175780_uucd.t1  MRTLCDVCEGAAAVCFCAADEAALCRACDEKVHMCNKLASRHTRVG...   \n",
       "444        XP_010925578.1  MKIQCNACEVAEATVLCCADEAALCWSCDEKVHAANKLAGKHQRVP...   \n",
       "34      Aqcoe2G434900.1.p  MKIQCDVCEKAQATVICCADEAALCAKCDVEVHEANRLASKHQRLL...   \n",
       "142    Brast04G144600.1.p  MKIQCDSCGVAAATVVCCADEAALCGRCDVEVHAANRLASKHQRLP...   \n",
       "\n",
       "      length class  \n",
       "913      299   DBB  \n",
       "1035     211   DBB  \n",
       "946      271   DBB  \n",
       "923      326   DBB  \n",
       "1260     564   DBB  \n",
       "...      ...   ...  \n",
       "515      255   DBB  \n",
       "1455     216   DBB  \n",
       "444      296   DBB  \n",
       "34       242   DBB  \n",
       "142      269   DBB  \n",
       "\n",
       "[331 rows x 4 columns]"
      ]
     },
     "execution_count": 5,
     "metadata": {},
     "output_type": "execute_result"
    }
   ],
   "source": [
    "testset_positive = testset[testset['class'] == 1]\n",
    "testset_positive.loc[:, 'class'] = gene_familly\n",
    "testset_positive"
   ]
  },
  {
   "cell_type": "code",
   "execution_count": 6,
   "id": "25a9ad39-47e0-4b0a-9669-c9ed5c6cafa3",
   "metadata": {
    "execution": {
     "iopub.execute_input": "2024-07-03T23:16:07.787977Z",
     "iopub.status.busy": "2024-07-03T23:16:07.787856Z",
     "iopub.status.idle": "2024-07-03T23:16:07.792734Z",
     "shell.execute_reply": "2024-07-03T23:16:07.792476Z"
    },
    "papermill": {
     "duration": 0.00735,
     "end_time": "2024-07-03T23:16:07.793679",
     "exception": false,
     "start_time": "2024-07-03T23:16:07.786329",
     "status": "completed"
    },
    "tags": []
   },
   "outputs": [],
   "source": [
    "testset_positive.to_csv(\"../data/testset/\"+gene_dict['file_code']+\".csv\")"
   ]
  },
  {
   "cell_type": "code",
   "execution_count": null,
   "id": "4107c4c5-3c5d-44f9-af27-5b81b6d102e5",
   "metadata": {
    "papermill": {
     "duration": 0.001121,
     "end_time": "2024-07-03T23:16:07.796017",
     "exception": false,
     "start_time": "2024-07-03T23:16:07.794896",
     "status": "completed"
    },
    "tags": []
   },
   "outputs": [],
   "source": []
  }
 ],
 "metadata": {
  "kernelspec": {
   "display_name": "Python 3 (ipykernel)",
   "language": "python",
   "name": "python3"
  },
  "language_info": {
   "codemirror_mode": {
    "name": "ipython",
    "version": 3
   },
   "file_extension": ".py",
   "mimetype": "text/x-python",
   "name": "python",
   "nbconvert_exporter": "python",
   "pygments_lexer": "ipython3",
   "version": "3.11.7"
  },
  "papermill": {
   "default_parameters": {},
   "duration": 1.617307,
   "end_time": "2024-07-03T23:16:08.115407",
   "environment_variables": {},
   "exception": null,
   "input_path": "05-extract_testset.ipynb",
   "output_path": "AutoSave/TestGen/05-extract_testset-DBB.ipynb",
   "parameters": {
    "gene_familly": "DBB"
   },
   "start_time": "2024-07-03T23:16:06.498100",
   "version": "2.6.0"
  }
 },
 "nbformat": 4,
 "nbformat_minor": 5
}