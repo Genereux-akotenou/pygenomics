{
 "cells": [
  {
   "cell_type": "code",
   "execution_count": 1,
   "id": "b1d5403d",
   "metadata": {
    "execution": {
     "iopub.execute_input": "2024-07-03T23:16:08.914857Z",
     "iopub.status.busy": "2024-07-03T23:16:08.914109Z",
     "iopub.status.idle": "2024-07-03T23:16:08.926005Z",
     "shell.execute_reply": "2024-07-03T23:16:08.925346Z"
    },
    "papermill": {
     "duration": 0.023544,
     "end_time": "2024-07-03T23:16:08.927822",
     "exception": false,
     "start_time": "2024-07-03T23:16:08.904278",
     "status": "completed"
    },
    "tags": [
     "injected-parameters"
    ]
   },
   "outputs": [],
   "source": [
    "# Parameters\n",
    "gene_familly = \"Dof\"\n"
   ]
  },
  {
   "cell_type": "code",
   "execution_count": 2,
   "id": "e7cdbe25-11a6-48da-abd4-9ae5eee27bfe",
   "metadata": {
    "execution": {
     "iopub.execute_input": "2024-07-03T23:16:08.935092Z",
     "iopub.status.busy": "2024-07-03T23:16:08.934853Z",
     "iopub.status.idle": "2024-07-03T23:16:09.598034Z",
     "shell.execute_reply": "2024-07-03T23:16:09.597526Z"
    },
    "papermill": {
     "duration": 0.668985,
     "end_time": "2024-07-03T23:16:09.599774",
     "exception": false,
     "start_time": "2024-07-03T23:16:08.930789",
     "status": "completed"
    },
    "tags": []
   },
   "outputs": [],
   "source": [
    "import json\n",
    "import pandas as pd\n",
    "from sklearn.model_selection import train_test_split"
   ]
  },
  {
   "cell_type": "code",
   "execution_count": 3,
   "id": "6e20f340-8cbc-46f2-be83-6f1c4523930a",
   "metadata": {
    "execution": {
     "iopub.execute_input": "2024-07-03T23:16:09.603205Z",
     "iopub.status.busy": "2024-07-03T23:16:09.602963Z",
     "iopub.status.idle": "2024-07-03T23:16:09.654304Z",
     "shell.execute_reply": "2024-07-03T23:16:09.653955Z"
    },
    "papermill": {
     "duration": 0.054107,
     "end_time": "2024-07-03T23:16:09.655372",
     "exception": false,
     "start_time": "2024-07-03T23:16:09.601265",
     "status": "completed"
    },
    "tags": []
   },
   "outputs": [
    {
     "data": {
      "text/html": [
       "<div>\n",
       "<style scoped>\n",
       "    .dataframe tbody tr th:only-of-type {\n",
       "        vertical-align: middle;\n",
       "    }\n",
       "\n",
       "    .dataframe tbody tr th {\n",
       "        vertical-align: top;\n",
       "    }\n",
       "\n",
       "    .dataframe thead th {\n",
       "        text-align: right;\n",
       "    }\n",
       "</style>\n",
       "<table border=\"1\" class=\"dataframe\">\n",
       "  <thead>\n",
       "    <tr style=\"text-align: right;\">\n",
       "      <th></th>\n",
       "      <th>id</th>\n",
       "      <th>sequence</th>\n",
       "      <th>length</th>\n",
       "      <th>class</th>\n",
       "    </tr>\n",
       "  </thead>\n",
       "  <tbody>\n",
       "    <tr>\n",
       "      <th>0</th>\n",
       "      <td>Achn014701</td>\n",
       "      <td>MPPETSDRRPARMQNDGAHPPEPEQLPCPRCESTNTKFCYYNNYNL...</td>\n",
       "      <td>225</td>\n",
       "      <td>1</td>\n",
       "    </tr>\n",
       "    <tr>\n",
       "      <th>1</th>\n",
       "      <td>Achn040131</td>\n",
       "      <td>MNFSSIPAYLDPSNWQQQAPNPQTEGGNGSGSSSQLPQPPPQAPTH...</td>\n",
       "      <td>321</td>\n",
       "      <td>1</td>\n",
       "    </tr>\n",
       "    <tr>\n",
       "      <th>2</th>\n",
       "      <td>Achn050591</td>\n",
       "      <td>MQDPSTYQQIQPQFPEHEHLKCPRCDSTNTKFCYYNNYNLSQPRHY...</td>\n",
       "      <td>184</td>\n",
       "      <td>1</td>\n",
       "    </tr>\n",
       "    <tr>\n",
       "      <th>3</th>\n",
       "      <td>Achn058491</td>\n",
       "      <td>MEHKGLVPVLVLFLGFSFVLSCVAVPTSRSGPFSLVERNQFESPFL...</td>\n",
       "      <td>573</td>\n",
       "      <td>1</td>\n",
       "    </tr>\n",
       "    <tr>\n",
       "      <th>4</th>\n",
       "      <td>Achn091101</td>\n",
       "      <td>MIQELLGETSLIGGERKISLSNILEASSSLSPSPSPSPSSSSSAQE...</td>\n",
       "      <td>305</td>\n",
       "      <td>1</td>\n",
       "    </tr>\n",
       "  </tbody>\n",
       "</table>\n",
       "</div>"
      ],
      "text/plain": [
       "           id                                           sequence  length  \\\n",
       "0  Achn014701  MPPETSDRRPARMQNDGAHPPEPEQLPCPRCESTNTKFCYYNNYNL...     225   \n",
       "1  Achn040131  MNFSSIPAYLDPSNWQQQAPNPQTEGGNGSGSSSQLPQPPPQAPTH...     321   \n",
       "2  Achn050591  MQDPSTYQQIQPQFPEHEHLKCPRCDSTNTKFCYYNNYNLSQPRHY...     184   \n",
       "3  Achn058491  MEHKGLVPVLVLFLGFSFVLSCVAVPTSRSGPFSLVERNQFESPFL...     573   \n",
       "4  Achn091101  MIQELLGETSLIGGERKISLSNILEASSSLSPSPSPSPSSSSSAQE...     305   \n",
       "\n",
       "   class  \n",
       "0      1  \n",
       "1      1  \n",
       "2      1  \n",
       "3      1  \n",
       "4      1  "
      ]
     },
     "execution_count": 3,
     "metadata": {},
     "output_type": "execute_result"
    }
   ],
   "source": [
    "# READ GENE_INFO JSON FILE\n",
    "gene_info_path = \"../data/gene_info.json\"\n",
    "dataset_path   = \"../data/one_vs_other/\"\n",
    "with open(gene_info_path, 'r') as json_file:\n",
    "    gene_info = json.load(json_file)\n",
    "\n",
    "# FOCUS ON GENE FAMILLY\n",
    "gene_dict = gene_info[gene_familly]\n",
    "df_path = dataset_path+gene_dict['file_code']+\".csv\"\n",
    "\n",
    "# LOAD WHOLE DATASET\n",
    "USE_FULL_DF = True\n",
    "if USE_FULL_DF:\n",
    "    dataset = pd.read_csv(df_path)\n",
    "else:\n",
    "    dataset_ = pd.read_csv(df_path)\n",
    "    r = min(5000/len(dataset_), 1)\n",
    "    _, dataset = train_test_split(dataset_, test_size=r, stratify=dataset_['class'], random_state=42)\n",
    "dataset.head()"
   ]
  },
  {
   "cell_type": "code",
   "execution_count": 4,
   "id": "745dff8f-540b-4299-a3f0-dabda69bd837",
   "metadata": {
    "execution": {
     "iopub.execute_input": "2024-07-03T23:16:09.658249Z",
     "iopub.status.busy": "2024-07-03T23:16:09.658100Z",
     "iopub.status.idle": "2024-07-03T23:16:09.663872Z",
     "shell.execute_reply": "2024-07-03T23:16:09.663606Z"
    },
    "papermill": {
     "duration": 0.008247,
     "end_time": "2024-07-03T23:16:09.664848",
     "exception": false,
     "start_time": "2024-07-03T23:16:09.656601",
     "status": "completed"
    },
    "tags": []
   },
   "outputs": [],
   "source": [
    "trainset, testset = train_test_split(dataset, test_size=0.2, stratify=dataset['class'], random_state=42)"
   ]
  },
  {
   "cell_type": "code",
   "execution_count": 5,
   "id": "a9b8b47d-48c6-4e94-a378-574904e308ee",
   "metadata": {
    "execution": {
     "iopub.execute_input": "2024-07-03T23:16:09.667283Z",
     "iopub.status.busy": "2024-07-03T23:16:09.667168Z",
     "iopub.status.idle": "2024-07-03T23:16:09.673149Z",
     "shell.execute_reply": "2024-07-03T23:16:09.672872Z"
    },
    "papermill": {
     "duration": 0.008194,
     "end_time": "2024-07-03T23:16:09.674033",
     "exception": false,
     "start_time": "2024-07-03T23:16:09.665839",
     "status": "completed"
    },
    "tags": []
   },
   "outputs": [
    {
     "name": "stderr",
     "output_type": "stream",
     "text": [
      "/var/folders/w8/b_cflrn97k9c15rcrn5t8mmr0000gn/T/ipykernel_2478/3395039238.py:2: FutureWarning: Setting an item of incompatible dtype is deprecated and will raise in a future error of pandas. Value 'Dof' has dtype incompatible with int64, please explicitly cast to a compatible dtype first.\n",
      "  testset_positive.loc[:, 'class'] = gene_familly\n"
     ]
    },
    {
     "data": {
      "text/html": [
       "<div>\n",
       "<style scoped>\n",
       "    .dataframe tbody tr th:only-of-type {\n",
       "        vertical-align: middle;\n",
       "    }\n",
       "\n",
       "    .dataframe tbody tr th {\n",
       "        vertical-align: top;\n",
       "    }\n",
       "\n",
       "    .dataframe thead th {\n",
       "        text-align: right;\n",
       "    }\n",
       "</style>\n",
       "<table border=\"1\" class=\"dataframe\">\n",
       "  <thead>\n",
       "    <tr style=\"text-align: right;\">\n",
       "      <th></th>\n",
       "      <th>id</th>\n",
       "      <th>sequence</th>\n",
       "      <th>length</th>\n",
       "      <th>class</th>\n",
       "    </tr>\n",
       "  </thead>\n",
       "  <tbody>\n",
       "    <tr>\n",
       "      <th>4623</th>\n",
       "      <td>Seita.9G079700.1.p</td>\n",
       "      <td>MACPFSSPSSNFFISHTPVPLPHPTTHPLIHTTKQEPESNHTTPPL...</td>\n",
       "      <td>443</td>\n",
       "      <td>Dof</td>\n",
       "    </tr>\n",
       "    <tr>\n",
       "      <th>198</th>\n",
       "      <td>Araha.30146s0002.1.p</td>\n",
       "      <td>MVFSSVSSFLDPPINWPQSANSNNHPNHPHHHQLQENGGLVSGHHQ...</td>\n",
       "      <td>342</td>\n",
       "      <td>Dof</td>\n",
       "    </tr>\n",
       "    <tr>\n",
       "      <th>4486</th>\n",
       "      <td>SapurV1A.6879s0010.3.p</td>\n",
       "      <td>MVFSSAPFYLDPPNWQQQQPGQQPGASNETPQLPPLPPPAHVGGGG...</td>\n",
       "      <td>295</td>\n",
       "      <td>Dof</td>\n",
       "    </tr>\n",
       "    <tr>\n",
       "      <th>2939</th>\n",
       "      <td>XP_010088375.1</td>\n",
       "      <td>MQDPATFQPMKAHFPEQEQLKCPRCESTNTKFCYYNNYNLSQPRHF...</td>\n",
       "      <td>193</td>\n",
       "      <td>Dof</td>\n",
       "    </tr>\n",
       "    <tr>\n",
       "      <th>1910</th>\n",
       "      <td>Glyma.07G198900.2.p</td>\n",
       "      <td>MGRIMEKPSQDLLQQQQQALKCPRCDSSNTKFCYYNNYSLSQPRHF...</td>\n",
       "      <td>316</td>\n",
       "      <td>Dof</td>\n",
       "    </tr>\n",
       "    <tr>\n",
       "      <th>...</th>\n",
       "      <td>...</td>\n",
       "      <td>...</td>\n",
       "      <td>...</td>\n",
       "      <td>...</td>\n",
       "    </tr>\n",
       "    <tr>\n",
       "      <th>2941</th>\n",
       "      <td>XP_010089192.1</td>\n",
       "      <td>MSENNDKYNISENGNNMDQGIKLFGRTIPLYGVQISSAKSEAYHFP...</td>\n",
       "      <td>496</td>\n",
       "      <td>Dof</td>\n",
       "    </tr>\n",
       "    <tr>\n",
       "      <th>2212</th>\n",
       "      <td>Gh_Sca034539G01</td>\n",
       "      <td>MASHEGQGIKLFGATITLHAGRQVKEEHKEDDHSKADKRPDKIIPC...</td>\n",
       "      <td>88</td>\n",
       "      <td>Dof</td>\n",
       "    </tr>\n",
       "    <tr>\n",
       "      <th>4549</th>\n",
       "      <td>429122</td>\n",
       "      <td>MARASKRSREDDGIMVPTKKRRLRSERACKLTAQEVRDQNLYGVWE...</td>\n",
       "      <td>238</td>\n",
       "      <td>Dof</td>\n",
       "    </tr>\n",
       "    <tr>\n",
       "      <th>2548</th>\n",
       "      <td>Kalax.0150s0052.1.p</td>\n",
       "      <td>MWESPTPSILSGESSCNLLDWQRSSGGVSSCGDWGTNEEQKSDAAR...</td>\n",
       "      <td>282</td>\n",
       "      <td>Dof</td>\n",
       "    </tr>\n",
       "    <tr>\n",
       "      <th>2253</th>\n",
       "      <td>Gorai.008G256800.1</td>\n",
       "      <td>MDTAQWPQEIVVKPIEEIVTNTCPKPTGLERKIRPQKEQALNCPRC...</td>\n",
       "      <td>291</td>\n",
       "      <td>Dof</td>\n",
       "    </tr>\n",
       "  </tbody>\n",
       "</table>\n",
       "<p>1131 rows × 4 columns</p>\n",
       "</div>"
      ],
      "text/plain": [
       "                          id  \\\n",
       "4623      Seita.9G079700.1.p   \n",
       "198     Araha.30146s0002.1.p   \n",
       "4486  SapurV1A.6879s0010.3.p   \n",
       "2939          XP_010088375.1   \n",
       "1910     Glyma.07G198900.2.p   \n",
       "...                      ...   \n",
       "2941          XP_010089192.1   \n",
       "2212         Gh_Sca034539G01   \n",
       "4549                  429122   \n",
       "2548     Kalax.0150s0052.1.p   \n",
       "2253      Gorai.008G256800.1   \n",
       "\n",
       "                                               sequence  length class  \n",
       "4623  MACPFSSPSSNFFISHTPVPLPHPTTHPLIHTTKQEPESNHTTPPL...     443   Dof  \n",
       "198   MVFSSVSSFLDPPINWPQSANSNNHPNHPHHHQLQENGGLVSGHHQ...     342   Dof  \n",
       "4486  MVFSSAPFYLDPPNWQQQQPGQQPGASNETPQLPPLPPPAHVGGGG...     295   Dof  \n",
       "2939  MQDPATFQPMKAHFPEQEQLKCPRCESTNTKFCYYNNYNLSQPRHF...     193   Dof  \n",
       "1910  MGRIMEKPSQDLLQQQQQALKCPRCDSSNTKFCYYNNYSLSQPRHF...     316   Dof  \n",
       "...                                                 ...     ...   ...  \n",
       "2941  MSENNDKYNISENGNNMDQGIKLFGRTIPLYGVQISSAKSEAYHFP...     496   Dof  \n",
       "2212  MASHEGQGIKLFGATITLHAGRQVKEEHKEDDHSKADKRPDKIIPC...      88   Dof  \n",
       "4549  MARASKRSREDDGIMVPTKKRRLRSERACKLTAQEVRDQNLYGVWE...     238   Dof  \n",
       "2548  MWESPTPSILSGESSCNLLDWQRSSGGVSSCGDWGTNEEQKSDAAR...     282   Dof  \n",
       "2253  MDTAQWPQEIVVKPIEEIVTNTCPKPTGLERKIRPQKEQALNCPRC...     291   Dof  \n",
       "\n",
       "[1131 rows x 4 columns]"
      ]
     },
     "execution_count": 5,
     "metadata": {},
     "output_type": "execute_result"
    }
   ],
   "source": [
    "testset_positive = testset[testset['class'] == 1]\n",
    "testset_positive.loc[:, 'class'] = gene_familly\n",
    "testset_positive"
   ]
  },
  {
   "cell_type": "code",
   "execution_count": 6,
   "id": "25a9ad39-47e0-4b0a-9669-c9ed5c6cafa3",
   "metadata": {
    "execution": {
     "iopub.execute_input": "2024-07-03T23:16:09.676969Z",
     "iopub.status.busy": "2024-07-03T23:16:09.676848Z",
     "iopub.status.idle": "2024-07-03T23:16:09.687776Z",
     "shell.execute_reply": "2024-07-03T23:16:09.687519Z"
    },
    "papermill": {
     "duration": 0.013477,
     "end_time": "2024-07-03T23:16:09.688781",
     "exception": false,
     "start_time": "2024-07-03T23:16:09.675304",
     "status": "completed"
    },
    "tags": []
   },
   "outputs": [],
   "source": [
    "testset_positive.to_csv(\"../data/testset/\"+gene_dict['file_code']+\".csv\")"
   ]
  },
  {
   "cell_type": "code",
   "execution_count": null,
   "id": "4107c4c5-3c5d-44f9-af27-5b81b6d102e5",
   "metadata": {
    "papermill": {
     "duration": 0.001091,
     "end_time": "2024-07-03T23:16:09.691090",
     "exception": false,
     "start_time": "2024-07-03T23:16:09.689999",
     "status": "completed"
    },
    "tags": []
   },
   "outputs": [],
   "source": []
  }
 ],
 "metadata": {
  "kernelspec": {
   "display_name": "Python 3 (ipykernel)",
   "language": "python",
   "name": "python3"
  },
  "language_info": {
   "codemirror_mode": {
    "name": "ipython",
    "version": 3
   },
   "file_extension": ".py",
   "mimetype": "text/x-python",
   "name": "python",
   "nbconvert_exporter": "python",
   "pygments_lexer": "ipython3",
   "version": "3.11.7"
  },
  "papermill": {
   "default_parameters": {},
   "duration": 1.889528,
   "end_time": "2024-07-03T23:16:10.010068",
   "environment_variables": {},
   "exception": null,
   "input_path": "05-extract_testset.ipynb",
   "output_path": "AutoSave/TestGen/05-extract_testset-Dof.ipynb",
   "parameters": {
    "gene_familly": "Dof"
   },
   "start_time": "2024-07-03T23:16:08.120540",
   "version": "2.6.0"
  }
 },
 "nbformat": 4,
 "nbformat_minor": 5
}