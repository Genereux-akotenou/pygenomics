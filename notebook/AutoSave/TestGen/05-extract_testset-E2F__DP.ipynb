{
 "cells": [
  {
   "cell_type": "code",
   "execution_count": 1,
   "id": "2ddb4302",
   "metadata": {
    "execution": {
     "iopub.execute_input": "2024-07-03T23:16:10.704222Z",
     "iopub.status.busy": "2024-07-03T23:16:10.703377Z",
     "iopub.status.idle": "2024-07-03T23:16:10.716986Z",
     "shell.execute_reply": "2024-07-03T23:16:10.716300Z"
    },
    "papermill": {
     "duration": 0.027036,
     "end_time": "2024-07-03T23:16:10.718783",
     "exception": false,
     "start_time": "2024-07-03T23:16:10.691747",
     "status": "completed"
    },
    "tags": [
     "injected-parameters"
    ]
   },
   "outputs": [],
   "source": [
    "# Parameters\n",
    "gene_familly = \"E2F/DP\"\n"
   ]
  },
  {
   "cell_type": "code",
   "execution_count": 2,
   "id": "e7cdbe25-11a6-48da-abd4-9ae5eee27bfe",
   "metadata": {
    "execution": {
     "iopub.execute_input": "2024-07-03T23:16:10.726723Z",
     "iopub.status.busy": "2024-07-03T23:16:10.726452Z",
     "iopub.status.idle": "2024-07-03T23:16:11.406669Z",
     "shell.execute_reply": "2024-07-03T23:16:11.406164Z"
    },
    "papermill": {
     "duration": 0.686491,
     "end_time": "2024-07-03T23:16:11.408255",
     "exception": false,
     "start_time": "2024-07-03T23:16:10.721764",
     "status": "completed"
    },
    "tags": []
   },
   "outputs": [],
   "source": [
    "import json\n",
    "import pandas as pd\n",
    "from sklearn.model_selection import train_test_split"
   ]
  },
  {
   "cell_type": "code",
   "execution_count": 3,
   "id": "6e20f340-8cbc-46f2-be83-6f1c4523930a",
   "metadata": {
    "execution": {
     "iopub.execute_input": "2024-07-03T23:16:11.411741Z",
     "iopub.status.busy": "2024-07-03T23:16:11.411502Z",
     "iopub.status.idle": "2024-07-03T23:16:11.441127Z",
     "shell.execute_reply": "2024-07-03T23:16:11.440744Z"
    },
    "papermill": {
     "duration": 0.03246,
     "end_time": "2024-07-03T23:16:11.442193",
     "exception": false,
     "start_time": "2024-07-03T23:16:11.409733",
     "status": "completed"
    },
    "tags": []
   },
   "outputs": [
    {
     "data": {
      "text/html": [
       "<div>\n",
       "<style scoped>\n",
       "    .dataframe tbody tr th:only-of-type {\n",
       "        vertical-align: middle;\n",
       "    }\n",
       "\n",
       "    .dataframe tbody tr th {\n",
       "        vertical-align: top;\n",
       "    }\n",
       "\n",
       "    .dataframe thead th {\n",
       "        text-align: right;\n",
       "    }\n",
       "</style>\n",
       "<table border=\"1\" class=\"dataframe\">\n",
       "  <thead>\n",
       "    <tr style=\"text-align: right;\">\n",
       "      <th></th>\n",
       "      <th>id</th>\n",
       "      <th>sequence</th>\n",
       "      <th>length</th>\n",
       "      <th>class</th>\n",
       "    </tr>\n",
       "  </thead>\n",
       "  <tbody>\n",
       "    <tr>\n",
       "      <th>0</th>\n",
       "      <td>Achn073211</td>\n",
       "      <td>MAKMQLKRKSGTKYNEVGPSDWTSSPGCTDMANSPLRTPVSGKGGR...</td>\n",
       "      <td>363</td>\n",
       "      <td>1</td>\n",
       "    </tr>\n",
       "    <tr>\n",
       "      <th>1</th>\n",
       "      <td>Achn095861</td>\n",
       "      <td>MSLNKNLEDDSNQNHRVTWEGCSVLLDVNDGDRLVFARLTAASNLS...</td>\n",
       "      <td>761</td>\n",
       "      <td>1</td>\n",
       "    </tr>\n",
       "    <tr>\n",
       "      <th>2</th>\n",
       "      <td>Achn137321</td>\n",
       "      <td>MIAILRHLKAREVADELVAEFADSSNNLTSLDQPQYEEKNIRRRVY...</td>\n",
       "      <td>196</td>\n",
       "      <td>1</td>\n",
       "    </tr>\n",
       "    <tr>\n",
       "      <th>3</th>\n",
       "      <td>Achn142181</td>\n",
       "      <td>MLTLVKGPGLLIFSMRVFSLLVIYQPLKRKSEKTEFEAESSECNPS...</td>\n",
       "      <td>404</td>\n",
       "      <td>1</td>\n",
       "    </tr>\n",
       "    <tr>\n",
       "      <th>4</th>\n",
       "      <td>Achn186551</td>\n",
       "      <td>MSQNKNLEEDANQNPRVTWEGCSVLLDVNDGDRLVFARLTPASSLA...</td>\n",
       "      <td>531</td>\n",
       "      <td>1</td>\n",
       "    </tr>\n",
       "  </tbody>\n",
       "</table>\n",
       "</div>"
      ],
      "text/plain": [
       "           id                                           sequence  length  \\\n",
       "0  Achn073211  MAKMQLKRKSGTKYNEVGPSDWTSSPGCTDMANSPLRTPVSGKGGR...     363   \n",
       "1  Achn095861  MSLNKNLEDDSNQNHRVTWEGCSVLLDVNDGDRLVFARLTAASNLS...     761   \n",
       "2  Achn137321  MIAILRHLKAREVADELVAEFADSSNNLTSLDQPQYEEKNIRRRVY...     196   \n",
       "3  Achn142181  MLTLVKGPGLLIFSMRVFSLLVIYQPLKRKSEKTEFEAESSECNPS...     404   \n",
       "4  Achn186551  MSQNKNLEEDANQNPRVTWEGCSVLLDVNDGDRLVFARLTPASSLA...     531   \n",
       "\n",
       "   class  \n",
       "0      1  \n",
       "1      1  \n",
       "2      1  \n",
       "3      1  \n",
       "4      1  "
      ]
     },
     "execution_count": 3,
     "metadata": {},
     "output_type": "execute_result"
    }
   ],
   "source": [
    "# READ GENE_INFO JSON FILE\n",
    "gene_info_path = \"../data/gene_info.json\"\n",
    "dataset_path   = \"../data/one_vs_other/\"\n",
    "with open(gene_info_path, 'r') as json_file:\n",
    "    gene_info = json.load(json_file)\n",
    "\n",
    "# FOCUS ON GENE FAMILLY\n",
    "gene_dict = gene_info[gene_familly]\n",
    "df_path = dataset_path+gene_dict['file_code']+\".csv\"\n",
    "\n",
    "# LOAD WHOLE DATASET\n",
    "USE_FULL_DF = True\n",
    "if USE_FULL_DF:\n",
    "    dataset = pd.read_csv(df_path)\n",
    "else:\n",
    "    dataset_ = pd.read_csv(df_path)\n",
    "    r = min(5000/len(dataset_), 1)\n",
    "    _, dataset = train_test_split(dataset_, test_size=r, stratify=dataset_['class'], random_state=42)\n",
    "dataset.head()"
   ]
  },
  {
   "cell_type": "code",
   "execution_count": 4,
   "id": "745dff8f-540b-4299-a3f0-dabda69bd837",
   "metadata": {
    "execution": {
     "iopub.execute_input": "2024-07-03T23:16:11.445331Z",
     "iopub.status.busy": "2024-07-03T23:16:11.445190Z",
     "iopub.status.idle": "2024-07-03T23:16:11.449615Z",
     "shell.execute_reply": "2024-07-03T23:16:11.449330Z"
    },
    "papermill": {
     "duration": 0.007159,
     "end_time": "2024-07-03T23:16:11.450616",
     "exception": false,
     "start_time": "2024-07-03T23:16:11.443457",
     "status": "completed"
    },
    "tags": []
   },
   "outputs": [],
   "source": [
    "trainset, testset = train_test_split(dataset, test_size=0.2, stratify=dataset['class'], random_state=42)"
   ]
  },
  {
   "cell_type": "code",
   "execution_count": 5,
   "id": "a9b8b47d-48c6-4e94-a378-574904e308ee",
   "metadata": {
    "execution": {
     "iopub.execute_input": "2024-07-03T23:16:11.453364Z",
     "iopub.status.busy": "2024-07-03T23:16:11.453140Z",
     "iopub.status.idle": "2024-07-03T23:16:11.459440Z",
     "shell.execute_reply": "2024-07-03T23:16:11.459065Z"
    },
    "papermill": {
     "duration": 0.008685,
     "end_time": "2024-07-03T23:16:11.460419",
     "exception": false,
     "start_time": "2024-07-03T23:16:11.451734",
     "status": "completed"
    },
    "tags": []
   },
   "outputs": [
    {
     "name": "stderr",
     "output_type": "stream",
     "text": [
      "/var/folders/w8/b_cflrn97k9c15rcrn5t8mmr0000gn/T/ipykernel_2484/3395039238.py:2: FutureWarning: Setting an item of incompatible dtype is deprecated and will raise in a future error of pandas. Value 'E2F/DP' has dtype incompatible with int64, please explicitly cast to a compatible dtype first.\n",
      "  testset_positive.loc[:, 'class'] = gene_familly\n"
     ]
    },
    {
     "data": {
      "text/html": [
       "<div>\n",
       "<style scoped>\n",
       "    .dataframe tbody tr th:only-of-type {\n",
       "        vertical-align: middle;\n",
       "    }\n",
       "\n",
       "    .dataframe tbody tr th {\n",
       "        vertical-align: top;\n",
       "    }\n",
       "\n",
       "    .dataframe thead th {\n",
       "        text-align: right;\n",
       "    }\n",
       "</style>\n",
       "<table border=\"1\" class=\"dataframe\">\n",
       "  <thead>\n",
       "    <tr style=\"text-align: right;\">\n",
       "      <th></th>\n",
       "      <th>id</th>\n",
       "      <th>sequence</th>\n",
       "      <th>length</th>\n",
       "      <th>class</th>\n",
       "    </tr>\n",
       "  </thead>\n",
       "  <tbody>\n",
       "    <tr>\n",
       "      <th>1069</th>\n",
       "      <td>ONIVA06G10700.1</td>\n",
       "      <td>MPAAADAPPPPPEVAPPAPAPAPAPAPYQPPRLAVADGAGGGGGGG...</td>\n",
       "      <td>425</td>\n",
       "      <td>E2F/DP</td>\n",
       "    </tr>\n",
       "    <tr>\n",
       "      <th>1763</th>\n",
       "      <td>Zjn_sc00003.1.g12120.1.sm.mkhc</td>\n",
       "      <td>MVSGSPSSRSEQHAPDGAGKGPAVAAPGPSASASTPVSESTFLRLN...</td>\n",
       "      <td>238</td>\n",
       "      <td>E2F/DP</td>\n",
       "    </tr>\n",
       "    <tr>\n",
       "      <th>312</th>\n",
       "      <td>PK10965.1</td>\n",
       "      <td>MSNSAQDPTSSHGLHHHLQFQLPHPHSHYSSAFSSPTNPQFFHSFP...</td>\n",
       "      <td>450</td>\n",
       "      <td>E2F/DP</td>\n",
       "    </tr>\n",
       "    <tr>\n",
       "      <th>304</th>\n",
       "      <td>PK00080.1</td>\n",
       "      <td>MAAPPPTVTGGDSSKHHAYSRKQKSLGLLCSNFLCLYNRDGITSIG...</td>\n",
       "      <td>386</td>\n",
       "      <td>E2F/DP</td>\n",
       "    </tr>\n",
       "    <tr>\n",
       "      <th>1026</th>\n",
       "      <td>OGLUM03G03940.2</td>\n",
       "      <td>MRPPGTALGFGLISGAGSRRVTEPKPPNFISKKKKRKRKKQKRKEE...</td>\n",
       "      <td>354</td>\n",
       "      <td>E2F/DP</td>\n",
       "    </tr>\n",
       "    <tr>\n",
       "      <th>...</th>\n",
       "      <td>...</td>\n",
       "      <td>...</td>\n",
       "      <td>...</td>\n",
       "      <td>...</td>\n",
       "    </tr>\n",
       "    <tr>\n",
       "      <th>197</th>\n",
       "      <td>Brast09G075600.5.p</td>\n",
       "      <td>MVELHAPLCFAGSPGNPLTPAGSCRYDNSLGLLTRKFINLLKQAED...</td>\n",
       "      <td>336</td>\n",
       "      <td>E2F/DP</td>\n",
       "    </tr>\n",
       "    <tr>\n",
       "      <th>294</th>\n",
       "      <td>Csa14g051780.1</td>\n",
       "      <td>MAATSNSGEDPTLSYHHHHHHHRSPFRFELLQSISSSDPRYSSLTP...</td>\n",
       "      <td>400</td>\n",
       "      <td>E2F/DP</td>\n",
       "    </tr>\n",
       "    <tr>\n",
       "      <th>115</th>\n",
       "      <td>Araip.Y1XVN</td>\n",
       "      <td>MSGGAGPPPPRTKPDDSGVPIRPPLKRNLAFALMKPLFAQPDEYHS...</td>\n",
       "      <td>471</td>\n",
       "      <td>E2F/DP</td>\n",
       "    </tr>\n",
       "    <tr>\n",
       "      <th>333</th>\n",
       "      <td>CA00g07140</td>\n",
       "      <td>MTASFVTNEDYHRFCTPWVVDSSRIDSLQPDAIVVKSPALFVAHED...</td>\n",
       "      <td>475</td>\n",
       "      <td>E2F/DP</td>\n",
       "    </tr>\n",
       "    <tr>\n",
       "      <th>1246</th>\n",
       "      <td>Pp3c19_18240V3.1.p</td>\n",
       "      <td>MDSPSSTKQPRRSPLQRRGLANGDRMLPVTPNTRNDVNTARERVSH...</td>\n",
       "      <td>666</td>\n",
       "      <td>E2F/DP</td>\n",
       "    </tr>\n",
       "  </tbody>\n",
       "</table>\n",
       "<p>357 rows × 4 columns</p>\n",
       "</div>"
      ],
      "text/plain": [
       "                                  id  \\\n",
       "1069                 ONIVA06G10700.1   \n",
       "1763  Zjn_sc00003.1.g12120.1.sm.mkhc   \n",
       "312                        PK10965.1   \n",
       "304                        PK00080.1   \n",
       "1026                 OGLUM03G03940.2   \n",
       "...                              ...   \n",
       "197               Brast09G075600.5.p   \n",
       "294                   Csa14g051780.1   \n",
       "115                      Araip.Y1XVN   \n",
       "333                       CA00g07140   \n",
       "1246              Pp3c19_18240V3.1.p   \n",
       "\n",
       "                                               sequence  length   class  \n",
       "1069  MPAAADAPPPPPEVAPPAPAPAPAPAPYQPPRLAVADGAGGGGGGG...     425  E2F/DP  \n",
       "1763  MVSGSPSSRSEQHAPDGAGKGPAVAAPGPSASASTPVSESTFLRLN...     238  E2F/DP  \n",
       "312   MSNSAQDPTSSHGLHHHLQFQLPHPHSHYSSAFSSPTNPQFFHSFP...     450  E2F/DP  \n",
       "304   MAAPPPTVTGGDSSKHHAYSRKQKSLGLLCSNFLCLYNRDGITSIG...     386  E2F/DP  \n",
       "1026  MRPPGTALGFGLISGAGSRRVTEPKPPNFISKKKKRKRKKQKRKEE...     354  E2F/DP  \n",
       "...                                                 ...     ...     ...  \n",
       "197   MVELHAPLCFAGSPGNPLTPAGSCRYDNSLGLLTRKFINLLKQAED...     336  E2F/DP  \n",
       "294   MAATSNSGEDPTLSYHHHHHHHRSPFRFELLQSISSSDPRYSSLTP...     400  E2F/DP  \n",
       "115   MSGGAGPPPPRTKPDDSGVPIRPPLKRNLAFALMKPLFAQPDEYHS...     471  E2F/DP  \n",
       "333   MTASFVTNEDYHRFCTPWVVDSSRIDSLQPDAIVVKSPALFVAHED...     475  E2F/DP  \n",
       "1246  MDSPSSTKQPRRSPLQRRGLANGDRMLPVTPNTRNDVNTARERVSH...     666  E2F/DP  \n",
       "\n",
       "[357 rows x 4 columns]"
      ]
     },
     "execution_count": 5,
     "metadata": {},
     "output_type": "execute_result"
    }
   ],
   "source": [
    "testset_positive = testset[testset['class'] == 1]\n",
    "testset_positive.loc[:, 'class'] = gene_familly\n",
    "testset_positive"
   ]
  },
  {
   "cell_type": "code",
   "execution_count": 6,
   "id": "25a9ad39-47e0-4b0a-9669-c9ed5c6cafa3",
   "metadata": {
    "execution": {
     "iopub.execute_input": "2024-07-03T23:16:11.463333Z",
     "iopub.status.busy": "2024-07-03T23:16:11.463211Z",
     "iopub.status.idle": "2024-07-03T23:16:11.469311Z",
     "shell.execute_reply": "2024-07-03T23:16:11.468961Z"
    },
    "papermill": {
     "duration": 0.008539,
     "end_time": "2024-07-03T23:16:11.470252",
     "exception": false,
     "start_time": "2024-07-03T23:16:11.461713",
     "status": "completed"
    },
    "tags": []
   },
   "outputs": [],
   "source": [
    "testset_positive.to_csv(\"../data/testset/\"+gene_dict['file_code']+\".csv\")"
   ]
  },
  {
   "cell_type": "code",
   "execution_count": null,
   "id": "4107c4c5-3c5d-44f9-af27-5b81b6d102e5",
   "metadata": {
    "papermill": {
     "duration": 0.001189,
     "end_time": "2024-07-03T23:16:11.472672",
     "exception": false,
     "start_time": "2024-07-03T23:16:11.471483",
     "status": "completed"
    },
    "tags": []
   },
   "outputs": [],
   "source": []
  }
 ],
 "metadata": {
  "kernelspec": {
   "display_name": "Python 3 (ipykernel)",
   "language": "python",
   "name": "python3"
  },
  "language_info": {
   "codemirror_mode": {
    "name": "ipython",
    "version": 3
   },
   "file_extension": ".py",
   "mimetype": "text/x-python",
   "name": "python",
   "nbconvert_exporter": "python",
   "pygments_lexer": "ipython3",
   "version": "3.11.7"
  },
  "papermill": {
   "default_parameters": {},
   "duration": 1.775275,
   "end_time": "2024-07-03T23:16:11.790447",
   "environment_variables": {},
   "exception": null,
   "input_path": "05-extract_testset.ipynb",
   "output_path": "AutoSave/TestGen/05-extract_testset-E2F__DP.ipynb",
   "parameters": {
    "gene_familly": "E2F/DP"
   },
   "start_time": "2024-07-03T23:16:10.015172",
   "version": "2.6.0"
  }
 },
 "nbformat": 4,
 "nbformat_minor": 5
}