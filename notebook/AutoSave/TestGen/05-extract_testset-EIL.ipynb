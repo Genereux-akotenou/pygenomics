{
 "cells": [
  {
   "cell_type": "code",
   "execution_count": 1,
   "id": "9fc2177c",
   "metadata": {
    "execution": {
     "iopub.execute_input": "2024-07-03T23:16:12.612692Z",
     "iopub.status.busy": "2024-07-03T23:16:12.611988Z",
     "iopub.status.idle": "2024-07-03T23:16:12.624732Z",
     "shell.execute_reply": "2024-07-03T23:16:12.624019Z"
    },
    "papermill": {
     "duration": 0.024645,
     "end_time": "2024-07-03T23:16:12.626812",
     "exception": false,
     "start_time": "2024-07-03T23:16:12.602167",
     "status": "completed"
    },
    "tags": [
     "injected-parameters"
    ]
   },
   "outputs": [],
   "source": [
    "# Parameters\n",
    "gene_familly = \"EIL\"\n"
   ]
  },
  {
   "cell_type": "code",
   "execution_count": 2,
   "id": "e7cdbe25-11a6-48da-abd4-9ae5eee27bfe",
   "metadata": {
    "execution": {
     "iopub.execute_input": "2024-07-03T23:16:12.631795Z",
     "iopub.status.busy": "2024-07-03T23:16:12.631586Z",
     "iopub.status.idle": "2024-07-03T23:16:13.287464Z",
     "shell.execute_reply": "2024-07-03T23:16:13.286965Z"
    },
    "papermill": {
     "duration": 0.66,
     "end_time": "2024-07-03T23:16:13.289314",
     "exception": false,
     "start_time": "2024-07-03T23:16:12.629314",
     "status": "completed"
    },
    "tags": []
   },
   "outputs": [],
   "source": [
    "import json\n",
    "import pandas as pd\n",
    "from sklearn.model_selection import train_test_split"
   ]
  },
  {
   "cell_type": "code",
   "execution_count": 3,
   "id": "6e20f340-8cbc-46f2-be83-6f1c4523930a",
   "metadata": {
    "execution": {
     "iopub.execute_input": "2024-07-03T23:16:13.292866Z",
     "iopub.status.busy": "2024-07-03T23:16:13.292621Z",
     "iopub.status.idle": "2024-07-03T23:16:13.316447Z",
     "shell.execute_reply": "2024-07-03T23:16:13.316105Z"
    },
    "papermill": {
     "duration": 0.02651,
     "end_time": "2024-07-03T23:16:13.317455",
     "exception": false,
     "start_time": "2024-07-03T23:16:13.290945",
     "status": "completed"
    },
    "tags": []
   },
   "outputs": [
    {
     "data": {
      "text/html": [
       "<div>\n",
       "<style scoped>\n",
       "    .dataframe tbody tr th:only-of-type {\n",
       "        vertical-align: middle;\n",
       "    }\n",
       "\n",
       "    .dataframe tbody tr th {\n",
       "        vertical-align: top;\n",
       "    }\n",
       "\n",
       "    .dataframe thead th {\n",
       "        text-align: right;\n",
       "    }\n",
       "</style>\n",
       "<table border=\"1\" class=\"dataframe\">\n",
       "  <thead>\n",
       "    <tr style=\"text-align: right;\">\n",
       "      <th></th>\n",
       "      <th>id</th>\n",
       "      <th>sequence</th>\n",
       "      <th>length</th>\n",
       "      <th>class</th>\n",
       "    </tr>\n",
       "  </thead>\n",
       "  <tbody>\n",
       "    <tr>\n",
       "      <th>0</th>\n",
       "      <td>Achn017871</td>\n",
       "      <td>MSNRMMMFDEMGFCGDLDFLSAPLGDGDVTASQTEPEAVVDDDYSD...</td>\n",
       "      <td>627</td>\n",
       "      <td>1</td>\n",
       "    </tr>\n",
       "    <tr>\n",
       "      <th>1</th>\n",
       "      <td>Achn018171</td>\n",
       "      <td>MDANGLDDNSDIEVDEIRCGNIVERDVSDEEIEAEDLERRMWKDRI...</td>\n",
       "      <td>638</td>\n",
       "      <td>1</td>\n",
       "    </tr>\n",
       "    <tr>\n",
       "      <th>2</th>\n",
       "      <td>Achn018431</td>\n",
       "      <td>MIMFDEMGFCGDLDFFSAPLGEGDMAAPQTEPEVVMDDDYSDEEID...</td>\n",
       "      <td>619</td>\n",
       "      <td>1</td>\n",
       "    </tr>\n",
       "    <tr>\n",
       "      <th>3</th>\n",
       "      <td>Achn123771</td>\n",
       "      <td>MGVMEEIGVDISSDIEVDEIRCENIAEKDVSDEEIEAEDLERRMWK...</td>\n",
       "      <td>608</td>\n",
       "      <td>1</td>\n",
       "    </tr>\n",
       "    <tr>\n",
       "      <th>4</th>\n",
       "      <td>Achn171621</td>\n",
       "      <td>MIELCEELNDPPSSDDEDDKLGYDELKKRIWKDRVRLQKLKAKHEA...</td>\n",
       "      <td>492</td>\n",
       "      <td>1</td>\n",
       "    </tr>\n",
       "  </tbody>\n",
       "</table>\n",
       "</div>"
      ],
      "text/plain": [
       "           id                                           sequence  length  \\\n",
       "0  Achn017871  MSNRMMMFDEMGFCGDLDFLSAPLGDGDVTASQTEPEAVVDDDYSD...     627   \n",
       "1  Achn018171  MDANGLDDNSDIEVDEIRCGNIVERDVSDEEIEAEDLERRMWKDRI...     638   \n",
       "2  Achn018431  MIMFDEMGFCGDLDFFSAPLGEGDMAAPQTEPEVVMDDDYSDEEID...     619   \n",
       "3  Achn123771  MGVMEEIGVDISSDIEVDEIRCENIAEKDVSDEEIEAEDLERRMWK...     608   \n",
       "4  Achn171621  MIELCEELNDPPSSDDEDDKLGYDELKKRIWKDRVRLQKLKAKHEA...     492   \n",
       "\n",
       "   class  \n",
       "0      1  \n",
       "1      1  \n",
       "2      1  \n",
       "3      1  \n",
       "4      1  "
      ]
     },
     "execution_count": 3,
     "metadata": {},
     "output_type": "execute_result"
    }
   ],
   "source": [
    "# READ GENE_INFO JSON FILE\n",
    "gene_info_path = \"../data/gene_info.json\"\n",
    "dataset_path   = \"../data/one_vs_other/\"\n",
    "with open(gene_info_path, 'r') as json_file:\n",
    "    gene_info = json.load(json_file)\n",
    "\n",
    "# FOCUS ON GENE FAMILLY\n",
    "gene_dict = gene_info[gene_familly]\n",
    "df_path = dataset_path+gene_dict['file_code']+\".csv\"\n",
    "\n",
    "# LOAD WHOLE DATASET\n",
    "USE_FULL_DF = True\n",
    "if USE_FULL_DF:\n",
    "    dataset = pd.read_csv(df_path)\n",
    "else:\n",
    "    dataset_ = pd.read_csv(df_path)\n",
    "    r = min(5000/len(dataset_), 1)\n",
    "    _, dataset = train_test_split(dataset_, test_size=r, stratify=dataset_['class'], random_state=42)\n",
    "dataset.head()"
   ]
  },
  {
   "cell_type": "code",
   "execution_count": 4,
   "id": "745dff8f-540b-4299-a3f0-dabda69bd837",
   "metadata": {
    "execution": {
     "iopub.execute_input": "2024-07-03T23:16:13.320283Z",
     "iopub.status.busy": "2024-07-03T23:16:13.320145Z",
     "iopub.status.idle": "2024-07-03T23:16:13.324506Z",
     "shell.execute_reply": "2024-07-03T23:16:13.324227Z"
    },
    "papermill": {
     "duration": 0.006887,
     "end_time": "2024-07-03T23:16:13.325520",
     "exception": false,
     "start_time": "2024-07-03T23:16:13.318633",
     "status": "completed"
    },
    "tags": []
   },
   "outputs": [],
   "source": [
    "trainset, testset = train_test_split(dataset, test_size=0.2, stratify=dataset['class'], random_state=42)"
   ]
  },
  {
   "cell_type": "code",
   "execution_count": 5,
   "id": "a9b8b47d-48c6-4e94-a378-574904e308ee",
   "metadata": {
    "execution": {
     "iopub.execute_input": "2024-07-03T23:16:13.328134Z",
     "iopub.status.busy": "2024-07-03T23:16:13.328012Z",
     "iopub.status.idle": "2024-07-03T23:16:13.333916Z",
     "shell.execute_reply": "2024-07-03T23:16:13.333629Z"
    },
    "papermill": {
     "duration": 0.008245,
     "end_time": "2024-07-03T23:16:13.334822",
     "exception": false,
     "start_time": "2024-07-03T23:16:13.326577",
     "status": "completed"
    },
    "tags": []
   },
   "outputs": [
    {
     "name": "stderr",
     "output_type": "stream",
     "text": [
      "/var/folders/w8/b_cflrn97k9c15rcrn5t8mmr0000gn/T/ipykernel_2490/3395039238.py:2: FutureWarning: Setting an item of incompatible dtype is deprecated and will raise in a future error of pandas. Value 'EIL' has dtype incompatible with int64, please explicitly cast to a compatible dtype first.\n",
      "  testset_positive.loc[:, 'class'] = gene_familly\n"
     ]
    },
    {
     "data": {
      "text/html": [
       "<div>\n",
       "<style scoped>\n",
       "    .dataframe tbody tr th:only-of-type {\n",
       "        vertical-align: middle;\n",
       "    }\n",
       "\n",
       "    .dataframe tbody tr th {\n",
       "        vertical-align: top;\n",
       "    }\n",
       "\n",
       "    .dataframe thead th {\n",
       "        text-align: right;\n",
       "    }\n",
       "</style>\n",
       "<table border=\"1\" class=\"dataframe\">\n",
       "  <thead>\n",
       "    <tr style=\"text-align: right;\">\n",
       "      <th></th>\n",
       "      <th>id</th>\n",
       "      <th>sequence</th>\n",
       "      <th>length</th>\n",
       "      <th>class</th>\n",
       "    </tr>\n",
       "  </thead>\n",
       "  <tbody>\n",
       "    <tr>\n",
       "      <th>343</th>\n",
       "      <td>Thhalv10001938m</td>\n",
       "      <td>MMMFNEMGMYGKMDFFSSTSLGEIDVCPLPQAEQDHPVVEEDYTDD...</td>\n",
       "      <td>582</td>\n",
       "      <td>EIL</td>\n",
       "    </tr>\n",
       "    <tr>\n",
       "      <th>1108</th>\n",
       "      <td>Tp1g37880</td>\n",
       "      <td>MGVFFSDPDSIAEDDGYTDNELDVDELEKRIWKQEMRLRRLKEHRK...</td>\n",
       "      <td>211</td>\n",
       "      <td>EIL</td>\n",
       "    </tr>\n",
       "    <tr>\n",
       "      <th>904</th>\n",
       "      <td>Pbr004574.1</td>\n",
       "      <td>MGDVGEIGPDISSDIEEDLRCDNIAEKDVSDEEIEAEDLERRMWKD...</td>\n",
       "      <td>608</td>\n",
       "      <td>EIL</td>\n",
       "    </tr>\n",
       "    <tr>\n",
       "      <th>1022</th>\n",
       "      <td>Sme2.5_02278.1_g00005.1</td>\n",
       "      <td>MNNEVVEENQEFDDEEINYDDLKRRMWKDRMRMQILKGKKRDMMIE...</td>\n",
       "      <td>494</td>\n",
       "      <td>EIL</td>\n",
       "    </tr>\n",
       "    <tr>\n",
       "      <th>743</th>\n",
       "      <td>ONIVA11G15950.1</td>\n",
       "      <td>MDASKKSVMTKEEQQLSPAASPAAAVMTAEADAINEEQDKAAAATT...</td>\n",
       "      <td>466</td>\n",
       "      <td>EIL</td>\n",
       "    </tr>\n",
       "    <tr>\n",
       "      <th>...</th>\n",
       "      <td>...</td>\n",
       "      <td>...</td>\n",
       "      <td>...</td>\n",
       "      <td>...</td>\n",
       "    </tr>\n",
       "    <tr>\n",
       "      <th>60</th>\n",
       "      <td>Aradu.U3SNU</td>\n",
       "      <td>MMMFDDMGFCGDLDVLCGPLGESDMTARQTEPDAVVEDDYSDEEID...</td>\n",
       "      <td>622</td>\n",
       "      <td>EIL</td>\n",
       "    </tr>\n",
       "    <tr>\n",
       "      <th>818</th>\n",
       "      <td>Peinf101Scf02706g01012.1</td>\n",
       "      <td>MEYCMIDADELGNSSDIEVDDIRCENIEDKDVSDEEIEPEELERRM...</td>\n",
       "      <td>532</td>\n",
       "      <td>EIL</td>\n",
       "    </tr>\n",
       "    <tr>\n",
       "      <th>523</th>\n",
       "      <td>kfl00801_0040</td>\n",
       "      <td>MAQGQDVKRRASTLEGEWLKSLAANVGEQCGEQSTVDIADMLDASL...</td>\n",
       "      <td>718</td>\n",
       "      <td>EIL</td>\n",
       "    </tr>\n",
       "    <tr>\n",
       "      <th>981</th>\n",
       "      <td>419761</td>\n",
       "      <td>MDVDELEKRIWNDRLRLKRIKDKQKARVNNAFSSNHSNHSHGQQQQ...</td>\n",
       "      <td>608</td>\n",
       "      <td>EIL</td>\n",
       "    </tr>\n",
       "    <tr>\n",
       "      <th>1216</th>\n",
       "      <td>Zmw_sc01682.1.g00050.1</td>\n",
       "      <td>MMGGGLMMDQSMVFPGVHNFVHLLQQNGADVDKDLGFGPLMSQTSS...</td>\n",
       "      <td>643</td>\n",
       "      <td>EIL</td>\n",
       "    </tr>\n",
       "  </tbody>\n",
       "</table>\n",
       "<p>247 rows × 4 columns</p>\n",
       "</div>"
      ],
      "text/plain": [
       "                            id  \\\n",
       "343            Thhalv10001938m   \n",
       "1108                 Tp1g37880   \n",
       "904                Pbr004574.1   \n",
       "1022   Sme2.5_02278.1_g00005.1   \n",
       "743            ONIVA11G15950.1   \n",
       "...                        ...   \n",
       "60                 Aradu.U3SNU   \n",
       "818   Peinf101Scf02706g01012.1   \n",
       "523              kfl00801_0040   \n",
       "981                     419761   \n",
       "1216    Zmw_sc01682.1.g00050.1   \n",
       "\n",
       "                                               sequence  length class  \n",
       "343   MMMFNEMGMYGKMDFFSSTSLGEIDVCPLPQAEQDHPVVEEDYTDD...     582   EIL  \n",
       "1108  MGVFFSDPDSIAEDDGYTDNELDVDELEKRIWKQEMRLRRLKEHRK...     211   EIL  \n",
       "904   MGDVGEIGPDISSDIEEDLRCDNIAEKDVSDEEIEAEDLERRMWKD...     608   EIL  \n",
       "1022  MNNEVVEENQEFDDEEINYDDLKRRMWKDRMRMQILKGKKRDMMIE...     494   EIL  \n",
       "743   MDASKKSVMTKEEQQLSPAASPAAAVMTAEADAINEEQDKAAAATT...     466   EIL  \n",
       "...                                                 ...     ...   ...  \n",
       "60    MMMFDDMGFCGDLDVLCGPLGESDMTARQTEPDAVVEDDYSDEEID...     622   EIL  \n",
       "818   MEYCMIDADELGNSSDIEVDDIRCENIEDKDVSDEEIEPEELERRM...     532   EIL  \n",
       "523   MAQGQDVKRRASTLEGEWLKSLAANVGEQCGEQSTVDIADMLDASL...     718   EIL  \n",
       "981   MDVDELEKRIWNDRLRLKRIKDKQKARVNNAFSSNHSNHSHGQQQQ...     608   EIL  \n",
       "1216  MMGGGLMMDQSMVFPGVHNFVHLLQQNGADVDKDLGFGPLMSQTSS...     643   EIL  \n",
       "\n",
       "[247 rows x 4 columns]"
      ]
     },
     "execution_count": 5,
     "metadata": {},
     "output_type": "execute_result"
    }
   ],
   "source": [
    "testset_positive = testset[testset['class'] == 1]\n",
    "testset_positive.loc[:, 'class'] = gene_familly\n",
    "testset_positive"
   ]
  },
  {
   "cell_type": "code",
   "execution_count": 6,
   "id": "25a9ad39-47e0-4b0a-9669-c9ed5c6cafa3",
   "metadata": {
    "execution": {
     "iopub.execute_input": "2024-07-03T23:16:13.337760Z",
     "iopub.status.busy": "2024-07-03T23:16:13.337637Z",
     "iopub.status.idle": "2024-07-03T23:16:13.343316Z",
     "shell.execute_reply": "2024-07-03T23:16:13.343035Z"
    },
    "papermill": {
     "duration": 0.008124,
     "end_time": "2024-07-03T23:16:13.344186",
     "exception": false,
     "start_time": "2024-07-03T23:16:13.336062",
     "status": "completed"
    },
    "tags": []
   },
   "outputs": [],
   "source": [
    "testset_positive.to_csv(\"../data/testset/\"+gene_dict['file_code']+\".csv\")"
   ]
  },
  {
   "cell_type": "code",
   "execution_count": null,
   "id": "4107c4c5-3c5d-44f9-af27-5b81b6d102e5",
   "metadata": {
    "papermill": {
     "duration": 0.001205,
     "end_time": "2024-07-03T23:16:13.346604",
     "exception": false,
     "start_time": "2024-07-03T23:16:13.345399",
     "status": "completed"
    },
    "tags": []
   },
   "outputs": [],
   "source": []
  }
 ],
 "metadata": {
  "kernelspec": {
   "display_name": "Python 3 (ipykernel)",
   "language": "python",
   "name": "python3"
  },
  "language_info": {
   "codemirror_mode": {
    "name": "ipython",
    "version": 3
   },
   "file_extension": ".py",
   "mimetype": "text/x-python",
   "name": "python",
   "nbconvert_exporter": "python",
   "pygments_lexer": "ipython3",
   "version": "3.11.7"
  },
  "papermill": {
   "default_parameters": {},
   "duration": 1.869298,
   "end_time": "2024-07-03T23:16:13.665484",
   "environment_variables": {},
   "exception": null,
   "input_path": "05-extract_testset.ipynb",
   "output_path": "AutoSave/TestGen/05-extract_testset-EIL.ipynb",
   "parameters": {
    "gene_familly": "EIL"
   },
   "start_time": "2024-07-03T23:16:11.796186",
   "version": "2.6.0"
  }
 },
 "nbformat": 4,
 "nbformat_minor": 5
}