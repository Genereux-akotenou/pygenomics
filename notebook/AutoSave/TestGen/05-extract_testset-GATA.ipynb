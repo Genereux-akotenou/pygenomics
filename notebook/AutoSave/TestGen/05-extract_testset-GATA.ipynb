{
 "cells": [
  {
   "cell_type": "code",
   "execution_count": 1,
   "id": "d1055251",
   "metadata": {
    "execution": {
     "iopub.execute_input": "2024-07-03T23:16:20.025325Z",
     "iopub.status.busy": "2024-07-03T23:16:20.024511Z",
     "iopub.status.idle": "2024-07-03T23:16:20.038349Z",
     "shell.execute_reply": "2024-07-03T23:16:20.037743Z"
    },
    "papermill": {
     "duration": 0.026352,
     "end_time": "2024-07-03T23:16:20.040058",
     "exception": false,
     "start_time": "2024-07-03T23:16:20.013706",
     "status": "completed"
    },
    "tags": [
     "injected-parameters"
    ]
   },
   "outputs": [],
   "source": [
    "# Parameters\n",
    "gene_familly = \"GATA\"\n"
   ]
  },
  {
   "cell_type": "code",
   "execution_count": 2,
   "id": "e7cdbe25-11a6-48da-abd4-9ae5eee27bfe",
   "metadata": {
    "execution": {
     "iopub.execute_input": "2024-07-03T23:16:20.047365Z",
     "iopub.status.busy": "2024-07-03T23:16:20.047055Z",
     "iopub.status.idle": "2024-07-03T23:16:20.720796Z",
     "shell.execute_reply": "2024-07-03T23:16:20.720270Z"
    },
    "papermill": {
     "duration": 0.679415,
     "end_time": "2024-07-03T23:16:20.722388",
     "exception": false,
     "start_time": "2024-07-03T23:16:20.042973",
     "status": "completed"
    },
    "tags": []
   },
   "outputs": [],
   "source": [
    "import json\n",
    "import pandas as pd\n",
    "from sklearn.model_selection import train_test_split"
   ]
  },
  {
   "cell_type": "code",
   "execution_count": 3,
   "id": "6e20f340-8cbc-46f2-be83-6f1c4523930a",
   "metadata": {
    "execution": {
     "iopub.execute_input": "2024-07-03T23:16:20.726600Z",
     "iopub.status.busy": "2024-07-03T23:16:20.726312Z",
     "iopub.status.idle": "2024-07-03T23:16:20.775667Z",
     "shell.execute_reply": "2024-07-03T23:16:20.775255Z"
    },
    "papermill": {
     "duration": 0.052295,
     "end_time": "2024-07-03T23:16:20.776809",
     "exception": false,
     "start_time": "2024-07-03T23:16:20.724514",
     "status": "completed"
    },
    "tags": []
   },
   "outputs": [
    {
     "data": {
      "text/html": [
       "<div>\n",
       "<style scoped>\n",
       "    .dataframe tbody tr th:only-of-type {\n",
       "        vertical-align: middle;\n",
       "    }\n",
       "\n",
       "    .dataframe tbody tr th {\n",
       "        vertical-align: top;\n",
       "    }\n",
       "\n",
       "    .dataframe thead th {\n",
       "        text-align: right;\n",
       "    }\n",
       "</style>\n",
       "<table border=\"1\" class=\"dataframe\">\n",
       "  <thead>\n",
       "    <tr style=\"text-align: right;\">\n",
       "      <th></th>\n",
       "      <th>id</th>\n",
       "      <th>sequence</th>\n",
       "      <th>length</th>\n",
       "      <th>class</th>\n",
       "    </tr>\n",
       "  </thead>\n",
       "  <tbody>\n",
       "    <tr>\n",
       "      <th>0</th>\n",
       "      <td>Achn000061</td>\n",
       "      <td>MGPVDGKSSFYSPKHSSDDINYLLEFSYDDYRCMDLLSIFPESETT...</td>\n",
       "      <td>270</td>\n",
       "      <td>1</td>\n",
       "    </tr>\n",
       "    <tr>\n",
       "      <th>1</th>\n",
       "      <td>Achn029831</td>\n",
       "      <td>MYGHTQSMNASDRFAAAEDDSSAGGDDSVGIDGVEVVPPDAVYGDG...</td>\n",
       "      <td>213</td>\n",
       "      <td>1</td>\n",
       "    </tr>\n",
       "    <tr>\n",
       "      <th>2</th>\n",
       "      <td>Achn041731</td>\n",
       "      <td>MAAANPRPLQARPYEDYVQLPAIQIEDDEDGEYEDGGDDDMEEADG...</td>\n",
       "      <td>309</td>\n",
       "      <td>1</td>\n",
       "    </tr>\n",
       "    <tr>\n",
       "      <th>3</th>\n",
       "      <td>Achn050821</td>\n",
       "      <td>METPELLAGGYFSPGSRYFEKKSTENVNNHFAIDDLLDFSKEDDVM...</td>\n",
       "      <td>314</td>\n",
       "      <td>1</td>\n",
       "    </tr>\n",
       "    <tr>\n",
       "      <th>4</th>\n",
       "      <td>Achn075641</td>\n",
       "      <td>MDYVEAALKPSFEPPKKAQSQPQAFSVDSPAVNGVSGDDFFVDDLL...</td>\n",
       "      <td>303</td>\n",
       "      <td>1</td>\n",
       "    </tr>\n",
       "  </tbody>\n",
       "</table>\n",
       "</div>"
      ],
      "text/plain": [
       "           id                                           sequence  length  \\\n",
       "0  Achn000061  MGPVDGKSSFYSPKHSSDDINYLLEFSYDDYRCMDLLSIFPESETT...     270   \n",
       "1  Achn029831  MYGHTQSMNASDRFAAAEDDSSAGGDDSVGIDGVEVVPPDAVYGDG...     213   \n",
       "2  Achn041731  MAAANPRPLQARPYEDYVQLPAIQIEDDEDGEYEDGGDDDMEEADG...     309   \n",
       "3  Achn050821  METPELLAGGYFSPGSRYFEKKSTENVNNHFAIDDLLDFSKEDDVM...     314   \n",
       "4  Achn075641  MDYVEAALKPSFEPPKKAQSQPQAFSVDSPAVNGVSGDDFFVDDLL...     303   \n",
       "\n",
       "   class  \n",
       "0      1  \n",
       "1      1  \n",
       "2      1  \n",
       "3      1  \n",
       "4      1  "
      ]
     },
     "execution_count": 3,
     "metadata": {},
     "output_type": "execute_result"
    }
   ],
   "source": [
    "# READ GENE_INFO JSON FILE\n",
    "gene_info_path = \"../data/gene_info.json\"\n",
    "dataset_path   = \"../data/one_vs_other/\"\n",
    "with open(gene_info_path, 'r') as json_file:\n",
    "    gene_info = json.load(json_file)\n",
    "\n",
    "# FOCUS ON GENE FAMILLY\n",
    "gene_dict = gene_info[gene_familly]\n",
    "df_path = dataset_path+gene_dict['file_code']+\".csv\"\n",
    "\n",
    "# LOAD WHOLE DATASET\n",
    "USE_FULL_DF = True\n",
    "if USE_FULL_DF:\n",
    "    dataset = pd.read_csv(df_path)\n",
    "else:\n",
    "    dataset_ = pd.read_csv(df_path)\n",
    "    r = min(5000/len(dataset_), 1)\n",
    "    _, dataset = train_test_split(dataset_, test_size=r, stratify=dataset_['class'], random_state=42)\n",
    "dataset.head()"
   ]
  },
  {
   "cell_type": "code",
   "execution_count": 4,
   "id": "745dff8f-540b-4299-a3f0-dabda69bd837",
   "metadata": {
    "execution": {
     "iopub.execute_input": "2024-07-03T23:16:20.779624Z",
     "iopub.status.busy": "2024-07-03T23:16:20.779476Z",
     "iopub.status.idle": "2024-07-03T23:16:20.785329Z",
     "shell.execute_reply": "2024-07-03T23:16:20.785012Z"
    },
    "papermill": {
     "duration": 0.008431,
     "end_time": "2024-07-03T23:16:20.786424",
     "exception": false,
     "start_time": "2024-07-03T23:16:20.777993",
     "status": "completed"
    },
    "tags": []
   },
   "outputs": [],
   "source": [
    "trainset, testset = train_test_split(dataset, test_size=0.2, stratify=dataset['class'], random_state=42)"
   ]
  },
  {
   "cell_type": "code",
   "execution_count": 5,
   "id": "a9b8b47d-48c6-4e94-a378-574904e308ee",
   "metadata": {
    "execution": {
     "iopub.execute_input": "2024-07-03T23:16:20.789093Z",
     "iopub.status.busy": "2024-07-03T23:16:20.788975Z",
     "iopub.status.idle": "2024-07-03T23:16:20.795221Z",
     "shell.execute_reply": "2024-07-03T23:16:20.794884Z"
    },
    "papermill": {
     "duration": 0.00858,
     "end_time": "2024-07-03T23:16:20.796175",
     "exception": false,
     "start_time": "2024-07-03T23:16:20.787595",
     "status": "completed"
    },
    "tags": []
   },
   "outputs": [
    {
     "name": "stderr",
     "output_type": "stream",
     "text": [
      "/var/folders/w8/b_cflrn97k9c15rcrn5t8mmr0000gn/T/ipykernel_2517/3395039238.py:2: FutureWarning: Setting an item of incompatible dtype is deprecated and will raise in a future error of pandas. Value 'GATA' has dtype incompatible with int64, please explicitly cast to a compatible dtype first.\n",
      "  testset_positive.loc[:, 'class'] = gene_familly\n"
     ]
    },
    {
     "data": {
      "text/html": [
       "<div>\n",
       "<style scoped>\n",
       "    .dataframe tbody tr th:only-of-type {\n",
       "        vertical-align: middle;\n",
       "    }\n",
       "\n",
       "    .dataframe tbody tr th {\n",
       "        vertical-align: top;\n",
       "    }\n",
       "\n",
       "    .dataframe thead th {\n",
       "        text-align: right;\n",
       "    }\n",
       "</style>\n",
       "<table border=\"1\" class=\"dataframe\">\n",
       "  <thead>\n",
       "    <tr style=\"text-align: right;\">\n",
       "      <th></th>\n",
       "      <th>id</th>\n",
       "      <th>sequence</th>\n",
       "      <th>length</th>\n",
       "      <th>class</th>\n",
       "    </tr>\n",
       "  </thead>\n",
       "  <tbody>\n",
       "    <tr>\n",
       "      <th>1694</th>\n",
       "      <td>mrna16150.1-v1.0-hybrid</td>\n",
       "      <td>MTTASTRWNLDRSAHHRRMTFVITVSNLYETMRLIGEGVAGEDKAL...</td>\n",
       "      <td>831</td>\n",
       "      <td>GATA</td>\n",
       "    </tr>\n",
       "    <tr>\n",
       "      <th>783</th>\n",
       "      <td>XP_009132168.1</td>\n",
       "      <td>MGSNFHYSIDLNENQNHHEQPFFYPLGSSSSLLHNQVLSNSSCSSS...</td>\n",
       "      <td>384</td>\n",
       "      <td>GATA</td>\n",
       "    </tr>\n",
       "    <tr>\n",
       "      <th>3377</th>\n",
       "      <td>LOC_Os03g03850.1</td>\n",
       "      <td>MRKPTPYVSLHDVVAFDFVDGDVPFDDLVDGEGLCCPDDPFEEVMR...</td>\n",
       "      <td>272</td>\n",
       "      <td>GATA</td>\n",
       "    </tr>\n",
       "    <tr>\n",
       "      <th>178</th>\n",
       "      <td>Aqcoe5G389300.4.p</td>\n",
       "      <td>MPELSGSSVPHGEPQVGPSSFAYHFHEIKELFSQKEDLFPPASKNS...</td>\n",
       "      <td>370</td>\n",
       "      <td>GATA</td>\n",
       "    </tr>\n",
       "    <tr>\n",
       "      <th>5060</th>\n",
       "      <td>Vocar.0021s0143.1.p</td>\n",
       "      <td>MRGNKRRAAAVATAANKPQPALNDAILDVANRKGVRCCVECGATST...</td>\n",
       "      <td>569</td>\n",
       "      <td>GATA</td>\n",
       "    </tr>\n",
       "    <tr>\n",
       "      <th>...</th>\n",
       "      <td>...</td>\n",
       "      <td>...</td>\n",
       "      <td>...</td>\n",
       "      <td>...</td>\n",
       "    </tr>\n",
       "    <tr>\n",
       "      <th>969</th>\n",
       "      <td>Cagra.0418s0011.1.p</td>\n",
       "      <td>MDPRVQVRSRSSTYVSARMEEEKKITRCCSDCKTTKTPMWRGGPTG...</td>\n",
       "      <td>126</td>\n",
       "      <td>GATA</td>\n",
       "    </tr>\n",
       "    <tr>\n",
       "      <th>4019</th>\n",
       "      <td>Pbr008403.1</td>\n",
       "      <td>MTAVSADVAKLTKRENISDMDGSLPADGAFNYESFLSTDILSALDF...</td>\n",
       "      <td>302</td>\n",
       "      <td>GATA</td>\n",
       "    </tr>\n",
       "    <tr>\n",
       "      <th>4218</th>\n",
       "      <td>SapurV1A.0494s0210.2.p</td>\n",
       "      <td>MDDAHPSNCSDIKRRCTDCQTTRTPCWRGGPAGPRTLCNACGIRQR...</td>\n",
       "      <td>135</td>\n",
       "      <td>GATA</td>\n",
       "    </tr>\n",
       "    <tr>\n",
       "      <th>600</th>\n",
       "      <td>GSBRNA2T00098757001</td>\n",
       "      <td>MIGQSFFPEDLDCGNFFDNMDDILDFPGGDIDVGFDIGESDSFPNI...</td>\n",
       "      <td>316</td>\n",
       "      <td>GATA</td>\n",
       "    </tr>\n",
       "    <tr>\n",
       "      <th>3809</th>\n",
       "      <td>model.Picochlorum_contig_56.g248.t1</td>\n",
       "      <td>MTTSHPIEEQAGGQRGEVGHDMLINNHVAQVVEEGGEERNNNNNNE...</td>\n",
       "      <td>650</td>\n",
       "      <td>GATA</td>\n",
       "    </tr>\n",
       "  </tbody>\n",
       "</table>\n",
       "<p>1067 rows × 4 columns</p>\n",
       "</div>"
      ],
      "text/plain": [
       "                                       id  \\\n",
       "1694              mrna16150.1-v1.0-hybrid   \n",
       "783                        XP_009132168.1   \n",
       "3377                     LOC_Os03g03850.1   \n",
       "178                     Aqcoe5G389300.4.p   \n",
       "5060                  Vocar.0021s0143.1.p   \n",
       "...                                   ...   \n",
       "969                   Cagra.0418s0011.1.p   \n",
       "4019                          Pbr008403.1   \n",
       "4218               SapurV1A.0494s0210.2.p   \n",
       "600                   GSBRNA2T00098757001   \n",
       "3809  model.Picochlorum_contig_56.g248.t1   \n",
       "\n",
       "                                               sequence  length class  \n",
       "1694  MTTASTRWNLDRSAHHRRMTFVITVSNLYETMRLIGEGVAGEDKAL...     831  GATA  \n",
       "783   MGSNFHYSIDLNENQNHHEQPFFYPLGSSSSLLHNQVLSNSSCSSS...     384  GATA  \n",
       "3377  MRKPTPYVSLHDVVAFDFVDGDVPFDDLVDGEGLCCPDDPFEEVMR...     272  GATA  \n",
       "178   MPELSGSSVPHGEPQVGPSSFAYHFHEIKELFSQKEDLFPPASKNS...     370  GATA  \n",
       "5060  MRGNKRRAAAVATAANKPQPALNDAILDVANRKGVRCCVECGATST...     569  GATA  \n",
       "...                                                 ...     ...   ...  \n",
       "969   MDPRVQVRSRSSTYVSARMEEEKKITRCCSDCKTTKTPMWRGGPTG...     126  GATA  \n",
       "4019  MTAVSADVAKLTKRENISDMDGSLPADGAFNYESFLSTDILSALDF...     302  GATA  \n",
       "4218  MDDAHPSNCSDIKRRCTDCQTTRTPCWRGGPAGPRTLCNACGIRQR...     135  GATA  \n",
       "600   MIGQSFFPEDLDCGNFFDNMDDILDFPGGDIDVGFDIGESDSFPNI...     316  GATA  \n",
       "3809  MTTSHPIEEQAGGQRGEVGHDMLINNHVAQVVEEGGEERNNNNNNE...     650  GATA  \n",
       "\n",
       "[1067 rows x 4 columns]"
      ]
     },
     "execution_count": 5,
     "metadata": {},
     "output_type": "execute_result"
    }
   ],
   "source": [
    "testset_positive = testset[testset['class'] == 1]\n",
    "testset_positive.loc[:, 'class'] = gene_familly\n",
    "testset_positive"
   ]
  },
  {
   "cell_type": "code",
   "execution_count": 6,
   "id": "25a9ad39-47e0-4b0a-9669-c9ed5c6cafa3",
   "metadata": {
    "execution": {
     "iopub.execute_input": "2024-07-03T23:16:20.799412Z",
     "iopub.status.busy": "2024-07-03T23:16:20.799248Z",
     "iopub.status.idle": "2024-07-03T23:16:20.809235Z",
     "shell.execute_reply": "2024-07-03T23:16:20.808925Z"
    },
    "papermill": {
     "duration": 0.01263,
     "end_time": "2024-07-03T23:16:20.810200",
     "exception": false,
     "start_time": "2024-07-03T23:16:20.797570",
     "status": "completed"
    },
    "tags": []
   },
   "outputs": [],
   "source": [
    "testset_positive.to_csv(\"../data/testset/\"+gene_dict['file_code']+\".csv\")"
   ]
  },
  {
   "cell_type": "code",
   "execution_count": null,
   "id": "4107c4c5-3c5d-44f9-af27-5b81b6d102e5",
   "metadata": {
    "papermill": {
     "duration": 0.001377,
     "end_time": "2024-07-03T23:16:20.813107",
     "exception": false,
     "start_time": "2024-07-03T23:16:20.811730",
     "status": "completed"
    },
    "tags": []
   },
   "outputs": [],
   "source": []
  }
 ],
 "metadata": {
  "kernelspec": {
   "display_name": "Python 3 (ipykernel)",
   "language": "python",
   "name": "python3"
  },
  "language_info": {
   "codemirror_mode": {
    "name": "ipython",
    "version": 3
   },
   "file_extension": ".py",
   "mimetype": "text/x-python",
   "name": "python",
   "nbconvert_exporter": "python",
   "pygments_lexer": "ipython3",
   "version": "3.11.7"
  },
  "papermill": {
   "default_parameters": {},
   "duration": 1.898141,
   "end_time": "2024-07-03T23:16:21.132452",
   "environment_variables": {},
   "exception": null,
   "input_path": "05-extract_testset.ipynb",
   "output_path": "AutoSave/TestGen/05-extract_testset-GATA.ipynb",
   "parameters": {
    "gene_familly": "GATA"
   },
   "start_time": "2024-07-03T23:16:19.234311",
   "version": "2.6.0"
  }
 },
 "nbformat": 4,
 "nbformat_minor": 5
}