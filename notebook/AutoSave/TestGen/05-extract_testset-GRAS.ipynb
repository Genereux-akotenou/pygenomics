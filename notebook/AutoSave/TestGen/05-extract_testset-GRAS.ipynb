{
 "cells": [
  {
   "cell_type": "code",
   "execution_count": 1,
   "id": "bb8c293e",
   "metadata": {
    "execution": {
     "iopub.execute_input": "2024-07-03T23:16:21.933535Z",
     "iopub.status.busy": "2024-07-03T23:16:21.933028Z",
     "iopub.status.idle": "2024-07-03T23:16:21.942528Z",
     "shell.execute_reply": "2024-07-03T23:16:21.941970Z"
    },
    "papermill": {
     "duration": 0.019517,
     "end_time": "2024-07-03T23:16:21.943947",
     "exception": false,
     "start_time": "2024-07-03T23:16:21.924430",
     "status": "completed"
    },
    "tags": [
     "injected-parameters"
    ]
   },
   "outputs": [],
   "source": [
    "# Parameters\n",
    "gene_familly = \"GRAS\"\n"
   ]
  },
  {
   "cell_type": "code",
   "execution_count": 2,
   "id": "e7cdbe25-11a6-48da-abd4-9ae5eee27bfe",
   "metadata": {
    "execution": {
     "iopub.execute_input": "2024-07-03T23:16:21.948669Z",
     "iopub.status.busy": "2024-07-03T23:16:21.948411Z",
     "iopub.status.idle": "2024-07-03T23:16:22.610528Z",
     "shell.execute_reply": "2024-07-03T23:16:22.610063Z"
    },
    "papermill": {
     "duration": 0.666329,
     "end_time": "2024-07-03T23:16:22.612192",
     "exception": false,
     "start_time": "2024-07-03T23:16:21.945863",
     "status": "completed"
    },
    "tags": []
   },
   "outputs": [],
   "source": [
    "import json\n",
    "import pandas as pd\n",
    "from sklearn.model_selection import train_test_split"
   ]
  },
  {
   "cell_type": "code",
   "execution_count": 3,
   "id": "6e20f340-8cbc-46f2-be83-6f1c4523930a",
   "metadata": {
    "execution": {
     "iopub.execute_input": "2024-07-03T23:16:22.615604Z",
     "iopub.status.busy": "2024-07-03T23:16:22.615360Z",
     "iopub.status.idle": "2024-07-03T23:16:22.718691Z",
     "shell.execute_reply": "2024-07-03T23:16:22.718344Z"
    },
    "papermill": {
     "duration": 0.106158,
     "end_time": "2024-07-03T23:16:22.719875",
     "exception": false,
     "start_time": "2024-07-03T23:16:22.613717",
     "status": "completed"
    },
    "tags": []
   },
   "outputs": [
    {
     "data": {
      "text/html": [
       "<div>\n",
       "<style scoped>\n",
       "    .dataframe tbody tr th:only-of-type {\n",
       "        vertical-align: middle;\n",
       "    }\n",
       "\n",
       "    .dataframe tbody tr th {\n",
       "        vertical-align: top;\n",
       "    }\n",
       "\n",
       "    .dataframe thead th {\n",
       "        text-align: right;\n",
       "    }\n",
       "</style>\n",
       "<table border=\"1\" class=\"dataframe\">\n",
       "  <thead>\n",
       "    <tr style=\"text-align: right;\">\n",
       "      <th></th>\n",
       "      <th>id</th>\n",
       "      <th>sequence</th>\n",
       "      <th>length</th>\n",
       "      <th>class</th>\n",
       "    </tr>\n",
       "  </thead>\n",
       "  <tbody>\n",
       "    <tr>\n",
       "      <th>0</th>\n",
       "      <td>Achn000501</td>\n",
       "      <td>MEESSLTDLLLTGAEAVETENWPLASTVIERLKTLLFYQENGDEPF...</td>\n",
       "      <td>224</td>\n",
       "      <td>1</td>\n",
       "    </tr>\n",
       "    <tr>\n",
       "      <th>1</th>\n",
       "      <td>Achn002491</td>\n",
       "      <td>MLAGCSPSTLLSPRHRMSTQRLDLPCSFARKDASRSQSIRPVGISV...</td>\n",
       "      <td>623</td>\n",
       "      <td>1</td>\n",
       "    </tr>\n",
       "    <tr>\n",
       "      <th>2</th>\n",
       "      <td>Achn011651</td>\n",
       "      <td>MSSGFSGDFFTAGGFTGRSTAMNNPQSLYNLADPASRIHHRRPDLI...</td>\n",
       "      <td>612</td>\n",
       "      <td>1</td>\n",
       "    </tr>\n",
       "    <tr>\n",
       "      <th>3</th>\n",
       "      <td>Achn012501</td>\n",
       "      <td>MFQDDGSSSVTSSPLQAFPMMSLSPGFGSPYPWLRELKSEERGLYL...</td>\n",
       "      <td>472</td>\n",
       "      <td>1</td>\n",
       "    </tr>\n",
       "    <tr>\n",
       "      <th>4</th>\n",
       "      <td>Achn012831</td>\n",
       "      <td>MDTLFRLVNLQQQHYHQQSDQSNSSRTSSSSKSSTQQNQSHHAQVE...</td>\n",
       "      <td>475</td>\n",
       "      <td>1</td>\n",
       "    </tr>\n",
       "  </tbody>\n",
       "</table>\n",
       "</div>"
      ],
      "text/plain": [
       "           id                                           sequence  length  \\\n",
       "0  Achn000501  MEESSLTDLLLTGAEAVETENWPLASTVIERLKTLLFYQENGDEPF...     224   \n",
       "1  Achn002491  MLAGCSPSTLLSPRHRMSTQRLDLPCSFARKDASRSQSIRPVGISV...     623   \n",
       "2  Achn011651  MSSGFSGDFFTAGGFTGRSTAMNNPQSLYNLADPASRIHHRRPDLI...     612   \n",
       "3  Achn012501  MFQDDGSSSVTSSPLQAFPMMSLSPGFGSPYPWLRELKSEERGLYL...     472   \n",
       "4  Achn012831  MDTLFRLVNLQQQHYHQQSDQSNSSRTSSSSKSSTQQNQSHHAQVE...     475   \n",
       "\n",
       "   class  \n",
       "0      1  \n",
       "1      1  \n",
       "2      1  \n",
       "3      1  \n",
       "4      1  "
      ]
     },
     "execution_count": 3,
     "metadata": {},
     "output_type": "execute_result"
    }
   ],
   "source": [
    "# READ GENE_INFO JSON FILE\n",
    "gene_info_path = \"../data/gene_info.json\"\n",
    "dataset_path   = \"../data/one_vs_other/\"\n",
    "with open(gene_info_path, 'r') as json_file:\n",
    "    gene_info = json.load(json_file)\n",
    "\n",
    "# FOCUS ON GENE FAMILLY\n",
    "gene_dict = gene_info[gene_familly]\n",
    "df_path = dataset_path+gene_dict['file_code']+\".csv\"\n",
    "\n",
    "# LOAD WHOLE DATASET\n",
    "USE_FULL_DF = True\n",
    "if USE_FULL_DF:\n",
    "    dataset = pd.read_csv(df_path)\n",
    "else:\n",
    "    dataset_ = pd.read_csv(df_path)\n",
    "    r = min(5000/len(dataset_), 1)\n",
    "    _, dataset = train_test_split(dataset_, test_size=r, stratify=dataset_['class'], random_state=42)\n",
    "dataset.head()"
   ]
  },
  {
   "cell_type": "code",
   "execution_count": 4,
   "id": "745dff8f-540b-4299-a3f0-dabda69bd837",
   "metadata": {
    "execution": {
     "iopub.execute_input": "2024-07-03T23:16:22.723208Z",
     "iopub.status.busy": "2024-07-03T23:16:22.723061Z",
     "iopub.status.idle": "2024-07-03T23:16:22.731133Z",
     "shell.execute_reply": "2024-07-03T23:16:22.730806Z"
    },
    "papermill": {
     "duration": 0.010818,
     "end_time": "2024-07-03T23:16:22.732233",
     "exception": false,
     "start_time": "2024-07-03T23:16:22.721415",
     "status": "completed"
    },
    "tags": []
   },
   "outputs": [],
   "source": [
    "trainset, testset = train_test_split(dataset, test_size=0.2, stratify=dataset['class'], random_state=42)"
   ]
  },
  {
   "cell_type": "code",
   "execution_count": 5,
   "id": "a9b8b47d-48c6-4e94-a378-574904e308ee",
   "metadata": {
    "execution": {
     "iopub.execute_input": "2024-07-03T23:16:22.735268Z",
     "iopub.status.busy": "2024-07-03T23:16:22.735130Z",
     "iopub.status.idle": "2024-07-03T23:16:22.741857Z",
     "shell.execute_reply": "2024-07-03T23:16:22.741585Z"
    },
    "papermill": {
     "duration": 0.009388,
     "end_time": "2024-07-03T23:16:22.742879",
     "exception": false,
     "start_time": "2024-07-03T23:16:22.733491",
     "status": "completed"
    },
    "tags": []
   },
   "outputs": [
    {
     "name": "stderr",
     "output_type": "stream",
     "text": [
      "/var/folders/w8/b_cflrn97k9c15rcrn5t8mmr0000gn/T/ipykernel_2523/3395039238.py:2: FutureWarning: Setting an item of incompatible dtype is deprecated and will raise in a future error of pandas. Value 'GRAS' has dtype incompatible with int64, please explicitly cast to a compatible dtype first.\n",
      "  testset_positive.loc[:, 'class'] = gene_familly\n"
     ]
    },
    {
     "data": {
      "text/html": [
       "<div>\n",
       "<style scoped>\n",
       "    .dataframe tbody tr th:only-of-type {\n",
       "        vertical-align: middle;\n",
       "    }\n",
       "\n",
       "    .dataframe tbody tr th {\n",
       "        vertical-align: top;\n",
       "    }\n",
       "\n",
       "    .dataframe thead th {\n",
       "        text-align: right;\n",
       "    }\n",
       "</style>\n",
       "<table border=\"1\" class=\"dataframe\">\n",
       "  <thead>\n",
       "    <tr style=\"text-align: right;\">\n",
       "      <th></th>\n",
       "      <th>id</th>\n",
       "      <th>sequence</th>\n",
       "      <th>length</th>\n",
       "      <th>class</th>\n",
       "    </tr>\n",
       "  </thead>\n",
       "  <tbody>\n",
       "    <tr>\n",
       "      <th>541</th>\n",
       "      <td>Aan013932</td>\n",
       "      <td>XSQQLGLGLGFRFSDFVAASGSVGEFDTDEWMESLIDSTTASSTWQ...</td>\n",
       "      <td>315</td>\n",
       "      <td>GRAS</td>\n",
       "    </tr>\n",
       "    <tr>\n",
       "      <th>4366</th>\n",
       "      <td>Medtr7g057230.1</td>\n",
       "      <td>MFSPGFTAGGGSSDFYDGSTSNRSSITLPSSMNNNNIYNYNFSTVA...</td>\n",
       "      <td>658</td>\n",
       "      <td>GRAS</td>\n",
       "    </tr>\n",
       "    <tr>\n",
       "      <th>4765</th>\n",
       "      <td>XP_016439920.1</td>\n",
       "      <td>MATMMVDGTVPDFDYYSGLSTTTTTTTTTTTTTTTTSSSDDDHDHG...</td>\n",
       "      <td>508</td>\n",
       "      <td>GRAS</td>\n",
       "    </tr>\n",
       "    <tr>\n",
       "      <th>1417</th>\n",
       "      <td>CA02g29990</td>\n",
       "      <td>MDPKFNTSVNEFHPEDQSISSSSDLLKSNEPRCDSSRPENSELEAV...</td>\n",
       "      <td>471</td>\n",
       "      <td>GRAS</td>\n",
       "    </tr>\n",
       "    <tr>\n",
       "      <th>6313</th>\n",
       "      <td>PH01004053G0150</td>\n",
       "      <td>MGNETGKKKRKGRKNKAPGSRGAAEVVDLHTLLVHCAKAVTDGRRS...</td>\n",
       "      <td>408</td>\n",
       "      <td>GRAS</td>\n",
       "    </tr>\n",
       "    <tr>\n",
       "      <th>...</th>\n",
       "      <td>...</td>\n",
       "      <td>...</td>\n",
       "      <td>...</td>\n",
       "      <td>...</td>\n",
       "    </tr>\n",
       "    <tr>\n",
       "      <th>689</th>\n",
       "      <td>Bostr.7867s1625.1.p</td>\n",
       "      <td>MDTLFRLVSLQQQQQSDSIITNQSSLSRTSTTTTGSPQTAYHYNFP...</td>\n",
       "      <td>527</td>\n",
       "      <td>GRAS</td>\n",
       "    </tr>\n",
       "    <tr>\n",
       "      <th>3504</th>\n",
       "      <td>Jcr4S04319.10</td>\n",
       "      <td>MQTSQKHRNSASIHGFYHQPKEIDPYGLSHIQVLDNNALSDGGSQG...</td>\n",
       "      <td>542</td>\n",
       "      <td>GRAS</td>\n",
       "    </tr>\n",
       "    <tr>\n",
       "      <th>4339</th>\n",
       "      <td>Medtr4g064160.1</td>\n",
       "      <td>MDHTFGFMDKPFLQPDPNNATEEEEDSPLDEIDFSSTVLRYINQML...</td>\n",
       "      <td>687</td>\n",
       "      <td>GRAS</td>\n",
       "    </tr>\n",
       "    <tr>\n",
       "      <th>7790</th>\n",
       "      <td>Sopen01g031170.1</td>\n",
       "      <td>MQDSTDIQNFCNNYGFYQEYAVNQQLQEMNKQQEELNEHAAHSAGQ...</td>\n",
       "      <td>452</td>\n",
       "      <td>GRAS</td>\n",
       "    </tr>\n",
       "    <tr>\n",
       "      <th>6268</th>\n",
       "      <td>PH01000054G0400</td>\n",
       "      <td>MALGGARWHVGRGGSMLRCDSVVHHGTEAAPTQHGGGAARDALDGC...</td>\n",
       "      <td>785</td>\n",
       "      <td>GRAS</td>\n",
       "    </tr>\n",
       "  </tbody>\n",
       "</table>\n",
       "<p>1861 rows × 4 columns</p>\n",
       "</div>"
      ],
      "text/plain": [
       "                       id                                           sequence  \\\n",
       "541             Aan013932  XSQQLGLGLGFRFSDFVAASGSVGEFDTDEWMESLIDSTTASSTWQ...   \n",
       "4366      Medtr7g057230.1  MFSPGFTAGGGSSDFYDGSTSNRSSITLPSSMNNNNIYNYNFSTVA...   \n",
       "4765       XP_016439920.1  MATMMVDGTVPDFDYYSGLSTTTTTTTTTTTTTTTTSSSDDDHDHG...   \n",
       "1417           CA02g29990  MDPKFNTSVNEFHPEDQSISSSSDLLKSNEPRCDSSRPENSELEAV...   \n",
       "6313      PH01004053G0150  MGNETGKKKRKGRKNKAPGSRGAAEVVDLHTLLVHCAKAVTDGRRS...   \n",
       "...                   ...                                                ...   \n",
       "689   Bostr.7867s1625.1.p  MDTLFRLVSLQQQQQSDSIITNQSSLSRTSTTTTGSPQTAYHYNFP...   \n",
       "3504        Jcr4S04319.10  MQTSQKHRNSASIHGFYHQPKEIDPYGLSHIQVLDNNALSDGGSQG...   \n",
       "4339      Medtr4g064160.1  MDHTFGFMDKPFLQPDPNNATEEEEDSPLDEIDFSSTVLRYINQML...   \n",
       "7790     Sopen01g031170.1  MQDSTDIQNFCNNYGFYQEYAVNQQLQEMNKQQEELNEHAAHSAGQ...   \n",
       "6268      PH01000054G0400  MALGGARWHVGRGGSMLRCDSVVHHGTEAAPTQHGGGAARDALDGC...   \n",
       "\n",
       "      length class  \n",
       "541      315  GRAS  \n",
       "4366     658  GRAS  \n",
       "4765     508  GRAS  \n",
       "1417     471  GRAS  \n",
       "6313     408  GRAS  \n",
       "...      ...   ...  \n",
       "689      527  GRAS  \n",
       "3504     542  GRAS  \n",
       "4339     687  GRAS  \n",
       "7790     452  GRAS  \n",
       "6268     785  GRAS  \n",
       "\n",
       "[1861 rows x 4 columns]"
      ]
     },
     "execution_count": 5,
     "metadata": {},
     "output_type": "execute_result"
    }
   ],
   "source": [
    "testset_positive = testset[testset['class'] == 1]\n",
    "testset_positive.loc[:, 'class'] = gene_familly\n",
    "testset_positive"
   ]
  },
  {
   "cell_type": "code",
   "execution_count": 6,
   "id": "25a9ad39-47e0-4b0a-9669-c9ed5c6cafa3",
   "metadata": {
    "execution": {
     "iopub.execute_input": "2024-07-03T23:16:22.745882Z",
     "iopub.status.busy": "2024-07-03T23:16:22.745753Z",
     "iopub.status.idle": "2024-07-03T23:16:22.767976Z",
     "shell.execute_reply": "2024-07-03T23:16:22.767682Z"
    },
    "papermill": {
     "duration": 0.024875,
     "end_time": "2024-07-03T23:16:22.769034",
     "exception": false,
     "start_time": "2024-07-03T23:16:22.744159",
     "status": "completed"
    },
    "tags": []
   },
   "outputs": [],
   "source": [
    "testset_positive.to_csv(\"../data/testset/\"+gene_dict['file_code']+\".csv\")"
   ]
  },
  {
   "cell_type": "code",
   "execution_count": null,
   "id": "4107c4c5-3c5d-44f9-af27-5b81b6d102e5",
   "metadata": {
    "papermill": {
     "duration": 0.001313,
     "end_time": "2024-07-03T23:16:22.771584",
     "exception": false,
     "start_time": "2024-07-03T23:16:22.770271",
     "status": "completed"
    },
    "tags": []
   },
   "outputs": [],
   "source": []
  }
 ],
 "metadata": {
  "kernelspec": {
   "display_name": "Python 3 (ipykernel)",
   "language": "python",
   "name": "python3"
  },
  "language_info": {
   "codemirror_mode": {
    "name": "ipython",
    "version": 3
   },
   "file_extension": ".py",
   "mimetype": "text/x-python",
   "name": "python",
   "nbconvert_exporter": "python",
   "pygments_lexer": "ipython3",
   "version": "3.11.7"
  },
  "papermill": {
   "default_parameters": {},
   "duration": 1.953386,
   "end_time": "2024-07-03T23:16:23.090756",
   "environment_variables": {},
   "exception": null,
   "input_path": "05-extract_testset.ipynb",
   "output_path": "AutoSave/TestGen/05-extract_testset-GRAS.ipynb",
   "parameters": {
    "gene_familly": "GRAS"
   },
   "start_time": "2024-07-03T23:16:21.137370",
   "version": "2.6.0"
  }
 },
 "nbformat": 4,
 "nbformat_minor": 5
}