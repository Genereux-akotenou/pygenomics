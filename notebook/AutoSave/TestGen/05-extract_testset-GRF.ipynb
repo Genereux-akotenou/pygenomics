{
 "cells": [
  {
   "cell_type": "code",
   "execution_count": 1,
   "id": "cd170f83",
   "metadata": {
    "execution": {
     "iopub.execute_input": "2024-07-03T23:16:23.886283Z",
     "iopub.status.busy": "2024-07-03T23:16:23.885595Z",
     "iopub.status.idle": "2024-07-03T23:16:23.897375Z",
     "shell.execute_reply": "2024-07-03T23:16:23.896715Z"
    },
    "papermill": {
     "duration": 0.023668,
     "end_time": "2024-07-03T23:16:23.899214",
     "exception": false,
     "start_time": "2024-07-03T23:16:23.875546",
     "status": "completed"
    },
    "tags": [
     "injected-parameters"
    ]
   },
   "outputs": [],
   "source": [
    "# Parameters\n",
    "gene_familly = \"GRF\"\n"
   ]
  },
  {
   "cell_type": "code",
   "execution_count": 2,
   "id": "e7cdbe25-11a6-48da-abd4-9ae5eee27bfe",
   "metadata": {
    "execution": {
     "iopub.execute_input": "2024-07-03T23:16:23.905723Z",
     "iopub.status.busy": "2024-07-03T23:16:23.905510Z",
     "iopub.status.idle": "2024-07-03T23:16:24.568794Z",
     "shell.execute_reply": "2024-07-03T23:16:24.568270Z"
    },
    "papermill": {
     "duration": 0.668236,
     "end_time": "2024-07-03T23:16:24.570420",
     "exception": false,
     "start_time": "2024-07-03T23:16:23.902184",
     "status": "completed"
    },
    "tags": []
   },
   "outputs": [],
   "source": [
    "import json\n",
    "import pandas as pd\n",
    "from sklearn.model_selection import train_test_split"
   ]
  },
  {
   "cell_type": "code",
   "execution_count": 3,
   "id": "6e20f340-8cbc-46f2-be83-6f1c4523930a",
   "metadata": {
    "execution": {
     "iopub.execute_input": "2024-07-03T23:16:24.573877Z",
     "iopub.status.busy": "2024-07-03T23:16:24.573628Z",
     "iopub.status.idle": "2024-07-03T23:16:24.602885Z",
     "shell.execute_reply": "2024-07-03T23:16:24.602558Z"
    },
    "papermill": {
     "duration": 0.032048,
     "end_time": "2024-07-03T23:16:24.604002",
     "exception": false,
     "start_time": "2024-07-03T23:16:24.571954",
     "status": "completed"
    },
    "tags": []
   },
   "outputs": [
    {
     "data": {
      "text/html": [
       "<div>\n",
       "<style scoped>\n",
       "    .dataframe tbody tr th:only-of-type {\n",
       "        vertical-align: middle;\n",
       "    }\n",
       "\n",
       "    .dataframe tbody tr th {\n",
       "        vertical-align: top;\n",
       "    }\n",
       "\n",
       "    .dataframe thead th {\n",
       "        text-align: right;\n",
       "    }\n",
       "</style>\n",
       "<table border=\"1\" class=\"dataframe\">\n",
       "  <thead>\n",
       "    <tr style=\"text-align: right;\">\n",
       "      <th></th>\n",
       "      <th>id</th>\n",
       "      <th>sequence</th>\n",
       "      <th>length</th>\n",
       "      <th>class</th>\n",
       "    </tr>\n",
       "  </thead>\n",
       "  <tbody>\n",
       "    <tr>\n",
       "      <th>0</th>\n",
       "      <td>Achn028471</td>\n",
       "      <td>MGPENGVSYEILQSPEATKPKSNIGSGFWKQVRSGSGEEDLRGSKV...</td>\n",
       "      <td>543</td>\n",
       "      <td>1</td>\n",
       "    </tr>\n",
       "    <tr>\n",
       "      <th>1</th>\n",
       "      <td>Achn034531</td>\n",
       "      <td>MDLGGLVGPDNGVSSQAISDPETTKPNSNGSGFLKQGRSGSGQDDW...</td>\n",
       "      <td>518</td>\n",
       "      <td>1</td>\n",
       "    </tr>\n",
       "    <tr>\n",
       "      <th>2</th>\n",
       "      <td>Achn046551</td>\n",
       "      <td>MVAAEGEGIRSSSSPFTGSQWQELEHQALIFKYLMAGIPVPPHLLL...</td>\n",
       "      <td>280</td>\n",
       "      <td>1</td>\n",
       "    </tr>\n",
       "    <tr>\n",
       "      <th>3</th>\n",
       "      <td>Achn116941</td>\n",
       "      <td>MVDQLTEPLILTLDIQWVELEHQALIYKYIVANVPVPSNLLIALKN...</td>\n",
       "      <td>452</td>\n",
       "      <td>1</td>\n",
       "    </tr>\n",
       "    <tr>\n",
       "      <th>4</th>\n",
       "      <td>Achn125631</td>\n",
       "      <td>MDLGMVGLDGLLYPSLSSDPEAKQRWYGSGFLKQERPKEEASEDDL...</td>\n",
       "      <td>538</td>\n",
       "      <td>1</td>\n",
       "    </tr>\n",
       "  </tbody>\n",
       "</table>\n",
       "</div>"
      ],
      "text/plain": [
       "           id                                           sequence  length  \\\n",
       "0  Achn028471  MGPENGVSYEILQSPEATKPKSNIGSGFWKQVRSGSGEEDLRGSKV...     543   \n",
       "1  Achn034531  MDLGGLVGPDNGVSSQAISDPETTKPNSNGSGFLKQGRSGSGQDDW...     518   \n",
       "2  Achn046551  MVAAEGEGIRSSSSPFTGSQWQELEHQALIFKYLMAGIPVPPHLLL...     280   \n",
       "3  Achn116941  MVDQLTEPLILTLDIQWVELEHQALIYKYIVANVPVPSNLLIALKN...     452   \n",
       "4  Achn125631  MDLGMVGLDGLLYPSLSSDPEAKQRWYGSGFLKQERPKEEASEDDL...     538   \n",
       "\n",
       "   class  \n",
       "0      1  \n",
       "1      1  \n",
       "2      1  \n",
       "3      1  \n",
       "4      1  "
      ]
     },
     "execution_count": 3,
     "metadata": {},
     "output_type": "execute_result"
    }
   ],
   "source": [
    "# READ GENE_INFO JSON FILE\n",
    "gene_info_path = \"../data/gene_info.json\"\n",
    "dataset_path   = \"../data/one_vs_other/\"\n",
    "with open(gene_info_path, 'r') as json_file:\n",
    "    gene_info = json.load(json_file)\n",
    "\n",
    "# FOCUS ON GENE FAMILLY\n",
    "gene_dict = gene_info[gene_familly]\n",
    "df_path = dataset_path+gene_dict['file_code']+\".csv\"\n",
    "\n",
    "# LOAD WHOLE DATASET\n",
    "USE_FULL_DF = True\n",
    "if USE_FULL_DF:\n",
    "    dataset = pd.read_csv(df_path)\n",
    "else:\n",
    "    dataset_ = pd.read_csv(df_path)\n",
    "    r = min(5000/len(dataset_), 1)\n",
    "    _, dataset = train_test_split(dataset_, test_size=r, stratify=dataset_['class'], random_state=42)\n",
    "dataset.head()"
   ]
  },
  {
   "cell_type": "code",
   "execution_count": 4,
   "id": "745dff8f-540b-4299-a3f0-dabda69bd837",
   "metadata": {
    "execution": {
     "iopub.execute_input": "2024-07-03T23:16:24.606966Z",
     "iopub.status.busy": "2024-07-03T23:16:24.606797Z",
     "iopub.status.idle": "2024-07-03T23:16:24.611601Z",
     "shell.execute_reply": "2024-07-03T23:16:24.611346Z"
    },
    "papermill": {
     "duration": 0.007213,
     "end_time": "2024-07-03T23:16:24.612512",
     "exception": false,
     "start_time": "2024-07-03T23:16:24.605299",
     "status": "completed"
    },
    "tags": []
   },
   "outputs": [],
   "source": [
    "trainset, testset = train_test_split(dataset, test_size=0.2, stratify=dataset['class'], random_state=42)"
   ]
  },
  {
   "cell_type": "code",
   "execution_count": 5,
   "id": "a9b8b47d-48c6-4e94-a378-574904e308ee",
   "metadata": {
    "execution": {
     "iopub.execute_input": "2024-07-03T23:16:24.615057Z",
     "iopub.status.busy": "2024-07-03T23:16:24.614929Z",
     "iopub.status.idle": "2024-07-03T23:16:24.620666Z",
     "shell.execute_reply": "2024-07-03T23:16:24.620404Z"
    },
    "papermill": {
     "duration": 0.008033,
     "end_time": "2024-07-03T23:16:24.621548",
     "exception": false,
     "start_time": "2024-07-03T23:16:24.613515",
     "status": "completed"
    },
    "tags": []
   },
   "outputs": [
    {
     "name": "stderr",
     "output_type": "stream",
     "text": [
      "/var/folders/w8/b_cflrn97k9c15rcrn5t8mmr0000gn/T/ipykernel_2529/3395039238.py:2: FutureWarning: Setting an item of incompatible dtype is deprecated and will raise in a future error of pandas. Value 'GRF' has dtype incompatible with int64, please explicitly cast to a compatible dtype first.\n",
      "  testset_positive.loc[:, 'class'] = gene_familly\n"
     ]
    },
    {
     "data": {
      "text/html": [
       "<div>\n",
       "<style scoped>\n",
       "    .dataframe tbody tr th:only-of-type {\n",
       "        vertical-align: middle;\n",
       "    }\n",
       "\n",
       "    .dataframe tbody tr th {\n",
       "        vertical-align: top;\n",
       "    }\n",
       "\n",
       "    .dataframe thead th {\n",
       "        text-align: right;\n",
       "    }\n",
       "</style>\n",
       "<table border=\"1\" class=\"dataframe\">\n",
       "  <thead>\n",
       "    <tr style=\"text-align: right;\">\n",
       "      <th></th>\n",
       "      <th>id</th>\n",
       "      <th>sequence</th>\n",
       "      <th>length</th>\n",
       "      <th>class</th>\n",
       "    </tr>\n",
       "  </thead>\n",
       "  <tbody>\n",
       "    <tr>\n",
       "      <th>619</th>\n",
       "      <td>Gh_A02G0827</td>\n",
       "      <td>MDFGVVGLEGIVGSETSNGFTLVASESETKQKLYGSAFLKQKRSGS...</td>\n",
       "      <td>564</td>\n",
       "      <td>GRF</td>\n",
       "    </tr>\n",
       "    <tr>\n",
       "      <th>155</th>\n",
       "      <td>Bostr.28625s0309.1.p</td>\n",
       "      <td>MMSLSGSSGRTIERPPFTPTQWQELEHQALIYKYMVSGVPVPPELI...</td>\n",
       "      <td>394</td>\n",
       "      <td>GRF</td>\n",
       "    </tr>\n",
       "    <tr>\n",
       "      <th>916</th>\n",
       "      <td>NNU_018235-RA</td>\n",
       "      <td>MMSARNGSPFTASQWQELEHQALIFKYMVSGVPVPPELIFPIKRSL...</td>\n",
       "      <td>372</td>\n",
       "      <td>GRF</td>\n",
       "    </tr>\n",
       "    <tr>\n",
       "      <th>1732</th>\n",
       "      <td>GSVIVT01007165001</td>\n",
       "      <td>MDKFVEACPRWMDFGLVGLEGLVGPEDVAPSQVAETETKQMGLGSG...</td>\n",
       "      <td>558</td>\n",
       "      <td>GRF</td>\n",
       "    </tr>\n",
       "    <tr>\n",
       "      <th>1264</th>\n",
       "      <td>PH01001605G0350</td>\n",
       "      <td>MAPPPHGCFFLGSGSPSGGQMLSFSSSYSNNAGTVASVICGVGGWC...</td>\n",
       "      <td>552</td>\n",
       "      <td>GRF</td>\n",
       "    </tr>\n",
       "    <tr>\n",
       "      <th>...</th>\n",
       "      <td>...</td>\n",
       "      <td>...</td>\n",
       "      <td>...</td>\n",
       "      <td>...</td>\n",
       "    </tr>\n",
       "    <tr>\n",
       "      <th>1239</th>\n",
       "      <td>Phvul.009G047000.3</td>\n",
       "      <td>MGEFGLSHTRKRSSSSNNSGGSVVGLDVKLQSPEALFHNKMTMMAH...</td>\n",
       "      <td>587</td>\n",
       "      <td>GRF</td>\n",
       "    </tr>\n",
       "    <tr>\n",
       "      <th>687</th>\n",
       "      <td>Gorai.013G184200.2</td>\n",
       "      <td>MNSGGGGGGGGAESAGVGMVAMRSSSSPFTVSQWQELEHQALIFKY...</td>\n",
       "      <td>252</td>\n",
       "      <td>GRF</td>\n",
       "    </tr>\n",
       "    <tr>\n",
       "      <th>34</th>\n",
       "      <td>AHYPO_014513-RA</td>\n",
       "      <td>MSTTSATTIGGRTKFPFTSTQWQELEDQALIYKYMAAGVPIPPDLL...</td>\n",
       "      <td>362</td>\n",
       "      <td>GRF</td>\n",
       "    </tr>\n",
       "    <tr>\n",
       "      <th>426</th>\n",
       "      <td>Cucsa.117300.2</td>\n",
       "      <td>MSARNRFPFTAAQWQELEHQALIFKYMVSGVPIPPELLYSIKATSL...</td>\n",
       "      <td>319</td>\n",
       "      <td>GRF</td>\n",
       "    </tr>\n",
       "    <tr>\n",
       "      <th>164</th>\n",
       "      <td>Bradi2g14320.1.p</td>\n",
       "      <td>MAAEGEAKDTNPPVGSVGGGGESTTLEEGVMHEAGGGQEPEEEDAG...</td>\n",
       "      <td>260</td>\n",
       "      <td>GRF</td>\n",
       "    </tr>\n",
       "  </tbody>\n",
       "</table>\n",
       "<p>376 rows × 4 columns</p>\n",
       "</div>"
      ],
      "text/plain": [
       "                        id                                           sequence  \\\n",
       "619            Gh_A02G0827  MDFGVVGLEGIVGSETSNGFTLVASESETKQKLYGSAFLKQKRSGS...   \n",
       "155   Bostr.28625s0309.1.p  MMSLSGSSGRTIERPPFTPTQWQELEHQALIYKYMVSGVPVPPELI...   \n",
       "916          NNU_018235-RA  MMSARNGSPFTASQWQELEHQALIFKYMVSGVPVPPELIFPIKRSL...   \n",
       "1732     GSVIVT01007165001  MDKFVEACPRWMDFGLVGLEGLVGPEDVAPSQVAETETKQMGLGSG...   \n",
       "1264       PH01001605G0350  MAPPPHGCFFLGSGSPSGGQMLSFSSSYSNNAGTVASVICGVGGWC...   \n",
       "...                    ...                                                ...   \n",
       "1239    Phvul.009G047000.3  MGEFGLSHTRKRSSSSNNSGGSVVGLDVKLQSPEALFHNKMTMMAH...   \n",
       "687     Gorai.013G184200.2  MNSGGGGGGGGAESAGVGMVAMRSSSSPFTVSQWQELEHQALIFKY...   \n",
       "34         AHYPO_014513-RA  MSTTSATTIGGRTKFPFTSTQWQELEDQALIYKYMAAGVPIPPDLL...   \n",
       "426         Cucsa.117300.2  MSARNRFPFTAAQWQELEHQALIFKYMVSGVPIPPELLYSIKATSL...   \n",
       "164       Bradi2g14320.1.p  MAAEGEAKDTNPPVGSVGGGGESTTLEEGVMHEAGGGQEPEEEDAG...   \n",
       "\n",
       "      length class  \n",
       "619      564   GRF  \n",
       "155      394   GRF  \n",
       "916      372   GRF  \n",
       "1732     558   GRF  \n",
       "1264     552   GRF  \n",
       "...      ...   ...  \n",
       "1239     587   GRF  \n",
       "687      252   GRF  \n",
       "34       362   GRF  \n",
       "426      319   GRF  \n",
       "164      260   GRF  \n",
       "\n",
       "[376 rows x 4 columns]"
      ]
     },
     "execution_count": 5,
     "metadata": {},
     "output_type": "execute_result"
    }
   ],
   "source": [
    "testset_positive = testset[testset['class'] == 1]\n",
    "testset_positive.loc[:, 'class'] = gene_familly\n",
    "testset_positive"
   ]
  },
  {
   "cell_type": "code",
   "execution_count": 6,
   "id": "25a9ad39-47e0-4b0a-9669-c9ed5c6cafa3",
   "metadata": {
    "execution": {
     "iopub.execute_input": "2024-07-03T23:16:24.624474Z",
     "iopub.status.busy": "2024-07-03T23:16:24.624355Z",
     "iopub.status.idle": "2024-07-03T23:16:24.630307Z",
     "shell.execute_reply": "2024-07-03T23:16:24.630058Z"
    },
    "papermill": {
     "duration": 0.008383,
     "end_time": "2024-07-03T23:16:24.631183",
     "exception": false,
     "start_time": "2024-07-03T23:16:24.622800",
     "status": "completed"
    },
    "tags": []
   },
   "outputs": [],
   "source": [
    "testset_positive.to_csv(\"../data/testset/\"+gene_dict['file_code']+\".csv\")"
   ]
  },
  {
   "cell_type": "code",
   "execution_count": null,
   "id": "4107c4c5-3c5d-44f9-af27-5b81b6d102e5",
   "metadata": {
    "papermill": {
     "duration": 0.001194,
     "end_time": "2024-07-03T23:16:24.633551",
     "exception": false,
     "start_time": "2024-07-03T23:16:24.632357",
     "status": "completed"
    },
    "tags": []
   },
   "outputs": [],
   "source": []
  }
 ],
 "metadata": {
  "kernelspec": {
   "display_name": "Python 3 (ipykernel)",
   "language": "python",
   "name": "python3"
  },
  "language_info": {
   "codemirror_mode": {
    "name": "ipython",
    "version": 3
   },
   "file_extension": ".py",
   "mimetype": "text/x-python",
   "name": "python",
   "nbconvert_exporter": "python",
   "pygments_lexer": "ipython3",
   "version": "3.11.7"
  },
  "papermill": {
   "default_parameters": {},
   "duration": 1.857182,
   "end_time": "2024-07-03T23:16:24.952733",
   "environment_variables": {},
   "exception": null,
   "input_path": "05-extract_testset.ipynb",
   "output_path": "AutoSave/TestGen/05-extract_testset-GRF.ipynb",
   "parameters": {
    "gene_familly": "GRF"
   },
   "start_time": "2024-07-03T23:16:23.095551",
   "version": "2.6.0"
  }
 },
 "nbformat": 4,
 "nbformat_minor": 5
}