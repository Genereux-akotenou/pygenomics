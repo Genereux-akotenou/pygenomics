{
 "cells": [
  {
   "cell_type": "code",
   "execution_count": 1,
   "id": "ab9b31f2",
   "metadata": {
    "execution": {
     "iopub.execute_input": "2024-07-03T23:16:25.746609Z",
     "iopub.status.busy": "2024-07-03T23:16:25.745952Z",
     "iopub.status.idle": "2024-07-03T23:16:25.757530Z",
     "shell.execute_reply": "2024-07-03T23:16:25.756908Z"
    },
    "papermill": {
     "duration": 0.023782,
     "end_time": "2024-07-03T23:16:25.759273",
     "exception": false,
     "start_time": "2024-07-03T23:16:25.735491",
     "status": "completed"
    },
    "tags": [
     "injected-parameters"
    ]
   },
   "outputs": [],
   "source": [
    "# Parameters\n",
    "gene_familly = \"GeBP\"\n"
   ]
  },
  {
   "cell_type": "code",
   "execution_count": 2,
   "id": "e7cdbe25-11a6-48da-abd4-9ae5eee27bfe",
   "metadata": {
    "execution": {
     "iopub.execute_input": "2024-07-03T23:16:25.766922Z",
     "iopub.status.busy": "2024-07-03T23:16:25.766735Z",
     "iopub.status.idle": "2024-07-03T23:16:26.432881Z",
     "shell.execute_reply": "2024-07-03T23:16:26.432389Z"
    },
    "papermill": {
     "duration": 0.672372,
     "end_time": "2024-07-03T23:16:26.434523",
     "exception": false,
     "start_time": "2024-07-03T23:16:25.762151",
     "status": "completed"
    },
    "tags": []
   },
   "outputs": [],
   "source": [
    "import json\n",
    "import pandas as pd\n",
    "from sklearn.model_selection import train_test_split"
   ]
  },
  {
   "cell_type": "code",
   "execution_count": 3,
   "id": "6e20f340-8cbc-46f2-be83-6f1c4523930a",
   "metadata": {
    "execution": {
     "iopub.execute_input": "2024-07-03T23:16:26.439109Z",
     "iopub.status.busy": "2024-07-03T23:16:26.438751Z",
     "iopub.status.idle": "2024-07-03T23:16:26.462724Z",
     "shell.execute_reply": "2024-07-03T23:16:26.462362Z"
    },
    "papermill": {
     "duration": 0.026732,
     "end_time": "2024-07-03T23:16:26.463820",
     "exception": false,
     "start_time": "2024-07-03T23:16:26.437088",
     "status": "completed"
    },
    "tags": []
   },
   "outputs": [
    {
     "data": {
      "text/html": [
       "<div>\n",
       "<style scoped>\n",
       "    .dataframe tbody tr th:only-of-type {\n",
       "        vertical-align: middle;\n",
       "    }\n",
       "\n",
       "    .dataframe tbody tr th {\n",
       "        vertical-align: top;\n",
       "    }\n",
       "\n",
       "    .dataframe thead th {\n",
       "        text-align: right;\n",
       "    }\n",
       "</style>\n",
       "<table border=\"1\" class=\"dataframe\">\n",
       "  <thead>\n",
       "    <tr style=\"text-align: right;\">\n",
       "      <th></th>\n",
       "      <th>id</th>\n",
       "      <th>sequence</th>\n",
       "      <th>length</th>\n",
       "      <th>class</th>\n",
       "    </tr>\n",
       "  </thead>\n",
       "  <tbody>\n",
       "    <tr>\n",
       "      <th>0</th>\n",
       "      <td>Achn030741</td>\n",
       "      <td>MASNRRPETEAQAGSSSEEEEGSSEENEDQEVSESESEEEKAPAPT...</td>\n",
       "      <td>388</td>\n",
       "      <td>1</td>\n",
       "    </tr>\n",
       "    <tr>\n",
       "      <th>1</th>\n",
       "      <td>Achn056961</td>\n",
       "      <td>MASEEDPTVYGEEDLDEDDEEDSEEDEGLTIPTSNPPQPDLDDDLD...</td>\n",
       "      <td>401</td>\n",
       "      <td>1</td>\n",
       "    </tr>\n",
       "    <tr>\n",
       "      <th>2</th>\n",
       "      <td>Achn082261</td>\n",
       "      <td>MAPNRLPEAEAQGSPSSDEEVEGESSEENESQSESDEEEDKTSTPS...</td>\n",
       "      <td>363</td>\n",
       "      <td>1</td>\n",
       "    </tr>\n",
       "    <tr>\n",
       "      <th>3</th>\n",
       "      <td>Achn111841</td>\n",
       "      <td>MASSRRPETEAQSGSSSEEEGSSEENEDQEVSESEEDKAPTPTRQK...</td>\n",
       "      <td>385</td>\n",
       "      <td>1</td>\n",
       "    </tr>\n",
       "    <tr>\n",
       "      <th>4</th>\n",
       "      <td>Achn176771</td>\n",
       "      <td>MPREIKNQNGKNVAQKPRIPTTPSSKQPAEKLPDKAAVETEQDPEV...</td>\n",
       "      <td>260</td>\n",
       "      <td>1</td>\n",
       "    </tr>\n",
       "  </tbody>\n",
       "</table>\n",
       "</div>"
      ],
      "text/plain": [
       "           id                                           sequence  length  \\\n",
       "0  Achn030741  MASNRRPETEAQAGSSSEEEEGSSEENEDQEVSESESEEEKAPAPT...     388   \n",
       "1  Achn056961  MASEEDPTVYGEEDLDEDDEEDSEEDEGLTIPTSNPPQPDLDDDLD...     401   \n",
       "2  Achn082261  MAPNRLPEAEAQGSPSSDEEVEGESSEENESQSESDEEEDKTSTPS...     363   \n",
       "3  Achn111841  MASSRRPETEAQSGSSSEEEGSSEENEDQEVSESEEDKAPTPTRQK...     385   \n",
       "4  Achn176771  MPREIKNQNGKNVAQKPRIPTTPSSKQPAEKLPDKAAVETEQDPEV...     260   \n",
       "\n",
       "   class  \n",
       "0      1  \n",
       "1      1  \n",
       "2      1  \n",
       "3      1  \n",
       "4      1  "
      ]
     },
     "execution_count": 3,
     "metadata": {},
     "output_type": "execute_result"
    }
   ],
   "source": [
    "# READ GENE_INFO JSON FILE\n",
    "gene_info_path = \"../data/gene_info.json\"\n",
    "dataset_path   = \"../data/one_vs_other/\"\n",
    "with open(gene_info_path, 'r') as json_file:\n",
    "    gene_info = json.load(json_file)\n",
    "\n",
    "# FOCUS ON GENE FAMILLY\n",
    "gene_dict = gene_info[gene_familly]\n",
    "df_path = dataset_path+gene_dict['file_code']+\".csv\"\n",
    "\n",
    "# LOAD WHOLE DATASET\n",
    "USE_FULL_DF = True\n",
    "if USE_FULL_DF:\n",
    "    dataset = pd.read_csv(df_path)\n",
    "else:\n",
    "    dataset_ = pd.read_csv(df_path)\n",
    "    r = min(5000/len(dataset_), 1)\n",
    "    _, dataset = train_test_split(dataset_, test_size=r, stratify=dataset_['class'], random_state=42)\n",
    "dataset.head()"
   ]
  },
  {
   "cell_type": "code",
   "execution_count": 4,
   "id": "745dff8f-540b-4299-a3f0-dabda69bd837",
   "metadata": {
    "execution": {
     "iopub.execute_input": "2024-07-03T23:16:26.466732Z",
     "iopub.status.busy": "2024-07-03T23:16:26.466574Z",
     "iopub.status.idle": "2024-07-03T23:16:26.471182Z",
     "shell.execute_reply": "2024-07-03T23:16:26.470910Z"
    },
    "papermill": {
     "duration": 0.007125,
     "end_time": "2024-07-03T23:16:26.472163",
     "exception": false,
     "start_time": "2024-07-03T23:16:26.465038",
     "status": "completed"
    },
    "tags": []
   },
   "outputs": [],
   "source": [
    "trainset, testset = train_test_split(dataset, test_size=0.2, stratify=dataset['class'], random_state=42)"
   ]
  },
  {
   "cell_type": "code",
   "execution_count": 5,
   "id": "a9b8b47d-48c6-4e94-a378-574904e308ee",
   "metadata": {
    "execution": {
     "iopub.execute_input": "2024-07-03T23:16:26.474779Z",
     "iopub.status.busy": "2024-07-03T23:16:26.474655Z",
     "iopub.status.idle": "2024-07-03T23:16:26.480673Z",
     "shell.execute_reply": "2024-07-03T23:16:26.480411Z"
    },
    "papermill": {
     "duration": 0.008402,
     "end_time": "2024-07-03T23:16:26.481601",
     "exception": false,
     "start_time": "2024-07-03T23:16:26.473199",
     "status": "completed"
    },
    "tags": []
   },
   "outputs": [
    {
     "name": "stderr",
     "output_type": "stream",
     "text": [
      "/var/folders/w8/b_cflrn97k9c15rcrn5t8mmr0000gn/T/ipykernel_2536/3395039238.py:2: FutureWarning: Setting an item of incompatible dtype is deprecated and will raise in a future error of pandas. Value 'GeBP' has dtype incompatible with int64, please explicitly cast to a compatible dtype first.\n",
      "  testset_positive.loc[:, 'class'] = gene_familly\n"
     ]
    },
    {
     "data": {
      "text/html": [
       "<div>\n",
       "<style scoped>\n",
       "    .dataframe tbody tr th:only-of-type {\n",
       "        vertical-align: middle;\n",
       "    }\n",
       "\n",
       "    .dataframe tbody tr th {\n",
       "        vertical-align: top;\n",
       "    }\n",
       "\n",
       "    .dataframe thead th {\n",
       "        text-align: right;\n",
       "    }\n",
       "</style>\n",
       "<table border=\"1\" class=\"dataframe\">\n",
       "  <thead>\n",
       "    <tr style=\"text-align: right;\">\n",
       "      <th></th>\n",
       "      <th>id</th>\n",
       "      <th>sequence</th>\n",
       "      <th>length</th>\n",
       "      <th>class</th>\n",
       "    </tr>\n",
       "  </thead>\n",
       "  <tbody>\n",
       "    <tr>\n",
       "      <th>933</th>\n",
       "      <td>ORUFI09G13330.1</td>\n",
       "      <td>MERLMRKSNSLTQRSRSSKRPAEEADAAVAAGSASEGSDASAEVAR...</td>\n",
       "      <td>465</td>\n",
       "      <td>GeBP</td>\n",
       "    </tr>\n",
       "    <tr>\n",
       "      <th>1219</th>\n",
       "      <td>Seita.9G121300.1.p</td>\n",
       "      <td>MASGQQALPVPAPVPPNPNPTAPADLTPPAASAGARKLPIKRRSPR...</td>\n",
       "      <td>371</td>\n",
       "      <td>GeBP</td>\n",
       "    </tr>\n",
       "    <tr>\n",
       "      <th>1526</th>\n",
       "      <td>Zmw_sc01573.1.g00060.1</td>\n",
       "      <td>KAKKPGGKPEKSGLDSTQPLSKSENSARAPCAWSNKDSIKILEALA...</td>\n",
       "      <td>256</td>\n",
       "      <td>GeBP</td>\n",
       "    </tr>\n",
       "    <tr>\n",
       "      <th>970</th>\n",
       "      <td>Pahal.G02668.1</td>\n",
       "      <td>MAPKRSAPPPPPPPPASDEETASGSGSEEEEEEEEIAYSPPPSVAP...</td>\n",
       "      <td>325</td>\n",
       "      <td>GeBP</td>\n",
       "    </tr>\n",
       "    <tr>\n",
       "      <th>425</th>\n",
       "      <td>evm.model.supercontig_8.251</td>\n",
       "      <td>MAPKRHIENPPPVESSEEEEEEEEGEEEEGEEEVEEMEQSEENDVV...</td>\n",
       "      <td>421</td>\n",
       "      <td>GeBP</td>\n",
       "    </tr>\n",
       "    <tr>\n",
       "      <th>...</th>\n",
       "      <td>...</td>\n",
       "      <td>...</td>\n",
       "      <td>...</td>\n",
       "      <td>...</td>\n",
       "    </tr>\n",
       "    <tr>\n",
       "      <th>1013</th>\n",
       "      <td>Peinf101Scf00303g14010.1</td>\n",
       "      <td>MSEDGSGSGSGAQKLPNAQVRKIDSEKNLGNRILYNETPSDEESKT...</td>\n",
       "      <td>319</td>\n",
       "      <td>GeBP</td>\n",
       "    </tr>\n",
       "    <tr>\n",
       "      <th>731</th>\n",
       "      <td>Manes.12G076500.2.p</td>\n",
       "      <td>MAIKRLSENPPPAASSSEEEEEEENDSVEKNDSEDEQKDVGDGDDD...</td>\n",
       "      <td>398</td>\n",
       "      <td>GeBP</td>\n",
       "    </tr>\n",
       "    <tr>\n",
       "      <th>1529</th>\n",
       "      <td>Zmw_sc01771.1.g00070.1</td>\n",
       "      <td>KAKKPGGKPEKSGLDSTQPLSKSEKSARAPCAWSNKDSIKILEALA...</td>\n",
       "      <td>256</td>\n",
       "      <td>GeBP</td>\n",
       "    </tr>\n",
       "    <tr>\n",
       "      <th>28</th>\n",
       "      <td>AHYPO_011843-RA</td>\n",
       "      <td>MASEEDQPIYAFDDDEDDEDDSEPLNGAVPDDDVVVDSDSSSGDSA...</td>\n",
       "      <td>403</td>\n",
       "      <td>GeBP</td>\n",
       "    </tr>\n",
       "    <tr>\n",
       "      <th>704</th>\n",
       "      <td>Lus10017793</td>\n",
       "      <td>MEATPSKSSTKSPVSHAVSASRKRGTETETEAKGTKRKKKESAAKP...</td>\n",
       "      <td>241</td>\n",
       "      <td>GeBP</td>\n",
       "    </tr>\n",
       "  </tbody>\n",
       "</table>\n",
       "<p>313 rows × 4 columns</p>\n",
       "</div>"
      ],
      "text/plain": [
       "                               id  \\\n",
       "933               ORUFI09G13330.1   \n",
       "1219           Seita.9G121300.1.p   \n",
       "1526       Zmw_sc01573.1.g00060.1   \n",
       "970                Pahal.G02668.1   \n",
       "425   evm.model.supercontig_8.251   \n",
       "...                           ...   \n",
       "1013     Peinf101Scf00303g14010.1   \n",
       "731           Manes.12G076500.2.p   \n",
       "1529       Zmw_sc01771.1.g00070.1   \n",
       "28                AHYPO_011843-RA   \n",
       "704                   Lus10017793   \n",
       "\n",
       "                                               sequence  length class  \n",
       "933   MERLMRKSNSLTQRSRSSKRPAEEADAAVAAGSASEGSDASAEVAR...     465  GeBP  \n",
       "1219  MASGQQALPVPAPVPPNPNPTAPADLTPPAASAGARKLPIKRRSPR...     371  GeBP  \n",
       "1526  KAKKPGGKPEKSGLDSTQPLSKSENSARAPCAWSNKDSIKILEALA...     256  GeBP  \n",
       "970   MAPKRSAPPPPPPPPASDEETASGSGSEEEEEEEEIAYSPPPSVAP...     325  GeBP  \n",
       "425   MAPKRHIENPPPVESSEEEEEEEEGEEEEGEEEVEEMEQSEENDVV...     421  GeBP  \n",
       "...                                                 ...     ...   ...  \n",
       "1013  MSEDGSGSGSGAQKLPNAQVRKIDSEKNLGNRILYNETPSDEESKT...     319  GeBP  \n",
       "731   MAIKRLSENPPPAASSSEEEEEEENDSVEKNDSEDEQKDVGDGDDD...     398  GeBP  \n",
       "1529  KAKKPGGKPEKSGLDSTQPLSKSEKSARAPCAWSNKDSIKILEALA...     256  GeBP  \n",
       "28    MASEEDQPIYAFDDDEDDEDDSEPLNGAVPDDDVVVDSDSSSGDSA...     403  GeBP  \n",
       "704   MEATPSKSSTKSPVSHAVSASRKRGTETETEAKGTKRKKKESAAKP...     241  GeBP  \n",
       "\n",
       "[313 rows x 4 columns]"
      ]
     },
     "execution_count": 5,
     "metadata": {},
     "output_type": "execute_result"
    }
   ],
   "source": [
    "testset_positive = testset[testset['class'] == 1]\n",
    "testset_positive.loc[:, 'class'] = gene_familly\n",
    "testset_positive"
   ]
  },
  {
   "cell_type": "code",
   "execution_count": 6,
   "id": "25a9ad39-47e0-4b0a-9669-c9ed5c6cafa3",
   "metadata": {
    "execution": {
     "iopub.execute_input": "2024-07-03T23:16:26.484620Z",
     "iopub.status.busy": "2024-07-03T23:16:26.484487Z",
     "iopub.status.idle": "2024-07-03T23:16:26.489964Z",
     "shell.execute_reply": "2024-07-03T23:16:26.489710Z"
    },
    "papermill": {
     "duration": 0.008035,
     "end_time": "2024-07-03T23:16:26.490909",
     "exception": false,
     "start_time": "2024-07-03T23:16:26.482874",
     "status": "completed"
    },
    "tags": []
   },
   "outputs": [],
   "source": [
    "testset_positive.to_csv(\"../data/testset/\"+gene_dict['file_code']+\".csv\")"
   ]
  },
  {
   "cell_type": "code",
   "execution_count": null,
   "id": "4107c4c5-3c5d-44f9-af27-5b81b6d102e5",
   "metadata": {
    "papermill": {
     "duration": 0.00121,
     "end_time": "2024-07-03T23:16:26.493308",
     "exception": false,
     "start_time": "2024-07-03T23:16:26.492098",
     "status": "completed"
    },
    "tags": []
   },
   "outputs": [],
   "source": []
  }
 ],
 "metadata": {
  "kernelspec": {
   "display_name": "Python 3 (ipykernel)",
   "language": "python",
   "name": "python3"
  },
  "language_info": {
   "codemirror_mode": {
    "name": "ipython",
    "version": 3
   },
   "file_extension": ".py",
   "mimetype": "text/x-python",
   "name": "python",
   "nbconvert_exporter": "python",
   "pygments_lexer": "ipython3",
   "version": "3.11.7"
  },
  "papermill": {
   "default_parameters": {},
   "duration": 1.853658,
   "end_time": "2024-07-03T23:16:26.811384",
   "environment_variables": {},
   "exception": null,
   "input_path": "05-extract_testset.ipynb",
   "output_path": "AutoSave/TestGen/05-extract_testset-GeBP.ipynb",
   "parameters": {
    "gene_familly": "GeBP"
   },
   "start_time": "2024-07-03T23:16:24.957726",
   "version": "2.6.0"
  }
 },
 "nbformat": 4,
 "nbformat_minor": 5
}