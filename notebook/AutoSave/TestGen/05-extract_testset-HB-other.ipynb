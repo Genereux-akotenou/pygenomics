{
 "cells": [
  {
   "cell_type": "code",
   "execution_count": 1,
   "id": "5ecedcde",
   "metadata": {
    "execution": {
     "iopub.execute_input": "2024-07-03T23:16:29.050484Z",
     "iopub.status.busy": "2024-07-03T23:16:29.049911Z",
     "iopub.status.idle": "2024-07-03T23:16:29.060999Z",
     "shell.execute_reply": "2024-07-03T23:16:29.060314Z"
    },
    "papermill": {
     "duration": 0.023435,
     "end_time": "2024-07-03T23:16:29.063021",
     "exception": false,
     "start_time": "2024-07-03T23:16:29.039586",
     "status": "completed"
    },
    "tags": [
     "injected-parameters"
    ]
   },
   "outputs": [],
   "source": [
    "# Parameters\n",
    "gene_familly = \"HB-other\"\n"
   ]
  },
  {
   "cell_type": "code",
   "execution_count": 2,
   "id": "e7cdbe25-11a6-48da-abd4-9ae5eee27bfe",
   "metadata": {
    "execution": {
     "iopub.execute_input": "2024-07-03T23:16:29.068565Z",
     "iopub.status.busy": "2024-07-03T23:16:29.068313Z",
     "iopub.status.idle": "2024-07-03T23:16:29.747471Z",
     "shell.execute_reply": "2024-07-03T23:16:29.746954Z"
    },
    "papermill": {
     "duration": 0.683193,
     "end_time": "2024-07-03T23:16:29.749064",
     "exception": false,
     "start_time": "2024-07-03T23:16:29.065871",
     "status": "completed"
    },
    "tags": []
   },
   "outputs": [],
   "source": [
    "import json\n",
    "import pandas as pd\n",
    "from sklearn.model_selection import train_test_split"
   ]
  },
  {
   "cell_type": "code",
   "execution_count": 3,
   "id": "6e20f340-8cbc-46f2-be83-6f1c4523930a",
   "metadata": {
    "execution": {
     "iopub.execute_input": "2024-07-03T23:16:29.752515Z",
     "iopub.status.busy": "2024-07-03T23:16:29.752280Z",
     "iopub.status.idle": "2024-07-03T23:16:29.789342Z",
     "shell.execute_reply": "2024-07-03T23:16:29.788994Z"
    },
    "papermill": {
     "duration": 0.039797,
     "end_time": "2024-07-03T23:16:29.790389",
     "exception": false,
     "start_time": "2024-07-03T23:16:29.750592",
     "status": "completed"
    },
    "tags": []
   },
   "outputs": [
    {
     "data": {
      "text/html": [
       "<div>\n",
       "<style scoped>\n",
       "    .dataframe tbody tr th:only-of-type {\n",
       "        vertical-align: middle;\n",
       "    }\n",
       "\n",
       "    .dataframe tbody tr th {\n",
       "        vertical-align: top;\n",
       "    }\n",
       "\n",
       "    .dataframe thead th {\n",
       "        text-align: right;\n",
       "    }\n",
       "</style>\n",
       "<table border=\"1\" class=\"dataframe\">\n",
       "  <thead>\n",
       "    <tr style=\"text-align: right;\">\n",
       "      <th></th>\n",
       "      <th>id</th>\n",
       "      <th>sequence</th>\n",
       "      <th>length</th>\n",
       "      <th>class</th>\n",
       "    </tr>\n",
       "  </thead>\n",
       "  <tbody>\n",
       "    <tr>\n",
       "      <th>0</th>\n",
       "      <td>Achn006961</td>\n",
       "      <td>MGCSHGGRGSKRGNGSGDPDGDCGKYTRYTAEQVEVLEKVFAECPK...</td>\n",
       "      <td>134</td>\n",
       "      <td>1</td>\n",
       "    </tr>\n",
       "    <tr>\n",
       "      <th>1</th>\n",
       "      <td>Achn085431</td>\n",
       "      <td>MKSEIAGSLGLTEKQVSGWFCHRRLKDKNSQHGEAPANGRQDRSSG...</td>\n",
       "      <td>395</td>\n",
       "      <td>1</td>\n",
       "    </tr>\n",
       "    <tr>\n",
       "      <th>2</th>\n",
       "      <td>Achn133111</td>\n",
       "      <td>MDTILQEHNTQVPARDVLEALAEKFSASEERSGTIVVQMKQVWNWF...</td>\n",
       "      <td>355</td>\n",
       "      <td>1</td>\n",
       "    </tr>\n",
       "    <tr>\n",
       "      <th>3</th>\n",
       "      <td>Achn159891</td>\n",
       "      <td>MAAASSFYSPMALRYLPAPYTHRPSVSHLRANLLLPRYPFRRPVVV...</td>\n",
       "      <td>800</td>\n",
       "      <td>1</td>\n",
       "    </tr>\n",
       "    <tr>\n",
       "      <th>4</th>\n",
       "      <td>Achn179461</td>\n",
       "      <td>MVESYAVHSEDNNTPPEKSKKRRFKTPSQVEALEKFYSEHKYPSEE...</td>\n",
       "      <td>493</td>\n",
       "      <td>1</td>\n",
       "    </tr>\n",
       "  </tbody>\n",
       "</table>\n",
       "</div>"
      ],
      "text/plain": [
       "           id                                           sequence  length  \\\n",
       "0  Achn006961  MGCSHGGRGSKRGNGSGDPDGDCGKYTRYTAEQVEVLEKVFAECPK...     134   \n",
       "1  Achn085431  MKSEIAGSLGLTEKQVSGWFCHRRLKDKNSQHGEAPANGRQDRSSG...     395   \n",
       "2  Achn133111  MDTILQEHNTQVPARDVLEALAEKFSASEERSGTIVVQMKQVWNWF...     355   \n",
       "3  Achn159891  MAAASSFYSPMALRYLPAPYTHRPSVSHLRANLLLPRYPFRRPVVV...     800   \n",
       "4  Achn179461  MVESYAVHSEDNNTPPEKSKKRRFKTPSQVEALEKFYSEHKYPSEE...     493   \n",
       "\n",
       "   class  \n",
       "0      1  \n",
       "1      1  \n",
       "2      1  \n",
       "3      1  \n",
       "4      1  "
      ]
     },
     "execution_count": 3,
     "metadata": {},
     "output_type": "execute_result"
    }
   ],
   "source": [
    "# READ GENE_INFO JSON FILE\n",
    "gene_info_path = \"../data/gene_info.json\"\n",
    "dataset_path   = \"../data/one_vs_other/\"\n",
    "with open(gene_info_path, 'r') as json_file:\n",
    "    gene_info = json.load(json_file)\n",
    "\n",
    "# FOCUS ON GENE FAMILLY\n",
    "gene_dict = gene_info[gene_familly]\n",
    "df_path = dataset_path+gene_dict['file_code']+\".csv\"\n",
    "\n",
    "# LOAD WHOLE DATASET\n",
    "USE_FULL_DF = True\n",
    "if USE_FULL_DF:\n",
    "    dataset = pd.read_csv(df_path)\n",
    "else:\n",
    "    dataset_ = pd.read_csv(df_path)\n",
    "    r = min(5000/len(dataset_), 1)\n",
    "    _, dataset = train_test_split(dataset_, test_size=r, stratify=dataset_['class'], random_state=42)\n",
    "dataset.head()"
   ]
  },
  {
   "cell_type": "code",
   "execution_count": 4,
   "id": "745dff8f-540b-4299-a3f0-dabda69bd837",
   "metadata": {
    "execution": {
     "iopub.execute_input": "2024-07-03T23:16:29.793360Z",
     "iopub.status.busy": "2024-07-03T23:16:29.793212Z",
     "iopub.status.idle": "2024-07-03T23:16:29.797839Z",
     "shell.execute_reply": "2024-07-03T23:16:29.797532Z"
    },
    "papermill": {
     "duration": 0.007226,
     "end_time": "2024-07-03T23:16:29.798870",
     "exception": false,
     "start_time": "2024-07-03T23:16:29.791644",
     "status": "completed"
    },
    "tags": []
   },
   "outputs": [],
   "source": [
    "trainset, testset = train_test_split(dataset, test_size=0.2, stratify=dataset['class'], random_state=42)"
   ]
  },
  {
   "cell_type": "code",
   "execution_count": 5,
   "id": "a9b8b47d-48c6-4e94-a378-574904e308ee",
   "metadata": {
    "execution": {
     "iopub.execute_input": "2024-07-03T23:16:29.801519Z",
     "iopub.status.busy": "2024-07-03T23:16:29.801315Z",
     "iopub.status.idle": "2024-07-03T23:16:29.807083Z",
     "shell.execute_reply": "2024-07-03T23:16:29.806806Z"
    },
    "papermill": {
     "duration": 0.008005,
     "end_time": "2024-07-03T23:16:29.807939",
     "exception": false,
     "start_time": "2024-07-03T23:16:29.799934",
     "status": "completed"
    },
    "tags": []
   },
   "outputs": [
    {
     "name": "stderr",
     "output_type": "stream",
     "text": [
      "/var/folders/w8/b_cflrn97k9c15rcrn5t8mmr0000gn/T/ipykernel_2548/3395039238.py:2: FutureWarning: Setting an item of incompatible dtype is deprecated and will raise in a future error of pandas. Value 'HB-other' has dtype incompatible with int64, please explicitly cast to a compatible dtype first.\n",
      "  testset_positive.loc[:, 'class'] = gene_familly\n"
     ]
    },
    {
     "data": {
      "text/html": [
       "<div>\n",
       "<style scoped>\n",
       "    .dataframe tbody tr th:only-of-type {\n",
       "        vertical-align: middle;\n",
       "    }\n",
       "\n",
       "    .dataframe tbody tr th {\n",
       "        vertical-align: top;\n",
       "    }\n",
       "\n",
       "    .dataframe thead th {\n",
       "        text-align: right;\n",
       "    }\n",
       "</style>\n",
       "<table border=\"1\" class=\"dataframe\">\n",
       "  <thead>\n",
       "    <tr style=\"text-align: right;\">\n",
       "      <th></th>\n",
       "      <th>id</th>\n",
       "      <th>sequence</th>\n",
       "      <th>length</th>\n",
       "      <th>class</th>\n",
       "    </tr>\n",
       "  </thead>\n",
       "  <tbody>\n",
       "    <tr>\n",
       "      <th>1948</th>\n",
       "      <td>Sphfalx0336s0007.1.p</td>\n",
       "      <td>MASDDSSPAASLEKQKRGIRRKKSASQLELLEKVYAEDKFPSIAFR...</td>\n",
       "      <td>290</td>\n",
       "      <td>HB-other</td>\n",
       "    </tr>\n",
       "    <tr>\n",
       "      <th>1724</th>\n",
       "      <td>30202.m000250</td>\n",
       "      <td>MHKTLSAQQDLVGGRLGNLYCDPLMTSGRHKITARQRWTPTPVQLQ...</td>\n",
       "      <td>53</td>\n",
       "      <td>HB-other</td>\n",
       "    </tr>\n",
       "    <tr>\n",
       "      <th>1601</th>\n",
       "      <td>Potri.011G057700.2</td>\n",
       "      <td>MKTPFQLQTLENAYATDTYPSDEMRAELSEKLGLSDRQLQMWFCHR...</td>\n",
       "      <td>1676</td>\n",
       "      <td>HB-other</td>\n",
       "    </tr>\n",
       "    <tr>\n",
       "      <th>1585</th>\n",
       "      <td>Potri.001G276800.3</td>\n",
       "      <td>MEESSEVHSEENRVSLEKNLKRTVKTPAQVIALESFYNEHKYPTEE...</td>\n",
       "      <td>499</td>\n",
       "      <td>HB-other</td>\n",
       "    </tr>\n",
       "    <tr>\n",
       "      <th>900</th>\n",
       "      <td>Kalax.0638s0009.2.p</td>\n",
       "      <td>MDGLSARLAAEEEGIGTSMESFQKCLESQKDLFHSQLIEMKRIVSA...</td>\n",
       "      <td>960</td>\n",
       "      <td>HB-other</td>\n",
       "    </tr>\n",
       "    <tr>\n",
       "      <th>...</th>\n",
       "      <td>...</td>\n",
       "      <td>...</td>\n",
       "      <td>...</td>\n",
       "      <td>...</td>\n",
       "    </tr>\n",
       "    <tr>\n",
       "      <th>1093</th>\n",
       "      <td>GSMUA_Achr6P26980_001</td>\n",
       "      <td>MLTVINYYQEKPTPESGDKPPKRKMKTPYQLEILEKAYAVDTHPSE...</td>\n",
       "      <td>2244</td>\n",
       "      <td>HB-other</td>\n",
       "    </tr>\n",
       "    <tr>\n",
       "      <th>1016</th>\n",
       "      <td>Mapoly0006s0154.1.p</td>\n",
       "      <td>MGRAPGSGGAPAFRFTAREVSEMEKALDANKGSTPARSVVQHLSDS...</td>\n",
       "      <td>425</td>\n",
       "      <td>HB-other</td>\n",
       "    </tr>\n",
       "    <tr>\n",
       "      <th>685</th>\n",
       "      <td>Glyma.19G208700.1.p</td>\n",
       "      <td>MDAWNEDFSVLEIGSSAESFQKFLVSQKELFHSQIDQFQEIVVTQC...</td>\n",
       "      <td>1025</td>\n",
       "      <td>HB-other</td>\n",
       "    </tr>\n",
       "    <tr>\n",
       "      <th>1768</th>\n",
       "      <td>SapurV1A.0303s0100.2.p</td>\n",
       "      <td>MGRPPSNGGPSFRFMQNEVTEMEAILQEYNNTMPAREVLVSLAEKF...</td>\n",
       "      <td>296</td>\n",
       "      <td>HB-other</td>\n",
       "    </tr>\n",
       "    <tr>\n",
       "      <th>767</th>\n",
       "      <td>Gorai.008G155100.1</td>\n",
       "      <td>METGGLSGGDGGSSEGEKKKPQEGEAKVKRKMKTASQLEVLEKTYA...</td>\n",
       "      <td>1749</td>\n",
       "      <td>HB-other</td>\n",
       "    </tr>\n",
       "  </tbody>\n",
       "</table>\n",
       "<p>455 rows × 4 columns</p>\n",
       "</div>"
      ],
      "text/plain": [
       "                          id  \\\n",
       "1948    Sphfalx0336s0007.1.p   \n",
       "1724           30202.m000250   \n",
       "1601      Potri.011G057700.2   \n",
       "1585      Potri.001G276800.3   \n",
       "900      Kalax.0638s0009.2.p   \n",
       "...                      ...   \n",
       "1093   GSMUA_Achr6P26980_001   \n",
       "1016     Mapoly0006s0154.1.p   \n",
       "685      Glyma.19G208700.1.p   \n",
       "1768  SapurV1A.0303s0100.2.p   \n",
       "767       Gorai.008G155100.1   \n",
       "\n",
       "                                               sequence  length     class  \n",
       "1948  MASDDSSPAASLEKQKRGIRRKKSASQLELLEKVYAEDKFPSIAFR...     290  HB-other  \n",
       "1724  MHKTLSAQQDLVGGRLGNLYCDPLMTSGRHKITARQRWTPTPVQLQ...      53  HB-other  \n",
       "1601  MKTPFQLQTLENAYATDTYPSDEMRAELSEKLGLSDRQLQMWFCHR...    1676  HB-other  \n",
       "1585  MEESSEVHSEENRVSLEKNLKRTVKTPAQVIALESFYNEHKYPTEE...     499  HB-other  \n",
       "900   MDGLSARLAAEEEGIGTSMESFQKCLESQKDLFHSQLIEMKRIVSA...     960  HB-other  \n",
       "...                                                 ...     ...       ...  \n",
       "1093  MLTVINYYQEKPTPESGDKPPKRKMKTPYQLEILEKAYAVDTHPSE...    2244  HB-other  \n",
       "1016  MGRAPGSGGAPAFRFTAREVSEMEKALDANKGSTPARSVVQHLSDS...     425  HB-other  \n",
       "685   MDAWNEDFSVLEIGSSAESFQKFLVSQKELFHSQIDQFQEIVVTQC...    1025  HB-other  \n",
       "1768  MGRPPSNGGPSFRFMQNEVTEMEAILQEYNNTMPAREVLVSLAEKF...     296  HB-other  \n",
       "767   METGGLSGGDGGSSEGEKKKPQEGEAKVKRKMKTASQLEVLEKTYA...    1749  HB-other  \n",
       "\n",
       "[455 rows x 4 columns]"
      ]
     },
     "execution_count": 5,
     "metadata": {},
     "output_type": "execute_result"
    }
   ],
   "source": [
    "testset_positive = testset[testset['class'] == 1]\n",
    "testset_positive.loc[:, 'class'] = gene_familly\n",
    "testset_positive"
   ]
  },
  {
   "cell_type": "code",
   "execution_count": 6,
   "id": "25a9ad39-47e0-4b0a-9669-c9ed5c6cafa3",
   "metadata": {
    "execution": {
     "iopub.execute_input": "2024-07-03T23:16:29.810959Z",
     "iopub.status.busy": "2024-07-03T23:16:29.810744Z",
     "iopub.status.idle": "2024-07-03T23:16:29.819243Z",
     "shell.execute_reply": "2024-07-03T23:16:29.818965Z"
    },
    "papermill": {
     "duration": 0.010962,
     "end_time": "2024-07-03T23:16:29.820160",
     "exception": false,
     "start_time": "2024-07-03T23:16:29.809198",
     "status": "completed"
    },
    "tags": []
   },
   "outputs": [],
   "source": [
    "testset_positive.to_csv(\"../data/testset/\"+gene_dict['file_code']+\".csv\")"
   ]
  },
  {
   "cell_type": "code",
   "execution_count": null,
   "id": "4107c4c5-3c5d-44f9-af27-5b81b6d102e5",
   "metadata": {
    "papermill": {
     "duration": 0.001214,
     "end_time": "2024-07-03T23:16:29.822575",
     "exception": false,
     "start_time": "2024-07-03T23:16:29.821361",
     "status": "completed"
    },
    "tags": []
   },
   "outputs": [],
   "source": []
  }
 ],
 "metadata": {
  "kernelspec": {
   "display_name": "Python 3 (ipykernel)",
   "language": "python",
   "name": "python3"
  },
  "language_info": {
   "codemirror_mode": {
    "name": "ipython",
    "version": 3
   },
   "file_extension": ".py",
   "mimetype": "text/x-python",
   "name": "python",
   "nbconvert_exporter": "python",
   "pygments_lexer": "ipython3",
   "version": "3.11.7"
  },
  "papermill": {
   "default_parameters": {},
   "duration": 1.677151,
   "end_time": "2024-07-03T23:16:30.141908",
   "environment_variables": {},
   "exception": null,
   "input_path": "05-extract_testset.ipynb",
   "output_path": "AutoSave/TestGen/05-extract_testset-HB-other.ipynb",
   "parameters": {
    "gene_familly": "HB-other"
   },
   "start_time": "2024-07-03T23:16:28.464757",
   "version": "2.6.0"
  }
 },
 "nbformat": 4,
 "nbformat_minor": 5
}