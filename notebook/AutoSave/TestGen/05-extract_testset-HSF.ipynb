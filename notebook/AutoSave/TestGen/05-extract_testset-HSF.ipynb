{
 "cells": [
  {
   "cell_type": "code",
   "execution_count": 1,
   "id": "6c891813",
   "metadata": {
    "execution": {
     "iopub.execute_input": "2024-07-03T23:16:34.124026Z",
     "iopub.status.busy": "2024-07-03T23:16:34.123375Z",
     "iopub.status.idle": "2024-07-03T23:16:34.135544Z",
     "shell.execute_reply": "2024-07-03T23:16:34.134887Z"
    },
    "papermill": {
     "duration": 0.02434,
     "end_time": "2024-07-03T23:16:34.137583",
     "exception": false,
     "start_time": "2024-07-03T23:16:34.113243",
     "status": "completed"
    },
    "tags": [
     "injected-parameters"
    ]
   },
   "outputs": [],
   "source": [
    "# Parameters\n",
    "gene_familly = \"HSF\"\n"
   ]
  },
  {
   "cell_type": "code",
   "execution_count": 2,
   "id": "e7cdbe25-11a6-48da-abd4-9ae5eee27bfe",
   "metadata": {
    "execution": {
     "iopub.execute_input": "2024-07-03T23:16:34.143951Z",
     "iopub.status.busy": "2024-07-03T23:16:34.143757Z",
     "iopub.status.idle": "2024-07-03T23:16:34.804732Z",
     "shell.execute_reply": "2024-07-03T23:16:34.804231Z"
    },
    "papermill": {
     "duration": 0.665751,
     "end_time": "2024-07-03T23:16:34.806340",
     "exception": false,
     "start_time": "2024-07-03T23:16:34.140589",
     "status": "completed"
    },
    "tags": []
   },
   "outputs": [],
   "source": [
    "import json\n",
    "import pandas as pd\n",
    "from sklearn.model_selection import train_test_split"
   ]
  },
  {
   "cell_type": "code",
   "execution_count": 3,
   "id": "6e20f340-8cbc-46f2-be83-6f1c4523930a",
   "metadata": {
    "execution": {
     "iopub.execute_input": "2024-07-03T23:16:34.809932Z",
     "iopub.status.busy": "2024-07-03T23:16:34.809682Z",
     "iopub.status.idle": "2024-07-03T23:16:34.855471Z",
     "shell.execute_reply": "2024-07-03T23:16:34.855083Z"
    },
    "papermill": {
     "duration": 0.048714,
     "end_time": "2024-07-03T23:16:34.856578",
     "exception": false,
     "start_time": "2024-07-03T23:16:34.807864",
     "status": "completed"
    },
    "tags": []
   },
   "outputs": [
    {
     "data": {
      "text/html": [
       "<div>\n",
       "<style scoped>\n",
       "    .dataframe tbody tr th:only-of-type {\n",
       "        vertical-align: middle;\n",
       "    }\n",
       "\n",
       "    .dataframe tbody tr th {\n",
       "        vertical-align: top;\n",
       "    }\n",
       "\n",
       "    .dataframe thead th {\n",
       "        text-align: right;\n",
       "    }\n",
       "</style>\n",
       "<table border=\"1\" class=\"dataframe\">\n",
       "  <thead>\n",
       "    <tr style=\"text-align: right;\">\n",
       "      <th></th>\n",
       "      <th>id</th>\n",
       "      <th>sequence</th>\n",
       "      <th>length</th>\n",
       "      <th>class</th>\n",
       "    </tr>\n",
       "  </thead>\n",
       "  <tbody>\n",
       "    <tr>\n",
       "      <th>0</th>\n",
       "      <td>Achn029931</td>\n",
       "      <td>MYIYDGTQFPIKHEEYLKLDHDEREEVIEAWYMDDSHEDQRLPHHR...</td>\n",
       "      <td>518</td>\n",
       "      <td>1</td>\n",
       "    </tr>\n",
       "    <tr>\n",
       "      <th>1</th>\n",
       "      <td>Achn057551</td>\n",
       "      <td>MNKSHKAVPAPFLTKTYQLVDDPSSDHIVSWGEDDTTFVVWRPQEF...</td>\n",
       "      <td>310</td>\n",
       "      <td>1</td>\n",
       "    </tr>\n",
       "    <tr>\n",
       "      <th>2</th>\n",
       "      <td>Achn081581</td>\n",
       "      <td>MEGLLKRIMRFMNHIELTIEHQGETRINDDGSLSPARGRFEDSTVD...</td>\n",
       "      <td>343</td>\n",
       "      <td>1</td>\n",
       "    </tr>\n",
       "    <tr>\n",
       "      <th>3</th>\n",
       "      <td>Achn086291</td>\n",
       "      <td>MSPDDKPPFSHSKSPSYSSCLPGSEPESSIIPPASSSSAQFKSGFS...</td>\n",
       "      <td>512</td>\n",
       "      <td>1</td>\n",
       "    </tr>\n",
       "    <tr>\n",
       "      <th>4</th>\n",
       "      <td>Achn091321</td>\n",
       "      <td>MGQRSVPAPFLMKTYKLVDDQSTDEVIGWNEGGTTFVVWKTDNFSK...</td>\n",
       "      <td>481</td>\n",
       "      <td>1</td>\n",
       "    </tr>\n",
       "  </tbody>\n",
       "</table>\n",
       "</div>"
      ],
      "text/plain": [
       "           id                                           sequence  length  \\\n",
       "0  Achn029931  MYIYDGTQFPIKHEEYLKLDHDEREEVIEAWYMDDSHEDQRLPHHR...     518   \n",
       "1  Achn057551  MNKSHKAVPAPFLTKTYQLVDDPSSDHIVSWGEDDTTFVVWRPQEF...     310   \n",
       "2  Achn081581  MEGLLKRIMRFMNHIELTIEHQGETRINDDGSLSPARGRFEDSTVD...     343   \n",
       "3  Achn086291  MSPDDKPPFSHSKSPSYSSCLPGSEPESSIIPPASSSSAQFKSGFS...     512   \n",
       "4  Achn091321  MGQRSVPAPFLMKTYKLVDDQSTDEVIGWNEGGTTFVVWKTDNFSK...     481   \n",
       "\n",
       "   class  \n",
       "0      1  \n",
       "1      1  \n",
       "2      1  \n",
       "3      1  \n",
       "4      1  "
      ]
     },
     "execution_count": 3,
     "metadata": {},
     "output_type": "execute_result"
    }
   ],
   "source": [
    "# READ GENE_INFO JSON FILE\n",
    "gene_info_path = \"../data/gene_info.json\"\n",
    "dataset_path   = \"../data/one_vs_other/\"\n",
    "with open(gene_info_path, 'r') as json_file:\n",
    "    gene_info = json.load(json_file)\n",
    "\n",
    "# FOCUS ON GENE FAMILLY\n",
    "gene_dict = gene_info[gene_familly]\n",
    "df_path = dataset_path+gene_dict['file_code']+\".csv\"\n",
    "\n",
    "# LOAD WHOLE DATASET\n",
    "USE_FULL_DF = True\n",
    "if USE_FULL_DF:\n",
    "    dataset = pd.read_csv(df_path)\n",
    "else:\n",
    "    dataset_ = pd.read_csv(df_path)\n",
    "    r = min(5000/len(dataset_), 1)\n",
    "    _, dataset = train_test_split(dataset_, test_size=r, stratify=dataset_['class'], random_state=42)\n",
    "dataset.head()"
   ]
  },
  {
   "cell_type": "code",
   "execution_count": 4,
   "id": "745dff8f-540b-4299-a3f0-dabda69bd837",
   "metadata": {
    "execution": {
     "iopub.execute_input": "2024-07-03T23:16:34.859399Z",
     "iopub.status.busy": "2024-07-03T23:16:34.859244Z",
     "iopub.status.idle": "2024-07-03T23:16:34.864772Z",
     "shell.execute_reply": "2024-07-03T23:16:34.864487Z"
    },
    "papermill": {
     "duration": 0.007972,
     "end_time": "2024-07-03T23:16:34.865769",
     "exception": false,
     "start_time": "2024-07-03T23:16:34.857797",
     "status": "completed"
    },
    "tags": []
   },
   "outputs": [],
   "source": [
    "trainset, testset = train_test_split(dataset, test_size=0.2, stratify=dataset['class'], random_state=42)"
   ]
  },
  {
   "cell_type": "code",
   "execution_count": 5,
   "id": "a9b8b47d-48c6-4e94-a378-574904e308ee",
   "metadata": {
    "execution": {
     "iopub.execute_input": "2024-07-03T23:16:34.868307Z",
     "iopub.status.busy": "2024-07-03T23:16:34.868178Z",
     "iopub.status.idle": "2024-07-03T23:16:34.873930Z",
     "shell.execute_reply": "2024-07-03T23:16:34.873658Z"
    },
    "papermill": {
     "duration": 0.007992,
     "end_time": "2024-07-03T23:16:34.874818",
     "exception": false,
     "start_time": "2024-07-03T23:16:34.866826",
     "status": "completed"
    },
    "tags": []
   },
   "outputs": [
    {
     "name": "stderr",
     "output_type": "stream",
     "text": [
      "/var/folders/w8/b_cflrn97k9c15rcrn5t8mmr0000gn/T/ipykernel_2567/3395039238.py:2: FutureWarning: Setting an item of incompatible dtype is deprecated and will raise in a future error of pandas. Value 'HSF' has dtype incompatible with int64, please explicitly cast to a compatible dtype first.\n",
      "  testset_positive.loc[:, 'class'] = gene_familly\n"
     ]
    },
    {
     "data": {
      "text/html": [
       "<div>\n",
       "<style scoped>\n",
       "    .dataframe tbody tr th:only-of-type {\n",
       "        vertical-align: middle;\n",
       "    }\n",
       "\n",
       "    .dataframe tbody tr th {\n",
       "        vertical-align: top;\n",
       "    }\n",
       "\n",
       "    .dataframe thead th {\n",
       "        text-align: right;\n",
       "    }\n",
       "</style>\n",
       "<table border=\"1\" class=\"dataframe\">\n",
       "  <thead>\n",
       "    <tr style=\"text-align: right;\">\n",
       "      <th></th>\n",
       "      <th>id</th>\n",
       "      <th>sequence</th>\n",
       "      <th>length</th>\n",
       "      <th>class</th>\n",
       "    </tr>\n",
       "  </thead>\n",
       "  <tbody>\n",
       "    <tr>\n",
       "      <th>768</th>\n",
       "      <td>Csa09g041320.1</td>\n",
       "      <td>MVHNCFPRGLSSFYVRVYQVVDDPSTDSIISWSSNNSFIIWNVGEF...</td>\n",
       "      <td>135</td>\n",
       "      <td>HSF</td>\n",
       "    </tr>\n",
       "    <tr>\n",
       "      <th>884</th>\n",
       "      <td>Cagra.2516s0029.1.p</td>\n",
       "      <td>MVNDPSSDSIISWGKSNNSFVIKDQEEFIRRNRKMFSRFFCRNFTE...</td>\n",
       "      <td>147</td>\n",
       "      <td>HSF</td>\n",
       "    </tr>\n",
       "    <tr>\n",
       "      <th>431</th>\n",
       "      <td>Bradi1g55630.3.p</td>\n",
       "      <td>MDPLLSLVKEEQEGHGGGGGSPPAAVAAEDGPSTVAAAAVPRPMEG...</td>\n",
       "      <td>458</td>\n",
       "      <td>HSF</td>\n",
       "    </tr>\n",
       "    <tr>\n",
       "      <th>2725</th>\n",
       "      <td>ORGLA09G0097500.1</td>\n",
       "      <td>MAAAEAAAAVGKQQQKGGGGRGGGGGGPAPFLTKTHQMVEESATDE...</td>\n",
       "      <td>302</td>\n",
       "      <td>HSF</td>\n",
       "    </tr>\n",
       "    <tr>\n",
       "      <th>844</th>\n",
       "      <td>Csa20g077570.1</td>\n",
       "      <td>MDESSHGSSSSLPPFLTKTYEMVDDDSSDSVVSWSENNKSFIVKNP...</td>\n",
       "      <td>344</td>\n",
       "      <td>HSF</td>\n",
       "    </tr>\n",
       "    <tr>\n",
       "      <th>...</th>\n",
       "      <td>...</td>\n",
       "      <td>...</td>\n",
       "      <td>...</td>\n",
       "      <td>...</td>\n",
       "    </tr>\n",
       "    <tr>\n",
       "      <th>4249</th>\n",
       "      <td>TRIUR3_27052-P1</td>\n",
       "      <td>MENEFQDICDVCPEKLPNYEAKLKNFFEEHLHTDEEIRYCLEGSDG...</td>\n",
       "      <td>413</td>\n",
       "      <td>HSF</td>\n",
       "    </tr>\n",
       "    <tr>\n",
       "      <th>2863</th>\n",
       "      <td>ORUFI01G33030.1</td>\n",
       "      <td>MMGGECKVHQLQAAGDGGPGAVAPFVAKTFHMVSDPSTNAVVRWGG...</td>\n",
       "      <td>250</td>\n",
       "      <td>HSF</td>\n",
       "    </tr>\n",
       "    <tr>\n",
       "      <th>1609</th>\n",
       "      <td>KHN18732.1</td>\n",
       "      <td>MNSSPSSSQLPSSSADFDKLNSLPRFRPLECLQGNPVPAFLSKTFE...</td>\n",
       "      <td>423</td>\n",
       "      <td>HSF</td>\n",
       "    </tr>\n",
       "    <tr>\n",
       "      <th>1698</th>\n",
       "      <td>Gh_A10G0248</td>\n",
       "      <td>MMSNKMSSNYSSLSSPKAKGPAPFLAKTYALLEEGEEEESGEEGCS...</td>\n",
       "      <td>223</td>\n",
       "      <td>HSF</td>\n",
       "    </tr>\n",
       "    <tr>\n",
       "      <th>3684</th>\n",
       "      <td>SMil_00001849-RA_Salv</td>\n",
       "      <td>MYSDAMEIPQPNEALHENAPPPFLSKTYEFVDDPHTDPIVSWSRGN...</td>\n",
       "      <td>303</td>\n",
       "      <td>HSF</td>\n",
       "    </tr>\n",
       "  </tbody>\n",
       "</table>\n",
       "<p>915 rows × 4 columns</p>\n",
       "</div>"
      ],
      "text/plain": [
       "                         id  \\\n",
       "768          Csa09g041320.1   \n",
       "884     Cagra.2516s0029.1.p   \n",
       "431        Bradi1g55630.3.p   \n",
       "2725      ORGLA09G0097500.1   \n",
       "844          Csa20g077570.1   \n",
       "...                     ...   \n",
       "4249        TRIUR3_27052-P1   \n",
       "2863        ORUFI01G33030.1   \n",
       "1609             KHN18732.1   \n",
       "1698            Gh_A10G0248   \n",
       "3684  SMil_00001849-RA_Salv   \n",
       "\n",
       "                                               sequence  length class  \n",
       "768   MVHNCFPRGLSSFYVRVYQVVDDPSTDSIISWSSNNSFIIWNVGEF...     135   HSF  \n",
       "884   MVNDPSSDSIISWGKSNNSFVIKDQEEFIRRNRKMFSRFFCRNFTE...     147   HSF  \n",
       "431   MDPLLSLVKEEQEGHGGGGGSPPAAVAAEDGPSTVAAAAVPRPMEG...     458   HSF  \n",
       "2725  MAAAEAAAAVGKQQQKGGGGRGGGGGGPAPFLTKTHQMVEESATDE...     302   HSF  \n",
       "844   MDESSHGSSSSLPPFLTKTYEMVDDDSSDSVVSWSENNKSFIVKNP...     344   HSF  \n",
       "...                                                 ...     ...   ...  \n",
       "4249  MENEFQDICDVCPEKLPNYEAKLKNFFEEHLHTDEEIRYCLEGSDG...     413   HSF  \n",
       "2863  MMGGECKVHQLQAAGDGGPGAVAPFVAKTFHMVSDPSTNAVVRWGG...     250   HSF  \n",
       "1609  MNSSPSSSQLPSSSADFDKLNSLPRFRPLECLQGNPVPAFLSKTFE...     423   HSF  \n",
       "1698  MMSNKMSSNYSSLSSPKAKGPAPFLAKTYALLEEGEEEESGEEGCS...     223   HSF  \n",
       "3684  MYSDAMEIPQPNEALHENAPPPFLSKTYEFVDDPHTDPIVSWSRGN...     303   HSF  \n",
       "\n",
       "[915 rows x 4 columns]"
      ]
     },
     "execution_count": 5,
     "metadata": {},
     "output_type": "execute_result"
    }
   ],
   "source": [
    "testset_positive = testset[testset['class'] == 1]\n",
    "testset_positive.loc[:, 'class'] = gene_familly\n",
    "testset_positive"
   ]
  },
  {
   "cell_type": "code",
   "execution_count": 6,
   "id": "25a9ad39-47e0-4b0a-9669-c9ed5c6cafa3",
   "metadata": {
    "execution": {
     "iopub.execute_input": "2024-07-03T23:16:34.877716Z",
     "iopub.status.busy": "2024-07-03T23:16:34.877599Z",
     "iopub.status.idle": "2024-07-03T23:16:34.887018Z",
     "shell.execute_reply": "2024-07-03T23:16:34.886736Z"
    },
    "papermill": {
     "duration": 0.011906,
     "end_time": "2024-07-03T23:16:34.887944",
     "exception": false,
     "start_time": "2024-07-03T23:16:34.876038",
     "status": "completed"
    },
    "tags": []
   },
   "outputs": [],
   "source": [
    "testset_positive.to_csv(\"../data/testset/\"+gene_dict['file_code']+\".csv\")"
   ]
  },
  {
   "cell_type": "code",
   "execution_count": null,
   "id": "4107c4c5-3c5d-44f9-af27-5b81b6d102e5",
   "metadata": {
    "papermill": {
     "duration": 0.001226,
     "end_time": "2024-07-03T23:16:34.890382",
     "exception": false,
     "start_time": "2024-07-03T23:16:34.889156",
     "status": "completed"
    },
    "tags": []
   },
   "outputs": [],
   "source": []
  }
 ],
 "metadata": {
  "kernelspec": {
   "display_name": "Python 3 (ipykernel)",
   "language": "python",
   "name": "python3"
  },
  "language_info": {
   "codemirror_mode": {
    "name": "ipython",
    "version": 3
   },
   "file_extension": ".py",
   "mimetype": "text/x-python",
   "name": "python",
   "nbconvert_exporter": "python",
   "pygments_lexer": "ipython3",
   "version": "3.11.7"
  },
  "papermill": {
   "default_parameters": {},
   "duration": 1.66685,
   "end_time": "2024-07-03T23:16:35.209675",
   "environment_variables": {},
   "exception": null,
   "input_path": "05-extract_testset.ipynb",
   "output_path": "AutoSave/TestGen/05-extract_testset-HSF.ipynb",
   "parameters": {
    "gene_familly": "HSF"
   },
   "start_time": "2024-07-03T23:16:33.542825",
   "version": "2.6.0"
  }
 },
 "nbformat": 4,
 "nbformat_minor": 5
}