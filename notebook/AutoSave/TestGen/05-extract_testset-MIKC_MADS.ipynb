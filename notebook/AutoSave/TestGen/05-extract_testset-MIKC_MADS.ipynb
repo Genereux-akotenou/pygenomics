{
 "cells": [
  {
   "cell_type": "code",
   "execution_count": 1,
   "id": "cb3449bc",
   "metadata": {
    "execution": {
     "iopub.execute_input": "2024-07-03T23:16:42.854023Z",
     "iopub.status.busy": "2024-07-03T23:16:42.853615Z",
     "iopub.status.idle": "2024-07-03T23:16:42.863361Z",
     "shell.execute_reply": "2024-07-03T23:16:42.862561Z"
    },
    "papermill": {
     "duration": 0.017702,
     "end_time": "2024-07-03T23:16:42.865898",
     "exception": false,
     "start_time": "2024-07-03T23:16:42.848196",
     "status": "completed"
    },
    "tags": [
     "injected-parameters"
    ]
   },
   "outputs": [],
   "source": [
    "# Parameters\n",
    "gene_familly = \"MIKC_MADS\"\n"
   ]
  },
  {
   "cell_type": "code",
   "execution_count": 2,
   "id": "e7cdbe25-11a6-48da-abd4-9ae5eee27bfe",
   "metadata": {
    "execution": {
     "iopub.execute_input": "2024-07-03T23:16:42.873070Z",
     "iopub.status.busy": "2024-07-03T23:16:42.872817Z",
     "iopub.status.idle": "2024-07-03T23:16:43.724078Z",
     "shell.execute_reply": "2024-07-03T23:16:43.723642Z"
    },
    "papermill": {
     "duration": 0.856063,
     "end_time": "2024-07-03T23:16:43.725798",
     "exception": false,
     "start_time": "2024-07-03T23:16:42.869735",
     "status": "completed"
    },
    "tags": []
   },
   "outputs": [],
   "source": [
    "import json\n",
    "import pandas as pd\n",
    "from sklearn.model_selection import train_test_split"
   ]
  },
  {
   "cell_type": "code",
   "execution_count": 3,
   "id": "6e20f340-8cbc-46f2-be83-6f1c4523930a",
   "metadata": {
    "execution": {
     "iopub.execute_input": "2024-07-03T23:16:43.729068Z",
     "iopub.status.busy": "2024-07-03T23:16:43.728851Z",
     "iopub.status.idle": "2024-07-03T23:16:43.789715Z",
     "shell.execute_reply": "2024-07-03T23:16:43.789113Z"
    },
    "papermill": {
     "duration": 0.063596,
     "end_time": "2024-07-03T23:16:43.790831",
     "exception": false,
     "start_time": "2024-07-03T23:16:43.727235",
     "status": "completed"
    },
    "tags": []
   },
   "outputs": [
    {
     "data": {
      "text/html": [
       "<div>\n",
       "<style scoped>\n",
       "    .dataframe tbody tr th:only-of-type {\n",
       "        vertical-align: middle;\n",
       "    }\n",
       "\n",
       "    .dataframe tbody tr th {\n",
       "        vertical-align: top;\n",
       "    }\n",
       "\n",
       "    .dataframe thead th {\n",
       "        text-align: right;\n",
       "    }\n",
       "</style>\n",
       "<table border=\"1\" class=\"dataframe\">\n",
       "  <thead>\n",
       "    <tr style=\"text-align: right;\">\n",
       "      <th></th>\n",
       "      <th>id</th>\n",
       "      <th>sequence</th>\n",
       "      <th>length</th>\n",
       "      <th>class</th>\n",
       "    </tr>\n",
       "  </thead>\n",
       "  <tbody>\n",
       "    <tr>\n",
       "      <th>0</th>\n",
       "      <td>Achn049281</td>\n",
       "      <td>MARGKIQIKRIENSTNRQVTYSKRRNGLFKKANELTVLCDAKVSII...</td>\n",
       "      <td>155</td>\n",
       "      <td>1</td>\n",
       "    </tr>\n",
       "    <tr>\n",
       "      <th>1</th>\n",
       "      <td>Achn112721</td>\n",
       "      <td>MGRGKIEIKKIENANNRQVTFSKRRGGLVKKAKELAILCDAEVALI...</td>\n",
       "      <td>175</td>\n",
       "      <td>1</td>\n",
       "    </tr>\n",
       "    <tr>\n",
       "      <th>2</th>\n",
       "      <td>Achn135681</td>\n",
       "      <td>MGRGKIEIKRIENPINRQVTYSKRRNGIFKKAQELTVLCDAKVSII...</td>\n",
       "      <td>213</td>\n",
       "      <td>1</td>\n",
       "    </tr>\n",
       "    <tr>\n",
       "      <th>3</th>\n",
       "      <td>Achn143731</td>\n",
       "      <td>MGRGRVQLKRIENKINRQVTFSKRRGGLLKKANEISVLCDAEVALI...</td>\n",
       "      <td>155</td>\n",
       "      <td>1</td>\n",
       "    </tr>\n",
       "    <tr>\n",
       "      <th>4</th>\n",
       "      <td>Achn147701</td>\n",
       "      <td>MGRGKIVIRRIDNTTSRQVTFSKRRTGLLKKAKELEILCDAEVGLV...</td>\n",
       "      <td>220</td>\n",
       "      <td>1</td>\n",
       "    </tr>\n",
       "  </tbody>\n",
       "</table>\n",
       "</div>"
      ],
      "text/plain": [
       "           id                                           sequence  length  \\\n",
       "0  Achn049281  MARGKIQIKRIENSTNRQVTYSKRRNGLFKKANELTVLCDAKVSII...     155   \n",
       "1  Achn112721  MGRGKIEIKKIENANNRQVTFSKRRGGLVKKAKELAILCDAEVALI...     175   \n",
       "2  Achn135681  MGRGKIEIKRIENPINRQVTYSKRRNGIFKKAQELTVLCDAKVSII...     213   \n",
       "3  Achn143731  MGRGRVQLKRIENKINRQVTFSKRRGGLLKKANEISVLCDAEVALI...     155   \n",
       "4  Achn147701  MGRGKIVIRRIDNTTSRQVTFSKRRTGLLKKAKELEILCDAEVGLV...     220   \n",
       "\n",
       "   class  \n",
       "0      1  \n",
       "1      1  \n",
       "2      1  \n",
       "3      1  \n",
       "4      1  "
      ]
     },
     "execution_count": 3,
     "metadata": {},
     "output_type": "execute_result"
    }
   ],
   "source": [
    "# READ GENE_INFO JSON FILE\n",
    "gene_info_path = \"../data/gene_info.json\"\n",
    "dataset_path   = \"../data/one_vs_other/\"\n",
    "with open(gene_info_path, 'r') as json_file:\n",
    "    gene_info = json.load(json_file)\n",
    "\n",
    "# FOCUS ON GENE FAMILLY\n",
    "gene_dict = gene_info[gene_familly]\n",
    "df_path = dataset_path+gene_dict['file_code']+\".csv\"\n",
    "\n",
    "# LOAD WHOLE DATASET\n",
    "USE_FULL_DF = True\n",
    "if USE_FULL_DF:\n",
    "    dataset = pd.read_csv(df_path)\n",
    "else:\n",
    "    dataset_ = pd.read_csv(df_path)\n",
    "    r = min(5000/len(dataset_), 1)\n",
    "    _, dataset = train_test_split(dataset_, test_size=r, stratify=dataset_['class'], random_state=42)\n",
    "dataset.head()"
   ]
  },
  {
   "cell_type": "code",
   "execution_count": 4,
   "id": "745dff8f-540b-4299-a3f0-dabda69bd837",
   "metadata": {
    "execution": {
     "iopub.execute_input": "2024-07-03T23:16:43.793630Z",
     "iopub.status.busy": "2024-07-03T23:16:43.793471Z",
     "iopub.status.idle": "2024-07-03T23:16:43.799480Z",
     "shell.execute_reply": "2024-07-03T23:16:43.799233Z"
    },
    "papermill": {
     "duration": 0.008405,
     "end_time": "2024-07-03T23:16:43.800414",
     "exception": false,
     "start_time": "2024-07-03T23:16:43.792009",
     "status": "completed"
    },
    "tags": []
   },
   "outputs": [],
   "source": [
    "trainset, testset = train_test_split(dataset, test_size=0.2, stratify=dataset['class'], random_state=42)"
   ]
  },
  {
   "cell_type": "code",
   "execution_count": 5,
   "id": "a9b8b47d-48c6-4e94-a378-574904e308ee",
   "metadata": {
    "execution": {
     "iopub.execute_input": "2024-07-03T23:16:43.802890Z",
     "iopub.status.busy": "2024-07-03T23:16:43.802771Z",
     "iopub.status.idle": "2024-07-03T23:16:43.808410Z",
     "shell.execute_reply": "2024-07-03T23:16:43.808169Z"
    },
    "papermill": {
     "duration": 0.007904,
     "end_time": "2024-07-03T23:16:43.809327",
     "exception": false,
     "start_time": "2024-07-03T23:16:43.801423",
     "status": "completed"
    },
    "tags": []
   },
   "outputs": [
    {
     "name": "stderr",
     "output_type": "stream",
     "text": [
      "/var/folders/w8/b_cflrn97k9c15rcrn5t8mmr0000gn/T/ipykernel_2599/3395039238.py:2: FutureWarning: Setting an item of incompatible dtype is deprecated and will raise in a future error of pandas. Value 'MIKC_MADS' has dtype incompatible with int64, please explicitly cast to a compatible dtype first.\n",
      "  testset_positive.loc[:, 'class'] = gene_familly\n"
     ]
    },
    {
     "data": {
      "text/html": [
       "<div>\n",
       "<style scoped>\n",
       "    .dataframe tbody tr th:only-of-type {\n",
       "        vertical-align: middle;\n",
       "    }\n",
       "\n",
       "    .dataframe tbody tr th {\n",
       "        vertical-align: top;\n",
       "    }\n",
       "\n",
       "    .dataframe thead th {\n",
       "        text-align: right;\n",
       "    }\n",
       "</style>\n",
       "<table border=\"1\" class=\"dataframe\">\n",
       "  <thead>\n",
       "    <tr style=\"text-align: right;\">\n",
       "      <th></th>\n",
       "      <th>id</th>\n",
       "      <th>sequence</th>\n",
       "      <th>length</th>\n",
       "      <th>class</th>\n",
       "    </tr>\n",
       "  </thead>\n",
       "  <tbody>\n",
       "    <tr>\n",
       "      <th>44</th>\n",
       "      <td>EMT32612</td>\n",
       "      <td>MVRGKIVIRRIENMSRRPVTFSKRRHGLLKKARELAILCDVEVGVI...</td>\n",
       "      <td>129</td>\n",
       "      <td>MIKC_MADS</td>\n",
       "    </tr>\n",
       "    <tr>\n",
       "      <th>4163</th>\n",
       "      <td>ORGLA03G0315000.1</td>\n",
       "      <td>MGRGKVVLQPIENKISRQVTFAKRRNGLLKKAYELSILCDAEVALV...</td>\n",
       "      <td>239</td>\n",
       "      <td>MIKC_MADS</td>\n",
       "    </tr>\n",
       "    <tr>\n",
       "      <th>2623</th>\n",
       "      <td>Gh_D05G2596</td>\n",
       "      <td>MGRGKIEIKRIENTTNRQVTFCKRRNGLLKKAYELSVLCDAEVALI...</td>\n",
       "      <td>224</td>\n",
       "      <td>MIKC_MADS</td>\n",
       "    </tr>\n",
       "    <tr>\n",
       "      <th>1311</th>\n",
       "      <td>PK21769.1</td>\n",
       "      <td>MGRGKVELKRIENKINRQVTFAKRRNGLLKKAYELSVLCDAEVALI...</td>\n",
       "      <td>160</td>\n",
       "      <td>MIKC_MADS</td>\n",
       "    </tr>\n",
       "    <tr>\n",
       "      <th>2258</th>\n",
       "      <td>Glyma.02G185500.1.p</td>\n",
       "      <td>MGRGKIEIKKIENLNSRQVTFSKRRNGLLKKAKELSVLCDAEVAVI...</td>\n",
       "      <td>248</td>\n",
       "      <td>MIKC_MADS</td>\n",
       "    </tr>\n",
       "    <tr>\n",
       "      <th>...</th>\n",
       "      <td>...</td>\n",
       "      <td>...</td>\n",
       "      <td>...</td>\n",
       "      <td>...</td>\n",
       "    </tr>\n",
       "    <tr>\n",
       "      <th>2689</th>\n",
       "      <td>Gorai.005G093000.1</td>\n",
       "      <td>MGRVKLEIKRIENNTNRQVTFSKRRNGLIKKAYELSILCDIDIALI...</td>\n",
       "      <td>328</td>\n",
       "      <td>MIKC_MADS</td>\n",
       "    </tr>\n",
       "    <tr>\n",
       "      <th>5645</th>\n",
       "      <td>SapurV1A.0578s0130.3.p</td>\n",
       "      <td>MVRGKTQMRRIENATSRQVTFSKRRNGLLKKAFELSVLCDAEVALI...</td>\n",
       "      <td>221</td>\n",
       "      <td>MIKC_MADS</td>\n",
       "    </tr>\n",
       "    <tr>\n",
       "      <th>3426</th>\n",
       "      <td>Medtr1g029670.1</td>\n",
       "      <td>MGRGKIEIKRIENSSNRQVTYSKRKSGILKKAKEINVLCDAQVSTI...</td>\n",
       "      <td>181</td>\n",
       "      <td>MIKC_MADS</td>\n",
       "    </tr>\n",
       "    <tr>\n",
       "      <th>1770</th>\n",
       "      <td>Cucsa.103820.1</td>\n",
       "      <td>MGRGKIVIRRIDNSASRQVTFSKRRKGLIKKAKELSILCDAEVGLI...</td>\n",
       "      <td>142</td>\n",
       "      <td>MIKC_MADS</td>\n",
       "    </tr>\n",
       "    <tr>\n",
       "      <th>4343</th>\n",
       "      <td>ONIVA02G24100.1</td>\n",
       "      <td>MGRGKIVIRRIDNSTSRQVTFSKRRNGIFKKAKELAILCDAEVGLM...</td>\n",
       "      <td>235</td>\n",
       "      <td>MIKC_MADS</td>\n",
       "    </tr>\n",
       "  </tbody>\n",
       "</table>\n",
       "<p>1384 rows × 4 columns</p>\n",
       "</div>"
      ],
      "text/plain": [
       "                          id  \\\n",
       "44                  EMT32612   \n",
       "4163       ORGLA03G0315000.1   \n",
       "2623             Gh_D05G2596   \n",
       "1311               PK21769.1   \n",
       "2258     Glyma.02G185500.1.p   \n",
       "...                      ...   \n",
       "2689      Gorai.005G093000.1   \n",
       "5645  SapurV1A.0578s0130.3.p   \n",
       "3426         Medtr1g029670.1   \n",
       "1770          Cucsa.103820.1   \n",
       "4343         ONIVA02G24100.1   \n",
       "\n",
       "                                               sequence  length      class  \n",
       "44    MVRGKIVIRRIENMSRRPVTFSKRRHGLLKKARELAILCDVEVGVI...     129  MIKC_MADS  \n",
       "4163  MGRGKVVLQPIENKISRQVTFAKRRNGLLKKAYELSILCDAEVALV...     239  MIKC_MADS  \n",
       "2623  MGRGKIEIKRIENTTNRQVTFCKRRNGLLKKAYELSVLCDAEVALI...     224  MIKC_MADS  \n",
       "1311  MGRGKVELKRIENKINRQVTFAKRRNGLLKKAYELSVLCDAEVALI...     160  MIKC_MADS  \n",
       "2258  MGRGKIEIKKIENLNSRQVTFSKRRNGLLKKAKELSVLCDAEVAVI...     248  MIKC_MADS  \n",
       "...                                                 ...     ...        ...  \n",
       "2689  MGRVKLEIKRIENNTNRQVTFSKRRNGLIKKAYELSILCDIDIALI...     328  MIKC_MADS  \n",
       "5645  MVRGKTQMRRIENATSRQVTFSKRRNGLLKKAFELSVLCDAEVALI...     221  MIKC_MADS  \n",
       "3426  MGRGKIEIKRIENSSNRQVTYSKRKSGILKKAKEINVLCDAQVSTI...     181  MIKC_MADS  \n",
       "1770  MGRGKIVIRRIDNSASRQVTFSKRRKGLIKKAKELSILCDAEVGLI...     142  MIKC_MADS  \n",
       "4343  MGRGKIVIRRIDNSTSRQVTFSKRRNGIFKKAKELAILCDAEVGLM...     235  MIKC_MADS  \n",
       "\n",
       "[1384 rows x 4 columns]"
      ]
     },
     "execution_count": 5,
     "metadata": {},
     "output_type": "execute_result"
    }
   ],
   "source": [
    "testset_positive = testset[testset['class'] == 1]\n",
    "testset_positive.loc[:, 'class'] = gene_familly\n",
    "testset_positive"
   ]
  },
  {
   "cell_type": "code",
   "execution_count": 6,
   "id": "25a9ad39-47e0-4b0a-9669-c9ed5c6cafa3",
   "metadata": {
    "execution": {
     "iopub.execute_input": "2024-07-03T23:16:43.812145Z",
     "iopub.status.busy": "2024-07-03T23:16:43.812026Z",
     "iopub.status.idle": "2024-07-03T23:16:43.821924Z",
     "shell.execute_reply": "2024-07-03T23:16:43.821676Z"
    },
    "papermill": {
     "duration": 0.012274,
     "end_time": "2024-07-03T23:16:43.822826",
     "exception": false,
     "start_time": "2024-07-03T23:16:43.810552",
     "status": "completed"
    },
    "tags": []
   },
   "outputs": [],
   "source": [
    "testset_positive.to_csv(\"../data/testset/\"+gene_dict['file_code']+\".csv\")"
   ]
  },
  {
   "cell_type": "code",
   "execution_count": null,
   "id": "4107c4c5-3c5d-44f9-af27-5b81b6d102e5",
   "metadata": {
    "papermill": {
     "duration": 0.001174,
     "end_time": "2024-07-03T23:16:43.825133",
     "exception": false,
     "start_time": "2024-07-03T23:16:43.823959",
     "status": "completed"
    },
    "tags": []
   },
   "outputs": [],
   "source": []
  }
 ],
 "metadata": {
  "kernelspec": {
   "display_name": "Python 3 (ipykernel)",
   "language": "python",
   "name": "python3"
  },
  "language_info": {
   "codemirror_mode": {
    "name": "ipython",
    "version": 3
   },
   "file_extension": ".py",
   "mimetype": "text/x-python",
   "name": "python",
   "nbconvert_exporter": "python",
   "pygments_lexer": "ipython3",
   "version": "3.11.7"
  },
  "papermill": {
   "default_parameters": {},
   "duration": 1.988964,
   "end_time": "2024-07-03T23:16:44.143351",
   "environment_variables": {},
   "exception": null,
   "input_path": "05-extract_testset.ipynb",
   "output_path": "AutoSave/TestGen/05-extract_testset-MIKC_MADS.ipynb",
   "parameters": {
    "gene_familly": "MIKC_MADS"
   },
   "start_time": "2024-07-03T23:16:42.154387",
   "version": "2.6.0"
  }
 },
 "nbformat": 4,
 "nbformat_minor": 5
}