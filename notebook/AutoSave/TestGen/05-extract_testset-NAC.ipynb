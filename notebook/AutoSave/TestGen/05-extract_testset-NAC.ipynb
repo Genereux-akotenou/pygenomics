{
 "cells": [
  {
   "cell_type": "code",
   "execution_count": 1,
   "id": "a16de24c",
   "metadata": {
    "execution": {
     "iopub.execute_input": "2024-07-03T23:16:48.851766Z",
     "iopub.status.busy": "2024-07-03T23:16:48.851083Z",
     "iopub.status.idle": "2024-07-03T23:16:48.862725Z",
     "shell.execute_reply": "2024-07-03T23:16:48.862086Z"
    },
    "papermill": {
     "duration": 0.022659,
     "end_time": "2024-07-03T23:16:48.864471",
     "exception": false,
     "start_time": "2024-07-03T23:16:48.841812",
     "status": "completed"
    },
    "tags": [
     "injected-parameters"
    ]
   },
   "outputs": [],
   "source": [
    "# Parameters\n",
    "gene_familly = \"NAC\"\n"
   ]
  },
  {
   "cell_type": "code",
   "execution_count": 2,
   "id": "e7cdbe25-11a6-48da-abd4-9ae5eee27bfe",
   "metadata": {
    "execution": {
     "iopub.execute_input": "2024-07-03T23:16:48.871311Z",
     "iopub.status.busy": "2024-07-03T23:16:48.871101Z",
     "iopub.status.idle": "2024-07-03T23:16:49.530135Z",
     "shell.execute_reply": "2024-07-03T23:16:49.529643Z"
    },
    "papermill": {
     "duration": 0.664253,
     "end_time": "2024-07-03T23:16:49.531728",
     "exception": false,
     "start_time": "2024-07-03T23:16:48.867475",
     "status": "completed"
    },
    "tags": []
   },
   "outputs": [],
   "source": [
    "import json\n",
    "import pandas as pd\n",
    "from sklearn.model_selection import train_test_split"
   ]
  },
  {
   "cell_type": "code",
   "execution_count": 3,
   "id": "6e20f340-8cbc-46f2-be83-6f1c4523930a",
   "metadata": {
    "execution": {
     "iopub.execute_input": "2024-07-03T23:16:49.535271Z",
     "iopub.status.busy": "2024-07-03T23:16:49.534898Z",
     "iopub.status.idle": "2024-07-03T23:16:49.701860Z",
     "shell.execute_reply": "2024-07-03T23:16:49.701471Z"
    },
    "papermill": {
     "duration": 0.169852,
     "end_time": "2024-07-03T23:16:49.703123",
     "exception": false,
     "start_time": "2024-07-03T23:16:49.533271",
     "status": "completed"
    },
    "tags": []
   },
   "outputs": [
    {
     "data": {
      "text/html": [
       "<div>\n",
       "<style scoped>\n",
       "    .dataframe tbody tr th:only-of-type {\n",
       "        vertical-align: middle;\n",
       "    }\n",
       "\n",
       "    .dataframe tbody tr th {\n",
       "        vertical-align: top;\n",
       "    }\n",
       "\n",
       "    .dataframe thead th {\n",
       "        text-align: right;\n",
       "    }\n",
       "</style>\n",
       "<table border=\"1\" class=\"dataframe\">\n",
       "  <thead>\n",
       "    <tr style=\"text-align: right;\">\n",
       "      <th></th>\n",
       "      <th>id</th>\n",
       "      <th>sequence</th>\n",
       "      <th>length</th>\n",
       "      <th>class</th>\n",
       "    </tr>\n",
       "  </thead>\n",
       "  <tbody>\n",
       "    <tr>\n",
       "      <th>0</th>\n",
       "      <td>Achn000661</td>\n",
       "      <td>MARPSLPPGFRFHPTDVELVKYYLKRKVMGKGFPFEAISELNIYNY...</td>\n",
       "      <td>538</td>\n",
       "      <td>1</td>\n",
       "    </tr>\n",
       "    <tr>\n",
       "      <th>1</th>\n",
       "      <td>Achn002691</td>\n",
       "      <td>MNTFSHVPPGFRFHPTDEELVDYYLRKKIASRRIDLDVIKDVDLYK...</td>\n",
       "      <td>343</td>\n",
       "      <td>1</td>\n",
       "    </tr>\n",
       "    <tr>\n",
       "      <th>2</th>\n",
       "      <td>Achn003771</td>\n",
       "      <td>MAHNLGEITPPPASGTSLAPGFRFHPTDEELVQYYLKRKACGKPFR...</td>\n",
       "      <td>399</td>\n",
       "      <td>1</td>\n",
       "    </tr>\n",
       "    <tr>\n",
       "      <th>3</th>\n",
       "      <td>Achn003781</td>\n",
       "      <td>MRSRNGNPRTPPVAYTKLVVYYLKSKISGKSFRFDAIAEIDVYKSE...</td>\n",
       "      <td>538</td>\n",
       "      <td>1</td>\n",
       "    </tr>\n",
       "    <tr>\n",
       "      <th>4</th>\n",
       "      <td>Achn004191</td>\n",
       "      <td>MAVTFPVGFLFRPTDKEIIKHYLLKKQMGEELPLNGVIQEGDVFSE...</td>\n",
       "      <td>361</td>\n",
       "      <td>1</td>\n",
       "    </tr>\n",
       "  </tbody>\n",
       "</table>\n",
       "</div>"
      ],
      "text/plain": [
       "           id                                           sequence  length  \\\n",
       "0  Achn000661  MARPSLPPGFRFHPTDVELVKYYLKRKVMGKGFPFEAISELNIYNY...     538   \n",
       "1  Achn002691  MNTFSHVPPGFRFHPTDEELVDYYLRKKIASRRIDLDVIKDVDLYK...     343   \n",
       "2  Achn003771  MAHNLGEITPPPASGTSLAPGFRFHPTDEELVQYYLKRKACGKPFR...     399   \n",
       "3  Achn003781  MRSRNGNPRTPPVAYTKLVVYYLKSKISGKSFRFDAIAEIDVYKSE...     538   \n",
       "4  Achn004191  MAVTFPVGFLFRPTDKEIIKHYLLKKQMGEELPLNGVIQEGDVFSE...     361   \n",
       "\n",
       "   class  \n",
       "0      1  \n",
       "1      1  \n",
       "2      1  \n",
       "3      1  \n",
       "4      1  "
      ]
     },
     "execution_count": 3,
     "metadata": {},
     "output_type": "execute_result"
    }
   ],
   "source": [
    "# READ GENE_INFO JSON FILE\n",
    "gene_info_path = \"../data/gene_info.json\"\n",
    "dataset_path   = \"../data/one_vs_other/\"\n",
    "with open(gene_info_path, 'r') as json_file:\n",
    "    gene_info = json.load(json_file)\n",
    "\n",
    "# FOCUS ON GENE FAMILLY\n",
    "gene_dict = gene_info[gene_familly]\n",
    "df_path = dataset_path+gene_dict['file_code']+\".csv\"\n",
    "\n",
    "# LOAD WHOLE DATASET\n",
    "USE_FULL_DF = True\n",
    "if USE_FULL_DF:\n",
    "    dataset = pd.read_csv(df_path)\n",
    "else:\n",
    "    dataset_ = pd.read_csv(df_path)\n",
    "    r = min(5000/len(dataset_), 1)\n",
    "    _, dataset = train_test_split(dataset_, test_size=r, stratify=dataset_['class'], random_state=42)\n",
    "dataset.head()"
   ]
  },
  {
   "cell_type": "code",
   "execution_count": 4,
   "id": "745dff8f-540b-4299-a3f0-dabda69bd837",
   "metadata": {
    "execution": {
     "iopub.execute_input": "2024-07-03T23:16:49.706609Z",
     "iopub.status.busy": "2024-07-03T23:16:49.706452Z",
     "iopub.status.idle": "2024-07-03T23:16:49.719425Z",
     "shell.execute_reply": "2024-07-03T23:16:49.719050Z"
    },
    "papermill": {
     "duration": 0.015984,
     "end_time": "2024-07-03T23:16:49.720757",
     "exception": false,
     "start_time": "2024-07-03T23:16:49.704773",
     "status": "completed"
    },
    "tags": []
   },
   "outputs": [],
   "source": [
    "trainset, testset = train_test_split(dataset, test_size=0.2, stratify=dataset['class'], random_state=42)"
   ]
  },
  {
   "cell_type": "code",
   "execution_count": 5,
   "id": "a9b8b47d-48c6-4e94-a378-574904e308ee",
   "metadata": {
    "execution": {
     "iopub.execute_input": "2024-07-03T23:16:49.723761Z",
     "iopub.status.busy": "2024-07-03T23:16:49.723609Z",
     "iopub.status.idle": "2024-07-03T23:16:49.730369Z",
     "shell.execute_reply": "2024-07-03T23:16:49.729969Z"
    },
    "papermill": {
     "duration": 0.009624,
     "end_time": "2024-07-03T23:16:49.731658",
     "exception": false,
     "start_time": "2024-07-03T23:16:49.722034",
     "status": "completed"
    },
    "tags": []
   },
   "outputs": [
    {
     "name": "stderr",
     "output_type": "stream",
     "text": [
      "/var/folders/w8/b_cflrn97k9c15rcrn5t8mmr0000gn/T/ipykernel_2618/3395039238.py:2: FutureWarning: Setting an item of incompatible dtype is deprecated and will raise in a future error of pandas. Value 'NAC' has dtype incompatible with int64, please explicitly cast to a compatible dtype first.\n",
      "  testset_positive.loc[:, 'class'] = gene_familly\n"
     ]
    },
    {
     "data": {
      "text/html": [
       "<div>\n",
       "<style scoped>\n",
       "    .dataframe tbody tr th:only-of-type {\n",
       "        vertical-align: middle;\n",
       "    }\n",
       "\n",
       "    .dataframe tbody tr th {\n",
       "        vertical-align: top;\n",
       "    }\n",
       "\n",
       "    .dataframe thead th {\n",
       "        text-align: right;\n",
       "    }\n",
       "</style>\n",
       "<table border=\"1\" class=\"dataframe\">\n",
       "  <thead>\n",
       "    <tr style=\"text-align: right;\">\n",
       "      <th></th>\n",
       "      <th>id</th>\n",
       "      <th>sequence</th>\n",
       "      <th>length</th>\n",
       "      <th>class</th>\n",
       "    </tr>\n",
       "  </thead>\n",
       "  <tbody>\n",
       "    <tr>\n",
       "      <th>19366</th>\n",
       "      <td>Zjn_sc00015.1.g08110.1.am.mkhc</td>\n",
       "      <td>MPLAFLMAQATTTAPSLLPRHKTFPNPTNPVQPYQRRRRCWPMTLP...</td>\n",
       "      <td>474</td>\n",
       "      <td>NAC</td>\n",
       "    </tr>\n",
       "    <tr>\n",
       "      <th>19008</th>\n",
       "      <td>GRMZM2G068973_P01</td>\n",
       "      <td>MAMVAAQGGGRRDAEAELNLPPGFRFHPTDEELVVHYLCRKVACQQ...</td>\n",
       "      <td>308</td>\n",
       "      <td>NAC</td>\n",
       "    </tr>\n",
       "    <tr>\n",
       "      <th>16300</th>\n",
       "      <td>XP_011074495.1</td>\n",
       "      <td>MCPPPQTPPPAEIGSNWSDEQIISLLDGYKPGSSLPNNVLADSSPY...</td>\n",
       "      <td>387</td>\n",
       "      <td>NAC</td>\n",
       "    </tr>\n",
       "    <tr>\n",
       "      <th>3436</th>\n",
       "      <td>PK20135.1</td>\n",
       "      <td>MGVPEMDPLSQLSLPPGFRFFPTDEELLVQYLCRKVAGHHFSLEII...</td>\n",
       "      <td>352</td>\n",
       "      <td>NAC</td>\n",
       "    </tr>\n",
       "    <tr>\n",
       "      <th>1539</th>\n",
       "      <td>Bostr.0124s0082.1.p</td>\n",
       "      <td>MGIQETDPLAQLSLPPGFRFYPTDEELMVQYLCKKAAGYDFSLQLI...</td>\n",
       "      <td>319</td>\n",
       "      <td>NAC</td>\n",
       "    </tr>\n",
       "    <tr>\n",
       "      <th>...</th>\n",
       "      <td>...</td>\n",
       "      <td>...</td>\n",
       "      <td>...</td>\n",
       "      <td>...</td>\n",
       "    </tr>\n",
       "    <tr>\n",
       "      <th>19189</th>\n",
       "      <td>XP_015880381.1</td>\n",
       "      <td>MELPAPVPVPSLKGWRFRPTDDDLVGYYLLREVTGCPFSRVGIAHD...</td>\n",
       "      <td>216</td>\n",
       "      <td>NAC</td>\n",
       "    </tr>\n",
       "    <tr>\n",
       "      <th>14185</th>\n",
       "      <td>Pta003401</td>\n",
       "      <td>XEREEALQIGAGLPSGVKFDPSDQELIEHLQGKISSDNSSPHPLID...</td>\n",
       "      <td>282</td>\n",
       "      <td>NAC</td>\n",
       "    </tr>\n",
       "    <tr>\n",
       "      <th>2395</th>\n",
       "      <td>GSBRNA2T00150497001</td>\n",
       "      <td>MVEKPGFEFRPYDEELVGFYLRQKLLGNHSLVDGVIREIKICSLDP...</td>\n",
       "      <td>476</td>\n",
       "      <td>NAC</td>\n",
       "    </tr>\n",
       "    <tr>\n",
       "      <th>7699</th>\n",
       "      <td>HL.SW.v1.0.G031875.1</td>\n",
       "      <td>MAVGEMNVSSLNTLPLGFRFRPTDEELIDFYLRLKINGKDEQVSVI...</td>\n",
       "      <td>565</td>\n",
       "      <td>NAC</td>\n",
       "    </tr>\n",
       "    <tr>\n",
       "      <th>3215</th>\n",
       "      <td>Csa11g055650.1</td>\n",
       "      <td>MDYQASRICEMVEDEEQIDLPPGFRFHPTDEELITHYLKQKVFNTF...</td>\n",
       "      <td>291</td>\n",
       "      <td>NAC</td>\n",
       "    </tr>\n",
       "  </tbody>\n",
       "</table>\n",
       "<p>3999 rows × 4 columns</p>\n",
       "</div>"
      ],
      "text/plain": [
       "                                   id  \\\n",
       "19366  Zjn_sc00015.1.g08110.1.am.mkhc   \n",
       "19008               GRMZM2G068973_P01   \n",
       "16300                  XP_011074495.1   \n",
       "3436                        PK20135.1   \n",
       "1539              Bostr.0124s0082.1.p   \n",
       "...                               ...   \n",
       "19189                  XP_015880381.1   \n",
       "14185                       Pta003401   \n",
       "2395              GSBRNA2T00150497001   \n",
       "7699             HL.SW.v1.0.G031875.1   \n",
       "3215                   Csa11g055650.1   \n",
       "\n",
       "                                                sequence  length class  \n",
       "19366  MPLAFLMAQATTTAPSLLPRHKTFPNPTNPVQPYQRRRRCWPMTLP...     474   NAC  \n",
       "19008  MAMVAAQGGGRRDAEAELNLPPGFRFHPTDEELVVHYLCRKVACQQ...     308   NAC  \n",
       "16300  MCPPPQTPPPAEIGSNWSDEQIISLLDGYKPGSSLPNNVLADSSPY...     387   NAC  \n",
       "3436   MGVPEMDPLSQLSLPPGFRFFPTDEELLVQYLCRKVAGHHFSLEII...     352   NAC  \n",
       "1539   MGIQETDPLAQLSLPPGFRFYPTDEELMVQYLCKKAAGYDFSLQLI...     319   NAC  \n",
       "...                                                  ...     ...   ...  \n",
       "19189  MELPAPVPVPSLKGWRFRPTDDDLVGYYLLREVTGCPFSRVGIAHD...     216   NAC  \n",
       "14185  XEREEALQIGAGLPSGVKFDPSDQELIEHLQGKISSDNSSPHPLID...     282   NAC  \n",
       "2395   MVEKPGFEFRPYDEELVGFYLRQKLLGNHSLVDGVIREIKICSLDP...     476   NAC  \n",
       "7699   MAVGEMNVSSLNTLPLGFRFRPTDEELIDFYLRLKINGKDEQVSVI...     565   NAC  \n",
       "3215   MDYQASRICEMVEDEEQIDLPPGFRFHPTDEELITHYLKQKVFNTF...     291   NAC  \n",
       "\n",
       "[3999 rows x 4 columns]"
      ]
     },
     "execution_count": 5,
     "metadata": {},
     "output_type": "execute_result"
    }
   ],
   "source": [
    "testset_positive = testset[testset['class'] == 1]\n",
    "testset_positive.loc[:, 'class'] = gene_familly\n",
    "testset_positive"
   ]
  },
  {
   "cell_type": "code",
   "execution_count": 6,
   "id": "25a9ad39-47e0-4b0a-9669-c9ed5c6cafa3",
   "metadata": {
    "execution": {
     "iopub.execute_input": "2024-07-03T23:16:49.734884Z",
     "iopub.status.busy": "2024-07-03T23:16:49.734736Z",
     "iopub.status.idle": "2024-07-03T23:16:49.765838Z",
     "shell.execute_reply": "2024-07-03T23:16:49.765576Z"
    },
    "papermill": {
     "duration": 0.033776,
     "end_time": "2024-07-03T23:16:49.766812",
     "exception": false,
     "start_time": "2024-07-03T23:16:49.733036",
     "status": "completed"
    },
    "tags": []
   },
   "outputs": [],
   "source": [
    "testset_positive.to_csv(\"../data/testset/\"+gene_dict['file_code']+\".csv\")"
   ]
  },
  {
   "cell_type": "code",
   "execution_count": null,
   "id": "4107c4c5-3c5d-44f9-af27-5b81b6d102e5",
   "metadata": {
    "papermill": {
     "duration": 0.001238,
     "end_time": "2024-07-03T23:16:49.769300",
     "exception": false,
     "start_time": "2024-07-03T23:16:49.768062",
     "status": "completed"
    },
    "tags": []
   },
   "outputs": [],
   "source": []
  }
 ],
 "metadata": {
  "kernelspec": {
   "display_name": "Python 3 (ipykernel)",
   "language": "python",
   "name": "python3"
  },
  "language_info": {
   "codemirror_mode": {
    "name": "ipython",
    "version": 3
   },
   "file_extension": ".py",
   "mimetype": "text/x-python",
   "name": "python",
   "nbconvert_exporter": "python",
   "pygments_lexer": "ipython3",
   "version": "3.11.7"
  },
  "papermill": {
   "default_parameters": {},
   "duration": 2.032056,
   "end_time": "2024-07-03T23:16:50.088142",
   "environment_variables": {},
   "exception": null,
   "input_path": "05-extract_testset.ipynb",
   "output_path": "AutoSave/TestGen/05-extract_testset-NAC.ipynb",
   "parameters": {
    "gene_familly": "NAC"
   },
   "start_time": "2024-07-03T23:16:48.056086",
   "version": "2.6.0"
  }
 },
 "nbformat": 4,
 "nbformat_minor": 5
}