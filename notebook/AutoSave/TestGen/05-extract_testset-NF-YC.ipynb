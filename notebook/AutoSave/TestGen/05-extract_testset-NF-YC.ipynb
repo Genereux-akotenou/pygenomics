{
 "cells": [
  {
   "cell_type": "code",
   "execution_count": 1,
   "id": "a707ee52",
   "metadata": {
    "execution": {
     "iopub.execute_input": "2024-07-03T23:16:56.295168Z",
     "iopub.status.busy": "2024-07-03T23:16:56.294228Z",
     "iopub.status.idle": "2024-07-03T23:16:56.308229Z",
     "shell.execute_reply": "2024-07-03T23:16:56.307559Z"
    },
    "papermill": {
     "duration": 0.024785,
     "end_time": "2024-07-03T23:16:56.310127",
     "exception": false,
     "start_time": "2024-07-03T23:16:56.285342",
     "status": "completed"
    },
    "tags": [
     "injected-parameters"
    ]
   },
   "outputs": [],
   "source": [
    "# Parameters\n",
    "gene_familly = \"NF-YC\"\n"
   ]
  },
  {
   "cell_type": "code",
   "execution_count": 2,
   "id": "e7cdbe25-11a6-48da-abd4-9ae5eee27bfe",
   "metadata": {
    "execution": {
     "iopub.execute_input": "2024-07-03T23:16:56.318492Z",
     "iopub.status.busy": "2024-07-03T23:16:56.318208Z",
     "iopub.status.idle": "2024-07-03T23:16:56.980142Z",
     "shell.execute_reply": "2024-07-03T23:16:56.979639Z"
    },
    "papermill": {
     "duration": 0.668217,
     "end_time": "2024-07-03T23:16:56.981787",
     "exception": false,
     "start_time": "2024-07-03T23:16:56.313570",
     "status": "completed"
    },
    "tags": []
   },
   "outputs": [],
   "source": [
    "import json\n",
    "import pandas as pd\n",
    "from sklearn.model_selection import train_test_split"
   ]
  },
  {
   "cell_type": "code",
   "execution_count": 3,
   "id": "6e20f340-8cbc-46f2-be83-6f1c4523930a",
   "metadata": {
    "execution": {
     "iopub.execute_input": "2024-07-03T23:16:56.985266Z",
     "iopub.status.busy": "2024-07-03T23:16:56.985026Z",
     "iopub.status.idle": "2024-07-03T23:16:57.012994Z",
     "shell.execute_reply": "2024-07-03T23:16:57.012652Z"
    },
    "papermill": {
     "duration": 0.030695,
     "end_time": "2024-07-03T23:16:57.014035",
     "exception": false,
     "start_time": "2024-07-03T23:16:56.983340",
     "status": "completed"
    },
    "tags": []
   },
   "outputs": [
    {
     "data": {
      "text/html": [
       "<div>\n",
       "<style scoped>\n",
       "    .dataframe tbody tr th:only-of-type {\n",
       "        vertical-align: middle;\n",
       "    }\n",
       "\n",
       "    .dataframe tbody tr th {\n",
       "        vertical-align: top;\n",
       "    }\n",
       "\n",
       "    .dataframe thead th {\n",
       "        text-align: right;\n",
       "    }\n",
       "</style>\n",
       "<table border=\"1\" class=\"dataframe\">\n",
       "  <thead>\n",
       "    <tr style=\"text-align: right;\">\n",
       "      <th></th>\n",
       "      <th>id</th>\n",
       "      <th>sequence</th>\n",
       "      <th>length</th>\n",
       "      <th>class</th>\n",
       "    </tr>\n",
       "  </thead>\n",
       "  <tbody>\n",
       "    <tr>\n",
       "      <th>0</th>\n",
       "      <td>Achn002431</td>\n",
       "      <td>MKKSSDDVKMISGEAPIVFAKACELFIEELTKSSWTMTLQAKRRTL...</td>\n",
       "      <td>85</td>\n",
       "      <td>1</td>\n",
       "    </tr>\n",
       "    <tr>\n",
       "      <th>1</th>\n",
       "      <td>Achn024831</td>\n",
       "      <td>MNSLEIYPKSLTSRYRIIGANFQIRKKNINPLQNINSAPNLHREQR...</td>\n",
       "      <td>581</td>\n",
       "      <td>1</td>\n",
       "    </tr>\n",
       "    <tr>\n",
       "      <th>2</th>\n",
       "      <td>Achn051701</td>\n",
       "      <td>MDQPEQTQQQQQQPVIGVVAGVGPMAYASPPYHSAPMGASGAPAVA...</td>\n",
       "      <td>273</td>\n",
       "      <td>1</td>\n",
       "    </tr>\n",
       "    <tr>\n",
       "      <th>3</th>\n",
       "      <td>Achn056131</td>\n",
       "      <td>MRQAGAYSGIASGGISGRTGPHSLPLARIKKIMNNSSDDVKMISGD...</td>\n",
       "      <td>299</td>\n",
       "      <td>1</td>\n",
       "    </tr>\n",
       "    <tr>\n",
       "      <th>4</th>\n",
       "      <td>Achn083431</td>\n",
       "      <td>MDIMDQQGHGHPQGAGVVGSAAQLHYGTSQYEPNQVNGTPNQGPVV...</td>\n",
       "      <td>266</td>\n",
       "      <td>1</td>\n",
       "    </tr>\n",
       "  </tbody>\n",
       "</table>\n",
       "</div>"
      ],
      "text/plain": [
       "           id                                           sequence  length  \\\n",
       "0  Achn002431  MKKSSDDVKMISGEAPIVFAKACELFIEELTKSSWTMTLQAKRRTL...      85   \n",
       "1  Achn024831  MNSLEIYPKSLTSRYRIIGANFQIRKKNINPLQNINSAPNLHREQR...     581   \n",
       "2  Achn051701  MDQPEQTQQQQQQPVIGVVAGVGPMAYASPPYHSAPMGASGAPAVA...     273   \n",
       "3  Achn056131  MRQAGAYSGIASGGISGRTGPHSLPLARIKKIMNNSSDDVKMISGD...     299   \n",
       "4  Achn083431  MDIMDQQGHGHPQGAGVVGSAAQLHYGTSQYEPNQVNGTPNQGPVV...     266   \n",
       "\n",
       "   class  \n",
       "0      1  \n",
       "1      1  \n",
       "2      1  \n",
       "3      1  \n",
       "4      1  "
      ]
     },
     "execution_count": 3,
     "metadata": {},
     "output_type": "execute_result"
    }
   ],
   "source": [
    "# READ GENE_INFO JSON FILE\n",
    "gene_info_path = \"../data/gene_info.json\"\n",
    "dataset_path   = \"../data/one_vs_other/\"\n",
    "with open(gene_info_path, 'r') as json_file:\n",
    "    gene_info = json.load(json_file)\n",
    "\n",
    "# FOCUS ON GENE FAMILLY\n",
    "gene_dict = gene_info[gene_familly]\n",
    "df_path = dataset_path+gene_dict['file_code']+\".csv\"\n",
    "\n",
    "# LOAD WHOLE DATASET\n",
    "USE_FULL_DF = True\n",
    "if USE_FULL_DF:\n",
    "    dataset = pd.read_csv(df_path)\n",
    "else:\n",
    "    dataset_ = pd.read_csv(df_path)\n",
    "    r = min(5000/len(dataset_), 1)\n",
    "    _, dataset = train_test_split(dataset_, test_size=r, stratify=dataset_['class'], random_state=42)\n",
    "dataset.head()"
   ]
  },
  {
   "cell_type": "code",
   "execution_count": 4,
   "id": "745dff8f-540b-4299-a3f0-dabda69bd837",
   "metadata": {
    "execution": {
     "iopub.execute_input": "2024-07-03T23:16:57.016842Z",
     "iopub.status.busy": "2024-07-03T23:16:57.016727Z",
     "iopub.status.idle": "2024-07-03T23:16:57.021402Z",
     "shell.execute_reply": "2024-07-03T23:16:57.021114Z"
    },
    "papermill": {
     "duration": 0.007055,
     "end_time": "2024-07-03T23:16:57.022311",
     "exception": false,
     "start_time": "2024-07-03T23:16:57.015256",
     "status": "completed"
    },
    "tags": []
   },
   "outputs": [],
   "source": [
    "trainset, testset = train_test_split(dataset, test_size=0.2, stratify=dataset['class'], random_state=42)"
   ]
  },
  {
   "cell_type": "code",
   "execution_count": 5,
   "id": "a9b8b47d-48c6-4e94-a378-574904e308ee",
   "metadata": {
    "execution": {
     "iopub.execute_input": "2024-07-03T23:16:57.024828Z",
     "iopub.status.busy": "2024-07-03T23:16:57.024705Z",
     "iopub.status.idle": "2024-07-03T23:16:57.030686Z",
     "shell.execute_reply": "2024-07-03T23:16:57.030408Z"
    },
    "papermill": {
     "duration": 0.008277,
     "end_time": "2024-07-03T23:16:57.031628",
     "exception": false,
     "start_time": "2024-07-03T23:16:57.023351",
     "status": "completed"
    },
    "tags": []
   },
   "outputs": [
    {
     "name": "stderr",
     "output_type": "stream",
     "text": [
      "/var/folders/w8/b_cflrn97k9c15rcrn5t8mmr0000gn/T/ipykernel_2646/3395039238.py:2: FutureWarning: Setting an item of incompatible dtype is deprecated and will raise in a future error of pandas. Value 'NF-YC' has dtype incompatible with int64, please explicitly cast to a compatible dtype first.\n",
      "  testset_positive.loc[:, 'class'] = gene_familly\n"
     ]
    },
    {
     "data": {
      "text/html": [
       "<div>\n",
       "<style scoped>\n",
       "    .dataframe tbody tr th:only-of-type {\n",
       "        vertical-align: middle;\n",
       "    }\n",
       "\n",
       "    .dataframe tbody tr th {\n",
       "        vertical-align: top;\n",
       "    }\n",
       "\n",
       "    .dataframe thead th {\n",
       "        text-align: right;\n",
       "    }\n",
       "</style>\n",
       "<table border=\"1\" class=\"dataframe\">\n",
       "  <thead>\n",
       "    <tr style=\"text-align: right;\">\n",
       "      <th></th>\n",
       "      <th>id</th>\n",
       "      <th>sequence</th>\n",
       "      <th>length</th>\n",
       "      <th>class</th>\n",
       "    </tr>\n",
       "  </thead>\n",
       "  <tbody>\n",
       "    <tr>\n",
       "      <th>1716</th>\n",
       "      <td>Potri.003G192100.3</td>\n",
       "      <td>MQADEDVGKIALAVPVLVSKALELFLQDLCDRTHEITLQRGAKTMS...</td>\n",
       "      <td>286</td>\n",
       "      <td>NF-YC</td>\n",
       "    </tr>\n",
       "    <tr>\n",
       "      <th>900</th>\n",
       "      <td>Kalax.0002s0305.1.p</td>\n",
       "      <td>MDNNPPPAPPLPQQQPAPLQHLLQQQQQQLQMFWTYQRQEIEHVND...</td>\n",
       "      <td>220</td>\n",
       "      <td>NF-YC</td>\n",
       "    </tr>\n",
       "    <tr>\n",
       "      <th>2092</th>\n",
       "      <td>PGSC0003DMP400026632</td>\n",
       "      <td>MENNHQQSAEPLYPGYPFHQMLMLQQHEQLQLQQQQQVEQQMRIFW...</td>\n",
       "      <td>254</td>\n",
       "      <td>NF-YC</td>\n",
       "    </tr>\n",
       "    <tr>\n",
       "      <th>689</th>\n",
       "      <td>Glyma.15G261300.2.p</td>\n",
       "      <td>MGVATGASQMAYSSHYPTAPMVASGTPAVAVPSPTQAPAAFSSSAH...</td>\n",
       "      <td>255</td>\n",
       "      <td>NF-YC</td>\n",
       "    </tr>\n",
       "    <tr>\n",
       "      <th>2186</th>\n",
       "      <td>Tp5g13380</td>\n",
       "      <td>MDNYSQQPPPSAFGIPPLPPGISVFAAGVASYHHHLQQQQQQYLRM...</td>\n",
       "      <td>242</td>\n",
       "      <td>NF-YC</td>\n",
       "    </tr>\n",
       "    <tr>\n",
       "      <th>...</th>\n",
       "      <td>...</td>\n",
       "      <td>...</td>\n",
       "      <td>...</td>\n",
       "      <td>...</td>\n",
       "    </tr>\n",
       "    <tr>\n",
       "      <th>405</th>\n",
       "      <td>cra_locus_15848_iso_3</td>\n",
       "      <td>MENNSQQATAPTQSSVYPAQPPYHHLLQQQQQQLQLFWNYQRQEIE...</td>\n",
       "      <td>242</td>\n",
       "      <td>NF-YC</td>\n",
       "    </tr>\n",
       "    <tr>\n",
       "      <th>241</th>\n",
       "      <td>GSBRNA2T00081075001</td>\n",
       "      <td>MKKKLQTRFPATRIKKIMQTDEDVGKIAMAVPLLVSKALELFLQDL...</td>\n",
       "      <td>688</td>\n",
       "      <td>NF-YC</td>\n",
       "    </tr>\n",
       "    <tr>\n",
       "      <th>1011</th>\n",
       "      <td>Lj6g3v1880140.1</td>\n",
       "      <td>MDENQPEPEQLEGGEDTPAQEANVMHQSQPNQMTTHTQIVGGSSSS...</td>\n",
       "      <td>318</td>\n",
       "      <td>NF-YC</td>\n",
       "    </tr>\n",
       "    <tr>\n",
       "      <th>431</th>\n",
       "      <td>XP_004495742.1</td>\n",
       "      <td>MDHQGHGQNPSMGVVGSGQMATYGSNPYQPNHLTGSPGMVVPSVGT...</td>\n",
       "      <td>256</td>\n",
       "      <td>NF-YC</td>\n",
       "    </tr>\n",
       "    <tr>\n",
       "      <th>1177</th>\n",
       "      <td>XP_009786327.1</td>\n",
       "      <td>MAGEDEGKNSTAAGGEVHQLQIPLGRVKKIMKLDQDINKVNSEALH...</td>\n",
       "      <td>138</td>\n",
       "      <td>NF-YC</td>\n",
       "    </tr>\n",
       "  </tbody>\n",
       "</table>\n",
       "<p>490 rows × 4 columns</p>\n",
       "</div>"
      ],
      "text/plain": [
       "                         id  \\\n",
       "1716     Potri.003G192100.3   \n",
       "900     Kalax.0002s0305.1.p   \n",
       "2092   PGSC0003DMP400026632   \n",
       "689     Glyma.15G261300.2.p   \n",
       "2186              Tp5g13380   \n",
       "...                     ...   \n",
       "405   cra_locus_15848_iso_3   \n",
       "241     GSBRNA2T00081075001   \n",
       "1011        Lj6g3v1880140.1   \n",
       "431          XP_004495742.1   \n",
       "1177         XP_009786327.1   \n",
       "\n",
       "                                               sequence  length  class  \n",
       "1716  MQADEDVGKIALAVPVLVSKALELFLQDLCDRTHEITLQRGAKTMS...     286  NF-YC  \n",
       "900   MDNNPPPAPPLPQQQPAPLQHLLQQQQQQLQMFWTYQRQEIEHVND...     220  NF-YC  \n",
       "2092  MENNHQQSAEPLYPGYPFHQMLMLQQHEQLQLQQQQQVEQQMRIFW...     254  NF-YC  \n",
       "689   MGVATGASQMAYSSHYPTAPMVASGTPAVAVPSPTQAPAAFSSSAH...     255  NF-YC  \n",
       "2186  MDNYSQQPPPSAFGIPPLPPGISVFAAGVASYHHHLQQQQQQYLRM...     242  NF-YC  \n",
       "...                                                 ...     ...    ...  \n",
       "405   MENNSQQATAPTQSSVYPAQPPYHHLLQQQQQQLQLFWNYQRQEIE...     242  NF-YC  \n",
       "241   MKKKLQTRFPATRIKKIMQTDEDVGKIAMAVPLLVSKALELFLQDL...     688  NF-YC  \n",
       "1011  MDENQPEPEQLEGGEDTPAQEANVMHQSQPNQMTTHTQIVGGSSSS...     318  NF-YC  \n",
       "431   MDHQGHGQNPSMGVVGSGQMATYGSNPYQPNHLTGSPGMVVPSVGT...     256  NF-YC  \n",
       "1177  MAGEDEGKNSTAAGGEVHQLQIPLGRVKKIMKLDQDINKVNSEALH...     138  NF-YC  \n",
       "\n",
       "[490 rows x 4 columns]"
      ]
     },
     "execution_count": 5,
     "metadata": {},
     "output_type": "execute_result"
    }
   ],
   "source": [
    "testset_positive = testset[testset['class'] == 1]\n",
    "testset_positive.loc[:, 'class'] = gene_familly\n",
    "testset_positive"
   ]
  },
  {
   "cell_type": "code",
   "execution_count": 6,
   "id": "25a9ad39-47e0-4b0a-9669-c9ed5c6cafa3",
   "metadata": {
    "execution": {
     "iopub.execute_input": "2024-07-03T23:16:57.034567Z",
     "iopub.status.busy": "2024-07-03T23:16:57.034429Z",
     "iopub.status.idle": "2024-07-03T23:16:57.040143Z",
     "shell.execute_reply": "2024-07-03T23:16:57.039869Z"
    },
    "papermill": {
     "duration": 0.008211,
     "end_time": "2024-07-03T23:16:57.041041",
     "exception": false,
     "start_time": "2024-07-03T23:16:57.032830",
     "status": "completed"
    },
    "tags": []
   },
   "outputs": [],
   "source": [
    "testset_positive.to_csv(\"../data/testset/\"+gene_dict['file_code']+\".csv\")"
   ]
  },
  {
   "cell_type": "code",
   "execution_count": null,
   "id": "4107c4c5-3c5d-44f9-af27-5b81b6d102e5",
   "metadata": {
    "papermill": {
     "duration": 0.0012,
     "end_time": "2024-07-03T23:16:57.043419",
     "exception": false,
     "start_time": "2024-07-03T23:16:57.042219",
     "status": "completed"
    },
    "tags": []
   },
   "outputs": [],
   "source": []
  }
 ],
 "metadata": {
  "kernelspec": {
   "display_name": "Python 3 (ipykernel)",
   "language": "python",
   "name": "python3"
  },
  "language_info": {
   "codemirror_mode": {
    "name": "ipython",
    "version": 3
   },
   "file_extension": ".py",
   "mimetype": "text/x-python",
   "name": "python",
   "nbconvert_exporter": "python",
   "pygments_lexer": "ipython3",
   "version": "3.11.7"
  },
  "papermill": {
   "default_parameters": {},
   "duration": 1.856928,
   "end_time": "2024-07-03T23:16:57.362227",
   "environment_variables": {},
   "exception": null,
   "input_path": "05-extract_testset.ipynb",
   "output_path": "AutoSave/TestGen/05-extract_testset-NF-YC.ipynb",
   "parameters": {
    "gene_familly": "NF-YC"
   },
   "start_time": "2024-07-03T23:16:55.505299",
   "version": "2.6.0"
  }
 },
 "nbformat": 4,
 "nbformat_minor": 5
}