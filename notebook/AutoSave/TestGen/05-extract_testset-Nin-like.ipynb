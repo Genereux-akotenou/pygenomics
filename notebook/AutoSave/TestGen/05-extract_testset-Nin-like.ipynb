{
 "cells": [
  {
   "cell_type": "code",
   "execution_count": 1,
   "id": "ada37e10",
   "metadata": {
    "execution": {
     "iopub.execute_input": "2024-07-03T23:16:59.613844Z",
     "iopub.status.busy": "2024-07-03T23:16:59.613177Z",
     "iopub.status.idle": "2024-07-03T23:16:59.629037Z",
     "shell.execute_reply": "2024-07-03T23:16:59.628345Z"
    },
    "papermill": {
     "duration": 0.026396,
     "end_time": "2024-07-03T23:16:59.630551",
     "exception": false,
     "start_time": "2024-07-03T23:16:59.604155",
     "status": "completed"
    },
    "tags": [
     "injected-parameters"
    ]
   },
   "outputs": [],
   "source": [
    "# Parameters\n",
    "gene_familly = \"Nin-like\"\n"
   ]
  },
  {
   "cell_type": "code",
   "execution_count": 2,
   "id": "e7cdbe25-11a6-48da-abd4-9ae5eee27bfe",
   "metadata": {
    "execution": {
     "iopub.execute_input": "2024-07-03T23:16:59.634511Z",
     "iopub.status.busy": "2024-07-03T23:16:59.634318Z",
     "iopub.status.idle": "2024-07-03T23:17:00.315000Z",
     "shell.execute_reply": "2024-07-03T23:17:00.314501Z"
    },
    "papermill": {
     "duration": 0.684312,
     "end_time": "2024-07-03T23:17:00.316736",
     "exception": false,
     "start_time": "2024-07-03T23:16:59.632424",
     "status": "completed"
    },
    "tags": []
   },
   "outputs": [],
   "source": [
    "import json\n",
    "import pandas as pd\n",
    "from sklearn.model_selection import train_test_split"
   ]
  },
  {
   "cell_type": "code",
   "execution_count": 3,
   "id": "6e20f340-8cbc-46f2-be83-6f1c4523930a",
   "metadata": {
    "execution": {
     "iopub.execute_input": "2024-07-03T23:17:00.320158Z",
     "iopub.status.busy": "2024-07-03T23:17:00.319913Z",
     "iopub.status.idle": "2024-07-03T23:17:00.360492Z",
     "shell.execute_reply": "2024-07-03T23:17:00.360095Z"
    },
    "papermill": {
     "duration": 0.043321,
     "end_time": "2024-07-03T23:17:00.361603",
     "exception": false,
     "start_time": "2024-07-03T23:17:00.318282",
     "status": "completed"
    },
    "tags": []
   },
   "outputs": [
    {
     "data": {
      "text/html": [
       "<div>\n",
       "<style scoped>\n",
       "    .dataframe tbody tr th:only-of-type {\n",
       "        vertical-align: middle;\n",
       "    }\n",
       "\n",
       "    .dataframe tbody tr th {\n",
       "        vertical-align: top;\n",
       "    }\n",
       "\n",
       "    .dataframe thead th {\n",
       "        text-align: right;\n",
       "    }\n",
       "</style>\n",
       "<table border=\"1\" class=\"dataframe\">\n",
       "  <thead>\n",
       "    <tr style=\"text-align: right;\">\n",
       "      <th></th>\n",
       "      <th>id</th>\n",
       "      <th>sequence</th>\n",
       "      <th>length</th>\n",
       "      <th>class</th>\n",
       "    </tr>\n",
       "  </thead>\n",
       "  <tbody>\n",
       "    <tr>\n",
       "      <th>0</th>\n",
       "      <td>Achn019631</td>\n",
       "      <td>MEDGSFTPNTLLETLSDNTMDFDLMDELFYDGYWLETTEGPNFWQS...</td>\n",
       "      <td>940</td>\n",
       "      <td>1</td>\n",
       "    </tr>\n",
       "    <tr>\n",
       "      <th>1</th>\n",
       "      <td>Achn045931</td>\n",
       "      <td>MHIIVSKYIKDFGYDLSKFDRAKNLTLSPIIRIFDQQLSSTDTFDH...</td>\n",
       "      <td>263</td>\n",
       "      <td>1</td>\n",
       "    </tr>\n",
       "    <tr>\n",
       "      <th>2</th>\n",
       "      <td>Achn046361</td>\n",
       "      <td>MAEYPLAHFARKYRLKGCFAINLRSKYTGNDDYVLEIFLPDSNKDK...</td>\n",
       "      <td>460</td>\n",
       "      <td>1</td>\n",
       "    </tr>\n",
       "    <tr>\n",
       "      <th>3</th>\n",
       "      <td>Achn046371</td>\n",
       "      <td>MAVLLKQEKNDNKAHKKASVEMKRDLRLLLNIYKLPLALTWVSCGA...</td>\n",
       "      <td>642</td>\n",
       "      <td>1</td>\n",
       "    </tr>\n",
       "    <tr>\n",
       "      <th>4</th>\n",
       "      <td>Achn046381</td>\n",
       "      <td>MAVILKQEMNNNNAHQYAFLEIRWVLDRVRGIYKLPLALTWVPCGA...</td>\n",
       "      <td>652</td>\n",
       "      <td>1</td>\n",
       "    </tr>\n",
       "  </tbody>\n",
       "</table>\n",
       "</div>"
      ],
      "text/plain": [
       "           id                                           sequence  length  \\\n",
       "0  Achn019631  MEDGSFTPNTLLETLSDNTMDFDLMDELFYDGYWLETTEGPNFWQS...     940   \n",
       "1  Achn045931  MHIIVSKYIKDFGYDLSKFDRAKNLTLSPIIRIFDQQLSSTDTFDH...     263   \n",
       "2  Achn046361  MAEYPLAHFARKYRLKGCFAINLRSKYTGNDDYVLEIFLPDSNKDK...     460   \n",
       "3  Achn046371  MAVLLKQEKNDNKAHKKASVEMKRDLRLLLNIYKLPLALTWVSCGA...     642   \n",
       "4  Achn046381  MAVILKQEMNNNNAHQYAFLEIRWVLDRVRGIYKLPLALTWVPCGA...     652   \n",
       "\n",
       "   class  \n",
       "0      1  \n",
       "1      1  \n",
       "2      1  \n",
       "3      1  \n",
       "4      1  "
      ]
     },
     "execution_count": 3,
     "metadata": {},
     "output_type": "execute_result"
    }
   ],
   "source": [
    "# READ GENE_INFO JSON FILE\n",
    "gene_info_path = \"../data/gene_info.json\"\n",
    "dataset_path   = \"../data/one_vs_other/\"\n",
    "with open(gene_info_path, 'r') as json_file:\n",
    "    gene_info = json.load(json_file)\n",
    "\n",
    "# FOCUS ON GENE FAMILLY\n",
    "gene_dict = gene_info[gene_familly]\n",
    "df_path = dataset_path+gene_dict['file_code']+\".csv\"\n",
    "\n",
    "# LOAD WHOLE DATASET\n",
    "USE_FULL_DF = True\n",
    "if USE_FULL_DF:\n",
    "    dataset = pd.read_csv(df_path)\n",
    "else:\n",
    "    dataset_ = pd.read_csv(df_path)\n",
    "    r = min(5000/len(dataset_), 1)\n",
    "    _, dataset = train_test_split(dataset_, test_size=r, stratify=dataset_['class'], random_state=42)\n",
    "dataset.head()"
   ]
  },
  {
   "cell_type": "code",
   "execution_count": 4,
   "id": "745dff8f-540b-4299-a3f0-dabda69bd837",
   "metadata": {
    "execution": {
     "iopub.execute_input": "2024-07-03T23:17:00.364534Z",
     "iopub.status.busy": "2024-07-03T23:17:00.364387Z",
     "iopub.status.idle": "2024-07-03T23:17:00.369435Z",
     "shell.execute_reply": "2024-07-03T23:17:00.369129Z"
    },
    "papermill": {
     "duration": 0.007511,
     "end_time": "2024-07-03T23:17:00.370357",
     "exception": false,
     "start_time": "2024-07-03T23:17:00.362846",
     "status": "completed"
    },
    "tags": []
   },
   "outputs": [],
   "source": [
    "trainset, testset = train_test_split(dataset, test_size=0.2, stratify=dataset['class'], random_state=42)"
   ]
  },
  {
   "cell_type": "code",
   "execution_count": 5,
   "id": "a9b8b47d-48c6-4e94-a378-574904e308ee",
   "metadata": {
    "execution": {
     "iopub.execute_input": "2024-07-03T23:17:00.372880Z",
     "iopub.status.busy": "2024-07-03T23:17:00.372740Z",
     "iopub.status.idle": "2024-07-03T23:17:00.378601Z",
     "shell.execute_reply": "2024-07-03T23:17:00.378336Z"
    },
    "papermill": {
     "duration": 0.008086,
     "end_time": "2024-07-03T23:17:00.379469",
     "exception": false,
     "start_time": "2024-07-03T23:17:00.371383",
     "status": "completed"
    },
    "tags": []
   },
   "outputs": [
    {
     "name": "stderr",
     "output_type": "stream",
     "text": [
      "/var/folders/w8/b_cflrn97k9c15rcrn5t8mmr0000gn/T/ipykernel_2659/3395039238.py:2: FutureWarning: Setting an item of incompatible dtype is deprecated and will raise in a future error of pandas. Value 'Nin-like' has dtype incompatible with int64, please explicitly cast to a compatible dtype first.\n",
      "  testset_positive.loc[:, 'class'] = gene_familly\n"
     ]
    },
    {
     "data": {
      "text/html": [
       "<div>\n",
       "<style scoped>\n",
       "    .dataframe tbody tr th:only-of-type {\n",
       "        vertical-align: middle;\n",
       "    }\n",
       "\n",
       "    .dataframe tbody tr th {\n",
       "        vertical-align: top;\n",
       "    }\n",
       "\n",
       "    .dataframe thead th {\n",
       "        text-align: right;\n",
       "    }\n",
       "</style>\n",
       "<table border=\"1\" class=\"dataframe\">\n",
       "  <thead>\n",
       "    <tr style=\"text-align: right;\">\n",
       "      <th></th>\n",
       "      <th>id</th>\n",
       "      <th>sequence</th>\n",
       "      <th>length</th>\n",
       "      <th>class</th>\n",
       "    </tr>\n",
       "  </thead>\n",
       "  <tbody>\n",
       "    <tr>\n",
       "      <th>2533</th>\n",
       "      <td>Tp5g29660</td>\n",
       "      <td>MADHKLKEETPFSFLTHSPSFDDHSSLTYPSFEWEEEFLPLHNNSA...</td>\n",
       "      <td>292</td>\n",
       "      <td>Nin-like</td>\n",
       "    </tr>\n",
       "    <tr>\n",
       "      <th>1712</th>\n",
       "      <td>OB12G16200.1</td>\n",
       "      <td>MLDNFHTDVVDDAPPPPPPPPTLVRSPDHCVASTSSAAPAPPEVTV...</td>\n",
       "      <td>333</td>\n",
       "      <td>Nin-like</td>\n",
       "    </tr>\n",
       "    <tr>\n",
       "      <th>2122</th>\n",
       "      <td>Potri.012G016800.1</td>\n",
       "      <td>MENPLDFYQAWVLDDQDIFNKISELPPLESLFEPLNLPPFVPYDKN...</td>\n",
       "      <td>250</td>\n",
       "      <td>Nin-like</td>\n",
       "    </tr>\n",
       "    <tr>\n",
       "      <th>1659</th>\n",
       "      <td>XP_009622680.1</td>\n",
       "      <td>MDESVIPSNPLLTNQSDYLMDLDYMDGLLLEGCWLETTDGNEFMQN...</td>\n",
       "      <td>903</td>\n",
       "      <td>Nin-like</td>\n",
       "    </tr>\n",
       "    <tr>\n",
       "      <th>909</th>\n",
       "      <td>FANhyb_rscf00000223.1.g00002.1</td>\n",
       "      <td>MEYQFSTRQGKDQGCSSSGGAAVEDLVGLDGEARNVISEDMFNNIA...</td>\n",
       "      <td>856</td>\n",
       "      <td>Nin-like</td>\n",
       "    </tr>\n",
       "    <tr>\n",
       "      <th>...</th>\n",
       "      <td>...</td>\n",
       "      <td>...</td>\n",
       "      <td>...</td>\n",
       "      <td>...</td>\n",
       "    </tr>\n",
       "    <tr>\n",
       "      <th>1701</th>\n",
       "      <td>OB01G18870.1</td>\n",
       "      <td>MMYMFSVDGENAGELGLPGRVYKQKVPEWTPNVQYYSSTEYPRLNH...</td>\n",
       "      <td>751</td>\n",
       "      <td>Nin-like</td>\n",
       "    </tr>\n",
       "    <tr>\n",
       "      <th>1928</th>\n",
       "      <td>Pavir.3NG050400.1.p</td>\n",
       "      <td>MEFDFDSPDGGDAWLLDAMATSLHFSAASPPLWPCGDPQHPSVVPL...</td>\n",
       "      <td>892</td>\n",
       "      <td>Nin-like</td>\n",
       "    </tr>\n",
       "    <tr>\n",
       "      <th>1602</th>\n",
       "      <td>XP_016486465.1</td>\n",
       "      <td>MESVFSEQAWSRQPNGIWVFWSERDDVEQLQNHFSFTADVVTKRMA...</td>\n",
       "      <td>707</td>\n",
       "      <td>Nin-like</td>\n",
       "    </tr>\n",
       "    <tr>\n",
       "      <th>2046</th>\n",
       "      <td>Pp3c17_13710V3.1.p</td>\n",
       "      <td>MPSDVLMNRHMAKLGMAPQSVSWSDGSLTIDDVAKFFSFPIAEAAQ...</td>\n",
       "      <td>344</td>\n",
       "      <td>Nin-like</td>\n",
       "    </tr>\n",
       "    <tr>\n",
       "      <th>2396</th>\n",
       "      <td>Sme2.5_00965.1_g00005.1</td>\n",
       "      <td>MENQNDQFDWLYAQEEYPPSPFGTWQQDSRLSNGGLLNFEIDPFQI...</td>\n",
       "      <td>248</td>\n",
       "      <td>Nin-like</td>\n",
       "    </tr>\n",
       "  </tbody>\n",
       "</table>\n",
       "<p>554 rows × 4 columns</p>\n",
       "</div>"
      ],
      "text/plain": [
       "                                  id  \\\n",
       "2533                       Tp5g29660   \n",
       "1712                    OB12G16200.1   \n",
       "2122              Potri.012G016800.1   \n",
       "1659                  XP_009622680.1   \n",
       "909   FANhyb_rscf00000223.1.g00002.1   \n",
       "...                              ...   \n",
       "1701                    OB01G18870.1   \n",
       "1928             Pavir.3NG050400.1.p   \n",
       "1602                  XP_016486465.1   \n",
       "2046              Pp3c17_13710V3.1.p   \n",
       "2396         Sme2.5_00965.1_g00005.1   \n",
       "\n",
       "                                               sequence  length     class  \n",
       "2533  MADHKLKEETPFSFLTHSPSFDDHSSLTYPSFEWEEEFLPLHNNSA...     292  Nin-like  \n",
       "1712  MLDNFHTDVVDDAPPPPPPPPTLVRSPDHCVASTSSAAPAPPEVTV...     333  Nin-like  \n",
       "2122  MENPLDFYQAWVLDDQDIFNKISELPPLESLFEPLNLPPFVPYDKN...     250  Nin-like  \n",
       "1659  MDESVIPSNPLLTNQSDYLMDLDYMDGLLLEGCWLETTDGNEFMQN...     903  Nin-like  \n",
       "909   MEYQFSTRQGKDQGCSSSGGAAVEDLVGLDGEARNVISEDMFNNIA...     856  Nin-like  \n",
       "...                                                 ...     ...       ...  \n",
       "1701  MMYMFSVDGENAGELGLPGRVYKQKVPEWTPNVQYYSSTEYPRLNH...     751  Nin-like  \n",
       "1928  MEFDFDSPDGGDAWLLDAMATSLHFSAASPPLWPCGDPQHPSVVPL...     892  Nin-like  \n",
       "1602  MESVFSEQAWSRQPNGIWVFWSERDDVEQLQNHFSFTADVVTKRMA...     707  Nin-like  \n",
       "2046  MPSDVLMNRHMAKLGMAPQSVSWSDGSLTIDDVAKFFSFPIAEAAQ...     344  Nin-like  \n",
       "2396  MENQNDQFDWLYAQEEYPPSPFGTWQQDSRLSNGGLLNFEIDPFQI...     248  Nin-like  \n",
       "\n",
       "[554 rows x 4 columns]"
      ]
     },
     "execution_count": 5,
     "metadata": {},
     "output_type": "execute_result"
    }
   ],
   "source": [
    "testset_positive = testset[testset['class'] == 1]\n",
    "testset_positive.loc[:, 'class'] = gene_familly\n",
    "testset_positive"
   ]
  },
  {
   "cell_type": "code",
   "execution_count": 6,
   "id": "25a9ad39-47e0-4b0a-9669-c9ed5c6cafa3",
   "metadata": {
    "execution": {
     "iopub.execute_input": "2024-07-03T23:17:00.382323Z",
     "iopub.status.busy": "2024-07-03T23:17:00.382212Z",
     "iopub.status.idle": "2024-07-03T23:17:00.392143Z",
     "shell.execute_reply": "2024-07-03T23:17:00.391836Z"
    },
    "papermill": {
     "duration": 0.012442,
     "end_time": "2024-07-03T23:17:00.393135",
     "exception": false,
     "start_time": "2024-07-03T23:17:00.380693",
     "status": "completed"
    },
    "tags": []
   },
   "outputs": [],
   "source": [
    "testset_positive.to_csv(\"../data/testset/\"+gene_dict['file_code']+\".csv\")"
   ]
  },
  {
   "cell_type": "code",
   "execution_count": null,
   "id": "4107c4c5-3c5d-44f9-af27-5b81b6d102e5",
   "metadata": {
    "papermill": {
     "duration": 0.001056,
     "end_time": "2024-07-03T23:17:00.395440",
     "exception": false,
     "start_time": "2024-07-03T23:17:00.394384",
     "status": "completed"
    },
    "tags": []
   },
   "outputs": [],
   "source": []
  }
 ],
 "metadata": {
  "kernelspec": {
   "display_name": "Python 3 (ipykernel)",
   "language": "python",
   "name": "python3"
  },
  "language_info": {
   "codemirror_mode": {
    "name": "ipython",
    "version": 3
   },
   "file_extension": ".py",
   "mimetype": "text/x-python",
   "name": "python",
   "nbconvert_exporter": "python",
   "pygments_lexer": "ipython3",
   "version": "3.11.7"
  },
  "papermill": {
   "default_parameters": {},
   "duration": 1.69661,
   "end_time": "2024-07-03T23:17:00.713119",
   "environment_variables": {},
   "exception": null,
   "input_path": "05-extract_testset.ipynb",
   "output_path": "AutoSave/TestGen/05-extract_testset-Nin-like.ipynb",
   "parameters": {
    "gene_familly": "Nin-like"
   },
   "start_time": "2024-07-03T23:16:59.016509",
   "version": "2.6.0"
  }
 },
 "nbformat": 4,
 "nbformat_minor": 5
}