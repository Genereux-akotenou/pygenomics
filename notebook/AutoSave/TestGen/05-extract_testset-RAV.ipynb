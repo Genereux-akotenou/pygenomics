{
 "cells": [
  {
   "cell_type": "code",
   "execution_count": 1,
   "id": "12098d18",
   "metadata": {
    "execution": {
     "iopub.execute_input": "2024-07-03T23:17:01.517327Z",
     "iopub.status.busy": "2024-07-03T23:17:01.516777Z",
     "iopub.status.idle": "2024-07-03T23:17:01.526837Z",
     "shell.execute_reply": "2024-07-03T23:17:01.526128Z"
    },
    "papermill": {
     "duration": 0.02355,
     "end_time": "2024-07-03T23:17:01.528633",
     "exception": false,
     "start_time": "2024-07-03T23:17:01.505083",
     "status": "completed"
    },
    "tags": [
     "injected-parameters"
    ]
   },
   "outputs": [],
   "source": [
    "# Parameters\n",
    "gene_familly = \"RAV\"\n"
   ]
  },
  {
   "cell_type": "code",
   "execution_count": 2,
   "id": "e7cdbe25-11a6-48da-abd4-9ae5eee27bfe",
   "metadata": {
    "execution": {
     "iopub.execute_input": "2024-07-03T23:17:01.535537Z",
     "iopub.status.busy": "2024-07-03T23:17:01.535151Z",
     "iopub.status.idle": "2024-07-03T23:17:02.219400Z",
     "shell.execute_reply": "2024-07-03T23:17:02.218910Z"
    },
    "papermill": {
     "duration": 0.689759,
     "end_time": "2024-07-03T23:17:02.221150",
     "exception": false,
     "start_time": "2024-07-03T23:17:01.531391",
     "status": "completed"
    },
    "tags": []
   },
   "outputs": [],
   "source": [
    "import json\n",
    "import pandas as pd\n",
    "from sklearn.model_selection import train_test_split"
   ]
  },
  {
   "cell_type": "code",
   "execution_count": 3,
   "id": "6e20f340-8cbc-46f2-be83-6f1c4523930a",
   "metadata": {
    "execution": {
     "iopub.execute_input": "2024-07-03T23:17:02.224439Z",
     "iopub.status.busy": "2024-07-03T23:17:02.224203Z",
     "iopub.status.idle": "2024-07-03T23:17:02.241386Z",
     "shell.execute_reply": "2024-07-03T23:17:02.241070Z"
    },
    "papermill": {
     "duration": 0.019842,
     "end_time": "2024-07-03T23:17:02.242463",
     "exception": false,
     "start_time": "2024-07-03T23:17:02.222621",
     "status": "completed"
    },
    "tags": []
   },
   "outputs": [
    {
     "data": {
      "text/html": [
       "<div>\n",
       "<style scoped>\n",
       "    .dataframe tbody tr th:only-of-type {\n",
       "        vertical-align: middle;\n",
       "    }\n",
       "\n",
       "    .dataframe tbody tr th {\n",
       "        vertical-align: top;\n",
       "    }\n",
       "\n",
       "    .dataframe thead th {\n",
       "        text-align: right;\n",
       "    }\n",
       "</style>\n",
       "<table border=\"1\" class=\"dataframe\">\n",
       "  <thead>\n",
       "    <tr style=\"text-align: right;\">\n",
       "      <th></th>\n",
       "      <th>id</th>\n",
       "      <th>sequence</th>\n",
       "      <th>length</th>\n",
       "      <th>class</th>\n",
       "    </tr>\n",
       "  </thead>\n",
       "  <tbody>\n",
       "    <tr>\n",
       "      <th>0</th>\n",
       "      <td>Achn107011</td>\n",
       "      <td>MSVEAAAGLRGDEHTEKTLGPRLFRHQEMDGRSTDESTTSTDSLSI...</td>\n",
       "      <td>349</td>\n",
       "      <td>1</td>\n",
       "    </tr>\n",
       "    <tr>\n",
       "      <th>1</th>\n",
       "      <td>Achn170441</td>\n",
       "      <td>MESSCIDESTTSDLLSFSPARTPPATVKSPPESLCRMGSGTSVVLD...</td>\n",
       "      <td>361</td>\n",
       "      <td>1</td>\n",
       "    </tr>\n",
       "    <tr>\n",
       "      <th>2</th>\n",
       "      <td>Achn251751</td>\n",
       "      <td>MESCCIDESTTSDLLSFSPARTPPATVKSPPESLCRMGSGTSVVLD...</td>\n",
       "      <td>361</td>\n",
       "      <td>1</td>\n",
       "    </tr>\n",
       "    <tr>\n",
       "      <th>3</th>\n",
       "      <td>Achn252961</td>\n",
       "      <td>MEEEPSSMIEDVKTRVITEDSVSSSPCQPSNAGMHPIKDNKAMSSK...</td>\n",
       "      <td>352</td>\n",
       "      <td>1</td>\n",
       "    </tr>\n",
       "    <tr>\n",
       "      <th>4</th>\n",
       "      <td>Achn261561</td>\n",
       "      <td>MIEDVKTHVIAEGSVSSSPCQPSNAAMPAKFKGVVPQPNGHWGAQI...</td>\n",
       "      <td>303</td>\n",
       "      <td>1</td>\n",
       "    </tr>\n",
       "  </tbody>\n",
       "</table>\n",
       "</div>"
      ],
      "text/plain": [
       "           id                                           sequence  length  \\\n",
       "0  Achn107011  MSVEAAAGLRGDEHTEKTLGPRLFRHQEMDGRSTDESTTSTDSLSI...     349   \n",
       "1  Achn170441  MESSCIDESTTSDLLSFSPARTPPATVKSPPESLCRMGSGTSVVLD...     361   \n",
       "2  Achn251751  MESCCIDESTTSDLLSFSPARTPPATVKSPPESLCRMGSGTSVVLD...     361   \n",
       "3  Achn252961  MEEEPSSMIEDVKTRVITEDSVSSSPCQPSNAGMHPIKDNKAMSSK...     352   \n",
       "4  Achn261561  MIEDVKTHVIAEGSVSSSPCQPSNAAMPAKFKGVVPQPNGHWGAQI...     303   \n",
       "\n",
       "   class  \n",
       "0      1  \n",
       "1      1  \n",
       "2      1  \n",
       "3      1  \n",
       "4      1  "
      ]
     },
     "execution_count": 3,
     "metadata": {},
     "output_type": "execute_result"
    }
   ],
   "source": [
    "# READ GENE_INFO JSON FILE\n",
    "gene_info_path = \"../data/gene_info.json\"\n",
    "dataset_path   = \"../data/one_vs_other/\"\n",
    "with open(gene_info_path, 'r') as json_file:\n",
    "    gene_info = json.load(json_file)\n",
    "\n",
    "# FOCUS ON GENE FAMILLY\n",
    "gene_dict = gene_info[gene_familly]\n",
    "df_path = dataset_path+gene_dict['file_code']+\".csv\"\n",
    "\n",
    "# LOAD WHOLE DATASET\n",
    "USE_FULL_DF = True\n",
    "if USE_FULL_DF:\n",
    "    dataset = pd.read_csv(df_path)\n",
    "else:\n",
    "    dataset_ = pd.read_csv(df_path)\n",
    "    r = min(5000/len(dataset_), 1)\n",
    "    _, dataset = train_test_split(dataset_, test_size=r, stratify=dataset_['class'], random_state=42)\n",
    "dataset.head()"
   ]
  },
  {
   "cell_type": "code",
   "execution_count": 4,
   "id": "745dff8f-540b-4299-a3f0-dabda69bd837",
   "metadata": {
    "execution": {
     "iopub.execute_input": "2024-07-03T23:17:02.245226Z",
     "iopub.status.busy": "2024-07-03T23:17:02.245098Z",
     "iopub.status.idle": "2024-07-03T23:17:02.249077Z",
     "shell.execute_reply": "2024-07-03T23:17:02.248784Z"
    },
    "papermill": {
     "duration": 0.00635,
     "end_time": "2024-07-03T23:17:02.250012",
     "exception": false,
     "start_time": "2024-07-03T23:17:02.243662",
     "status": "completed"
    },
    "tags": []
   },
   "outputs": [],
   "source": [
    "trainset, testset = train_test_split(dataset, test_size=0.2, stratify=dataset['class'], random_state=42)"
   ]
  },
  {
   "cell_type": "code",
   "execution_count": 5,
   "id": "a9b8b47d-48c6-4e94-a378-574904e308ee",
   "metadata": {
    "execution": {
     "iopub.execute_input": "2024-07-03T23:17:02.252499Z",
     "iopub.status.busy": "2024-07-03T23:17:02.252390Z",
     "iopub.status.idle": "2024-07-03T23:17:02.257742Z",
     "shell.execute_reply": "2024-07-03T23:17:02.257501Z"
    },
    "papermill": {
     "duration": 0.007516,
     "end_time": "2024-07-03T23:17:02.258584",
     "exception": false,
     "start_time": "2024-07-03T23:17:02.251068",
     "status": "completed"
    },
    "tags": []
   },
   "outputs": [
    {
     "name": "stderr",
     "output_type": "stream",
     "text": [
      "/var/folders/w8/b_cflrn97k9c15rcrn5t8mmr0000gn/T/ipykernel_2666/3395039238.py:2: FutureWarning: Setting an item of incompatible dtype is deprecated and will raise in a future error of pandas. Value 'RAV' has dtype incompatible with int64, please explicitly cast to a compatible dtype first.\n",
      "  testset_positive.loc[:, 'class'] = gene_familly\n"
     ]
    },
    {
     "data": {
      "text/html": [
       "<div>\n",
       "<style scoped>\n",
       "    .dataframe tbody tr th:only-of-type {\n",
       "        vertical-align: middle;\n",
       "    }\n",
       "\n",
       "    .dataframe tbody tr th {\n",
       "        vertical-align: top;\n",
       "    }\n",
       "\n",
       "    .dataframe thead th {\n",
       "        text-align: right;\n",
       "    }\n",
       "</style>\n",
       "<table border=\"1\" class=\"dataframe\">\n",
       "  <thead>\n",
       "    <tr style=\"text-align: right;\">\n",
       "      <th></th>\n",
       "      <th>id</th>\n",
       "      <th>sequence</th>\n",
       "      <th>length</th>\n",
       "      <th>class</th>\n",
       "    </tr>\n",
       "  </thead>\n",
       "  <tbody>\n",
       "    <tr>\n",
       "      <th>456</th>\n",
       "      <td>Peinf101Scf00441g05001.1</td>\n",
       "      <td>MDGSSCIDAESTTSDSLSITPASTSTLPVTKTPESLCRMGSGTSVL...</td>\n",
       "      <td>369</td>\n",
       "      <td>RAV</td>\n",
       "    </tr>\n",
       "    <tr>\n",
       "      <th>238</th>\n",
       "      <td>EPS62763.1</td>\n",
       "      <td>MEKGMLSMVSFAKRFRVDRFKGVVPQQNGHWGAQIYANHQRIWLGT...</td>\n",
       "      <td>293</td>\n",
       "      <td>RAV</td>\n",
       "    </tr>\n",
       "    <tr>\n",
       "      <th>512</th>\n",
       "      <td>PSME_00035556-RA</td>\n",
       "      <td>MRLIAFPTVKRALGIPHDSKVSDLGLIKAQSGWFRRRISGTVMAGT...</td>\n",
       "      <td>515</td>\n",
       "      <td>RAV</td>\n",
       "    </tr>\n",
       "    <tr>\n",
       "      <th>132</th>\n",
       "      <td>Csa14g016230.1</td>\n",
       "      <td>MEVSSVDESTTSTGSICETPAISPAKKSSVGNNNLYRMGSGSSVVL...</td>\n",
       "      <td>348</td>\n",
       "      <td>RAV</td>\n",
       "    </tr>\n",
       "    <tr>\n",
       "      <th>64</th>\n",
       "      <td>Brast08G036100.1.p</td>\n",
       "      <td>MDSSSCLLDESSSGGSASMATGKIKSPPSSPSPAPPPTKKNPPPNP...</td>\n",
       "      <td>429</td>\n",
       "      <td>RAV</td>\n",
       "    </tr>\n",
       "    <tr>\n",
       "      <th>...</th>\n",
       "      <td>...</td>\n",
       "      <td>...</td>\n",
       "      <td>...</td>\n",
       "      <td>...</td>\n",
       "    </tr>\n",
       "    <tr>\n",
       "      <th>72</th>\n",
       "      <td>GSBRNA2T00029169001</td>\n",
       "      <td>MITLSSCISERLAANGGMNSLNEAKTMTETSGSSNSVLCLANPMEQ...</td>\n",
       "      <td>356</td>\n",
       "      <td>RAV</td>\n",
       "    </tr>\n",
       "    <tr>\n",
       "      <th>345</th>\n",
       "      <td>Manes.01G085800.1.p</td>\n",
       "      <td>MQSSNLNIMNRNQQSTKHCSSSARGSSSKLKGVISLKSGKWGARIA...</td>\n",
       "      <td>319</td>\n",
       "      <td>RAV</td>\n",
       "    </tr>\n",
       "    <tr>\n",
       "      <th>200</th>\n",
       "      <td>Do021229.1</td>\n",
       "      <td>MMESGSTETGLAAMDSSKESGDNDLQVQGPRQPLRSFKGIVLQPTG...</td>\n",
       "      <td>294</td>\n",
       "      <td>RAV</td>\n",
       "    </tr>\n",
       "    <tr>\n",
       "      <th>421</th>\n",
       "      <td>OPUNC01G02270.1</td>\n",
       "      <td>MGVEAVSFSSTSSGASTATTESGGAVQMSPEPVVAVAAHLPVVEVD...</td>\n",
       "      <td>339</td>\n",
       "      <td>RAV</td>\n",
       "    </tr>\n",
       "    <tr>\n",
       "      <th>42</th>\n",
       "      <td>Aradu.7AQ1B</td>\n",
       "      <td>MDATSSVDESTTCTNDSLSITLTPATPASPFTATSKKLSPPPPNSL...</td>\n",
       "      <td>416</td>\n",
       "      <td>RAV</td>\n",
       "    </tr>\n",
       "  </tbody>\n",
       "</table>\n",
       "<p>138 rows × 4 columns</p>\n",
       "</div>"
      ],
      "text/plain": [
       "                           id  \\\n",
       "456  Peinf101Scf00441g05001.1   \n",
       "238                EPS62763.1   \n",
       "512          PSME_00035556-RA   \n",
       "132            Csa14g016230.1   \n",
       "64         Brast08G036100.1.p   \n",
       "..                        ...   \n",
       "72        GSBRNA2T00029169001   \n",
       "345       Manes.01G085800.1.p   \n",
       "200                Do021229.1   \n",
       "421           OPUNC01G02270.1   \n",
       "42                Aradu.7AQ1B   \n",
       "\n",
       "                                              sequence  length class  \n",
       "456  MDGSSCIDAESTTSDSLSITPASTSTLPVTKTPESLCRMGSGTSVL...     369   RAV  \n",
       "238  MEKGMLSMVSFAKRFRVDRFKGVVPQQNGHWGAQIYANHQRIWLGT...     293   RAV  \n",
       "512  MRLIAFPTVKRALGIPHDSKVSDLGLIKAQSGWFRRRISGTVMAGT...     515   RAV  \n",
       "132  MEVSSVDESTTSTGSICETPAISPAKKSSVGNNNLYRMGSGSSVVL...     348   RAV  \n",
       "64   MDSSSCLLDESSSGGSASMATGKIKSPPSSPSPAPPPTKKNPPPNP...     429   RAV  \n",
       "..                                                 ...     ...   ...  \n",
       "72   MITLSSCISERLAANGGMNSLNEAKTMTETSGSSNSVLCLANPMEQ...     356   RAV  \n",
       "345  MQSSNLNIMNRNQQSTKHCSSSARGSSSKLKGVISLKSGKWGARIA...     319   RAV  \n",
       "200  MMESGSTETGLAAMDSSKESGDNDLQVQGPRQPLRSFKGIVLQPTG...     294   RAV  \n",
       "421  MGVEAVSFSSTSSGASTATTESGGAVQMSPEPVVAVAAHLPVVEVD...     339   RAV  \n",
       "42   MDATSSVDESTTCTNDSLSITLTPATPASPFTATSKKLSPPPPNSL...     416   RAV  \n",
       "\n",
       "[138 rows x 4 columns]"
      ]
     },
     "execution_count": 5,
     "metadata": {},
     "output_type": "execute_result"
    }
   ],
   "source": [
    "testset_positive = testset[testset['class'] == 1]\n",
    "testset_positive.loc[:, 'class'] = gene_familly\n",
    "testset_positive"
   ]
  },
  {
   "cell_type": "code",
   "execution_count": 6,
   "id": "25a9ad39-47e0-4b0a-9669-c9ed5c6cafa3",
   "metadata": {
    "execution": {
     "iopub.execute_input": "2024-07-03T23:17:02.261439Z",
     "iopub.status.busy": "2024-07-03T23:17:02.261330Z",
     "iopub.status.idle": "2024-07-03T23:17:02.265459Z",
     "shell.execute_reply": "2024-07-03T23:17:02.265185Z"
    },
    "papermill": {
     "duration": 0.006563,
     "end_time": "2024-07-03T23:17:02.266324",
     "exception": false,
     "start_time": "2024-07-03T23:17:02.259761",
     "status": "completed"
    },
    "tags": []
   },
   "outputs": [],
   "source": [
    "testset_positive.to_csv(\"../data/testset/\"+gene_dict['file_code']+\".csv\")"
   ]
  },
  {
   "cell_type": "code",
   "execution_count": null,
   "id": "4107c4c5-3c5d-44f9-af27-5b81b6d102e5",
   "metadata": {
    "papermill": {
     "duration": 0.001199,
     "end_time": "2024-07-03T23:17:02.268645",
     "exception": false,
     "start_time": "2024-07-03T23:17:02.267446",
     "status": "completed"
    },
    "tags": []
   },
   "outputs": [],
   "source": []
  }
 ],
 "metadata": {
  "kernelspec": {
   "display_name": "Python 3 (ipykernel)",
   "language": "python",
   "name": "python3"
  },
  "language_info": {
   "codemirror_mode": {
    "name": "ipython",
    "version": 3
   },
   "file_extension": ".py",
   "mimetype": "text/x-python",
   "name": "python",
   "nbconvert_exporter": "python",
   "pygments_lexer": "ipython3",
   "version": "3.11.7"
  },
  "papermill": {
   "default_parameters": {},
   "duration": 1.869067,
   "end_time": "2024-07-03T23:17:02.587107",
   "environment_variables": {},
   "exception": null,
   "input_path": "05-extract_testset.ipynb",
   "output_path": "AutoSave/TestGen/05-extract_testset-RAV.ipynb",
   "parameters": {
    "gene_familly": "RAV"
   },
   "start_time": "2024-07-03T23:17:00.718040",
   "version": "2.6.0"
  }
 },
 "nbformat": 4,
 "nbformat_minor": 5
}