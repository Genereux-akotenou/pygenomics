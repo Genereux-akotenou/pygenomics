{
 "cells": [
  {
   "cell_type": "code",
   "execution_count": 1,
   "id": "109b9eab",
   "metadata": {
    "execution": {
     "iopub.execute_input": "2024-07-03T23:17:12.019307Z",
     "iopub.status.busy": "2024-07-03T23:17:12.018666Z",
     "iopub.status.idle": "2024-07-03T23:17:12.031879Z",
     "shell.execute_reply": "2024-07-03T23:17:12.031136Z"
    },
    "papermill": {
     "duration": 0.026453,
     "end_time": "2024-07-03T23:17:12.034226",
     "exception": false,
     "start_time": "2024-07-03T23:17:12.007773",
     "status": "completed"
    },
    "tags": [
     "injected-parameters"
    ]
   },
   "outputs": [],
   "source": [
    "# Parameters\n",
    "gene_familly = \"TALE\"\n"
   ]
  },
  {
   "cell_type": "code",
   "execution_count": 2,
   "id": "e7cdbe25-11a6-48da-abd4-9ae5eee27bfe",
   "metadata": {
    "execution": {
     "iopub.execute_input": "2024-07-03T23:17:12.041316Z",
     "iopub.status.busy": "2024-07-03T23:17:12.041038Z",
     "iopub.status.idle": "2024-07-03T23:17:12.713032Z",
     "shell.execute_reply": "2024-07-03T23:17:12.712529Z"
    },
    "papermill": {
     "duration": 0.67695,
     "end_time": "2024-07-03T23:17:12.714644",
     "exception": false,
     "start_time": "2024-07-03T23:17:12.037694",
     "status": "completed"
    },
    "tags": []
   },
   "outputs": [],
   "source": [
    "import json\n",
    "import pandas as pd\n",
    "from sklearn.model_selection import train_test_split"
   ]
  },
  {
   "cell_type": "code",
   "execution_count": 3,
   "id": "6e20f340-8cbc-46f2-be83-6f1c4523930a",
   "metadata": {
    "execution": {
     "iopub.execute_input": "2024-07-03T23:17:12.718074Z",
     "iopub.status.busy": "2024-07-03T23:17:12.717828Z",
     "iopub.status.idle": "2024-07-03T23:17:12.769500Z",
     "shell.execute_reply": "2024-07-03T23:17:12.769143Z"
    },
    "papermill": {
     "duration": 0.054485,
     "end_time": "2024-07-03T23:17:12.770584",
     "exception": false,
     "start_time": "2024-07-03T23:17:12.716099",
     "status": "completed"
    },
    "tags": []
   },
   "outputs": [
    {
     "data": {
      "text/html": [
       "<div>\n",
       "<style scoped>\n",
       "    .dataframe tbody tr th:only-of-type {\n",
       "        vertical-align: middle;\n",
       "    }\n",
       "\n",
       "    .dataframe tbody tr th {\n",
       "        vertical-align: top;\n",
       "    }\n",
       "\n",
       "    .dataframe thead th {\n",
       "        text-align: right;\n",
       "    }\n",
       "</style>\n",
       "<table border=\"1\" class=\"dataframe\">\n",
       "  <thead>\n",
       "    <tr style=\"text-align: right;\">\n",
       "      <th></th>\n",
       "      <th>id</th>\n",
       "      <th>sequence</th>\n",
       "      <th>length</th>\n",
       "      <th>class</th>\n",
       "    </tr>\n",
       "  </thead>\n",
       "  <tbody>\n",
       "    <tr>\n",
       "      <th>0</th>\n",
       "      <td>Achn007791</td>\n",
       "      <td>MAEGFEPYHVPQQSRRDKLRVGGCVDNLQGCAGLLPAYDPSLIGPD...</td>\n",
       "      <td>507</td>\n",
       "      <td>1</td>\n",
       "    </tr>\n",
       "    <tr>\n",
       "      <th>1</th>\n",
       "      <td>Achn021251</td>\n",
       "      <td>MDDEAYGRLHTTADFSDNRPPPSEHLSLPVSHYPFASPPAFCDRSL...</td>\n",
       "      <td>307</td>\n",
       "      <td>1</td>\n",
       "    </tr>\n",
       "    <tr>\n",
       "      <th>2</th>\n",
       "      <td>Achn025901</td>\n",
       "      <td>MVSQDSPPNSASSILHQFIISDSISGQTQFENQHFEAYRNELRLIS...</td>\n",
       "      <td>430</td>\n",
       "      <td>1</td>\n",
       "    </tr>\n",
       "    <tr>\n",
       "      <th>3</th>\n",
       "      <td>Achn032201</td>\n",
       "      <td>MHISKEGCSSIGYGEAEELGPFFPQKGKPELKFNNHTWNKAANLLF...</td>\n",
       "      <td>294</td>\n",
       "      <td>1</td>\n",
       "    </tr>\n",
       "    <tr>\n",
       "      <th>4</th>\n",
       "      <td>Achn049161</td>\n",
       "      <td>MQIVVSSFDVVAGHGAAKPYTTLALKTISRHFRSLHDAISSQIRVT...</td>\n",
       "      <td>319</td>\n",
       "      <td>1</td>\n",
       "    </tr>\n",
       "  </tbody>\n",
       "</table>\n",
       "</div>"
      ],
      "text/plain": [
       "           id                                           sequence  length  \\\n",
       "0  Achn007791  MAEGFEPYHVPQQSRRDKLRVGGCVDNLQGCAGLLPAYDPSLIGPD...     507   \n",
       "1  Achn021251  MDDEAYGRLHTTADFSDNRPPPSEHLSLPVSHYPFASPPAFCDRSL...     307   \n",
       "2  Achn025901  MVSQDSPPNSASSILHQFIISDSISGQTQFENQHFEAYRNELRLIS...     430   \n",
       "3  Achn032201  MHISKEGCSSIGYGEAEELGPFFPQKGKPELKFNNHTWNKAANLLF...     294   \n",
       "4  Achn049161  MQIVVSSFDVVAGHGAAKPYTTLALKTISRHFRSLHDAISSQIRVT...     319   \n",
       "\n",
       "   class  \n",
       "0      1  \n",
       "1      1  \n",
       "2      1  \n",
       "3      1  \n",
       "4      1  "
      ]
     },
     "execution_count": 3,
     "metadata": {},
     "output_type": "execute_result"
    }
   ],
   "source": [
    "# READ GENE_INFO JSON FILE\n",
    "gene_info_path = \"../data/gene_info.json\"\n",
    "dataset_path   = \"../data/one_vs_other/\"\n",
    "with open(gene_info_path, 'r') as json_file:\n",
    "    gene_info = json.load(json_file)\n",
    "\n",
    "# FOCUS ON GENE FAMILLY\n",
    "gene_dict = gene_info[gene_familly]\n",
    "df_path = dataset_path+gene_dict['file_code']+\".csv\"\n",
    "\n",
    "# LOAD WHOLE DATASET\n",
    "USE_FULL_DF = True\n",
    "if USE_FULL_DF:\n",
    "    dataset = pd.read_csv(df_path)\n",
    "else:\n",
    "    dataset_ = pd.read_csv(df_path)\n",
    "    r = min(5000/len(dataset_), 1)\n",
    "    _, dataset = train_test_split(dataset_, test_size=r, stratify=dataset_['class'], random_state=42)\n",
    "dataset.head()"
   ]
  },
  {
   "cell_type": "code",
   "execution_count": 4,
   "id": "745dff8f-540b-4299-a3f0-dabda69bd837",
   "metadata": {
    "execution": {
     "iopub.execute_input": "2024-07-03T23:17:12.773449Z",
     "iopub.status.busy": "2024-07-03T23:17:12.773306Z",
     "iopub.status.idle": "2024-07-03T23:17:12.778480Z",
     "shell.execute_reply": "2024-07-03T23:17:12.778228Z"
    },
    "papermill": {
     "duration": 0.007554,
     "end_time": "2024-07-03T23:17:12.779388",
     "exception": false,
     "start_time": "2024-07-03T23:17:12.771834",
     "status": "completed"
    },
    "tags": []
   },
   "outputs": [],
   "source": [
    "trainset, testset = train_test_split(dataset, test_size=0.2, stratify=dataset['class'], random_state=42)"
   ]
  },
  {
   "cell_type": "code",
   "execution_count": 5,
   "id": "a9b8b47d-48c6-4e94-a378-574904e308ee",
   "metadata": {
    "execution": {
     "iopub.execute_input": "2024-07-03T23:17:12.781982Z",
     "iopub.status.busy": "2024-07-03T23:17:12.781858Z",
     "iopub.status.idle": "2024-07-03T23:17:12.787630Z",
     "shell.execute_reply": "2024-07-03T23:17:12.787360Z"
    },
    "papermill": {
     "duration": 0.008101,
     "end_time": "2024-07-03T23:17:12.788493",
     "exception": false,
     "start_time": "2024-07-03T23:17:12.780392",
     "status": "completed"
    },
    "tags": []
   },
   "outputs": [
    {
     "name": "stderr",
     "output_type": "stream",
     "text": [
      "/var/folders/w8/b_cflrn97k9c15rcrn5t8mmr0000gn/T/ipykernel_2707/3395039238.py:2: FutureWarning: Setting an item of incompatible dtype is deprecated and will raise in a future error of pandas. Value 'TALE' has dtype incompatible with int64, please explicitly cast to a compatible dtype first.\n",
      "  testset_positive.loc[:, 'class'] = gene_familly\n"
     ]
    },
    {
     "data": {
      "text/html": [
       "<div>\n",
       "<style scoped>\n",
       "    .dataframe tbody tr th:only-of-type {\n",
       "        vertical-align: middle;\n",
       "    }\n",
       "\n",
       "    .dataframe tbody tr th {\n",
       "        vertical-align: top;\n",
       "    }\n",
       "\n",
       "    .dataframe thead th {\n",
       "        text-align: right;\n",
       "    }\n",
       "</style>\n",
       "<table border=\"1\" class=\"dataframe\">\n",
       "  <thead>\n",
       "    <tr style=\"text-align: right;\">\n",
       "      <th></th>\n",
       "      <th>id</th>\n",
       "      <th>sequence</th>\n",
       "      <th>length</th>\n",
       "      <th>class</th>\n",
       "    </tr>\n",
       "  </thead>\n",
       "  <tbody>\n",
       "    <tr>\n",
       "      <th>1490</th>\n",
       "      <td>KHN05661.1</td>\n",
       "      <td>MQMVVQSFESVVGLSSATPYVSLALKSISKHFRCLKNAISDQLKLT...</td>\n",
       "      <td>325</td>\n",
       "      <td>TALE</td>\n",
       "    </tr>\n",
       "    <tr>\n",
       "      <th>1363</th>\n",
       "      <td>Glyma.02G196500.2.p</td>\n",
       "      <td>MATYFHSNSEIQAGADGLQTLVLMNPGYVQYSDTPPPPHGGNLVFL...</td>\n",
       "      <td>665</td>\n",
       "      <td>TALE</td>\n",
       "    </tr>\n",
       "    <tr>\n",
       "      <th>890</th>\n",
       "      <td>XP_004508615.1</td>\n",
       "      <td>MAYEENIEEEIGYQRFTEEEEESEKNCETEELREYKTEILGHPLYD...</td>\n",
       "      <td>308</td>\n",
       "      <td>TALE</td>\n",
       "    </tr>\n",
       "    <tr>\n",
       "      <th>1892</th>\n",
       "      <td>Kalax.0005s0127.1.p</td>\n",
       "      <td>MDSTMNNFISDQLHVAQQSRREKLRVQHCSPLRSGHRVDDYTSGME...</td>\n",
       "      <td>805</td>\n",
       "      <td>TALE</td>\n",
       "    </tr>\n",
       "    <tr>\n",
       "      <th>2053</th>\n",
       "      <td>Lj0g3v0250849.1</td>\n",
       "      <td>MATYFHTNSEIQGGADGLQTLLLMNPGGYVQYSDTPPPPPPPQQHG...</td>\n",
       "      <td>655</td>\n",
       "      <td>TALE</td>\n",
       "    </tr>\n",
       "    <tr>\n",
       "      <th>...</th>\n",
       "      <td>...</td>\n",
       "      <td>...</td>\n",
       "      <td>...</td>\n",
       "      <td>...</td>\n",
       "    </tr>\n",
       "    <tr>\n",
       "      <th>1814</th>\n",
       "      <td>Jcr4S02125.60</td>\n",
       "      <td>MQEPNLGMMGTGSGGALGGLSSGGGEVSVSVSGDQTRQLKADIATH...</td>\n",
       "      <td>313</td>\n",
       "      <td>TALE</td>\n",
       "    </tr>\n",
       "    <tr>\n",
       "      <th>1095</th>\n",
       "      <td>Dca42443.1</td>\n",
       "      <td>MFISFKPHVIYFMFAEEAAASSDEECSGGEVDVHDMQPKDEERDLK...</td>\n",
       "      <td>147</td>\n",
       "      <td>TALE</td>\n",
       "    </tr>\n",
       "    <tr>\n",
       "      <th>871</th>\n",
       "      <td>XP_004491125.1</td>\n",
       "      <td>MLGFGGNNSFSEFCSMDHHHHPMNIMNINMDTTNRKFHSFPLTTNN...</td>\n",
       "      <td>311</td>\n",
       "      <td>TALE</td>\n",
       "    </tr>\n",
       "    <tr>\n",
       "      <th>1186</th>\n",
       "      <td>XP_010933991.1</td>\n",
       "      <td>MAHHHPEKLGTLISPAFSYDDFSSTRNSMIQSFEPNQELYSLQAGM...</td>\n",
       "      <td>596</td>\n",
       "      <td>TALE</td>\n",
       "    </tr>\n",
       "    <tr>\n",
       "      <th>225</th>\n",
       "      <td>Aradu.LNW6E</td>\n",
       "      <td>MQMVVSSFETVAGLNSATPYVSLALKLVSKNFKSLKNSISGQLKLI...</td>\n",
       "      <td>300</td>\n",
       "      <td>TALE</td>\n",
       "    </tr>\n",
       "  </tbody>\n",
       "</table>\n",
       "<p>887 rows × 4 columns</p>\n",
       "</div>"
      ],
      "text/plain": [
       "                       id                                           sequence  \\\n",
       "1490           KHN05661.1  MQMVVQSFESVVGLSSATPYVSLALKSISKHFRCLKNAISDQLKLT...   \n",
       "1363  Glyma.02G196500.2.p  MATYFHSNSEIQAGADGLQTLVLMNPGYVQYSDTPPPPHGGNLVFL...   \n",
       "890        XP_004508615.1  MAYEENIEEEIGYQRFTEEEEESEKNCETEELREYKTEILGHPLYD...   \n",
       "1892  Kalax.0005s0127.1.p  MDSTMNNFISDQLHVAQQSRREKLRVQHCSPLRSGHRVDDYTSGME...   \n",
       "2053      Lj0g3v0250849.1  MATYFHTNSEIQGGADGLQTLLLMNPGGYVQYSDTPPPPPPPQQHG...   \n",
       "...                   ...                                                ...   \n",
       "1814        Jcr4S02125.60  MQEPNLGMMGTGSGGALGGLSSGGGEVSVSVSGDQTRQLKADIATH...   \n",
       "1095           Dca42443.1  MFISFKPHVIYFMFAEEAAASSDEECSGGEVDVHDMQPKDEERDLK...   \n",
       "871        XP_004491125.1  MLGFGGNNSFSEFCSMDHHHHPMNIMNINMDTTNRKFHSFPLTTNN...   \n",
       "1186       XP_010933991.1  MAHHHPEKLGTLISPAFSYDDFSSTRNSMIQSFEPNQELYSLQAGM...   \n",
       "225           Aradu.LNW6E  MQMVVSSFETVAGLNSATPYVSLALKLVSKNFKSLKNSISGQLKLI...   \n",
       "\n",
       "      length class  \n",
       "1490     325  TALE  \n",
       "1363     665  TALE  \n",
       "890      308  TALE  \n",
       "1892     805  TALE  \n",
       "2053     655  TALE  \n",
       "...      ...   ...  \n",
       "1814     313  TALE  \n",
       "1095     147  TALE  \n",
       "871      311  TALE  \n",
       "1186     596  TALE  \n",
       "225      300  TALE  \n",
       "\n",
       "[887 rows x 4 columns]"
      ]
     },
     "execution_count": 5,
     "metadata": {},
     "output_type": "execute_result"
    }
   ],
   "source": [
    "testset_positive = testset[testset['class'] == 1]\n",
    "testset_positive.loc[:, 'class'] = gene_familly\n",
    "testset_positive"
   ]
  },
  {
   "cell_type": "code",
   "execution_count": 6,
   "id": "25a9ad39-47e0-4b0a-9669-c9ed5c6cafa3",
   "metadata": {
    "execution": {
     "iopub.execute_input": "2024-07-03T23:17:12.791358Z",
     "iopub.status.busy": "2024-07-03T23:17:12.791230Z",
     "iopub.status.idle": "2024-07-03T23:17:12.802120Z",
     "shell.execute_reply": "2024-07-03T23:17:12.801864Z"
    },
    "papermill": {
     "duration": 0.013296,
     "end_time": "2024-07-03T23:17:12.803021",
     "exception": false,
     "start_time": "2024-07-03T23:17:12.789725",
     "status": "completed"
    },
    "tags": []
   },
   "outputs": [],
   "source": [
    "testset_positive.to_csv(\"../data/testset/\"+gene_dict['file_code']+\".csv\")"
   ]
  },
  {
   "cell_type": "code",
   "execution_count": null,
   "id": "4107c4c5-3c5d-44f9-af27-5b81b6d102e5",
   "metadata": {
    "papermill": {
     "duration": 0.001176,
     "end_time": "2024-07-03T23:17:12.805378",
     "exception": false,
     "start_time": "2024-07-03T23:17:12.804202",
     "status": "completed"
    },
    "tags": []
   },
   "outputs": [],
   "source": []
  }
 ],
 "metadata": {
  "kernelspec": {
   "display_name": "Python 3 (ipykernel)",
   "language": "python",
   "name": "python3"
  },
  "language_info": {
   "codemirror_mode": {
    "name": "ipython",
    "version": 3
   },
   "file_extension": ".py",
   "mimetype": "text/x-python",
   "name": "python",
   "nbconvert_exporter": "python",
   "pygments_lexer": "ipython3",
   "version": "3.11.7"
  },
  "papermill": {
   "default_parameters": {},
   "duration": 1.703448,
   "end_time": "2024-07-03T23:17:13.124433",
   "environment_variables": {},
   "exception": null,
   "input_path": "05-extract_testset.ipynb",
   "output_path": "AutoSave/TestGen/05-extract_testset-TALE.ipynb",
   "parameters": {
    "gene_familly": "TALE"
   },
   "start_time": "2024-07-03T23:17:11.420985",
   "version": "2.6.0"
  }
 },
 "nbformat": 4,
 "nbformat_minor": 5
}