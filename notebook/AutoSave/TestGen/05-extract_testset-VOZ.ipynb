{
 "cells": [
  {
   "cell_type": "code",
   "execution_count": 1,
   "id": "bd3d2ae0",
   "metadata": {
    "execution": {
     "iopub.execute_input": "2024-07-03T23:17:17.553140Z",
     "iopub.status.busy": "2024-07-03T23:17:17.552539Z",
     "iopub.status.idle": "2024-07-03T23:17:17.561747Z",
     "shell.execute_reply": "2024-07-03T23:17:17.561125Z"
    },
    "papermill": {
     "duration": 0.021608,
     "end_time": "2024-07-03T23:17:17.564116",
     "exception": false,
     "start_time": "2024-07-03T23:17:17.542508",
     "status": "completed"
    },
    "tags": [
     "injected-parameters"
    ]
   },
   "outputs": [],
   "source": [
    "# Parameters\n",
    "gene_familly = \"VOZ\"\n"
   ]
  },
  {
   "cell_type": "code",
   "execution_count": 2,
   "id": "e7cdbe25-11a6-48da-abd4-9ae5eee27bfe",
   "metadata": {
    "execution": {
     "iopub.execute_input": "2024-07-03T23:17:17.570218Z",
     "iopub.status.busy": "2024-07-03T23:17:17.569912Z",
     "iopub.status.idle": "2024-07-03T23:17:18.222050Z",
     "shell.execute_reply": "2024-07-03T23:17:18.221580Z"
    },
    "papermill": {
     "duration": 0.656747,
     "end_time": "2024-07-03T23:17:18.223822",
     "exception": false,
     "start_time": "2024-07-03T23:17:17.567075",
     "status": "completed"
    },
    "tags": []
   },
   "outputs": [],
   "source": [
    "import json\n",
    "import pandas as pd\n",
    "from sklearn.model_selection import train_test_split"
   ]
  },
  {
   "cell_type": "code",
   "execution_count": 3,
   "id": "6e20f340-8cbc-46f2-be83-6f1c4523930a",
   "metadata": {
    "execution": {
     "iopub.execute_input": "2024-07-03T23:17:18.227267Z",
     "iopub.status.busy": "2024-07-03T23:17:18.227036Z",
     "iopub.status.idle": "2024-07-03T23:17:18.245370Z",
     "shell.execute_reply": "2024-07-03T23:17:18.245011Z"
    },
    "papermill": {
     "duration": 0.021028,
     "end_time": "2024-07-03T23:17:18.246378",
     "exception": false,
     "start_time": "2024-07-03T23:17:18.225350",
     "status": "completed"
    },
    "tags": []
   },
   "outputs": [
    {
     "data": {
      "text/html": [
       "<div>\n",
       "<style scoped>\n",
       "    .dataframe tbody tr th:only-of-type {\n",
       "        vertical-align: middle;\n",
       "    }\n",
       "\n",
       "    .dataframe tbody tr th {\n",
       "        vertical-align: top;\n",
       "    }\n",
       "\n",
       "    .dataframe thead th {\n",
       "        text-align: right;\n",
       "    }\n",
       "</style>\n",
       "<table border=\"1\" class=\"dataframe\">\n",
       "  <thead>\n",
       "    <tr style=\"text-align: right;\">\n",
       "      <th></th>\n",
       "      <th>id</th>\n",
       "      <th>sequence</th>\n",
       "      <th>length</th>\n",
       "      <th>class</th>\n",
       "    </tr>\n",
       "  </thead>\n",
       "  <tbody>\n",
       "    <tr>\n",
       "      <th>0</th>\n",
       "      <td>Achn033301</td>\n",
       "      <td>MRKGSKSGGCKTASHQHYKDRAKNRVDDLQGMFTDLQSARKESRSI...</td>\n",
       "      <td>501</td>\n",
       "      <td>1</td>\n",
       "    </tr>\n",
       "    <tr>\n",
       "      <th>1</th>\n",
       "      <td>Achn043391</td>\n",
       "      <td>MRKGSKSGGCKTASHQHYKDRAKNRVDDLQGMFTDLQSARKESRSI...</td>\n",
       "      <td>521</td>\n",
       "      <td>1</td>\n",
       "    </tr>\n",
       "    <tr>\n",
       "      <th>2</th>\n",
       "      <td>Achn181401</td>\n",
       "      <td>MGKNSKSGGCKSASHQLFKDRAKNRVDDLQGMFTDLQSARKDSRSI...</td>\n",
       "      <td>482</td>\n",
       "      <td>1</td>\n",
       "    </tr>\n",
       "    <tr>\n",
       "      <th>3</th>\n",
       "      <td>Achn219231</td>\n",
       "      <td>MGKNSKSGGCKSASHQFFKDRAKNRVDDLQGMFTDLQSARKESRSI...</td>\n",
       "      <td>480</td>\n",
       "      <td>1</td>\n",
       "    </tr>\n",
       "    <tr>\n",
       "      <th>4</th>\n",
       "      <td>Achn345531</td>\n",
       "      <td>MRKGSKSGGCKTASHQHFKDRAKNRVDDLQGMFTDLQSARKESRSI...</td>\n",
       "      <td>494</td>\n",
       "      <td>1</td>\n",
       "    </tr>\n",
       "  </tbody>\n",
       "</table>\n",
       "</div>"
      ],
      "text/plain": [
       "           id                                           sequence  length  \\\n",
       "0  Achn033301  MRKGSKSGGCKTASHQHYKDRAKNRVDDLQGMFTDLQSARKESRSI...     501   \n",
       "1  Achn043391  MRKGSKSGGCKTASHQHYKDRAKNRVDDLQGMFTDLQSARKESRSI...     521   \n",
       "2  Achn181401  MGKNSKSGGCKSASHQLFKDRAKNRVDDLQGMFTDLQSARKDSRSI...     482   \n",
       "3  Achn219231  MGKNSKSGGCKSASHQFFKDRAKNRVDDLQGMFTDLQSARKESRSI...     480   \n",
       "4  Achn345531  MRKGSKSGGCKTASHQHFKDRAKNRVDDLQGMFTDLQSARKESRSI...     494   \n",
       "\n",
       "   class  \n",
       "0      1  \n",
       "1      1  \n",
       "2      1  \n",
       "3      1  \n",
       "4      1  "
      ]
     },
     "execution_count": 3,
     "metadata": {},
     "output_type": "execute_result"
    }
   ],
   "source": [
    "# READ GENE_INFO JSON FILE\n",
    "gene_info_path = \"../data/gene_info.json\"\n",
    "dataset_path   = \"../data/one_vs_other/\"\n",
    "with open(gene_info_path, 'r') as json_file:\n",
    "    gene_info = json.load(json_file)\n",
    "\n",
    "# FOCUS ON GENE FAMILLY\n",
    "gene_dict = gene_info[gene_familly]\n",
    "df_path = dataset_path+gene_dict['file_code']+\".csv\"\n",
    "\n",
    "# LOAD WHOLE DATASET\n",
    "USE_FULL_DF = True\n",
    "if USE_FULL_DF:\n",
    "    dataset = pd.read_csv(df_path)\n",
    "else:\n",
    "    dataset_ = pd.read_csv(df_path)\n",
    "    r = min(5000/len(dataset_), 1)\n",
    "    _, dataset = train_test_split(dataset_, test_size=r, stratify=dataset_['class'], random_state=42)\n",
    "dataset.head()"
   ]
  },
  {
   "cell_type": "code",
   "execution_count": 4,
   "id": "745dff8f-540b-4299-a3f0-dabda69bd837",
   "metadata": {
    "execution": {
     "iopub.execute_input": "2024-07-03T23:17:18.249325Z",
     "iopub.status.busy": "2024-07-03T23:17:18.249172Z",
     "iopub.status.idle": "2024-07-03T23:17:18.253495Z",
     "shell.execute_reply": "2024-07-03T23:17:18.253196Z"
    },
    "papermill": {
     "duration": 0.006864,
     "end_time": "2024-07-03T23:17:18.254452",
     "exception": false,
     "start_time": "2024-07-03T23:17:18.247588",
     "status": "completed"
    },
    "tags": []
   },
   "outputs": [],
   "source": [
    "trainset, testset = train_test_split(dataset, test_size=0.2, stratify=dataset['class'], random_state=42)"
   ]
  },
  {
   "cell_type": "code",
   "execution_count": 5,
   "id": "a9b8b47d-48c6-4e94-a378-574904e308ee",
   "metadata": {
    "execution": {
     "iopub.execute_input": "2024-07-03T23:17:18.256944Z",
     "iopub.status.busy": "2024-07-03T23:17:18.256820Z",
     "iopub.status.idle": "2024-07-03T23:17:18.262736Z",
     "shell.execute_reply": "2024-07-03T23:17:18.262482Z"
    },
    "papermill": {
     "duration": 0.008132,
     "end_time": "2024-07-03T23:17:18.263622",
     "exception": false,
     "start_time": "2024-07-03T23:17:18.255490",
     "status": "completed"
    },
    "tags": []
   },
   "outputs": [
    {
     "name": "stderr",
     "output_type": "stream",
     "text": [
      "/var/folders/w8/b_cflrn97k9c15rcrn5t8mmr0000gn/T/ipykernel_2729/3395039238.py:2: FutureWarning: Setting an item of incompatible dtype is deprecated and will raise in a future error of pandas. Value 'VOZ' has dtype incompatible with int64, please explicitly cast to a compatible dtype first.\n",
      "  testset_positive.loc[:, 'class'] = gene_familly\n"
     ]
    },
    {
     "data": {
      "text/html": [
       "<div>\n",
       "<style scoped>\n",
       "    .dataframe tbody tr th:only-of-type {\n",
       "        vertical-align: middle;\n",
       "    }\n",
       "\n",
       "    .dataframe tbody tr th {\n",
       "        vertical-align: top;\n",
       "    }\n",
       "\n",
       "    .dataframe thead th {\n",
       "        text-align: right;\n",
       "    }\n",
       "</style>\n",
       "<table border=\"1\" class=\"dataframe\">\n",
       "  <thead>\n",
       "    <tr style=\"text-align: right;\">\n",
       "      <th></th>\n",
       "      <th>id</th>\n",
       "      <th>sequence</th>\n",
       "      <th>length</th>\n",
       "      <th>class</th>\n",
       "    </tr>\n",
       "  </thead>\n",
       "  <tbody>\n",
       "    <tr>\n",
       "      <th>373</th>\n",
       "      <td>Pta002222</td>\n",
       "      <td>XDFLWTCQSQAQAIDGTSRSENIHAEPLLQTIDEGVEAAAQMNRDF...</td>\n",
       "      <td>350</td>\n",
       "      <td>VOZ</td>\n",
       "    </tr>\n",
       "    <tr>\n",
       "      <th>121</th>\n",
       "      <td>orange1.1g017220m</td>\n",
       "      <td>MKPQPDVQGHPGTMMAFQEDYVVNNELQGHCFQGFDKCEDSASGLH...</td>\n",
       "      <td>376</td>\n",
       "      <td>VOZ</td>\n",
       "    </tr>\n",
       "    <tr>\n",
       "      <th>614</th>\n",
       "      <td>GRMZM2G094081_P01</td>\n",
       "      <td>MTSAPSAFLKPKCALWDCLRPAVGSERWHDYCSMYHADLAVQEEGP...</td>\n",
       "      <td>309</td>\n",
       "      <td>VOZ</td>\n",
       "    </tr>\n",
       "    <tr>\n",
       "      <th>444</th>\n",
       "      <td>PSME_00033701-RA</td>\n",
       "      <td>MIHTAGQSSAYSSSFLLRRVQTDSSRGFFLTIRSQEEEGEQYQIGR...</td>\n",
       "      <td>890</td>\n",
       "      <td>VOZ</td>\n",
       "    </tr>\n",
       "    <tr>\n",
       "      <th>190</th>\n",
       "      <td>KHN32237.1</td>\n",
       "      <td>MKKISKSSCKSASHRLFKDKARNHVDDLQVMFLDLQFARKESRTID...</td>\n",
       "      <td>465</td>\n",
       "      <td>VOZ</td>\n",
       "    </tr>\n",
       "    <tr>\n",
       "      <th>...</th>\n",
       "      <td>...</td>\n",
       "      <td>...</td>\n",
       "      <td>...</td>\n",
       "      <td>...</td>\n",
       "    </tr>\n",
       "    <tr>\n",
       "      <th>142</th>\n",
       "      <td>XP_010924398.1</td>\n",
       "      <td>MGKGSKTGCRSASHQLFKDKAKNRVDDLQGIFTDLQSARKESRTAD...</td>\n",
       "      <td>517</td>\n",
       "      <td>VOZ</td>\n",
       "    </tr>\n",
       "    <tr>\n",
       "      <th>90</th>\n",
       "      <td>evm.model.supercontig_7.6</td>\n",
       "      <td>MGLIFDCRIVVESRRKFVMGKGSKTNCKSASHKLFKDKAKNRVDDL...</td>\n",
       "      <td>458</td>\n",
       "      <td>VOZ</td>\n",
       "    </tr>\n",
       "    <tr>\n",
       "      <th>118</th>\n",
       "      <td>orange1.1g011681m</td>\n",
       "      <td>MVGKGAKTNCKSASHKLFKDKAKTRVDDLQGKFLDLQFARKESRTV...</td>\n",
       "      <td>480</td>\n",
       "      <td>VOZ</td>\n",
       "    </tr>\n",
       "    <tr>\n",
       "      <th>64</th>\n",
       "      <td>XP_009109707.1</td>\n",
       "      <td>MTGKRSKNPCRSVSHKLFKDKAKNRVDDLQGMLLDLQFARKESSAL...</td>\n",
       "      <td>459</td>\n",
       "      <td>VOZ</td>\n",
       "    </tr>\n",
       "    <tr>\n",
       "      <th>477</th>\n",
       "      <td>PSME_00055474-RA</td>\n",
       "      <td>CPPPAAFLGPKCALWDCSRPAKGTKWCQDYCSDFHMNLASNEGAPG...</td>\n",
       "      <td>225</td>\n",
       "      <td>VOZ</td>\n",
       "    </tr>\n",
       "  </tbody>\n",
       "</table>\n",
       "<p>127 rows × 4 columns</p>\n",
       "</div>"
      ],
      "text/plain": [
       "                            id  \\\n",
       "373                  Pta002222   \n",
       "121          orange1.1g017220m   \n",
       "614          GRMZM2G094081_P01   \n",
       "444           PSME_00033701-RA   \n",
       "190                 KHN32237.1   \n",
       "..                         ...   \n",
       "142             XP_010924398.1   \n",
       "90   evm.model.supercontig_7.6   \n",
       "118          orange1.1g011681m   \n",
       "64              XP_009109707.1   \n",
       "477           PSME_00055474-RA   \n",
       "\n",
       "                                              sequence  length class  \n",
       "373  XDFLWTCQSQAQAIDGTSRSENIHAEPLLQTIDEGVEAAAQMNRDF...     350   VOZ  \n",
       "121  MKPQPDVQGHPGTMMAFQEDYVVNNELQGHCFQGFDKCEDSASGLH...     376   VOZ  \n",
       "614  MTSAPSAFLKPKCALWDCLRPAVGSERWHDYCSMYHADLAVQEEGP...     309   VOZ  \n",
       "444  MIHTAGQSSAYSSSFLLRRVQTDSSRGFFLTIRSQEEEGEQYQIGR...     890   VOZ  \n",
       "190  MKKISKSSCKSASHRLFKDKARNHVDDLQVMFLDLQFARKESRTID...     465   VOZ  \n",
       "..                                                 ...     ...   ...  \n",
       "142  MGKGSKTGCRSASHQLFKDKAKNRVDDLQGIFTDLQSARKESRTAD...     517   VOZ  \n",
       "90   MGLIFDCRIVVESRRKFVMGKGSKTNCKSASHKLFKDKAKNRVDDL...     458   VOZ  \n",
       "118  MVGKGAKTNCKSASHKLFKDKAKTRVDDLQGKFLDLQFARKESRTV...     480   VOZ  \n",
       "64   MTGKRSKNPCRSVSHKLFKDKAKNRVDDLQGMLLDLQFARKESSAL...     459   VOZ  \n",
       "477  CPPPAAFLGPKCALWDCSRPAKGTKWCQDYCSDFHMNLASNEGAPG...     225   VOZ  \n",
       "\n",
       "[127 rows x 4 columns]"
      ]
     },
     "execution_count": 5,
     "metadata": {},
     "output_type": "execute_result"
    }
   ],
   "source": [
    "testset_positive = testset[testset['class'] == 1]\n",
    "testset_positive.loc[:, 'class'] = gene_familly\n",
    "testset_positive"
   ]
  },
  {
   "cell_type": "code",
   "execution_count": 6,
   "id": "25a9ad39-47e0-4b0a-9669-c9ed5c6cafa3",
   "metadata": {
    "execution": {
     "iopub.execute_input": "2024-07-03T23:17:18.266668Z",
     "iopub.status.busy": "2024-07-03T23:17:18.266453Z",
     "iopub.status.idle": "2024-07-03T23:17:18.270684Z",
     "shell.execute_reply": "2024-07-03T23:17:18.270400Z"
    },
    "papermill": {
     "duration": 0.006724,
     "end_time": "2024-07-03T23:17:18.271607",
     "exception": false,
     "start_time": "2024-07-03T23:17:18.264883",
     "status": "completed"
    },
    "tags": []
   },
   "outputs": [],
   "source": [
    "testset_positive.to_csv(\"../data/testset/\"+gene_dict['file_code']+\".csv\")"
   ]
  },
  {
   "cell_type": "code",
   "execution_count": null,
   "id": "4107c4c5-3c5d-44f9-af27-5b81b6d102e5",
   "metadata": {
    "papermill": {
     "duration": 0.001243,
     "end_time": "2024-07-03T23:17:18.274172",
     "exception": false,
     "start_time": "2024-07-03T23:17:18.272929",
     "status": "completed"
    },
    "tags": []
   },
   "outputs": [],
   "source": []
  }
 ],
 "metadata": {
  "kernelspec": {
   "display_name": "Python 3 (ipykernel)",
   "language": "python",
   "name": "python3"
  },
  "language_info": {
   "codemirror_mode": {
    "name": "ipython",
    "version": 3
   },
   "file_extension": ".py",
   "mimetype": "text/x-python",
   "name": "python",
   "nbconvert_exporter": "python",
   "pygments_lexer": "ipython3",
   "version": "3.11.7"
  },
  "papermill": {
   "default_parameters": {},
   "duration": 1.916816,
   "end_time": "2024-07-03T23:17:18.592970",
   "environment_variables": {},
   "exception": null,
   "input_path": "05-extract_testset.ipynb",
   "output_path": "AutoSave/TestGen/05-extract_testset-VOZ.ipynb",
   "parameters": {
    "gene_familly": "VOZ"
   },
   "start_time": "2024-07-03T23:17:16.676154",
   "version": "2.6.0"
  }
 },
 "nbformat": 4,
 "nbformat_minor": 5
}