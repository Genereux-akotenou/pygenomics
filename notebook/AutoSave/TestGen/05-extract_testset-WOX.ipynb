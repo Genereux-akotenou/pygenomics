{
 "cells": [
  {
   "cell_type": "code",
   "execution_count": 1,
   "id": "c089b144",
   "metadata": {
    "execution": {
     "iopub.execute_input": "2024-07-03T23:17:19.177747Z",
     "iopub.status.busy": "2024-07-03T23:17:19.177200Z",
     "iopub.status.idle": "2024-07-03T23:17:19.187472Z",
     "shell.execute_reply": "2024-07-03T23:17:19.186675Z"
    },
    "papermill": {
     "duration": 0.020884,
     "end_time": "2024-07-03T23:17:19.189943",
     "exception": false,
     "start_time": "2024-07-03T23:17:19.169059",
     "status": "completed"
    },
    "tags": [
     "injected-parameters"
    ]
   },
   "outputs": [],
   "source": [
    "# Parameters\n",
    "gene_familly = \"WOX\"\n"
   ]
  },
  {
   "cell_type": "code",
   "execution_count": 2,
   "id": "e7cdbe25-11a6-48da-abd4-9ae5eee27bfe",
   "metadata": {
    "execution": {
     "iopub.execute_input": "2024-07-03T23:17:19.199723Z",
     "iopub.status.busy": "2024-07-03T23:17:19.199476Z",
     "iopub.status.idle": "2024-07-03T23:17:19.863386Z",
     "shell.execute_reply": "2024-07-03T23:17:19.862900Z"
    },
    "papermill": {
     "duration": 0.671333,
     "end_time": "2024-07-03T23:17:19.864969",
     "exception": false,
     "start_time": "2024-07-03T23:17:19.193636",
     "status": "completed"
    },
    "tags": []
   },
   "outputs": [],
   "source": [
    "import json\n",
    "import pandas as pd\n",
    "from sklearn.model_selection import train_test_split"
   ]
  },
  {
   "cell_type": "code",
   "execution_count": 3,
   "id": "6e20f340-8cbc-46f2-be83-6f1c4523930a",
   "metadata": {
    "execution": {
     "iopub.execute_input": "2024-07-03T23:17:19.868448Z",
     "iopub.status.busy": "2024-07-03T23:17:19.868156Z",
     "iopub.status.idle": "2024-07-03T23:17:19.896178Z",
     "shell.execute_reply": "2024-07-03T23:17:19.895692Z"
    },
    "papermill": {
     "duration": 0.030699,
     "end_time": "2024-07-03T23:17:19.897201",
     "exception": false,
     "start_time": "2024-07-03T23:17:19.866502",
     "status": "completed"
    },
    "tags": []
   },
   "outputs": [
    {
     "data": {
      "text/html": [
       "<div>\n",
       "<style scoped>\n",
       "    .dataframe tbody tr th:only-of-type {\n",
       "        vertical-align: middle;\n",
       "    }\n",
       "\n",
       "    .dataframe tbody tr th {\n",
       "        vertical-align: top;\n",
       "    }\n",
       "\n",
       "    .dataframe thead th {\n",
       "        text-align: right;\n",
       "    }\n",
       "</style>\n",
       "<table border=\"1\" class=\"dataframe\">\n",
       "  <thead>\n",
       "    <tr style=\"text-align: right;\">\n",
       "      <th></th>\n",
       "      <th>id</th>\n",
       "      <th>sequence</th>\n",
       "      <th>length</th>\n",
       "      <th>class</th>\n",
       "    </tr>\n",
       "  </thead>\n",
       "  <tbody>\n",
       "    <tr>\n",
       "      <th>0</th>\n",
       "      <td>Achn053291</td>\n",
       "      <td>MEFQQQNNQNQQQQQNEDGGSGSSKSTSFLCRQSSTRWTPTTDQIR...</td>\n",
       "      <td>290</td>\n",
       "      <td>1</td>\n",
       "    </tr>\n",
       "    <tr>\n",
       "      <th>1</th>\n",
       "      <td>Achn104531</td>\n",
       "      <td>MEEDANHPNSPISSSGGGDQRNNEPVRSRWTPKPEQILILESIFNS...</td>\n",
       "      <td>256</td>\n",
       "      <td>1</td>\n",
       "    </tr>\n",
       "    <tr>\n",
       "      <th>2</th>\n",
       "      <td>Achn107771</td>\n",
       "      <td>MILEEMYTRGGIRTPNASQIQQITAYLSLYGKIEGKNVFYWFQNHK...</td>\n",
       "      <td>139</td>\n",
       "      <td>1</td>\n",
       "    </tr>\n",
       "    <tr>\n",
       "      <th>3</th>\n",
       "      <td>Achn131681</td>\n",
       "      <td>MKVHHQLSRGLFDHEPFLTLDCKRLRPLAPKLIPDAHTHSSVGAAF...</td>\n",
       "      <td>207</td>\n",
       "      <td>1</td>\n",
       "    </tr>\n",
       "    <tr>\n",
       "      <th>4</th>\n",
       "      <td>Achn141001</td>\n",
       "      <td>MGCQAFALSRGSVAVVVVVLNVGGGIRRLNRSGLRTPSTDQIQKIS...</td>\n",
       "      <td>159</td>\n",
       "      <td>1</td>\n",
       "    </tr>\n",
       "  </tbody>\n",
       "</table>\n",
       "</div>"
      ],
      "text/plain": [
       "           id                                           sequence  length  \\\n",
       "0  Achn053291  MEFQQQNNQNQQQQQNEDGGSGSSKSTSFLCRQSSTRWTPTTDQIR...     290   \n",
       "1  Achn104531  MEEDANHPNSPISSSGGGDQRNNEPVRSRWTPKPEQILILESIFNS...     256   \n",
       "2  Achn107771  MILEEMYTRGGIRTPNASQIQQITAYLSLYGKIEGKNVFYWFQNHK...     139   \n",
       "3  Achn131681  MKVHHQLSRGLFDHEPFLTLDCKRLRPLAPKLIPDAHTHSSVGAAF...     207   \n",
       "4  Achn141001  MGCQAFALSRGSVAVVVVVLNVGGGIRRLNRSGLRTPSTDQIQKIS...     159   \n",
       "\n",
       "   class  \n",
       "0      1  \n",
       "1      1  \n",
       "2      1  \n",
       "3      1  \n",
       "4      1  "
      ]
     },
     "execution_count": 3,
     "metadata": {},
     "output_type": "execute_result"
    }
   ],
   "source": [
    "# READ GENE_INFO JSON FILE\n",
    "gene_info_path = \"../data/gene_info.json\"\n",
    "dataset_path   = \"../data/one_vs_other/\"\n",
    "with open(gene_info_path, 'r') as json_file:\n",
    "    gene_info = json.load(json_file)\n",
    "\n",
    "# FOCUS ON GENE FAMILLY\n",
    "gene_dict = gene_info[gene_familly]\n",
    "df_path = dataset_path+gene_dict['file_code']+\".csv\"\n",
    "\n",
    "# LOAD WHOLE DATASET\n",
    "USE_FULL_DF = True\n",
    "if USE_FULL_DF:\n",
    "    dataset = pd.read_csv(df_path)\n",
    "else:\n",
    "    dataset_ = pd.read_csv(df_path)\n",
    "    r = min(5000/len(dataset_), 1)\n",
    "    _, dataset = train_test_split(dataset_, test_size=r, stratify=dataset_['class'], random_state=42)\n",
    "dataset.head()"
   ]
  },
  {
   "cell_type": "code",
   "execution_count": 4,
   "id": "745dff8f-540b-4299-a3f0-dabda69bd837",
   "metadata": {
    "execution": {
     "iopub.execute_input": "2024-07-03T23:17:19.900025Z",
     "iopub.status.busy": "2024-07-03T23:17:19.899883Z",
     "iopub.status.idle": "2024-07-03T23:17:19.904916Z",
     "shell.execute_reply": "2024-07-03T23:17:19.904610Z"
    },
    "papermill": {
     "duration": 0.007467,
     "end_time": "2024-07-03T23:17:19.905860",
     "exception": false,
     "start_time": "2024-07-03T23:17:19.898393",
     "status": "completed"
    },
    "tags": []
   },
   "outputs": [],
   "source": [
    "trainset, testset = train_test_split(dataset, test_size=0.2, stratify=dataset['class'], random_state=42)"
   ]
  },
  {
   "cell_type": "code",
   "execution_count": 5,
   "id": "a9b8b47d-48c6-4e94-a378-574904e308ee",
   "metadata": {
    "execution": {
     "iopub.execute_input": "2024-07-03T23:17:19.908355Z",
     "iopub.status.busy": "2024-07-03T23:17:19.908217Z",
     "iopub.status.idle": "2024-07-03T23:17:19.914010Z",
     "shell.execute_reply": "2024-07-03T23:17:19.913760Z"
    },
    "papermill": {
     "duration": 0.008108,
     "end_time": "2024-07-03T23:17:19.914975",
     "exception": false,
     "start_time": "2024-07-03T23:17:19.906867",
     "status": "completed"
    },
    "tags": []
   },
   "outputs": [
    {
     "name": "stderr",
     "output_type": "stream",
     "text": [
      "/var/folders/w8/b_cflrn97k9c15rcrn5t8mmr0000gn/T/ipykernel_2736/3395039238.py:2: FutureWarning: Setting an item of incompatible dtype is deprecated and will raise in a future error of pandas. Value 'WOX' has dtype incompatible with int64, please explicitly cast to a compatible dtype first.\n",
      "  testset_positive.loc[:, 'class'] = gene_familly\n"
     ]
    },
    {
     "data": {
      "text/html": [
       "<div>\n",
       "<style scoped>\n",
       "    .dataframe tbody tr th:only-of-type {\n",
       "        vertical-align: middle;\n",
       "    }\n",
       "\n",
       "    .dataframe tbody tr th {\n",
       "        vertical-align: top;\n",
       "    }\n",
       "\n",
       "    .dataframe thead th {\n",
       "        text-align: right;\n",
       "    }\n",
       "</style>\n",
       "<table border=\"1\" class=\"dataframe\">\n",
       "  <thead>\n",
       "    <tr style=\"text-align: right;\">\n",
       "      <th></th>\n",
       "      <th>id</th>\n",
       "      <th>sequence</th>\n",
       "      <th>length</th>\n",
       "      <th>class</th>\n",
       "    </tr>\n",
       "  </thead>\n",
       "  <tbody>\n",
       "    <tr>\n",
       "      <th>703</th>\n",
       "      <td>Eucgr.G03036.1.p</td>\n",
       "      <td>MEEGMSGFYVKAAGLRGGHGGGNGGSGGTKCGRWNPTTEQVKVLTD...</td>\n",
       "      <td>181</td>\n",
       "      <td>WOX</td>\n",
       "    </tr>\n",
       "    <tr>\n",
       "      <th>1486</th>\n",
       "      <td>LOC_Os04g56780.1</td>\n",
       "      <td>MDHMQQQQRQQVGGGGGEEVAGRGGVPVCRPSGTRWTPTTEQIKIL...</td>\n",
       "      <td>290</td>\n",
       "      <td>WOX</td>\n",
       "    </tr>\n",
       "    <tr>\n",
       "      <th>562</th>\n",
       "      <td>Ciclev10033868m</td>\n",
       "      <td>MDERISGFYVKAGHVRAGNGNDNSDTGTKCGRWNPTSEQVKVLTDL...</td>\n",
       "      <td>182</td>\n",
       "      <td>WOX</td>\n",
       "    </tr>\n",
       "    <tr>\n",
       "      <th>136</th>\n",
       "      <td>KFK40169.1</td>\n",
       "      <td>MEPPQHHHHHHQADQESGNNNNKSGSGGYTCRQTSTRWTPTTEQIR...</td>\n",
       "      <td>296</td>\n",
       "      <td>WOX</td>\n",
       "    </tr>\n",
       "    <tr>\n",
       "      <th>1972</th>\n",
       "      <td>676738204</td>\n",
       "      <td>MSPGGFSIKGRGLGNNNNGGGGTGTKCGRWNPTSEQVKLLTDLFKA...</td>\n",
       "      <td>205</td>\n",
       "      <td>WOX</td>\n",
       "    </tr>\n",
       "    <tr>\n",
       "      <th>...</th>\n",
       "      <td>...</td>\n",
       "      <td>...</td>\n",
       "      <td>...</td>\n",
       "      <td>...</td>\n",
       "    </tr>\n",
       "    <tr>\n",
       "      <th>1105</th>\n",
       "      <td>Lj2g3v0661590.1</td>\n",
       "      <td>MWMVGYNESGAEFNMADYPFNGRKLRPLMPRPIHLLASVTEQNKRE...</td>\n",
       "      <td>338</td>\n",
       "      <td>WOX</td>\n",
       "    </tr>\n",
       "    <tr>\n",
       "      <th>699</th>\n",
       "      <td>Eucgr.B02379.1.p</td>\n",
       "      <td>MGGSGGGSPATSRWNPTKEQIGILESLYRQGIRTPTADQIQQITGR...</td>\n",
       "      <td>252</td>\n",
       "      <td>WOX</td>\n",
       "    </tr>\n",
       "    <tr>\n",
       "      <th>147</th>\n",
       "      <td>Aradu.K4U8Y</td>\n",
       "      <td>MEEQGQQHHQDPNRSHSHGAGGSSSSSEKQSSEPVRSRWTPKPEQI...</td>\n",
       "      <td>251</td>\n",
       "      <td>WOX</td>\n",
       "    </tr>\n",
       "    <tr>\n",
       "      <th>377</th>\n",
       "      <td>C.cajan_07944</td>\n",
       "      <td>MELQKQLQRWQQSSTDANGELMYVKVMTDEQLETLRKQIAVYATIC...</td>\n",
       "      <td>275</td>\n",
       "      <td>WOX</td>\n",
       "    </tr>\n",
       "    <tr>\n",
       "      <th>1994</th>\n",
       "      <td>Sme2.5_07207.1_g00002.1</td>\n",
       "      <td>MGTKCGRWNPTAEQVKVLTDLFRAGLRTPTTDQIQKISSQLSFYGN...</td>\n",
       "      <td>162</td>\n",
       "      <td>WOX</td>\n",
       "    </tr>\n",
       "  </tbody>\n",
       "</table>\n",
       "<p>472 rows × 4 columns</p>\n",
       "</div>"
      ],
      "text/plain": [
       "                           id  \\\n",
       "703          Eucgr.G03036.1.p   \n",
       "1486         LOC_Os04g56780.1   \n",
       "562           Ciclev10033868m   \n",
       "136                KFK40169.1   \n",
       "1972                676738204   \n",
       "...                       ...   \n",
       "1105          Lj2g3v0661590.1   \n",
       "699          Eucgr.B02379.1.p   \n",
       "147               Aradu.K4U8Y   \n",
       "377             C.cajan_07944   \n",
       "1994  Sme2.5_07207.1_g00002.1   \n",
       "\n",
       "                                               sequence  length class  \n",
       "703   MEEGMSGFYVKAAGLRGGHGGGNGGSGGTKCGRWNPTTEQVKVLTD...     181   WOX  \n",
       "1486  MDHMQQQQRQQVGGGGGEEVAGRGGVPVCRPSGTRWTPTTEQIKIL...     290   WOX  \n",
       "562   MDERISGFYVKAGHVRAGNGNDNSDTGTKCGRWNPTSEQVKVLTDL...     182   WOX  \n",
       "136   MEPPQHHHHHHQADQESGNNNNKSGSGGYTCRQTSTRWTPTTEQIR...     296   WOX  \n",
       "1972  MSPGGFSIKGRGLGNNNNGGGGTGTKCGRWNPTSEQVKLLTDLFKA...     205   WOX  \n",
       "...                                                 ...     ...   ...  \n",
       "1105  MWMVGYNESGAEFNMADYPFNGRKLRPLMPRPIHLLASVTEQNKRE...     338   WOX  \n",
       "699   MGGSGGGSPATSRWNPTKEQIGILESLYRQGIRTPTADQIQQITGR...     252   WOX  \n",
       "147   MEEQGQQHHQDPNRSHSHGAGGSSSSSEKQSSEPVRSRWTPKPEQI...     251   WOX  \n",
       "377   MELQKQLQRWQQSSTDANGELMYVKVMTDEQLETLRKQIAVYATIC...     275   WOX  \n",
       "1994  MGTKCGRWNPTAEQVKVLTDLFRAGLRTPTTDQIQKISSQLSFYGN...     162   WOX  \n",
       "\n",
       "[472 rows x 4 columns]"
      ]
     },
     "execution_count": 5,
     "metadata": {},
     "output_type": "execute_result"
    }
   ],
   "source": [
    "testset_positive = testset[testset['class'] == 1]\n",
    "testset_positive.loc[:, 'class'] = gene_familly\n",
    "testset_positive"
   ]
  },
  {
   "cell_type": "code",
   "execution_count": 6,
   "id": "25a9ad39-47e0-4b0a-9669-c9ed5c6cafa3",
   "metadata": {
    "execution": {
     "iopub.execute_input": "2024-07-03T23:17:19.917977Z",
     "iopub.status.busy": "2024-07-03T23:17:19.917860Z",
     "iopub.status.idle": "2024-07-03T23:17:19.923513Z",
     "shell.execute_reply": "2024-07-03T23:17:19.923226Z"
    },
    "papermill": {
     "duration": 0.008098,
     "end_time": "2024-07-03T23:17:19.924380",
     "exception": false,
     "start_time": "2024-07-03T23:17:19.916282",
     "status": "completed"
    },
    "tags": []
   },
   "outputs": [],
   "source": [
    "testset_positive.to_csv(\"../data/testset/\"+gene_dict['file_code']+\".csv\")"
   ]
  },
  {
   "cell_type": "code",
   "execution_count": null,
   "id": "4107c4c5-3c5d-44f9-af27-5b81b6d102e5",
   "metadata": {
    "papermill": {
     "duration": 0.001229,
     "end_time": "2024-07-03T23:17:19.926771",
     "exception": false,
     "start_time": "2024-07-03T23:17:19.925542",
     "status": "completed"
    },
    "tags": []
   },
   "outputs": [],
   "source": []
  }
 ],
 "metadata": {
  "kernelspec": {
   "display_name": "Python 3 (ipykernel)",
   "language": "python",
   "name": "python3"
  },
  "language_info": {
   "codemirror_mode": {
    "name": "ipython",
    "version": 3
   },
   "file_extension": ".py",
   "mimetype": "text/x-python",
   "name": "python",
   "nbconvert_exporter": "python",
   "pygments_lexer": "ipython3",
   "version": "3.11.7"
  },
  "papermill": {
   "default_parameters": {},
   "duration": 1.647969,
   "end_time": "2024-07-03T23:17:20.245856",
   "environment_variables": {},
   "exception": null,
   "input_path": "05-extract_testset.ipynb",
   "output_path": "AutoSave/TestGen/05-extract_testset-WOX.ipynb",
   "parameters": {
    "gene_familly": "WOX"
   },
   "start_time": "2024-07-03T23:17:18.597887",
   "version": "2.6.0"
  }
 },
 "nbformat": 4,
 "nbformat_minor": 5
}