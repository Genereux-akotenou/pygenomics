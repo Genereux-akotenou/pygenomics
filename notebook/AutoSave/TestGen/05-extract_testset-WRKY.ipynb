{
 "cells": [
  {
   "cell_type": "code",
   "execution_count": 1,
   "id": "37164a2b",
   "metadata": {
    "execution": {
     "iopub.execute_input": "2024-07-03T23:17:20.829553Z",
     "iopub.status.busy": "2024-07-03T23:17:20.828956Z",
     "iopub.status.idle": "2024-07-03T23:17:20.839874Z",
     "shell.execute_reply": "2024-07-03T23:17:20.839188Z"
    },
    "papermill": {
     "duration": 0.022787,
     "end_time": "2024-07-03T23:17:20.841776",
     "exception": false,
     "start_time": "2024-07-03T23:17:20.818989",
     "status": "completed"
    },
    "tags": [
     "injected-parameters"
    ]
   },
   "outputs": [],
   "source": [
    "# Parameters\n",
    "gene_familly = \"WRKY\"\n"
   ]
  },
  {
   "cell_type": "code",
   "execution_count": 2,
   "id": "e7cdbe25-11a6-48da-abd4-9ae5eee27bfe",
   "metadata": {
    "execution": {
     "iopub.execute_input": "2024-07-03T23:17:20.848067Z",
     "iopub.status.busy": "2024-07-03T23:17:20.847853Z",
     "iopub.status.idle": "2024-07-03T23:17:21.519066Z",
     "shell.execute_reply": "2024-07-03T23:17:21.518570Z"
    },
    "papermill": {
     "duration": 0.67572,
     "end_time": "2024-07-03T23:17:21.520669",
     "exception": false,
     "start_time": "2024-07-03T23:17:20.844949",
     "status": "completed"
    },
    "tags": []
   },
   "outputs": [],
   "source": [
    "import json\n",
    "import pandas as pd\n",
    "from sklearn.model_selection import train_test_split"
   ]
  },
  {
   "cell_type": "code",
   "execution_count": 3,
   "id": "6e20f340-8cbc-46f2-be83-6f1c4523930a",
   "metadata": {
    "execution": {
     "iopub.execute_input": "2024-07-03T23:17:21.524099Z",
     "iopub.status.busy": "2024-07-03T23:17:21.523848Z",
     "iopub.status.idle": "2024-07-03T23:17:21.660077Z",
     "shell.execute_reply": "2024-07-03T23:17:21.659685Z"
    },
    "papermill": {
     "duration": 0.139176,
     "end_time": "2024-07-03T23:17:21.661351",
     "exception": false,
     "start_time": "2024-07-03T23:17:21.522175",
     "status": "completed"
    },
    "tags": []
   },
   "outputs": [
    {
     "data": {
      "text/html": [
       "<div>\n",
       "<style scoped>\n",
       "    .dataframe tbody tr th:only-of-type {\n",
       "        vertical-align: middle;\n",
       "    }\n",
       "\n",
       "    .dataframe tbody tr th {\n",
       "        vertical-align: top;\n",
       "    }\n",
       "\n",
       "    .dataframe thead th {\n",
       "        text-align: right;\n",
       "    }\n",
       "</style>\n",
       "<table border=\"1\" class=\"dataframe\">\n",
       "  <thead>\n",
       "    <tr style=\"text-align: right;\">\n",
       "      <th></th>\n",
       "      <th>id</th>\n",
       "      <th>sequence</th>\n",
       "      <th>length</th>\n",
       "      <th>class</th>\n",
       "    </tr>\n",
       "  </thead>\n",
       "  <tbody>\n",
       "    <tr>\n",
       "      <th>0</th>\n",
       "      <td>Achn000371</td>\n",
       "      <td>MWGLEEKYEKTELIKQEWKDSPTSNNPIEILLPSKQISRSDHQDHI...</td>\n",
       "      <td>265</td>\n",
       "      <td>1</td>\n",
       "    </tr>\n",
       "    <tr>\n",
       "      <th>1</th>\n",
       "      <td>Achn005621</td>\n",
       "      <td>MLRRPTGLVVRCSYFLMSIDHYFAGTGDADLEAVVRGYNHPQTCFS...</td>\n",
       "      <td>289</td>\n",
       "      <td>1</td>\n",
       "    </tr>\n",
       "    <tr>\n",
       "      <th>2</th>\n",
       "      <td>Achn005631</td>\n",
       "      <td>MGEELPPNTNTNNNVPYLFTPSLPSTPLLNLPLEPQIDHLDIDWAS...</td>\n",
       "      <td>151</td>\n",
       "      <td>1</td>\n",
       "    </tr>\n",
       "    <tr>\n",
       "      <th>3</th>\n",
       "      <td>Achn010691</td>\n",
       "      <td>MDESKQRIEALEEEAENMMDDGEGGEDEESDEIDDDDDGEGEVGEE...</td>\n",
       "      <td>374</td>\n",
       "      <td>1</td>\n",
       "    </tr>\n",
       "    <tr>\n",
       "      <th>4</th>\n",
       "      <td>Achn010701</td>\n",
       "      <td>MVPNVTRNYYRCTSAGCPVRKHIERAVDNTSALIITYKGIHDHDMP...</td>\n",
       "      <td>126</td>\n",
       "      <td>1</td>\n",
       "    </tr>\n",
       "  </tbody>\n",
       "</table>\n",
       "</div>"
      ],
      "text/plain": [
       "           id                                           sequence  length  \\\n",
       "0  Achn000371  MWGLEEKYEKTELIKQEWKDSPTSNNPIEILLPSKQISRSDHQDHI...     265   \n",
       "1  Achn005621  MLRRPTGLVVRCSYFLMSIDHYFAGTGDADLEAVVRGYNHPQTCFS...     289   \n",
       "2  Achn005631  MGEELPPNTNTNNNVPYLFTPSLPSTPLLNLPLEPQIDHLDIDWAS...     151   \n",
       "3  Achn010691  MDESKQRIEALEEEAENMMDDGEGGEDEESDEIDDDDDGEGEVGEE...     374   \n",
       "4  Achn010701  MVPNVTRNYYRCTSAGCPVRKHIERAVDNTSALIITYKGIHDHDMP...     126   \n",
       "\n",
       "   class  \n",
       "0      1  \n",
       "1      1  \n",
       "2      1  \n",
       "3      1  \n",
       "4      1  "
      ]
     },
     "execution_count": 3,
     "metadata": {},
     "output_type": "execute_result"
    }
   ],
   "source": [
    "# READ GENE_INFO JSON FILE\n",
    "gene_info_path = \"../data/gene_info.json\"\n",
    "dataset_path   = \"../data/one_vs_other/\"\n",
    "with open(gene_info_path, 'r') as json_file:\n",
    "    gene_info = json.load(json_file)\n",
    "\n",
    "# FOCUS ON GENE FAMILLY\n",
    "gene_dict = gene_info[gene_familly]\n",
    "df_path = dataset_path+gene_dict['file_code']+\".csv\"\n",
    "\n",
    "# LOAD WHOLE DATASET\n",
    "USE_FULL_DF = True\n",
    "if USE_FULL_DF:\n",
    "    dataset = pd.read_csv(df_path)\n",
    "else:\n",
    "    dataset_ = pd.read_csv(df_path)\n",
    "    r = min(5000/len(dataset_), 1)\n",
    "    _, dataset = train_test_split(dataset_, test_size=r, stratify=dataset_['class'], random_state=42)\n",
    "dataset.head()"
   ]
  },
  {
   "cell_type": "code",
   "execution_count": 4,
   "id": "745dff8f-540b-4299-a3f0-dabda69bd837",
   "metadata": {
    "execution": {
     "iopub.execute_input": "2024-07-03T23:17:21.664818Z",
     "iopub.status.busy": "2024-07-03T23:17:21.664555Z",
     "iopub.status.idle": "2024-07-03T23:17:21.674691Z",
     "shell.execute_reply": "2024-07-03T23:17:21.674332Z"
    },
    "papermill": {
     "duration": 0.012838,
     "end_time": "2024-07-03T23:17:21.675759",
     "exception": false,
     "start_time": "2024-07-03T23:17:21.662921",
     "status": "completed"
    },
    "tags": []
   },
   "outputs": [],
   "source": [
    "trainset, testset = train_test_split(dataset, test_size=0.2, stratify=dataset['class'], random_state=42)"
   ]
  },
  {
   "cell_type": "code",
   "execution_count": 5,
   "id": "a9b8b47d-48c6-4e94-a378-574904e308ee",
   "metadata": {
    "execution": {
     "iopub.execute_input": "2024-07-03T23:17:21.678566Z",
     "iopub.status.busy": "2024-07-03T23:17:21.678420Z",
     "iopub.status.idle": "2024-07-03T23:17:21.684900Z",
     "shell.execute_reply": "2024-07-03T23:17:21.684634Z"
    },
    "papermill": {
     "duration": 0.008892,
     "end_time": "2024-07-03T23:17:21.685791",
     "exception": false,
     "start_time": "2024-07-03T23:17:21.676899",
     "status": "completed"
    },
    "tags": []
   },
   "outputs": [
    {
     "name": "stderr",
     "output_type": "stream",
     "text": [
      "/var/folders/w8/b_cflrn97k9c15rcrn5t8mmr0000gn/T/ipykernel_2742/3395039238.py:2: FutureWarning: Setting an item of incompatible dtype is deprecated and will raise in a future error of pandas. Value 'WRKY' has dtype incompatible with int64, please explicitly cast to a compatible dtype first.\n",
      "  testset_positive.loc[:, 'class'] = gene_familly\n"
     ]
    },
    {
     "data": {
      "text/html": [
       "<div>\n",
       "<style scoped>\n",
       "    .dataframe tbody tr th:only-of-type {\n",
       "        vertical-align: middle;\n",
       "    }\n",
       "\n",
       "    .dataframe tbody tr th {\n",
       "        vertical-align: top;\n",
       "    }\n",
       "\n",
       "    .dataframe thead th {\n",
       "        text-align: right;\n",
       "    }\n",
       "</style>\n",
       "<table border=\"1\" class=\"dataframe\">\n",
       "  <thead>\n",
       "    <tr style=\"text-align: right;\">\n",
       "      <th></th>\n",
       "      <th>id</th>\n",
       "      <th>sequence</th>\n",
       "      <th>length</th>\n",
       "      <th>class</th>\n",
       "    </tr>\n",
       "  </thead>\n",
       "  <tbody>\n",
       "    <tr>\n",
       "      <th>7150</th>\n",
       "      <td>GSMUA_AchrUn_randomP13180_001</td>\n",
       "      <td>MTEEGDGSATPQEDKPRGGDDDGGTPPSPSSERPPPADLGSDATAV...</td>\n",
       "      <td>458</td>\n",
       "      <td>WRKY</td>\n",
       "    </tr>\n",
       "    <tr>\n",
       "      <th>13863</th>\n",
       "      <td>XP_015881045.1</td>\n",
       "      <td>MVPEGETVTDEVASDKSQRRENSINETHTSQETPSSRVSSLPPNEE...</td>\n",
       "      <td>501</td>\n",
       "      <td>WRKY</td>\n",
       "    </tr>\n",
       "    <tr>\n",
       "      <th>2721</th>\n",
       "      <td>augustus_masked-scaffold01416-abinit-gene-0.6-...</td>\n",
       "      <td>MENGWSWEQKTVISELIQGMELAKQLRVQFSDTSSSPETTDMLLQR...</td>\n",
       "      <td>357</td>\n",
       "      <td>WRKY</td>\n",
       "    </tr>\n",
       "    <tr>\n",
       "      <th>7157</th>\n",
       "      <td>NNU_000906-RA</td>\n",
       "      <td>MAEKERASKTAAPPRPTIALPPRSSVESLFTGGAGASPGPMTLVSN...</td>\n",
       "      <td>538</td>\n",
       "      <td>WRKY</td>\n",
       "    </tr>\n",
       "    <tr>\n",
       "      <th>3260</th>\n",
       "      <td>MELO3C007157P1</td>\n",
       "      <td>MSDEMFKDLFYGGMDEYESIVRAFGITSDYSNNNNEISGTTAMNSS...</td>\n",
       "      <td>263</td>\n",
       "      <td>WRKY</td>\n",
       "    </tr>\n",
       "    <tr>\n",
       "      <th>...</th>\n",
       "      <td>...</td>\n",
       "      <td>...</td>\n",
       "      <td>...</td>\n",
       "      <td>...</td>\n",
       "    </tr>\n",
       "    <tr>\n",
       "      <th>9552</th>\n",
       "      <td>Peaxi162Scf00102g01633.1</td>\n",
       "      <td>MSQLCAGLESDNWCLQAVVRGSSTSNFQQDFDPKSCFSLLDMSTID...</td>\n",
       "      <td>294</td>\n",
       "      <td>WRKY</td>\n",
       "    </tr>\n",
       "    <tr>\n",
       "      <th>6652</th>\n",
       "      <td>Manes.09G112700.1.p</td>\n",
       "      <td>MASSSSSSSSSSGLNTYINSQPTFSFSTHLLMSSSSSSSFTNLLST...</td>\n",
       "      <td>580</td>\n",
       "      <td>WRKY</td>\n",
       "    </tr>\n",
       "    <tr>\n",
       "      <th>2824</th>\n",
       "      <td>cra_locus_2271_iso_1</td>\n",
       "      <td>NQVLSFLAPSSSQNPAETTTTATAANNNGSLGFNNHSHELLNTTRP...</td>\n",
       "      <td>157</td>\n",
       "      <td>WRKY</td>\n",
       "    </tr>\n",
       "    <tr>\n",
       "      <th>13629</th>\n",
       "      <td>GSVIVT01025491001</td>\n",
       "      <td>MQTNQQPHFTLPSLFLSLSVAEKPKDTFLLSFSFLSFPGRWAGESF...</td>\n",
       "      <td>122</td>\n",
       "      <td>WRKY</td>\n",
       "    </tr>\n",
       "    <tr>\n",
       "      <th>7873</th>\n",
       "      <td>Ote100263640051</td>\n",
       "      <td>MSEPPNFGFDEFLVGDSNSVAYAVYLFAFCGAVGWIAALAGTVRKV...</td>\n",
       "      <td>628</td>\n",
       "      <td>WRKY</td>\n",
       "    </tr>\n",
       "  </tbody>\n",
       "</table>\n",
       "<p>2910 rows × 4 columns</p>\n",
       "</div>"
      ],
      "text/plain": [
       "                                                      id  \\\n",
       "7150                       GSMUA_AchrUn_randomP13180_001   \n",
       "13863                                     XP_015881045.1   \n",
       "2721   augustus_masked-scaffold01416-abinit-gene-0.6-...   \n",
       "7157                                       NNU_000906-RA   \n",
       "3260                                      MELO3C007157P1   \n",
       "...                                                  ...   \n",
       "9552                            Peaxi162Scf00102g01633.1   \n",
       "6652                                 Manes.09G112700.1.p   \n",
       "2824                                cra_locus_2271_iso_1   \n",
       "13629                                  GSVIVT01025491001   \n",
       "7873                                     Ote100263640051   \n",
       "\n",
       "                                                sequence  length class  \n",
       "7150   MTEEGDGSATPQEDKPRGGDDDGGTPPSPSSERPPPADLGSDATAV...     458  WRKY  \n",
       "13863  MVPEGETVTDEVASDKSQRRENSINETHTSQETPSSRVSSLPPNEE...     501  WRKY  \n",
       "2721   MENGWSWEQKTVISELIQGMELAKQLRVQFSDTSSSPETTDMLLQR...     357  WRKY  \n",
       "7157   MAEKERASKTAAPPRPTIALPPRSSVESLFTGGAGASPGPMTLVSN...     538  WRKY  \n",
       "3260   MSDEMFKDLFYGGMDEYESIVRAFGITSDYSNNNNEISGTTAMNSS...     263  WRKY  \n",
       "...                                                  ...     ...   ...  \n",
       "9552   MSQLCAGLESDNWCLQAVVRGSSTSNFQQDFDPKSCFSLLDMSTID...     294  WRKY  \n",
       "6652   MASSSSSSSSSSGLNTYINSQPTFSFSTHLLMSSSSSSSFTNLLST...     580  WRKY  \n",
       "2824   NQVLSFLAPSSSQNPAETTTTATAANNNGSLGFNNHSHELLNTTRP...     157  WRKY  \n",
       "13629  MQTNQQPHFTLPSLFLSLSVAEKPKDTFLLSFSFLSFPGRWAGESF...     122  WRKY  \n",
       "7873   MSEPPNFGFDEFLVGDSNSVAYAVYLFAFCGAVGWIAALAGTVRKV...     628  WRKY  \n",
       "\n",
       "[2910 rows x 4 columns]"
      ]
     },
     "execution_count": 5,
     "metadata": {},
     "output_type": "execute_result"
    }
   ],
   "source": [
    "testset_positive = testset[testset['class'] == 1]\n",
    "testset_positive.loc[:, 'class'] = gene_familly\n",
    "testset_positive"
   ]
  },
  {
   "cell_type": "code",
   "execution_count": 6,
   "id": "25a9ad39-47e0-4b0a-9669-c9ed5c6cafa3",
   "metadata": {
    "execution": {
     "iopub.execute_input": "2024-07-03T23:17:21.688739Z",
     "iopub.status.busy": "2024-07-03T23:17:21.688621Z",
     "iopub.status.idle": "2024-07-03T23:17:21.712985Z",
     "shell.execute_reply": "2024-07-03T23:17:21.712671Z"
    },
    "papermill": {
     "duration": 0.026971,
     "end_time": "2024-07-03T23:17:21.714016",
     "exception": false,
     "start_time": "2024-07-03T23:17:21.687045",
     "status": "completed"
    },
    "tags": []
   },
   "outputs": [],
   "source": [
    "testset_positive.to_csv(\"../data/testset/\"+gene_dict['file_code']+\".csv\")"
   ]
  },
  {
   "cell_type": "code",
   "execution_count": null,
   "id": "4107c4c5-3c5d-44f9-af27-5b81b6d102e5",
   "metadata": {
    "papermill": {
     "duration": 0.001119,
     "end_time": "2024-07-03T23:17:21.716442",
     "exception": false,
     "start_time": "2024-07-03T23:17:21.715323",
     "status": "completed"
    },
    "tags": []
   },
   "outputs": [],
   "source": []
  }
 ],
 "metadata": {
  "kernelspec": {
   "display_name": "Python 3 (ipykernel)",
   "language": "python",
   "name": "python3"
  },
  "language_info": {
   "codemirror_mode": {
    "name": "ipython",
    "version": 3
   },
   "file_extension": ".py",
   "mimetype": "text/x-python",
   "name": "python",
   "nbconvert_exporter": "python",
   "pygments_lexer": "ipython3",
   "version": "3.11.7"
  },
  "papermill": {
   "default_parameters": {},
   "duration": 1.784777,
   "end_time": "2024-07-03T23:17:22.035610",
   "environment_variables": {},
   "exception": null,
   "input_path": "05-extract_testset.ipynb",
   "output_path": "AutoSave/TestGen/05-extract_testset-WRKY.ipynb",
   "parameters": {
    "gene_familly": "WRKY"
   },
   "start_time": "2024-07-03T23:17:20.250833",
   "version": "2.6.0"
  }
 },
 "nbformat": 4,
 "nbformat_minor": 5
}