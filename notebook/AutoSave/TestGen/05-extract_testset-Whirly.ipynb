{
 "cells": [
  {
   "cell_type": "code",
   "execution_count": 1,
   "id": "28a2bcb2",
   "metadata": {
    "execution": {
     "iopub.execute_input": "2024-07-03T23:17:22.635003Z",
     "iopub.status.busy": "2024-07-03T23:17:22.634240Z",
     "iopub.status.idle": "2024-07-03T23:17:22.645037Z",
     "shell.execute_reply": "2024-07-03T23:17:22.644367Z"
    },
    "papermill": {
     "duration": 0.023734,
     "end_time": "2024-07-03T23:17:22.646698",
     "exception": false,
     "start_time": "2024-07-03T23:17:22.622964",
     "status": "completed"
    },
    "tags": [
     "injected-parameters"
    ]
   },
   "outputs": [],
   "source": [
    "# Parameters\n",
    "gene_familly = \"Whirly\"\n"
   ]
  },
  {
   "cell_type": "code",
   "execution_count": 2,
   "id": "e7cdbe25-11a6-48da-abd4-9ae5eee27bfe",
   "metadata": {
    "execution": {
     "iopub.execute_input": "2024-07-03T23:17:22.652066Z",
     "iopub.status.busy": "2024-07-03T23:17:22.651819Z",
     "iopub.status.idle": "2024-07-03T23:17:23.334018Z",
     "shell.execute_reply": "2024-07-03T23:17:23.333536Z"
    },
    "papermill": {
     "duration": 0.686681,
     "end_time": "2024-07-03T23:17:23.335605",
     "exception": false,
     "start_time": "2024-07-03T23:17:22.648924",
     "status": "completed"
    },
    "tags": []
   },
   "outputs": [],
   "source": [
    "import json\n",
    "import pandas as pd\n",
    "from sklearn.model_selection import train_test_split"
   ]
  },
  {
   "cell_type": "code",
   "execution_count": 3,
   "id": "6e20f340-8cbc-46f2-be83-6f1c4523930a",
   "metadata": {
    "execution": {
     "iopub.execute_input": "2024-07-03T23:17:23.339221Z",
     "iopub.status.busy": "2024-07-03T23:17:23.338971Z",
     "iopub.status.idle": "2024-07-03T23:17:23.354542Z",
     "shell.execute_reply": "2024-07-03T23:17:23.354112Z"
    },
    "papermill": {
     "duration": 0.018465,
     "end_time": "2024-07-03T23:17:23.355747",
     "exception": false,
     "start_time": "2024-07-03T23:17:23.337282",
     "status": "completed"
    },
    "tags": []
   },
   "outputs": [
    {
     "data": {
      "text/html": [
       "<div>\n",
       "<style scoped>\n",
       "    .dataframe tbody tr th:only-of-type {\n",
       "        vertical-align: middle;\n",
       "    }\n",
       "\n",
       "    .dataframe tbody tr th {\n",
       "        vertical-align: top;\n",
       "    }\n",
       "\n",
       "    .dataframe thead th {\n",
       "        text-align: right;\n",
       "    }\n",
       "</style>\n",
       "<table border=\"1\" class=\"dataframe\">\n",
       "  <thead>\n",
       "    <tr style=\"text-align: right;\">\n",
       "      <th></th>\n",
       "      <th>id</th>\n",
       "      <th>sequence</th>\n",
       "      <th>length</th>\n",
       "      <th>class</th>\n",
       "    </tr>\n",
       "  </thead>\n",
       "  <tbody>\n",
       "    <tr>\n",
       "      <th>0</th>\n",
       "      <td>Achn088511</td>\n",
       "      <td>MSLGPRESCEFFHDPFKGKSEEGKVRKVLKVEPLPDGTGHFFNLSW...</td>\n",
       "      <td>276</td>\n",
       "      <td>1</td>\n",
       "    </tr>\n",
       "    <tr>\n",
       "      <th>1</th>\n",
       "      <td>Achn144601</td>\n",
       "      <td>MRERDAWVSLGGGEIESSFEEEDIGEGLGIQNPNRWSIIHSPSSLN...</td>\n",
       "      <td>341</td>\n",
       "      <td>1</td>\n",
       "    </tr>\n",
       "    <tr>\n",
       "      <th>2</th>\n",
       "      <td>Achn183721</td>\n",
       "      <td>MLNLFLSSSPPGLTIPNPKPFCVLHSFSSLDAIAAIRLKPTPSSLS...</td>\n",
       "      <td>649</td>\n",
       "      <td>1</td>\n",
       "    </tr>\n",
       "    <tr>\n",
       "      <th>3</th>\n",
       "      <td>EMT14910</td>\n",
       "      <td>MGFSIDGPGRGLGFLPRALLGPAYGQSGAYKVAKEGFVLLQFAPAV...</td>\n",
       "      <td>219</td>\n",
       "      <td>1</td>\n",
       "    </tr>\n",
       "    <tr>\n",
       "      <th>4</th>\n",
       "      <td>EMT15491</td>\n",
       "      <td>MLRLSRFLPSTSRGVTDLKDVLWSGSLTFKHALSTSAANVDARYML...</td>\n",
       "      <td>352</td>\n",
       "      <td>1</td>\n",
       "    </tr>\n",
       "  </tbody>\n",
       "</table>\n",
       "</div>"
      ],
      "text/plain": [
       "           id                                           sequence  length  \\\n",
       "0  Achn088511  MSLGPRESCEFFHDPFKGKSEEGKVRKVLKVEPLPDGTGHFFNLSW...     276   \n",
       "1  Achn144601  MRERDAWVSLGGGEIESSFEEEDIGEGLGIQNPNRWSIIHSPSSLN...     341   \n",
       "2  Achn183721  MLNLFLSSSPPGLTIPNPKPFCVLHSFSSLDAIAAIRLKPTPSSLS...     649   \n",
       "3    EMT14910  MGFSIDGPGRGLGFLPRALLGPAYGQSGAYKVAKEGFVLLQFAPAV...     219   \n",
       "4    EMT15491  MLRLSRFLPSTSRGVTDLKDVLWSGSLTFKHALSTSAANVDARYML...     352   \n",
       "\n",
       "   class  \n",
       "0      1  \n",
       "1      1  \n",
       "2      1  \n",
       "3      1  \n",
       "4      1  "
      ]
     },
     "execution_count": 3,
     "metadata": {},
     "output_type": "execute_result"
    }
   ],
   "source": [
    "# READ GENE_INFO JSON FILE\n",
    "gene_info_path = \"../data/gene_info.json\"\n",
    "dataset_path   = \"../data/one_vs_other/\"\n",
    "with open(gene_info_path, 'r') as json_file:\n",
    "    gene_info = json.load(json_file)\n",
    "\n",
    "# FOCUS ON GENE FAMILLY\n",
    "gene_dict = gene_info[gene_familly]\n",
    "df_path = dataset_path+gene_dict['file_code']+\".csv\"\n",
    "\n",
    "# LOAD WHOLE DATASET\n",
    "USE_FULL_DF = True\n",
    "if USE_FULL_DF:\n",
    "    dataset = pd.read_csv(df_path)\n",
    "else:\n",
    "    dataset_ = pd.read_csv(df_path)\n",
    "    r = min(5000/len(dataset_), 1)\n",
    "    _, dataset = train_test_split(dataset_, test_size=r, stratify=dataset_['class'], random_state=42)\n",
    "dataset.head()"
   ]
  },
  {
   "cell_type": "code",
   "execution_count": 4,
   "id": "745dff8f-540b-4299-a3f0-dabda69bd837",
   "metadata": {
    "execution": {
     "iopub.execute_input": "2024-07-03T23:17:23.358738Z",
     "iopub.status.busy": "2024-07-03T23:17:23.358575Z",
     "iopub.status.idle": "2024-07-03T23:17:23.362760Z",
     "shell.execute_reply": "2024-07-03T23:17:23.362458Z"
    },
    "papermill": {
     "duration": 0.006813,
     "end_time": "2024-07-03T23:17:23.363728",
     "exception": false,
     "start_time": "2024-07-03T23:17:23.356915",
     "status": "completed"
    },
    "tags": []
   },
   "outputs": [],
   "source": [
    "trainset, testset = train_test_split(dataset, test_size=0.2, stratify=dataset['class'], random_state=42)"
   ]
  },
  {
   "cell_type": "code",
   "execution_count": 5,
   "id": "a9b8b47d-48c6-4e94-a378-574904e308ee",
   "metadata": {
    "execution": {
     "iopub.execute_input": "2024-07-03T23:17:23.366264Z",
     "iopub.status.busy": "2024-07-03T23:17:23.366152Z",
     "iopub.status.idle": "2024-07-03T23:17:23.371868Z",
     "shell.execute_reply": "2024-07-03T23:17:23.371621Z"
    },
    "papermill": {
     "duration": 0.007947,
     "end_time": "2024-07-03T23:17:23.372777",
     "exception": false,
     "start_time": "2024-07-03T23:17:23.364830",
     "status": "completed"
    },
    "tags": []
   },
   "outputs": [
    {
     "name": "stderr",
     "output_type": "stream",
     "text": [
      "/var/folders/w8/b_cflrn97k9c15rcrn5t8mmr0000gn/T/ipykernel_2748/3395039238.py:2: FutureWarning: Setting an item of incompatible dtype is deprecated and will raise in a future error of pandas. Value 'Whirly' has dtype incompatible with int64, please explicitly cast to a compatible dtype first.\n",
      "  testset_positive.loc[:, 'class'] = gene_familly\n"
     ]
    },
    {
     "data": {
      "text/html": [
       "<div>\n",
       "<style scoped>\n",
       "    .dataframe tbody tr th:only-of-type {\n",
       "        vertical-align: middle;\n",
       "    }\n",
       "\n",
       "    .dataframe tbody tr th {\n",
       "        vertical-align: top;\n",
       "    }\n",
       "\n",
       "    .dataframe thead th {\n",
       "        text-align: right;\n",
       "    }\n",
       "</style>\n",
       "<table border=\"1\" class=\"dataframe\">\n",
       "  <thead>\n",
       "    <tr style=\"text-align: right;\">\n",
       "      <th></th>\n",
       "      <th>id</th>\n",
       "      <th>sequence</th>\n",
       "      <th>length</th>\n",
       "      <th>class</th>\n",
       "    </tr>\n",
       "  </thead>\n",
       "  <tbody>\n",
       "    <tr>\n",
       "      <th>492</th>\n",
       "      <td>Traes_6DS_1FC471B7F.1</td>\n",
       "      <td>FFVVISFCSFLTSCNGCTNKFFFVLFRGVTDLKDVLWSGSLTFKHA...</td>\n",
       "      <td>245</td>\n",
       "      <td>Whirly</td>\n",
       "    </tr>\n",
       "    <tr>\n",
       "      <th>498</th>\n",
       "      <td>678443297</td>\n",
       "      <td>MLTPSLSANPTGRAWFLNSGLSSNIPAAPSVIFLPGRKGEACAITP...</td>\n",
       "      <td>312</td>\n",
       "      <td>Whirly</td>\n",
       "    </tr>\n",
       "    <tr>\n",
       "      <th>360</th>\n",
       "      <td>OPUNC02G03720.1</td>\n",
       "      <td>MRVAFPTQAACSLLLSSLPFHSLGSVGKRNGGKEKATRCSASPASF...</td>\n",
       "      <td>317</td>\n",
       "      <td>Whirly</td>\n",
       "    </tr>\n",
       "    <tr>\n",
       "      <th>182</th>\n",
       "      <td>Eucgr.K01091.5.p</td>\n",
       "      <td>MSNVLMEFAGGTINRIFAPYCVYKGKAALSLSPVLPTFSKLESGAG...</td>\n",
       "      <td>199</td>\n",
       "      <td>Whirly</td>\n",
       "    </tr>\n",
       "    <tr>\n",
       "      <th>284</th>\n",
       "      <td>Mapoly0007s0156.1.p</td>\n",
       "      <td>MALHSLCNSLSLRIASSSRKWIGDAKSLRKSSQSVAIKPSRLQARA...</td>\n",
       "      <td>254</td>\n",
       "      <td>Whirly</td>\n",
       "    </tr>\n",
       "    <tr>\n",
       "      <th>...</th>\n",
       "      <td>...</td>\n",
       "      <td>...</td>\n",
       "      <td>...</td>\n",
       "      <td>...</td>\n",
       "    </tr>\n",
       "    <tr>\n",
       "      <th>220</th>\n",
       "      <td>Gh_A13G2145</td>\n",
       "      <td>MLQLQLLSSPPLTPQTVNLNSISNPKLFPSFSSLNSSQTRSFKFNP...</td>\n",
       "      <td>232</td>\n",
       "      <td>Whirly</td>\n",
       "    </tr>\n",
       "    <tr>\n",
       "      <th>499</th>\n",
       "      <td>678459090</td>\n",
       "      <td>MLSPALSANPGVKPWFLKSGLSSNTLAAPCVTVFPRRREGEASSIT...</td>\n",
       "      <td>268</td>\n",
       "      <td>Whirly</td>\n",
       "    </tr>\n",
       "    <tr>\n",
       "      <th>216</th>\n",
       "      <td>KXZ44322.1</td>\n",
       "      <td>MCVQLLQPTWAARPDGSKQLERDGTMLLEFANANPSPAGAPQTAGA...</td>\n",
       "      <td>152</td>\n",
       "      <td>Whirly</td>\n",
       "    </tr>\n",
       "    <tr>\n",
       "      <th>163</th>\n",
       "      <td>XP_010915148.1</td>\n",
       "      <td>MPLRGSSLVSLQNSPSPHPLLPSNSFKNVLSPGTLAPNRKKLSVSC...</td>\n",
       "      <td>235</td>\n",
       "      <td>Whirly</td>\n",
       "    </tr>\n",
       "    <tr>\n",
       "      <th>285</th>\n",
       "      <td>Medtr5g038560.1</td>\n",
       "      <td>MKMLQLQPPQSYTTTNPFSVPTHSFIINTPKKSIFLRRVGPTFSLT...</td>\n",
       "      <td>262</td>\n",
       "      <td>Whirly</td>\n",
       "    </tr>\n",
       "  </tbody>\n",
       "</table>\n",
       "<p>106 rows × 4 columns</p>\n",
       "</div>"
      ],
      "text/plain": [
       "                        id                                           sequence  \\\n",
       "492  Traes_6DS_1FC471B7F.1  FFVVISFCSFLTSCNGCTNKFFFVLFRGVTDLKDVLWSGSLTFKHA...   \n",
       "498              678443297  MLTPSLSANPTGRAWFLNSGLSSNIPAAPSVIFLPGRKGEACAITP...   \n",
       "360        OPUNC02G03720.1  MRVAFPTQAACSLLLSSLPFHSLGSVGKRNGGKEKATRCSASPASF...   \n",
       "182       Eucgr.K01091.5.p  MSNVLMEFAGGTINRIFAPYCVYKGKAALSLSPVLPTFSKLESGAG...   \n",
       "284    Mapoly0007s0156.1.p  MALHSLCNSLSLRIASSSRKWIGDAKSLRKSSQSVAIKPSRLQARA...   \n",
       "..                     ...                                                ...   \n",
       "220            Gh_A13G2145  MLQLQLLSSPPLTPQTVNLNSISNPKLFPSFSSLNSSQTRSFKFNP...   \n",
       "499              678459090  MLSPALSANPGVKPWFLKSGLSSNTLAAPCVTVFPRRREGEASSIT...   \n",
       "216             KXZ44322.1  MCVQLLQPTWAARPDGSKQLERDGTMLLEFANANPSPAGAPQTAGA...   \n",
       "163         XP_010915148.1  MPLRGSSLVSLQNSPSPHPLLPSNSFKNVLSPGTLAPNRKKLSVSC...   \n",
       "285        Medtr5g038560.1  MKMLQLQPPQSYTTTNPFSVPTHSFIINTPKKSIFLRRVGPTFSLT...   \n",
       "\n",
       "     length   class  \n",
       "492     245  Whirly  \n",
       "498     312  Whirly  \n",
       "360     317  Whirly  \n",
       "182     199  Whirly  \n",
       "284     254  Whirly  \n",
       "..      ...     ...  \n",
       "220     232  Whirly  \n",
       "499     268  Whirly  \n",
       "216     152  Whirly  \n",
       "163     235  Whirly  \n",
       "285     262  Whirly  \n",
       "\n",
       "[106 rows x 4 columns]"
      ]
     },
     "execution_count": 5,
     "metadata": {},
     "output_type": "execute_result"
    }
   ],
   "source": [
    "testset_positive = testset[testset['class'] == 1]\n",
    "testset_positive.loc[:, 'class'] = gene_familly\n",
    "testset_positive"
   ]
  },
  {
   "cell_type": "code",
   "execution_count": 6,
   "id": "25a9ad39-47e0-4b0a-9669-c9ed5c6cafa3",
   "metadata": {
    "execution": {
     "iopub.execute_input": "2024-07-03T23:17:23.375692Z",
     "iopub.status.busy": "2024-07-03T23:17:23.375575Z",
     "iopub.status.idle": "2024-07-03T23:17:23.379284Z",
     "shell.execute_reply": "2024-07-03T23:17:23.378985Z"
    },
    "papermill": {
     "duration": 0.00617,
     "end_time": "2024-07-03T23:17:23.380242",
     "exception": false,
     "start_time": "2024-07-03T23:17:23.374072",
     "status": "completed"
    },
    "tags": []
   },
   "outputs": [],
   "source": [
    "testset_positive.to_csv(\"../data/testset/\"+gene_dict['file_code']+\".csv\")"
   ]
  },
  {
   "cell_type": "code",
   "execution_count": null,
   "id": "4107c4c5-3c5d-44f9-af27-5b81b6d102e5",
   "metadata": {
    "papermill": {
     "duration": 0.001231,
     "end_time": "2024-07-03T23:17:23.382710",
     "exception": false,
     "start_time": "2024-07-03T23:17:23.381479",
     "status": "completed"
    },
    "tags": []
   },
   "outputs": [],
   "source": []
  }
 ],
 "metadata": {
  "kernelspec": {
   "display_name": "Python 3 (ipykernel)",
   "language": "python",
   "name": "python3"
  },
  "language_info": {
   "codemirror_mode": {
    "name": "ipython",
    "version": 3
   },
   "file_extension": ".py",
   "mimetype": "text/x-python",
   "name": "python",
   "nbconvert_exporter": "python",
   "pygments_lexer": "ipython3",
   "version": "3.11.7"
  },
  "papermill": {
   "default_parameters": {},
   "duration": 1.661092,
   "end_time": "2024-07-03T23:17:23.701763",
   "environment_variables": {},
   "exception": null,
   "input_path": "05-extract_testset.ipynb",
   "output_path": "AutoSave/TestGen/05-extract_testset-Whirly.ipynb",
   "parameters": {
    "gene_familly": "Whirly"
   },
   "start_time": "2024-07-03T23:17:22.040671",
   "version": "2.6.0"
  }
 },
 "nbformat": 4,
 "nbformat_minor": 5
}