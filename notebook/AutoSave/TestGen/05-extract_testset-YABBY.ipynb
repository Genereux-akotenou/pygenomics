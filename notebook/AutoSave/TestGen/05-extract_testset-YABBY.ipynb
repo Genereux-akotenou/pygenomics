{
 "cells": [
  {
   "cell_type": "code",
   "execution_count": 1,
   "id": "92182878",
   "metadata": {
    "execution": {
     "iopub.execute_input": "2024-07-03T23:17:24.563748Z",
     "iopub.status.busy": "2024-07-03T23:17:24.563056Z",
     "iopub.status.idle": "2024-07-03T23:17:24.574082Z",
     "shell.execute_reply": "2024-07-03T23:17:24.573493Z"
    },
    "papermill": {
     "duration": 0.023245,
     "end_time": "2024-07-03T23:17:24.575784",
     "exception": false,
     "start_time": "2024-07-03T23:17:24.552539",
     "status": "completed"
    },
    "tags": [
     "injected-parameters"
    ]
   },
   "outputs": [],
   "source": [
    "# Parameters\n",
    "gene_familly = \"YABBY\"\n"
   ]
  },
  {
   "cell_type": "code",
   "execution_count": 2,
   "id": "e7cdbe25-11a6-48da-abd4-9ae5eee27bfe",
   "metadata": {
    "execution": {
     "iopub.execute_input": "2024-07-03T23:17:24.583731Z",
     "iopub.status.busy": "2024-07-03T23:17:24.583269Z",
     "iopub.status.idle": "2024-07-03T23:17:25.236510Z",
     "shell.execute_reply": "2024-07-03T23:17:25.236044Z"
    },
    "papermill": {
     "duration": 0.659336,
     "end_time": "2024-07-03T23:17:25.238143",
     "exception": false,
     "start_time": "2024-07-03T23:17:24.578807",
     "status": "completed"
    },
    "tags": []
   },
   "outputs": [],
   "source": [
    "import json\n",
    "import pandas as pd\n",
    "from sklearn.model_selection import train_test_split"
   ]
  },
  {
   "cell_type": "code",
   "execution_count": 3,
   "id": "6e20f340-8cbc-46f2-be83-6f1c4523930a",
   "metadata": {
    "execution": {
     "iopub.execute_input": "2024-07-03T23:17:25.241589Z",
     "iopub.status.busy": "2024-07-03T23:17:25.241339Z",
     "iopub.status.idle": "2024-07-03T23:17:25.265040Z",
     "shell.execute_reply": "2024-07-03T23:17:25.264593Z"
    },
    "papermill": {
     "duration": 0.026816,
     "end_time": "2024-07-03T23:17:25.266444",
     "exception": false,
     "start_time": "2024-07-03T23:17:25.239628",
     "status": "completed"
    },
    "tags": []
   },
   "outputs": [
    {
     "data": {
      "text/html": [
       "<div>\n",
       "<style scoped>\n",
       "    .dataframe tbody tr th:only-of-type {\n",
       "        vertical-align: middle;\n",
       "    }\n",
       "\n",
       "    .dataframe tbody tr th {\n",
       "        vertical-align: top;\n",
       "    }\n",
       "\n",
       "    .dataframe thead th {\n",
       "        text-align: right;\n",
       "    }\n",
       "</style>\n",
       "<table border=\"1\" class=\"dataframe\">\n",
       "  <thead>\n",
       "    <tr style=\"text-align: right;\">\n",
       "      <th></th>\n",
       "      <th>id</th>\n",
       "      <th>sequence</th>\n",
       "      <th>length</th>\n",
       "      <th>class</th>\n",
       "    </tr>\n",
       "  </thead>\n",
       "  <tbody>\n",
       "    <tr>\n",
       "      <th>0</th>\n",
       "      <td>Achn002711</td>\n",
       "      <td>MEIRRSKEVSVPCTSLFKTVTVRCGHCTNLLPVNMRGLLLPSTNQL...</td>\n",
       "      <td>213</td>\n",
       "      <td>1</td>\n",
       "    </tr>\n",
       "    <tr>\n",
       "      <th>1</th>\n",
       "      <td>Achn019201</td>\n",
       "      <td>MRCHVPVDELPMTCHKMVDMRTGQGTCSDGTKHFLVMDCGTTLCLG...</td>\n",
       "      <td>312</td>\n",
       "      <td>1</td>\n",
       "    </tr>\n",
       "    <tr>\n",
       "      <th>2</th>\n",
       "      <td>Achn032281</td>\n",
       "      <td>MRFMIHLQSKQEVSPELEADAEKGLDKRSPSLVISSDDEDDDEVPV...</td>\n",
       "      <td>104</td>\n",
       "      <td>1</td>\n",
       "    </tr>\n",
       "    <tr>\n",
       "      <th>3</th>\n",
       "      <td>Achn088151</td>\n",
       "      <td>MRGLLPPSANQLHLGHAFFSPQNLLEDIQNSSPNLLINHPNPNGLV...</td>\n",
       "      <td>309</td>\n",
       "      <td>1</td>\n",
       "    </tr>\n",
       "    <tr>\n",
       "      <th>4</th>\n",
       "      <td>Achn155211</td>\n",
       "      <td>MDLVPPPEQLCYVRCNFCNTVLAGFVNEIKKGQSSSSSSSTSSEPV...</td>\n",
       "      <td>73</td>\n",
       "      <td>1</td>\n",
       "    </tr>\n",
       "  </tbody>\n",
       "</table>\n",
       "</div>"
      ],
      "text/plain": [
       "           id                                           sequence  length  \\\n",
       "0  Achn002711  MEIRRSKEVSVPCTSLFKTVTVRCGHCTNLLPVNMRGLLLPSTNQL...     213   \n",
       "1  Achn019201  MRCHVPVDELPMTCHKMVDMRTGQGTCSDGTKHFLVMDCGTTLCLG...     312   \n",
       "2  Achn032281  MRFMIHLQSKQEVSPELEADAEKGLDKRSPSLVISSDDEDDDEVPV...     104   \n",
       "3  Achn088151  MRGLLPPSANQLHLGHAFFSPQNLLEDIQNSSPNLLINHPNPNGLV...     309   \n",
       "4  Achn155211  MDLVPPPEQLCYVRCNFCNTVLAGFVNEIKKGQSSSSSSSTSSEPV...      73   \n",
       "\n",
       "   class  \n",
       "0      1  \n",
       "1      1  \n",
       "2      1  \n",
       "3      1  \n",
       "4      1  "
      ]
     },
     "execution_count": 3,
     "metadata": {},
     "output_type": "execute_result"
    }
   ],
   "source": [
    "# READ GENE_INFO JSON FILE\n",
    "gene_info_path = \"../data/gene_info.json\"\n",
    "dataset_path   = \"../data/one_vs_other/\"\n",
    "with open(gene_info_path, 'r') as json_file:\n",
    "    gene_info = json.load(json_file)\n",
    "\n",
    "# FOCUS ON GENE FAMILLY\n",
    "gene_dict = gene_info[gene_familly]\n",
    "df_path = dataset_path+gene_dict['file_code']+\".csv\"\n",
    "\n",
    "# LOAD WHOLE DATASET\n",
    "USE_FULL_DF = True\n",
    "if USE_FULL_DF:\n",
    "    dataset = pd.read_csv(df_path)\n",
    "else:\n",
    "    dataset_ = pd.read_csv(df_path)\n",
    "    r = min(5000/len(dataset_), 1)\n",
    "    _, dataset = train_test_split(dataset_, test_size=r, stratify=dataset_['class'], random_state=42)\n",
    "dataset.head()"
   ]
  },
  {
   "cell_type": "code",
   "execution_count": 4,
   "id": "745dff8f-540b-4299-a3f0-dabda69bd837",
   "metadata": {
    "execution": {
     "iopub.execute_input": "2024-07-03T23:17:25.270044Z",
     "iopub.status.busy": "2024-07-03T23:17:25.269832Z",
     "iopub.status.idle": "2024-07-03T23:17:25.274946Z",
     "shell.execute_reply": "2024-07-03T23:17:25.274600Z"
    },
    "papermill": {
     "duration": 0.00802,
     "end_time": "2024-07-03T23:17:25.276021",
     "exception": false,
     "start_time": "2024-07-03T23:17:25.268001",
     "status": "completed"
    },
    "tags": []
   },
   "outputs": [],
   "source": [
    "trainset, testset = train_test_split(dataset, test_size=0.2, stratify=dataset['class'], random_state=42)"
   ]
  },
  {
   "cell_type": "code",
   "execution_count": 5,
   "id": "a9b8b47d-48c6-4e94-a378-574904e308ee",
   "metadata": {
    "execution": {
     "iopub.execute_input": "2024-07-03T23:17:25.279245Z",
     "iopub.status.busy": "2024-07-03T23:17:25.279095Z",
     "iopub.status.idle": "2024-07-03T23:17:25.285467Z",
     "shell.execute_reply": "2024-07-03T23:17:25.285170Z"
    },
    "papermill": {
     "duration": 0.009003,
     "end_time": "2024-07-03T23:17:25.286477",
     "exception": false,
     "start_time": "2024-07-03T23:17:25.277474",
     "status": "completed"
    },
    "tags": []
   },
   "outputs": [
    {
     "name": "stderr",
     "output_type": "stream",
     "text": [
      "/var/folders/w8/b_cflrn97k9c15rcrn5t8mmr0000gn/T/ipykernel_2754/3395039238.py:2: FutureWarning: Setting an item of incompatible dtype is deprecated and will raise in a future error of pandas. Value 'YABBY' has dtype incompatible with int64, please explicitly cast to a compatible dtype first.\n",
      "  testset_positive.loc[:, 'class'] = gene_familly\n"
     ]
    },
    {
     "data": {
      "text/html": [
       "<div>\n",
       "<style scoped>\n",
       "    .dataframe tbody tr th:only-of-type {\n",
       "        vertical-align: middle;\n",
       "    }\n",
       "\n",
       "    .dataframe tbody tr th {\n",
       "        vertical-align: top;\n",
       "    }\n",
       "\n",
       "    .dataframe thead th {\n",
       "        text-align: right;\n",
       "    }\n",
       "</style>\n",
       "<table border=\"1\" class=\"dataframe\">\n",
       "  <thead>\n",
       "    <tr style=\"text-align: right;\">\n",
       "      <th></th>\n",
       "      <th>id</th>\n",
       "      <th>sequence</th>\n",
       "      <th>length</th>\n",
       "      <th>class</th>\n",
       "    </tr>\n",
       "  </thead>\n",
       "  <tbody>\n",
       "    <tr>\n",
       "      <th>591</th>\n",
       "      <td>Gh_A12G1991</td>\n",
       "      <td>MSSSSTLSLDHLPPSEQLCYVHCNICDTVLAVSVPCTSLFKTVTVR...</td>\n",
       "      <td>211</td>\n",
       "      <td>YABBY</td>\n",
       "    </tr>\n",
       "    <tr>\n",
       "      <th>1717</th>\n",
       "      <td>Zpz_sc03313.1.g00010.1.am.mk</td>\n",
       "      <td>DEIQRIKAGNPDISHREAFSAAAKNWAHFPHIHFGLMPDHHGLKKT...</td>\n",
       "      <td>172</td>\n",
       "      <td>YABBY</td>\n",
       "    </tr>\n",
       "    <tr>\n",
       "      <th>1096</th>\n",
       "      <td>OPUNC10G13730.1</td>\n",
       "      <td>MSSSSSSSSASSSSAAAAASAAAFRPAIVQREQQVEEKFPAAAAAA...</td>\n",
       "      <td>323</td>\n",
       "      <td>YABBY</td>\n",
       "    </tr>\n",
       "    <tr>\n",
       "      <th>1405</th>\n",
       "      <td>XP_011088989.1</td>\n",
       "      <td>MSMEMTSERVCYVHCNFCNTILAVSVPCGSMFTIVTVRCGHCANLL...</td>\n",
       "      <td>185</td>\n",
       "      <td>YABBY</td>\n",
       "    </tr>\n",
       "    <tr>\n",
       "      <th>1260</th>\n",
       "      <td>Potri.008G189000.1</td>\n",
       "      <td>MSTLNHLFDLPDQICYVQCGFCTTILLVSVPCSSLSTVVTVICGHC...</td>\n",
       "      <td>220</td>\n",
       "      <td>YABBY</td>\n",
       "    </tr>\n",
       "    <tr>\n",
       "      <th>...</th>\n",
       "      <td>...</td>\n",
       "      <td>...</td>\n",
       "      <td>...</td>\n",
       "      <td>...</td>\n",
       "    </tr>\n",
       "    <tr>\n",
       "      <th>754</th>\n",
       "      <td>Kalax.0025s0027.1.p</td>\n",
       "      <td>MSSSSTSSFSPPDHHQTLVHSSSSHQLCYVHCDFCDTVLAVSVPSC...</td>\n",
       "      <td>201</td>\n",
       "      <td>YABBY</td>\n",
       "    </tr>\n",
       "    <tr>\n",
       "      <th>1580</th>\n",
       "      <td>Traes_5AL_EB97D69D7.2</td>\n",
       "      <td>MSAQIAPPEHVCYVHCNFCNTILAVSVPSNSMLNIVTVRCGHCTSL...</td>\n",
       "      <td>186</td>\n",
       "      <td>YABBY</td>\n",
       "    </tr>\n",
       "    <tr>\n",
       "      <th>686</th>\n",
       "      <td>WALNUT_00000448-RA</td>\n",
       "      <td>MSSSSTLSLDHLPPSEQLCYVHCNICDTVLAVSVPCTSLFKTVTVR...</td>\n",
       "      <td>211</td>\n",
       "      <td>YABBY</td>\n",
       "    </tr>\n",
       "    <tr>\n",
       "      <th>1389</th>\n",
       "      <td>SapurV1A.3862s0010.2.p</td>\n",
       "      <td>MSLDMVSEPVCYVHCNFCNTILAVSVPSSSLFNIVTVRCGHCGNLL...</td>\n",
       "      <td>184</td>\n",
       "      <td>YABBY</td>\n",
       "    </tr>\n",
       "    <tr>\n",
       "      <th>1581</th>\n",
       "      <td>Traes_5AS_31C2540C0.2</td>\n",
       "      <td>MQLVKVETCKQSETKATRASYTPGLKSNRRPFPIHLDLWFPPPCTC...</td>\n",
       "      <td>253</td>\n",
       "      <td>YABBY</td>\n",
       "    </tr>\n",
       "  </tbody>\n",
       "</table>\n",
       "<p>344 rows × 4 columns</p>\n",
       "</div>"
      ],
      "text/plain": [
       "                                id  \\\n",
       "591                    Gh_A12G1991   \n",
       "1717  Zpz_sc03313.1.g00010.1.am.mk   \n",
       "1096               OPUNC10G13730.1   \n",
       "1405                XP_011088989.1   \n",
       "1260            Potri.008G189000.1   \n",
       "...                            ...   \n",
       "754            Kalax.0025s0027.1.p   \n",
       "1580         Traes_5AL_EB97D69D7.2   \n",
       "686             WALNUT_00000448-RA   \n",
       "1389        SapurV1A.3862s0010.2.p   \n",
       "1581         Traes_5AS_31C2540C0.2   \n",
       "\n",
       "                                               sequence  length  class  \n",
       "591   MSSSSTLSLDHLPPSEQLCYVHCNICDTVLAVSVPCTSLFKTVTVR...     211  YABBY  \n",
       "1717  DEIQRIKAGNPDISHREAFSAAAKNWAHFPHIHFGLMPDHHGLKKT...     172  YABBY  \n",
       "1096  MSSSSSSSSASSSSAAAAASAAAFRPAIVQREQQVEEKFPAAAAAA...     323  YABBY  \n",
       "1405  MSMEMTSERVCYVHCNFCNTILAVSVPCGSMFTIVTVRCGHCANLL...     185  YABBY  \n",
       "1260  MSTLNHLFDLPDQICYVQCGFCTTILLVSVPCSSLSTVVTVICGHC...     220  YABBY  \n",
       "...                                                 ...     ...    ...  \n",
       "754   MSSSSTSSFSPPDHHQTLVHSSSSHQLCYVHCDFCDTVLAVSVPSC...     201  YABBY  \n",
       "1580  MSAQIAPPEHVCYVHCNFCNTILAVSVPSNSMLNIVTVRCGHCTSL...     186  YABBY  \n",
       "686   MSSSSTLSLDHLPPSEQLCYVHCNICDTVLAVSVPCTSLFKTVTVR...     211  YABBY  \n",
       "1389  MSLDMVSEPVCYVHCNFCNTILAVSVPSSSLFNIVTVRCGHCGNLL...     184  YABBY  \n",
       "1581  MQLVKVETCKQSETKATRASYTPGLKSNRRPFPIHLDLWFPPPCTC...     253  YABBY  \n",
       "\n",
       "[344 rows x 4 columns]"
      ]
     },
     "execution_count": 5,
     "metadata": {},
     "output_type": "execute_result"
    }
   ],
   "source": [
    "testset_positive = testset[testset['class'] == 1]\n",
    "testset_positive.loc[:, 'class'] = gene_familly\n",
    "testset_positive"
   ]
  },
  {
   "cell_type": "code",
   "execution_count": 6,
   "id": "25a9ad39-47e0-4b0a-9669-c9ed5c6cafa3",
   "metadata": {
    "execution": {
     "iopub.execute_input": "2024-07-03T23:17:25.289884Z",
     "iopub.status.busy": "2024-07-03T23:17:25.289757Z",
     "iopub.status.idle": "2024-07-03T23:17:25.294805Z",
     "shell.execute_reply": "2024-07-03T23:17:25.294466Z"
    },
    "papermill": {
     "duration": 0.00802,
     "end_time": "2024-07-03T23:17:25.296016",
     "exception": false,
     "start_time": "2024-07-03T23:17:25.287996",
     "status": "completed"
    },
    "tags": []
   },
   "outputs": [],
   "source": [
    "testset_positive.to_csv(\"../data/testset/\"+gene_dict['file_code']+\".csv\")"
   ]
  },
  {
   "cell_type": "code",
   "execution_count": null,
   "id": "4107c4c5-3c5d-44f9-af27-5b81b6d102e5",
   "metadata": {
    "papermill": {
     "duration": 0.001301,
     "end_time": "2024-07-03T23:17:25.298601",
     "exception": false,
     "start_time": "2024-07-03T23:17:25.297300",
     "status": "completed"
    },
    "tags": []
   },
   "outputs": [],
   "source": []
  }
 ],
 "metadata": {
  "kernelspec": {
   "display_name": "Python 3 (ipykernel)",
   "language": "python",
   "name": "python3"
  },
  "language_info": {
   "codemirror_mode": {
    "name": "ipython",
    "version": 3
   },
   "file_extension": ".py",
   "mimetype": "text/x-python",
   "name": "python",
   "nbconvert_exporter": "python",
   "pygments_lexer": "ipython3",
   "version": "3.11.7"
  },
  "papermill": {
   "default_parameters": {},
   "duration": 2.013156,
   "end_time": "2024-07-03T23:17:25.720026",
   "environment_variables": {},
   "exception": null,
   "input_path": "05-extract_testset.ipynb",
   "output_path": "AutoSave/TestGen/05-extract_testset-YABBY.ipynb",
   "parameters": {
    "gene_familly": "YABBY"
   },
   "start_time": "2024-07-03T23:17:23.706870",
   "version": "2.6.0"
  }
 },
 "nbformat": 4,
 "nbformat_minor": 5
}