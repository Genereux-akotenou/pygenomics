{
 "cells": [
  {
   "cell_type": "code",
   "execution_count": 1,
   "id": "0a9d2b13",
   "metadata": {
    "execution": {
     "iopub.execute_input": "2024-07-03T23:17:28.429881Z",
     "iopub.status.busy": "2024-07-03T23:17:28.429196Z",
     "iopub.status.idle": "2024-07-03T23:17:28.440811Z",
     "shell.execute_reply": "2024-07-03T23:17:28.440117Z"
    },
    "papermill": {
     "duration": 0.023814,
     "end_time": "2024-07-03T23:17:28.442868",
     "exception": false,
     "start_time": "2024-07-03T23:17:28.419054",
     "status": "completed"
    },
    "tags": [
     "injected-parameters"
    ]
   },
   "outputs": [],
   "source": [
    "# Parameters\n",
    "gene_familly = \"bHLH\"\n"
   ]
  },
  {
   "cell_type": "code",
   "execution_count": 2,
   "id": "e7cdbe25-11a6-48da-abd4-9ae5eee27bfe",
   "metadata": {
    "execution": {
     "iopub.execute_input": "2024-07-03T23:17:28.449239Z",
     "iopub.status.busy": "2024-07-03T23:17:28.449029Z",
     "iopub.status.idle": "2024-07-03T23:17:29.118726Z",
     "shell.execute_reply": "2024-07-03T23:17:29.118282Z"
    },
    "papermill": {
     "duration": 0.674513,
     "end_time": "2024-07-03T23:17:29.120322",
     "exception": false,
     "start_time": "2024-07-03T23:17:28.445809",
     "status": "completed"
    },
    "tags": []
   },
   "outputs": [],
   "source": [
    "import json\n",
    "import pandas as pd\n",
    "from sklearn.model_selection import train_test_split"
   ]
  },
  {
   "cell_type": "code",
   "execution_count": 3,
   "id": "6e20f340-8cbc-46f2-be83-6f1c4523930a",
   "metadata": {
    "execution": {
     "iopub.execute_input": "2024-07-03T23:17:29.123728Z",
     "iopub.status.busy": "2024-07-03T23:17:29.123502Z",
     "iopub.status.idle": "2024-07-03T23:17:29.381997Z",
     "shell.execute_reply": "2024-07-03T23:17:29.381583Z"
    },
    "papermill": {
     "duration": 0.26151,
     "end_time": "2024-07-03T23:17:29.383333",
     "exception": false,
     "start_time": "2024-07-03T23:17:29.121823",
     "status": "completed"
    },
    "tags": []
   },
   "outputs": [
    {
     "data": {
      "text/html": [
       "<div>\n",
       "<style scoped>\n",
       "    .dataframe tbody tr th:only-of-type {\n",
       "        vertical-align: middle;\n",
       "    }\n",
       "\n",
       "    .dataframe tbody tr th {\n",
       "        vertical-align: top;\n",
       "    }\n",
       "\n",
       "    .dataframe thead th {\n",
       "        text-align: right;\n",
       "    }\n",
       "</style>\n",
       "<table border=\"1\" class=\"dataframe\">\n",
       "  <thead>\n",
       "    <tr style=\"text-align: right;\">\n",
       "      <th></th>\n",
       "      <th>id</th>\n",
       "      <th>sequence</th>\n",
       "      <th>length</th>\n",
       "      <th>class</th>\n",
       "    </tr>\n",
       "  </thead>\n",
       "  <tbody>\n",
       "    <tr>\n",
       "      <th>0</th>\n",
       "      <td>Achn000591</td>\n",
       "      <td>MVEGGDQGDEEEEEELSAMKEMMYKIAAMQPVQDIDPATIQKPRRR...</td>\n",
       "      <td>153</td>\n",
       "      <td>1</td>\n",
       "    </tr>\n",
       "    <tr>\n",
       "      <th>1</th>\n",
       "      <td>Achn007901</td>\n",
       "      <td>MEKENSILTTTWNSSSFGMEIEYNQVNCGFLNPLNWDNSTMGQSDP...</td>\n",
       "      <td>390</td>\n",
       "      <td>1</td>\n",
       "    </tr>\n",
       "    <tr>\n",
       "      <th>2</th>\n",
       "      <td>Achn008041</td>\n",
       "      <td>MREQTKSKKKAAYFQEQWHSQVKEDLSKMIQRQRVPVRRSQKLSDR...</td>\n",
       "      <td>95</td>\n",
       "      <td>1</td>\n",
       "    </tr>\n",
       "    <tr>\n",
       "      <th>3</th>\n",
       "      <td>Achn009641</td>\n",
       "      <td>MYEESECFDPNSMQGLSKDGFSQNPSFSMEEPSYHQNPSPESAAGG...</td>\n",
       "      <td>472</td>\n",
       "      <td>1</td>\n",
       "    </tr>\n",
       "    <tr>\n",
       "      <th>4</th>\n",
       "      <td>Achn013141</td>\n",
       "      <td>MVSFKSSDCAINMTHLMSQCGGGPANELDQRQHHGCEPKKEIDADN...</td>\n",
       "      <td>286</td>\n",
       "      <td>1</td>\n",
       "    </tr>\n",
       "  </tbody>\n",
       "</table>\n",
       "</div>"
      ],
      "text/plain": [
       "           id                                           sequence  length  \\\n",
       "0  Achn000591  MVEGGDQGDEEEEEELSAMKEMMYKIAAMQPVQDIDPATIQKPRRR...     153   \n",
       "1  Achn007901  MEKENSILTTTWNSSSFGMEIEYNQVNCGFLNPLNWDNSTMGQSDP...     390   \n",
       "2  Achn008041  MREQTKSKKKAAYFQEQWHSQVKEDLSKMIQRQRVPVRRSQKLSDR...      95   \n",
       "3  Achn009641  MYEESECFDPNSMQGLSKDGFSQNPSFSMEEPSYHQNPSPESAAGG...     472   \n",
       "4  Achn013141  MVSFKSSDCAINMTHLMSQCGGGPANELDQRQHHGCEPKKEIDADN...     286   \n",
       "\n",
       "   class  \n",
       "0      1  \n",
       "1      1  \n",
       "2      1  \n",
       "3      1  \n",
       "4      1  "
      ]
     },
     "execution_count": 3,
     "metadata": {},
     "output_type": "execute_result"
    }
   ],
   "source": [
    "# READ GENE_INFO JSON FILE\n",
    "gene_info_path = \"../data/gene_info.json\"\n",
    "dataset_path   = \"../data/one_vs_other/\"\n",
    "with open(gene_info_path, 'r') as json_file:\n",
    "    gene_info = json.load(json_file)\n",
    "\n",
    "# FOCUS ON GENE FAMILLY\n",
    "gene_dict = gene_info[gene_familly]\n",
    "df_path = dataset_path+gene_dict['file_code']+\".csv\"\n",
    "\n",
    "# LOAD WHOLE DATASET\n",
    "USE_FULL_DF = True\n",
    "if USE_FULL_DF:\n",
    "    dataset = pd.read_csv(df_path)\n",
    "else:\n",
    "    dataset_ = pd.read_csv(df_path)\n",
    "    r = min(5000/len(dataset_), 1)\n",
    "    _, dataset = train_test_split(dataset_, test_size=r, stratify=dataset_['class'], random_state=42)\n",
    "dataset.head()"
   ]
  },
  {
   "cell_type": "code",
   "execution_count": 4,
   "id": "745dff8f-540b-4299-a3f0-dabda69bd837",
   "metadata": {
    "execution": {
     "iopub.execute_input": "2024-07-03T23:17:29.387045Z",
     "iopub.status.busy": "2024-07-03T23:17:29.386791Z",
     "iopub.status.idle": "2024-07-03T23:17:29.409049Z",
     "shell.execute_reply": "2024-07-03T23:17:29.408696Z"
    },
    "papermill": {
     "duration": 0.025325,
     "end_time": "2024-07-03T23:17:29.410354",
     "exception": false,
     "start_time": "2024-07-03T23:17:29.385029",
     "status": "completed"
    },
    "tags": []
   },
   "outputs": [],
   "source": [
    "trainset, testset = train_test_split(dataset, test_size=0.2, stratify=dataset['class'], random_state=42)"
   ]
  },
  {
   "cell_type": "code",
   "execution_count": 5,
   "id": "a9b8b47d-48c6-4e94-a378-574904e308ee",
   "metadata": {
    "execution": {
     "iopub.execute_input": "2024-07-03T23:17:29.413736Z",
     "iopub.status.busy": "2024-07-03T23:17:29.413581Z",
     "iopub.status.idle": "2024-07-03T23:17:29.420378Z",
     "shell.execute_reply": "2024-07-03T23:17:29.420133Z"
    },
    "papermill": {
     "duration": 0.009544,
     "end_time": "2024-07-03T23:17:29.421321",
     "exception": false,
     "start_time": "2024-07-03T23:17:29.411777",
     "status": "completed"
    },
    "tags": []
   },
   "outputs": [
    {
     "name": "stderr",
     "output_type": "stream",
     "text": [
      "/var/folders/w8/b_cflrn97k9c15rcrn5t8mmr0000gn/T/ipykernel_2767/3395039238.py:2: FutureWarning: Setting an item of incompatible dtype is deprecated and will raise in a future error of pandas. Value 'bHLH' has dtype incompatible with int64, please explicitly cast to a compatible dtype first.\n",
      "  testset_positive.loc[:, 'class'] = gene_familly\n"
     ]
    },
    {
     "data": {
      "text/html": [
       "<div>\n",
       "<style scoped>\n",
       "    .dataframe tbody tr th:only-of-type {\n",
       "        vertical-align: middle;\n",
       "    }\n",
       "\n",
       "    .dataframe tbody tr th {\n",
       "        vertical-align: top;\n",
       "    }\n",
       "\n",
       "    .dataframe thead th {\n",
       "        text-align: right;\n",
       "    }\n",
       "</style>\n",
       "<table border=\"1\" class=\"dataframe\">\n",
       "  <thead>\n",
       "    <tr style=\"text-align: right;\">\n",
       "      <th></th>\n",
       "      <th>id</th>\n",
       "      <th>sequence</th>\n",
       "      <th>length</th>\n",
       "      <th>class</th>\n",
       "    </tr>\n",
       "  </thead>\n",
       "  <tbody>\n",
       "    <tr>\n",
       "      <th>25264</th>\n",
       "      <td>Spipo28G0003900</td>\n",
       "      <td>MDPGGSSGDRSGNSGEYGHEIAESLRFQEEIQSLMTEHESGAENGS...</td>\n",
       "      <td>282</td>\n",
       "      <td>bHLH</td>\n",
       "    </tr>\n",
       "    <tr>\n",
       "      <th>14442</th>\n",
       "      <td>Niben101Scf00270g13010.1</td>\n",
       "      <td>MGSWEDNNSIMFSVTPSKRAKQISNDIVNNGLDDGETQFQFGLSQT...</td>\n",
       "      <td>147</td>\n",
       "      <td>bHLH</td>\n",
       "    </tr>\n",
       "    <tr>\n",
       "      <th>6063</th>\n",
       "      <td>XP_012573662.1</td>\n",
       "      <td>MIQISSTNYQPELFGMEDPTFFDDQEYTMDSFAFHFDDIDFKPFSA...</td>\n",
       "      <td>353</td>\n",
       "      <td>bHLH</td>\n",
       "    </tr>\n",
       "    <tr>\n",
       "      <th>22562</th>\n",
       "      <td>SapurV1A.0377s0010.1.p</td>\n",
       "      <td>MTETFSDFLDEERPEFGDTAFDGDDLFAIFKSLDSTVTDFPPVSTP...</td>\n",
       "      <td>340</td>\n",
       "      <td>bHLH</td>\n",
       "    </tr>\n",
       "    <tr>\n",
       "      <th>26125</th>\n",
       "      <td>Tp57577_TGAC_v2_mRNA40372</td>\n",
       "      <td>MSQCVPSWDVDENPPPLPRTLSLRSSSNSTATLDVPMLDYDVAELT...</td>\n",
       "      <td>491</td>\n",
       "      <td>bHLH</td>\n",
       "    </tr>\n",
       "    <tr>\n",
       "      <th>...</th>\n",
       "      <td>...</td>\n",
       "      <td>...</td>\n",
       "      <td>...</td>\n",
       "      <td>...</td>\n",
       "    </tr>\n",
       "    <tr>\n",
       "      <th>12565</th>\n",
       "      <td>Lus10012670</td>\n",
       "      <td>MDLDLMMKQQSTSSSSTTSNGGGDPPHHNHLDMMSMLLHSDFSNEV...</td>\n",
       "      <td>223</td>\n",
       "      <td>bHLH</td>\n",
       "    </tr>\n",
       "    <tr>\n",
       "      <th>26200</th>\n",
       "      <td>Traes_2AL_411B944D6.1</td>\n",
       "      <td>MDPDMGENFAYYWETQRYLESEELVDSIFVGATEDAISYYDSSSPD...</td>\n",
       "      <td>278</td>\n",
       "      <td>bHLH</td>\n",
       "    </tr>\n",
       "    <tr>\n",
       "      <th>26432</th>\n",
       "      <td>Traes_6DL_1571314A3.1</td>\n",
       "      <td>REKISERLRTLQELVPNGTKVDMVTMLEKAFSYVKFLQLQV</td>\n",
       "      <td>41</td>\n",
       "      <td>bHLH</td>\n",
       "    </tr>\n",
       "    <tr>\n",
       "      <th>26902</th>\n",
       "      <td>Vang11g03900.1</td>\n",
       "      <td>MDVDIVKASACDTTNMDVMAMMMQMEKFSEFCDPFYTTTPPYTEPD...</td>\n",
       "      <td>260</td>\n",
       "      <td>bHLH</td>\n",
       "    </tr>\n",
       "    <tr>\n",
       "      <th>25277</th>\n",
       "      <td>Spipo4G0018600</td>\n",
       "      <td>MSSRRSRSRQGSSTRITEDQIIELVSKLQALLPETRTRGNDRVSAS...</td>\n",
       "      <td>94</td>\n",
       "      <td>bHLH</td>\n",
       "    </tr>\n",
       "  </tbody>\n",
       "</table>\n",
       "<p>5740 rows × 4 columns</p>\n",
       "</div>"
      ],
      "text/plain": [
       "                              id  \\\n",
       "25264            Spipo28G0003900   \n",
       "14442   Niben101Scf00270g13010.1   \n",
       "6063              XP_012573662.1   \n",
       "22562     SapurV1A.0377s0010.1.p   \n",
       "26125  Tp57577_TGAC_v2_mRNA40372   \n",
       "...                          ...   \n",
       "12565                Lus10012670   \n",
       "26200      Traes_2AL_411B944D6.1   \n",
       "26432      Traes_6DL_1571314A3.1   \n",
       "26902             Vang11g03900.1   \n",
       "25277             Spipo4G0018600   \n",
       "\n",
       "                                                sequence  length class  \n",
       "25264  MDPGGSSGDRSGNSGEYGHEIAESLRFQEEIQSLMTEHESGAENGS...     282  bHLH  \n",
       "14442  MGSWEDNNSIMFSVTPSKRAKQISNDIVNNGLDDGETQFQFGLSQT...     147  bHLH  \n",
       "6063   MIQISSTNYQPELFGMEDPTFFDDQEYTMDSFAFHFDDIDFKPFSA...     353  bHLH  \n",
       "22562  MTETFSDFLDEERPEFGDTAFDGDDLFAIFKSLDSTVTDFPPVSTP...     340  bHLH  \n",
       "26125  MSQCVPSWDVDENPPPLPRTLSLRSSSNSTATLDVPMLDYDVAELT...     491  bHLH  \n",
       "...                                                  ...     ...   ...  \n",
       "12565  MDLDLMMKQQSTSSSSTTSNGGGDPPHHNHLDMMSMLLHSDFSNEV...     223  bHLH  \n",
       "26200  MDPDMGENFAYYWETQRYLESEELVDSIFVGATEDAISYYDSSSPD...     278  bHLH  \n",
       "26432          REKISERLRTLQELVPNGTKVDMVTMLEKAFSYVKFLQLQV      41  bHLH  \n",
       "26902  MDVDIVKASACDTTNMDVMAMMMQMEKFSEFCDPFYTTTPPYTEPD...     260  bHLH  \n",
       "25277  MSSRRSRSRQGSSTRITEDQIIELVSKLQALLPETRTRGNDRVSAS...      94  bHLH  \n",
       "\n",
       "[5740 rows x 4 columns]"
      ]
     },
     "execution_count": 5,
     "metadata": {},
     "output_type": "execute_result"
    }
   ],
   "source": [
    "testset_positive = testset[testset['class'] == 1]\n",
    "testset_positive.loc[:, 'class'] = gene_familly\n",
    "testset_positive"
   ]
  },
  {
   "cell_type": "code",
   "execution_count": 6,
   "id": "25a9ad39-47e0-4b0a-9669-c9ed5c6cafa3",
   "metadata": {
    "execution": {
     "iopub.execute_input": "2024-07-03T23:17:29.424455Z",
     "iopub.status.busy": "2024-07-03T23:17:29.424336Z",
     "iopub.status.idle": "2024-07-03T23:17:29.474368Z",
     "shell.execute_reply": "2024-07-03T23:17:29.474059Z"
    },
    "papermill": {
     "duration": 0.052801,
     "end_time": "2024-07-03T23:17:29.475463",
     "exception": false,
     "start_time": "2024-07-03T23:17:29.422662",
     "status": "completed"
    },
    "tags": []
   },
   "outputs": [],
   "source": [
    "testset_positive.to_csv(\"../data/testset/\"+gene_dict['file_code']+\".csv\")"
   ]
  },
  {
   "cell_type": "code",
   "execution_count": null,
   "id": "4107c4c5-3c5d-44f9-af27-5b81b6d102e5",
   "metadata": {
    "papermill": {
     "duration": 0.001206,
     "end_time": "2024-07-03T23:17:29.477928",
     "exception": false,
     "start_time": "2024-07-03T23:17:29.476722",
     "status": "completed"
    },
    "tags": []
   },
   "outputs": [],
   "source": []
  }
 ],
 "metadata": {
  "kernelspec": {
   "display_name": "Python 3 (ipykernel)",
   "language": "python",
   "name": "python3"
  },
  "language_info": {
   "codemirror_mode": {
    "name": "ipython",
    "version": 3
   },
   "file_extension": ".py",
   "mimetype": "text/x-python",
   "name": "python",
   "nbconvert_exporter": "python",
   "pygments_lexer": "ipython3",
   "version": "3.11.7"
  },
  "papermill": {
   "default_parameters": {},
   "duration": 2.18323,
   "end_time": "2024-07-03T23:17:29.796212",
   "environment_variables": {},
   "exception": null,
   "input_path": "05-extract_testset.ipynb",
   "output_path": "AutoSave/TestGen/05-extract_testset-bHLH.ipynb",
   "parameters": {
    "gene_familly": "bHLH"
   },
   "start_time": "2024-07-03T23:17:27.612982",
   "version": "2.6.0"
  }
 },
 "nbformat": 4,
 "nbformat_minor": 5
}