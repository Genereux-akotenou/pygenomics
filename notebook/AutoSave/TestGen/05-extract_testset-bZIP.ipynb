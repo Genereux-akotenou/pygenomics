{
 "cells": [
  {
   "cell_type": "code",
   "execution_count": 1,
   "id": "9c02a8db",
   "metadata": {
    "execution": {
     "iopub.execute_input": "2024-07-03T23:17:30.607634Z",
     "iopub.status.busy": "2024-07-03T23:17:30.607040Z",
     "iopub.status.idle": "2024-07-03T23:17:30.618983Z",
     "shell.execute_reply": "2024-07-03T23:17:30.618188Z"
    },
    "papermill": {
     "duration": 0.021997,
     "end_time": "2024-07-03T23:17:30.621409",
     "exception": false,
     "start_time": "2024-07-03T23:17:30.599412",
     "status": "completed"
    },
    "tags": [
     "injected-parameters"
    ]
   },
   "outputs": [],
   "source": [
    "# Parameters\n",
    "gene_familly = \"bZIP\"\n"
   ]
  },
  {
   "cell_type": "code",
   "execution_count": 2,
   "id": "e7cdbe25-11a6-48da-abd4-9ae5eee27bfe",
   "metadata": {
    "execution": {
     "iopub.execute_input": "2024-07-03T23:17:30.629748Z",
     "iopub.status.busy": "2024-07-03T23:17:30.629429Z",
     "iopub.status.idle": "2024-07-03T23:17:31.306613Z",
     "shell.execute_reply": "2024-07-03T23:17:31.306151Z"
    },
    "papermill": {
     "duration": 0.683198,
     "end_time": "2024-07-03T23:17:31.308157",
     "exception": false,
     "start_time": "2024-07-03T23:17:30.624959",
     "status": "completed"
    },
    "tags": []
   },
   "outputs": [],
   "source": [
    "import json\n",
    "import pandas as pd\n",
    "from sklearn.model_selection import train_test_split"
   ]
  },
  {
   "cell_type": "code",
   "execution_count": 3,
   "id": "6e20f340-8cbc-46f2-be83-6f1c4523930a",
   "metadata": {
    "execution": {
     "iopub.execute_input": "2024-07-03T23:17:31.311673Z",
     "iopub.status.busy": "2024-07-03T23:17:31.311329Z",
     "iopub.status.idle": "2024-07-03T23:17:31.442746Z",
     "shell.execute_reply": "2024-07-03T23:17:31.442275Z"
    },
    "papermill": {
     "duration": 0.134215,
     "end_time": "2024-07-03T23:17:31.443861",
     "exception": false,
     "start_time": "2024-07-03T23:17:31.309646",
     "status": "completed"
    },
    "tags": []
   },
   "outputs": [
    {
     "data": {
      "text/html": [
       "<div>\n",
       "<style scoped>\n",
       "    .dataframe tbody tr th:only-of-type {\n",
       "        vertical-align: middle;\n",
       "    }\n",
       "\n",
       "    .dataframe tbody tr th {\n",
       "        vertical-align: top;\n",
       "    }\n",
       "\n",
       "    .dataframe thead th {\n",
       "        text-align: right;\n",
       "    }\n",
       "</style>\n",
       "<table border=\"1\" class=\"dataframe\">\n",
       "  <thead>\n",
       "    <tr style=\"text-align: right;\">\n",
       "      <th></th>\n",
       "      <th>id</th>\n",
       "      <th>sequence</th>\n",
       "      <th>length</th>\n",
       "      <th>class</th>\n",
       "    </tr>\n",
       "  </thead>\n",
       "  <tbody>\n",
       "    <tr>\n",
       "      <th>0</th>\n",
       "      <td>Achn006801</td>\n",
       "      <td>MGSLSGTSSGSSLLQNSGSEKDLLQQRKRKRMISNRESARRSRMKK...</td>\n",
       "      <td>148</td>\n",
       "      <td>1</td>\n",
       "    </tr>\n",
       "    <tr>\n",
       "      <th>1</th>\n",
       "      <td>Achn015171</td>\n",
       "      <td>MNSKCYVLEKHTESTITFTQIINLFWCKYIMGSSSGNSSGSTQLQN...</td>\n",
       "      <td>186</td>\n",
       "      <td>1</td>\n",
       "    </tr>\n",
       "    <tr>\n",
       "      <th>2</th>\n",
       "      <td>Achn016621</td>\n",
       "      <td>MADLSVADPLSPNPDLTPTLSDPLAIPPLDPAIFSDAFFDVDVDDL...</td>\n",
       "      <td>805</td>\n",
       "      <td>1</td>\n",
       "    </tr>\n",
       "    <tr>\n",
       "      <th>3</th>\n",
       "      <td>Achn024761</td>\n",
       "      <td>MASTKQAVSAGSDGDPRYAGVDERKRKRMISNRESARRSRMRKQQH...</td>\n",
       "      <td>146</td>\n",
       "      <td>1</td>\n",
       "    </tr>\n",
       "    <tr>\n",
       "      <th>4</th>\n",
       "      <td>Achn025721</td>\n",
       "      <td>MQSNRESARRSRMRKQTHLNDLTAQISRLKEENDQIHTNLSITSQH...</td>\n",
       "      <td>121</td>\n",
       "      <td>1</td>\n",
       "    </tr>\n",
       "  </tbody>\n",
       "</table>\n",
       "</div>"
      ],
      "text/plain": [
       "           id                                           sequence  length  \\\n",
       "0  Achn006801  MGSLSGTSSGSSLLQNSGSEKDLLQQRKRKRMISNRESARRSRMKK...     148   \n",
       "1  Achn015171  MNSKCYVLEKHTESTITFTQIINLFWCKYIMGSSSGNSSGSTQLQN...     186   \n",
       "2  Achn016621  MADLSVADPLSPNPDLTPTLSDPLAIPPLDPAIFSDAFFDVDVDDL...     805   \n",
       "3  Achn024761  MASTKQAVSAGSDGDPRYAGVDERKRKRMISNRESARRSRMRKQQH...     146   \n",
       "4  Achn025721  MQSNRESARRSRMRKQTHLNDLTAQISRLKEENDQIHTNLSITSQH...     121   \n",
       "\n",
       "   class  \n",
       "0      1  \n",
       "1      1  \n",
       "2      1  \n",
       "3      1  \n",
       "4      1  "
      ]
     },
     "execution_count": 3,
     "metadata": {},
     "output_type": "execute_result"
    }
   ],
   "source": [
    "# READ GENE_INFO JSON FILE\n",
    "gene_info_path = \"../data/gene_info.json\"\n",
    "dataset_path   = \"../data/one_vs_other/\"\n",
    "with open(gene_info_path, 'r') as json_file:\n",
    "    gene_info = json.load(json_file)\n",
    "\n",
    "# FOCUS ON GENE FAMILLY\n",
    "gene_dict = gene_info[gene_familly]\n",
    "df_path = dataset_path+gene_dict['file_code']+\".csv\"\n",
    "\n",
    "# LOAD WHOLE DATASET\n",
    "USE_FULL_DF = True\n",
    "if USE_FULL_DF:\n",
    "    dataset = pd.read_csv(df_path)\n",
    "else:\n",
    "    dataset_ = pd.read_csv(df_path)\n",
    "    r = min(5000/len(dataset_), 1)\n",
    "    _, dataset = train_test_split(dataset_, test_size=r, stratify=dataset_['class'], random_state=42)\n",
    "dataset.head()"
   ]
  },
  {
   "cell_type": "code",
   "execution_count": 4,
   "id": "745dff8f-540b-4299-a3f0-dabda69bd837",
   "metadata": {
    "execution": {
     "iopub.execute_input": "2024-07-03T23:17:31.447214Z",
     "iopub.status.busy": "2024-07-03T23:17:31.447058Z",
     "iopub.status.idle": "2024-07-03T23:17:31.457948Z",
     "shell.execute_reply": "2024-07-03T23:17:31.457592Z"
    },
    "papermill": {
     "duration": 0.013632,
     "end_time": "2024-07-03T23:17:31.459065",
     "exception": false,
     "start_time": "2024-07-03T23:17:31.445433",
     "status": "completed"
    },
    "tags": []
   },
   "outputs": [],
   "source": [
    "trainset, testset = train_test_split(dataset, test_size=0.2, stratify=dataset['class'], random_state=42)"
   ]
  },
  {
   "cell_type": "code",
   "execution_count": 5,
   "id": "a9b8b47d-48c6-4e94-a378-574904e308ee",
   "metadata": {
    "execution": {
     "iopub.execute_input": "2024-07-03T23:17:31.461785Z",
     "iopub.status.busy": "2024-07-03T23:17:31.461635Z",
     "iopub.status.idle": "2024-07-03T23:17:31.468259Z",
     "shell.execute_reply": "2024-07-03T23:17:31.467954Z"
    },
    "papermill": {
     "duration": 0.009003,
     "end_time": "2024-07-03T23:17:31.469159",
     "exception": false,
     "start_time": "2024-07-03T23:17:31.460156",
     "status": "completed"
    },
    "tags": []
   },
   "outputs": [
    {
     "name": "stderr",
     "output_type": "stream",
     "text": [
      "/var/folders/w8/b_cflrn97k9c15rcrn5t8mmr0000gn/T/ipykernel_2774/3395039238.py:2: FutureWarning: Setting an item of incompatible dtype is deprecated and will raise in a future error of pandas. Value 'bZIP' has dtype incompatible with int64, please explicitly cast to a compatible dtype first.\n",
      "  testset_positive.loc[:, 'class'] = gene_familly\n"
     ]
    },
    {
     "data": {
      "text/html": [
       "<div>\n",
       "<style scoped>\n",
       "    .dataframe tbody tr th:only-of-type {\n",
       "        vertical-align: middle;\n",
       "    }\n",
       "\n",
       "    .dataframe tbody tr th {\n",
       "        vertical-align: top;\n",
       "    }\n",
       "\n",
       "    .dataframe thead th {\n",
       "        text-align: right;\n",
       "    }\n",
       "</style>\n",
       "<table border=\"1\" class=\"dataframe\">\n",
       "  <thead>\n",
       "    <tr style=\"text-align: right;\">\n",
       "      <th></th>\n",
       "      <th>id</th>\n",
       "      <th>sequence</th>\n",
       "      <th>length</th>\n",
       "      <th>class</th>\n",
       "    </tr>\n",
       "  </thead>\n",
       "  <tbody>\n",
       "    <tr>\n",
       "      <th>9664</th>\n",
       "      <td>e_gw1.3.487.1</td>\n",
       "      <td>MFRACGYFDDDGLGELGELGGGADGAASEAEEESSAAASGKHSRGG...</td>\n",
       "      <td>448</td>\n",
       "      <td>bZIP</td>\n",
       "    </tr>\n",
       "    <tr>\n",
       "      <th>5645</th>\n",
       "      <td>Han001056</td>\n",
       "      <td>MGNCEEAKDCKPEETSSPPAAYYGPRMAVPPYFSSPVASGHAPPPY...</td>\n",
       "      <td>348</td>\n",
       "      <td>bZIP</td>\n",
       "    </tr>\n",
       "    <tr>\n",
       "      <th>5861</th>\n",
       "      <td>HL.SW.v1.0.G033762.1</td>\n",
       "      <td>MLPFMEDEVRLGGGWKQNWARGLHYLRSGRRGLGSLSCVQWWYYVA...</td>\n",
       "      <td>173</td>\n",
       "      <td>bZIP</td>\n",
       "    </tr>\n",
       "    <tr>\n",
       "      <th>1528</th>\n",
       "      <td>GSBRNA2T00047841001</td>\n",
       "      <td>MDPSSSGSEESLMEQRKRKRMLSNRESARRSRMKKQKLLDDLTAQV...</td>\n",
       "      <td>143</td>\n",
       "      <td>bZIP</td>\n",
       "    </tr>\n",
       "    <tr>\n",
       "      <th>7008</th>\n",
       "      <td>MDP0000239688</td>\n",
       "      <td>MHSRPSHNRLSGSAFHSRISALLLAMVSTMAAIYVAGRLWQDAADR...</td>\n",
       "      <td>854</td>\n",
       "      <td>bZIP</td>\n",
       "    </tr>\n",
       "    <tr>\n",
       "      <th>...</th>\n",
       "      <td>...</td>\n",
       "      <td>...</td>\n",
       "      <td>...</td>\n",
       "      <td>...</td>\n",
       "    </tr>\n",
       "    <tr>\n",
       "      <th>1825</th>\n",
       "      <td>XP_013611852.1</td>\n",
       "      <td>MGSNEEGKTTQSDKPAQVQAPPPPPEQSNVHVYHHDWAAMQAYYGP...</td>\n",
       "      <td>364</td>\n",
       "      <td>bZIP</td>\n",
       "    </tr>\n",
       "    <tr>\n",
       "      <th>9907</th>\n",
       "      <td>Pavir.2KG587400.1.p</td>\n",
       "      <td>MAMPPKPGDPPQRSPGRSPNLNLPYPLPPVPGGAPPQPGGGLPAPR...</td>\n",
       "      <td>366</td>\n",
       "      <td>bZIP</td>\n",
       "    </tr>\n",
       "    <tr>\n",
       "      <th>164</th>\n",
       "      <td>AA31G00181</td>\n",
       "      <td>MMSSSSPTQLASLRDVGIYEPFQQIVTWGNAFKSDINNNQDTSPNT...</td>\n",
       "      <td>375</td>\n",
       "      <td>bZIP</td>\n",
       "    </tr>\n",
       "    <tr>\n",
       "      <th>4693</th>\n",
       "      <td>Glyma.08G140100.18.p</td>\n",
       "      <td>MDATSSQFVSSRRMGVYDPIHQISMWEETFKSNDTNNLTVSTSIIG...</td>\n",
       "      <td>328</td>\n",
       "      <td>bZIP</td>\n",
       "    </tr>\n",
       "    <tr>\n",
       "      <th>2481</th>\n",
       "      <td>PK27109.1</td>\n",
       "      <td>MEAKLPPAKPPSPTDMVIDQMSETPKRGSHHRRAHSDTSFRFPNLD...</td>\n",
       "      <td>335</td>\n",
       "      <td>bZIP</td>\n",
       "    </tr>\n",
       "  </tbody>\n",
       "</table>\n",
       "<p>3100 rows × 4 columns</p>\n",
       "</div>"
      ],
      "text/plain": [
       "                        id                                           sequence  \\\n",
       "9664         e_gw1.3.487.1  MFRACGYFDDDGLGELGELGGGADGAASEAEEESSAAASGKHSRGG...   \n",
       "5645             Han001056  MGNCEEAKDCKPEETSSPPAAYYGPRMAVPPYFSSPVASGHAPPPY...   \n",
       "5861  HL.SW.v1.0.G033762.1  MLPFMEDEVRLGGGWKQNWARGLHYLRSGRRGLGSLSCVQWWYYVA...   \n",
       "1528   GSBRNA2T00047841001  MDPSSSGSEESLMEQRKRKRMLSNRESARRSRMKKQKLLDDLTAQV...   \n",
       "7008         MDP0000239688  MHSRPSHNRLSGSAFHSRISALLLAMVSTMAAIYVAGRLWQDAADR...   \n",
       "...                    ...                                                ...   \n",
       "1825        XP_013611852.1  MGSNEEGKTTQSDKPAQVQAPPPPPEQSNVHVYHHDWAAMQAYYGP...   \n",
       "9907   Pavir.2KG587400.1.p  MAMPPKPGDPPQRSPGRSPNLNLPYPLPPVPGGAPPQPGGGLPAPR...   \n",
       "164             AA31G00181  MMSSSSPTQLASLRDVGIYEPFQQIVTWGNAFKSDINNNQDTSPNT...   \n",
       "4693  Glyma.08G140100.18.p  MDATSSQFVSSRRMGVYDPIHQISMWEETFKSNDTNNLTVSTSIIG...   \n",
       "2481             PK27109.1  MEAKLPPAKPPSPTDMVIDQMSETPKRGSHHRRAHSDTSFRFPNLD...   \n",
       "\n",
       "      length class  \n",
       "9664     448  bZIP  \n",
       "5645     348  bZIP  \n",
       "5861     173  bZIP  \n",
       "1528     143  bZIP  \n",
       "7008     854  bZIP  \n",
       "...      ...   ...  \n",
       "1825     364  bZIP  \n",
       "9907     366  bZIP  \n",
       "164      375  bZIP  \n",
       "4693     328  bZIP  \n",
       "2481     335  bZIP  \n",
       "\n",
       "[3100 rows x 4 columns]"
      ]
     },
     "execution_count": 5,
     "metadata": {},
     "output_type": "execute_result"
    }
   ],
   "source": [
    "testset_positive = testset[testset['class'] == 1]\n",
    "testset_positive.loc[:, 'class'] = gene_familly\n",
    "testset_positive"
   ]
  },
  {
   "cell_type": "code",
   "execution_count": 6,
   "id": "25a9ad39-47e0-4b0a-9669-c9ed5c6cafa3",
   "metadata": {
    "execution": {
     "iopub.execute_input": "2024-07-03T23:17:31.472002Z",
     "iopub.status.busy": "2024-07-03T23:17:31.471866Z",
     "iopub.status.idle": "2024-07-03T23:17:31.495431Z",
     "shell.execute_reply": "2024-07-03T23:17:31.495131Z"
    },
    "papermill": {
     "duration": 0.026128,
     "end_time": "2024-07-03T23:17:31.496460",
     "exception": false,
     "start_time": "2024-07-03T23:17:31.470332",
     "status": "completed"
    },
    "tags": []
   },
   "outputs": [],
   "source": [
    "testset_positive.to_csv(\"../data/testset/\"+gene_dict['file_code']+\".csv\")"
   ]
  },
  {
   "cell_type": "code",
   "execution_count": null,
   "id": "4107c4c5-3c5d-44f9-af27-5b81b6d102e5",
   "metadata": {
    "papermill": {
     "duration": 0.001233,
     "end_time": "2024-07-03T23:17:31.498915",
     "exception": false,
     "start_time": "2024-07-03T23:17:31.497682",
     "status": "completed"
    },
    "tags": []
   },
   "outputs": [],
   "source": []
  }
 ],
 "metadata": {
  "kernelspec": {
   "display_name": "Python 3 (ipykernel)",
   "language": "python",
   "name": "python3"
  },
  "language_info": {
   "codemirror_mode": {
    "name": "ipython",
    "version": 3
   },
   "file_extension": ".py",
   "mimetype": "text/x-python",
   "name": "python",
   "nbconvert_exporter": "python",
   "pygments_lexer": "ipython3",
   "version": "3.11.7"
  },
  "papermill": {
   "default_parameters": {},
   "duration": 2.017094,
   "end_time": "2024-07-03T23:17:31.818084",
   "environment_variables": {},
   "exception": null,
   "input_path": "05-extract_testset.ipynb",
   "output_path": "AutoSave/TestGen/05-extract_testset-bZIP.ipynb",
   "parameters": {
    "gene_familly": "bZIP"
   },
   "start_time": "2024-07-03T23:17:29.800990",
   "version": "2.6.0"
  }
 },
 "nbformat": 4,
 "nbformat_minor": 5
}