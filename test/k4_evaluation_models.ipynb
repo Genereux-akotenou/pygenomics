{
 "cells": [
  {
   "cell_type": "markdown",
   "id": "d696f3fa-0a8b-4a2e-a8e4-5cda6ecb5a18",
   "metadata": {},
   "source": [
    "* **Setup**"
   ]
  },
  {
   "cell_type": "code",
   "execution_count": 1,
   "id": "63719345-b0fc-46ce-bc83-61d2f6e2f487",
   "metadata": {},
   "outputs": [],
   "source": [
    "import sys, os\n",
    "current_directory = os.getcwd()\n",
    "root_directory = os.path.abspath(os.path.join(current_directory, os.pardir))\n",
    "sys.path.append(root_directory)"
   ]
  },
  {
   "cell_type": "markdown",
   "id": "c269ff54-d880-480f-9f99-704714f04a03",
   "metadata": {},
   "source": [
    "* **Import utils**"
   ]
  },
  {
   "cell_type": "code",
   "execution_count": 2,
   "id": "015339cf-7cd7-4063-8354-82b9b80d1e4f",
   "metadata": {},
   "outputs": [
    {
     "name": "stderr",
     "output_type": "stream",
     "text": [
      "[MacBook-Pro-de-Genereux.local:12490] shmem: mmap: an error occurred while determining whether or not /var/folders/w8/b_cflrn97k9c15rcrn5t8mmr0000gn/T//ompi.MacBook-Pro-de-Genereux.501/jf.0/2979397632/sm_segment.MacBook-Pro-de-Genereux.501.b1960000.0 could be created.\n"
     ]
    }
   ],
   "source": [
    "from pretrained.predictor import SingleKModel, MultiKModel, OneTestKModel, BatchSingleKModel"
   ]
  },
  {
   "cell_type": "markdown",
   "id": "66c37aa3-fed9-460d-9642-323aad3cf493",
   "metadata": {},
   "source": [
    "* **Predict**\n",
    "\n",
    "1- Using single K Model"
   ]
  },
  {
   "cell_type": "code",
   "execution_count": null,
   "id": "9f18ccb5-88da-44bd-b0e4-59af1572101d",
   "metadata": {},
   "outputs": [
    {
     "name": "stderr",
     "output_type": "stream",
     "text": [
      "Processing Batches:  15%|█▉           | 19/129 [16:12:15<143:57:28, 4711.35s/it]"
     ]
    }
   ],
   "source": [
    "kmodel = BatchSingleKModel(kmer_size=4, batch_size=500)\n",
    "kmodel.load(\"../data/testset-full/testset.csv\", format=\"csv\")\n",
    "genboard = kmodel.predict()"
   ]
  },
  {
   "cell_type": "code",
   "execution_count": null,
   "id": "0c7c6329-59f0-4ef5-8334-d021508aa6d0",
   "metadata": {},
   "outputs": [],
   "source": [
    "genboard.display()"
   ]
  },
  {
   "cell_type": "code",
   "execution_count": null,
   "id": "1dafb3ac-0c66-49a6-8b8c-8fb2f1b9bd11",
   "metadata": {},
   "outputs": [],
   "source": [
    "genboard.prediction.shape"
   ]
  },
  {
   "cell_type": "markdown",
   "id": "07a275a7-ae10-483a-81bc-0b0dd0f9c333",
   "metadata": {},
   "source": [
    "* **Confusion report for validation**"
   ]
  },
  {
   "cell_type": "code",
   "execution_count": null,
   "id": "b93425dc-6977-425a-a370-dd35c3daa287",
   "metadata": {},
   "outputs": [],
   "source": [
    "import json\n",
    "import pandas as pd\n",
    "\n",
    "true_label = pd.read_csv('../data/testset-full/true_labels.csv')['true_label'].values\n",
    "with open('../data/testset-full/class_mapping.json', 'r') as json_file:\n",
    "    class_mapping = json.load(json_file)"
   ]
  },
  {
   "cell_type": "code",
   "execution_count": null,
   "id": "b750263a-1910-48a9-a1a1-9489231cd36a",
   "metadata": {},
   "outputs": [],
   "source": [
    "genboard.show_eval_metric(\n",
    "    true_label=true_label,\n",
    "    class_mapping_rules=class_mapping,\n",
    "    voting_method=\"Two-Stage Voting\",\n",
    "    voting_threshold=0.8,\n",
    "    binary_class_threshold=0.5,\n",
    "    components=['confusion_matrix', 'general_accuracy', 'accuracy_per_family']\n",
    ")"
   ]
  },
  {
   "cell_type": "code",
   "execution_count": null,
   "id": "844a6456-fea8-4a2d-864a-eaa64c515139",
   "metadata": {},
   "outputs": [],
   "source": []
  }
 ],
 "metadata": {
  "kernelspec": {
   "display_name": "Python 3 (ipykernel)",
   "language": "python",
   "name": "python3"
  },
  "language_info": {
   "codemirror_mode": {
    "name": "ipython",
    "version": 3
   },
   "file_extension": ".py",
   "mimetype": "text/x-python",
   "name": "python",
   "nbconvert_exporter": "python",
   "pygments_lexer": "ipython3",
   "version": "3.11.8"
  }
 },
 "nbformat": 4,
 "nbformat_minor": 5
}
