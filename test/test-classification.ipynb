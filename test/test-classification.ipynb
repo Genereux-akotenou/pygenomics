{
 "cells": [
  {
   "cell_type": "markdown",
   "id": "d696f3fa-0a8b-4a2e-a8e4-5cda6ecb5a18",
   "metadata": {},
   "source": [
    "* **Setup**"
   ]
  },
  {
   "cell_type": "code",
   "execution_count": 1,
   "id": "63719345-b0fc-46ce-bc83-61d2f6e2f487",
   "metadata": {},
   "outputs": [],
   "source": [
    "import sys, os\n",
    "current_directory = os.getcwd()\n",
    "root_directory = os.path.abspath(os.path.join(current_directory, os.pardir))\n",
    "sys.path.append(root_directory)"
   ]
  },
  {
   "cell_type": "markdown",
   "id": "c269ff54-d880-480f-9f99-704714f04a03",
   "metadata": {},
   "source": [
    "* **Import utils**"
   ]
  },
  {
   "cell_type": "code",
   "execution_count": 2,
   "id": "015339cf-7cd7-4063-8354-82b9b80d1e4f",
   "metadata": {},
   "outputs": [],
   "source": [
    "from pretrained.predictor import SingleKModel, MultiKModel"
   ]
  },
  {
   "cell_type": "markdown",
   "id": "66c37aa3-fed9-460d-9642-323aad3cf493",
   "metadata": {},
   "source": [
    "* **Predict**\n",
    "\n",
    "1- Using single K Model"
   ]
  },
  {
   "cell_type": "code",
   "execution_count": 3,
   "id": "9f18ccb5-88da-44bd-b0e4-59af1572101d",
   "metadata": {},
   "outputs": [
    {
     "name": "stderr",
     "output_type": "stream",
     "text": [
      "Predicting: 100%|███████████████████████████████████████████████████████████████████████████████████████████████████| 3/3 [00:00<00:00,  9.06it/s]\n"
     ]
    }
   ],
   "source": [
    "kmodel = SingleKModel(kmer_size=2)\n",
    "kmodel.load(\"Ach_pep_kiwi.fas\", format=\"fasta\")\n",
    "\n",
    "#kmodel.TestSet\n",
    "#kmodel.kmerSet.get().shape\n",
    "\n",
    "genboard = kmodel.predict()"
   ]
  },
  {
   "cell_type": "code",
   "execution_count": 4,
   "id": "0c7c6329-59f0-4ef5-8334-d021508aa6d0",
   "metadata": {},
   "outputs": [
    {
     "data": {
      "application/vnd.jupyter.widget-view+json": {
       "model_id": "51b30ff183de49aa92bb5f44160e4f44",
       "version_major": 2,
       "version_minor": 0
      },
      "text/plain": [
       "Tab(children=(VBox(children=(FloatSlider(value=0.5, continuous_update=False, description='Threshold:', max=1.0…"
      ]
     },
     "metadata": {},
     "output_type": "display_data"
    }
   ],
   "source": [
    "genboard.display()"
   ]
  },
  {
   "cell_type": "code",
   "execution_count": null,
   "id": "2966b337-b635-4660-8fb1-11bfad6f39b6",
   "metadata": {},
   "outputs": [],
   "source": []
  }
 ],
 "metadata": {
  "kernelspec": {
   "display_name": "Python 3 (ipykernel)",
   "language": "python",
   "name": "python3"
  },
  "language_info": {
   "codemirror_mode": {
    "name": "ipython",
    "version": 3
   },
   "file_extension": ".py",
   "mimetype": "text/x-python",
   "name": "python",
   "nbconvert_exporter": "python",
   "pygments_lexer": "ipython3",
   "version": "3.11.7"
  }
 },
 "nbformat": 4,
 "nbformat_minor": 5
}
