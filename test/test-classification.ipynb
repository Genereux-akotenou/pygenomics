{
 "cells": [
  {
   "cell_type": "markdown",
   "id": "d696f3fa-0a8b-4a2e-a8e4-5cda6ecb5a18",
   "metadata": {},
   "source": [
    "* **Setup**"
   ]
  },
  {
   "cell_type": "code",
   "execution_count": 1,
   "id": "63719345-b0fc-46ce-bc83-61d2f6e2f487",
   "metadata": {},
   "outputs": [],
   "source": [
    "import sys, os\n",
    "current_directory = os.getcwd()\n",
    "root_directory = os.path.abspath(os.path.join(current_directory, os.pardir))\n",
    "sys.path.append(root_directory)"
   ]
  },
  {
   "cell_type": "markdown",
   "id": "c269ff54-d880-480f-9f99-704714f04a03",
   "metadata": {},
   "source": [
    "* **Import utils**"
   ]
  },
  {
   "cell_type": "code",
   "execution_count": 2,
   "id": "015339cf-7cd7-4063-8354-82b9b80d1e4f",
   "metadata": {},
   "outputs": [],
   "source": [
    "from pretrained.predictor import SingleKModel, MultiKModel"
   ]
  },
  {
   "cell_type": "markdown",
   "id": "66c37aa3-fed9-460d-9642-323aad3cf493",
   "metadata": {},
   "source": [
    "* **Predict**\n",
    "\n",
    "1- Using single K Model"
   ]
  },
  {
   "cell_type": "code",
   "execution_count": 3,
   "id": "9f18ccb5-88da-44bd-b0e4-59af1572101d",
   "metadata": {},
   "outputs": [
    {
     "name": "stderr",
     "output_type": "stream",
     "text": [
      "Predicting: 100%|███████████████████████████████████████████████████████████████████████████████████████████████████| 3/3 [00:00<00:00, 12.64it/s]\n"
     ]
    }
   ],
   "source": [
    "kmodel = SingleKModel(kmer_size=2)\n",
    "kmodel.load(\"Ach_pep_kiwi-medium.fas\", format=\"fasta\")\n",
    "genboard = kmodel.predict()"
   ]
  },
  {
   "cell_type": "code",
   "execution_count": 4,
   "id": "0c7c6329-59f0-4ef5-8334-d021508aa6d0",
   "metadata": {},
   "outputs": [
    {
     "data": {
      "application/vnd.jupyter.widget-view+json": {
       "model_id": "af92beb4b9164623ac4e904077259653",
       "version_major": 2,
       "version_minor": 0
      },
      "text/plain": [
       "Tab(children=(VBox(children=(HBox(children=(FloatSlider(value=0.5, continuous_update=False, description='Thres…"
      ]
     },
     "metadata": {},
     "output_type": "display_data"
    }
   ],
   "source": [
    "genboard.display()"
   ]
  },
  {
   "cell_type": "code",
   "execution_count": 5,
   "id": "2966b337-b635-4660-8fb1-11bfad6f39b6",
   "metadata": {},
   "outputs": [
    {
     "data": {
      "text/html": [
       "\n",
       "        <iframe\n",
       "            width=\"100%\"\n",
       "            height=\"600\"\n",
       "            src=\"https://planttfdb.gao-lab.org/index.php?sp=Ach\"\n",
       "            frameborder=\"0\"\n",
       "            allowfullscreen\n",
       "            \n",
       "        ></iframe>\n",
       "        "
      ],
      "text/plain": [
       "<IPython.lib.display.IFrame at 0x319755810>"
      ]
     },
     "execution_count": 5,
     "metadata": {},
     "output_type": "execute_result"
    }
   ],
   "source": [
    "from IPython.display import IFrame\n",
    "url = \"https://planttfdb.gao-lab.org/index.php?sp=Ach\"\n",
    "IFrame(src=url, width='100%', height=600)"
   ]
  },
  {
   "cell_type": "code",
   "execution_count": 6,
   "id": "e7959e95-0fe5-470d-8848-d392164fcde7",
   "metadata": {},
   "outputs": [
    {
     "data": {
      "text/html": [
       "<div>\n",
       "<style scoped>\n",
       "    .dataframe tbody tr th:only-of-type {\n",
       "        vertical-align: middle;\n",
       "    }\n",
       "\n",
       "    .dataframe tbody tr th {\n",
       "        vertical-align: top;\n",
       "    }\n",
       "\n",
       "    .dataframe thead th {\n",
       "        text-align: right;\n",
       "    }\n",
       "</style>\n",
       "<table border=\"1\" class=\"dataframe\">\n",
       "  <thead>\n",
       "    <tr style=\"text-align: right;\">\n",
       "      <th></th>\n",
       "      <th>AP2</th>\n",
       "      <th>RAV</th>\n",
       "      <th>SAP</th>\n",
       "    </tr>\n",
       "  </thead>\n",
       "  <tbody>\n",
       "    <tr>\n",
       "      <th>0</th>\n",
       "      <td>0.000416</td>\n",
       "      <td>0.005636</td>\n",
       "      <td>0.003001</td>\n",
       "    </tr>\n",
       "    <tr>\n",
       "      <th>1</th>\n",
       "      <td>0.007983</td>\n",
       "      <td>0.000067</td>\n",
       "      <td>0.001355</td>\n",
       "    </tr>\n",
       "    <tr>\n",
       "      <th>2</th>\n",
       "      <td>0.151968</td>\n",
       "      <td>0.001311</td>\n",
       "      <td>0.000745</td>\n",
       "    </tr>\n",
       "    <tr>\n",
       "      <th>3</th>\n",
       "      <td>0.726719</td>\n",
       "      <td>0.000693</td>\n",
       "      <td>0.000107</td>\n",
       "    </tr>\n",
       "    <tr>\n",
       "      <th>4</th>\n",
       "      <td>0.007041</td>\n",
       "      <td>0.002908</td>\n",
       "      <td>0.003754</td>\n",
       "    </tr>\n",
       "    <tr>\n",
       "      <th>...</th>\n",
       "      <td>...</td>\n",
       "      <td>...</td>\n",
       "      <td>...</td>\n",
       "    </tr>\n",
       "    <tr>\n",
       "      <th>708</th>\n",
       "      <td>0.000983</td>\n",
       "      <td>0.005755</td>\n",
       "      <td>0.032432</td>\n",
       "    </tr>\n",
       "    <tr>\n",
       "      <th>709</th>\n",
       "      <td>0.001979</td>\n",
       "      <td>0.006057</td>\n",
       "      <td>0.017093</td>\n",
       "    </tr>\n",
       "    <tr>\n",
       "      <th>710</th>\n",
       "      <td>0.033669</td>\n",
       "      <td>0.015708</td>\n",
       "      <td>0.043545</td>\n",
       "    </tr>\n",
       "    <tr>\n",
       "      <th>711</th>\n",
       "      <td>0.002390</td>\n",
       "      <td>0.030460</td>\n",
       "      <td>0.002632</td>\n",
       "    </tr>\n",
       "    <tr>\n",
       "      <th>712</th>\n",
       "      <td>0.011616</td>\n",
       "      <td>0.001542</td>\n",
       "      <td>0.006248</td>\n",
       "    </tr>\n",
       "  </tbody>\n",
       "</table>\n",
       "<p>713 rows × 3 columns</p>\n",
       "</div>"
      ],
      "text/plain": [
       "          AP2       RAV       SAP\n",
       "0    0.000416  0.005636  0.003001\n",
       "1    0.007983  0.000067  0.001355\n",
       "2    0.151968  0.001311  0.000745\n",
       "3    0.726719  0.000693  0.000107\n",
       "4    0.007041  0.002908  0.003754\n",
       "..        ...       ...       ...\n",
       "708  0.000983  0.005755  0.032432\n",
       "709  0.001979  0.006057  0.017093\n",
       "710  0.033669  0.015708  0.043545\n",
       "711  0.002390  0.030460  0.002632\n",
       "712  0.011616  0.001542  0.006248\n",
       "\n",
       "[713 rows x 3 columns]"
      ]
     },
     "execution_count": 6,
     "metadata": {},
     "output_type": "execute_result"
    }
   ],
   "source": [
    "genboard.prediction"
   ]
  },
  {
   "cell_type": "code",
   "execution_count": 7,
   "id": "db408f46-93fc-43e5-9e8f-0eee526e40db",
   "metadata": {},
   "outputs": [
    {
     "data": {
      "text/plain": [
       "Index(['AP2', 'RAV', 'SAP'], dtype='object')"
      ]
     },
     "execution_count": 7,
     "metadata": {},
     "output_type": "execute_result"
    }
   ],
   "source": [
    "genboard.prediction.columns"
   ]
  },
  {
   "cell_type": "code",
   "execution_count": null,
   "id": "2bad2121-5cbd-4c77-b04b-ff8c8fdb3552",
   "metadata": {},
   "outputs": [],
   "source": []
  }
 ],
 "metadata": {
  "kernelspec": {
   "display_name": "Python 3 (ipykernel)",
   "language": "python",
   "name": "python3"
  },
  "language_info": {
   "codemirror_mode": {
    "name": "ipython",
    "version": 3
   },
   "file_extension": ".py",
   "mimetype": "text/x-python",
   "name": "python",
   "nbconvert_exporter": "python",
   "pygments_lexer": "ipython3",
   "version": "3.11.7"
  }
 },
 "nbformat": 4,
 "nbformat_minor": 5
}
