{
 "cells": [
  {
   "cell_type": "markdown",
   "id": "d696f3fa-0a8b-4a2e-a8e4-5cda6ecb5a18",
   "metadata": {},
   "source": [
    "* **Setup**"
   ]
  },
  {
   "cell_type": "code",
   "execution_count": 1,
   "id": "63719345-b0fc-46ce-bc83-61d2f6e2f487",
   "metadata": {},
   "outputs": [],
   "source": [
    "import sys, os\n",
    "current_directory = os.getcwd()\n",
    "root_directory = os.path.abspath(os.path.join(current_directory, os.pardir))\n",
    "sys.path.append(root_directory)"
   ]
  },
  {
   "cell_type": "markdown",
   "id": "c269ff54-d880-480f-9f99-704714f04a03",
   "metadata": {},
   "source": [
    "* **Import utils**"
   ]
  },
  {
   "cell_type": "code",
   "execution_count": 2,
   "id": "015339cf-7cd7-4063-8354-82b9b80d1e4f",
   "metadata": {},
   "outputs": [
    {
     "name": "stderr",
     "output_type": "stream",
     "text": [
      "[MacBook-Pro-de-Genereux.local:01850] shmem: mmap: an error occurred while determining whether or not /var/folders/w8/b_cflrn97k9c15rcrn5t8mmr0000gn/T//ompi.MacBook-Pro-de-Genereux.501/jf.0/989855744/sm_segment.MacBook-Pro-de-Genereux.501.3b000000.0 could be created.\n"
     ]
    }
   ],
   "source": [
    "from pretrained.predictor import SingleKModel, MultiKModel, OneTestKModel"
   ]
  },
  {
   "cell_type": "markdown",
   "id": "66c37aa3-fed9-460d-9642-323aad3cf493",
   "metadata": {},
   "source": [
    "* **Predict**\n",
    "\n",
    "1- Using single K Model"
   ]
  },
  {
   "cell_type": "code",
   "execution_count": 3,
   "id": "9f18ccb5-88da-44bd-b0e4-59af1572101d",
   "metadata": {},
   "outputs": [
    {
     "name": "stderr",
     "output_type": "stream",
     "text": [
      "Predicting: 100%|███████████████████████████████| 58/58 [00:06<00:00,  8.38it/s]"
     ]
    },
    {
     "name": "stdout",
     "output_type": "stream",
     "text": [
      "(713, 58)\n",
      "(713, 58)\n"
     ]
    },
    {
     "name": "stderr",
     "output_type": "stream",
     "text": [
      "\n"
     ]
    }
   ],
   "source": [
    "kmodel = SingleKModel(kmer_size=2)\n",
    "kmodel.load(\"Ach_pep_kiwi-medium.fas\", format=\"fasta\")\n",
    "#kmodel.load(\"VOZ.csv\", format=\"csv\")\n",
    "genboard = kmodel.predict()"
   ]
  },
  {
   "cell_type": "code",
   "execution_count": 4,
   "id": "0c7c6329-59f0-4ef5-8334-d021508aa6d0",
   "metadata": {},
   "outputs": [
    {
     "data": {
      "application/vnd.jupyter.widget-view+json": {
       "model_id": "681cf9975ae84a10a7a5a387915afc9f",
       "version_major": 2,
       "version_minor": 0
      },
      "text/plain": [
       "Tab(children=(VBox(children=(HBox(children=(FloatSlider(value=0.5, continuous_update=False, description='Thres…"
      ]
     },
     "metadata": {},
     "output_type": "display_data"
    }
   ],
   "source": [
    "genboard.display()"
   ]
  },
  {
   "cell_type": "code",
   "execution_count": 5,
   "id": "1dafb3ac-0c66-49a6-8b8c-8fb2f1b9bd11",
   "metadata": {},
   "outputs": [
    {
     "data": {
      "text/plain": [
       "(713, 58)"
      ]
     },
     "execution_count": 5,
     "metadata": {},
     "output_type": "execute_result"
    }
   ],
   "source": [
    "genboard.prediction.shape"
   ]
  },
  {
   "cell_type": "code",
   "execution_count": null,
   "id": "071a97d7-edc4-4413-954e-b40019d9a87b",
   "metadata": {},
   "outputs": [],
   "source": []
  },
  {
   "cell_type": "code",
   "execution_count": null,
   "id": "8f99ce42-0b38-4e17-846c-3f79d6b91d96",
   "metadata": {},
   "outputs": [],
   "source": []
  },
  {
   "cell_type": "code",
   "execution_count": null,
   "id": "eda31dbc-0cf1-4bd5-ac0c-291b09db7247",
   "metadata": {},
   "outputs": [],
   "source": []
  },
  {
   "cell_type": "code",
   "execution_count": null,
   "id": "0cdc8e96-1a7c-44b8-b07d-d9aa70979622",
   "metadata": {},
   "outputs": [],
   "source": []
  },
  {
   "cell_type": "code",
   "execution_count": null,
   "id": "cfb10f01-617a-4b6e-b85a-bfc816e42b2e",
   "metadata": {},
   "outputs": [],
   "source": []
  },
  {
   "cell_type": "code",
   "execution_count": null,
   "id": "a3b1f3b4-fb09-405e-b55d-8668d0e8791f",
   "metadata": {},
   "outputs": [],
   "source": [
    "#genboard.prediction[\"VOZ\"]\n",
    "#count_sup_0_5 = (genboard.prediction[\"VOZ\"] > 0.5).sum()\n",
    "#count_sup_0_5"
   ]
  },
  {
   "cell_type": "code",
   "execution_count": null,
   "id": "e7f0080d-3e2c-4b1c-ac9c-a0474ad29056",
   "metadata": {
    "scrolled": true
   },
   "outputs": [],
   "source": [
    "#from IPython.display import IFrame\n",
    "#url = \"https://blast.ncbi.nlm.nih.gov/Blast.cgi\"\n",
    "#IFrame(src=url, width='100%', height=600)"
   ]
  },
  {
   "cell_type": "code",
   "execution_count": null,
   "id": "2966b337-b635-4660-8fb1-11bfad6f39b6",
   "metadata": {},
   "outputs": [],
   "source": [
    "#from IPython.display import IFrame\n",
    "#url = \"https://planttfdb.gao-lab.org/index.php?sp=Ach\"\n",
    "#IFrame(src=url, width='100%', height=600)"
   ]
  },
  {
   "cell_type": "markdown",
   "id": "41386e72-1a7c-4fa9-b6bb-7e4014adfd94",
   "metadata": {},
   "source": [
    "* **Single sequence test**"
   ]
  },
  {
   "cell_type": "code",
   "execution_count": null,
   "id": "2a9e57bc-a818-4d28-9f1c-3e58e49c3706",
   "metadata": {},
   "outputs": [],
   "source": [
    "TEST_SEQ = \"\"\"\n",
    "MLDLNLSFARDEEYVSITEKFPEGSGGGAMDESGTSNSSIVNAEDDDSCSTRTSSGEIFA\n",
    "FNFDILKVGGEFNNTTSDENRMTRSEFVTRQLFPATESSSAASLFRPNWVDLSFDQASPS\n",
    "GVQEVRVVQQQQGKKSRRGPRSRSSQYRGVTFYRRTGRWESHIWAYDKAAIKCNGREAVT\n",
    "NFEPSEYEGEMISEVNDGAPCSSLWAYVVFNALNAGSVHNLDLNLGISIPSSGDGTKDNE\n",
    "SSGRFQFHPYDVHDMENPTSTIAGKQSLKELTMTSDHPPLWTGAYPNFFPNYEERARTQG\n",
    "NEGGSSQGSPNWLWKMHTAASSGFSSAPTTAFSASLHPSKFPNSTTLNLGFSPSPAAITN\n",
    "SQYHYQMSPLQPPP\"\"\""
   ]
  },
  {
   "cell_type": "code",
   "execution_count": null,
   "id": "8a346b62-a98f-4244-ab87-46d60287a5c0",
   "metadata": {},
   "outputs": [],
   "source": [
    "OneKmodel = OneTestKModel(kmer_size=2)\n",
    "OneKmodel.process_sequence(TEST_SEQ)\n",
    "result = OneKmodel.analyze()\n",
    "result"
   ]
  },
  {
   "cell_type": "code",
   "execution_count": null,
   "id": "b93425dc-6977-425a-a370-dd35c3daa287",
   "metadata": {},
   "outputs": [],
   "source": []
  }
 ],
 "metadata": {
  "kernelspec": {
   "display_name": "Python 3 (ipykernel)",
   "language": "python",
   "name": "python3"
  },
  "language_info": {
   "codemirror_mode": {
    "name": "ipython",
    "version": 3
   },
   "file_extension": ".py",
   "mimetype": "text/x-python",
   "name": "python",
   "nbconvert_exporter": "python",
   "pygments_lexer": "ipython3",
   "version": "3.11.8"
  }
 },
 "nbformat": 4,
 "nbformat_minor": 5
}
